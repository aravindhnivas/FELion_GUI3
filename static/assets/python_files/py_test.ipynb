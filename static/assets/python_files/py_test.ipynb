{
 "metadata": {
  "language_info": {
   "codemirror_mode": {
    "name": "ipython",
    "version": 3
   },
   "file_extension": ".py",
   "mimetype": "text/x-python",
   "name": "python",
   "nbconvert_exporter": "python",
   "pygments_lexer": "ipython3",
   "version": "3.8.3"
  },
  "orig_nbformat": 2,
  "kernelspec": {
   "name": "python383jvsc74a57bd05169fa4ceccb8898af6539985de99c31ec80f328ecf0dcc120c0b962b90dfe51",
   "display_name": "Python 3.8.3 64-bit (conda)"
  }
 },
 "nbformat": 4,
 "nbformat_minor": 2,
 "cells": [
  {
   "cell_type": "code",
   "execution_count": 1,
   "metadata": {},
   "outputs": [],
   "source": [
    "import numpy as np"
   ]
  },
  {
   "cell_type": "code",
   "execution_count": 104,
   "metadata": {},
   "outputs": [
    {
     "output_type": "stream",
     "name": "stdout",
     "text": [
      "N=[0, 1, 2]\nJ=[[0.5], [1.5, 0.5], [2.5, 1.5]]\nmJ=[[[-0.5, 0.5]], [[-1.5, -0.5, 0.5, 1.5], [-0.5, 0.5]], [[-2.5, -1.5, -0.5, 0.5, 1.5, 2.5], [-1.5, -0.5, 0.5, 1.5]]]\nenergy_level_info=[[[-0.5, 0.5]], [[-1.5, -0.5, 0.5, 1.5], [-0.5, 0.5]], [[-2.5, -1.5, -0.5, 0.5, 1.5, 2.5], [-1.5, -0.5, 0.5, 1.5]]]\n"
     ]
    }
   ],
   "source": [
    "total_level = 3\n",
    "spin = True\n",
    "zeeman = True\n",
    "\n",
    "energy_level_info = {\"spin\":spin, \"zeeman\":zeeman}\n",
    "\n",
    "N = [i for i in range(total_level)]\n",
    "\n",
    "print(f\"{N=:}\")\n",
    "\n",
    "if spin:\n",
    "    J = total_level*[0]\n",
    "    for level in N:\n",
    "        if level == 0: J[level] = [level+0.5]\n",
    "        else: J[level] = [level+0.5, level-0.5]\n",
    "\n",
    "    print(f\"{J=:}\")\n",
    "\n",
    "\n",
    "if zeeman:\n",
    "    \n",
    "    if spin:\n",
    "        mJ = total_level*[0]\n",
    "        for index, level in enumerate(J):\n",
    "        \n",
    "            current_level = []\n",
    "            for j in level:\n",
    "                total_mJ = int(2*j + 1)\n",
    "                temp = np.linspace(-j, j, total_mJ).tolist()\n",
    "                current_level.append(temp)\n",
    "            mJ[index] = current_level\n",
    "        print(f\"{mJ=:}\")\n",
    "    else:\n",
    "        mN = total_level*[0]\n",
    "        for index, level in enumerate(N):\n",
    "            total_mJ = int(2*level + 1)\n",
    "            mN[index] = np.linspace(-level, level, total_mJ, dtype=int).tolist()\n",
    "            \n",
    "        print(f\"{mN=:}\")\n",
    "\n",
    "energy_level_info = None\n",
    "if spin and not zeeman: energy_level_info = J\n",
    "elif spin and zeeman: energy_level_info = mJ\n",
    "elif not spin and zeeman: energy_level_info = mN\n",
    "else: energy_level_info = N\n",
    "print(f\"{energy_level_info=:}\")"
   ]
  },
  {
   "cell_type": "code",
   "execution_count": 100,
   "metadata": {},
   "outputs": [
    {
     "output_type": "stream",
     "name": "stdout",
     "text": [
      "Level: 0 \n----\n0 [[-0.5, 0.5]]\n0 0 [-0.5, 0.5]\n0 0 0 -0.5\n0 0 1 0.5\n----\nLevel: 1 \n----\n1 [[-1.5, -0.5, 0.5, 1.5], [-0.5, 0.5]]\n1 0 [-1.5, -0.5, 0.5, 1.5]\n1 0 0 -1.5\n1 0 1 -0.5\n1 0 2 0.5\n1 0 3 1.5\n1 1 [-0.5, 0.5]\n1 1 0 -0.5\n1 1 1 0.5\n----\nLevel: 2 \n----\n2 [[-2.5, -1.5, -0.5, 0.5, 1.5, 2.5], [-1.5, -0.5, 0.5, 1.5]]\n2 0 [-2.5, -1.5, -0.5, 0.5, 1.5, 2.5]\n2 0 0 -2.5\n2 0 1 -1.5\n2 0 2 -0.5\n2 0 3 0.5\n2 0 4 1.5\n2 0 5 2.5\n2 1 [-1.5, -0.5, 0.5, 1.5]\n2 1 0 -1.5\n2 1 1 -0.5\n2 1 2 0.5\n2 1 3 1.5\n----\n"
     ]
    }
   ],
   "source": [
    "for index_0, level_0 in enumerate(mJ):\n",
    "    print(\"Level:\", index_0, \"\\n----\")\n",
    "    print(index_0, mJ[index_0])\n",
    "    for index_1, level_1 in enumerate(level_0):\n",
    "        print(index_0, index_1, mJ[index_0][index_1])\n",
    "        for index_2, level_2 in enumerate(level_1):\n",
    "            print(index_0, index_1, index_2, mJ[index_0][index_1][index_2])\n",
    "    print(\"----\")"
   ]
  },
  {
   "cell_type": "code",
   "execution_count": 36,
   "metadata": {},
   "outputs": [
    {
     "output_type": "execute_result",
     "data": {
      "text/plain": [
       "array([0, 0, 0], dtype=object)"
      ]
     },
     "metadata": {},
     "execution_count": 36
    }
   ],
   "source": []
  },
  {
   "cell_type": "code",
   "execution_count": null,
   "metadata": {},
   "outputs": [],
   "source": []
  },
  {
   "cell_type": "code",
   "execution_count": null,
   "metadata": {},
   "outputs": [],
   "source": []
  },
  {
   "cell_type": "code",
   "execution_count": null,
   "metadata": {},
   "outputs": [],
   "source": []
  }
 ]
}