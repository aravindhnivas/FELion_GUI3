{
 "cells": [
  {
   "cell_type": "code",
   "execution_count": 1,
   "metadata": {},
   "outputs": [
    {
     "data": {
      "text/plain": [
       "'D:\\\\FELion_GUI3\\\\static\\\\assets\\\\python_files\\\\ODE'"
      ]
     },
     "execution_count": 1,
     "metadata": {},
     "output_type": "execute_result"
    }
   ],
   "source": [
    "import os\n",
    "import ctypes\n",
    "from symfit import variables, Parameter, ODEModel, D, Fit, parameters, Variable\n",
    "import numpy as np\n",
    "from uncertainties import ufloat as uf\n",
    "from scipy.optimize import curve_fit\n",
    "import matplotlib.pyplot as plt\n",
    "from scipy.integrate import solve_ivp\n",
    "from pathlib import Path as pt\n",
    "from ipywidgets import widgets\n",
    "from timescan import timescanplot\n",
    "from time import time as start_time\n",
    "os.getcwd()"
   ]
  },
  {
   "cell_type": "code",
   "execution_count": 2,
   "metadata": {},
   "outputs": [],
   "source": [
    "%matplotlib inline"
   ]
  },
  {
   "cell_type": "code",
   "execution_count": 3,
   "metadata": {},
   "outputs": [
    {
     "data": {
      "text/html": [
       "        <script type=\"text/javascript\">\n",
       "        window.PlotlyConfig = {MathJaxConfig: 'local'};\n",
       "        if (window.MathJax) {MathJax.Hub.Config({SVG: {font: \"STIX-Web\"}});}\n",
       "        if (typeof require !== 'undefined') {\n",
       "        require.undef(\"plotly\");\n",
       "        requirejs.config({\n",
       "            paths: {\n",
       "                'plotly': ['https://cdn.plot.ly/plotly-latest.min']\n",
       "            }\n",
       "        });\n",
       "        require(['plotly'], function(Plotly) {\n",
       "            window._Plotly = Plotly;\n",
       "        });\n",
       "        }\n",
       "        </script>\n",
       "        "
      ]
     },
     "metadata": {},
     "output_type": "display_data"
    }
   ],
   "source": [
    "import plotly.graph_objs as go\n",
    "from plotly.offline import init_notebook_mode, iplot\n",
    "init_notebook_mode(connected=True)"
   ]
  },
  {
   "cell_type": "code",
   "execution_count": 24,
   "metadata": {},
   "outputs": [],
   "source": [
    "def definingParameter(value):\n",
    "    exec(value)\n",
    "    return locals()\n",
    "\n",
    "def getValfromAddress(address):\n",
    "    return ctypes.cast(address, ctypes.py_object).value\n",
    "\n",
    "def getValfromVariable(variable):\n",
    "    address = id(variable)\n",
    "    return getValfromAddress(address)"
   ]
  },
  {
   "cell_type": "code",
   "execution_count": 25,
   "metadata": {},
   "outputs": [],
   "source": [
    "import string\n",
    "alphabets = string.ascii_uppercase"
   ]
  },
  {
   "cell_type": "code",
   "execution_count": 5,
   "metadata": {},
   "outputs": [
    {
     "data": {
      "application/vnd.plotly.v1+json": {
       "config": {
        "linkText": "Export to plot.ly",
        "plotlyServerURL": "https://plot.ly",
        "showLink": false
       },
       "data": [
        {
         "error_y": {
          "array": [
           18,
           81.5,
           42,
           40,
           27,
           68.5,
           19,
           14,
           18.5,
           121.5,
           63,
           3,
           75,
           191,
           107,
           83.5,
           58.5,
           34.5,
           75,
           87,
           66,
           62,
           24,
           53.5,
           39.5,
           61.5,
           42.5,
           90.5,
           23.5,
           75.5,
           27.5
          ],
          "type": "data",
          "visible": true
         },
         "mode": "lines+markers",
         "name": "13.9u[2]; B0:50ms; Res: 1.5",
         "type": "scatter",
         "visible": true,
         "x": [
          0,
          153.333,
          306.667,
          460,
          613.333,
          766.667,
          920,
          1073.333,
          1226.667,
          1380,
          1533.333,
          1686.667,
          1840,
          1993.333,
          2146.667,
          2300,
          2453.333,
          2606.667,
          2760,
          2913.333,
          3066.667,
          3220,
          3373.333,
          3526.667,
          3680,
          3833.333,
          3986.667,
          4140,
          4293.333,
          4446.667,
          4600
         ],
         "y": [
          1547,
          5269.5,
          4822,
          4559,
          4279,
          3978.5,
          3703,
          3388,
          3181.5,
          3014.5,
          2742,
          2609,
          2343,
          2262,
          2127,
          1912.5,
          1830.5,
          1652.5,
          1594,
          1494,
          1357,
          1275,
          1193,
          1074.5,
          1017.5,
          973.5,
          943.5,
          874.5,
          762.5,
          783.5,
          706.5
         ]
        },
        {
         "error_y": {
          "array": [
           1,
           3,
           16,
           4.5,
           4.5,
           7,
           4.5,
           20.5,
           14.5,
           27,
           7.5,
           35.5,
           16,
           16.5,
           8,
           3.5,
           1,
           10,
           26.5,
           4,
           3,
           33,
           28,
           2,
           18.5,
           1,
           14.5,
           13.5,
           8,
           2.5,
           15
          ],
          "type": "data",
          "visible": true
         },
         "mode": "lines+markers",
         "name": "17.9u[2]; B0:50ms; Res: 1.5",
         "type": "scatter",
         "visible": true,
         "x": [
          0,
          153.333,
          306.667,
          460,
          613.333,
          766.667,
          920,
          1073.333,
          1226.667,
          1380,
          1533.333,
          1686.667,
          1840,
          1993.333,
          2146.667,
          2300,
          2453.333,
          2606.667,
          2760,
          2913.333,
          3066.667,
          3220,
          3373.333,
          3526.667,
          3680,
          3833.333,
          3986.667,
          4140,
          4293.333,
          4446.667,
          4600
         ],
         "y": [
          7,
          115,
          229,
          292.5,
          378.5,
          341,
          392.5,
          411.5,
          406.5,
          384,
          379.5,
          399.5,
          373,
          353.5,
          353,
          300.5,
          307,
          297,
          315.5,
          281,
          307,
          289,
          253,
          253,
          249.5,
          243,
          246.5,
          245.5,
          233,
          212.5,
          232
         ]
        },
        {
         "error_y": {
          "array": [
           0.5,
           0.5,
           1,
           1.5,
           1,
           1,
           10,
           15,
           8.5,
           9.5,
           7,
           7,
           22.5,
           11,
           2.5,
           13.5,
           14,
           0,
           23.5,
           0,
           2,
           7.5,
           3.5,
           5.5,
           10.5,
           10.5,
           12,
           18.5,
           21,
           3.5,
           13
          ],
          "type": "data",
          "visible": true
         },
         "mode": "lines+markers",
         "name": "21.9u[2]; B0:50ms; Res: 1.5",
         "type": "scatter",
         "visible": true,
         "x": [
          0,
          153.333,
          306.667,
          460,
          613.333,
          766.667,
          920,
          1073.333,
          1226.667,
          1380,
          1533.333,
          1686.667,
          1840,
          1993.333,
          2146.667,
          2300,
          2453.333,
          2606.667,
          2760,
          2913.333,
          3066.667,
          3220,
          3373.333,
          3526.667,
          3680,
          3833.333,
          3986.667,
          4140,
          4293.333,
          4446.667,
          4600
         ],
         "y": [
          4.5,
          17.5,
          36,
          71.5,
          95,
          105,
          138,
          148,
          164.5,
          188.5,
          171,
          207,
          218.5,
          227,
          217.5,
          244.5,
          250,
          268,
          298.5,
          233,
          306,
          267.5,
          292.5,
          280.5,
          294.5,
          295.5,
          297,
          303.5,
          311,
          309.5,
          300
         ]
        },
        {
         "error_y": {
          "array": [
           1,
           2.5,
           0.5,
           1,
           1,
           4,
           4,
           0,
           21.5,
           8,
           2.5,
           2.5,
           21.5,
           13,
           10,
           5,
           2.5,
           1,
           2.5,
           6,
           0,
           11,
           26.5,
           13.5,
           17.5,
           6,
           0.5,
           1,
           9.5,
           8,
           23.5
          ],
          "type": "data",
          "visible": true
         },
         "mode": "lines+markers",
         "name": "25.9u[2]; B0:50ms; Res: 1.5",
         "type": "scatter",
         "visible": true,
         "x": [
          0,
          153.333,
          306.667,
          460,
          613.333,
          766.667,
          920,
          1073.333,
          1226.667,
          1380,
          1533.333,
          1686.667,
          1840,
          1993.333,
          2146.667,
          2300,
          2453.333,
          2606.667,
          2760,
          2913.333,
          3066.667,
          3220,
          3373.333,
          3526.667,
          3680,
          3833.333,
          3986.667,
          4140,
          4293.333,
          4446.667,
          4600
         ],
         "y": [
          7,
          11.5,
          6.5,
          22,
          43,
          43,
          70,
          75,
          110.5,
          130,
          151.5,
          162.5,
          187.5,
          205,
          199,
          205,
          234.5,
          238,
          263.5,
          254,
          282,
          286,
          282.5,
          309.5,
          345.5,
          304,
          310.5,
          337,
          320.5,
          365,
          318.5
         ]
        },
        {
         "error_y": {
          "array": [
           0,
           3.5,
           5,
           2,
           2,
           9.5,
           2.5,
           9,
           11.5,
           0.5,
           0,
           5,
           5.5,
           3,
           15,
           23,
           8.5,
           6,
           18,
           1.5,
           7,
           3.5,
           19.5,
           1.5,
           15.5,
           12.5,
           6.5,
           4,
           2.5,
           1,
           11
          ],
          "type": "data",
          "visible": true
         },
         "mode": "lines+markers",
         "name": "29.9u[2]; B0:50ms; Res: 1.5",
         "type": "scatter",
         "visible": true,
         "x": [
          0,
          153.333,
          306.667,
          460,
          613.333,
          766.667,
          920,
          1073.333,
          1226.667,
          1380,
          1533.333,
          1686.667,
          1840,
          1993.333,
          2146.667,
          2300,
          2453.333,
          2606.667,
          2760,
          2913.333,
          3066.667,
          3220,
          3373.333,
          3526.667,
          3680,
          3833.333,
          3986.667,
          4140,
          4293.333,
          4446.667,
          4600
         ],
         "y": [
          9,
          12.5,
          11,
          15,
          14,
          39.5,
          37.5,
          39,
          52.5,
          68.5,
          77,
          84,
          98.5,
          113,
          115,
          122,
          152.5,
          163,
          172,
          171.5,
          192,
          189.5,
          225.5,
          211.5,
          223.5,
          231.5,
          240.5,
          295,
          269.5,
          257,
          275
         ]
        },
        {
         "error_y": {
          "array": [
           1,
           1,
           1.5,
           1,
           1,
           2,
           1.5,
           4,
           0,
           3.5,
           2,
           2,
           0.5,
           9.5,
           2.5,
           3,
           16,
           1.5,
           9.5,
           5.5,
           1.5,
           0,
           4.5,
           8.5,
           0,
           0,
           6.5,
           13,
           2.5,
           5.5,
           7.5
          ],
          "type": "data",
          "visible": true
         },
         "mode": "lines+markers",
         "name": "33.9u[2]; B0:50ms; Res: 1.5",
         "type": "scatter",
         "visible": true,
         "x": [
          0,
          153.333,
          306.667,
          460,
          613.333,
          766.667,
          920,
          1073.333,
          1226.667,
          1380,
          1533.333,
          1686.667,
          1840,
          1993.333,
          2146.667,
          2300,
          2453.333,
          2606.667,
          2760,
          2913.333,
          3066.667,
          3220,
          3373.333,
          3526.667,
          3680,
          3833.333,
          3986.667,
          4140,
          4293.333,
          4446.667,
          4600
         ],
         "y": [
          7,
          5,
          7.5,
          6,
          4,
          8,
          6.5,
          9,
          8,
          9.5,
          11,
          18,
          11.5,
          27.5,
          18.5,
          20,
          35,
          32.5,
          30.5,
          37.5,
          33.5,
          37,
          32.5,
          48.5,
          45,
          41,
          50.5,
          53,
          40.5,
          58.5,
          46.5
         ]
        },
        {
         "error_y": {
          "array": [
           21.5,
           92,
           66,
           50,
           36.5,
           92,
           41.5,
           62.5,
           74.5,
           170,
           82,
           55,
           141,
           244,
           145,
           131.5,
           100.5,
           53,
           155,
           104,
           79.5,
           117,
           106,
           84.5,
           101.5,
           91.5,
           82.5,
           140.5,
           67,
           96,
           97.5
          ],
          "type": "data",
          "visible": true
         },
         "line": {
          "color": "black"
         },
         "mode": "lines+markers",
         "name": "SUM",
         "type": "scatter",
         "visible": true,
         "x": [
          0,
          153.333,
          306.667,
          460,
          613.333,
          766.667,
          920,
          1073.333,
          1226.667,
          1380,
          1533.333,
          1686.667,
          1840,
          1993.333,
          2146.667,
          2300,
          2453.333,
          2606.667,
          2760,
          2913.333,
          3066.667,
          3220,
          3373.333,
          3526.667,
          3680,
          3833.333,
          3986.667,
          4140,
          4293.333,
          4446.667,
          4600
         ],
         "y": [
          1581.5,
          5431,
          5112,
          4966,
          4813.5,
          4515,
          4347.5,
          4070.5,
          3923.5,
          3795,
          3532,
          3480,
          3232,
          3188,
          3030,
          2804.5,
          2809.5,
          2651,
          2674,
          2471,
          2477.5,
          2344,
          2279,
          2177.5,
          2175.5,
          2088.5,
          2088.5,
          2108.5,
          1937,
          1986,
          1878.5
         ]
        }
       ],
       "layout": {
        "autosize": true,
        "template": {
         "data": {
          "bar": [
           {
            "error_x": {
             "color": "#2a3f5f"
            },
            "error_y": {
             "color": "#2a3f5f"
            },
            "marker": {
             "line": {
              "color": "#E5ECF6",
              "width": 0.5
             }
            },
            "type": "bar"
           }
          ],
          "barpolar": [
           {
            "marker": {
             "line": {
              "color": "#E5ECF6",
              "width": 0.5
             }
            },
            "type": "barpolar"
           }
          ],
          "carpet": [
           {
            "aaxis": {
             "endlinecolor": "#2a3f5f",
             "gridcolor": "white",
             "linecolor": "white",
             "minorgridcolor": "white",
             "startlinecolor": "#2a3f5f"
            },
            "baxis": {
             "endlinecolor": "#2a3f5f",
             "gridcolor": "white",
             "linecolor": "white",
             "minorgridcolor": "white",
             "startlinecolor": "#2a3f5f"
            },
            "type": "carpet"
           }
          ],
          "choropleth": [
           {
            "colorbar": {
             "outlinewidth": 0,
             "ticks": ""
            },
            "type": "choropleth"
           }
          ],
          "contour": [
           {
            "colorbar": {
             "outlinewidth": 0,
             "ticks": ""
            },
            "colorscale": [
             [
              0,
              "#0d0887"
             ],
             [
              0.1111111111111111,
              "#46039f"
             ],
             [
              0.2222222222222222,
              "#7201a8"
             ],
             [
              0.3333333333333333,
              "#9c179e"
             ],
             [
              0.4444444444444444,
              "#bd3786"
             ],
             [
              0.5555555555555556,
              "#d8576b"
             ],
             [
              0.6666666666666666,
              "#ed7953"
             ],
             [
              0.7777777777777778,
              "#fb9f3a"
             ],
             [
              0.8888888888888888,
              "#fdca26"
             ],
             [
              1,
              "#f0f921"
             ]
            ],
            "type": "contour"
           }
          ],
          "contourcarpet": [
           {
            "colorbar": {
             "outlinewidth": 0,
             "ticks": ""
            },
            "type": "contourcarpet"
           }
          ],
          "heatmap": [
           {
            "colorbar": {
             "outlinewidth": 0,
             "ticks": ""
            },
            "colorscale": [
             [
              0,
              "#0d0887"
             ],
             [
              0.1111111111111111,
              "#46039f"
             ],
             [
              0.2222222222222222,
              "#7201a8"
             ],
             [
              0.3333333333333333,
              "#9c179e"
             ],
             [
              0.4444444444444444,
              "#bd3786"
             ],
             [
              0.5555555555555556,
              "#d8576b"
             ],
             [
              0.6666666666666666,
              "#ed7953"
             ],
             [
              0.7777777777777778,
              "#fb9f3a"
             ],
             [
              0.8888888888888888,
              "#fdca26"
             ],
             [
              1,
              "#f0f921"
             ]
            ],
            "type": "heatmap"
           }
          ],
          "heatmapgl": [
           {
            "colorbar": {
             "outlinewidth": 0,
             "ticks": ""
            },
            "colorscale": [
             [
              0,
              "#0d0887"
             ],
             [
              0.1111111111111111,
              "#46039f"
             ],
             [
              0.2222222222222222,
              "#7201a8"
             ],
             [
              0.3333333333333333,
              "#9c179e"
             ],
             [
              0.4444444444444444,
              "#bd3786"
             ],
             [
              0.5555555555555556,
              "#d8576b"
             ],
             [
              0.6666666666666666,
              "#ed7953"
             ],
             [
              0.7777777777777778,
              "#fb9f3a"
             ],
             [
              0.8888888888888888,
              "#fdca26"
             ],
             [
              1,
              "#f0f921"
             ]
            ],
            "type": "heatmapgl"
           }
          ],
          "histogram": [
           {
            "marker": {
             "colorbar": {
              "outlinewidth": 0,
              "ticks": ""
             }
            },
            "type": "histogram"
           }
          ],
          "histogram2d": [
           {
            "colorbar": {
             "outlinewidth": 0,
             "ticks": ""
            },
            "colorscale": [
             [
              0,
              "#0d0887"
             ],
             [
              0.1111111111111111,
              "#46039f"
             ],
             [
              0.2222222222222222,
              "#7201a8"
             ],
             [
              0.3333333333333333,
              "#9c179e"
             ],
             [
              0.4444444444444444,
              "#bd3786"
             ],
             [
              0.5555555555555556,
              "#d8576b"
             ],
             [
              0.6666666666666666,
              "#ed7953"
             ],
             [
              0.7777777777777778,
              "#fb9f3a"
             ],
             [
              0.8888888888888888,
              "#fdca26"
             ],
             [
              1,
              "#f0f921"
             ]
            ],
            "type": "histogram2d"
           }
          ],
          "histogram2dcontour": [
           {
            "colorbar": {
             "outlinewidth": 0,
             "ticks": ""
            },
            "colorscale": [
             [
              0,
              "#0d0887"
             ],
             [
              0.1111111111111111,
              "#46039f"
             ],
             [
              0.2222222222222222,
              "#7201a8"
             ],
             [
              0.3333333333333333,
              "#9c179e"
             ],
             [
              0.4444444444444444,
              "#bd3786"
             ],
             [
              0.5555555555555556,
              "#d8576b"
             ],
             [
              0.6666666666666666,
              "#ed7953"
             ],
             [
              0.7777777777777778,
              "#fb9f3a"
             ],
             [
              0.8888888888888888,
              "#fdca26"
             ],
             [
              1,
              "#f0f921"
             ]
            ],
            "type": "histogram2dcontour"
           }
          ],
          "mesh3d": [
           {
            "colorbar": {
             "outlinewidth": 0,
             "ticks": ""
            },
            "type": "mesh3d"
           }
          ],
          "parcoords": [
           {
            "line": {
             "colorbar": {
              "outlinewidth": 0,
              "ticks": ""
             }
            },
            "type": "parcoords"
           }
          ],
          "pie": [
           {
            "automargin": true,
            "type": "pie"
           }
          ],
          "scatter": [
           {
            "marker": {
             "colorbar": {
              "outlinewidth": 0,
              "ticks": ""
             }
            },
            "type": "scatter"
           }
          ],
          "scatter3d": [
           {
            "line": {
             "colorbar": {
              "outlinewidth": 0,
              "ticks": ""
             }
            },
            "marker": {
             "colorbar": {
              "outlinewidth": 0,
              "ticks": ""
             }
            },
            "type": "scatter3d"
           }
          ],
          "scattercarpet": [
           {
            "marker": {
             "colorbar": {
              "outlinewidth": 0,
              "ticks": ""
             }
            },
            "type": "scattercarpet"
           }
          ],
          "scattergeo": [
           {
            "marker": {
             "colorbar": {
              "outlinewidth": 0,
              "ticks": ""
             }
            },
            "type": "scattergeo"
           }
          ],
          "scattergl": [
           {
            "marker": {
             "colorbar": {
              "outlinewidth": 0,
              "ticks": ""
             }
            },
            "type": "scattergl"
           }
          ],
          "scattermapbox": [
           {
            "marker": {
             "colorbar": {
              "outlinewidth": 0,
              "ticks": ""
             }
            },
            "type": "scattermapbox"
           }
          ],
          "scatterpolar": [
           {
            "marker": {
             "colorbar": {
              "outlinewidth": 0,
              "ticks": ""
             }
            },
            "type": "scatterpolar"
           }
          ],
          "scatterpolargl": [
           {
            "marker": {
             "colorbar": {
              "outlinewidth": 0,
              "ticks": ""
             }
            },
            "type": "scatterpolargl"
           }
          ],
          "scatterternary": [
           {
            "marker": {
             "colorbar": {
              "outlinewidth": 0,
              "ticks": ""
             }
            },
            "type": "scatterternary"
           }
          ],
          "surface": [
           {
            "colorbar": {
             "outlinewidth": 0,
             "ticks": ""
            },
            "colorscale": [
             [
              0,
              "#0d0887"
             ],
             [
              0.1111111111111111,
              "#46039f"
             ],
             [
              0.2222222222222222,
              "#7201a8"
             ],
             [
              0.3333333333333333,
              "#9c179e"
             ],
             [
              0.4444444444444444,
              "#bd3786"
             ],
             [
              0.5555555555555556,
              "#d8576b"
             ],
             [
              0.6666666666666666,
              "#ed7953"
             ],
             [
              0.7777777777777778,
              "#fb9f3a"
             ],
             [
              0.8888888888888888,
              "#fdca26"
             ],
             [
              1,
              "#f0f921"
             ]
            ],
            "type": "surface"
           }
          ],
          "table": [
           {
            "cells": {
             "fill": {
              "color": "#EBF0F8"
             },
             "line": {
              "color": "white"
             }
            },
            "header": {
             "fill": {
              "color": "#C8D4E3"
             },
             "line": {
              "color": "white"
             }
            },
            "type": "table"
           }
          ]
         },
         "layout": {
          "annotationdefaults": {
           "arrowcolor": "#2a3f5f",
           "arrowhead": 0,
           "arrowwidth": 1
          },
          "coloraxis": {
           "colorbar": {
            "outlinewidth": 0,
            "ticks": ""
           }
          },
          "colorscale": {
           "diverging": [
            [
             0,
             "#8e0152"
            ],
            [
             0.1,
             "#c51b7d"
            ],
            [
             0.2,
             "#de77ae"
            ],
            [
             0.3,
             "#f1b6da"
            ],
            [
             0.4,
             "#fde0ef"
            ],
            [
             0.5,
             "#f7f7f7"
            ],
            [
             0.6,
             "#e6f5d0"
            ],
            [
             0.7,
             "#b8e186"
            ],
            [
             0.8,
             "#7fbc41"
            ],
            [
             0.9,
             "#4d9221"
            ],
            [
             1,
             "#276419"
            ]
           ],
           "sequential": [
            [
             0,
             "#0d0887"
            ],
            [
             0.1111111111111111,
             "#46039f"
            ],
            [
             0.2222222222222222,
             "#7201a8"
            ],
            [
             0.3333333333333333,
             "#9c179e"
            ],
            [
             0.4444444444444444,
             "#bd3786"
            ],
            [
             0.5555555555555556,
             "#d8576b"
            ],
            [
             0.6666666666666666,
             "#ed7953"
            ],
            [
             0.7777777777777778,
             "#fb9f3a"
            ],
            [
             0.8888888888888888,
             "#fdca26"
            ],
            [
             1,
             "#f0f921"
            ]
           ],
           "sequentialminus": [
            [
             0,
             "#0d0887"
            ],
            [
             0.1111111111111111,
             "#46039f"
            ],
            [
             0.2222222222222222,
             "#7201a8"
            ],
            [
             0.3333333333333333,
             "#9c179e"
            ],
            [
             0.4444444444444444,
             "#bd3786"
            ],
            [
             0.5555555555555556,
             "#d8576b"
            ],
            [
             0.6666666666666666,
             "#ed7953"
            ],
            [
             0.7777777777777778,
             "#fb9f3a"
            ],
            [
             0.8888888888888888,
             "#fdca26"
            ],
            [
             1,
             "#f0f921"
            ]
           ]
          },
          "colorway": [
           "#636efa",
           "#EF553B",
           "#00cc96",
           "#ab63fa",
           "#FFA15A",
           "#19d3f3",
           "#FF6692",
           "#B6E880",
           "#FF97FF",
           "#FECB52"
          ],
          "font": {
           "color": "#2a3f5f"
          },
          "geo": {
           "bgcolor": "white",
           "lakecolor": "white",
           "landcolor": "#E5ECF6",
           "showlakes": true,
           "showland": true,
           "subunitcolor": "white"
          },
          "hoverlabel": {
           "align": "left"
          },
          "hovermode": "closest",
          "mapbox": {
           "style": "light"
          },
          "paper_bgcolor": "white",
          "plot_bgcolor": "#E5ECF6",
          "polar": {
           "angularaxis": {
            "gridcolor": "white",
            "linecolor": "white",
            "ticks": ""
           },
           "bgcolor": "#E5ECF6",
           "radialaxis": {
            "gridcolor": "white",
            "linecolor": "white",
            "ticks": ""
           }
          },
          "scene": {
           "xaxis": {
            "backgroundcolor": "#E5ECF6",
            "gridcolor": "white",
            "gridwidth": 2,
            "linecolor": "white",
            "showbackground": true,
            "ticks": "",
            "zerolinecolor": "white"
           },
           "yaxis": {
            "backgroundcolor": "#E5ECF6",
            "gridcolor": "white",
            "gridwidth": 2,
            "linecolor": "white",
            "showbackground": true,
            "ticks": "",
            "zerolinecolor": "white"
           },
           "zaxis": {
            "backgroundcolor": "#E5ECF6",
            "gridcolor": "white",
            "gridwidth": 2,
            "linecolor": "white",
            "showbackground": true,
            "ticks": "",
            "zerolinecolor": "white"
           }
          },
          "shapedefaults": {
           "line": {
            "color": "#2a3f5f"
           }
          },
          "ternary": {
           "aaxis": {
            "gridcolor": "white",
            "linecolor": "white",
            "ticks": ""
           },
           "baxis": {
            "gridcolor": "white",
            "linecolor": "white",
            "ticks": ""
           },
           "bgcolor": "#E5ECF6",
           "caxis": {
            "gridcolor": "white",
            "linecolor": "white",
            "ticks": ""
           }
          },
          "title": {
           "x": 0.05
          },
          "xaxis": {
           "automargin": true,
           "gridcolor": "white",
           "linecolor": "white",
           "ticks": "",
           "title": {
            "standoff": 15
           },
           "zerolinecolor": "white",
           "zerolinewidth": 2
          },
          "yaxis": {
           "automargin": true,
           "gridcolor": "white",
           "linecolor": "white",
           "ticks": "",
           "title": {
            "standoff": 15
           },
           "zerolinecolor": "white",
           "zerolinewidth": 2
          }
         }
        },
        "xaxis": {
         "autorange": true,
         "range": [
          -275.82487309644677,
          4875.824873096447
         ],
         "type": "linear"
        },
        "yaxis": {
         "autorange": true,
         "range": [
          -393.9216300940439,
          5834.416927899687
         ],
         "type": "linear"
        }
       }
      },
      "image/png": "[encoded data removed]",
      "text/html": [
       "<div>\n",
       "        \n",
       "        \n",
       "            <div id=\"46ef646f-ae34-402c-9e5b-a5cb953b3ad7\" class=\"plotly-graph-div\" style=\"height:525px; width:100%;\"></div>\n",
       "            <script type=\"text/javascript\">\n",
       "                require([\"plotly\"], function(Plotly) {\n",
       "                    window.PLOTLYENV=window.PLOTLYENV || {};\n",
       "                    \n",
       "                if (document.getElementById(\"46ef646f-ae34-402c-9e5b-a5cb953b3ad7\")) {\n",
       "                    Plotly.newPlot(\n",
       "                        '46ef646f-ae34-402c-9e5b-a5cb953b3ad7',\n",
       "                        [{\"error_y\": {\"array\": [18.0, 81.5, 42.0, 40.0, 27.0, 68.5, 19.0, 14.0, 18.5, 121.5, 63.0, 3.0, 75.0, 191.0, 107.0, 83.5, 58.5, 34.5, 75.0, 87.0, 66.0, 62.0, 24.0, 53.5, 39.5, 61.5, 42.5, 90.5, 23.5, 75.5, 27.5], \"type\": \"data\", \"visible\": true}, \"mode\": \"lines+markers\", \"name\": \"13.9u[2]; B0:50ms; Res: 1.5\", \"type\": \"scatter\", \"x\": [0.0, 153.333, 306.667, 460.0, 613.333, 766.667, 920.0, 1073.333, 1226.667, 1380.0, 1533.333, 1686.667, 1840.0, 1993.333, 2146.667, 2300.0, 2453.333, 2606.667, 2760.0, 2913.333, 3066.667, 3220.0, 3373.333, 3526.667, 3680.0, 3833.333, 3986.667, 4140.0, 4293.333, 4446.667, 4600.0], \"y\": [1547.0, 5269.5, 4822.0, 4559.0, 4279.0, 3978.5, 3703.0, 3388.0, 3181.5, 3014.5, 2742.0, 2609.0, 2343.0, 2262.0, 2127.0, 1912.5, 1830.5, 1652.5, 1594.0, 1494.0, 1357.0, 1275.0, 1193.0, 1074.5, 1017.5, 973.5, 943.5, 874.5, 762.5, 783.5, 706.5]}, {\"error_y\": {\"array\": [1.0, 3.0, 16.0, 4.5, 4.5, 7.0, 4.5, 20.5, 14.5, 27.0, 7.5, 35.5, 16.0, 16.5, 8.0, 3.5, 1.0, 10.0, 26.5, 4.0, 3.0, 33.0, 28.0, 2.0, 18.5, 1.0, 14.5, 13.5, 8.0, 2.5, 15.0], \"type\": \"data\", \"visible\": true}, \"mode\": \"lines+markers\", \"name\": \"17.9u[2]; B0:50ms; Res: 1.5\", \"type\": \"scatter\", \"x\": [0.0, 153.333, 306.667, 460.0, 613.333, 766.667, 920.0, 1073.333, 1226.667, 1380.0, 1533.333, 1686.667, 1840.0, 1993.333, 2146.667, 2300.0, 2453.333, 2606.667, 2760.0, 2913.333, 3066.667, 3220.0, 3373.333, 3526.667, 3680.0, 3833.333, 3986.667, 4140.0, 4293.333, 4446.667, 4600.0], \"y\": [7.0, 115.0, 229.0, 292.5, 378.5, 341.0, 392.5, 411.5, 406.5, 384.0, 379.5, 399.5, 373.0, 353.5, 353.0, 300.5, 307.0, 297.0, 315.5, 281.0, 307.0, 289.0, 253.0, 253.0, 249.5, 243.0, 246.5, 245.5, 233.0, 212.5, 232.0]}, {\"error_y\": {\"array\": [0.5, 0.5, 1.0, 1.5, 1.0, 1.0, 10.0, 15.0, 8.5, 9.5, 7.0, 7.0, 22.5, 11.0, 2.5, 13.5, 14.0, 0.0, 23.5, 0.0, 2.0, 7.5, 3.5, 5.5, 10.5, 10.5, 12.0, 18.5, 21.0, 3.5, 13.0], \"type\": \"data\", \"visible\": true}, \"mode\": \"lines+markers\", \"name\": \"21.9u[2]; B0:50ms; Res: 1.5\", \"type\": \"scatter\", \"x\": [0.0, 153.333, 306.667, 460.0, 613.333, 766.667, 920.0, 1073.333, 1226.667, 1380.0, 1533.333, 1686.667, 1840.0, 1993.333, 2146.667, 2300.0, 2453.333, 2606.667, 2760.0, 2913.333, 3066.667, 3220.0, 3373.333, 3526.667, 3680.0, 3833.333, 3986.667, 4140.0, 4293.333, 4446.667, 4600.0], \"y\": [4.5, 17.5, 36.0, 71.5, 95.0, 105.0, 138.0, 148.0, 164.5, 188.5, 171.0, 207.0, 218.5, 227.0, 217.5, 244.5, 250.0, 268.0, 298.5, 233.0, 306.0, 267.5, 292.5, 280.5, 294.5, 295.5, 297.0, 303.5, 311.0, 309.5, 300.0]}, {\"error_y\": {\"array\": [1.0, 2.5, 0.5, 1.0, 1.0, 4.0, 4.0, 0.0, 21.5, 8.0, 2.5, 2.5, 21.5, 13.0, 10.0, 5.0, 2.5, 1.0, 2.5, 6.0, 0.0, 11.0, 26.5, 13.5, 17.5, 6.0, 0.5, 1.0, 9.5, 8.0, 23.5], \"type\": \"data\", \"visible\": true}, \"mode\": \"lines+markers\", \"name\": \"25.9u[2]; B0:50ms; Res: 1.5\", \"type\": \"scatter\", \"x\": [0.0, 153.333, 306.667, 460.0, 613.333, 766.667, 920.0, 1073.333, 1226.667, 1380.0, 1533.333, 1686.667, 1840.0, 1993.333, 2146.667, 2300.0, 2453.333, 2606.667, 2760.0, 2913.333, 3066.667, 3220.0, 3373.333, 3526.667, 3680.0, 3833.333, 3986.667, 4140.0, 4293.333, 4446.667, 4600.0], \"y\": [7.0, 11.5, 6.5, 22.0, 43.0, 43.0, 70.0, 75.0, 110.5, 130.0, 151.5, 162.5, 187.5, 205.0, 199.0, 205.0, 234.5, 238.0, 263.5, 254.0, 282.0, 286.0, 282.5, 309.5, 345.5, 304.0, 310.5, 337.0, 320.5, 365.0, 318.5]}, {\"error_y\": {\"array\": [0.0, 3.5, 5.0, 2.0, 2.0, 9.5, 2.5, 9.0, 11.5, 0.5, 0.0, 5.0, 5.5, 3.0, 15.0, 23.0, 8.5, 6.0, 18.0, 1.5, 7.0, 3.5, 19.5, 1.5, 15.5, 12.5, 6.5, 4.0, 2.5, 1.0, 11.0], \"type\": \"data\", \"visible\": true}, \"mode\": \"lines+markers\", \"name\": \"29.9u[2]; B0:50ms; Res: 1.5\", \"type\": \"scatter\", \"x\": [0.0, 153.333, 306.667, 460.0, 613.333, 766.667, 920.0, 1073.333, 1226.667, 1380.0, 1533.333, 1686.667, 1840.0, 1993.333, 2146.667, 2300.0, 2453.333, 2606.667, 2760.0, 2913.333, 3066.667, 3220.0, 3373.333, 3526.667, 3680.0, 3833.333, 3986.667, 4140.0, 4293.333, 4446.667, 4600.0], \"y\": [9.0, 12.5, 11.0, 15.0, 14.0, 39.5, 37.5, 39.0, 52.5, 68.5, 77.0, 84.0, 98.5, 113.0, 115.0, 122.0, 152.5, 163.0, 172.0, 171.5, 192.0, 189.5, 225.5, 211.5, 223.5, 231.5, 240.5, 295.0, 269.5, 257.0, 275.0]}, {\"error_y\": {\"array\": [1.0, 1.0, 1.5, 1.0, 1.0, 2.0, 1.5, 4.0, 0.0, 3.5, 2.0, 2.0, 0.5, 9.5, 2.5, 3.0, 16.0, 1.5, 9.5, 5.5, 1.5, 0.0, 4.5, 8.5, 0.0, 0.0, 6.5, 13.0, 2.5, 5.5, 7.5], \"type\": \"data\", \"visible\": true}, \"mode\": \"lines+markers\", \"name\": \"33.9u[2]; B0:50ms; Res: 1.5\", \"type\": \"scatter\", \"x\": [0.0, 153.333, 306.667, 460.0, 613.333, 766.667, 920.0, 1073.333, 1226.667, 1380.0, 1533.333, 1686.667, 1840.0, 1993.333, 2146.667, 2300.0, 2453.333, 2606.667, 2760.0, 2913.333, 3066.667, 3220.0, 3373.333, 3526.667, 3680.0, 3833.333, 3986.667, 4140.0, 4293.333, 4446.667, 4600.0], \"y\": [7.0, 5.0, 7.5, 6.0, 4.0, 8.0, 6.5, 9.0, 8.0, 9.5, 11.0, 18.0, 11.5, 27.5, 18.5, 20.0, 35.0, 32.5, 30.5, 37.5, 33.5, 37.0, 32.5, 48.5, 45.0, 41.0, 50.5, 53.0, 40.5, 58.5, 46.5]}, {\"error_y\": {\"array\": [21.5, 92.0, 66.0, 50.0, 36.5, 92.0, 41.5, 62.5, 74.5, 170.0, 82.0, 55.0, 141.0, 244.0, 145.0, 131.5, 100.5, 53.0, 155.0, 104.0, 79.5, 117.0, 106.0, 84.5, 101.5, 91.5, 82.5, 140.5, 67.0, 96.0, 97.5], \"type\": \"data\", \"visible\": true}, \"line\": {\"color\": \"black\"}, \"mode\": \"lines+markers\", \"name\": \"SUM\", \"type\": \"scatter\", \"x\": [0.0, 153.333, 306.667, 460.0, 613.333, 766.667, 920.0, 1073.333, 1226.667, 1380.0, 1533.333, 1686.667, 1840.0, 1993.333, 2146.667, 2300.0, 2453.333, 2606.667, 2760.0, 2913.333, 3066.667, 3220.0, 3373.333, 3526.667, 3680.0, 3833.333, 3986.667, 4140.0, 4293.333, 4446.667, 4600.0], \"y\": [1581.5, 5431.0, 5112.0, 4966.0, 4813.5, 4515.0, 4347.5, 4070.5, 3923.5, 3795.0, 3532.0, 3480.0, 3232.0, 3188.0, 3030.0, 2804.5, 2809.5, 2651.0, 2674.0, 2471.0, 2477.5, 2344.0, 2279.0, 2177.5, 2175.5, 2088.5, 2088.5, 2108.5, 1937.0, 1986.0, 1878.5]}],\n",
       "                        {\"template\": {\"data\": {\"bar\": [{\"error_x\": {\"color\": \"#2a3f5f\"}, \"error_y\": {\"color\": \"#2a3f5f\"}, \"marker\": {\"line\": {\"color\": \"#E5ECF6\", \"width\": 0.5}}, \"type\": \"bar\"}], \"barpolar\": [{\"marker\": {\"line\": {\"color\": \"#E5ECF6\", \"width\": 0.5}}, \"type\": \"barpolar\"}], \"carpet\": [{\"aaxis\": {\"endlinecolor\": \"#2a3f5f\", \"gridcolor\": \"white\", \"linecolor\": \"white\", \"minorgridcolor\": \"white\", \"startlinecolor\": \"#2a3f5f\"}, \"baxis\": {\"endlinecolor\": \"#2a3f5f\", \"gridcolor\": \"white\", \"linecolor\": \"white\", \"minorgridcolor\": \"white\", \"startlinecolor\": \"#2a3f5f\"}, \"type\": \"carpet\"}], \"choropleth\": [{\"colorbar\": {\"outlinewidth\": 0, \"ticks\": \"\"}, \"type\": \"choropleth\"}], \"contour\": [{\"colorbar\": {\"outlinewidth\": 0, \"ticks\": \"\"}, \"colorscale\": [[0.0, \"#0d0887\"], [0.1111111111111111, \"#46039f\"], [0.2222222222222222, \"#7201a8\"], [0.3333333333333333, \"#9c179e\"], [0.4444444444444444, \"#bd3786\"], [0.5555555555555556, \"#d8576b\"], [0.6666666666666666, \"#ed7953\"], [0.7777777777777778, \"#fb9f3a\"], [0.8888888888888888, \"#fdca26\"], [1.0, \"#f0f921\"]], \"type\": \"contour\"}], \"contourcarpet\": [{\"colorbar\": {\"outlinewidth\": 0, \"ticks\": \"\"}, \"type\": \"contourcarpet\"}], \"heatmap\": [{\"colorbar\": {\"outlinewidth\": 0, \"ticks\": \"\"}, \"colorscale\": [[0.0, \"#0d0887\"], [0.1111111111111111, \"#46039f\"], [0.2222222222222222, \"#7201a8\"], [0.3333333333333333, \"#9c179e\"], [0.4444444444444444, \"#bd3786\"], [0.5555555555555556, \"#d8576b\"], [0.6666666666666666, \"#ed7953\"], [0.7777777777777778, \"#fb9f3a\"], [0.8888888888888888, \"#fdca26\"], [1.0, \"#f0f921\"]], \"type\": \"heatmap\"}], \"heatmapgl\": [{\"colorbar\": {\"outlinewidth\": 0, \"ticks\": \"\"}, \"colorscale\": [[0.0, \"#0d0887\"], [0.1111111111111111, \"#46039f\"], [0.2222222222222222, \"#7201a8\"], [0.3333333333333333, \"#9c179e\"], [0.4444444444444444, \"#bd3786\"], [0.5555555555555556, \"#d8576b\"], [0.6666666666666666, \"#ed7953\"], [0.7777777777777778, \"#fb9f3a\"], [0.8888888888888888, \"#fdca26\"], [1.0, \"#f0f921\"]], \"type\": \"heatmapgl\"}], \"histogram\": [{\"marker\": {\"colorbar\": {\"outlinewidth\": 0, \"ticks\": \"\"}}, \"type\": \"histogram\"}], \"histogram2d\": [{\"colorbar\": {\"outlinewidth\": 0, \"ticks\": \"\"}, \"colorscale\": [[0.0, \"#0d0887\"], [0.1111111111111111, \"#46039f\"], [0.2222222222222222, \"#7201a8\"], [0.3333333333333333, \"#9c179e\"], [0.4444444444444444, \"#bd3786\"], [0.5555555555555556, \"#d8576b\"], [0.6666666666666666, \"#ed7953\"], [0.7777777777777778, \"#fb9f3a\"], [0.8888888888888888, \"#fdca26\"], [1.0, \"#f0f921\"]], \"type\": \"histogram2d\"}], \"histogram2dcontour\": [{\"colorbar\": {\"outlinewidth\": 0, \"ticks\": \"\"}, \"colorscale\": [[0.0, \"#0d0887\"], [0.1111111111111111, \"#46039f\"], [0.2222222222222222, \"#7201a8\"], [0.3333333333333333, \"#9c179e\"], [0.4444444444444444, \"#bd3786\"], [0.5555555555555556, \"#d8576b\"], [0.6666666666666666, \"#ed7953\"], [0.7777777777777778, \"#fb9f3a\"], [0.8888888888888888, \"#fdca26\"], [1.0, \"#f0f921\"]], \"type\": \"histogram2dcontour\"}], \"mesh3d\": [{\"colorbar\": {\"outlinewidth\": 0, \"ticks\": \"\"}, \"type\": \"mesh3d\"}], \"parcoords\": [{\"line\": {\"colorbar\": {\"outlinewidth\": 0, \"ticks\": \"\"}}, \"type\": \"parcoords\"}], \"pie\": [{\"automargin\": true, \"type\": \"pie\"}], \"scatter\": [{\"marker\": {\"colorbar\": {\"outlinewidth\": 0, \"ticks\": \"\"}}, \"type\": \"scatter\"}], \"scatter3d\": [{\"line\": {\"colorbar\": {\"outlinewidth\": 0, \"ticks\": \"\"}}, \"marker\": {\"colorbar\": {\"outlinewidth\": 0, \"ticks\": \"\"}}, \"type\": \"scatter3d\"}], \"scattercarpet\": [{\"marker\": {\"colorbar\": {\"outlinewidth\": 0, \"ticks\": \"\"}}, \"type\": \"scattercarpet\"}], \"scattergeo\": [{\"marker\": {\"colorbar\": {\"outlinewidth\": 0, \"ticks\": \"\"}}, \"type\": \"scattergeo\"}], \"scattergl\": [{\"marker\": {\"colorbar\": {\"outlinewidth\": 0, \"ticks\": \"\"}}, \"type\": \"scattergl\"}], \"scattermapbox\": [{\"marker\": {\"colorbar\": {\"outlinewidth\": 0, \"ticks\": \"\"}}, \"type\": \"scattermapbox\"}], \"scatterpolar\": [{\"marker\": {\"colorbar\": {\"outlinewidth\": 0, \"ticks\": \"\"}}, \"type\": \"scatterpolar\"}], \"scatterpolargl\": [{\"marker\": {\"colorbar\": {\"outlinewidth\": 0, \"ticks\": \"\"}}, \"type\": \"scatterpolargl\"}], \"scatterternary\": [{\"marker\": {\"colorbar\": {\"outlinewidth\": 0, \"ticks\": \"\"}}, \"type\": \"scatterternary\"}], \"surface\": [{\"colorbar\": {\"outlinewidth\": 0, \"ticks\": \"\"}, \"colorscale\": [[0.0, \"#0d0887\"], [0.1111111111111111, \"#46039f\"], [0.2222222222222222, \"#7201a8\"], [0.3333333333333333, \"#9c179e\"], [0.4444444444444444, \"#bd3786\"], [0.5555555555555556, \"#d8576b\"], [0.6666666666666666, \"#ed7953\"], [0.7777777777777778, \"#fb9f3a\"], [0.8888888888888888, \"#fdca26\"], [1.0, \"#f0f921\"]], \"type\": \"surface\"}], \"table\": [{\"cells\": {\"fill\": {\"color\": \"#EBF0F8\"}, \"line\": {\"color\": \"white\"}}, \"header\": {\"fill\": {\"color\": \"#C8D4E3\"}, \"line\": {\"color\": \"white\"}}, \"type\": \"table\"}]}, \"layout\": {\"annotationdefaults\": {\"arrowcolor\": \"#2a3f5f\", \"arrowhead\": 0, \"arrowwidth\": 1}, \"coloraxis\": {\"colorbar\": {\"outlinewidth\": 0, \"ticks\": \"\"}}, \"colorscale\": {\"diverging\": [[0, \"#8e0152\"], [0.1, \"#c51b7d\"], [0.2, \"#de77ae\"], [0.3, \"#f1b6da\"], [0.4, \"#fde0ef\"], [0.5, \"#f7f7f7\"], [0.6, \"#e6f5d0\"], [0.7, \"#b8e186\"], [0.8, \"#7fbc41\"], [0.9, \"#4d9221\"], [1, \"#276419\"]], \"sequential\": [[0.0, \"#0d0887\"], [0.1111111111111111, \"#46039f\"], [0.2222222222222222, \"#7201a8\"], [0.3333333333333333, \"#9c179e\"], [0.4444444444444444, \"#bd3786\"], [0.5555555555555556, \"#d8576b\"], [0.6666666666666666, \"#ed7953\"], [0.7777777777777778, \"#fb9f3a\"], [0.8888888888888888, \"#fdca26\"], [1.0, \"#f0f921\"]], \"sequentialminus\": [[0.0, \"#0d0887\"], [0.1111111111111111, \"#46039f\"], [0.2222222222222222, \"#7201a8\"], [0.3333333333333333, \"#9c179e\"], [0.4444444444444444, \"#bd3786\"], [0.5555555555555556, \"#d8576b\"], [0.6666666666666666, \"#ed7953\"], [0.7777777777777778, \"#fb9f3a\"], [0.8888888888888888, \"#fdca26\"], [1.0, \"#f0f921\"]]}, \"colorway\": [\"#636efa\", \"#EF553B\", \"#00cc96\", \"#ab63fa\", \"#FFA15A\", \"#19d3f3\", \"#FF6692\", \"#B6E880\", \"#FF97FF\", \"#FECB52\"], \"font\": {\"color\": \"#2a3f5f\"}, \"geo\": {\"bgcolor\": \"white\", \"lakecolor\": \"white\", \"landcolor\": \"#E5ECF6\", \"showlakes\": true, \"showland\": true, \"subunitcolor\": \"white\"}, \"hoverlabel\": {\"align\": \"left\"}, \"hovermode\": \"closest\", \"mapbox\": {\"style\": \"light\"}, \"paper_bgcolor\": \"white\", \"plot_bgcolor\": \"#E5ECF6\", \"polar\": {\"angularaxis\": {\"gridcolor\": \"white\", \"linecolor\": \"white\", \"ticks\": \"\"}, \"bgcolor\": \"#E5ECF6\", \"radialaxis\": {\"gridcolor\": \"white\", \"linecolor\": \"white\", \"ticks\": \"\"}}, \"scene\": {\"xaxis\": {\"backgroundcolor\": \"#E5ECF6\", \"gridcolor\": \"white\", \"gridwidth\": 2, \"linecolor\": \"white\", \"showbackground\": true, \"ticks\": \"\", \"zerolinecolor\": \"white\"}, \"yaxis\": {\"backgroundcolor\": \"#E5ECF6\", \"gridcolor\": \"white\", \"gridwidth\": 2, \"linecolor\": \"white\", \"showbackground\": true, \"ticks\": \"\", \"zerolinecolor\": \"white\"}, \"zaxis\": {\"backgroundcolor\": \"#E5ECF6\", \"gridcolor\": \"white\", \"gridwidth\": 2, \"linecolor\": \"white\", \"showbackground\": true, \"ticks\": \"\", \"zerolinecolor\": \"white\"}}, \"shapedefaults\": {\"line\": {\"color\": \"#2a3f5f\"}}, \"ternary\": {\"aaxis\": {\"gridcolor\": \"white\", \"linecolor\": \"white\", \"ticks\": \"\"}, \"baxis\": {\"gridcolor\": \"white\", \"linecolor\": \"white\", \"ticks\": \"\"}, \"bgcolor\": \"#E5ECF6\", \"caxis\": {\"gridcolor\": \"white\", \"linecolor\": \"white\", \"ticks\": \"\"}}, \"title\": {\"x\": 0.05}, \"xaxis\": {\"automargin\": true, \"gridcolor\": \"white\", \"linecolor\": \"white\", \"ticks\": \"\", \"title\": {\"standoff\": 15}, \"zerolinecolor\": \"white\", \"zerolinewidth\": 2}, \"yaxis\": {\"automargin\": true, \"gridcolor\": \"white\", \"linecolor\": \"white\", \"ticks\": \"\", \"title\": {\"standoff\": 15}, \"zerolinecolor\": \"white\", \"zerolinewidth\": 2}}}},\n",
       "                        {\"responsive\": true}\n",
       "                    ).then(function(){\n",
       "                            \n",
       "var gd = document.getElementById('46ef646f-ae34-402c-9e5b-a5cb953b3ad7');\n",
       "var x = new MutationObserver(function (mutations, observer) {{\n",
       "        var display = window.getComputedStyle(gd).display;\n",
       "        if (!display || display === 'none') {{\n",
       "            console.log([gd, 'removed!']);\n",
       "            Plotly.purge(gd);\n",
       "            observer.disconnect();\n",
       "        }}\n",
       "}});\n",
       "\n",
       "// Listen for the removal of the full notebook cells\n",
       "var notebookContainer = gd.closest('#notebook-container');\n",
       "if (notebookContainer) {{\n",
       "    x.observe(notebookContainer, {childList: true});\n",
       "}}\n",
       "\n",
       "// Listen for the clearing of the current output cell\n",
       "var outputEl = gd.closest('.output');\n",
       "if (outputEl) {{\n",
       "    x.observe(outputEl, {childList: true});\n",
       "}}\n",
       "\n",
       "                        })\n",
       "                };\n",
       "                });\n",
       "            </script>\n",
       "        </div>"
      ]
     },
     "metadata": {},
     "output_type": "display_data"
    }
   ],
   "source": [
    "\n",
    "file = pt('./30_08_19-1.scan')\n",
    "\n",
    "location = os.getcwd()\n",
    "time, mean, error, mass, t_res, t_b0  = timescanplot(file).get_data()\n",
    "m = timescanplot(file).get_fullmass()\n",
    "\n",
    "data = list(m.values())\n",
    "iplot(data)"
   ]
  },
  {
   "cell_type": "code",
   "execution_count": 23,
   "metadata": {},
   "outputs": [
    {
     "data": {
      "text/plain": [
       "'ABCDEFGHIJKLMNOPQRSTUVWXYZ'"
      ]
     },
     "execution_count": 23,
     "metadata": {},
     "output_type": "execute_result"
    }
   ],
   "source": []
  },
  {
   "cell_type": "code",
   "execution_count": null,
   "metadata": {},
   "outputs": [],
   "source": []
  },
  {
   "cell_type": "code",
   "execution_count": 6,
   "metadata": {},
   "outputs": [
    {
     "data": {
      "application/vnd.jupyter.widget-view+json": {
       "model_id": "01e85b32df8a437f9d6bd71eacec386c",
       "version_major": 2,
       "version_minor": 0
      },
      "text/plain": [
       "BoundedIntText(value=6, description='numberOfReaction', layout=Layout(width='50%'), style=DescriptionStyle(des…"
      ]
     },
     "metadata": {},
     "output_type": "display_data"
    },
    {
     "data": {
      "application/vnd.jupyter.widget-view+json": {
       "model_id": "192072b941d84b76bd9a9630e34077b3",
       "version_major": 2,
       "version_minor": 0
      },
      "text/plain": [
       "Text(value='13.9u, 17.9u, 21.9u, 25.9u, 29.9u, 33.9u', description='nameOfReactants', layout=Layout(width='50%…"
      ]
     },
     "metadata": {},
     "output_type": "display_data"
    },
    {
     "data": {
      "application/vnd.jupyter.widget-view+json": {
       "model_id": "6b9ff19eb2ac44988500ecd2386bd52a",
       "version_major": 2,
       "version_minor": 0
      },
      "text/plain": [
       "Text(value='CD, CDHe, CDHe2, CDHe3, CDHe4, CDHe5', description='labelnameOfReactants', layout=Layout(width='50…"
      ]
     },
     "metadata": {},
     "output_type": "display_data"
    },
    {
     "data": {
      "application/vnd.jupyter.widget-view+json": {
       "model_id": "95effae0eba44bf88732adbdd69dc3c9",
       "version_major": 2,
       "version_minor": 0
      },
      "text/plain": [
       "Text(value='k31, k32, k33, k34, k35', description='nameOfParametersForward', layout=Layout(width='50%'), style…"
      ]
     },
     "metadata": {},
     "output_type": "display_data"
    },
    {
     "data": {
      "application/vnd.jupyter.widget-view+json": {
       "model_id": "f6b26005ba2d49a0a9206cb2b1877124",
       "version_major": 2,
       "version_minor": 0
      },
      "text/plain": [
       "Text(value='-40, -20, 0.001', description='parameterMinMaxStep', style=DescriptionStyle(description_width='ini…"
      ]
     },
     "metadata": {},
     "output_type": "display_data"
    },
    {
     "data": {
      "application/vnd.jupyter.widget-view+json": {
       "model_id": "2a88b24831514f0cb43a0742913e7101",
       "version_major": 2,
       "version_minor": 0
      },
      "text/plain": [
       "Text(value='CID1, CID2, CID3, CID4, CID5', description='nameOfParametersReverse', layout=Layout(width='50%'), …"
      ]
     },
     "metadata": {},
     "output_type": "display_data"
    },
    {
     "data": {
      "application/vnd.jupyter.widget-view+json": {
       "model_id": "5f4e9bea762d47dfa628cd7890be02fa",
       "version_major": 2,
       "version_minor": 0
      },
      "text/plain": [
       "Text(value='-30, -10, 0.001', description='parameterMinMaxStep', style=DescriptionStyle(description_width='ini…"
      ]
     },
     "metadata": {},
     "output_type": "display_data"
    }
   ],
   "source": [
    "style = {'description_width': 'initial', 'width':\"100\"}\n",
    "layout=widgets.Layout(width='50%')\n",
    "\n",
    "totalReactionsNumber = len(mass)\n",
    "\n",
    "numberOfReaction = widgets.BoundedIntText(description=\"numberOfReaction\", style = style, value=totalReactionsNumber, layout=layout)\n",
    "nameOfReactants = widgets.Text(description=\"nameOfReactants\", style = style, value=\", \".join([f\"{i}u\" for i in mass]), layout=layout)\n",
    "labelnameOfReactants = widgets.Text(description=\"labelnameOfReactants\", style = style, value=\"CD, CDHe, CDHe2, CDHe3, CDHe4, CDHe5\", layout=layout)\n",
    "nameOfParametersForward = widgets.Text(description=\"nameOfParametersForward\", style = style,value=\", \".join([f\"k3{i}\" for i in range(1, totalReactionsNumber)]), layout=layout)\n",
    "nameOfParametersReverse = widgets.Text(description=\"nameOfParametersReverse\", style = style,value=\", \".join([f\"CID{i}\" for i in range(1, totalReactionsNumber)]), layout=layout)\n",
    "parameterMinMaxStepForward = widgets.Text(description=\"parameterMinMaxStep\", style = style, value=\"-40, -20, 0.001\")\n",
    "parameterMinMaxStepReverse = widgets.Text(description=\"parameterMinMaxStep\", style = style, value=\"-30, -10, 0.001\")\n",
    "\n",
    "kineticsWidget = [numberOfReaction, nameOfReactants, labelnameOfReactants, nameOfParametersForward, parameterMinMaxStepForward, nameOfParametersReverse, parameterMinMaxStepReverse]\n",
    "\n",
    "display(*kineticsWidget)"
   ]
  },
  {
   "cell_type": "code",
   "execution_count": 31,
   "metadata": {},
   "outputs": [
    {
     "name": "stdout",
     "output_type": "stream",
     "text": [
      "timeStartIndex=2, endtimeIndex=-1\n"
     ]
    }
   ],
   "source": [
    "timeStartIndex = 2\n",
    "endtimeIndex = -1\n",
    "print(f'{timeStartIndex=}, {endtimeIndex=}')\n",
    "\n",
    "expTime = time[timeStartIndex:endtimeIndex] / 1000\n",
    "fullData = {}\n",
    "\n",
    "for key in nameOfReactants.value.split(\", \"):\n",
    "    fullData[key] = m[key]['y'][timeStartIndex:endtimeIndex]\n",
    "    \n",
    "fullDataValues = np.array(list(fullData.values()))"
   ]
  },
  {
   "cell_type": "code",
   "execution_count": null,
   "metadata": {},
   "outputs": [],
   "source": []
  },
  {
   "cell_type": "code",
   "execution_count": 8,
   "metadata": {},
   "outputs": [
    {
     "name": "stdout",
     "output_type": "stream",
     "text": [
      "reactantVariable=(CD, CDHe, CDHe2, CDHe3, CDHe4, CDHe5)\n",
      "reactantVariableAddress=[1686026035984, 1686026035744, 1686026036864, 1686026037024, 1686026037184, 1686026037344]\n",
      "[4822.   229.    36.     6.5   11.     7.5]\n"
     ]
    },
    {
     "data": {
      "application/vnd.jupyter.widget-view+json": {
       "model_id": "d5df3af0ba93486ca806ceb0b69530f3",
       "version_major": 2,
       "version_minor": 0
      },
      "text/plain": [
       "BoundedFloatText(value=4822.0, description='CD+', max=1e+20, step=20.0)"
      ]
     },
     "metadata": {},
     "output_type": "display_data"
    },
    {
     "data": {
      "application/vnd.jupyter.widget-view+json": {
       "model_id": "a25b961c50274a2b934d9c10489597ea",
       "version_major": 2,
       "version_minor": 0
      },
      "text/plain": [
       "BoundedFloatText(value=229.0, description='CDHe+', max=1e+20, step=20.0)"
      ]
     },
     "metadata": {},
     "output_type": "display_data"
    },
    {
     "data": {
      "application/vnd.jupyter.widget-view+json": {
       "model_id": "4fcdeabca091467f8870277a39825828",
       "version_major": 2,
       "version_minor": 0
      },
      "text/plain": [
       "BoundedFloatText(value=36.0, description='CDHe2+', max=1e+20, step=20.0)"
      ]
     },
     "metadata": {},
     "output_type": "display_data"
    },
    {
     "data": {
      "application/vnd.jupyter.widget-view+json": {
       "model_id": "b3bea8321dac4f9ab71f2b017145a9e4",
       "version_major": 2,
       "version_minor": 0
      },
      "text/plain": [
       "BoundedFloatText(value=6.5, description='CDHe3+', max=1e+20, step=20.0)"
      ]
     },
     "metadata": {},
     "output_type": "display_data"
    },
    {
     "data": {
      "application/vnd.jupyter.widget-view+json": {
       "model_id": "17c72cc9f21f4bf7a529274d98dae6c4",
       "version_major": 2,
       "version_minor": 0
      },
      "text/plain": [
       "BoundedFloatText(value=11.0, description='CDHe4+', max=1e+20, step=20.0)"
      ]
     },
     "metadata": {},
     "output_type": "display_data"
    },
    {
     "data": {
      "application/vnd.jupyter.widget-view+json": {
       "model_id": "7937ed32bf534a3f9c83effe8a6e077c",
       "version_major": 2,
       "version_minor": 0
      },
      "text/plain": [
       "BoundedFloatText(value=7.5, description='CDHe5+', max=1e+20, step=20.0)"
      ]
     },
     "metadata": {},
     "output_type": "display_data"
    }
   ],
   "source": [
    "t = Variable(\"t\")\n",
    "\n",
    "reactantVariable = variables(labelnameOfReactants.value)\n",
    "reactantVariableAddress = [id(i) for i in reactantVariable]\n",
    "\n",
    "print(f\"{reactantVariable=}\\n{reactantVariableAddress=}\")\n",
    "\n",
    "label = labelnameOfReactants.value.split(\", \")\n",
    "if len(label) == 0:\n",
    "    label = [alphabets[i] for i in range(len(totalReactionsNumber))]\n",
    "    \n",
    "initialCondition = fullDataValues.T[0]\n",
    "print(initialCondition)\n",
    "\n",
    "initialConditionWidgets = []\n",
    "\n",
    "\n",
    "for i, val in enumerate(initialCondition):\n",
    "    _widget = widgets.BoundedFloatText(value=val, description=f\"{label[i]}+\", max=1e20, min=0, step=20)\n",
    "    initialConditionWidgets.append(_widget)\n",
    "    \n",
    "display(*initialConditionWidgets)"
   ]
  },
  {
   "cell_type": "code",
   "execution_count": 27,
   "metadata": {},
   "outputs": [
    {
     "name": "stdout",
     "output_type": "stream",
     "text": [
      "{t: 0, CD: 4822.0, CDHe: 229.0, CDHe2: 36.0, CDHe3: 6.5, CDHe4: 11.0, CDHe5: 7.5}\n"
     ]
    },
    {
     "data": {
      "text/plain": [
       "True"
      ]
     },
     "execution_count": 27,
     "metadata": {},
     "output_type": "execute_result"
    }
   ],
   "source": [
    "# Initial condition\n",
    "initial_cond = {t:0}\n",
    "\n",
    "for i, variable in enumerate(reactantVariable):\n",
    "    initial_cond[getValfromVariable(variable)] = initialConditionWidgets[i].value\n",
    "    \n",
    "print(initial_cond)\n",
    "list(initial_cond.keys())[1] == reactantVariable[0]"
   ]
  },
  {
   "cell_type": "code",
   "execution_count": 10,
   "metadata": {},
   "outputs": [
    {
     "data": {
      "text/plain": [
       "True"
      ]
     },
     "execution_count": 10,
     "metadata": {},
     "output_type": "execute_result"
    }
   ],
   "source": []
  },
  {
   "cell_type": "code",
   "execution_count": 11,
   "metadata": {},
   "outputs": [
    {
     "data": {
      "application/vnd.jupyter.widget-view+json": {
       "model_id": "d9acded7b56a4f1c80dc810ec0cdabe7",
       "version_major": 2,
       "version_minor": 0
      },
      "text/plain": [
       "interactive(children=(BoundedFloatText(value=4.5, description='temp', max=400.0, step=0.5), FloatLogSlider(val…"
      ]
     },
     "metadata": {},
     "output_type": "display_data"
    }
   ],
   "source": [
    "# He/Ne number density\n",
    "\n",
    "def numberDensity(temp, pbefore, pafter):\n",
    "    \n",
    "    constant = 4.18e17 # 1/boltzman_constant*sqrt(T)\n",
    "    C = uf(205.54, 2.5) # Calibration factor \n",
    "    T = uf(temp, 0.1) # Temperature\n",
    "    p = pafter - pbefore\n",
    "    N = (constant*C*p)/(T**0.5)\n",
    "    print(N) \n",
    "    return N.nominal_value\n",
    "\n",
    "tempWidget = widgets.BoundedFloatText(value=4.5, min=0, max=400, step=0.5)\n",
    "pbeforeWidget = widgets.FloatLogSlider(base=10, value=1e-9, min=-10, max=-4)\n",
    "paftereWidget = widgets.FloatLogSlider(base=10, value=1e-7, min=-10, max=-4)\n",
    "\n",
    "numberDensityWidgetOutput = widgets.interact(numberDensity, temp=tempWidget, pbefore=pbeforeWidget, pafter=paftereWidget)"
   ]
  },
  {
   "cell_type": "code",
   "execution_count": null,
   "metadata": {},
   "outputs": [],
   "source": []
  },
  {
   "cell_type": "code",
   "execution_count": 12,
   "metadata": {},
   "outputs": [
    {
     "name": "stdout",
     "output_type": "stream",
     "text": [
      "He=4009604822686.6294\n"
     ]
    },
    {
     "data": {
      "text/plain": [
       "{'forward': [1.60769308341119e+25*k31,\n",
       "  1.60769308341119e+25*k32,\n",
       "  1.60769308341119e+25*k33,\n",
       "  1.60769308341119e+25*k34,\n",
       "  1.60769308341119e+25*k35],\n",
       " 'reverse': [4009604822686.63*CID1,\n",
       "  4009604822686.63*CID2,\n",
       "  4009604822686.63*CID3,\n",
       "  4009604822686.63*CID4,\n",
       "  4009604822686.63*CID5]}"
      ]
     },
     "execution_count": 12,
     "metadata": {},
     "output_type": "execute_result"
    }
   ],
   "source": [
    "He = numberDensityWidgetOutput.widget.result\n",
    "print(f\"{He=}\")\n",
    "\n",
    "rateConstantParametersForward = parameters(nameOfParametersForward.value)\n",
    "rateConstantParametersReverse = parameters(nameOfParametersReverse.value)\n",
    "\n",
    "rateEquation = {\"forward\":[He**2 * getValfromVariable(i) for i in rateConstantParametersForward],\n",
    "                \"reverse\":[He * getValfromVariable(i) for i in rateConstantParametersReverse]}\n",
    "\n",
    "rateEquation"
   ]
  },
  {
   "cell_type": "code",
   "execution_count": 13,
   "metadata": {},
   "outputs": [
    {
     "data": {
      "text/plain": [
       "({'CD': 4009604822686.63*CID1*CDHe - 1.60769308341119e+25*k31*CD,\n",
       "  'CDHe': 4009604822686.63*CID2*CDHe2 - 1.60769308341119e+25*k32*CDHe,\n",
       "  'CDHe2': 4009604822686.63*CID3*CDHe3 - 1.60769308341119e+25*k33*CDHe2,\n",
       "  'CDHe3': 4009604822686.63*CID4*CDHe4 - 1.60769308341119e+25*k34*CDHe3,\n",
       "  'CDHe4': 4009604822686.63*CID5*CDHe5 - 1.60769308341119e+25*k35*CDHe4,\n",
       "  'CDHe5': -4009604822686.63*CID5*CDHe5 + 1.60769308341119e+25*k35*CDHe4},\n",
       " (CD, CDHe, CDHe2, CDHe3, CDHe4, CDHe5))"
      ]
     },
     "execution_count": 13,
     "metadata": {},
     "output_type": "execute_result"
    }
   ],
   "source": [
    "formationRate = {}\n",
    "\n",
    "for i, forward, reverse in zip(range(len(rateEquation[\"forward\"])), rateEquation[\"forward\"], rateEquation[\"reverse\"]):\n",
    "    formationRate[f\"{label[i]}\"] = -getValfromVariable(forward)*getValfromVariable(reactantVariable[i]) + getValfromVariable(reverse)*getValfromVariable(reactantVariable[i+1])\n",
    "\n",
    "formationRateList = list(formationRate.values())\n",
    "formationRate[f\"{label[-1]}\"] =  -formationRateList[-1]\n",
    "formationRateList = list(formationRate.values())\n",
    "formationRate, reactantVariable"
   ]
  },
  {
   "cell_type": "code",
   "execution_count": 14,
   "metadata": {},
   "outputs": [
    {
     "name": "stdout",
     "output_type": "stream",
     "text": [
      "\n",
      "Derivative(CD, t):4009604822686.63*CID1*CDHe - 1.60769308341119e+25*k31*CD\n",
      "\n",
      "Derivative(CDHe, t):-4009604822686.63*CID1*CDHe + 4009604822686.63*CID2*CDHe2 + 1.60769308341119e+25*k31*CD - 1.60769308341119e+25*k32*CDHe\n",
      "\n",
      "Derivative(CDHe2, t):-4009604822686.63*CID2*CDHe2 + 4009604822686.63*CID3*CDHe3 + 1.60769308341119e+25*k32*CDHe - 1.60769308341119e+25*k33*CDHe2\n",
      "\n",
      "Derivative(CDHe3, t):-4009604822686.63*CID3*CDHe3 + 4009604822686.63*CID4*CDHe4 + 1.60769308341119e+25*k33*CDHe2 - 1.60769308341119e+25*k34*CDHe3\n",
      "\n",
      "Derivative(CDHe4, t):-4009604822686.63*CID4*CDHe4 + 4009604822686.63*CID5*CDHe5 + 1.60769308341119e+25*k34*CDHe3 - 1.60769308341119e+25*k35*CDHe4\n",
      "\n",
      "Derivative(CDHe5, t):-4009604822686.63*CID5*CDHe5 + 1.60769308341119e+25*k35*CDHe4\n"
     ]
    }
   ],
   "source": [
    "rate_model = {D(getValfromVariable(reactantVariable[0]), t): getValfromVariable(formationRateList[0]) }\n",
    "for i in range(1, totalReactionsNumber-1):\n",
    "    rate_model[D(getValfromVariable(reactantVariable[i]), t)] =  getValfromVariable(formationRateList[i]) -getValfromVariable(formationRateList[i-1])\n",
    "    \n",
    "rate_model[D(getValfromVariable(reactantVariable[-1]), t)] = getValfromVariable(formationRateList[-1])\n",
    "\n",
    "for i, j in rate_model.items():\n",
    "    print(f\"\\n{i}:{j}\")"
   ]
  },
  {
   "cell_type": "code",
   "execution_count": 15,
   "metadata": {},
   "outputs": [
    {
     "name": "stdout",
     "output_type": "stream",
     "text": [
      "Derivative(CD, t; CID1, CID2, CID3, CID4, CID5, k31, k32, k33, k34, k35) = 4009604822686.63*CID1*CDHe - 1.60769308341119e+25*k31*CD\n",
      "Derivative(CDHe, t; CID1, CID2, CID3, CID4, CID5, k31, k32, k33, k34, k35) = -4009604822686.63*CID1*CDHe + 4009604822686.63*CID2*CDHe2 + 1.60769308341119e+25*k31*CD - 1.60769308341119e+25*k32*CDHe\n",
      "Derivative(CDHe2, t; CID1, CID2, CID3, CID4, CID5, k31, k32, k33, k34, k35) = -4009604822686.63*CID2*CDHe2 + 4009604822686.63*CID3*CDHe3 + 1.60769308341119e+25*k32*CDHe - 1.60769308341119e+25*k33*CDHe2\n",
      "Derivative(CDHe3, t; CID1, CID2, CID3, CID4, CID5, k31, k32, k33, k34, k35) = -4009604822686.63*CID3*CDHe3 + 4009604822686.63*CID4*CDHe4 + 1.60769308341119e+25*k33*CDHe2 - 1.60769308341119e+25*k34*CDHe3\n",
      "Derivative(CDHe4, t; CID1, CID2, CID3, CID4, CID5, k31, k32, k33, k34, k35) = -4009604822686.63*CID4*CDHe4 + 4009604822686.63*CID5*CDHe5 + 1.60769308341119e+25*k34*CDHe3 - 1.60769308341119e+25*k35*CDHe4\n",
      "Derivative(CDHe5, t; CID1, CID2, CID3, CID4, CID5, k31, k32, k33, k34, k35) = -4009604822686.63*CID5*CDHe5 + 1.60769308341119e+25*k35*CDHe4\n",
      "True\n"
     ]
    }
   ],
   "source": [
    "ode_model = ODEModel(rate_model, initial=initial_cond)\n",
    "\n",
    "print(ode_model)\n",
    "\n",
    "print(ode_model.dependent_vars[0] == list(ode_model.initial.keys())[1])"
   ]
  },
  {
   "cell_type": "code",
   "execution_count": 33,
   "metadata": {},
   "outputs": [],
   "source": [
    "tdata = widgets.BoundedFloatText(\n",
    "    value=5,\n",
    "    min=1,\n",
    "    max=20,\n",
    "    step=0.25,\n",
    "    description='Simulation:',\n",
    ")\n",
    "logPlot = widgets.Checkbox(description=\"Log\", value=True)"
   ]
  },
  {
   "cell_type": "code",
   "execution_count": 17,
   "metadata": {},
   "outputs": [
    {
     "data": {
      "text/plain": [
       "{'t': BoundedFloatText(value=5.0, description='Simulation:', max=20.0, min=1.0, step=0.25),\n",
       " 'k31': FloatLogSlider(value=1e-30, description='k31', max=-20.0, min=-40.0, step=0.001),\n",
       " 'CID1': FloatLogSlider(value=1e-15, description='CID1', max=-10.0, min=-30.0, step=0.001),\n",
       " 'k32': FloatLogSlider(value=1e-30, description='k32', max=-20.0, min=-40.0, step=0.001),\n",
       " 'CID2': FloatLogSlider(value=1e-15, description='CID2', max=-10.0, min=-30.0, step=0.001),\n",
       " 'k33': FloatLogSlider(value=1e-30, description='k33', max=-20.0, min=-40.0, step=0.001),\n",
       " 'CID3': FloatLogSlider(value=1e-15, description='CID3', max=-10.0, min=-30.0, step=0.001),\n",
       " 'k34': FloatLogSlider(value=1e-30, description='k34', max=-20.0, min=-40.0, step=0.001),\n",
       " 'CID4': FloatLogSlider(value=1e-15, description='CID4', max=-10.0, min=-30.0, step=0.001),\n",
       " 'k35': FloatLogSlider(value=1e-30, description='k35', max=-20.0, min=-40.0, step=0.001),\n",
       " 'CID5': FloatLogSlider(value=1e-15, description='CID5', max=-10.0, min=-30.0, step=0.001)}"
      ]
     },
     "execution_count": 17,
     "metadata": {},
     "output_type": "execute_result"
    }
   ],
   "source": [
    "def float_slider(_value, _description, _min = -40, _max = -20, steps = 1e-3):\n",
    "    return widgets.FloatLogSlider(\n",
    "                value=_value,\n",
    "                base=10,\n",
    "                min=_min,\n",
    "                max=_max,\n",
    "                step=steps,\n",
    "                description=_description\n",
    "            )\n",
    "\n",
    "rateConstantSliderWidget = {\"t\":tdata}\n",
    "\n",
    "_minF, _maxF, _stepF = parameterMinMaxStepForward.value.split(\", \")\n",
    "_minR, _maxR, _stepR = parameterMinMaxStepReverse.value.split(\", \")\n",
    "\n",
    "for forwarLabel, reverseLabel in zip(nameOfParametersForward.value.split(\", \"), nameOfParametersReverse.value.split(\", \")):\n",
    "    _sliderWidgetForward = float_slider(1e-30, forwarLabel, _minF, _maxF, _stepF)\n",
    "    _sliderWidgetReverse = float_slider(1e-15, reverseLabel, _minR, _maxR, _stepR)\n",
    "    \n",
    "    rateConstantSliderWidget[forwarLabel] = _sliderWidgetForward\n",
    "    rateConstantSliderWidget[reverseLabel] = _sliderWidgetReverse\n",
    "\n",
    "rateConstantSliderWidget"
   ]
  },
  {
   "cell_type": "code",
   "execution_count": 38,
   "metadata": {},
   "outputs": [
    {
     "data": {
      "application/vnd.jupyter.widget-view+json": {
       "model_id": "137eeb7677364639a3bee22661b6fa49",
       "version_major": 2,
       "version_minor": 0
      },
      "text/plain": [
       "BoundedFloatText(value=5.0, description='Simulation:', max=20.0, min=1.0, step=0.25)"
      ]
     },
     "metadata": {},
     "output_type": "display_data"
    },
    {
     "data": {
      "application/vnd.jupyter.widget-view+json": {
       "model_id": "38dc8cdd86874c3d8b6e8dd786edefd1",
       "version_major": 2,
       "version_minor": 0
      },
      "text/plain": [
       "FloatLogSlider(value=2.884031503126612e-26, description='k31', max=-20.0, min=-40.0, step=0.001)"
      ]
     },
     "metadata": {},
     "output_type": "display_data"
    },
    {
     "data": {
      "application/vnd.jupyter.widget-view+json": {
       "model_id": "2b69621215cc4adb88611b98950cbe31",
       "version_major": 2,
       "version_minor": 0
      },
      "text/plain": [
       "FloatLogSlider(value=1e-15, description='CID1', max=-10.0, min=-30.0, step=0.001)"
      ]
     },
     "metadata": {},
     "output_type": "display_data"
    },
    {
     "data": {
      "application/vnd.jupyter.widget-view+json": {
       "model_id": "83508cd4aa2e44ca95ee57b21e5880e3",
       "version_major": 2,
       "version_minor": 0
      },
      "text/plain": [
       "FloatLogSlider(value=4.405548635065517e-25, description='k32', max=-20.0, min=-40.0, step=0.001)"
      ]
     },
     "metadata": {},
     "output_type": "display_data"
    },
    {
     "data": {
      "application/vnd.jupyter.widget-view+json": {
       "model_id": "8d082b01cb5945ebb41111073ee76800",
       "version_major": 2,
       "version_minor": 0
      },
      "text/plain": [
       "FloatLogSlider(value=1e-15, description='CID2', max=-10.0, min=-30.0, step=0.001)"
      ]
     },
     "metadata": {},
     "output_type": "display_data"
    },
    {
     "data": {
      "application/vnd.jupyter.widget-view+json": {
       "model_id": "80795f5c346747c2a66597139c05027a",
       "version_major": 2,
       "version_minor": 0
      },
      "text/plain": [
       "FloatLogSlider(value=1e-30, description='k33', max=-20.0, min=-40.0, step=0.001)"
      ]
     },
     "metadata": {},
     "output_type": "display_data"
    },
    {
     "data": {
      "application/vnd.jupyter.widget-view+json": {
       "model_id": "9c9898bddbc9441da792c6b4e50216dc",
       "version_major": 2,
       "version_minor": 0
      },
      "text/plain": [
       "FloatLogSlider(value=1e-15, description='CID3', max=-10.0, min=-30.0, step=0.001)"
      ]
     },
     "metadata": {},
     "output_type": "display_data"
    },
    {
     "data": {
      "application/vnd.jupyter.widget-view+json": {
       "model_id": "e7eacc739a1a4e009b759072d79475f0",
       "version_major": 2,
       "version_minor": 0
      },
      "text/plain": [
       "FloatLogSlider(value=1e-30, description='k34', max=-20.0, min=-40.0, step=0.001)"
      ]
     },
     "metadata": {},
     "output_type": "display_data"
    },
    {
     "data": {
      "application/vnd.jupyter.widget-view+json": {
       "model_id": "d7478f8d32be41a58af6c90950b7e262",
       "version_major": 2,
       "version_minor": 0
      },
      "text/plain": [
       "FloatLogSlider(value=1e-15, description='CID4', max=-10.0, min=-30.0, step=0.001)"
      ]
     },
     "metadata": {},
     "output_type": "display_data"
    },
    {
     "data": {
      "application/vnd.jupyter.widget-view+json": {
       "model_id": "951166f33be0446e831898c4356f90d7",
       "version_major": 2,
       "version_minor": 0
      },
      "text/plain": [
       "FloatLogSlider(value=1e-30, description='k35', max=-20.0, min=-40.0, step=0.001)"
      ]
     },
     "metadata": {},
     "output_type": "display_data"
    },
    {
     "data": {
      "application/vnd.jupyter.widget-view+json": {
       "model_id": "aabc30d859dd43668317fbd1a499bf2d",
       "version_major": 2,
       "version_minor": 0
      },
      "text/plain": [
       "FloatLogSlider(value=1e-15, description='CID5', max=-10.0, min=-30.0, step=0.001)"
      ]
     },
     "metadata": {},
     "output_type": "display_data"
    },
    {
     "data": {
      "application/vnd.jupyter.widget-view+json": {
       "model_id": "6553912c298a44b191a751fa5e6e3560",
       "version_major": 2,
       "version_minor": 0
      },
      "text/plain": [
       "Checkbox(value=True, description='Log')"
      ]
     },
     "metadata": {},
     "output_type": "display_data"
    },
    {
     "data": {
      "application/vnd.jupyter.widget-view+json": {
       "model_id": "419ecd87b6134aeaac42b7bbc8ce0618",
       "version_major": 2,
       "version_minor": 0
      },
      "text/plain": [
       "Output()"
      ]
     },
     "metadata": {},
     "output_type": "display_data"
    }
   ],
   "source": [
    "def func(log=True, **kwargs):\n",
    "    \n",
    "    print(kwargs)\n",
    "    \n",
    "    # Simulation time\n",
    "    simulationTime = kwargs[\"t\"] = np.linspace(0, kwargs[\"t\"], 1000)\n",
    "    \n",
    "    simulationData = ode_model(**kwargs)\n",
    "    \n",
    "    fig, ax = plt.subplots(figsize=(10, 6))\n",
    "    \n",
    "    color = 0\n",
    "    for sim, exp, lg in zip(simulationData, fullDataValues, label):\n",
    "        ax.plot(simulationTime, sim, f\"C{color}\", label=f\"{lg}$^+$\")\n",
    "        ax.plot(expTime, exp, f\".C{color}\")\n",
    "        color += 1\n",
    "        \n",
    "    plt.ylabel('Counts')\n",
    "    plt.xlabel('Time (s)')\n",
    "    \n",
    "    plt.grid()\n",
    "    if log: plt.yscale('log')\n",
    "    plt.legend(bbox_to_anchor=(1.2, 1))\n",
    "    plt.show()\n",
    "    plt.close('all')\n",
    "\n",
    "out = widgets.interactive_output(func,  {\"log\":logPlot, **rateConstantSliderWidget})\n",
    "display(*list(rateConstantSliderWidget.values()), out)"
   ]
  },
  {
   "cell_type": "code",
   "execution_count": 36,
   "metadata": {},
   "outputs": [
    {
     "data": {
      "text/plain": [
       "(31, 28)"
      ]
     },
     "execution_count": 36,
     "metadata": {},
     "output_type": "execute_result"
    }
   ],
   "source": [
    "time.size, fullDataValues[0].size"
   ]
  },
  {
   "cell_type": "code",
   "execution_count": null,
   "metadata": {},
   "outputs": [],
   "source": []
  },
  {
   "cell_type": "code",
   "execution_count": null,
   "metadata": {},
   "outputs": [],
   "source": []
  },
  {
   "cell_type": "code",
   "execution_count": null,
   "metadata": {},
   "outputs": [],
   "source": []
  }
 ],
 "metadata": {
  "kernelspec": {
   "display_name": "Python 3",
   "language": "python",
   "name": "python3"
  },
  "language_info": {
   "codemirror_mode": {
    "name": "ipython",
    "version": 3
   },
   "file_extension": ".py",
   "mimetype": "text/x-python",
   "name": "python",
   "nbconvert_exporter": "python",
   "pygments_lexer": "ipython3",
   "version": "3.8.3"
  }
 },
 "nbformat": 4,
 "nbformat_minor": 4
}
