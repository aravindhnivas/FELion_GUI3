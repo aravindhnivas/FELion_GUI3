{
 "cells": [
  {
   "cell_type": "code",
   "execution_count": 1,
   "metadata": {},
   "outputs": [
    {
     "data": {
      "text/plain": [
       "'D:\\\\FELion_GUI3\\\\static\\\\assets\\\\python_files\\\\ODE'"
      ]
     },
     "execution_count": 1,
     "metadata": {},
     "output_type": "execute_result"
    }
   ],
   "source": [
    "import os\n",
    "import ctypes\n",
    "from symfit import variables, Parameter, ODEModel, D, Fit, parameters, Variable\n",
    "import numpy as np\n",
    "from uncertainties import ufloat as uf\n",
    "from scipy.optimize import curve_fit\n",
    "import matplotlib.pyplot as plt\n",
    "from scipy.integrate import solve_ivp\n",
    "from pathlib import Path as pt\n",
    "from ipywidgets import widgets\n",
    "from timescan import timescanplot\n",
    "from time import time as start_time\n",
    "os.getcwd()"
   ]
  },
  {
   "cell_type": "code",
   "execution_count": 2,
   "metadata": {},
   "outputs": [],
   "source": [
    "%matplotlib inline"
   ]
  },
  {
   "cell_type": "code",
   "execution_count": 3,
   "metadata": {},
   "outputs": [],
   "source": [
    "from widgetDefinitions import createWidgets"
   ]
  },
  {
   "cell_type": "code",
   "execution_count": 4,
   "metadata": {},
   "outputs": [
    {
     "data": {
      "text/html": [
       "        <script type=\"text/javascript\">\n",
       "        window.PlotlyConfig = {MathJaxConfig: 'local'};\n",
       "        if (window.MathJax) {MathJax.Hub.Config({SVG: {font: \"STIX-Web\"}});}\n",
       "        if (typeof require !== 'undefined') {\n",
       "        require.undef(\"plotly\");\n",
       "        requirejs.config({\n",
       "            paths: {\n",
       "                'plotly': ['https://cdn.plot.ly/plotly-latest.min']\n",
       "            }\n",
       "        });\n",
       "        require(['plotly'], function(Plotly) {\n",
       "            window._Plotly = Plotly;\n",
       "        });\n",
       "        }\n",
       "        </script>\n",
       "        "
      ]
     },
     "metadata": {},
     "output_type": "display_data"
    }
   ],
   "source": [
    "import plotly.graph_objs as go\n",
    "from plotly.offline import init_notebook_mode, iplot\n",
    "init_notebook_mode(connected=True)"
   ]
  },
  {
   "cell_type": "code",
   "execution_count": 5,
   "metadata": {},
   "outputs": [],
   "source": [
    "def definingParameter(value):\n",
    "    exec(value)\n",
    "    return locals()\n",
    "\n",
    "def getValfromAddress(address):\n",
    "    return ctypes.cast(address, ctypes.py_object).value\n",
    "\n",
    "def getValfromVariable(variable):\n",
    "    address = id(variable)\n",
    "    return getValfromAddress(address)"
   ]
  },
  {
   "cell_type": "code",
   "execution_count": 6,
   "metadata": {},
   "outputs": [],
   "source": [
    "import string\n",
    "alphabets = string.ascii_uppercase"
   ]
  },
  {
   "cell_type": "code",
   "execution_count": 7,
   "metadata": {},
   "outputs": [],
   "source": [
    "style = {'description_width': 'initial', 'width':\"100\"}\n",
    "layout=widgets.Layout(width='50%')\n"
   ]
  },
  {
   "cell_type": "code",
   "execution_count": 23,
   "metadata": {},
   "outputs": [],
   "source": [
    "twidget = createWidgets(filetype=\"scan\", multiselect=False)\n",
    "twidget.location.value = r\"Z:\\Students\\Aravindh\\Measurements\\CD+\\timescan\""
   ]
  },
  {
   "cell_type": "code",
   "execution_count": 24,
   "metadata": {},
   "outputs": [],
   "source": [
    "# Z:\\Students\\Aravindh\\Measurements\\CD+\\timescan"
   ]
  },
  {
   "cell_type": "code",
   "execution_count": 103,
   "metadata": {},
   "outputs": [
    {
     "data": {
      "application/vnd.jupyter.widget-view+json": {
       "model_id": "5e6cb484ad5340e5b44b14d251e422fe",
       "version_major": 2,
       "version_minor": 0
      },
      "text/plain": [
       "Button(button_style='success', description='update location', layout=Layout(width='20%'), style=ButtonStyle())"
      ]
     },
     "metadata": {},
     "output_type": "display_data"
    },
    {
     "data": {
      "application/vnd.jupyter.widget-view+json": {
       "model_id": "1531f7f09bca4ab4bd28c08ce9a245d5",
       "version_major": 2,
       "version_minor": 0
      },
      "text/plain": [
       "interactive(children=(Text(value='Z:\\\\Students\\\\Aravindh\\\\Measurements\\\\CD+\\\\timescan', description='scan loca…"
      ]
     },
     "metadata": {},
     "output_type": "display_data"
    }
   ],
   "source": [
    "display(twidget.update_files_button)\n",
    "\n",
    "time, mass = [], []\n",
    "\n",
    "def init(location, filename):\n",
    "    global time, mass, m\n",
    "    file = pt(location) / filename\n",
    "    time, mean, error, mass, t_res, t_b0  = timescanplot(file).get_data()\n",
    "    m = timescanplot(file).get_fullmass()\n",
    "\n",
    "    data = list(m.values())\n",
    "    iplot(data)\n",
    "\n",
    "out = widgets.interactive(init, location=twidget.location, filename=twidget.files)\n",
    "display(out)"
   ]
  },
  {
   "cell_type": "code",
   "execution_count": 105,
   "metadata": {},
   "outputs": [
    {
     "data": {
      "application/vnd.jupyter.widget-view+json": {
       "model_id": "9e7288738fb04a5b9992793e044f1e03",
       "version_major": 2,
       "version_minor": 0
      },
      "text/plain": [
       "BoundedIntText(value=4, description='numberOfReaction', layout=Layout(width='50%'), style=DescriptionStyle(des…"
      ]
     },
     "metadata": {},
     "output_type": "display_data"
    },
    {
     "data": {
      "application/vnd.jupyter.widget-view+json": {
       "model_id": "ce3c5d9fe67e40e4b3204d9b4d6121cd",
       "version_major": 2,
       "version_minor": 0
      },
      "text/plain": [
       "Text(value='13.8u, 17.8u, 21.8u, 25.8u', description='nameOfReactants', layout=Layout(width='50%'), style=Desc…"
      ]
     },
     "metadata": {},
     "output_type": "display_data"
    },
    {
     "data": {
      "application/vnd.jupyter.widget-view+json": {
       "model_id": "67bd68beffd943d2a864f3501c8da464",
       "version_major": 2,
       "version_minor": 0
      },
      "text/plain": [
       "Text(value='CD, CDHe, CDHe2, CDHe3, CDHe4, CDHe5', description='labelnameOfReactants', layout=Layout(width='50…"
      ]
     },
     "metadata": {},
     "output_type": "display_data"
    },
    {
     "data": {
      "application/vnd.jupyter.widget-view+json": {
       "model_id": "eb46537f28554f78a132c91b5f967e39",
       "version_major": 2,
       "version_minor": 0
      },
      "text/plain": [
       "Text(value='k31, k32, k33', description='nameOfParametersForward', layout=Layout(width='50%'), style=Descripti…"
      ]
     },
     "metadata": {},
     "output_type": "display_data"
    },
    {
     "data": {
      "application/vnd.jupyter.widget-view+json": {
       "model_id": "22d669a8e4b141a6a54f950566c88929",
       "version_major": 2,
       "version_minor": 0
      },
      "text/plain": [
       "Text(value='-40, -20, 0.001', description='parameterMinMaxStep', style=DescriptionStyle(description_width='ini…"
      ]
     },
     "metadata": {},
     "output_type": "display_data"
    },
    {
     "data": {
      "application/vnd.jupyter.widget-view+json": {
       "model_id": "35623f6844a9450c958ee58f6b8717e5",
       "version_major": 2,
       "version_minor": 0
      },
      "text/plain": [
       "Text(value='CID1, CID2, CID3', description='nameOfParametersReverse', layout=Layout(width='50%'), style=Descri…"
      ]
     },
     "metadata": {},
     "output_type": "display_data"
    },
    {
     "data": {
      "application/vnd.jupyter.widget-view+json": {
       "model_id": "8a02e763fbb54189b8e31ca7555276b5",
       "version_major": 2,
       "version_minor": 0
      },
      "text/plain": [
       "Text(value='-30, -10, 0.001', description='parameterMinMaxStep', style=DescriptionStyle(description_width='ini…"
      ]
     },
     "metadata": {},
     "output_type": "display_data"
    }
   ],
   "source": [
    "\n",
    "totalReactionsNumber = len(mass)\n",
    "\n",
    "numberOfReaction = widgets.BoundedIntText(description=\"numberOfReaction\", style = style, value=totalReactionsNumber, layout=layout)\n",
    "nameOfReactants = widgets.Text(description=\"nameOfReactants\", style = style, value=\", \".join([f\"{i}u\" for i in mass]), layout=layout)\n",
    "labelnameOfReactants = widgets.Text(description=\"labelnameOfReactants\", style = style, value=\"CD, CDHe, CDHe2, CDHe3, CDHe4, CDHe5\", layout=layout)\n",
    "nameOfParametersForward = widgets.Text(description=\"nameOfParametersForward\", style = style,value=\", \".join([f\"k3{i}\" for i in range(1, totalReactionsNumber)]), layout=layout)\n",
    "nameOfParametersReverse = widgets.Text(description=\"nameOfParametersReverse\", style = style,value=\", \".join([f\"CID{i}\" for i in range(1, totalReactionsNumber)]), layout=layout)\n",
    "parameterMinMaxStepForward = widgets.Text(description=\"parameterMinMaxStep\", style = style, value=\"-40, -20, 0.001\")\n",
    "parameterMinMaxStepReverse = widgets.Text(description=\"parameterMinMaxStep\", style = style, value=\"-30, -10, 0.001\")\n",
    "\n",
    "kineticsWidget = [numberOfReaction, nameOfReactants, labelnameOfReactants, nameOfParametersForward, parameterMinMaxStepForward, nameOfParametersReverse, parameterMinMaxStepReverse]\n",
    "\n",
    "display(*kineticsWidget)"
   ]
  },
  {
   "cell_type": "code",
   "execution_count": 89,
   "metadata": {},
   "outputs": [
    {
     "data": {
      "application/vnd.jupyter.widget-view+json": {
       "model_id": "f69446c848b843d19d6577bcf687298c",
       "version_major": 2,
       "version_minor": 0
      },
      "text/plain": [
       "BoundedIntText(value=1, description='timeStartIndex', style=DescriptionStyle(description_width='initial'))"
      ]
     },
     "metadata": {},
     "output_type": "display_data"
    },
    {
     "data": {
      "application/vnd.jupyter.widget-view+json": {
       "model_id": "e9904a9c16254c6baff7378f1e250e84",
       "version_major": 2,
       "version_minor": 0
      },
      "text/plain": [
       "BoundedIntText(value=-1, description='endtimeIndex', min=-1, style=DescriptionStyle(description_width='initial…"
      ]
     },
     "metadata": {},
     "output_type": "display_data"
    }
   ],
   "source": [
    "timeStartIndexWidget = widgets.BoundedIntText(value=1, description=\"timeStartIndex\",min=0, style=style)\n",
    "endtimeIndexWidget = widgets.BoundedIntText(value=-1, description=\"endtimeIndex\", min=-1, style=style)\n",
    "display(timeStartIndexWidget, endtimeIndexWidget)"
   ]
  },
  {
   "cell_type": "code",
   "execution_count": 90,
   "metadata": {},
   "outputs": [
    {
     "name": "stdout",
     "output_type": "stream",
     "text": [
      "timeStartIndex=1, endtimeIndex=-1\n"
     ]
    }
   ],
   "source": [
    "timeStartIndex = timeStartIndexWidget.value\n",
    "endtimeIndex = endtimeIndexWidget.value\n",
    "print(f'{timeStartIndex=}, {endtimeIndex=}')\n",
    "\n",
    "expTime = time[timeStartIndex:endtimeIndex] / 1000\n",
    "fullData = {}\n",
    "\n",
    "for key in nameOfReactants.value.split(\", \"):\n",
    "    fullData[key] = m[key]['y'][timeStartIndex:endtimeIndex]\n",
    "    \n",
    "fullDataValues = np.array(list(fullData.values()))"
   ]
  },
  {
   "cell_type": "code",
   "execution_count": null,
   "metadata": {},
   "outputs": [],
   "source": []
  },
  {
   "cell_type": "code",
   "execution_count": 72,
   "metadata": {},
   "outputs": [
    {
     "name": "stdout",
     "output_type": "stream",
     "text": [
      "reactantVariable=(CD, CDHe)\n",
      "reactantVariableAddress=[2103601148528, 2103586314016]\n",
      "[1642.    6.]\n"
     ]
    },
    {
     "data": {
      "application/vnd.jupyter.widget-view+json": {
       "model_id": "1cefb478147c4b24bbae33e5b884e5c1",
       "version_major": 2,
       "version_minor": 0
      },
      "text/plain": [
       "BoundedFloatText(value=1642.0, description='CD+', max=1e+20, step=20.0)"
      ]
     },
     "metadata": {},
     "output_type": "display_data"
    },
    {
     "data": {
      "application/vnd.jupyter.widget-view+json": {
       "model_id": "04c8b4388e6b4926834ff136ad7aab1d",
       "version_major": 2,
       "version_minor": 0
      },
      "text/plain": [
       "BoundedFloatText(value=6.0, description='CDHe+', max=1e+20, step=20.0)"
      ]
     },
     "metadata": {},
     "output_type": "display_data"
    }
   ],
   "source": [
    "t = Variable(\"t\")\n",
    "\n",
    "reactantVariable = variables(labelnameOfReactants.value)\n",
    "reactantVariableAddress = [id(i) for i in reactantVariable]\n",
    "\n",
    "print(f\"{reactantVariable=}\\n{reactantVariableAddress=}\")\n",
    "\n",
    "label = labelnameOfReactants.value.split(\", \")\n",
    "if len(label) == 0:\n",
    "    label = [alphabets[i] for i in range(len(totalReactionsNumber))]\n",
    "    \n",
    "initialCondition = fullDataValues.T[0]\n",
    "print(initialCondition)\n",
    "\n",
    "initialConditionWidgets = []\n",
    "\n",
    "\n",
    "for i, val in enumerate(initialCondition):\n",
    "    _widget = widgets.BoundedFloatText(value=val, description=f\"{label[i]}+\", max=1e20, min=0, step=20)\n",
    "    initialConditionWidgets.append(_widget)\n",
    "    \n",
    "display(*initialConditionWidgets)"
   ]
  },
  {
   "cell_type": "code",
   "execution_count": 73,
   "metadata": {},
   "outputs": [
    {
     "name": "stdout",
     "output_type": "stream",
     "text": [
      "{t: 0, CD: 1642.0, CDHe: 6.0}\n"
     ]
    },
    {
     "data": {
      "text/plain": [
       "True"
      ]
     },
     "execution_count": 73,
     "metadata": {},
     "output_type": "execute_result"
    }
   ],
   "source": [
    "# Initial condition\n",
    "initial_cond = {t:0}\n",
    "\n",
    "for i, variable in enumerate(reactantVariable):\n",
    "    initial_cond[getValfromVariable(variable)] = initialConditionWidgets[i].value\n",
    "    \n",
    "print(initial_cond)\n",
    "list(initial_cond.keys())[1] == reactantVariable[0]"
   ]
  },
  {
   "cell_type": "code",
   "execution_count": null,
   "metadata": {},
   "outputs": [],
   "source": [
    "tempWidget = widgets.BoundedFloatText(value=4.5, min=0, max=400, step=0.5)\n",
    "pbeforeWidget = widgets.FloatLogSlider(base=10, value=1e-9, min=-10, max=-4)\n",
    "paftereWidget = widgets.FloatLogSlider(base=10, value=1e-7, min=-10, max=-4)"
   ]
  },
  {
   "cell_type": "code",
   "execution_count": 119,
   "metadata": {},
   "outputs": [
    {
     "data": {
      "application/vnd.jupyter.widget-view+json": {
       "model_id": "92612ce6ee534091afe9b81015860456",
       "version_major": 2,
       "version_minor": 0
      },
      "text/plain": [
       "interactive(children=(BoundedFloatText(value=4.5, description='temp', max=400.0, step=0.5), FloatLogSlider(val…"
      ]
     },
     "metadata": {},
     "output_type": "display_data"
    }
   ],
   "source": [
    "# He/Ne number density\n",
    "numberDensityValue = None\n",
    "def numberDensity(temp, pbefore, pafter):\n",
    "    global numberDensityValue\n",
    "    constant = 4.18e17 # 1/boltzman_constant*sqrt(T)\n",
    "    C = uf(205.54, 2.5) # Calibration factor \n",
    "    T = uf(temp, 0.1) # Temperature\n",
    "    p = pafter - pbefore\n",
    "    numberDensityValue = (constant*C*p)/(T**0.5)\n",
    "    print(f\"{pbefore=}, {pafter=}\")\n",
    "    print(numberDensityValue)\n",
    "    return numberDensityValue.nominal_value\n",
    "\n",
    "numberDensityWidgetOutput = widgets.interact(numberDensity, temp=tempWidget, pbefore=pbeforeWidget, pafter=paftereWidget)"
   ]
  },
  {
   "cell_type": "code",
   "execution_count": 121,
   "metadata": {},
   "outputs": [
    {
     "data": {
      "text/plain": [
       "3540227760033.702+/-58322216346.722336"
      ]
     },
     "execution_count": 121,
     "metadata": {},
     "output_type": "execute_result"
    }
   ],
   "source": [
    "numberDensityValue"
   ]
  },
  {
   "cell_type": "code",
   "execution_count": 75,
   "metadata": {},
   "outputs": [
    {
     "name": "stdout",
     "output_type": "stream",
     "text": [
      "numberDensity: 4.01e+12\n"
     ]
    },
    {
     "data": {
      "text/plain": [
       "{'forward': [1.60769308341119e+25*k31], 'reverse': [4009604822686.63*CID1]}"
      ]
     },
     "execution_count": 75,
     "metadata": {},
     "output_type": "execute_result"
    }
   ],
   "source": [
    "He = numberDensityValue.nominal_value\n",
    "print(f\"numberDensity: {He:.2e}\")\n",
    "\n",
    "rateConstantParametersForward = parameters(nameOfParametersForward.value)\n",
    "rateConstantParametersReverse = parameters(nameOfParametersReverse.value)\n",
    "\n",
    "rateEquation = {\"forward\":[He**2 * getValfromVariable(i) for i in rateConstantParametersForward],\n",
    "                \"reverse\":[He * getValfromVariable(i) for i in rateConstantParametersReverse]}\n",
    "\n",
    "rateEquation"
   ]
  },
  {
   "cell_type": "code",
   "execution_count": 76,
   "metadata": {},
   "outputs": [
    {
     "data": {
      "text/plain": [
       "({'CD': 4009604822686.63*CID1*CDHe - 1.60769308341119e+25*k31*CD,\n",
       "  'CDHe': -4009604822686.63*CID1*CDHe + 1.60769308341119e+25*k31*CD},\n",
       " (CD, CDHe))"
      ]
     },
     "execution_count": 76,
     "metadata": {},
     "output_type": "execute_result"
    }
   ],
   "source": [
    "formationRate = {}\n",
    "\n",
    "for i, forward, reverse in zip(range(len(rateEquation[\"forward\"])), rateEquation[\"forward\"], rateEquation[\"reverse\"]):\n",
    "    formationRate[f\"{label[i]}\"] = -getValfromVariable(forward)*getValfromVariable(reactantVariable[i]) + getValfromVariable(reverse)*getValfromVariable(reactantVariable[i+1])\n",
    "\n",
    "formationRateList = list(formationRate.values())\n",
    "formationRate[f\"{label[-1]}\"] =  -formationRateList[-1]\n",
    "formationRateList = list(formationRate.values())\n",
    "formationRate, reactantVariable"
   ]
  },
  {
   "cell_type": "code",
   "execution_count": 77,
   "metadata": {},
   "outputs": [
    {
     "name": "stdout",
     "output_type": "stream",
     "text": [
      "\n",
      "Derivative(CD, t):4009604822686.63*CID1*CDHe - 1.60769308341119e+25*k31*CD\n",
      "\n",
      "Derivative(CDHe, t):-4009604822686.63*CID1*CDHe + 1.60769308341119e+25*k31*CD\n"
     ]
    }
   ],
   "source": [
    "rate_model = {D(getValfromVariable(reactantVariable[0]), t): getValfromVariable(formationRateList[0]) }\n",
    "for i in range(1, totalReactionsNumber-1):\n",
    "    rate_model[D(getValfromVariable(reactantVariable[i]), t)] =  getValfromVariable(formationRateList[i]) -getValfromVariable(formationRateList[i-1])\n",
    "    \n",
    "rate_model[D(getValfromVariable(reactantVariable[-1]), t)] = getValfromVariable(formationRateList[-1])\n",
    "\n",
    "for i, j in rate_model.items():\n",
    "    print(f\"\\n{i}:{j}\")"
   ]
  },
  {
   "cell_type": "code",
   "execution_count": 78,
   "metadata": {},
   "outputs": [
    {
     "name": "stdout",
     "output_type": "stream",
     "text": [
      "Derivative(CD, t; CID1, k31) = 4009604822686.63*CID1*CDHe - 1.60769308341119e+25*k31*CD\n",
      "Derivative(CDHe, t; CID1, k31) = -4009604822686.63*CID1*CDHe + 1.60769308341119e+25*k31*CD\n",
      "True\n"
     ]
    }
   ],
   "source": [
    "ode_model = ODEModel(rate_model, initial=initial_cond)\n",
    "\n",
    "print(ode_model)\n",
    "\n",
    "print(ode_model.dependent_vars[0] == list(ode_model.initial.keys())[1])"
   ]
  },
  {
   "cell_type": "code",
   "execution_count": 79,
   "metadata": {},
   "outputs": [],
   "source": [
    "tdata = widgets.BoundedFloatText(\n",
    "    value=5,\n",
    "    min=1,\n",
    "    max=20,\n",
    "    step=0.25,\n",
    "    description='Simulation:',\n",
    ")\n",
    "logPlot = widgets.Checkbox(description=\"Log\", value=True)"
   ]
  },
  {
   "cell_type": "code",
   "execution_count": 80,
   "metadata": {},
   "outputs": [
    {
     "data": {
      "text/plain": [
       "{'t': BoundedFloatText(value=5.0, description='Simulation:', max=20.0, min=1.0, step=0.25),\n",
       " 'k31': FloatLogSlider(value=1e-30, description='k31', max=-20.0, min=-40.0, step=0.001),\n",
       " 'CID1': FloatLogSlider(value=1e-15, description='CID1', max=-10.0, min=-30.0, step=0.001)}"
      ]
     },
     "execution_count": 80,
     "metadata": {},
     "output_type": "execute_result"
    }
   ],
   "source": [
    "def float_slider(_value, _description, _min = -40, _max = -20, steps = 1e-3):\n",
    "    return widgets.FloatLogSlider(\n",
    "                value=_value,\n",
    "                base=10,\n",
    "                min=_min,\n",
    "                max=_max,\n",
    "                step=steps,\n",
    "                description=_description\n",
    "            )\n",
    "\n",
    "rateConstantSliderWidget = {\"t\":tdata}\n",
    "\n",
    "_minF, _maxF, _stepF = parameterMinMaxStepForward.value.split(\", \")\n",
    "_minR, _maxR, _stepR = parameterMinMaxStepReverse.value.split(\", \")\n",
    "\n",
    "for forwarLabel, reverseLabel in zip(nameOfParametersForward.value.split(\", \"), nameOfParametersReverse.value.split(\", \")):\n",
    "    _sliderWidgetForward = float_slider(1e-30, forwarLabel, _minF, _maxF, _stepF)\n",
    "    _sliderWidgetReverse = float_slider(1e-15, reverseLabel, _minR, _maxR, _stepR)\n",
    "    \n",
    "    rateConstantSliderWidget[forwarLabel] = _sliderWidgetForward\n",
    "    rateConstantSliderWidget[reverseLabel] = _sliderWidgetReverse\n",
    "\n",
    "rateConstantSliderWidget"
   ]
  },
  {
   "cell_type": "code",
   "execution_count": 81,
   "metadata": {},
   "outputs": [
    {
     "data": {
      "application/vnd.jupyter.widget-view+json": {
       "model_id": "72b68eedc1f14ce797c651408c8076cd",
       "version_major": 2,
       "version_minor": 0
      },
      "text/plain": [
       "BoundedFloatText(value=5.0, description='Simulation:', max=20.0, min=1.0, step=0.25)"
      ]
     },
     "metadata": {},
     "output_type": "display_data"
    },
    {
     "data": {
      "application/vnd.jupyter.widget-view+json": {
       "model_id": "146d1b6545324a439e5543ce7540b5ec",
       "version_major": 2,
       "version_minor": 0
      },
      "text/plain": [
       "FloatLogSlider(value=1e-30, description='k31', max=-20.0, min=-40.0, step=0.001)"
      ]
     },
     "metadata": {},
     "output_type": "display_data"
    },
    {
     "data": {
      "application/vnd.jupyter.widget-view+json": {
       "model_id": "30334d9a21a04907b4783f8e2307b4a9",
       "version_major": 2,
       "version_minor": 0
      },
      "text/plain": [
       "FloatLogSlider(value=1e-15, description='CID1', max=-10.0, min=-30.0, step=0.001)"
      ]
     },
     "metadata": {},
     "output_type": "display_data"
    },
    {
     "data": {
      "application/vnd.jupyter.widget-view+json": {
       "model_id": "ffbbc5efb5c845fe8ff1b6ef11e642a6",
       "version_major": 2,
       "version_minor": 0
      },
      "text/plain": [
       "Checkbox(value=True, description='Log')"
      ]
     },
     "metadata": {},
     "output_type": "display_data"
    },
    {
     "data": {
      "application/vnd.jupyter.widget-view+json": {
       "model_id": "603c3881eb984cb2920b022a6a9501f2",
       "version_major": 2,
       "version_minor": 0
      },
      "text/plain": [
       "Output()"
      ]
     },
     "metadata": {},
     "output_type": "display_data"
    }
   ],
   "source": [
    "def func(log=True, **kwargs):\n",
    "    \n",
    "    print(kwargs)\n",
    "    \n",
    "    # Simulation time\n",
    "    simulationTime = kwargs[\"t\"] = np.linspace(0, kwargs[\"t\"], 1000)\n",
    "    \n",
    "    simulationData = ode_model(**kwargs)\n",
    "    \n",
    "    fig, ax = plt.subplots(figsize=(10, 6))\n",
    "    \n",
    "    color = 0\n",
    "    for sim, exp, lg in zip(simulationData, fullDataValues, label):\n",
    "        ax.plot(simulationTime, sim, f\"C{color}\", label=f\"{lg}$^+$\")\n",
    "        ax.plot(expTime, exp, f\".C{color}\", ms=10)\n",
    "        color += 1\n",
    "        \n",
    "    plt.ylabel('Counts')\n",
    "    plt.xlabel('Time (s)')\n",
    "    \n",
    "    plt.grid()\n",
    "    if log: plt.yscale('log')\n",
    "    plt.legend(bbox_to_anchor=(1.2, 1))\n",
    "    plt.show()\n",
    "    plt.close('all')\n",
    "\n",
    "out = widgets.interactive_output(func,  {\"log\":logPlot, **rateConstantSliderWidget})\n",
    "display(*list(rateConstantSliderWidget.values()), logPlot, out)"
   ]
  },
  {
   "cell_type": "code",
   "execution_count": 123,
   "metadata": {},
   "outputs": [
    {
     "data": {
      "text/plain": [
       "(6, 4)"
      ]
     },
     "execution_count": 123,
     "metadata": {},
     "output_type": "execute_result"
    }
   ],
   "source": [
    "time.size, fullDataValues[0].size"
   ]
  },
  {
   "cell_type": "code",
   "execution_count": null,
   "metadata": {},
   "outputs": [],
   "source": [
    "ROSAA_kinetics_widgets = {\"numberOfReaction\":numberOfReaction, \"nameOfReactants\":nameOfReactants, \"labelnameOfReactants\":labelnameOfReactants, \n",
    "                          \"nameOfParametersForward\":nameOfParametersForward, \"nameOfParametersReverse\":nameOfParametersReverse, \n",
    "                          \"parameterMinMaxStepForward\":parameterMinMaxStepForward, \"parameterMinMaxStepReverse\":parameterMinMaxStepReverse,\n",
    "                          \"timeStartIndex\":timeStartIndex, \"endtimeIndex\":endtimeIndex, \"initialConditionValues\":initialConditionValues\n",
    "                         }"
   ]
  },
  {
   "cell_type": "code",
   "execution_count": 122,
   "metadata": {},
   "outputs": [
    {
     "ename": "SyntaxError",
     "evalue": "invalid syntax (<ipython-input-122-eb688561d306>, line 2)",
     "output_type": "error",
     "traceback": [
      "\u001b[1;36m  File \u001b[1;32m\"<ipython-input-122-eb688561d306>\"\u001b[1;36m, line \u001b[1;32m2\u001b[0m\n\u001b[1;33m    timeStartIndex, endtimeIndex, initialConditionValues,\u001b[0m\n\u001b[1;37m    ^\u001b[0m\n\u001b[1;31mSyntaxError\u001b[0m\u001b[1;31m:\u001b[0m invalid syntax\n"
     ]
    }
   ],
   "source": [
    "def ROSAA_kinetics(numberOfReaction, nameOfReactants, labelnameOfReactants, nameOfParametersForward, nameOfParametersReverse, parameterMinMaxStepForward, parameterMinMaxStepReverse\n",
    "                  timeStartIndex, endtimeIndex, initialConditionValues, \n",
    "                  ):\n",
    "    \n",
    "    # Getting timescan data\n",
    "    expTime = time[timeStartIndex:endtimeIndex] / 1000\n",
    "    fullData = {}\n",
    "\n",
    "    for key in nameOfReactants.split(\", \"):\n",
    "        fullData[key] = m[key]['y'][timeStartIndex:endtimeIndex]\n",
    "\n",
    "    fullDataValues = np.array(list(fullData.values()))\n",
    "    \n",
    "    # Making variables\n",
    "    \n",
    "    t = Variable(\"t\")\n",
    "\n",
    "    reactantVariable = variables(labelnameOfReactants)\n",
    "\n",
    "    print(f\"{reactantVariable=}\\n{reactantVariableAddress=}\")\n",
    "\n",
    "    label = labelnameOfReactants.split(\", \")\n",
    "    \n",
    "    if len(label) == 0:\n",
    "        label = [alphabets[i] for i in range(len(totalReactionsNumber))]\n",
    "\n",
    "    initialConditionValues = initialConditionValues.split(\", \")\n",
    "\n",
    "    # Initial condition\n",
    "    initial_cond = {t:0}\n",
    "\n",
    "    for i, variable in enumerate(reactantVariable):\n",
    "        initial_cond[getValfromVariable(variable)] = initialConditionValues[i]\n",
    "\n",
    "    print(f\"{initial_cond=}\")\n",
    "    \n",
    "    # Rate Equation\n",
    "    He = numberDensityValue.nominal_value\n",
    "    \n",
    "    rateConstantParametersForward = parameters(nameOfParametersForward)\n",
    "    rateConstantParametersReverse = parameters(nameOfParametersReverse)\n",
    "\n",
    "    rateEquation = {\"forward\":[He**2 * getValfromVariable(i) for i in rateConstantParametersForward],\n",
    "                    \"reverse\":[He * getValfromVariable(i) for i in rateConstantParametersReverse]}\n",
    "    \n",
    "    # Formation rate\n",
    "    \n",
    "    formationRate = {}\n",
    "\n",
    "    for i, forward, reverse in zip(range(len(rateEquation[\"forward\"])), rateEquation[\"forward\"], rateEquation[\"reverse\"]):\n",
    "        formationRate[f\"{label[i]}\"] = -getValfromVariable(forward)*getValfromVariable(reactantVariable[i]) + getValfromVariable(reverse)*getValfromVariable(reactantVariable[i+1])\n",
    "\n",
    "    formationRateList = list(formationRate.values())\n",
    "    formationRate[f\"{label[-1]}\"] =  -formationRateList[-1]\n",
    "    formationRateList = list(formationRate.values())\n",
    "    \n",
    "    # Rate Modal\n",
    "    \n",
    "    rate_model = {D(getValfromVariable(reactantVariable[0]), t): getValfromVariable(formationRateList[0])}\n",
    "    \n",
    "    for i in range(1, totalReactionsNumber-1):\n",
    "        rate_model[D(getValfromVariable(reactantVariable[i]), t)] =  getValfromVariable(formationRateList[i]) -getValfromVariable(formationRateList[i-1])\n",
    "\n",
    "    rate_model[D(getValfromVariable(reactantVariable[-1]), t)] = getValfromVariable(formationRateList[-1])\n",
    "\n",
    "    for i, j in rate_model.items():\n",
    "        print(f\"\\n{i}:{j}\")\n",
    "        \n",
    "\n",
    "out = widgets.interactive_output(ROSAA_kinetics, )"
   ]
  },
  {
   "cell_type": "code",
   "execution_count": 68,
   "metadata": {},
   "outputs": [
    {
     "name": "stdout",
     "output_type": "stream",
     "text": [
      "Time taken: 0.5784268379211426 s\n",
      "\n",
      "Parameter Value        Standard Deviation\n",
      "CID1      1.000004e+00 1.308648e+13\n",
      "k31       9.999996e-01 6.979428e+11\n",
      "Status message         Desired error not necessarily achieved due to precision loss.\n",
      "Number of iterations   1\n",
      "Objective              <symfit.core.objectives.LeastSquares object at 0x000001E9C8E2F880>\n",
      "Minimizer              <symfit.core.minimizers.BFGS object at 0x000001E9C8E2F7C0>\n",
      "\n",
      "Goodness of fit qualifiers:\n",
      "chi_squared            14330354.333330387\n",
      "objective_value        7165177.166665194\n",
      "r_squared              -25087.806056278194\n"
     ]
    }
   ],
   "source": [
    "#Fitting\n",
    "t0 = start_time()\n",
    "\n",
    "fit = Fit(ode_model, t=expTime, CD=fullDataValues[0], CDHe=fullDataValues[1])\n",
    "fit_result = fit.execute()\n",
    "\n",
    "t1 = start_time()\n",
    "print(f'Time taken: {t1-t0} s')\n",
    "\n",
    "print(fit_result)"
   ]
  },
  {
   "cell_type": "code",
   "execution_count": 63,
   "metadata": {},
   "outputs": [
    {
     "data": {
      "text/plain": [
       "array([[1551.33333333, 1565.33333333, 1544.66666667],\n",
       "       [  12.33333333,   29.33333333,   38.33333333]])"
      ]
     },
     "execution_count": 63,
     "metadata": {},
     "output_type": "execute_result"
    }
   ],
   "source": [
    "fullDataValues"
   ]
  },
  {
   "cell_type": "code",
   "execution_count": 113,
   "metadata": {},
   "outputs": [
    {
     "data": {
      "text/plain": [
       "[t]"
      ]
     },
     "execution_count": 113,
     "metadata": {},
     "output_type": "execute_result"
    }
   ],
   "source": [
    "ode_model.independent_vars"
   ]
  },
  {
   "cell_type": "code",
   "execution_count": null,
   "metadata": {},
   "outputs": [],
   "source": []
  },
  {
   "cell_type": "code",
   "execution_count": null,
   "metadata": {},
   "outputs": [],
   "source": []
  },
  {
   "cell_type": "code",
   "execution_count": null,
   "metadata": {},
   "outputs": [],
   "source": []
  },
  {
   "cell_type": "code",
   "execution_count": null,
   "metadata": {},
   "outputs": [],
   "source": []
  },
  {
   "cell_type": "code",
   "execution_count": null,
   "metadata": {},
   "outputs": [],
   "source": []
  },
  {
   "cell_type": "code",
   "execution_count": null,
   "metadata": {},
   "outputs": [],
   "source": []
  },
  {
   "cell_type": "code",
   "execution_count": null,
   "metadata": {},
   "outputs": [],
   "source": []
  },
  {
   "cell_type": "code",
   "execution_count": null,
   "metadata": {},
   "outputs": [],
   "source": []
  }
 ],
 "metadata": {
  "kernelspec": {
   "display_name": "Python 3",
   "language": "python",
   "name": "python3"
  },
  "language_info": {
   "codemirror_mode": {
    "name": "ipython",
    "version": 3
   },
   "file_extension": ".py",
   "mimetype": "text/x-python",
   "name": "python",
   "nbconvert_exporter": "python",
   "pygments_lexer": "ipython3",
   "version": "3.8.3"
  }
 },
 "nbformat": 4,
 "nbformat_minor": 4
}
