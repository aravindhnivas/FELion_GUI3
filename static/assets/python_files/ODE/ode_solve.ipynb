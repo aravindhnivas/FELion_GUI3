{
 "cells": [
  {
   "cell_type": "code",
   "execution_count": 23,
   "metadata": {},
   "outputs": [],
   "source": [
    "import numpy as np\n",
    "from scipy.optimize import curve_fit\n",
    "from scipy.integrate import odeint\n",
    "import matplotlib.pyplot as plt\n",
    "from scipy.integrate import solve_ivp\n",
    "\n",
    "from ipywidgets import widgets"
   ]
  },
  {
   "cell_type": "code",
   "execution_count": 3,
   "metadata": {},
   "outputs": [],
   "source": [
    "# given data we want to fit\n",
    "experiment = {\"time\":[0, 0.1, 0.2, 0.4, 0.8, 1], \"y\":[2.0081,  1.5512,  1.1903,  0.7160,  0.2562,  0.1495]}"
   ]
  },
  {
   "cell_type": "code",
   "execution_count": null,
   "metadata": {},
   "outputs": [],
   "source": []
  },
  {
   "cell_type": "code",
   "execution_count": 4,
   "metadata": {
    "tags": []
   },
   "outputs": [],
   "source": [
    "\n",
    "def fitfunc(t, k):\n",
    "    'Function that returns Ca computed from an ODE for a k'\n",
    "\n",
    "    # initial condition\n",
    "\n",
    "    y0 = [experiment[\"y\"][0]]\n",
    "\n",
    "    # Using odeint\n",
    "\n",
    "    def forOdeint(y, t):\n",
    "        dydt = -k * y\n",
    "        return dydt\n",
    "        \n",
    "    #y = odeint(forOdeint, y0, t).T[0]\n",
    "\n",
    "    # Using solve_ivp\n",
    "\n",
    "    def forSolve_ivp(t, y):\n",
    "        dydt = -k * y\n",
    "        return dydt\n",
    "\n",
    "    tspan = [0, 1] # from t=0 to t=1\n",
    "    Casol = solve_ivp(forSolve_ivp, tspan, y0, t_eval = t)\n",
    "    y = Casol.y[0]\n",
    "    \n",
    "    return y"
   ]
  },
  {
   "cell_type": "code",
   "execution_count": 5,
   "metadata": {
    "tags": []
   },
   "outputs": [
    {
     "name": "stdout",
     "output_type": "stream",
     "text": [
      "k_fit: [2.5889432]\n"
     ]
    }
   ],
   "source": [
    "\n",
    "k_fit, kcov = curve_fit(fitfunc, experiment[\"time\"], experiment[\"y\"], p0=[1])\n",
    "print(f\"k_fit: {k_fit}\")\n",
    "tfit = np.linspace(0,1,6)\n",
    "fit = fitfunc(tfit, k_fit)"
   ]
  },
  {
   "cell_type": "code",
   "execution_count": 6,
   "metadata": {},
   "outputs": [
    {
     "data": {
      "text/plain": [
       "<matplotlib.legend.Legend at 0x23b00a4afd0>"
      ]
     },
     "execution_count": 6,
     "metadata": {},
     "output_type": "execute_result"
    },
    {
     "data": {
      "image/png": "[encoded data removed]",
      "text/plain": [
       "<Figure size 432x288 with 1 Axes>"
      ]
     },
     "metadata": {
      "needs_background": "light"
     },
     "output_type": "display_data"
    }
   ],
   "source": [
    "plt.plot(experiment[\"time\"], experiment[\"y\"], 'ro', label='data')\n",
    "plt.plot(tfit, fit, 'bo-', label='fit', alpha=0.5)\n",
    "plt.legend(loc='best')\n"
   ]
  },
  {
   "cell_type": "code",
   "execution_count": 202,
   "metadata": {},
   "outputs": [
    {
     "data": {
      "application/vnd.jupyter.widget-view+json": {
       "model_id": "49c0c9efca4846a9b6b2b8f3f07e4498",
       "version_major": 2,
       "version_minor": 0
      },
      "text/plain": [
       "BoundedIntText(value=0, description='numberOfReaction', style=DescriptionStyle(description_width='initial'))"
      ]
     },
     "metadata": {},
     "output_type": "display_data"
    },
    {
     "data": {
      "application/vnd.jupyter.widget-view+json": {
       "model_id": "444984f6c7a946808ff24f2761631592",
       "version_major": 2,
       "version_minor": 0
      },
      "text/plain": [
       "Text(value='', description='nameOfReactants', style=DescriptionStyle(description_width='initial'))"
      ]
     },
     "metadata": {},
     "output_type": "display_data"
    },
    {
     "data": {
      "application/vnd.jupyter.widget-view+json": {
       "model_id": "502adade008448deabe90d041aba5f2d",
       "version_major": 2,
       "version_minor": 0
      },
      "text/plain": [
       "Text(value='', description='nameOfParameters', style=DescriptionStyle(description_width='initial'))"
      ]
     },
     "metadata": {},
     "output_type": "display_data"
    },
    {
     "data": {
      "application/vnd.jupyter.widget-view+json": {
       "model_id": "1e5ee06b34004ca88d0c1a5f60f82031",
       "version_major": 2,
       "version_minor": 0
      },
      "text/plain": [
       "Text(value='', description='parameterMinMaxStep', style=DescriptionStyle(description_width='initial'))"
      ]
     },
     "metadata": {},
     "output_type": "display_data"
    }
   ],
   "source": [
    "style = {'description_width': 'initial'}\n",
    "\n",
    "numberOfReaction = widgets.BoundedIntText(description=\"numberOfReaction\", style = style)\n",
    "nameOfReactants = widgets.Text(description=\"nameOfReactants\", style = style)\n",
    "nameOfParameters = widgets.Text(description=\"nameOfParameters\", style = style)\n",
    "parameterMinMaxStep = widgets.Text(description=\"parameterMinMaxStep\", style = style)\n",
    "kineticsWidget = [numberOfReaction, nameOfReactants, nameOfParameters, parameterMinMaxStep]\n",
    "\n",
    "display(*kineticsWidget)"
   ]
  },
  {
   "cell_type": "code",
   "execution_count": 204,
   "metadata": {},
   "outputs": [
    {
     "data": {
      "application/vnd.jupyter.widget-view+json": {
       "model_id": "acc647614656456787f1507f4f8a8f10",
       "version_major": 2,
       "version_minor": 0
      },
      "text/plain": [
       "FloatLogSlider(value=1e-10, description='k1', max=-10.0, min=-40.0, step=0.001, style=SliderStyle(description_…"
      ]
     },
     "metadata": {},
     "output_type": "display_data"
    },
    {
     "data": {
      "application/vnd.jupyter.widget-view+json": {
       "model_id": "366e93215f3441088b88accb0b537f1b",
       "version_major": 2,
       "version_minor": 0
      },
      "text/plain": [
       "FloatLogSlider(value=1e-10, description='k2', max=-10.0, min=-40.0, step=0.001, style=SliderStyle(description_…"
      ]
     },
     "metadata": {},
     "output_type": "display_data"
    }
   ],
   "source": [
    "def makeParameters():\n",
    "    \n",
    "    parametersWidgets = {}\n",
    "    \n",
    "    description = nameOfParameters.value.split(\",\")\n",
    "    minMaxStep = parameterMinMaxStep.value.split(\",\")\n",
    "    _min, _max, _step = [float(i.strip()) for i in minMaxStep]\n",
    "    \n",
    "    for i in range(numberOfReaction.value):\n",
    "        parameterName = description[i].strip()\n",
    "        floatSlider = widgets.FloatLogSlider(description=parameterName, style = style, min=_min, max=_max, step=_step)\n",
    "        parametersWidgets[parameterName] = floatSlider\n",
    "    \n",
    "    return parametersWidgets\n",
    "\n",
    "parametersWidgets = makeParameters()\n",
    "\n",
    "display(*list(parametersWidgets.values()))\n"
   ]
  },
  {
   "cell_type": "code",
   "execution_count": 200,
   "metadata": {},
   "outputs": [
    {
     "data": {
      "text/plain": [
       "[<matplotlib.lines.Line2D at 0x23b06cfa760>,\n",
       " <matplotlib.lines.Line2D at 0x23b06cfa850>]"
      ]
     },
     "execution_count": 200,
     "metadata": {},
     "output_type": "execute_result"
    },
    {
     "data": {
      "image/png": "[encoded data removed]",
      "text/plain": [
       "<Figure size 432x288 with 1 Axes>"
      ]
     },
     "metadata": {
      "needs_background": "light"
     },
     "output_type": "display_data"
    }
   ],
   "source": [
    "def rateFunction(t, z, *args, **kwargs):\n",
    "    rate = {}\n",
    "    parameterNames = nameOfReactants.value.split(\",\")\n",
    "    for i in range(len(args)):\n",
    "        name = parameterNames[i].strip()\n",
    "        rate[name] = args[i] * z[i]\n",
    "    \n",
    "    return list(rate.values())\n",
    "\n",
    "timeSimulateInterval = [0, 1]\n",
    "initialConditions = [2, 2]\n",
    "\n",
    "parameterValues = [widget.value for widget in list(parametersWidgets.values())]\n",
    "\n",
    "solveDiffEq = solve_ivp(rateFunction, timeSimulateInterval, initialConditions, \n",
    "                        args=parameterValues, dense_output=True\n",
    "                       )\n",
    "\n",
    "timeSimulate = np.linspace(0, 2, 10)\n",
    "\n",
    "plt.plot(timeSimulate, solveDiffEq.sol(timeSimulate).T)"
   ]
  },
  {
   "cell_type": "code",
   "execution_count": null,
   "metadata": {},
   "outputs": [],
   "source": []
  },
  {
   "cell_type": "code",
   "execution_count": null,
   "metadata": {},
   "outputs": [],
   "source": []
  },
  {
   "cell_type": "code",
   "execution_count": null,
   "metadata": {},
   "outputs": [],
   "source": []
  },
  {
   "cell_type": "code",
   "execution_count": null,
   "metadata": {},
   "outputs": [],
   "source": []
  },
  {
   "cell_type": "code",
   "execution_count": null,
   "metadata": {},
   "outputs": [],
   "source": []
  },
  {
   "cell_type": "code",
   "execution_count": null,
   "metadata": {},
   "outputs": [],
   "source": []
  },
  {
   "cell_type": "code",
   "execution_count": null,
   "metadata": {},
   "outputs": [],
   "source": []
  },
  {
   "cell_type": "code",
   "execution_count": null,
   "metadata": {},
   "outputs": [],
   "source": []
  },
  {
   "cell_type": "code",
   "execution_count": null,
   "metadata": {},
   "outputs": [],
   "source": []
  },
  {
   "cell_type": "code",
   "execution_count": null,
   "metadata": {},
   "outputs": [],
   "source": []
  },
  {
   "cell_type": "code",
   "execution_count": null,
   "metadata": {},
   "outputs": [],
   "source": []
  },
  {
   "cell_type": "code",
   "execution_count": null,
   "metadata": {},
   "outputs": [],
   "source": []
  }
 ],
 "metadata": {
  "kernelspec": {
   "display_name": "Python 3",
   "language": "python",
   "name": "python3"
  },
  "language_info": {
   "codemirror_mode": {
    "name": "ipython",
    "version": 3
   },
   "file_extension": ".py",
   "mimetype": "text/x-python",
   "name": "python",
   "nbconvert_exporter": "python",
   "pygments_lexer": "ipython3",
   "version": "3.8.3"
  }
 },
 "nbformat": 4,
 "nbformat_minor": 4
}
