{
 "cells": [
  {
   "cell_type": "code",
   "execution_count": 1,
   "metadata": {},
   "outputs": [],
   "source": [
    "import os\n",
    "import ctypes\n",
    "from symfit import variables, Parameter, ODEModel, D, Fit, parameters, Variable\n",
    "import numpy as np\n",
    "from uncertainties import ufloat as uf\n",
    "from scipy.optimize import curve_fit\n",
    "import matplotlib.pyplot as plt\n",
    "from scipy.integrate import solve_ivp\n",
    "from pathlib import Path as pt\n",
    "from ipywidgets import widgets\n",
    "from timescan import timescanplot\n",
    "from time import time as start_time\n",
    "\n",
    "%matplotlib inline"
   ]
  },
  {
   "cell_type": "code",
   "execution_count": 2,
   "metadata": {},
   "outputs": [
    {
     "data": {
      "text/html": [
       "        <script type=\"text/javascript\">\n",
       "        window.PlotlyConfig = {MathJaxConfig: 'local'};\n",
       "        if (window.MathJax) {MathJax.Hub.Config({SVG: {font: \"STIX-Web\"}});}\n",
       "        if (typeof require !== 'undefined') {\n",
       "        require.undef(\"plotly\");\n",
       "        requirejs.config({\n",
       "            paths: {\n",
       "                'plotly': ['https://cdn.plot.ly/plotly-latest.min']\n",
       "            }\n",
       "        });\n",
       "        require(['plotly'], function(Plotly) {\n",
       "            window._Plotly = Plotly;\n",
       "        });\n",
       "        }\n",
       "        </script>\n",
       "        "
      ]
     },
     "metadata": {},
     "output_type": "display_data"
    }
   ],
   "source": [
    "from plotly.offline import init_notebook_mode\n",
    "init_notebook_mode(connected=True)\n",
    "\n",
    "# To display the figure defined by this dict, use the low-level plotly.io.show function\n",
    "import plotly.io as pio\n",
    "\n",
    "from widgetDefinitions import createWidgets\n",
    "import string\n",
    "\n",
    "alphabets = string.ascii_uppercase\n",
    "\n",
    "def definingParameter(value):\n",
    "    exec(value)\n",
    "    return locals()\n",
    "\n",
    "def getValfromAddress(address):\n",
    "    return ctypes.cast(address, ctypes.py_object).value\n",
    "\n",
    "def getValfromVariable(variable):\n",
    "    address = id(variable)\n",
    "    return getValfromAddress(address)\n",
    "\n",
    "def float_slider(_value, _description, _min = -40, _max = -20, steps = 1e-3):\n",
    "    return widgets.FloatLogSlider(\n",
    "                value=_value,\n",
    "                base=10,\n",
    "                min=_min,\n",
    "                max=_max,\n",
    "                step=steps,\n",
    "                description=_description\n",
    "            )"
   ]
  },
  {
   "cell_type": "code",
   "execution_count": 3,
   "metadata": {},
   "outputs": [],
   "source": [
    "style = {'description_width': 'initial', 'width':\"100\"}\n",
    "layout=widgets.Layout(width='50%')\n",
    "\n",
    "twidget = createWidgets(filetype=\"scan\", multiselect=False, locationValue=r\"D:\\SurfDrive\\THz_Measurements\\CD+\\timescan\")\n",
    "twidget.files.layout.height = \"300px\"\n",
    "\n",
    "timeStartIndex = widgets.BoundedIntText(value=1, description=\"timeStartIndex\",min=0, style=style)\n",
    "endtimeIndex = widgets.BoundedIntText(value=-1, description=\"endtimeIndex\", min=-1, style=style)\n",
    "\n",
    "defaultInitialValue = widgets.Checkbox(description=\"defaultInitialValue\", value=True)\n",
    "initialConditionValues = widgets.Text(description=\"initialConditionValues\", style = style, value=\"\", layout=layout)\n",
    "\n",
    "tempWidget = widgets.BoundedFloatText(value=4.5, min=0, max=400, step=0.5, description=\"Temperature\")\n",
    "pbeforeWidget = widgets.FloatLogSlider(base=10, value=1e-9, min=-10, max=-4, description=\"pbefore\")\n",
    "paftereWidget = widgets.FloatLogSlider(base=10, value=1e-7, min=-10, max=-4, description=\"paftere\")\n",
    "\n",
    "parameterMinMaxStepForwardWidget = widgets.Text(description=\"parameterMinMaxStep\", style = style, value=\"-40, -20, 0.001\")\n",
    "parameterMinMaxStepReverseWidget = widgets.Text(description=\"parameterMinMaxStep\", style = style, value=\"-30, -10, 0.001\")\n",
    "\n",
    "moleculeWidget = widgets.Text(description=\"Molecule, tag\", style = style, value=\"CD, Ne\")\n",
    "\n",
    "tdata = widgets.BoundedFloatText( value=5, min=1, max=20, step=0.25, description='Simulation:' )\n",
    "logPlot = widgets.Checkbox(description=\"Log\", value=True)\n",
    "fitWidget = widgets.Checkbox(description=\"fit\", value=True)\n",
    "oldDataToggle = widgets.Checkbox(description=\"old Data\", value=False)"
   ]
  },
  {
   "cell_type": "code",
   "execution_count": 4,
   "metadata": {},
   "outputs": [],
   "source": [
    "massOfReactants = widgets.Text(description=\"massOfReactants\", style = style, value=\", \", layout=layout)\n",
    "nameOfReactants = widgets.Text(description=\"nameOfReactants\", style = style, value=\", \", layout=layout)\n",
    "nameOfParametersForwardWidget = widgets.Text(description=\"nameOfParametersForward\", style = style,value=\", \", layout=layout)\n",
    "nameOfParametersReverseWidget = widgets.Text(description=\"nameOfParametersReverse\", style = style,value=\", \", layout=layout)\n",
    "\n",
    "ROSAA_kinetics_widgets = {\"massOfReactants\":massOfReactants, \"nameOfReactants\":nameOfReactants, \n",
    "                          \"timeStartIndex\":timeStartIndex, \"endtimeIndex\":endtimeIndex, \"initialConditionValues\":initialConditionValues, \"defaultInitialValue\":defaultInitialValue,\n",
    "                          \"fit\":fitWidget, \"parameterMinMaxStepForward\":parameterMinMaxStepForwardWidget, \"parameterMinMaxStepReverse\": parameterMinMaxStepReverseWidget\n",
    "                        }"
   ]
  },
  {
   "cell_type": "code",
   "execution_count": 5,
   "metadata": {},
   "outputs": [],
   "source": [
    "numberDensityValue = None\n",
    "def numberDensity(temp, pbefore, pafter):\n",
    "    global numberDensityValue\n",
    "    constant = 4.18e17 # 1/boltzman_constant*sqrt(T)\n",
    "    C = uf(205.54, 2.5) # Calibration factor \n",
    "    T = uf(temp, 0.1) # Temperature\n",
    "    p = pafter - pbefore\n",
    "    numberDensityValue = (constant*C*p)/(T**0.5)\n",
    "    print(f\"{pbefore=}, {pafter=}\")\n",
    "    print(numberDensityValue)\n",
    "    return numberDensityValue.nominal_value\n",
    "\n",
    "numberDensityWidgetOutput = widgets.interactive_output(numberDensity, dict(temp=tempWidget, pbefore=pbeforeWidget, pafter=paftereWidget))\n"
   ]
  },
  {
   "cell_type": "code",
   "execution_count": 6,
   "metadata": {},
   "outputs": [],
   "source": [
    "time, mass = None, None\n",
    "\n",
    "totalReactants = None\n",
    "rateConstantSliderWidget = None\n",
    "\n",
    "ode_model = None\n",
    "fullDataValues = None\n",
    "label = None\n",
    "expTime = None"
   ]
  },
  {
   "cell_type": "code",
   "execution_count": 7,
   "metadata": {},
   "outputs": [],
   "source": [
    "def ROSAA_kinetics(massOfReactants, nameOfReactants, timeStartIndex, endtimeIndex, \n",
    "                   initialConditionValues, defaultInitialValue, fit, parameterMinMaxStepForward, parameterMinMaxStepReverse\n",
    "                  ):\n",
    "    \n",
    "    global ode_model, fullDataValues, label, expTime\n",
    "    \n",
    "    massLabel = massOfReactants.split(\", \")\n",
    "    totalReactants = len(massLabel)\n",
    "    \n",
    "    nameOfParametersForward = \", \".join([f\"k3{i}\" for i in range(1, totalReactants)])\n",
    "    nameOfParametersReverse = \", \".join([f\"CID{i}\" for i in range(1, totalReactants)])\n",
    "    \n",
    "    nameOfParametersForwardWidget.value = nameOfParametersForward\n",
    "    nameOfParametersReverseWidget.value = nameOfParametersReverse\n",
    "    \n",
    "    # Getting timescan data\n",
    "    expTime = time[timeStartIndex:endtimeIndex] / 1000\n",
    "    fullData = {}\n",
    "\n",
    "    for key in massLabel:\n",
    "        fullData[key] = m[key]['y'][timeStartIndex:endtimeIndex]\n",
    "\n",
    "    fullDataValues = np.array(list(fullData.values()))\n",
    "    \n",
    "    # Making variables\n",
    "    \n",
    "    t = Variable(\"t\")\n",
    "    \n",
    "    if len(nameOfReactants) > 0:\n",
    "        reactantVariable = variables(nameOfReactants)\n",
    "        print(f\"{reactantVariable=}\")\n",
    "        label = nameOfReactants.split(\", \")\n",
    "        \n",
    "    else:\n",
    "        label = [alphabets[i] for i in range(totalReactants)]\n",
    "        reactantVariable = variables(\", \".join(label))\n",
    "    \n",
    "    fullDataDictionary = {key:value for key, value in zip(label, fullDataValues)}\n",
    "    \n",
    "    assert(len(label) == totalReactants)\n",
    "    # Initial condition\n",
    "    \n",
    "    if defaultInitialValue:\n",
    "        initialConditionValues = fullDataValues.T[0]\n",
    "    else:\n",
    "        initialConditionValues = [float(i) for i in initialConditionValues.split(\", \")]\n",
    "    \n",
    "    initial_cond = {t:0}\n",
    "\n",
    "    for i, variable in enumerate(reactantVariable):\n",
    "        initial_cond[getValfromVariable(variable)] = initialConditionValues[i]\n",
    "\n",
    "    print(f\"{initial_cond=}\")\n",
    "    \n",
    "    # Rate Equation\n",
    "    He = numberDensityValue.nominal_value\n",
    "    \n",
    "    rateConstantParametersForward = parameters(nameOfParametersForward)\n",
    "    rateConstantParametersReverse = parameters(nameOfParametersReverse)\n",
    "    \n",
    "    rateEquation = {\"forward\":[He**2 * getValfromVariable(i) for i in rateConstantParametersForward],\n",
    "                    \"reverse\":[He * getValfromVariable(i) for i in rateConstantParametersReverse]}\n",
    "    \n",
    "    for forw, rever in zip(rateConstantParametersForward, rateConstantParametersReverse):\n",
    "        getValfromVariable(forw).min = 1e-31\n",
    "        getValfromVariable(forw).max = 1e-27\n",
    "        \n",
    "        getValfromVariable(rever).min = 1e-20\n",
    "        getValfromVariable(rever).max = 1e-14\n",
    "        \n",
    "        \n",
    "    # Formation rate\n",
    "    \n",
    "    formationRate = {}\n",
    "\n",
    "    for i, forward, reverse in zip(range(len(rateEquation[\"forward\"])), rateEquation[\"forward\"], rateEquation[\"reverse\"]):\n",
    "        formationRate[f\"{label[i]}\"] = -getValfromVariable(forward)*getValfromVariable(reactantVariable[i]) + getValfromVariable(reverse)*getValfromVariable(reactantVariable[i+1])\n",
    "\n",
    "    formationRateList = list(formationRate.values())\n",
    "    formationRate[f\"{label[-1]}\"] =  -formationRateList[-1]\n",
    "    formationRateList = list(formationRate.values())\n",
    "    \n",
    "    # Rate Modal\n",
    "    \n",
    "    rate_model = {D(getValfromVariable(reactantVariable[0]), t): getValfromVariable(formationRateList[0])}\n",
    "    \n",
    "    for i in range(1, totalReactants-1):\n",
    "        rate_model[D(getValfromVariable(reactantVariable[i]), t)] =  getValfromVariable(formationRateList[i]) -getValfromVariable(formationRateList[i-1])\n",
    "\n",
    "    rate_model[D(getValfromVariable(reactantVariable[-1]), t)] = getValfromVariable(formationRateList[-1])\n",
    "\n",
    "    for i, j in rate_model.items():\n",
    "        print(f\"\\n{i}:{j}\")\n",
    "    \n",
    "    ode_model = ODEModel(rate_model, initial=initial_cond)\n",
    "    print(f\"{ode_model=}\")\n",
    "\n",
    "    assert(ode_model.dependent_vars[0] == list(ode_model.initial.keys())[1])\n",
    "    \n",
    "    rateConstantSliderWidget = {\"t\":tdata}\n",
    "\n",
    "    _minF, _maxF, _stepF = parameterMinMaxStepForward.split(\", \")\n",
    "    _minR, _maxR, _stepR = parameterMinMaxStepReverse.split(\", \")\n",
    "\n",
    "    for forwarLabel, reverseLabel in zip(nameOfParametersForward.split(\", \"), nameOfParametersReverse.split(\", \")):\n",
    "        _sliderWidgetForward = float_slider(1e-30, forwarLabel, _minF, _maxF, _stepF)\n",
    "        _sliderWidgetReverse = float_slider(1e-15, reverseLabel, _minR, _maxR, _stepR)\n",
    "\n",
    "        rateConstantSliderWidget[forwarLabel] = _sliderWidgetForward\n",
    "        rateConstantSliderWidget[reverseLabel] = _sliderWidgetReverse\n",
    "    \n",
    "    final_output = widgets.interactive_output(func,  {\"log\":logPlot, **rateConstantSliderWidget})\n",
    "    display(*list(rateConstantSliderWidget.values()), logPlot, final_output)\n",
    "\n",
    "ROSAA_kinetics_output = widgets.interactive_output(ROSAA_kinetics, ROSAA_kinetics_widgets)"
   ]
  },
  {
   "cell_type": "code",
   "execution_count": 12,
   "metadata": {},
   "outputs": [],
   "source": [
    "def func(log=True, **kwargs):\n",
    "    \n",
    "    global ode_model\n",
    "    \n",
    "    print(kwargs)\n",
    "    \n",
    "    # Simulation time\n",
    "    simulationTime = kwargs[\"t\"] = np.linspace(0, kwargs[\"t\"], 1000)\n",
    "    simulationData = ode_model(**kwargs)\n",
    "    fig, ax = plt.subplots(figsize=(10, 6))\n",
    "    twidget.fig = fig\n",
    "    color = 0\n",
    "    for sim, exp, lg in zip(simulationData, fullDataValues, label):\n",
    "        ax.plot(simulationTime, sim, f\"C{color}\", label=f\"{lg}$^+$\")\n",
    "        ax.plot(expTime, exp, f\".C{color}\", ms=10)\n",
    "        color += 1\n",
    "    \n",
    "    tag = moleculeWidget.value.split(\",\")[1].strip()\n",
    "    ax.set(title=f\"{twidget.files.value}: {tag} number density: {numberDensityValue.nominal_value:.2e}/cm3, Temp: {tempWidget.value}K\")\n",
    "    plt.ylabel('Counts')\n",
    "    plt.xlabel('Time (s)')\n",
    "    \n",
    "    plt.grid()\n",
    "    if log: plt.yscale('log')\n",
    "    plt.legend()\n",
    "    plt.show()\n",
    "    plt.close('all')"
   ]
  },
  {
   "cell_type": "code",
   "execution_count": 18,
   "metadata": {},
   "outputs": [
    {
     "data": {
      "application/vnd.jupyter.widget-view+json": {
       "model_id": "9d2ce5b95b104228b6e98b88c31a1657",
       "version_major": 2,
       "version_minor": 0
      },
      "text/plain": [
       "Button(button_style='success', description='update location', layout=Layout(width='20%'), style=ButtonStyle())"
      ]
     },
     "metadata": {},
     "output_type": "display_data"
    },
    {
     "data": {
      "application/vnd.jupyter.widget-view+json": {
       "model_id": "628ffb1046f4481eb8d298733139c31c",
       "version_major": 2,
       "version_minor": 0
      },
      "text/plain": [
       "Text(value='D:\\\\SurfDrive\\\\THz_Measurements\\\\CD+\\\\timescan', description='scan location', layout=Layout(width=…"
      ]
     },
     "metadata": {},
     "output_type": "display_data"
    },
    {
     "data": {
      "application/vnd.jupyter.widget-view+json": {
       "model_id": "c313f749fe1e418e9006e1e5ae39e945",
       "version_major": 2,
       "version_minor": 0
      },
      "text/plain": [
       "Select(description='scan files', layout=Layout(height='300px', width='70%'), options=('03_09_20-2.scan', '04_0…"
      ]
     },
     "metadata": {},
     "output_type": "display_data"
    },
    {
     "data": {
      "application/vnd.jupyter.widget-view+json": {
       "model_id": "dad7feb45a484752b226aed93aa69153",
       "version_major": 2,
       "version_minor": 0
      },
      "text/plain": [
       "Checkbox(value=False, description='old Data')"
      ]
     },
     "metadata": {},
     "output_type": "display_data"
    },
    {
     "data": {
      "application/vnd.jupyter.widget-view+json": {
       "model_id": "4763f9ba4c2a4041a7c4e48f43203b61",
       "version_major": 2,
       "version_minor": 0
      },
      "text/plain": [
       "Text(value='CD, Ne', description='Molecule, tag', style=DescriptionStyle(description_width='initial'))"
      ]
     },
     "metadata": {},
     "output_type": "display_data"
    },
    {
     "data": {
      "application/vnd.jupyter.widget-view+json": {
       "model_id": "cd1cdd0540e94066bdb8fa0e96f353b7",
       "version_major": 2,
       "version_minor": 0
      },
      "text/plain": [
       "Output()"
      ]
     },
     "metadata": {},
     "output_type": "display_data"
    },
    {
     "data": {
      "application/vnd.jupyter.widget-view+json": {
       "model_id": "9284a75e67d146df90d7356dd7b57a5f",
       "version_major": 2,
       "version_minor": 0
      },
      "text/plain": [
       "Text(value='k31, k32, k33', description='nameOfParametersForward', layout=Layout(width='50%'), style=Descripti…"
      ]
     },
     "metadata": {},
     "output_type": "display_data"
    },
    {
     "data": {
      "application/vnd.jupyter.widget-view+json": {
       "model_id": "9306af6db5d3406e93d6e79d04ec7afc",
       "version_major": 2,
       "version_minor": 0
      },
      "text/plain": [
       "Text(value='CID1, CID2, CID3', description='nameOfParametersReverse', layout=Layout(width='50%'), style=Descri…"
      ]
     },
     "metadata": {},
     "output_type": "display_data"
    },
    {
     "data": {
      "application/vnd.jupyter.widget-view+json": {
       "model_id": "4d0da1f5a6784b62bc9db83c4e07f469",
       "version_major": 2,
       "version_minor": 0
      },
      "text/plain": [
       "Text(value='14.0u, 18.0u, 22.0u, 26.0u', description='massOfReactants', layout=Layout(width='50%'), style=Desc…"
      ]
     },
     "metadata": {},
     "output_type": "display_data"
    },
    {
     "data": {
      "application/vnd.jupyter.widget-view+json": {
       "model_id": "29978b24c60e4c27a23861140d3e807b",
       "version_major": 2,
       "version_minor": 0
      },
      "text/plain": [
       "Text(value='CD, CDNe, CDNe2, CDNe3', description='nameOfReactants', layout=Layout(width='50%'), style=Descript…"
      ]
     },
     "metadata": {},
     "output_type": "display_data"
    },
    {
     "data": {
      "application/vnd.jupyter.widget-view+json": {
       "model_id": "3dfe94e75ca24c5490909a491d1df1a2",
       "version_major": 2,
       "version_minor": 0
      },
      "text/plain": [
       "BoundedIntText(value=1, description='timeStartIndex', style=DescriptionStyle(description_width='initial'))"
      ]
     },
     "metadata": {},
     "output_type": "display_data"
    },
    {
     "data": {
      "application/vnd.jupyter.widget-view+json": {
       "model_id": "148ec6b2ac5c449fb9df79d63afa285e",
       "version_major": 2,
       "version_minor": 0
      },
      "text/plain": [
       "BoundedIntText(value=-1, description='endtimeIndex', min=-1, style=DescriptionStyle(description_width='initial…"
      ]
     },
     "metadata": {},
     "output_type": "display_data"
    },
    {
     "data": {
      "application/vnd.jupyter.widget-view+json": {
       "model_id": "683f55a99ef14aed926f283907179714",
       "version_major": 2,
       "version_minor": 0
      },
      "text/plain": [
       "Text(value='', description='initialConditionValues', layout=Layout(width='50%'), style=DescriptionStyle(descri…"
      ]
     },
     "metadata": {},
     "output_type": "display_data"
    },
    {
     "data": {
      "application/vnd.jupyter.widget-view+json": {
       "model_id": "94fb02d581054746b854630112af0444",
       "version_major": 2,
       "version_minor": 0
      },
      "text/plain": [
       "Checkbox(value=True, description='defaultInitialValue')"
      ]
     },
     "metadata": {},
     "output_type": "display_data"
    },
    {
     "data": {
      "application/vnd.jupyter.widget-view+json": {
       "model_id": "d1e271269875468cafa55f8d44c4294d",
       "version_major": 2,
       "version_minor": 0
      },
      "text/plain": [
       "Checkbox(value=True, description='fit')"
      ]
     },
     "metadata": {},
     "output_type": "display_data"
    },
    {
     "data": {
      "application/vnd.jupyter.widget-view+json": {
       "model_id": "6c53247eb6c043cca36bb19063683f77",
       "version_major": 2,
       "version_minor": 0
      },
      "text/plain": [
       "Text(value='-40, -20, 0.001', description='parameterMinMaxStep', style=DescriptionStyle(description_width='ini…"
      ]
     },
     "metadata": {},
     "output_type": "display_data"
    },
    {
     "data": {
      "application/vnd.jupyter.widget-view+json": {
       "model_id": "aadf7120c4404978a7151f1a9c691987",
       "version_major": 2,
       "version_minor": 0
      },
      "text/plain": [
       "Text(value='-30, -10, 0.001', description='parameterMinMaxStep', style=DescriptionStyle(description_width='ini…"
      ]
     },
     "metadata": {},
     "output_type": "display_data"
    },
    {
     "data": {
      "application/vnd.jupyter.widget-view+json": {
       "model_id": "6574772aaad9461fbc914339c5217af9",
       "version_major": 2,
       "version_minor": 0
      },
      "text/plain": [
       "Output(outputs=({'name': 'stdout', 'text': 'reactantVariable=(CD, CDNe, CDNe2, CDNe3)\\ninitial_cond={t: 0, CD:…"
      ]
     },
     "metadata": {},
     "output_type": "display_data"
    },
    {
     "data": {
      "application/vnd.jupyter.widget-view+json": {
       "model_id": "409d781892e743f29722bbbbe808b460",
       "version_major": 2,
       "version_minor": 0
      },
      "text/plain": [
       "IntText(value=140, description='savedpi', step=2)"
      ]
     },
     "metadata": {},
     "output_type": "display_data"
    },
    {
     "data": {
      "application/vnd.jupyter.widget-view+json": {
       "model_id": "0f9788ea903c4c84a089346fb90625cc",
       "version_major": 2,
       "version_minor": 0
      },
      "text/plain": [
       "Text(value='03_09_20-2', description='savefilename')"
      ]
     },
     "metadata": {},
     "output_type": "display_data"
    },
    {
     "data": {
      "application/vnd.jupyter.widget-view+json": {
       "model_id": "4f175b17cf034307beb8fca8435fc9de",
       "version_major": 2,
       "version_minor": 0
      },
      "text/plain": [
       "Button(button_style='success', description='Save', style=ButtonStyle())"
      ]
     },
     "metadata": {},
     "output_type": "display_data"
    },
    {
     "data": {
      "application/vnd.jupyter.widget-view+json": {
       "model_id": "fb4cf730f398463d8cee9be0256975f0",
       "version_major": 2,
       "version_minor": 0
      },
      "text/plain": [
       "Button(button_style='danger', description='Clear', style=ButtonStyle())"
      ]
     },
     "metadata": {},
     "output_type": "display_data"
    },
    {
     "data": {
      "application/vnd.jupyter.widget-view+json": {
       "model_id": "e034bddec2614e9da81ca09dbbf98620",
       "version_major": 2,
       "version_minor": 0
      },
      "text/plain": [
       "Output()"
      ]
     },
     "metadata": {},
     "output_type": "display_data"
    }
   ],
   "source": [
    "display(twidget.update_files_button, twidget.location, twidget.files, oldDataToggle)\n",
    "twidget.files.options = (f\"{_}\".replace(\".txt\", \".scan\") for _ in pt(twidget.location.value).glob(\"*_timescan.txt\"))\n",
    "\n",
    "def init(location, filename, moleculeName, oldData=False):\n",
    "    \n",
    "    global time, mass, m, totalReactants\n",
    "    \n",
    "    file = pt(location) / filename\n",
    "    \n",
    "    if oldData:\n",
    "        file = pt(location) / f\"{pt(filename).stem}.txt\"\n",
    "        time, *massesData = np.genfromtxt(file).T\n",
    "\n",
    "        with open(file) as f:\n",
    "            for i in f.readlines():\n",
    "                if i.startswith(\"#Time\"):\n",
    "                    masses = [_.strip() for _ in i.split(\"\\t\")[1:-1]]\n",
    "                    mass = [float(_) for _ in masses[:-1]]\n",
    "                    \n",
    "        m = {}\n",
    "        for _, _data in enumerate(massesData):\n",
    "            m[f\"{masses[_]}u\"] = {\"x\":list(time), \"y\":list(_data), \"name\":f\"{masses[_]}u\", 'mode': 'lines+markers'}\n",
    "        \n",
    "    else:\n",
    "        time, mean, error, mass, t_res, t_b0  = timescanplot(file).get_data()\n",
    "        m = timescanplot(file).get_fullmass()\n",
    "\n",
    "    data = list(m.values())\n",
    "    #iplot(data)\n",
    "    fig = dict({\n",
    "        \"data\": data,\n",
    "        \"layout\": {\"title\": {\"text\": f\"Timescan: {file.name}\"}}\n",
    "    })\n",
    "    pio.show(fig)\n",
    "    \n",
    "    massLabel = [f\"{i}u\" for i in mass]\n",
    "    massOfReactants.value = \", \".join(massLabel)\n",
    "    \n",
    "    totalReactants = len(massLabel)\n",
    "    \n",
    "    twidget.savefilename.value = f\"{pt(filename).stem}\"\n",
    "    \n",
    "    molecule = moleculeName.split(\",\")[0].strip()\n",
    "    tagName = moleculeName.split(\",\")[1].strip()\n",
    "    moleculeTag = [molecule, f\"{molecule}{tagName}\"]\n",
    "    \n",
    "    for i in range(2, totalReactants):\n",
    "        _temp = f\"{molecule}{tagName}{i}\"\n",
    "        moleculeTag.append(_temp)\n",
    "    \n",
    "    nameOfReactants.value = \", \".join(moleculeTag)\n",
    "    \n",
    "    display(tempWidget, pbeforeWidget, paftereWidget, numberDensityWidgetOutput)\n",
    "    print(f\"{numberDensityWidgetOutput=}\")\n",
    "    \n",
    "    \n",
    "out = widgets.interactive_output(init, dict(location=twidget.location, filename=twidget.files,\n",
    "                        oldData=oldDataToggle, moleculeName=moleculeWidget)\n",
    "                         )\n",
    "\n",
    "display(moleculeWidget, out)\n",
    "display(nameOfParametersForwardWidget, nameOfParametersReverseWidget, *list(ROSAA_kinetics_widgets.values()), ROSAA_kinetics_output)\n",
    "display(twidget.savedpi, twidget.savefilename, twidget.savebutton, twidget.closebutton, twidget.output)"
   ]
  },
  {
   "cell_type": "code",
   "execution_count": 26,
   "metadata": {},
   "outputs": [
    {
     "data": {
      "text/plain": [
       "{'t': BoundedFloatText(value=5.0, description='Simulation:', max=20.0, min=1.0, step=0.25),\n",
       " 'k31': FloatLogSlider(value=1e-30, description='k31', max=-20.0, min=-40.0, step=0.001),\n",
       " 'CID1': FloatLogSlider(value=1e-15, description='CID1', max=-10.0, min=-30.0, step=0.001),\n",
       " 'k32': FloatLogSlider(value=1e-30, description='k32', max=-20.0, min=-40.0, step=0.001),\n",
       " 'CID2': FloatLogSlider(value=1e-15, description='CID2', max=-10.0, min=-30.0, step=0.001),\n",
       " 'k33': FloatLogSlider(value=1e-30, description='k33', max=-20.0, min=-40.0, step=0.001),\n",
       " 'CID3': FloatLogSlider(value=1e-15, description='CID3', max=-10.0, min=-30.0, step=0.001)}"
      ]
     },
     "execution_count": 26,
     "metadata": {},
     "output_type": "execute_result"
    }
   ],
   "source": [
    "rateConstantSliderWidget"
   ]
  },
  {
   "cell_type": "raw",
   "metadata": {},
   "source": [
    "ode_model.free_params"
   ]
  },
  {
   "cell_type": "markdown",
   "metadata": {},
   "source": [
    "08_09_20\n",
    "1: {'t': 5.0, 'k31': 1.1614486138403462e-30, 'CID1': 2.0230191786782675e-15}\n",
    "2: {'t': 5.0, 'k31': 9.31107875467833e-31, 'CID1': 2.0230191786782675e-15}\n",
    "3: {'t': 5.0, 'k31': 6.456542290346536e-31, 'CID1': 1e-15}"
   ]
  },
  {
   "cell_type": "code",
   "execution_count": null,
   "metadata": {},
   "outputs": [],
   "source": []
  },
  {
   "cell_type": "code",
   "execution_count": 25,
   "metadata": {},
   "outputs": [],
   "source": [
    "massOfReactants.value = \"\""
   ]
  },
  {
   "cell_type": "code",
   "execution_count": null,
   "metadata": {},
   "outputs": [],
   "source": []
  },
  {
   "cell_type": "code",
   "execution_count": null,
   "metadata": {},
   "outputs": [],
   "source": []
  }
 ],
 "metadata": {
  "kernelspec": {
   "display_name": "Python 3",
   "language": "python",
   "name": "python3"
  },
  "language_info": {
   "codemirror_mode": {
    "name": "ipython",
    "version": 3
   },
   "file_extension": ".py",
   "mimetype": "text/x-python",
   "name": "python",
   "nbconvert_exporter": "python",
   "pygments_lexer": "ipython3",
   "version": "3.8.3"
  }
 },
 "nbformat": 4,
 "nbformat_minor": 4
}
