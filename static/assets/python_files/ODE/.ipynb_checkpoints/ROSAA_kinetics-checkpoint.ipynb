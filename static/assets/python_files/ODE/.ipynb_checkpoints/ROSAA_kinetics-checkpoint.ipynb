{
 "cells": [
  {
   "cell_type": "code",
   "execution_count": 1,
   "metadata": {},
   "outputs": [],
   "source": [
    "import os\n",
    "import ctypes\n",
    "from symfit import variables, Parameter, ODEModel, D, Fit, parameters, Variable\n",
    "import numpy as np\n",
    "from uncertainties import ufloat as uf\n",
    "from scipy.optimize import curve_fit\n",
    "import matplotlib.pyplot as plt\n",
    "from scipy.integrate import solve_ivp\n",
    "from pathlib import Path as pt\n",
    "from ipywidgets import widgets\n",
    "from timescan import timescanplot\n",
    "from time import time as start_time\n",
    "\n",
    "%matplotlib inline"
   ]
  },
  {
   "cell_type": "code",
   "execution_count": 2,
   "metadata": {},
   "outputs": [
    {
     "data": {
      "text/html": [
       "        <script type=\"text/javascript\">\n",
       "        window.PlotlyConfig = {MathJaxConfig: 'local'};\n",
       "        if (window.MathJax) {MathJax.Hub.Config({SVG: {font: \"STIX-Web\"}});}\n",
       "        if (typeof require !== 'undefined') {\n",
       "        require.undef(\"plotly\");\n",
       "        requirejs.config({\n",
       "            paths: {\n",
       "                'plotly': ['https://cdn.plot.ly/plotly-latest.min']\n",
       "            }\n",
       "        });\n",
       "        require(['plotly'], function(Plotly) {\n",
       "            window._Plotly = Plotly;\n",
       "        });\n",
       "        }\n",
       "        </script>\n",
       "        "
      ]
     },
     "metadata": {},
     "output_type": "display_data"
    }
   ],
   "source": [
    "import plotly.graph_objs as go\n",
    "from plotly.offline import init_notebook_mode, iplot\n",
    "init_notebook_mode(connected=True)\n",
    "\n",
    "from widgetDefinitions import createWidgets\n",
    "import string\n",
    "\n",
    "alphabets = string.ascii_uppercase\n",
    "\n",
    "def definingParameter(value):\n",
    "    exec(value)\n",
    "    return locals()\n",
    "\n",
    "def getValfromAddress(address):\n",
    "    return ctypes.cast(address, ctypes.py_object).value\n",
    "\n",
    "def getValfromVariable(variable):\n",
    "    address = id(variable)\n",
    "    return getValfromAddress(address)\n",
    "\n",
    "def float_slider(_value, _description, _min = -40, _max = -20, steps = 1e-3):\n",
    "    return widgets.FloatLogSlider(\n",
    "                value=_value,\n",
    "                base=10,\n",
    "                min=_min,\n",
    "                max=_max,\n",
    "                step=steps,\n",
    "                description=_description\n",
    "            )"
   ]
  },
  {
   "cell_type": "code",
   "execution_count": 3,
   "metadata": {},
   "outputs": [],
   "source": [
    "style = {'description_width': 'initial', 'width':\"100\"}\n",
    "layout=widgets.Layout(width='50%')\n",
    "\n",
    "twidget = createWidgets(filetype=\"scan\", multiselect=False, locationValue=r\"Z:\\Students\\Aravindh\\Measurements\\CD+\\timescan\")\n",
    "twidget.files.layout.height = \"300px\"\n",
    "\n",
    "timeStartIndex = widgets.BoundedIntText(value=1, description=\"timeStartIndex\",min=0, style=style)\n",
    "endtimeIndex = widgets.BoundedIntText(value=-1, description=\"endtimeIndex\", min=-1, style=style)\n",
    "\n",
    "defaultInitialValue = widgets.Checkbox(description=\"defaultInitialValue\", value=True)\n",
    "initialConditionValues = widgets.Text(description=\"initialConditionValues\", style = style, value=\"\", layout=layout)\n",
    "\n",
    "tempWidget = widgets.BoundedFloatText(value=4.5, min=0, max=400, step=0.5)\n",
    "pbeforeWidget = widgets.FloatLogSlider(base=10, value=1e-9, min=-10, max=-4)\n",
    "paftereWidget = widgets.FloatLogSlider(base=10, value=1e-7, min=-10, max=-4)\n",
    "\n",
    "parameterMinMaxStepForwardWidget = widgets.Text(description=\"parameterMinMaxStep\", style = style, value=\"-40, -20, 0.001\")\n",
    "parameterMinMaxStepReverseWidget = widgets.Text(description=\"parameterMinMaxStep\", style = style, value=\"-30, -10, 0.001\")\n",
    "\n",
    "tdata = widgets.BoundedFloatText( value=5, min=1, max=20, step=0.25, description='Simulation:' )\n",
    "logPlot = widgets.Checkbox(description=\"Log\", value=True)\n",
    "fitWidget = widgets.Checkbox(description=\"fit\", value=True)"
   ]
  },
  {
   "cell_type": "code",
   "execution_count": 4,
   "metadata": {},
   "outputs": [],
   "source": [
    "numberDensityValue = None\n",
    "def numberDensity(temp, pbefore, pafter):\n",
    "    global numberDensityValue\n",
    "    constant = 4.18e17 # 1/boltzman_constant*sqrt(T)\n",
    "    C = uf(205.54, 2.5) # Calibration factor \n",
    "    T = uf(temp, 0.1) # Temperature\n",
    "    p = pafter - pbefore\n",
    "    numberDensityValue = (constant*C*p)/(T**0.5)\n",
    "    print(f\"{pbefore=}, {pafter=}\")\n",
    "    print(numberDensityValue)\n",
    "    return numberDensityValue.nominal_value\n",
    "\n",
    "numberDensityWidgetOutput = widgets.interactive_output(numberDensity, dict(temp=tempWidget, pbefore=pbeforeWidget, pafter=paftereWidget))\n"
   ]
  },
  {
   "cell_type": "code",
   "execution_count": 5,
   "metadata": {},
   "outputs": [],
   "source": [
    "time, mass = None, None\n",
    "\n",
    "totalReactants = None\n",
    "massOfReactants, nameOfReactants = None, None\n",
    "nameOfParametersForward, nameOfParametersReverse = None, None\n",
    "\n",
    "ROSAA_kinetics_widgets = None\n",
    "ROSAA_kinetics_output = None\n",
    "\n",
    "rateConstantSliderWidget = None\n",
    "\n",
    "ode_model = None\n",
    "fullDataValues = None\n",
    "label = None\n",
    "expTime = None"
   ]
  },
  {
   "cell_type": "code",
   "execution_count": 6,
   "metadata": {},
   "outputs": [],
   "source": [
    "def ROSAA_kinetics(massOfReactants, nameOfReactants, nameOfParametersForward, nameOfParametersReverse,\n",
    "                  timeStartIndex, endtimeIndex, initialConditionValues, defaultInitialValue, fit\n",
    "                  ):\n",
    "    \n",
    "    global ode_model, fullDataValues, label, expTime\n",
    "    \n",
    "    # Getting timescan data\n",
    "    expTime = time[timeStartIndex:endtimeIndex] / 1000\n",
    "    fullData = {}\n",
    "\n",
    "    for key in massOfReactants.split(\", \"):\n",
    "        fullData[key] = m[key]['y'][timeStartIndex:endtimeIndex]\n",
    "\n",
    "    fullDataValues = np.array(list(fullData.values()))\n",
    "    \n",
    "    # Making variables\n",
    "    \n",
    "    t = Variable(\"t\")\n",
    "    \n",
    "    if len(nameOfReactants) > 0:\n",
    "        reactantVariable = variables(nameOfReactants)\n",
    "        print(f\"{reactantVariable=}\")\n",
    "        label = nameOfReactants.split(\", \")\n",
    "        \n",
    "    else:\n",
    "        label = [alphabets[i] for i in range(totalReactants)]\n",
    "        reactantVariable = variables(\", \".join(label))\n",
    "    \n",
    "    fullDataDictionary = {key:value for key, value in zip(label, fullDataValues)}\n",
    "    \n",
    "    assert(len(label) == totalReactants)\n",
    "    # Initial condition\n",
    "    \n",
    "    if defaultInitialValue:\n",
    "        initialConditionValues = fullDataValues.T[0]\n",
    "    else:\n",
    "        initialConditionValues = [float(i) for i in initialConditionValues.split(\", \")]\n",
    "    \n",
    "    initial_cond = {t:0}\n",
    "\n",
    "    for i, variable in enumerate(reactantVariable):\n",
    "        initial_cond[getValfromVariable(variable)] = initialConditionValues[i]\n",
    "\n",
    "    print(f\"{initial_cond=}\")\n",
    "    \n",
    "    # Rate Equation\n",
    "    He = numberDensityValue.nominal_value\n",
    "    \n",
    "    rateConstantParametersForward = parameters(nameOfParametersForward)\n",
    "    rateConstantParametersReverse = parameters(nameOfParametersReverse)\n",
    "    \n",
    "    rateEquation = {\"forward\":[He**2 * getValfromVariable(i) for i in rateConstantParametersForward],\n",
    "                    \"reverse\":[He * getValfromVariable(i) for i in rateConstantParametersReverse]}\n",
    "    \n",
    "    for forw, rever in zip(rateConstantParametersForward, rateConstantParametersReverse):\n",
    "        getValfromVariable(forw).min = 1e-31\n",
    "        getValfromVariable(forw).max = 1e-27\n",
    "        \n",
    "        getValfromVariable(rever).min = 1e-20\n",
    "        getValfromVariable(rever).max = 1e-14\n",
    "        \n",
    "        \n",
    "    # Formation rate\n",
    "    \n",
    "    formationRate = {}\n",
    "\n",
    "    for i, forward, reverse in zip(range(len(rateEquation[\"forward\"])), rateEquation[\"forward\"], rateEquation[\"reverse\"]):\n",
    "        formationRate[f\"{label[i]}\"] = -getValfromVariable(forward)*getValfromVariable(reactantVariable[i]) + getValfromVariable(reverse)*getValfromVariable(reactantVariable[i+1])\n",
    "\n",
    "    formationRateList = list(formationRate.values())\n",
    "    formationRate[f\"{label[-1]}\"] =  -formationRateList[-1]\n",
    "    formationRateList = list(formationRate.values())\n",
    "    \n",
    "    # Rate Modal\n",
    "    \n",
    "    rate_model = {D(getValfromVariable(reactantVariable[0]), t): getValfromVariable(formationRateList[0])}\n",
    "    \n",
    "    for i in range(1, totalReactants-1):\n",
    "        rate_model[D(getValfromVariable(reactantVariable[i]), t)] =  getValfromVariable(formationRateList[i]) -getValfromVariable(formationRateList[i-1])\n",
    "\n",
    "    rate_model[D(getValfromVariable(reactantVariable[-1]), t)] = getValfromVariable(formationRateList[-1])\n",
    "\n",
    "    for i, j in rate_model.items():\n",
    "        print(f\"\\n{i}:{j}\")\n",
    "    \n",
    "    ode_model = ODEModel(rate_model, initial=initial_cond)\n",
    "    print(f\"{ode_model=}\")\n",
    "\n",
    "    assert(ode_model.dependent_vars[0] == list(ode_model.initial.keys())[1])\n",
    "    \n",
    "    \"\"\"\n",
    "    if fit:\n",
    "        fullDataDictionary[\"t\"] = expTime\n",
    "        \n",
    "        rateConstantParametersForward_symboladdress = {key:getValfromVariable(value) \n",
    "                                                       for key, value in zip(nameOfParametersForward.split(\", \"), rateConstantParametersForward)}\n",
    "        rateConstantParametersReverse_symboladdress = {key:getValfromVariable(value)\n",
    "                                                       for key, value in zip(nameOfParametersReverse.split(\", \"), rateConstantParametersReverse)}\n",
    "        # print(rateConstantParametersForward_symboladdress)\n",
    "        \n",
    "        for (key, value) in rateConstantParametersForward_symboladdress.items():\n",
    "            getValfromVariable(rateConstantParametersForward_symboladdress[key]).value = rateConstantSliderWidget[key].value\n",
    "        \n",
    "        for (key, value) in rateConstantParametersReverse_symboladdress.items():\n",
    "            getValfromVariable(rateConstantParametersReverse_symboladdress[key]).value = rateConstantSliderWidget[key].value\n",
    "        \n",
    "        \n",
    "        #Fitting\n",
    "        t0 = start_time()\n",
    "\n",
    "        fit_result = Fit(ode_model, **fullDataDictionary)\n",
    "        fit_result = fit_result.execute()\n",
    "\n",
    "        t1 = start_time()\n",
    "        print(f'Time taken: {t1-t0} s')\n",
    "\n",
    "        print(fit_result)\n",
    "    \"\"\"\n"
   ]
  },
  {
   "cell_type": "code",
   "execution_count": 7,
   "metadata": {},
   "outputs": [],
   "source": [
    "def func(log=True, **kwargs):\n",
    "    \n",
    "    print(kwargs)\n",
    "    \n",
    "    # Simulation time\n",
    "    simulationTime = kwargs[\"t\"] = np.linspace(0, kwargs[\"t\"], 1000)\n",
    "    simulationData = ode_model(**kwargs)\n",
    "    fig, ax = plt.subplots(figsize=(10, 6))\n",
    "    \n",
    "    color = 0\n",
    "    for sim, exp, lg in zip(simulationData, fullDataValues, label):\n",
    "        ax.plot(simulationTime, sim, f\"C{color}\", label=f\"{lg}$^+$\")\n",
    "        ax.plot(expTime, exp, f\".C{color}\", ms=10)\n",
    "        color += 1\n",
    "        \n",
    "    plt.ylabel('Counts')\n",
    "    plt.xlabel('Time (s)')\n",
    "    \n",
    "    plt.grid()\n",
    "    if log: plt.yscale('log')\n",
    "    plt.legend(bbox_to_anchor=(1.2, 1))\n",
    "    plt.show()\n",
    "    plt.close('all')"
   ]
  },
  {
   "cell_type": "code",
   "execution_count": 8,
   "metadata": {},
   "outputs": [
    {
     "data": {
      "application/vnd.jupyter.widget-view+json": {
       "model_id": "3d8405063b6f403abcf71c3899690892",
       "version_major": 2,
       "version_minor": 0
      },
      "text/plain": [
       "Button(button_style='success', description='update location', layout=Layout(width='20%'), style=ButtonStyle())"
      ]
     },
     "metadata": {},
     "output_type": "display_data"
    },
    {
     "data": {
      "application/vnd.jupyter.widget-view+json": {
       "model_id": "fc81e95763a64a848e78aa6240ebebcd",
       "version_major": 2,
       "version_minor": 0
      },
      "text/plain": [
       "Text(value='Z:\\\\Students\\\\Aravindh\\\\Measurements\\\\CD+\\\\timescan', description='scan location', layout=Layout(w…"
      ]
     },
     "metadata": {},
     "output_type": "display_data"
    },
    {
     "data": {
      "application/vnd.jupyter.widget-view+json": {
       "model_id": "fd4b40b44e6a4da18cc12becee93d910",
       "version_major": 2,
       "version_minor": 0
      },
      "text/plain": [
       "Select(description='scan files', layout=Layout(height='300px', width='70%'), options=('03_09_20-2.scan', '04_0…"
      ]
     },
     "metadata": {},
     "output_type": "display_data"
    },
    {
     "data": {
      "application/vnd.jupyter.widget-view+json": {
       "model_id": "77942a288dd84a2abe8e3feee7845261",
       "version_major": 2,
       "version_minor": 0
      },
      "text/plain": [
       "Output()"
      ]
     },
     "metadata": {},
     "output_type": "display_data"
    },
    {
     "data": {
      "application/vnd.jupyter.widget-view+json": {
       "model_id": "e79c1134698e406f8a42249148d7f31b",
       "version_major": 2,
       "version_minor": 0
      },
      "text/plain": [
       "Text(value='-40, -20, 0.001', description='parameterMinMaxStep', style=DescriptionStyle(description_width='ini…"
      ]
     },
     "metadata": {},
     "output_type": "display_data"
    },
    {
     "data": {
      "application/vnd.jupyter.widget-view+json": {
       "model_id": "e6d2e24bfb4b4b0eaf7a77db556f3211",
       "version_major": 2,
       "version_minor": 0
      },
      "text/plain": [
       "Text(value='-30, -10, 0.001', description='parameterMinMaxStep', style=DescriptionStyle(description_width='ini…"
      ]
     },
     "metadata": {},
     "output_type": "display_data"
    }
   ],
   "source": [
    "display(twidget.update_files_button, twidget.location, twidget.files)\n",
    "\n",
    "def init(location, filename, parameterMinMaxStepForward, parameterMinMaxStepReverse):\n",
    "    \n",
    "    global time, mass, m, totalReactants,\\\n",
    "        massOfReactants, nameOfReactants, nameOfParametersForward, nameOfParametersReverse, ROSAA_kinetics_widgets, \\\n",
    "        ROSAA_kinetics_output, rateConstantSliderWidget\n",
    "    \n",
    "    file = pt(location) / filename\n",
    "    time, mean, error, mass, t_res, t_b0  = timescanplot(file).get_data()\n",
    "    m = timescanplot(file).get_fullmass()\n",
    "\n",
    "    data = list(m.values())\n",
    "    iplot(data)\n",
    "    \n",
    "    totalReactants = len(mass)\n",
    "\n",
    "    massOfReactants = widgets.Text(description=\"massOfReactants\", style = style, value=\", \".join([f\"{i}u\" for i in mass]), layout=layout)\n",
    "    nameOfReactants = widgets.Text(description=\"nameOfReactants\", style = style, value=\"\", layout=layout)\n",
    "    nameOfParametersForward = widgets.Text(description=\"nameOfParametersForward\", style = style,value=\", \".join([f\"k3{i}\" for i in range(1, totalReactants)]), layout=layout)\n",
    "    nameOfParametersReverse = widgets.Text(description=\"nameOfParametersReverse\", style = style,value=\", \".join([f\"CID{i}\" for i in range(1, totalReactants)]), layout=layout)\n",
    "    \n",
    "    ROSAA_kinetics_widgets = {\"massOfReactants\":massOfReactants, \"nameOfReactants\":nameOfReactants, \n",
    "                              \"nameOfParametersForward\":nameOfParametersForward, \"nameOfParametersReverse\":nameOfParametersReverse, \n",
    "                              \"timeStartIndex\":timeStartIndex, \"endtimeIndex\":endtimeIndex, \"initialConditionValues\":initialConditionValues, \"defaultInitialValue\":defaultInitialValue,\n",
    "                              \"fit\":fitWidget\n",
    "                            }\n",
    "    ROSAA_kinetics_output = widgets.interactive_output(ROSAA_kinetics, ROSAA_kinetics_widgets)\n",
    "    \n",
    "    rateConstantSliderWidget = {\"t\":tdata}\n",
    "\n",
    "    _minF, _maxF, _stepF = parameterMinMaxStepForward.split(\", \")\n",
    "    _minR, _maxR, _stepR = parameterMinMaxStepReverse.split(\", \")\n",
    "\n",
    "    for forwarLabel, reverseLabel in zip(nameOfParametersForward.value.split(\", \"), nameOfParametersReverse.value.split(\", \")):\n",
    "        _sliderWidgetForward = float_slider(1e-30, forwarLabel, _minF, _maxF, _stepF)\n",
    "        _sliderWidgetReverse = float_slider(1e-15, reverseLabel, _minR, _maxR, _stepR)\n",
    "\n",
    "        rateConstantSliderWidget[forwarLabel] = _sliderWidgetForward\n",
    "        rateConstantSliderWidget[reverseLabel] = _sliderWidgetReverse\n",
    "    \n",
    "    display(tempWidget, pbeforeWidget, paftereWidget, numberDensityWidgetOutput)\n",
    "    display(*list(ROSAA_kinetics_widgets.values()), ROSAA_kinetics_output)\n",
    "    \n",
    "    final_output = widgets.interactive_output(func,  {\"log\":logPlot, **rateConstantSliderWidget})\n",
    "    display(*list(rateConstantSliderWidget.values()), logPlot, final_output)\n",
    "    \n",
    "out = widgets.interactive_output(init, dict(location=twidget.location, filename=twidget.files,\n",
    "                          parameterMinMaxStepForward=parameterMinMaxStepForwardWidget,\n",
    "                          parameterMinMaxStepReverse=parameterMinMaxStepReverseWidget)\n",
    "                         )\n",
    "\n",
    "display(out)\n",
    "display(parameterMinMaxStepForwardWidget, parameterMinMaxStepReverseWidget)"
   ]
  },
  {
   "cell_type": "code",
   "execution_count": null,
   "metadata": {},
   "outputs": [],
   "source": []
  },
  {
   "cell_type": "code",
   "execution_count": null,
   "metadata": {},
   "outputs": [],
   "source": []
  },
  {
   "cell_type": "code",
   "execution_count": null,
   "metadata": {},
   "outputs": [],
   "source": []
  },
  {
   "cell_type": "code",
   "execution_count": null,
   "metadata": {},
   "outputs": [],
   "source": []
  },
  {
   "cell_type": "code",
   "execution_count": null,
   "metadata": {},
   "outputs": [],
   "source": []
  }
 ],
 "metadata": {
  "kernelspec": {
   "display_name": "Python 3",
   "language": "python",
   "name": "python3"
  },
  "language_info": {
   "codemirror_mode": {
    "name": "ipython",
    "version": 3
   },
   "file_extension": ".py",
   "mimetype": "text/x-python",
   "name": "python",
   "nbconvert_exporter": "python",
   "pygments_lexer": "ipython3",
   "version": "3.8.3"
  }
 },
 "nbformat": 4,
 "nbformat_minor": 4
}
