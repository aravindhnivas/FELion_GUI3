{
 "cells": [
  {
   "cell_type": "code",
   "execution_count": 1,
   "metadata": {},
   "outputs": [],
   "source": [
    "import os\n",
    "import ctypes\n",
    "from symfit import variables, Parameter, ODEModel, D, Fit, parameters, Variable\n",
    "import numpy as np\n",
    "from uncertainties import ufloat as uf\n",
    "from scipy.optimize import curve_fit\n",
    "import matplotlib.pyplot as plt\n",
    "from scipy.integrate import solve_ivp\n",
    "from pathlib import Path as pt\n",
    "from ipywidgets import widgets\n",
    "from timescan import timescanplot\n",
    "from time import time as start_time\n",
    "\n",
    "from matplotlib.widgets import Slider, CheckButtons, TextBox\n",
    "\n",
    "#%matplotlib qt5\n",
    "%matplotlib widget"
   ]
  },
  {
   "cell_type": "code",
   "execution_count": 2,
   "metadata": {},
   "outputs": [
    {
     "data": {
      "text/html": [
       "        <script type=\"text/javascript\">\n",
       "        window.PlotlyConfig = {MathJaxConfig: 'local'};\n",
       "        if (window.MathJax) {MathJax.Hub.Config({SVG: {font: \"STIX-Web\"}});}\n",
       "        if (typeof require !== 'undefined') {\n",
       "        require.undef(\"plotly\");\n",
       "        requirejs.config({\n",
       "            paths: {\n",
       "                'plotly': ['https://cdn.plot.ly/plotly-latest.min']\n",
       "            }\n",
       "        });\n",
       "        require(['plotly'], function(Plotly) {\n",
       "            window._Plotly = Plotly;\n",
       "        });\n",
       "        }\n",
       "        </script>\n",
       "        "
      ]
     },
     "metadata": {},
     "output_type": "display_data"
    }
   ],
   "source": [
    "from plotly.offline import init_notebook_mode\n",
    "init_notebook_mode(connected=True)\n",
    "\n",
    "# To display the figure defined by this dict, use the low-level plotly.io.show function\n",
    "import plotly.io as pio\n",
    "\n",
    "from widgetDefinitions import createWidgets, Sliderlog\n",
    "import string\n",
    "\n",
    "alphabets = string.ascii_uppercase\n",
    "\n",
    "def definingParameter(value):\n",
    "    exec(value)\n",
    "    return locals()\n",
    "\n",
    "def getValfromAddress(address):\n",
    "    return ctypes.cast(address, ctypes.py_object).value\n",
    "\n",
    "def getValfromVariable(variable):\n",
    "    address = id(variable)\n",
    "    return getValfromAddress(address)\n",
    "\n",
    "def float_slider(_value, _description, _min = -40, _max = -20, steps = 1e-3):\n",
    "    return widgets.FloatLogSlider(\n",
    "                value=_value,\n",
    "                base=10,\n",
    "                min=_min,\n",
    "                max=_max,\n",
    "                step=steps,\n",
    "                description=_description\n",
    "            )"
   ]
  },
  {
   "cell_type": "code",
   "execution_count": 34,
   "metadata": {},
   "outputs": [],
   "source": [
    "style = {'description_width': 'initial', 'width':\"100\"}\n",
    "layout=widgets.Layout(width='50%')\n",
    "\n",
    "twidget = createWidgets(filetype=\"scan\", multiselect=False, locationValue=r\"D:\\SurfDrive\\THz_Measurements\\CD+\\timescan\")\n",
    "twidget.files.layout.height = \"300px\"\n",
    "\n",
    "timeStartIndexWidget = widgets.BoundedIntText(value=1, description=\"timeStartIndex\",min=0, style=style)\n",
    "endtimeIndexWidget = widgets.BoundedIntText(value=-1, description=\"endtimeIndex\", min=-1, style=style)\n",
    "\n",
    "defaultInitialValueWidget = widgets.Checkbox(description=\"defaultInitialValue\", value=False)\n",
    "initialConditionValuesWidget = widgets.Text(description=\"initialConditionValues\", style = style, value=\"\", layout=layout)\n",
    "\n",
    "\n",
    "tempWidget = widgets.BoundedFloatText(value=5, min=0, max=400, step=0.5, description=\"Temperature\")\n",
    "pbeforeWidget = widgets.FloatLogSlider(base=10, value=1e-8, min=-10, max=-1, description=\"pbefore\")\n",
    "paftereWidget = widgets.FloatLogSlider(base=10, value=1e-6, min=-10, max=-1, description=\"paftere\")\n",
    "srgModeWidget = widgets.Checkbox(description=\"SRG\", value=False)\n",
    "\n",
    "moleculeWidget = widgets.Text(description=\"Molecule, tag\", style = style, value=\"CD, Ne\")\n",
    "tdata = widgets.BoundedFloatText( value=5, min=1, max=20, step=0.25, description='Simulation:' )\n",
    "logPlot = widgets.Checkbox(description=\"Log\", value=True)\n",
    "fitWidget = widgets.Checkbox(description=\"fit\", value=False)\n",
    "\n",
    "oldDataToggle = widgets.Checkbox(description=\"old Data\", value=False)"
   ]
  },
  {
   "cell_type": "code",
   "execution_count": 35,
   "metadata": {},
   "outputs": [],
   "source": [
    "rate_in_text = None\n",
    "rate_output = widgets.Output()\n",
    "\n",
    "def createModal(event=None):\n",
    "    \n",
    "    global rate_output, rate_in_text_widget\n",
    "    \n",
    "    with rate_output:\n",
    "        print(locals())\n",
    "        \n",
    "        print(rate_in_text_widget.value)\n",
    "        \n",
    "        exec(rate_in_text_widget.value)\n",
    "        \n",
    "        print(f\"{locals()['ode_modal']}\")\n",
    "        \n",
    "        return locals()[\"ode_modal\"]\n",
    "    \n",
    "rate_in_text_widget = widgets.Textarea(layout=widgets.Layout(width='70%', height=\"300px\"), style = {'description_width': 'initial'})\n",
    "rate_modal_button = widgets.Button(description=\"Create Modal\", button_style=\"success\", layout=widgets.Layout(width='20%'), style = {'description_width': 'initial'})\n",
    "rate_modal_button_clear = widgets.Button(description=\"Clear\", button_style=\"danger\", layout=widgets.Layout(width='20%'), style = {'description_width': 'initial'})\n",
    "\n",
    "rate_modal_button.on_click(createModal)\n",
    "rate_modal_button_clear.on_click(lambda event: rate_output.clear_output())"
   ]
  },
  {
   "cell_type": "code",
   "execution_count": 36,
   "metadata": {},
   "outputs": [],
   "source": [
    "massOfReactantsWidget = widgets.Text(description=\"massOfReactants\", style = style, value=\", \", layout=layout)\n",
    "nameOfReactantsWidget = widgets.Text(description=\"nameOfReactants\", style = style, value=\", \", layout=layout)\n",
    "nameOfParametersForwardWidget = widgets.Text(description=\"nameOfParametersForward\", style = style,value=\", \", layout=layout)\n",
    "nameOfParametersReverseWidget = widgets.Text(description=\"nameOfParametersReverse\", style = style,value=\", \", layout=layout)\n",
    "\n",
    "ROSAA_kinetics_widgets = {\"massOfReactants\":massOfReactantsWidget, \"nameOfReactants\":nameOfReactantsWidget, \n",
    "                          \"timeStartIndex\":timeStartIndexWidget, \"endtimeIndex\":endtimeIndexWidget,\n",
    "                          \"initialConditionValues\":initialConditionValuesWidget, \"defaultInitialValue\":defaultInitialValueWidget,\n",
    "                          \"fitODE\":fitWidget, \n",
    "                        }\n",
    "\n"
   ]
  },
  {
   "cell_type": "code",
   "execution_count": 37,
   "metadata": {},
   "outputs": [],
   "source": [
    "numberDensityValue = None\n",
    "def numberDensity(temp, pbefore, pafter, srgMode=False):\n",
    "    global numberDensityValue\n",
    "    constant = 4.2e17 # 1/boltzman_constant*sqrt(T)\n",
    "    C = (uf(179.26, 3.79), 1)[srgMode] # Calibration factor \n",
    "    T = uf(temp, 0.1) # Temperature\n",
    "    p = pafter - pbefore\n",
    "    \n",
    "    numberDensityValue = (constant*C*p)/(T**0.5)\n",
    "    \n",
    "    print(f\"{pbefore=:.2e}, {pafter=:.2e}\")\n",
    "    print(f\"{numberDensityValue:.2e}\")\n",
    "    \n",
    "    return numberDensityValue.nominal_value\n",
    "\n",
    "numberDensityWidgetOutput = widgets.interactive_output(numberDensity, dict(temp=tempWidget, pbefore=pbeforeWidget, pafter=paftereWidget, srgMode=srgModeWidget))\n"
   ]
  },
  {
   "cell_type": "code",
   "execution_count": 38,
   "metadata": {},
   "outputs": [],
   "source": [
    "time, mass = None, None\n",
    "errorDataValues = None\n",
    "totalReactants = None\n",
    "\n",
    "ode_modal = None\n",
    "fullDataValues = None\n",
    "label = None\n",
    "expTime = None"
   ]
  },
  {
   "cell_type": "code",
   "execution_count": 40,
   "metadata": {},
   "outputs": [],
   "source": [
    "def ROSAA_kinetics(massOfReactants, nameOfReactants, timeStartIndex, endtimeIndex, \n",
    "                   initialConditionValues, defaultInitialValue, fitODE, filename = None):\n",
    "    \n",
    "    global ode_modal, fullDataValues, label, expTime, rate_in_text, rate_in_text_widget,\\\n",
    "            rateConstantLength, errorDataValues, totalReactants\n",
    "    \n",
    "    rate_in_text = []\n",
    "    \n",
    "    if massOfReactants == \", \": return \n",
    "    \n",
    "    massLabel = massOfReactants.split(\", \")\n",
    "    totalReactants = len(massLabel)\n",
    "    print(f\"{totalReactants=}\")\n",
    "    \n",
    "    nameOfParametersForward = \", \".join([f\"k3{i}\" for i in range(1, totalReactants)])\n",
    "    nameOfParametersReverse = \", \".join([f\"CID{i}\" for i in range(1, totalReactants)])\n",
    "    \n",
    "    nameOfParametersForwardWidget.value = nameOfParametersForward\n",
    "    nameOfParametersReverseWidget.value = nameOfParametersReverse\n",
    "    \n",
    "    # Getting timescan data\n",
    "    expTime = time[timeStartIndex:] / 1000\n",
    "    fullData = {}\n",
    "    errorDataValues = {}\n",
    "    \n",
    "    for key in massLabel:\n",
    "        fullData[key] = m[key]['y'][timeStartIndex:]\n",
    "        errorDataValues[key] = m[key]['error_y']['array'][timeStartIndex:]\n",
    "        \n",
    "    fullDataValues = np.array(list(fullData.values()))\n",
    "    errorDataValues = np.array(list(errorDataValues.values()))\n",
    "    \n",
    "    # Making variables\n",
    "    t = Variable(\"t\")\n",
    "    rate_in_text.append(f't = Variable(\"t\")')\n",
    "    \n",
    "    reactantVariable = []\n",
    "    \n",
    "    if nameOfReactants:\n",
    "        reactantVariable = variables(nameOfReactants)\n",
    "    else:\n",
    "        print(f\"{reactantVariable=} length not matching - {totalReactants}\")\n",
    "        return\n",
    "    \n",
    "    reactantVariable = reactantVariable[:totalReactants]\n",
    "    rate_in_text.append(f'{nameOfReactants} = variables(\"{nameOfReactants}\")')\n",
    "\n",
    "    print(f\"{reactantVariable=}\")\n",
    "    label = nameOfReactants.split(\", \")[:totalReactants]\n",
    "    \n",
    "    fullDataDictionary = {key:value for key, value in zip(label, fullDataValues)}\n",
    "    \n",
    "    # Initial condition\n",
    "    if defaultInitialValue:\n",
    "        initialConditionValues = fullDataValues.T[0]\n",
    "    else:\n",
    "        if initialConditionValues:\n",
    "            initialConditionValues = [float(_.strip()) for _ in initialConditionValues.split(\",\")]\n",
    "        else:\n",
    "            initialConditionValues = [fullDataValues[0].max()]\n",
    "            for _ in range(totalReactants):\n",
    "                initialConditionValues.append(0.0001)\n",
    "        \n",
    "        \n",
    "    print(f\"{initialConditionValues=}\")\n",
    "    initial_cond = {t:0}\n",
    "\n",
    "    for i, variable in enumerate(reactantVariable):\n",
    "        initial_cond[getValfromVariable(variable)] = initialConditionValues[i]\n",
    "\n",
    "    print(f\"{initial_cond=}\")\n",
    "    \n",
    "    rate_in_text.append(f'initial_cond = {initial_cond}')\n",
    "    \n",
    "    # Rate Equation\n",
    "    He = numberDensityValue.nominal_value\n",
    "    \n",
    "    rateConstantParametersForward = parameters(nameOfParametersForward)\n",
    "    rateConstantParametersReverse = parameters(nameOfParametersReverse)\n",
    "    \n",
    "    rate_in_text.append(f'{nameOfParametersForward} = parameters(\"{nameOfParametersForward}\")')\n",
    "    rate_in_text.append(f'{nameOfParametersReverse} = parameters(\"{nameOfParametersReverse}\")')\n",
    "    \n",
    "    if not fitODE:\n",
    "        rateEquation = {\"forward\":[He**2 * getValfromVariable(i) for i in rateConstantParametersForward],\n",
    "                        \"reverse\":[He * getValfromVariable(i) for i in rateConstantParametersReverse]}\n",
    "\n",
    "        for forw, rever in zip(rateConstantParametersForward, rateConstantParametersReverse):\n",
    "            getValfromVariable(forw).min = 1e-31\n",
    "            getValfromVariable(forw).max = 1e-27\n",
    "\n",
    "            getValfromVariable(rever).min = 1e-20\n",
    "            getValfromVariable(rever).max = 1e-14\n",
    "    \n",
    "    else:\n",
    "        rateEquation = {\"forward\":[getValfromVariable(i) for i in rateConstantParametersForward],\n",
    "                        \"reverse\":[getValfromVariable(i) for i in rateConstantParametersReverse]}\n",
    "        \n",
    "        for forw, rever in zip(rateConstantParametersForward, rateConstantParametersReverse):\n",
    "            getValfromVariable(forw).min = 0\n",
    "            getValfromVariable(forw).max = 1\n",
    "\n",
    "            getValfromVariable(rever).min = 0\n",
    "            getValfromVariable(rever).max = 1\n",
    "\n",
    "        \n",
    "    # Formation rate\n",
    "    formationRate = {}\n",
    "\n",
    "    for i, forward, reverse in zip(range(len(rateEquation[\"forward\"])), rateEquation[\"forward\"], rateEquation[\"reverse\"]):\n",
    "        formationRate[f\"{label[i]}\"] = -getValfromVariable(forward)*getValfromVariable(reactantVariable[i]) + getValfromVariable(reverse)*getValfromVariable(reactantVariable[i+1])\n",
    "\n",
    "    formationRateList = list(formationRate.values())\n",
    "    formationRate[f\"{label[-1]}\"] =  -formationRateList[-1]\n",
    "    formationRateList = list(formationRate.values())\n",
    "    \n",
    "    # Rate Modal\n",
    "    rate_in_text.append('rate_model = {}')\n",
    "    \n",
    "    rate_model = {D(getValfromVariable(reactantVariable[0]), t): getValfromVariable(formationRateList[0])}\n",
    "    rate_in_text.append(f'rate_model[D({reactantVariable[0]}, t)] = {formationRateList[0]}')\n",
    "    \n",
    "    for i in range(1, totalReactants-1):\n",
    "        rate_model[D(getValfromVariable(reactantVariable[i]), t)] =  getValfromVariable(formationRateList[i]) -getValfromVariable(formationRateList[i-1])\n",
    "        rate_in_text.append(f'rate_model[D({reactantVariable[i]}, t)] = {formationRateList[i]} - {formationRateList[i-1]}')\n",
    "        \n",
    "    rate_model[D(getValfromVariable(reactantVariable[-1]), t)] = getValfromVariable(formationRateList[-1])\n",
    "    rate_in_text.append(f'rate_model[D({reactantVariable[-1]}, t)] = {formationRateList[-1]}')\n",
    "    \n",
    "    for i, j in rate_model.items():\n",
    "        print(f\"\\n{i}:{j}\")\n",
    "    \n",
    "    ode_modal = ODEModel(rate_model, initial=initial_cond)\n",
    "    print(f\"{ode_modal=}\")\n",
    "    \n",
    "    rate_in_text.append(f'ode_modal = ODEModel(rate_model, initial=initial_cond)')\n",
    "    \n",
    "    rate_in_text_widget.value = \"\\n\".join(rate_in_text)\n",
    "    #display(rate_in_text_widget, rate_modal_button, rate_modal_button_clear, rate_output)\n",
    "    \n",
    "    assert(ode_modal.dependent_vars[0] == list(ode_modal.initial.keys())[1])\n",
    "    \n",
    "    if fitODE:\n",
    "        \n",
    "        kwargs = {\"t\":expTime}\n",
    "        counter = 0\n",
    "        for _ in nameOfReactants.split(\", \")[:totalReactants]:\n",
    "            kwargs[_] = fullDataValues[counter]\n",
    "            counter += 1\n",
    "            \n",
    "        fit = Fit(ode_modal, **kwargs)\n",
    "        fit_result = fit.execute()\n",
    "        print(fit_result)\n",
    "        \n",
    "        return\n",
    "    \n",
    "    func()\n",
    "    \n",
    "ROSAA_kinetics_output = widgets.interactive_output(ROSAA_kinetics, {\"filename\": twidget.files, **ROSAA_kinetics_widgets})"
   ]
  },
  {
   "cell_type": "code",
   "execution_count": 129,
   "metadata": {},
   "outputs": [],
   "source": [
    "rateOutPutWidget = widgets.Output()\n",
    "simulationParameters = None\n",
    "\n",
    "textBox = None\n",
    "simulationTimeSet = 5\n",
    "fittedPlotsCollection = {}\n",
    "fittedPlotsCollection_linear = {}\n",
    "\n",
    "def func():\n",
    "    \n",
    "    global simulationParameters, ode_modal, textBox, fittedPlotsCollection, fittedPlotsCollection_linear\n",
    "    \n",
    "    plt.close('all')\n",
    "    \n",
    "    # Simulation time\n",
    "    \n",
    "    simulationTime = np.linspace(0, simulationTimeSet, 1000)\n",
    "    \n",
    "    #Modal parameters\n",
    "    t = simulationTime\n",
    "    _rateK3 = nameOfParametersForwardWidget.value.split(\", \")\n",
    "    rateK3 = {_:1e-30 for _ in _rateK3}\n",
    "\n",
    "    _rateKCID = nameOfParametersReverseWidget.value.split(\", \")\n",
    "    rateKCID = {_:1e-15 for _ in _rateKCID}\n",
    "    \n",
    "    oldValueExist = True\n",
    "    if not simulationParameters:\n",
    "        simulationParameters = {\"t\":simulationTime, **rateK3, **rateKCID}\n",
    "        oldValueExist = False\n",
    "        \n",
    "    totalRateConstants = len(ode_modal.free_params)\n",
    "    simulationParametersLength = len(list(simulationParameters.values()))\n",
    "    \n",
    "    if totalRateConstants != simulationParametersLength-1:\n",
    "        simulationParameters = {\"t\":simulationTime, **rateK3, **rateKCID}\n",
    "        oldValueExist = False\n",
    "        \n",
    "    simulationData = ode_modal(**simulationParameters)\n",
    "    _hspace = 0.04\n",
    "\n",
    "    requiredSpaceForRateSlider = totalRateConstants * _hspace\n",
    "    \n",
    "    fig, (ax, ax1) = plt.subplots(figsize=(12, 6), nrows=1, ncols=2)\n",
    "    plt.subplots_adjust(left=0.1, bottom=requiredSpaceForRateSlider+0.12)\n",
    "                             \n",
    "    twidget.fig = fig\n",
    "    \n",
    "    nameOfReactants = nameOfReactantsWidget.value.split(\", \")[:totalReactants]\n",
    "    \n",
    "    for _index in range(totalReactants):\n",
    "        lg = nameOfReactants[_index] + \"$^+$\"\n",
    "        ax.plot(expTime, fullDataValues[_index], \".\", ms=10, label=lg)\n",
    "        ax1.plot(expTime, fullDataValues[_index], \".\", ms=10, label=lg)\n",
    "        fittedPlotsCollection[f\"{nameOfReactants[_index]}\"], = ax.plot(simulationTime, simulationData[_index], f\"-C{_index}\")\n",
    "        fittedPlotsCollection_linear[f\"{nameOfReactants[_index]}\"], = ax1.plot(simulationTime, simulationData[_index], f\"-C{_index}\")\n",
    "    \n",
    "    def updatePlot(event=None):\n",
    "        \n",
    "        global simulationParameters\n",
    "        \n",
    "        with rateOutPutWidget:\n",
    "            rateK3 = {_:10**(k3Slider[_].val) for _ in _rateK3}\n",
    "            rateKCID = {_:10**(kCIDSlider[_].val) for _ in _rateKCID}\n",
    "            simulationParameters = {\"t\":simulationTime, **rateK3, **rateKCID}\n",
    "            simulationData = ode_modal(**simulationParameters)\n",
    "\n",
    "            for _index in range(totalReactants):\n",
    "                fittedPlotsCollection[f\"{nameOfReactants[_index]}\"].set_ydata(simulationData[_index])\n",
    "                fittedPlotsCollection_linear[f\"{nameOfReactants[_index]}\"].set_ydata(simulationData[_index])\n",
    "\n",
    "            fig.canvas.draw_idle()\n",
    "    \n",
    "    axcolor = 'lightgoldenrodyellow'\n",
    "    \n",
    "    def updateTime(time):\n",
    "        global simulationParameters, fittedPlotsCollection, fittedPlotsCollection_linear, simulationTimeSet\n",
    "        \n",
    "        time = float(time)\n",
    "        simulationTimeSet = time\n",
    "        \n",
    "        with rateOutPutWidget:\n",
    "            \n",
    "            simulationParameters[\"t\"] = simulationTime = np.linspace(0, time, 1000)\n",
    "            simulationData = ode_modal(**simulationParameters)\n",
    "            \n",
    "            for _index in range(totalReactants):\n",
    "                fittedPlotsCollection[f\"{nameOfReactants[_index]}\"].remove()\n",
    "                fittedPlotsCollection_linear[f\"{nameOfReactants[_index]}\"].remove()\n",
    "                \n",
    "                fittedPlotsCollection[f\"{nameOfReactants[_index]}\"], = ax.plot(simulationTime, simulationData[_index], f\"-C{_index}\")\n",
    "                fittedPlotsCollection_linear[f\"{nameOfReactants[_index]}\"], = ax1.plot(simulationTime, simulationData[_index], f\"-C{_index}\")\n",
    "            \n",
    "            ax.set_xlim(-0.4, time)\n",
    "            ax1.set_xlim(-0.4, time)\n",
    "            \n",
    "            fig.canvas.draw_idle()\n",
    "    \n",
    "    _textBoxAxes = plt.axes([0.1, requiredSpaceForRateSlider/2 + 0.05, 0.1, 0.04])\n",
    "    textBox = TextBox(_textBoxAxes, \"Time(in s)\", f\"{simulationTimeSet if simulationTimeSet else '5'}\")\n",
    "    textBox.on_submit(updateTime)\n",
    "    \n",
    "    # l->r, b->t, w, h\n",
    "    _left = 0.25\n",
    "    _height = 0.03\n",
    "    _width = 0.5\n",
    "    \n",
    "    k3Slider = {}\n",
    "    kCIDSlider = {}\n",
    "    \n",
    "    for _index in range(int(totalRateConstants/2)):\n",
    "        \n",
    "        _axes = plt.axes([_left, requiredSpaceForRateSlider, _width, _height], facecolor=axcolor)\n",
    "        \n",
    "        _k3 = _rateK3[_index]\n",
    "        k3Slider[f\"{_k3}\"] = Sliderlog(_axes, _k3, -40, -20, valinit=(-30, np.log10(simulationParameters[f\"{_k3}\"]))[oldValueExist], valstep=1e-20, valfmt='%1.2e')\n",
    "        k3Slider[f\"{_k3}\"].on_changed(updatePlot)\n",
    "        \n",
    "        requiredSpaceForRateSlider -= _hspace\n",
    "        _axes = plt.axes([_left, requiredSpaceForRateSlider, _width, _height], facecolor=axcolor)\n",
    "\n",
    "        _kCID = _rateKCID[_index]\n",
    "        kCIDSlider[f\"{_kCID}\"] = Sliderlog(_axes, _kCID, -30, -10, valinit=(-15, np.log10(simulationParameters[f\"{_kCID}\"]))[oldValueExist], valstep=1e-10, valfmt='%1.2e')\n",
    "        kCIDSlider[f\"{_kCID}\"].on_changed(updatePlot)\n",
    "        \n",
    "        requiredSpaceForRateSlider -= _hspace\n",
    "            \n",
    "    tag = moleculeWidget.value.split(\",\")[1].strip()\n",
    "    \n",
    "    ax.grid()\n",
    "    ax1.grid()\n",
    "    \n",
    "    ax.minorticks_on()\n",
    "    ax1.minorticks_on()\n",
    "    \n",
    "    plt.suptitle(f\"{twidget.files.value}: {tag} number density: {numberDensityValue.nominal_value:.2e}/cm3, Temp: {tempWidget.value}K\")\n",
    "    \n",
    "    ax.set_yscale(\"log\")\n",
    "    ax1.legend(title=\"Molecules\")\n",
    "    \n",
    "    ax.set(xlabel=\"Time (s)\", ylabel=\"Counts\", title=\"YScaling: Log\")\n",
    "    ax1.set(xlabel=\"Time (s)\", title=\"YScaling: Linear\")\n",
    "    \n",
    "    plt.show()\n"
   ]
  },
  {
   "cell_type": "code",
   "execution_count": 130,
   "metadata": {},
   "outputs": [
    {
     "data": {
      "application/vnd.jupyter.widget-view+json": {
       "model_id": "21eef09f94314e229f8f460b88ed691a",
       "version_major": 2,
       "version_minor": 0
      },
      "text/plain": [
       "Button(button_style='success', description='update location', layout=Layout(width='20%'), style=ButtonStyle())"
      ]
     },
     "metadata": {},
     "output_type": "display_data"
    },
    {
     "data": {
      "application/vnd.jupyter.widget-view+json": {
       "model_id": "44ecc31f7fca49f791082a0c048aa5ae",
       "version_major": 2,
       "version_minor": 0
      },
      "text/plain": [
       "Text(value='D:\\\\Measurements\\\\THz\\\\CO+\\\\timescan', description='scan location', layout=Layout(width='70%'), st…"
      ]
     },
     "metadata": {},
     "output_type": "display_data"
    },
    {
     "data": {
      "application/vnd.jupyter.widget-view+json": {
       "model_id": "f29aa7e7a55f400abfd906ee021746e4",
       "version_major": 2,
       "version_minor": 0
      },
      "text/plain": [
       "Select(description='scan files', layout=Layout(height='300px', width='70%'), options=('27_10_20-1.scan', '27_1…"
      ]
     },
     "metadata": {},
     "output_type": "display_data"
    },
    {
     "data": {
      "application/vnd.jupyter.widget-view+json": {
       "model_id": "f7a76275cb2c4069be27c315f4971fed",
       "version_major": 2,
       "version_minor": 0
      },
      "text/plain": [
       "Checkbox(value=False, description='old Data')"
      ]
     },
     "metadata": {},
     "output_type": "display_data"
    },
    {
     "data": {
      "application/vnd.jupyter.widget-view+json": {
       "model_id": "7ac027a84b9646c79a9eea6688359406",
       "version_major": 2,
       "version_minor": 0
      },
      "text/plain": [
       "Output()"
      ]
     },
     "metadata": {},
     "output_type": "display_data"
    },
    {
     "data": {
      "application/vnd.jupyter.widget-view+json": {
       "model_id": "6c001e598d2742f6a4ec00606e7c5c28",
       "version_major": 2,
       "version_minor": 0
      },
      "text/plain": [
       "VBox(children=(HBox(children=(Text(value='CO, He', description='Molecule, tag', style=DescriptionStyle(descrip…"
      ]
     },
     "metadata": {},
     "output_type": "display_data"
    },
    {
     "data": {
      "application/vnd.jupyter.widget-view+json": {
       "model_id": "a88797f9372343698335f8cf0dabb605",
       "version_major": 2,
       "version_minor": 0
      },
      "text/plain": [
       "Output(outputs=({'name': 'stdout', 'text': 'totalReactants=3\\nreactantVariable=(CO, COHe, COHe2)\\ninitialCondi…"
      ]
     },
     "metadata": {},
     "output_type": "display_data"
    },
    {
     "data": {
      "application/vnd.jupyter.widget-view+json": {
       "model_id": "41b95945619e4e7aa2427ef50073eb7f",
       "version_major": 2,
       "version_minor": 0
      },
      "text/plain": [
       "Button(button_style='danger', description='Clear Output', layout=Layout(width='20%'), style=ButtonStyle())"
      ]
     },
     "metadata": {},
     "output_type": "display_data"
    },
    {
     "data": {
      "application/vnd.jupyter.widget-view+json": {
       "model_id": "230a956b0ba841a5823ed354e37c9c04",
       "version_major": 2,
       "version_minor": 0
      },
      "text/plain": [
       "Output()"
      ]
     },
     "metadata": {},
     "output_type": "display_data"
    },
    {
     "data": {
      "application/vnd.jupyter.widget-view+json": {
       "model_id": "f1a2957662b1459baee652cf64d3ea4b",
       "version_major": 2,
       "version_minor": 0
      },
      "text/plain": [
       "IntText(value=140, description='savedpi', step=2)"
      ]
     },
     "metadata": {},
     "output_type": "display_data"
    },
    {
     "data": {
      "application/vnd.jupyter.widget-view+json": {
       "model_id": "74910dba3a1b4190b5d060415e56ef37",
       "version_major": 2,
       "version_minor": 0
      },
      "text/plain": [
       "Text(value='27_10_20-1', description='savefilename')"
      ]
     },
     "metadata": {},
     "output_type": "display_data"
    },
    {
     "data": {
      "application/vnd.jupyter.widget-view+json": {
       "model_id": "167501fd13184f8ba5b179abe63f8b33",
       "version_major": 2,
       "version_minor": 0
      },
      "text/plain": [
       "Button(button_style='success', description='Save', style=ButtonStyle())"
      ]
     },
     "metadata": {},
     "output_type": "display_data"
    },
    {
     "data": {
      "application/vnd.jupyter.widget-view+json": {
       "model_id": "6fbc34dc882a4e51b7462857e73eaaac",
       "version_major": 2,
       "version_minor": 0
      },
      "text/plain": [
       "Button(button_style='danger', description='Clear', style=ButtonStyle())"
      ]
     },
     "metadata": {},
     "output_type": "display_data"
    },
    {
     "data": {
      "application/vnd.jupyter.widget-view+json": {
       "model_id": "1030ef80b27d4718ae04a70cfea40dd1",
       "version_major": 2,
       "version_minor": 0
      },
      "text/plain": [
       "Output(outputs=({'name': 'stdout', 'text': 'Getting scan from D:\\\\Measurements\\\\THz\\\\CO+\\\\timescan\\nGetting sc…"
      ]
     },
     "metadata": {},
     "output_type": "display_data"
    }
   ],
   "source": [
    "display(twidget.update_files_button, twidget.location, twidget.files, oldDataToggle)\n",
    "twidget.files.options = (f\"{_}\".replace(\".txt\", \".scan\") for _ in pt(twidget.location.value).glob(\"*_timescan.txt\"))\n",
    "\n",
    "def init(location, filename, moleculeName, oldData=False):\n",
    "    \n",
    "    global time, mass, m, totalReactants\n",
    "    \n",
    "    if not filename: return print(\"No files selected\")\n",
    "\n",
    "    file = pt(location) / filename\n",
    "    \n",
    "    if oldData:\n",
    "        file = pt(location) / f\"{pt(filename).stem}.txt\"\n",
    "        time, *massesData = np.genfromtxt(file).T\n",
    "\n",
    "        with open(file) as f:\n",
    "            for i in f.readlines():\n",
    "                if i.startswith(\"#Time\"):\n",
    "                    masses = [_.strip() for _ in i.split(\"\\t\")[1:-1]]\n",
    "                    mass = [float(_) for _ in masses[:-1]]\n",
    "                    \n",
    "        m = {}\n",
    "        for _, _data in enumerate(massesData):\n",
    "            m[f\"{masses[_]}u\"] = {\"x\":list(time), \"y\":list(_data), \"name\":f\"{masses[_]}u\", 'mode': 'lines+markers'}\n",
    "        \n",
    "    else:\n",
    "        time, mean, error, mass, t_res, t_b0  = timescanplot(file).get_data()\n",
    "        m = timescanplot(file).get_fullmass()\n",
    "\n",
    "    data = list(m.values())\n",
    "    #iplot(data)\n",
    "    fig = dict({\n",
    "        \"data\": data,\n",
    "        \"layout\": {\"title\": {\"text\": f\"Timescan: {file.name}\"}, \"yaxis\":{\"type\":\"log\"}}\n",
    "    })\n",
    "    pio.show(fig)\n",
    "    \n",
    "    massLabel = [f\"{i}u\" for i in mass]\n",
    "    massOfReactantsWidget.value = \", \".join(massLabel)\n",
    "    \n",
    "    totalReactants = len(massLabel)\n",
    "    \n",
    "    twidget.savefilename.value = f\"{pt(filename).stem}\"\n",
    "    \n",
    "    molecule = moleculeName.split(\",\")[0].strip()\n",
    "    tagName = moleculeName.split(\",\")[1].strip()\n",
    "    moleculeTag = [molecule, f\"{molecule}{tagName}\"]\n",
    "    \n",
    "    for i in range(2, totalReactants):\n",
    "        _temp = f\"{molecule}{tagName}{i}\"\n",
    "        moleculeTag.append(_temp)\n",
    "    \n",
    "    nameOfReactantsWidget.value = \", \".join(moleculeTag)\n",
    "    \n",
    "    display(tempWidget, pbeforeWidget, paftereWidget, srgModeWidget, numberDensityWidgetOutput)\n",
    "    print(f\"{numberDensityWidgetOutput=}\")\n",
    "    \n",
    "    \n",
    "out = widgets.interactive_output(init, dict(location=twidget.location, filename=twidget.files,\n",
    "                        oldData=oldDataToggle, moleculeName=moleculeWidget)\n",
    "                         )\n",
    "\n",
    "display(out)\n",
    "\n",
    "ROSAA_kinetics_widget_display = widgets.VBox([\n",
    "    widgets.HBox([moleculeWidget]),\n",
    "    widgets.HBox([massOfReactantsWidget, nameOfReactantsWidget]),\n",
    "    widgets.HBox([nameOfParametersForwardWidget, nameOfParametersReverseWidget]),\n",
    "    widgets.HBox([timeStartIndexWidget, endtimeIndexWidget]),\n",
    "    widgets.HBox([defaultInitialValueWidget, initialConditionValuesWidget]),\n",
    "    widgets.HBox([fitWidget]),\n",
    "])\n",
    "\n",
    "rateOutPutClearButtonWidget = widgets.Button(description=\"Clear Output\", button_style=\"danger\", layout=widgets.Layout(width='20%'), style = {'description_width': 'initial'})\n",
    "rateOutPutClearButtonWidget.on_click(lambda event: rateOutPutWidget.clear_output())\n",
    "\n",
    "display(ROSAA_kinetics_widget_display, ROSAA_kinetics_output, rateOutPutClearButtonWidget, rateOutPutWidget)\n",
    "display(twidget.savedpi, twidget.savefilename, twidget.savebutton, twidget.closebutton, twidget.output)"
   ]
  },
  {
   "cell_type": "code",
   "execution_count": 75,
   "metadata": {},
   "outputs": [],
   "source": [
    "def srg_calib():\n",
    "    \n",
    "    plt.close(\"all\")\n",
    "    srg_loc = pt(r\"D:\\SurfDrive\\THz_Measurements\\CD+\\timescan\\reports\")\n",
    "    srg_file = srg_loc / \"srg_calibration.txt\"\n",
    "    print(f\"File exists: {srg_file.exists()}\")\n",
    "\n",
    "    trap, srg = np.genfromtxt(srg_file).T\n",
    "\n",
    "    # Define a model to fit to.\n",
    "    def linearEq(x, slope, offset):\n",
    "        return slope*x + offset\n",
    "\n",
    "    popt, pcov = curve_fit(linearEq, trap, srg)\n",
    "    perr = np.sqrt(np.diag(pcov))\n",
    "\n",
    "    print(popt, perr)\n",
    "\n",
    "    xfit = np.linspace(0, trap.max()+0.2*trap.max(), 50)\n",
    "    yfit = linearEq(xfit, *popt)\n",
    "\n",
    "    fig, ax = plt.subplots(dpi=160)\n",
    "    ax.plot(trap, srg, \".C0\")\n",
    "    ax.plot(xfit, yfit, \"-C0\")\n",
    "    plt.ticklabel_format(axis='both', style='sci', scilimits=(-6, -6))\n",
    "\n",
    "    ax.set(title=\"SRG calibration for He @5K\", xlabel=\"Trap (mBar)\", ylabel=\"SRG (mBar)\")\n",
    "    ax.legend([\"Measured\", \"C$_{He, 5K} = $\"+f\"{popt[0]:.2f}({perr[0]:.2f})\"], title=\"Labbook #?; 3/9/20\")\n",
    "\n",
    "    fig.savefig(srg_loc/\"srg_calibration.pdf\")\n",
    "    fig.savefig(srg_loc/\"srg_calibration.png\")\n",
    "\n",
    "    print(\"Figure saved\")\n",
    "\n",
    "#srg_calib()"
   ]
  },
  {
   "cell_type": "code",
   "execution_count": 76,
   "metadata": {},
   "outputs": [
    {
     "data": {
      "application/vnd.jupyter.widget-view+json": {
       "model_id": "7ad7a1d29e414986adebb08e2b411347",
       "version_major": 2,
       "version_minor": 0
      },
      "text/plain": [
       "Canvas(toolbar=Toolbar(toolitems=[('Home', 'Reset original view', 'home', 'home'), ('Back', 'Back to previous …"
      ]
     },
     "metadata": {},
     "output_type": "display_data"
    },
    {
     "data": {
      "application/vnd.jupyter.widget-view+json": {
       "model_id": "ec89d908f3ea4ffcbdc55c86f733ad77",
       "version_major": 2,
       "version_minor": 0
      },
      "text/plain": [
       "Output()"
      ]
     },
     "metadata": {},
     "output_type": "display_data"
    }
   ],
   "source": [
    "text_box = None\n",
    "testoutput = widgets.Output()\n",
    "def test():\n",
    "    \n",
    "    global text_box\n",
    "    fig, ax = plt.subplots()\n",
    "    plt.subplots_adjust(bottom=0.2)\n",
    "    t = np.arange(-2.0, 2.0, 0.001)\n",
    "    s = t ** 2\n",
    "    initial_text = \"t ** 2\"\n",
    "    l, = plt.plot(t, s, lw=2)\n",
    "\n",
    "\n",
    "    def submit(text):\n",
    "        with testoutput:\n",
    "            ydata = eval(text)\n",
    "            print(l.remove)\n",
    "            l.remove()\n",
    "            plt.draw()\n",
    "\n",
    "    axbox = plt.axes([0.1, 0.05, 0.8, 0.03])\n",
    "    text_box = TextBox(axbox, 'Evaluate', initial=initial_text)\n",
    "    text_box.on_submit(submit)\n",
    "\n",
    "    plt.show()\n",
    "    \n",
    "test()\n",
    "display(testoutput)"
   ]
  },
  {
   "cell_type": "code",
   "execution_count": 55,
   "metadata": {},
   "outputs": [
    {
     "name": "stdout",
     "output_type": "stream",
     "text": [
      "1\n"
     ]
    }
   ],
   "source": [
    "temp = \"1\"\n",
    "print(f\"{temp if temp else '5'}\")"
   ]
  },
  {
   "cell_type": "code",
   "execution_count": null,
   "metadata": {},
   "outputs": [],
   "source": []
  },
  {
   "cell_type": "code",
   "execution_count": null,
   "metadata": {},
   "outputs": [],
   "source": []
  },
  {
   "cell_type": "code",
   "execution_count": null,
   "metadata": {},
   "outputs": [],
   "source": []
  },
  {
   "cell_type": "code",
   "execution_count": null,
   "metadata": {},
   "outputs": [],
   "source": []
  }
 ],
 "metadata": {
  "kernelspec": {
   "display_name": "Python 3",
   "language": "python",
   "name": "python3"
  },
  "language_info": {
   "codemirror_mode": {
    "name": "ipython",
    "version": 3
   },
   "file_extension": ".py",
   "mimetype": "text/x-python",
   "name": "python",
   "nbconvert_exporter": "python",
   "pygments_lexer": "ipython3",
   "version": "3.8.3"
  }
 },
 "nbformat": 4,
 "nbformat_minor": 4
}
