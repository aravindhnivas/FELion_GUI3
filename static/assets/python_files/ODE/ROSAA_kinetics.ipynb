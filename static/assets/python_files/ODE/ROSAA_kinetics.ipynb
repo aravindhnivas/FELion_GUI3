{
 "cells": [
  {
   "cell_type": "code",
   "execution_count": 1,
   "metadata": {},
   "outputs": [],
   "source": [
    "import os\n",
    "import ctypes\n",
    "from symfit import variables, Parameter, ODEModel, D, Fit, parameters, Variable\n",
    "import numpy as np\n",
    "from uncertainties import ufloat as uf\n",
    "from scipy.optimize import curve_fit\n",
    "import matplotlib.pyplot as plt\n",
    "from scipy.integrate import solve_ivp\n",
    "from pathlib import Path as pt\n",
    "from ipywidgets import widgets\n",
    "from timescan import timescanplot\n",
    "from time import time as start_time\n",
    "\n",
    "%matplotlib inline"
   ]
  },
  {
   "cell_type": "code",
   "execution_count": 2,
   "metadata": {},
   "outputs": [
    {
     "data": {
      "text/html": [
       "        <script type=\"text/javascript\">\n",
       "        window.PlotlyConfig = {MathJaxConfig: 'local'};\n",
       "        if (window.MathJax) {MathJax.Hub.Config({SVG: {font: \"STIX-Web\"}});}\n",
       "        if (typeof require !== 'undefined') {\n",
       "        require.undef(\"plotly\");\n",
       "        requirejs.config({\n",
       "            paths: {\n",
       "                'plotly': ['https://cdn.plot.ly/plotly-latest.min']\n",
       "            }\n",
       "        });\n",
       "        require(['plotly'], function(Plotly) {\n",
       "            window._Plotly = Plotly;\n",
       "        });\n",
       "        }\n",
       "        </script>\n",
       "        "
      ]
     },
     "metadata": {},
     "output_type": "display_data"
    }
   ],
   "source": [
    "from plotly.offline import init_notebook_mode\n",
    "init_notebook_mode(connected=True)\n",
    "\n",
    "# To display the figure defined by this dict, use the low-level plotly.io.show function\n",
    "import plotly.io as pio\n",
    "\n",
    "from widgetDefinitions import createWidgets\n",
    "import string\n",
    "\n",
    "alphabets = string.ascii_uppercase\n",
    "\n",
    "def definingParameter(value):\n",
    "    exec(value)\n",
    "    return locals()\n",
    "\n",
    "def getValfromAddress(address):\n",
    "    return ctypes.cast(address, ctypes.py_object).value\n",
    "\n",
    "def getValfromVariable(variable):\n",
    "    address = id(variable)\n",
    "    return getValfromAddress(address)\n",
    "\n",
    "def float_slider(_value, _description, _min = -40, _max = -20, steps = 1e-3):\n",
    "    return widgets.FloatLogSlider(\n",
    "                value=_value,\n",
    "                base=10,\n",
    "                min=_min,\n",
    "                max=_max,\n",
    "                step=steps,\n",
    "                description=_description\n",
    "            )"
   ]
  },
  {
   "cell_type": "code",
   "execution_count": 3,
   "metadata": {},
   "outputs": [],
   "source": [
    "style = {'description_width': 'initial', 'width':\"100\"}\n",
    "layout=widgets.Layout(width='50%')\n",
    "\n",
    "twidget = createWidgets(filetype=\"scan\", multiselect=False, locationValue=r\"D:\\SurfDrive\\THz_Measurements\\CD+\\timescan\")\n",
    "twidget.files.layout.height = \"300px\"\n",
    "\n",
    "timeStartIndexWidget = widgets.BoundedIntText(value=1, description=\"timeStartIndex\",min=0, style=style)\n",
    "endtimeIndexWidget = widgets.BoundedIntText(value=-1, description=\"endtimeIndex\", min=-1, style=style)\n",
    "\n",
    "defaultInitialValueWidget = widgets.Checkbox(description=\"defaultInitialValue\", value=False)\n",
    "initialConditionValuesWidget = widgets.Text(description=\"initialConditionValues\", style = style, value=\"\", layout=layout)\n",
    "\n",
    "\n",
    "tempWidget = widgets.BoundedFloatText(value=5, min=0, max=400, step=0.5, description=\"Temperature\")\n",
    "\n",
    "pbeforeWidget = widgets.FloatLogSlider(base=10, value=1e-8, min=-10, max=-4, description=\"pbefore\")\n",
    "\n",
    "paftereWidget = widgets.FloatLogSlider(base=10, value=1e-6, min=-10, max=-4, description=\"paftere\")\n",
    "\n",
    "parameterMinMaxStepForwardWidget = widgets.Text(description=\"parameterMinMaxStep\", style = style, value=\"-40, -20, 0.001\")\n",
    "parameterMinMaxStepReverseWidget = widgets.Text(description=\"parameterMinMaxStep\", style = style, value=\"-30, -10, 0.001\")\n",
    "moleculeWidget = widgets.Text(description=\"Molecule, tag\", style = style, value=\"CD, Ne\")\n",
    "tdata = widgets.BoundedFloatText( value=5, min=1, max=20, step=0.25, description='Simulation:' )\n",
    "logPlot = widgets.Checkbox(description=\"Log\", value=True)\n",
    "fitWidget = widgets.Checkbox(description=\"fit\", value=False)\n",
    "\n",
    "oldDataToggle = widgets.Checkbox(description=\"old Data\", value=False)"
   ]
  },
  {
   "cell_type": "code",
   "execution_count": 4,
   "metadata": {},
   "outputs": [],
   "source": [
    "rate_in_text = None\n",
    "rate_output = widgets.Output()\n",
    "\n",
    "def createModal(event=None):\n",
    "    \n",
    "    global rate_output, rate_in_text_widget\n",
    "    \n",
    "    with rate_output:\n",
    "        print(locals())\n",
    "        \n",
    "        print(rate_in_text_widget.value)\n",
    "        \n",
    "        exec(rate_in_text_widget.value)\n",
    "        \n",
    "        print(f\"{locals()['ode_modal']}\")\n",
    "        \n",
    "        return locals()[\"ode_modal\"]\n",
    "    \n",
    "rate_in_text_widget = widgets.Textarea(layout=widgets.Layout(width='70%', height=\"300px\"), style = {'description_width': 'initial'})\n",
    "rate_modal_button = widgets.Button(description=\"Create Modal\", button_style=\"success\", layout=widgets.Layout(width='20%'), style = {'description_width': 'initial'})\n",
    "rate_modal_button_clear = widgets.Button(description=\"Clear\", button_style=\"danger\", layout=widgets.Layout(width='20%'), style = {'description_width': 'initial'})\n",
    "\n",
    "rate_modal_button.on_click(createModal)\n",
    "rate_modal_button_clear.on_click(lambda event: rate_output.clear_output())"
   ]
  },
  {
   "cell_type": "code",
   "execution_count": 5,
   "metadata": {},
   "outputs": [],
   "source": [
    "massOfReactantsWidget = widgets.Text(description=\"massOfReactants\", style = style, value=\", \", layout=layout)\n",
    "nameOfReactantsWidget = widgets.Text(description=\"nameOfReactants\", style = style, value=\", \", layout=layout)\n",
    "nameOfParametersForwardWidget = widgets.Text(description=\"nameOfParametersForward\", style = style,value=\", \", layout=layout)\n",
    "nameOfParametersReverseWidget = widgets.Text(description=\"nameOfParametersReverse\", style = style,value=\", \", layout=layout)\n",
    "\n",
    "ROSAA_kinetics_widgets = {\"massOfReactants\":massOfReactantsWidget, \"nameOfReactants\":nameOfReactantsWidget, \n",
    "                          \"timeStartIndex\":timeStartIndexWidget, \"endtimeIndex\":endtimeIndexWidget, \"initialConditionValues\":initialConditionValuesWidget, \"defaultInitialValue\":defaultInitialValueWidget,\n",
    "                          \"fitODE\":fitWidget, \"parameterMinMaxStepForward\":parameterMinMaxStepForwardWidget, \"parameterMinMaxStepReverse\": parameterMinMaxStepReverseWidget\n",
    "                        }\n",
    "\n"
   ]
  },
  {
   "cell_type": "code",
   "execution_count": 6,
   "metadata": {},
   "outputs": [],
   "source": [
    "numberDensityValue = None\n",
    "def numberDensity(temp, pbefore, pafter):\n",
    "    global numberDensityValue\n",
    "    constant = 4.2e17 # 1/boltzman_constant*sqrt(T)\n",
    "    C = uf(179.26, 3.79) # Calibration factor \n",
    "    T = uf(temp, 0.1) # Temperature\n",
    "    p = pafter - pbefore\n",
    "    numberDensityValue = (constant*C*p)/(T**0.5)\n",
    "    print(f\"{pbefore=}, {pafter=}\")\n",
    "    print(f\"{numberDensityValue:.2e}\")\n",
    "    return numberDensityValue.nominal_value\n",
    "\n",
    "numberDensityWidgetOutput = widgets.interactive_output(numberDensity, dict(temp=tempWidget, pbefore=pbeforeWidget, pafter=paftereWidget))\n"
   ]
  },
  {
   "cell_type": "code",
   "execution_count": 7,
   "metadata": {},
   "outputs": [],
   "source": [
    "time, mass = None, None\n",
    "errorDataValues = None\n",
    "totalReactants = None\n",
    "rateConstantSliderWidget = None\n",
    "\n",
    "ode_modal = None\n",
    "fullDataValues = None\n",
    "label = None\n",
    "expTime = None\n",
    "\n",
    "rateConstantLength = 0"
   ]
  },
  {
   "cell_type": "code",
   "execution_count": 8,
   "metadata": {},
   "outputs": [],
   "source": [
    "def ROSAA_kinetics(massOfReactants, nameOfReactants, timeStartIndex, endtimeIndex, \n",
    "                   initialConditionValues, defaultInitialValue, fitODE, parameterMinMaxStepForward, parameterMinMaxStepReverse,\n",
    "                  filename = None):\n",
    "    \n",
    "    global ode_modal, fullDataValues, label, expTime, rate_in_text, rate_in_text_widget, rateConstantSliderWidget,\\\n",
    "            rateConstantLength, errorDataValues\n",
    "    \n",
    "    rate_in_text = []\n",
    "    \n",
    "    if massOfReactants == \", \": return \n",
    "    \n",
    "    massLabel = massOfReactants.split(\", \")\n",
    "    totalReactants = len(massLabel)\n",
    "    print(f\"{totalReactants=}\")\n",
    "    \n",
    "    nameOfParametersForward = \", \".join([f\"k3{i}\" for i in range(1, totalReactants)])\n",
    "    nameOfParametersReverse = \", \".join([f\"CID{i}\" for i in range(1, totalReactants)])\n",
    "    \n",
    "    nameOfParametersForwardWidget.value = nameOfParametersForward\n",
    "    nameOfParametersReverseWidget.value = nameOfParametersReverse\n",
    "    \n",
    "    # Getting timescan data\n",
    "    expTime = time[timeStartIndex:] / 1000\n",
    "    fullData = {}\n",
    "    errorDataValues = {}\n",
    "    \n",
    "    for key in massLabel:\n",
    "        fullData[key] = m[key]['y'][timeStartIndex:]\n",
    "        errorDataValues[key] = m[key]['error_y']['array'][timeStartIndex:]\n",
    "        \n",
    "    fullDataValues = np.array(list(fullData.values()))\n",
    "    errorDataValues = np.array(list(errorDataValues.values()))\n",
    "    \n",
    "    # Making variables\n",
    "    t = Variable(\"t\")\n",
    "    rate_in_text.append(f't = Variable(\"t\")')\n",
    "    \n",
    "    reactantVariable = []\n",
    "    \n",
    "    if nameOfReactants:\n",
    "        reactantVariable = variables(nameOfReactants)\n",
    "    else:\n",
    "        print(f\"{reactantVariable=} length not matching - {totalReactants}\")\n",
    "        return\n",
    "    \n",
    "    reactantVariable = reactantVariable[:totalReactants]\n",
    "    rate_in_text.append(f'{nameOfReactants} = variables(\"{nameOfReactants}\")')\n",
    "\n",
    "    print(f\"{reactantVariable=}\")\n",
    "    label = nameOfReactants.split(\", \")[:totalReactants]\n",
    "    \n",
    "    fullDataDictionary = {key:value for key, value in zip(label, fullDataValues)}\n",
    "    \n",
    "    # Initial condition\n",
    "    if defaultInitialValue:\n",
    "        initialConditionValues = fullDataValues.T[0]\n",
    "    else:\n",
    "        if initialConditionValues:\n",
    "            initialConditionValues = [float(_.strip()) for _ in initialConditionValues.split(\",\")]\n",
    "        else:\n",
    "            initialConditionValues = [fullDataValues[0].max()]\n",
    "            for _ in range(totalReactants):\n",
    "                initialConditionValues.append(0.0001)\n",
    "        \n",
    "        \n",
    "    print(f\"{initialConditionValues=}\")\n",
    "    initial_cond = {t:0}\n",
    "\n",
    "    for i, variable in enumerate(reactantVariable):\n",
    "        initial_cond[getValfromVariable(variable)] = initialConditionValues[i]\n",
    "\n",
    "    print(f\"{initial_cond=}\")\n",
    "    \n",
    "    rate_in_text.append(f'initial_cond = {initial_cond}')\n",
    "    \n",
    "    # Rate Equation\n",
    "    He = numberDensityValue.nominal_value\n",
    "    \n",
    "    rateConstantParametersForward = parameters(nameOfParametersForward)\n",
    "    rateConstantParametersReverse = parameters(nameOfParametersReverse)\n",
    "    \n",
    "    rate_in_text.append(f'{nameOfParametersForward} = parameters(\"{nameOfParametersForward}\")')\n",
    "    rate_in_text.append(f'{nameOfParametersReverse} = parameters(\"{nameOfParametersReverse}\")')\n",
    "    \n",
    "    if not fitODE:\n",
    "        rateEquation = {\"forward\":[He**2 * getValfromVariable(i) for i in rateConstantParametersForward],\n",
    "                        \"reverse\":[He * getValfromVariable(i) for i in rateConstantParametersReverse]}\n",
    "\n",
    "        for forw, rever in zip(rateConstantParametersForward, rateConstantParametersReverse):\n",
    "            getValfromVariable(forw).min = 1e-31\n",
    "            getValfromVariable(forw).max = 1e-27\n",
    "\n",
    "            getValfromVariable(rever).min = 1e-20\n",
    "            getValfromVariable(rever).max = 1e-14\n",
    "    \n",
    "    else:\n",
    "        rateEquation = {\"forward\":[getValfromVariable(i) for i in rateConstantParametersForward],\n",
    "                        \"reverse\":[getValfromVariable(i) for i in rateConstantParametersReverse]}\n",
    "\n",
    "        \n",
    "    # Formation rate\n",
    "    formationRate = {}\n",
    "\n",
    "    for i, forward, reverse in zip(range(len(rateEquation[\"forward\"])), rateEquation[\"forward\"], rateEquation[\"reverse\"]):\n",
    "        formationRate[f\"{label[i]}\"] = -getValfromVariable(forward)*getValfromVariable(reactantVariable[i]) + getValfromVariable(reverse)*getValfromVariable(reactantVariable[i+1])\n",
    "\n",
    "    formationRateList = list(formationRate.values())\n",
    "    formationRate[f\"{label[-1]}\"] =  -formationRateList[-1]\n",
    "    formationRateList = list(formationRate.values())\n",
    "    \n",
    "    # Rate Modal\n",
    "    rate_in_text.append('rate_model = {}')\n",
    "    \n",
    "    rate_model = {D(getValfromVariable(reactantVariable[0]), t): getValfromVariable(formationRateList[0])}\n",
    "    rate_in_text.append(f'rate_model[D({reactantVariable[0]}, t)] = {formationRateList[0]}')\n",
    "    \n",
    "    for i in range(1, totalReactants-1):\n",
    "        rate_model[D(getValfromVariable(reactantVariable[i]), t)] =  getValfromVariable(formationRateList[i]) -getValfromVariable(formationRateList[i-1])\n",
    "        rate_in_text.append(f'rate_model[D({reactantVariable[i]}, t)] = {formationRateList[i]} - {formationRateList[i-1]}')\n",
    "        \n",
    "    rate_model[D(getValfromVariable(reactantVariable[-1]), t)] = getValfromVariable(formationRateList[-1])\n",
    "    rate_in_text.append(f'rate_model[D({reactantVariable[-1]}, t)] = {formationRateList[-1]}')\n",
    "    \n",
    "    for i, j in rate_model.items():\n",
    "        print(f\"\\n{i}:{j}\")\n",
    "    \n",
    "    ode_modal = ODEModel(rate_model, initial=initial_cond)\n",
    "    print(f\"{ode_modal=}\")\n",
    "    \n",
    "    rate_in_text.append(f'ode_modal = ODEModel(rate_model, initial=initial_cond)')\n",
    "    \n",
    "    rate_in_text_widget.value = \"\\n\".join(rate_in_text)\n",
    "    #display(rate_in_text_widget, rate_modal_button, rate_modal_button_clear, rate_output)\n",
    "    \n",
    "    assert(ode_modal.dependent_vars[0] == list(ode_modal.initial.keys())[1])\n",
    "    \n",
    "    if fitODE:\n",
    "        \n",
    "        kwargs = {\"t\":expTime}\n",
    "        counter = 0\n",
    "        for _ in nameOfReactants.split(\", \"):\n",
    "            kwargs[_] = fullDataValues[counter]\n",
    "            counter += 1\n",
    "            \n",
    "        fit = Fit(ode_modal, **kwargs)\n",
    "        fit_result = fit.execute()\n",
    "        print(fit_result)\n",
    "        \n",
    "        return\n",
    "    \n",
    "    if not rateConstantLength == 2*totalReactants - 2:\n",
    "        \n",
    "        rateConstantSliderWidget = {\"t\":tdata}\n",
    "\n",
    "        _minF, _maxF, _stepF = parameterMinMaxStepForward.split(\", \")\n",
    "        _minR, _maxR, _stepR = parameterMinMaxStepReverse.split(\", \")\n",
    "\n",
    "        for forwarLabel, reverseLabel in zip(nameOfParametersForward.split(\", \"), nameOfParametersReverse.split(\", \")):\n",
    "            _sliderWidgetForward = float_slider(1e-30, forwarLabel, _minF, _maxF, _stepF)\n",
    "            _sliderWidgetReverse = float_slider(1e-15, reverseLabel, _minR, _maxR, _stepR)\n",
    "\n",
    "            rateConstantSliderWidget[forwarLabel] = _sliderWidgetForward\n",
    "            rateConstantSliderWidget[reverseLabel] = _sliderWidgetReverse\n",
    "        \n",
    "        rateConstantLength = len(list(rateConstantSliderWidget.values())) - 1\n",
    "    \n",
    "    rateConstantSliderWidget_K31 = list(rateConstantSliderWidget.values())[1::2]\n",
    "    rateConstantSliderWidget_KCID = list(rateConstantSliderWidget.values())[2::2]\n",
    "    \n",
    "    rateConstantWidgetLayout = widgets.VBox([\n",
    "        widgets.HBox([list(rateConstantSliderWidget.values())[0]]),\n",
    "        widgets.HBox([*rateConstantSliderWidget_K31]),\n",
    "        widgets.HBox([*rateConstantSliderWidget_KCID])\n",
    "    ])\n",
    "    \n",
    "    final_output = widgets.interactive_output(func,  {\"log\":logPlot, **rateConstantSliderWidget})\n",
    "    display(rateConstantWidgetLayout, logPlot, final_output)\n",
    "\n",
    "ROSAA_kinetics_output = widgets.interactive_output(ROSAA_kinetics, {\"filename\": twidget.files, **ROSAA_kinetics_widgets})"
   ]
  },
  {
   "cell_type": "code",
   "execution_count": 9,
   "metadata": {},
   "outputs": [],
   "source": [
    "def func(log=True, **kwargs):\n",
    "    \n",
    "    global ode_modal, rateConstantSliderWidget, errorDataValues\n",
    "    \n",
    "    # Simulation time\n",
    "    simulationTime = kwargs[\"t\"] = np.linspace(0, kwargs[\"t\"], 1000)\n",
    "    simulationData = ode_modal(**kwargs)\n",
    "    \n",
    "    fig, ax = plt.subplots(figsize=(10, 6))\n",
    "    \n",
    "    twidget.fig = fig\n",
    "    \n",
    "    \n",
    "    rateConstantSlider = list(rateConstantSliderWidget.values())[1:]\n",
    "    rate_K3 = rateConstantSlider[::2]\n",
    "    rate_KCID = rateConstantSlider[1::2]\n",
    "    \n",
    "    rateConstantValues = [\"K$_{31}$\"+ f\"{rate_K3[0].value:.2e}\"]\n",
    "    \n",
    "    for _ in range(1, int(len(rateConstantSlider)/2)):\n",
    "        _temp = \"K$_{CID}$\"+ f\"$_{_}$: {rate_KCID[_ - 1].value:.2e}; \" + \\\n",
    "                \"K$_3$\"+ f\"$_{_+1}$: {rate_K3[_].value:.2e}\"\n",
    "        rateConstantValues.append(_temp)\n",
    "    \n",
    "    rateConstantValues.append(\"K$_{CID}$\"+ f\"$_{int(len(rateConstantSlider)/2)}$: {rate_KCID[-1].value:.2e}\")\n",
    "    \n",
    "    \n",
    "    color = 0\n",
    "    for sim, exp, lg in zip(simulationData, fullDataValues, label):\n",
    "        ax.plot(simulationTime, sim, f\"C{color}\", label=f\"{lg}$^+$: {rateConstantValues[color]}\")\n",
    "        ax.plot(expTime, exp, f\".C{color}\", ms=10)\n",
    "        \n",
    "        # errorDataValues[color][errorDataValues[color] == 0] = 1\n",
    "        # _error = errorDataValues[color]\n",
    "        # ax.errorbar(expTime, exp, fmt=f\".C{color}\", ms=10, yerr=_error)\n",
    "        color += 1\n",
    "    \n",
    "    tag = moleculeWidget.value.split(\",\")[1].strip()\n",
    "    ax.set(title=f\"{twidget.files.value}: {tag} number density: {numberDensityValue.nominal_value:.2e}/cm3, Temp: {tempWidget.value}K\")\n",
    "    plt.ylabel('Counts')\n",
    "    plt.xlabel('Time (s)')\n",
    "    \n",
    "    plt.grid()\n",
    "    if log: plt.yscale('log')\n",
    "    plt.legend()\n",
    "    plt.show()\n",
    "    plt.close('all')"
   ]
  },
  {
   "cell_type": "code",
   "execution_count": 10,
   "metadata": {
    "scrolled": false
   },
   "outputs": [
    {
     "data": {
      "application/vnd.jupyter.widget-view+json": {
       "model_id": "3a921224108443ac89fea1a0d2e3adde",
       "version_major": 2,
       "version_minor": 0
      },
      "text/plain": [
       "Button(button_style='success', description='update location', layout=Layout(width='20%'), style=ButtonStyle())"
      ]
     },
     "metadata": {},
     "output_type": "display_data"
    },
    {
     "data": {
      "application/vnd.jupyter.widget-view+json": {
       "model_id": "ee29f7a42e3c4eb3ab07100ad887f44c",
       "version_major": 2,
       "version_minor": 0
      },
      "text/plain": [
       "Text(value='D:\\\\SurfDrive\\\\THz_Measurements\\\\CD+\\\\timescan', description='scan location', layout=Layout(width=…"
      ]
     },
     "metadata": {},
     "output_type": "display_data"
    },
    {
     "data": {
      "application/vnd.jupyter.widget-view+json": {
       "model_id": "af260b5085ac497994b001038a516edb",
       "version_major": 2,
       "version_minor": 0
      },
      "text/plain": [
       "Select(description='scan files', layout=Layout(height='300px', width='70%'), options=('03_09_20-2.scan', '04_0…"
      ]
     },
     "metadata": {},
     "output_type": "display_data"
    },
    {
     "data": {
      "application/vnd.jupyter.widget-view+json": {
       "model_id": "87a4dfb428464552a73533e1df8dff50",
       "version_major": 2,
       "version_minor": 0
      },
      "text/plain": [
       "Checkbox(value=False, description='old Data')"
      ]
     },
     "metadata": {},
     "output_type": "display_data"
    },
    {
     "data": {
      "application/vnd.jupyter.widget-view+json": {
       "model_id": "3ceb2e4d55254f159d67a6a1e168f532",
       "version_major": 2,
       "version_minor": 0
      },
      "text/plain": [
       "Output()"
      ]
     },
     "metadata": {},
     "output_type": "display_data"
    },
    {
     "data": {
      "application/vnd.jupyter.widget-view+json": {
       "model_id": "2842c0ee734f456999a6ee34b6f0e438",
       "version_major": 2,
       "version_minor": 0
      },
      "text/plain": [
       "VBox(children=(HBox(children=(Text(value='CD, Ne', description='Molecule, tag', style=DescriptionStyle(descrip…"
      ]
     },
     "metadata": {},
     "output_type": "display_data"
    },
    {
     "data": {
      "application/vnd.jupyter.widget-view+json": {
       "model_id": "8ef7c09a93374a0d9706605fbc9275ba",
       "version_major": 2,
       "version_minor": 0
      },
      "text/plain": [
       "Output()"
      ]
     },
     "metadata": {},
     "output_type": "display_data"
    },
    {
     "data": {
      "application/vnd.jupyter.widget-view+json": {
       "model_id": "ad3439b130a547d1a4e46f567cbe5f6e",
       "version_major": 2,
       "version_minor": 0
      },
      "text/plain": [
       "IntText(value=140, description='savedpi', step=2)"
      ]
     },
     "metadata": {},
     "output_type": "display_data"
    },
    {
     "data": {
      "application/vnd.jupyter.widget-view+json": {
       "model_id": "f1c68e7e412143e0b92142cd7f5b05da",
       "version_major": 2,
       "version_minor": 0
      },
      "text/plain": [
       "Text(value='', description='savefilename')"
      ]
     },
     "metadata": {},
     "output_type": "display_data"
    },
    {
     "data": {
      "application/vnd.jupyter.widget-view+json": {
       "model_id": "b71eacc76d554cd681a88b38c422f032",
       "version_major": 2,
       "version_minor": 0
      },
      "text/plain": [
       "Button(button_style='success', description='Save', style=ButtonStyle())"
      ]
     },
     "metadata": {},
     "output_type": "display_data"
    },
    {
     "data": {
      "application/vnd.jupyter.widget-view+json": {
       "model_id": "1e5f902c28fa4f4b824b9e1da3d0da9f",
       "version_major": 2,
       "version_minor": 0
      },
      "text/plain": [
       "Button(button_style='danger', description='Clear', style=ButtonStyle())"
      ]
     },
     "metadata": {},
     "output_type": "display_data"
    },
    {
     "data": {
      "application/vnd.jupyter.widget-view+json": {
       "model_id": "1630c1e3bc1c46449eac25b1acd8aaed",
       "version_major": 2,
       "version_minor": 0
      },
      "text/plain": [
       "Output(outputs=({'output_type': 'stream', 'text': 'Getting scan from D:\\\\SurfDrive\\\\THz_Measurements\\\\CD+\\\\tim…"
      ]
     },
     "metadata": {},
     "output_type": "display_data"
    }
   ],
   "source": [
    "display(twidget.update_files_button, twidget.location, twidget.files, oldDataToggle)\n",
    "twidget.files.options = (f\"{_}\".replace(\".txt\", \".scan\") for _ in pt(twidget.location.value).glob(\"*_timescan.txt\"))\n",
    "\n",
    "def init(location, filename, moleculeName, oldData=False):\n",
    "    \n",
    "    global time, mass, m, totalReactants\n",
    "    \n",
    "    if not filename: return print(\"No files selected\")\n",
    "\n",
    "    file = pt(location) / filename\n",
    "    \n",
    "    if oldData:\n",
    "        file = pt(location) / f\"{pt(filename).stem}.txt\"\n",
    "        time, *massesData = np.genfromtxt(file).T\n",
    "\n",
    "        with open(file) as f:\n",
    "            for i in f.readlines():\n",
    "                if i.startswith(\"#Time\"):\n",
    "                    masses = [_.strip() for _ in i.split(\"\\t\")[1:-1]]\n",
    "                    mass = [float(_) for _ in masses[:-1]]\n",
    "                    \n",
    "        m = {}\n",
    "        for _, _data in enumerate(massesData):\n",
    "            m[f\"{masses[_]}u\"] = {\"x\":list(time), \"y\":list(_data), \"name\":f\"{masses[_]}u\", 'mode': 'lines+markers'}\n",
    "        \n",
    "    else:\n",
    "        time, mean, error, mass, t_res, t_b0  = timescanplot(file).get_data()\n",
    "        m = timescanplot(file).get_fullmass()\n",
    "\n",
    "    data = list(m.values())\n",
    "    #iplot(data)\n",
    "    fig = dict({\n",
    "        \"data\": data,\n",
    "        \"layout\": {\"title\": {\"text\": f\"Timescan: {file.name}\"}, \"yaxis\":{\"type\":\"log\"}}\n",
    "    })\n",
    "    pio.show(fig)\n",
    "    \n",
    "    massLabel = [f\"{i}u\" for i in mass]\n",
    "    massOfReactantsWidget.value = \", \".join(massLabel)\n",
    "    \n",
    "    totalReactants = len(massLabel)\n",
    "    \n",
    "    twidget.savefilename.value = f\"{pt(filename).stem}\"\n",
    "    \n",
    "    molecule = moleculeName.split(\",\")[0].strip()\n",
    "    tagName = moleculeName.split(\",\")[1].strip()\n",
    "    moleculeTag = [molecule, f\"{molecule}{tagName}\"]\n",
    "    \n",
    "    for i in range(2, totalReactants):\n",
    "        _temp = f\"{molecule}{tagName}{i}\"\n",
    "        moleculeTag.append(_temp)\n",
    "    \n",
    "    nameOfReactantsWidget.value = \", \".join(moleculeTag)\n",
    "    \n",
    "    display(tempWidget, pbeforeWidget, paftereWidget, numberDensityWidgetOutput)\n",
    "    print(f\"{numberDensityWidgetOutput=}\")\n",
    "    \n",
    "    \n",
    "out = widgets.interactive_output(init, dict(location=twidget.location, filename=twidget.files,\n",
    "                        oldData=oldDataToggle, moleculeName=moleculeWidget)\n",
    "                         )\n",
    "\n",
    "display(out)\n",
    "\n",
    "ROSAA_kinetics_widget_display = widgets.VBox([\n",
    "    widgets.HBox([moleculeWidget]),\n",
    "    widgets.HBox([massOfReactantsWidget, nameOfReactantsWidget]),\n",
    "    widgets.HBox([nameOfParametersForwardWidget, nameOfParametersReverseWidget]),\n",
    "    widgets.HBox([timeStartIndexWidget, endtimeIndexWidget]),\n",
    "    widgets.HBox([parameterMinMaxStepForwardWidget, parameterMinMaxStepReverseWidget]),\n",
    "    widgets.HBox([defaultInitialValueWidget, initialConditionValuesWidget]),\n",
    "])\n",
    "\n",
    "display(ROSAA_kinetics_widget_display, ROSAA_kinetics_output)\n",
    "\n",
    "display(twidget.savedpi, twidget.savefilename, twidget.savebutton, twidget.closebutton, twidget.output)"
   ]
  },
  {
   "cell_type": "code",
   "execution_count": 38,
   "metadata": {},
   "outputs": [
    {
     "name": "stdout",
     "output_type": "stream",
     "text": [
      "File exists: True\n",
      "[1.79258280e+02 4.97481487e-05] [3.78937368e+00 1.54591150e-05]\n",
      "Figure saved\n"
     ]
    },
    {
     "data": {
      "image/png": "[encoded data removed]",
      "text/plain": [
       "<Figure size 960x640 with 1 Axes>"
      ]
     },
     "metadata": {
      "needs_background": "light"
     },
     "output_type": "display_data"
    }
   ],
   "source": [
    "def srg_calib():\n",
    "    srg_loc = pt(r\"D:\\SurfDrive\\THz_Measurements\\CD+\\timescan\\reports\")\n",
    "    srg_file = srg_loc / \"srg_calibration.txt\"\n",
    "    print(f\"File exists: {srg_file.exists()}\")\n",
    "\n",
    "    trap, srg = np.genfromtxt(srg_file).T\n",
    "\n",
    "    # Define a model to fit to.\n",
    "    def linearEq(x, slope, offset):\n",
    "        return slope*x + offset\n",
    "\n",
    "    popt, pcov = curve_fit(linearEq, trap, srg)\n",
    "    perr = np.sqrt(np.diag(pcov))\n",
    "\n",
    "    print(popt, perr)\n",
    "\n",
    "    xfit = np.linspace(0, trap.max()+0.2*trap.max(), 50)\n",
    "    yfit = linearEq(xfit, *popt)\n",
    "\n",
    "    fig, ax = plt.subplots(dpi=160)\n",
    "    ax.plot(trap, srg, \".C0\")\n",
    "    ax.plot(xfit, yfit, \"-C0\")\n",
    "    plt.ticklabel_format(axis='both', style='sci', scilimits=(-6, -6))\n",
    "\n",
    "    ax.set(title=\"SRG calibration for He @5K\", xlabel=\"Trap (mBar)\", ylabel=\"SRG (mBar)\")\n",
    "    ax.legend([\"Measured\", \"C$_{He, 5K} = $\"+f\"{popt[0]:.2f}({perr[0]:.2f})\"], title=\"Labbook #?; 3/9/20\")\n",
    "\n",
    "    fig.savefig(srg_loc/\"srg_calibration.pdf\")\n",
    "    fig.savefig(srg_loc/\"srg_calibration.png\")\n",
    "\n",
    "    print(\"Figure saved\")\n",
    "\n",
    "srg_calib()"
   ]
  },
  {
   "cell_type": "code",
   "execution_count": 22,
   "metadata": {},
   "outputs": [
    {
     "name": "stdout",
     "output_type": "stream",
     "text": [
      "\n"
     ]
    }
   ],
   "source": [
    "if [1]:\n",
    "    print(\"\")"
   ]
  },
  {
   "cell_type": "code",
   "execution_count": null,
   "metadata": {},
   "outputs": [],
   "source": []
  }
 ],
 "metadata": {
  "kernelspec": {
   "display_name": "Python 3",
   "language": "python",
   "name": "python3"
  },
  "language_info": {
   "codemirror_mode": {
    "name": "ipython",
    "version": 3
   },
   "file_extension": ".py",
   "mimetype": "text/x-python",
   "name": "python",
   "nbconvert_exporter": "python",
   "pygments_lexer": "ipython3",
   "version": "3.8.3"
  }
 },
 "nbformat": 4,
 "nbformat_minor": 4
}
