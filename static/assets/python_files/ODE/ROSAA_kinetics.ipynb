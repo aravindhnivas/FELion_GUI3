{
 "cells": [
  {
   "cell_type": "code",
   "execution_count": 1,
   "metadata": {},
   "outputs": [],
   "source": [
    "import os\n",
    "import ctypes\n",
    "from symfit import variables, Parameter, ODEModel, D, Fit, parameters, Variable\n",
    "import numpy as np\n",
    "from uncertainties import ufloat as uf\n",
    "from scipy.optimize import curve_fit\n",
    "import matplotlib.pyplot as plt\n",
    "from scipy.integrate import solve_ivp\n",
    "from pathlib import Path as pt\n",
    "from ipywidgets import widgets\n",
    "from timescan import timescanplot\n",
    "from time import time as start_time\n",
    "\n",
    "%matplotlib inline"
   ]
  },
  {
   "cell_type": "code",
   "execution_count": 2,
   "metadata": {},
   "outputs": [
    {
     "data": {
      "text/html": [
       "        <script type=\"text/javascript\">\n",
       "        window.PlotlyConfig = {MathJaxConfig: 'local'};\n",
       "        if (window.MathJax) {MathJax.Hub.Config({SVG: {font: \"STIX-Web\"}});}\n",
       "        if (typeof require !== 'undefined') {\n",
       "        require.undef(\"plotly\");\n",
       "        requirejs.config({\n",
       "            paths: {\n",
       "                'plotly': ['https://cdn.plot.ly/plotly-latest.min']\n",
       "            }\n",
       "        });\n",
       "        require(['plotly'], function(Plotly) {\n",
       "            window._Plotly = Plotly;\n",
       "        });\n",
       "        }\n",
       "        </script>\n",
       "        "
      ]
     },
     "metadata": {},
     "output_type": "display_data"
    }
   ],
   "source": [
    "from plotly.offline import init_notebook_mode\n",
    "init_notebook_mode(connected=True)\n",
    "\n",
    "# To display the figure defined by this dict, use the low-level plotly.io.show function\n",
    "import plotly.io as pio\n",
    "\n",
    "from widgetDefinitions import createWidgets\n",
    "import string\n",
    "\n",
    "alphabets = string.ascii_uppercase\n",
    "\n",
    "def definingParameter(value):\n",
    "    exec(value)\n",
    "    return locals()\n",
    "\n",
    "def getValfromAddress(address):\n",
    "    return ctypes.cast(address, ctypes.py_object).value\n",
    "\n",
    "def getValfromVariable(variable):\n",
    "    address = id(variable)\n",
    "    return getValfromAddress(address)\n",
    "\n",
    "def float_slider(_value, _description, _min = -40, _max = -20, steps = 1e-3):\n",
    "    return widgets.FloatLogSlider(\n",
    "                value=_value,\n",
    "                base=10,\n",
    "                min=_min,\n",
    "                max=_max,\n",
    "                step=steps,\n",
    "                description=_description\n",
    "            )"
   ]
  },
  {
   "cell_type": "code",
   "execution_count": 3,
   "metadata": {},
   "outputs": [],
   "source": [
    "style = {'description_width': 'initial', 'width':\"100\"}\n",
    "layout=widgets.Layout(width='50%')\n",
    "\n",
    "twidget = createWidgets(filetype=\"scan\", multiselect=False, locationValue=r\"D:\\SurfDrive\\THz_Measurements\\CD+\\timescan\")\n",
    "twidget.files.layout.height = \"300px\"\n",
    "\n",
    "timeStartIndex = widgets.BoundedIntText(value=1, description=\"timeStartIndex\",min=0, style=style)\n",
    "endtimeIndex = widgets.BoundedIntText(value=-1, description=\"endtimeIndex\", min=-1, style=style)\n",
    "\n",
    "defaultInitialValue = widgets.Checkbox(description=\"defaultInitialValue\", value=True)\n",
    "initialConditionValues = widgets.Text(description=\"initialConditionValues\", style = style, value=\"\", layout=layout)\n",
    "\n",
    "tempWidget = widgets.BoundedFloatText(value=4.5, min=0, max=400, step=0.5, description=\"Temperature\")\n",
    "pbeforeWidget = widgets.FloatLogSlider(base=10, value=1e-9, min=-10, max=-4, description=\"pbefore\")\n",
    "paftereWidget = widgets.FloatLogSlider(base=10, value=1e-7, min=-10, max=-4, description=\"paftere\")\n",
    "\n",
    "parameterMinMaxStepForwardWidget = widgets.Text(description=\"parameterMinMaxStep\", style = style, value=\"-40, -20, 0.001\")\n",
    "parameterMinMaxStepReverseWidget = widgets.Text(description=\"parameterMinMaxStep\", style = style, value=\"-30, -10, 0.001\")\n",
    "\n",
    "moleculeWidget = widgets.Text(description=\"Molecule, tag\", style = style, value=\"CD, Ne\")\n",
    "\n",
    "tdata = widgets.BoundedFloatText( value=5, min=1, max=20, step=0.25, description='Simulation:' )\n",
    "logPlot = widgets.Checkbox(description=\"Log\", value=True)\n",
    "fitWidget = widgets.Checkbox(description=\"fit\", value=True)\n",
    "oldDataToggle = widgets.Checkbox(description=\"old Data\", value=False)\n"
   ]
  },
  {
   "cell_type": "code",
   "execution_count": 4,
   "metadata": {},
   "outputs": [],
   "source": [
    "rate_in_text = None\n",
    "rate_output = widgets.Output()\n",
    "\n",
    "def createModal(event=None):\n",
    "    \n",
    "    global rate_output, rate_in_text_widget\n",
    "    \n",
    "    with rate_output:\n",
    "        print(locals())\n",
    "        \n",
    "        print(rate_in_text_widget.value)\n",
    "        \n",
    "        exec(rate_in_text_widget.value)\n",
    "        \n",
    "        print(f\"{locals()['ode_modal']}\")\n",
    "        \n",
    "        return locals()[\"ode_modal\"]\n",
    "    \n",
    "rate_in_text_widget = widgets.Textarea(layout=widgets.Layout(width='70%', height=\"300px\"), style = {'description_width': 'initial'})\n",
    "rate_modal_button = widgets.Button(description=\"Create Modal\", button_style=\"success\", layout=widgets.Layout(width='20%'), style = {'description_width': 'initial'})\n",
    "rate_modal_button_clear = widgets.Button(description=\"Clear\", button_style=\"danger\", layout=widgets.Layout(width='20%'), style = {'description_width': 'initial'})\n",
    "\n",
    "rate_modal_button.on_click(createModal)\n",
    "rate_modal_button_clear.on_click(lambda event: rate_output.clear_output())"
   ]
  },
  {
   "cell_type": "code",
   "execution_count": 5,
   "metadata": {},
   "outputs": [],
   "source": [
    "massOfReactants = widgets.Text(description=\"massOfReactants\", style = style, value=\", \", layout=layout)\n",
    "nameOfReactants = widgets.Text(description=\"nameOfReactants\", style = style, value=\", \", layout=layout)\n",
    "nameOfParametersForwardWidget = widgets.Text(description=\"nameOfParametersForward\", style = style,value=\", \", layout=layout)\n",
    "nameOfParametersReverseWidget = widgets.Text(description=\"nameOfParametersReverse\", style = style,value=\", \", layout=layout)\n",
    "\n",
    "ROSAA_kinetics_widgets = {\"massOfReactants\":massOfReactants, \"nameOfReactants\":nameOfReactants, \n",
    "                          \"timeStartIndex\":timeStartIndex, \"endtimeIndex\":endtimeIndex, \"initialConditionValues\":initialConditionValues, \"defaultInitialValue\":defaultInitialValue,\n",
    "                          \"fit\":fitWidget, \"parameterMinMaxStepForward\":parameterMinMaxStepForwardWidget, \"parameterMinMaxStepReverse\": parameterMinMaxStepReverseWidget\n",
    "                        }"
   ]
  },
  {
   "cell_type": "code",
   "execution_count": 6,
   "metadata": {},
   "outputs": [],
   "source": [
    "numberDensityValue = None\n",
    "def numberDensity(temp, pbefore, pafter):\n",
    "    global numberDensityValue\n",
    "    constant = 4.2e17 # 1/boltzman_constant*sqrt(T)\n",
    "    C = uf(179.26, 3.79) # Calibration factor \n",
    "    T = uf(temp, 0.1) # Temperature\n",
    "    p = pafter - pbefore\n",
    "    numberDensityValue = (constant*C*p)/(T**0.5)\n",
    "    print(f\"{pbefore=}, {pafter=}\")\n",
    "    print(f\"{numberDensityValue:.2e}\")\n",
    "    return numberDensityValue.nominal_value\n",
    "\n",
    "numberDensityWidgetOutput = widgets.interactive_output(numberDensity, dict(temp=tempWidget, pbefore=pbeforeWidget, pafter=paftereWidget))\n"
   ]
  },
  {
   "cell_type": "code",
   "execution_count": 7,
   "metadata": {},
   "outputs": [],
   "source": [
    "time, mass = None, None\n",
    "errorDataValues = None\n",
    "totalReactants = None\n",
    "rateConstantSliderWidget = None\n",
    "\n",
    "ode_modal = None\n",
    "fullDataValues = None\n",
    "label = None\n",
    "expTime = None\n",
    "\n",
    "rateConstantLength = 0"
   ]
  },
  {
   "cell_type": "code",
   "execution_count": 8,
   "metadata": {},
   "outputs": [],
   "source": [
    "def ROSAA_kinetics(massOfReactants, nameOfReactants, timeStartIndex, endtimeIndex, \n",
    "                   initialConditionValues, defaultInitialValue, fit, parameterMinMaxStepForward, parameterMinMaxStepReverse,\n",
    "                  filename = None):\n",
    "    \n",
    "    global ode_modal, fullDataValues, label, expTime, rate_in_text, rate_in_text_widget, rateConstantSliderWidget,\\\n",
    "            rateConstantLength, errorDataValues\n",
    "    \n",
    "    rate_in_text = []\n",
    "    \n",
    "    if massOfReactants == \", \": return \n",
    "    \n",
    "    massLabel = massOfReactants.split(\", \")\n",
    "    totalReactants = len(massLabel)\n",
    "    \n",
    "    nameOfParametersForward = \", \".join([f\"k3{i}\" for i in range(1, totalReactants)])\n",
    "    nameOfParametersReverse = \", \".join([f\"CID{i}\" for i in range(1, totalReactants)])\n",
    "    \n",
    "    nameOfParametersForwardWidget.value = nameOfParametersForward\n",
    "    nameOfParametersReverseWidget.value = nameOfParametersReverse\n",
    "    \n",
    "    # Getting timescan data\n",
    "    expTime = time[timeStartIndex:] / 1000\n",
    "    fullData = {}\n",
    "    errorDataValues = {}\n",
    "    \n",
    "    for key in massLabel:\n",
    "        fullData[key] = m[key]['y'][timeStartIndex:]\n",
    "        errorDataValues[key] = m[key]['error_y']['array'][timeStartIndex:]\n",
    "        \n",
    "    fullDataValues = np.array(list(fullData.values()))\n",
    "    errorDataValues = np.array(list(errorDataValues.values()))\n",
    "    \n",
    "    # Making variables\n",
    "    \n",
    "    t = Variable(\"t\")\n",
    "    rate_in_text.append(f't = Variable(\"t\")')\n",
    "    \n",
    "    if len(nameOfReactants) > 0:\n",
    "        reactantVariable = variables(nameOfReactants)\n",
    "        rate_in_text.append(f'{nameOfReactants} = variables(\"{nameOfReactants}\")')\n",
    "        \n",
    "        print(f\"{reactantVariable=}\")\n",
    "        label = nameOfReactants.split(\", \")\n",
    "        \n",
    "    else:\n",
    "        label = [alphabets[i] for i in range(totalReactants)]\n",
    "        reactantVariable = variables(\", \".join(label))\n",
    "    \n",
    "    fullDataDictionary = {key:value for key, value in zip(label, fullDataValues)}\n",
    "    \n",
    "    assert(len(label) == totalReactants)\n",
    "    # Initial condition\n",
    "    \n",
    "    if defaultInitialValue:\n",
    "        initialConditionValues = fullDataValues.T[0]\n",
    "    else:\n",
    "        initialConditionValues = [float(i) for i in initialConditionValues.split(\", \")]\n",
    "    \n",
    "    initial_cond = {t:0}\n",
    "\n",
    "    for i, variable in enumerate(reactantVariable):\n",
    "        initial_cond[getValfromVariable(variable)] = initialConditionValues[i]\n",
    "\n",
    "    print(f\"{initial_cond=}\")\n",
    "    \n",
    "    rate_in_text.append(f'initial_cond = {initial_cond}')\n",
    "    \n",
    "    # Rate Equation\n",
    "    He = numberDensityValue.nominal_value\n",
    "    \n",
    "    rateConstantParametersForward = parameters(nameOfParametersForward)\n",
    "    rateConstantParametersReverse = parameters(nameOfParametersReverse)\n",
    "    \n",
    "    rate_in_text.append(f'{nameOfParametersForward} = parameters(\"{nameOfParametersForward}\")')\n",
    "    rate_in_text.append(f'{nameOfParametersReverse} = parameters(\"{nameOfParametersReverse}\")')\n",
    "    \n",
    "    rateEquation = {\"forward\":[He**2 * getValfromVariable(i) for i in rateConstantParametersForward],\n",
    "                    \"reverse\":[He * getValfromVariable(i) for i in rateConstantParametersReverse]}\n",
    "    \n",
    "    for forw, rever in zip(rateConstantParametersForward, rateConstantParametersReverse):\n",
    "        getValfromVariable(forw).min = 1e-31\n",
    "        getValfromVariable(forw).max = 1e-27\n",
    "        \n",
    "        getValfromVariable(rever).min = 1e-20\n",
    "        getValfromVariable(rever).max = 1e-14\n",
    "        \n",
    "        \n",
    "    # Formation rate\n",
    "    \n",
    "    formationRate = {}\n",
    "\n",
    "    for i, forward, reverse in zip(range(len(rateEquation[\"forward\"])), rateEquation[\"forward\"], rateEquation[\"reverse\"]):\n",
    "        formationRate[f\"{label[i]}\"] = -getValfromVariable(forward)*getValfromVariable(reactantVariable[i]) + getValfromVariable(reverse)*getValfromVariable(reactantVariable[i+1])\n",
    "\n",
    "    formationRateList = list(formationRate.values())\n",
    "    formationRate[f\"{label[-1]}\"] =  -formationRateList[-1]\n",
    "    formationRateList = list(formationRate.values())\n",
    "    \n",
    "    # Rate Modal\n",
    "    rate_in_text.append('rate_model = {}')\n",
    "    \n",
    "    rate_model = {D(getValfromVariable(reactantVariable[0]), t): getValfromVariable(formationRateList[0])}\n",
    "    rate_in_text.append(f'rate_model[D({reactantVariable[0]}, t)] = {formationRateList[0]}')\n",
    "    \n",
    "    for i in range(1, totalReactants-1):\n",
    "        rate_model[D(getValfromVariable(reactantVariable[i]), t)] =  getValfromVariable(formationRateList[i]) -getValfromVariable(formationRateList[i-1])\n",
    "        rate_in_text.append(f'rate_model[D({reactantVariable[i]}, t)] = {formationRateList[i]} - {formationRateList[i-1]}')\n",
    "        \n",
    "    rate_model[D(getValfromVariable(reactantVariable[-1]), t)] = getValfromVariable(formationRateList[-1])\n",
    "    rate_in_text.append(f'rate_model[D({reactantVariable[-1]}, t)] = {formationRateList[-1]}')\n",
    "    \n",
    "    for i, j in rate_model.items():\n",
    "        print(f\"\\n{i}:{j}\")\n",
    "    \n",
    "    ode_modal = ODEModel(rate_model, initial=initial_cond)\n",
    "    print(f\"{ode_modal=}\")\n",
    "    \n",
    "    rate_in_text.append(f'ode_modal = ODEModel(rate_model, initial=initial_cond)')\n",
    "    \n",
    "    rate_in_text_widget.value = \"\\n\".join(rate_in_text)\n",
    "    #display(rate_in_text_widget, rate_modal_button, rate_modal_button_clear, rate_output)\n",
    "    \n",
    "    assert(ode_modal.dependent_vars[0] == list(ode_modal.initial.keys())[1])\n",
    "    \n",
    "    if not rateConstantLength == 2*totalReactants - 2:\n",
    "        \n",
    "        rateConstantSliderWidget = {\"t\":tdata}\n",
    "\n",
    "        _minF, _maxF, _stepF = parameterMinMaxStepForward.split(\", \")\n",
    "        _minR, _maxR, _stepR = parameterMinMaxStepReverse.split(\", \")\n",
    "\n",
    "        for forwarLabel, reverseLabel in zip(nameOfParametersForward.split(\", \"), nameOfParametersReverse.split(\", \")):\n",
    "            _sliderWidgetForward = float_slider(1e-30, forwarLabel, _minF, _maxF, _stepF)\n",
    "            _sliderWidgetReverse = float_slider(1e-15, reverseLabel, _minR, _maxR, _stepR)\n",
    "\n",
    "            rateConstantSliderWidget[forwarLabel] = _sliderWidgetForward\n",
    "            rateConstantSliderWidget[reverseLabel] = _sliderWidgetReverse\n",
    "        \n",
    "        rateConstantLength = len(list(rateConstantSliderWidget.values())) - 1\n",
    "        \n",
    "    final_output = widgets.interactive_output(func,  {\"log\":logPlot, **rateConstantSliderWidget})\n",
    "    display(*list(rateConstantSliderWidget.values()), logPlot, final_output)\n",
    "\n",
    "ROSAA_kinetics_output = widgets.interactive_output(ROSAA_kinetics, {\"filename\": twidget.files, **ROSAA_kinetics_widgets})"
   ]
  },
  {
   "cell_type": "code",
   "execution_count": 42,
   "metadata": {},
   "outputs": [],
   "source": [
    "def func(log=True, **kwargs):\n",
    "    \n",
    "    global ode_modal, rateConstantSliderWidget, errorDataValues\n",
    "    \n",
    "    print(kwargs)\n",
    "    \n",
    "    # Simulation time\n",
    "    simulationTime = kwargs[\"t\"] = np.linspace(0, kwargs[\"t\"], 1000)\n",
    "    simulationData = ode_modal(**kwargs)\n",
    "    fig, ax = plt.subplots(figsize=(10, 6))\n",
    "    twidget.fig = fig\n",
    "    \n",
    "    rateConstantSlider = list(rateConstantSliderWidget.values())[1:]\n",
    "    rate_K3 = rateConstantSlider[::2]\n",
    "    rate_KCID = rateConstantSlider[1::2]\n",
    "    \n",
    "    rateConstantValues = [\"K$_{31}$\"+ f\"{rate_K3[0].value:.2e}\"]\n",
    "    \n",
    "    for _ in range(1, int(len(rateConstantSlider)/2)):\n",
    "        _temp = \"K$_{CID}$\"+ f\"$_{_}$: {rate_KCID[_ - 1].value:.2e}; \" + \\\n",
    "                \"K$_3$\"+ f\"$_{_+1}$: {rate_K3[_].value:.2e}\"\n",
    "        rateConstantValues.append(_temp)\n",
    "    \n",
    "    rateConstantValues.append(\"K$_{CID}$\"+ f\"$_{int(len(rateConstantSlider)/2)}$: {rate_KCID[-1].value:.2e}\")\n",
    "    \n",
    "    print(rateConstantValues)\n",
    "    color = 0\n",
    "    for sim, exp, lg in zip(simulationData, fullDataValues, label):\n",
    "        ax.plot(simulationTime, sim, f\"C{color}\", label=f\"{lg}$^+$: {rateConstantValues[color]}\")\n",
    "        ax.plot(expTime, exp, f\".C{color}\", ms=10)\n",
    "        \n",
    "        # errorDataValues[color][errorDataValues[color] == 0] = 1\n",
    "        # _error = errorDataValues[color]\n",
    "        # ax.errorbar(expTime, exp, fmt=f\".C{color}\", ms=10, yerr=_error)\n",
    "        color += 1\n",
    "    \n",
    "    tag = moleculeWidget.value.split(\",\")[1].strip()\n",
    "    ax.set(title=f\"{twidget.files.value}: {tag} number density: {numberDensityValue.nominal_value:.2e}/cm3, Temp: {tempWidget.value}K\")\n",
    "    plt.ylabel('Counts')\n",
    "    plt.xlabel('Time (s)')\n",
    "    \n",
    "    plt.grid()\n",
    "    if log: plt.yscale('log')\n",
    "    plt.legend()\n",
    "    plt.show()\n",
    "    plt.close('all')"
   ]
  },
  {
   "cell_type": "code",
   "execution_count": 43,
   "metadata": {},
   "outputs": [
    {
     "data": {
      "application/vnd.jupyter.widget-view+json": {
       "model_id": "40315dcab46a4915a624c505841b483f",
       "version_major": 2,
       "version_minor": 0
      },
      "text/plain": [
       "Button(button_style='success', description='update location', layout=Layout(width='20%'), style=ButtonStyle())"
      ]
     },
     "metadata": {},
     "output_type": "display_data"
    },
    {
     "data": {
      "application/vnd.jupyter.widget-view+json": {
       "model_id": "11ef9d6ef1014765a24725c850505e00",
       "version_major": 2,
       "version_minor": 0
      },
      "text/plain": [
       "Text(value='D:\\\\SurfDrive\\\\THz_Measurements\\\\CD+\\\\timescan', description='scan location', layout=Layout(width=…"
      ]
     },
     "metadata": {},
     "output_type": "display_data"
    },
    {
     "data": {
      "application/vnd.jupyter.widget-view+json": {
       "model_id": "6ded672b96cc432fbe5e7186c02e52f3",
       "version_major": 2,
       "version_minor": 0
      },
      "text/plain": [
       "Select(description='scan files', layout=Layout(height='300px', width='70%'), options=('03_09_20-2.scan', '04_0…"
      ]
     },
     "metadata": {},
     "output_type": "display_data"
    },
    {
     "data": {
      "application/vnd.jupyter.widget-view+json": {
       "model_id": "694bdbc276a2413eac4d84d59fc7a305",
       "version_major": 2,
       "version_minor": 0
      },
      "text/plain": [
       "Checkbox(value=False, description='old Data')"
      ]
     },
     "metadata": {},
     "output_type": "display_data"
    },
    {
     "data": {
      "application/vnd.jupyter.widget-view+json": {
       "model_id": "06a4b0b2399f4379b3f6034965ae9560",
       "version_major": 2,
       "version_minor": 0
      },
      "text/plain": [
       "Text(value='CD, Ne', description='Molecule, tag', style=DescriptionStyle(description_width='initial'))"
      ]
     },
     "metadata": {},
     "output_type": "display_data"
    },
    {
     "data": {
      "application/vnd.jupyter.widget-view+json": {
       "model_id": "a95ed898a9c64245ab1adcca8b384f78",
       "version_major": 2,
       "version_minor": 0
      },
      "text/plain": [
       "Output()"
      ]
     },
     "metadata": {},
     "output_type": "display_data"
    },
    {
     "data": {
      "application/vnd.jupyter.widget-view+json": {
       "model_id": "fa70f62476a241dd96f6dd5b22283b4d",
       "version_major": 2,
       "version_minor": 0
      },
      "text/plain": [
       "Text(value='k31, k32, k33', description='nameOfParametersForward', layout=Layout(width='50%'), style=Descripti…"
      ]
     },
     "metadata": {},
     "output_type": "display_data"
    },
    {
     "data": {
      "application/vnd.jupyter.widget-view+json": {
       "model_id": "28867cb0714347938d455c8e4a963a3c",
       "version_major": 2,
       "version_minor": 0
      },
      "text/plain": [
       "Text(value='CID1, CID2, CID3', description='nameOfParametersReverse', layout=Layout(width='50%'), style=Descri…"
      ]
     },
     "metadata": {},
     "output_type": "display_data"
    },
    {
     "data": {
      "application/vnd.jupyter.widget-view+json": {
       "model_id": "8ba5b905e75f47c8ae41f1d07b637141",
       "version_major": 2,
       "version_minor": 0
      },
      "text/plain": [
       "Text(value='14.0u, 18.0u, 22.0u, 26.0u', description='massOfReactants', layout=Layout(width='50%'), style=Desc…"
      ]
     },
     "metadata": {},
     "output_type": "display_data"
    },
    {
     "data": {
      "application/vnd.jupyter.widget-view+json": {
       "model_id": "78d4d089cd2d4010855b5366a8f2707e",
       "version_major": 2,
       "version_minor": 0
      },
      "text/plain": [
       "Text(value='CD, CDNe, CDNe2, CDNe3', description='nameOfReactants', layout=Layout(width='50%'), style=Descript…"
      ]
     },
     "metadata": {},
     "output_type": "display_data"
    },
    {
     "data": {
      "application/vnd.jupyter.widget-view+json": {
       "model_id": "34055ab9797149ddafd4a5e11ab9d20c",
       "version_major": 2,
       "version_minor": 0
      },
      "text/plain": [
       "BoundedIntText(value=1, description='timeStartIndex', style=DescriptionStyle(description_width='initial'))"
      ]
     },
     "metadata": {},
     "output_type": "display_data"
    },
    {
     "data": {
      "application/vnd.jupyter.widget-view+json": {
       "model_id": "ebdfa35875e242f7896b661d2c68794c",
       "version_major": 2,
       "version_minor": 0
      },
      "text/plain": [
       "BoundedIntText(value=-1, description='endtimeIndex', min=-1, style=DescriptionStyle(description_width='initial…"
      ]
     },
     "metadata": {},
     "output_type": "display_data"
    },
    {
     "data": {
      "application/vnd.jupyter.widget-view+json": {
       "model_id": "ab542ad1e0cb44f5aa16281530a4e5ef",
       "version_major": 2,
       "version_minor": 0
      },
      "text/plain": [
       "Text(value='1240, 0.0001, 0.0001, 0.0001', description='initialConditionValues', layout=Layout(width='50%'), s…"
      ]
     },
     "metadata": {},
     "output_type": "display_data"
    },
    {
     "data": {
      "application/vnd.jupyter.widget-view+json": {
       "model_id": "d7ae4395fedc4648b716396a0fcdbbbf",
       "version_major": 2,
       "version_minor": 0
      },
      "text/plain": [
       "Checkbox(value=False, description='defaultInitialValue')"
      ]
     },
     "metadata": {},
     "output_type": "display_data"
    },
    {
     "data": {
      "application/vnd.jupyter.widget-view+json": {
       "model_id": "5fee0f019aa641cfb89070700b878fc8",
       "version_major": 2,
       "version_minor": 0
      },
      "text/plain": [
       "Checkbox(value=True, description='fit')"
      ]
     },
     "metadata": {},
     "output_type": "display_data"
    },
    {
     "data": {
      "application/vnd.jupyter.widget-view+json": {
       "model_id": "52e85e2d315143068c136bf60a5793f9",
       "version_major": 2,
       "version_minor": 0
      },
      "text/plain": [
       "Text(value='-40, -20, 0.0001', description='parameterMinMaxStep', style=DescriptionStyle(description_width='in…"
      ]
     },
     "metadata": {},
     "output_type": "display_data"
    },
    {
     "data": {
      "application/vnd.jupyter.widget-view+json": {
       "model_id": "4f60ec0ab97d4868a239ea3b46b21b05",
       "version_major": 2,
       "version_minor": 0
      },
      "text/plain": [
       "Text(value='-30, -10, 0.001', description='parameterMinMaxStep', style=DescriptionStyle(description_width='ini…"
      ]
     },
     "metadata": {},
     "output_type": "display_data"
    },
    {
     "data": {
      "application/vnd.jupyter.widget-view+json": {
       "model_id": "f66bd66eae074676b73b677a7eb9c6e9",
       "version_major": 2,
       "version_minor": 0
      },
      "text/plain": [
       "Output(outputs=({'name': 'stdout', 'text': 'reactantVariable=(CD, CDNe, CDNe2, CDNe3)\\ninitial_cond={t: 0, CD:…"
      ]
     },
     "metadata": {},
     "output_type": "display_data"
    },
    {
     "data": {
      "application/vnd.jupyter.widget-view+json": {
       "model_id": "b31a110c4ce84a1e9d3ab6af9c5ce4f6",
       "version_major": 2,
       "version_minor": 0
      },
      "text/plain": [
       "IntText(value=140, description='savedpi', step=2)"
      ]
     },
     "metadata": {},
     "output_type": "display_data"
    },
    {
     "data": {
      "application/vnd.jupyter.widget-view+json": {
       "model_id": "727554a07fa045e0971c14e646ff7cde",
       "version_major": 2,
       "version_minor": 0
      },
      "text/plain": [
       "Text(value='03_09_20-2', description='savefilename')"
      ]
     },
     "metadata": {},
     "output_type": "display_data"
    },
    {
     "data": {
      "application/vnd.jupyter.widget-view+json": {
       "model_id": "85f0bf237cda44b99235fb7b4c56575b",
       "version_major": 2,
       "version_minor": 0
      },
      "text/plain": [
       "Button(button_style='success', description='Save', style=ButtonStyle())"
      ]
     },
     "metadata": {},
     "output_type": "display_data"
    },
    {
     "data": {
      "application/vnd.jupyter.widget-view+json": {
       "model_id": "f1556659f7ff40ffaacb0cc47dd8d09a",
       "version_major": 2,
       "version_minor": 0
      },
      "text/plain": [
       "Button(button_style='danger', description='Clear', style=ButtonStyle())"
      ]
     },
     "metadata": {},
     "output_type": "display_data"
    },
    {
     "data": {
      "application/vnd.jupyter.widget-view+json": {
       "model_id": "7b18b12f3cf94a4a90efd5797e9a3c7c",
       "version_major": 2,
       "version_minor": 0
      },
      "text/plain": [
       "Output(outputs=({'name': 'stdout', 'text': 'Getting scan from D:\\\\SurfDrive\\\\THz_Measurements\\\\CD+\\\\timescan\\n…"
      ]
     },
     "metadata": {},
     "output_type": "display_data"
    }
   ],
   "source": [
    "display(twidget.update_files_button, twidget.location, twidget.files, oldDataToggle)\n",
    "twidget.files.options = (f\"{_}\".replace(\".txt\", \".scan\") for _ in pt(twidget.location.value).glob(\"*_timescan.txt\"))\n",
    "\n",
    "def init(location, filename, moleculeName, oldData=False):\n",
    "    \n",
    "    global time, mass, m, totalReactants\n",
    "    \n",
    "    if filename == None: return print(\"No files selected\")\n",
    "\n",
    "    file = pt(location) / filename\n",
    "    \n",
    "    if oldData:\n",
    "        file = pt(location) / f\"{pt(filename).stem}.txt\"\n",
    "        time, *massesData = np.genfromtxt(file).T\n",
    "\n",
    "        with open(file) as f:\n",
    "            for i in f.readlines():\n",
    "                if i.startswith(\"#Time\"):\n",
    "                    masses = [_.strip() for _ in i.split(\"\\t\")[1:-1]]\n",
    "                    mass = [float(_) for _ in masses[:-1]]\n",
    "                    \n",
    "        m = {}\n",
    "        for _, _data in enumerate(massesData):\n",
    "            m[f\"{masses[_]}u\"] = {\"x\":list(time), \"y\":list(_data), \"name\":f\"{masses[_]}u\", 'mode': 'lines+markers'}\n",
    "        \n",
    "    else:\n",
    "        time, mean, error, mass, t_res, t_b0  = timescanplot(file).get_data()\n",
    "        m = timescanplot(file).get_fullmass()\n",
    "\n",
    "    data = list(m.values())\n",
    "    #iplot(data)\n",
    "    fig = dict({\n",
    "        \"data\": data,\n",
    "        \"layout\": {\"title\": {\"text\": f\"Timescan: {file.name}\"}, \"yaxis\":{\"type\":\"log\"}}\n",
    "    })\n",
    "    pio.show(fig)\n",
    "    \n",
    "    massLabel = [f\"{i}u\" for i in mass]\n",
    "    massOfReactants.value = \", \".join(massLabel)\n",
    "    \n",
    "    totalReactants = len(massLabel)\n",
    "    \n",
    "    twidget.savefilename.value = f\"{pt(filename).stem}\"\n",
    "    \n",
    "    molecule = moleculeName.split(\",\")[0].strip()\n",
    "    tagName = moleculeName.split(\",\")[1].strip()\n",
    "    moleculeTag = [molecule, f\"{molecule}{tagName}\"]\n",
    "    \n",
    "    for i in range(2, totalReactants):\n",
    "        _temp = f\"{molecule}{tagName}{i}\"\n",
    "        moleculeTag.append(_temp)\n",
    "    \n",
    "    nameOfReactants.value = \", \".join(moleculeTag)\n",
    "    \n",
    "    display(tempWidget, pbeforeWidget, paftereWidget, numberDensityWidgetOutput)\n",
    "    print(f\"{numberDensityWidgetOutput=}\")\n",
    "    \n",
    "    \n",
    "out = widgets.interactive_output(init, dict(location=twidget.location, filename=twidget.files,\n",
    "                        oldData=oldDataToggle, moleculeName=moleculeWidget)\n",
    "                         )\n",
    "\n",
    "display(moleculeWidget, out)\n",
    "display(nameOfParametersForwardWidget, nameOfParametersReverseWidget, *list(ROSAA_kinetics_widgets.values()), ROSAA_kinetics_output)\n",
    "display(twidget.savedpi, twidget.savefilename, twidget.savebutton, twidget.closebutton, twidget.output)"
   ]
  },
  {
   "cell_type": "code",
   "execution_count": 44,
   "metadata": {},
   "outputs": [],
   "source": [
    "def srg_calib():\n",
    "    srg_loc = pt(r\"D:\\SurfDrive\\THz_Measurements\\CD+\\timescan\\reports\")\n",
    "    srg_file = srg_loc / \"srg_calibration.txt\"\n",
    "    print(f\"File exists: {srg_file.exists()}\")\n",
    "\n",
    "    trap, srg = np.genfromtxt(srg_file).T\n",
    "\n",
    "    # Define a model to fit to.\n",
    "    def linearEq(x, slope, offset):\n",
    "        return slope*x + offset\n",
    "\n",
    "    popt, pcov = curve_fit(linearEq, trap, srg)\n",
    "    perr = np.sqrt(np.diag(pcov))\n",
    "\n",
    "    print(popt, perr)\n",
    "\n",
    "    xfit = np.linspace(0, trap.max()+0.2*trap.max(), 50)\n",
    "    yfit = linearEq(xfit, *popt)\n",
    "\n",
    "    fig, ax = plt.subplots(dpi=160)\n",
    "    ax.plot(trap, srg, \".C0\")\n",
    "    ax.plot(xfit, yfit, \"-C0\")\n",
    "    plt.ticklabel_format(axis='both', style='sci', scilimits=(-3, -3))\n",
    "\n",
    "    ax.set(title=\"SRG calibration for He @5K\", xlabel=\"Trap (mBar)\", ylabel=\"SRG (mBar)\")\n",
    "    ax.legend([\"Measured\", \"C$_{He, 5K} = $\"+f\"{popt[0]:.2f}({perr[0]:.2f})\"], title=\"Labbook #?; 3/9/20\")\n",
    "\n",
    "    fig.savefig(srg_loc/\"srg_calibration.pdf\")\n",
    "    fig.savefig(srg_loc/\"srg_calibration.png\")\n",
    "\n",
    "    print(\"Figure saved\")\n",
    "\n",
    "#srg_calib()"
   ]
  },
  {
   "cell_type": "code",
   "execution_count": 41,
   "metadata": {},
   "outputs": [
    {
     "name": "stdout",
     "output_type": "stream",
     "text": [
      "1\n",
      "K$_{CID}$$_1$: 2.94e-15; K$_3$$_2$: 1.72e-29\n",
      "2\n",
      "K$_{CID}$$_2$: 2.58e-15; K$_3$$_3$: 2.79e-29\n",
      "['K$_{31}$1.68e-30', 'K$_{CID}$$_1$: 2.94e-15; K$_3$$_2$: 1.72e-29', 'K$_{CID}$$_2$: 2.58e-15; K$_3$$_3$: 2.79e-29', 'K$_{CID}$$_3$: 1.14e-14']\n"
     ]
    }
   ],
   "source": [
    "rateConstantSlider = list(rateConstantSliderWidget.values())[1:]\n",
    "rate_K3 = rateConstantSlider[::2]\n",
    "rate_KCID = rateConstantSlider[1::2]\n",
    "\n",
    "rateConstantValues = [\"K$_{31}$\"+ f\"{rate_K3[0].value:.2e}\"]\n",
    "\n",
    "for _ in range(1, int(len(rateConstantSlider)/2)):\n",
    "    \n",
    "    print(_)\n",
    "    _temp = \"K$_{CID}$\"+ f\"$_{_}$: {rate_KCID[_-1].value:.2e}; \" + \\\n",
    "            \"K$_3$\"+ f\"$_{_+1}$: {rate_K3[_].value:.2e}\"\n",
    "    print(_temp)\n",
    "    rateConstantValues.append(_temp)\n",
    "\n",
    "rateConstantValues.append(\"K$_{CID}$\"+ f\"$_{int(len(rateConstantSlider)/2)}$: {rate_KCID[-1].value:.2e}\")\n",
    "\n",
    "print(rateConstantValues)"
   ]
  },
  {
   "cell_type": "code",
   "execution_count": 40,
   "metadata": {},
   "outputs": [
    {
     "data": {
      "application/vnd.jupyter.widget-view+json": {
       "model_id": "88f940357e854d10b024f7191cb989b2",
       "version_major": 2,
       "version_minor": 0
      },
      "text/plain": [
       "FloatLogSlider(value=1.1350108156723144e-14, description='CID3', max=-10.0, min=-30.0, step=0.001)"
      ]
     },
     "metadata": {},
     "output_type": "display_data"
    }
   ],
   "source": [
    "rate_KCID[2]"
   ]
  },
  {
   "cell_type": "code",
   "execution_count": 23,
   "metadata": {},
   "outputs": [
    {
     "data": {
      "text/plain": [
       "[FloatLogSlider(value=2.9376496519615306e-15, description='CID1', max=-10.0, min=-30.0, step=0.001),\n",
       " FloatLogSlider(value=2.582260190634601e-15, description='CID2', max=-10.0, min=-30.0, step=0.001),\n",
       " FloatLogSlider(value=5.794286964268809e-15, description='CID3', max=-10.0, min=-30.0, step=0.001)]"
      ]
     },
     "execution_count": 23,
     "metadata": {},
     "output_type": "execute_result"
    }
   ],
   "source": [
    "rateConstantSlider[1::2]"
   ]
  },
  {
   "cell_type": "code",
   "execution_count": null,
   "metadata": {},
   "outputs": [],
   "source": []
  },
  {
   "cell_type": "code",
   "execution_count": null,
   "metadata": {},
   "outputs": [],
   "source": []
  },
  {
   "cell_type": "code",
   "execution_count": null,
   "metadata": {},
   "outputs": [],
   "source": []
  }
 ],
 "metadata": {
  "kernelspec": {
   "display_name": "Python 3",
   "language": "python",
   "name": "python3"
  },
  "language_info": {
   "codemirror_mode": {
    "name": "ipython",
    "version": 3
   },
   "file_extension": ".py",
   "mimetype": "text/x-python",
   "name": "python",
   "nbconvert_exporter": "python",
   "pygments_lexer": "ipython3",
   "version": "3.8.3"
  }
 },
 "nbformat": 4,
 "nbformat_minor": 4
}
