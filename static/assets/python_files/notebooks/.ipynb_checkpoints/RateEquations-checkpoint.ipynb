{
 "cells": [
  {
   "cell_type": "code",
   "execution_count": 1,
   "metadata": {},
   "outputs": [],
   "source": [
    "import numpy as np\n",
    "import matplotlib.pyplot as plt\n",
    "from scipy.constants import speed_of_light, Boltzmann, Planck\n",
    "from functools import reduce\n",
    "from scipy.integrate import solve_ivp"
   ]
  },
  {
   "cell_type": "code",
   "execution_count": 2,
   "metadata": {},
   "outputs": [],
   "source": [
    "from ROSAA_func import distribution, boltzman_distribution, \\\n",
    "    stimulated_absorption, stimulated_emission,\\\n",
    "    voigt, lorrentz_fwhm, gauss_fwhm"
   ]
  },
  {
   "cell_type": "code",
   "execution_count": 3,
   "metadata": {},
   "outputs": [],
   "source": [
    "import pprint\n",
    "pp = pprint.PrettyPrinter()\n",
    "pprint = pp.pprint"
   ]
  },
  {
   "cell_type": "code",
   "execution_count": 4,
   "metadata": {},
   "outputs": [],
   "source": [
    "def lineshape_normalise():\n",
    "\n",
    "    freq = float(main_parameters[\"freq\"])  # transition frequency in Hz\n",
    "\n",
    "    # doppler line width\n",
    "\n",
    "    massIon = float(lineshape_conditions[\"IonMass(amu)\"])\n",
    "    tempIon = float(lineshape_conditions[\"IonTemperature(K)\"])\n",
    "    sigma = gauss_fwhm(freq, massIon, tempIon)\n",
    "\n",
    "    # power broadening\n",
    "    dipoleMoment = float(power_broadening[\"dipoleMoment(D)\"])\n",
    "    power = float(power_broadening[\"power(W)\"])\n",
    "\n",
    "    cp = float(power_broadening[\"cp\"])\n",
    "    gamma = lorrentz_fwhm(dipoleMoment, power, cp)\n",
    "\n",
    "    # normalised line shape factor\n",
    "    LineShape = voigt(gamma, sigma)\n",
    "    \n",
    "    # transition rate due to influence of mm-wave \n",
    "    # normalisation factor\n",
    "\n",
    "    trap_area = float(main_parameters[\"trap_area\"])\n",
    "    norm = (power/(trap_area*speed_of_light))*LineShape\n",
    "    \n",
    "    print(f\"{massIon=}\\n{tempIon=}\\n{sigma=:.2e}\\n{gamma=:.2e}\\n{LineShape=:.2e}\\n{norm=:.2e}\\n\")\n",
    "    return norm\n",
    "\n",
    "\n",
    "def getCollisionalRate(collisional_rates):\n",
    "    \n",
    "    rates = {}\n",
    "    \n",
    "    for i in range(totallevel):\n",
    "        for j in range(totallevel):\n",
    "            if i != j & j>i:\n",
    "                deexciteRateConstantKey = f\"q_{j}{i}\"\n",
    "                exciteRateConstantKey = f\"q_{i}{j}\"\n",
    "                \n",
    "                if q_deexcitation_mode:\n",
    "                    \n",
    "                    _temp = collisional_rates[deexciteRateConstantKey]\n",
    "                    rates[deexciteRateConstantKey] = _temp\n",
    "                    rates[exciteRateConstantKey] = _temp * distribution(i, j, Energy, trapTemp)\n",
    "                    \n",
    "                else:\n",
    "                    _temp = collisional_rates[exciteRateConstantKey]\n",
    "                    rates[exciteRateConstantKey] = _temp\n",
    "                    rates[deexciteRateConstantKey] = _temp * distribution(j, i, Energy, trapTemp)\n",
    "    return rates\n",
    "\n",
    "def getAttachmentRates():\n",
    "    \n",
    "    Rate_k31_0 = k31_0*nHe**2\n",
    "    Rate_k31_1 = k31_1*nHe**2\n",
    "    Rate_k32 = k32*nHe**2\n",
    "    Rate_kCID1 = kCID1*nHe\n",
    "    Rate_kCID2 = kCID2*nHe\n",
    "    \n",
    "    return Rate_k31_0, Rate_k31_1, Rate_k32, Rate_kCID1, Rate_kCID2"
   ]
  },
  {
   "cell_type": "code",
   "execution_count": 5,
   "metadata": {},
   "outputs": [
    {
     "name": "stdout",
     "output_type": "stream",
     "text": [
      "\n",
      "i=0\n",
      "q_10 q_01\n",
      " + q_10*nHe*N[1] - q_01*nHe*N[0]\n",
      "q_20 q_02\n",
      " + q_20*nHe*N[2] - q_02*nHe*N[0]\n",
      "q_30 q_03\n",
      " + q_30*nHe*N[3] - q_03*nHe*N[0]\n",
      "N[0] = [' + q_10*nHe*N[1] - q_01*nHe*N[0]', ' + q_20*nHe*N[2] - q_02*nHe*N[0]', ' + q_30*nHe*N[3] - q_03*nHe*N[0]']\n",
      "\n",
      "i=1\n",
      "q_01 q_10\n",
      " + q_01*nHe*N[0] - q_10*nHe*N[1]\n",
      "q_21 q_12\n",
      " + q_21*nHe*N[2] - q_12*nHe*N[1]\n",
      "q_31 q_13\n",
      " + q_31*nHe*N[3] - q_13*nHe*N[1]\n",
      "N[1] = [' + q_01*nHe*N[0] - q_10*nHe*N[1]', ' + q_21*nHe*N[2] - q_12*nHe*N[1]', ' + q_31*nHe*N[3] - q_13*nHe*N[1]']\n",
      "\n",
      "i=2\n",
      "q_02 q_20\n",
      " + q_02*nHe*N[0] - q_20*nHe*N[2]\n",
      "q_12 q_21\n",
      " + q_12*nHe*N[1] - q_21*nHe*N[2]\n",
      "q_32 q_23\n",
      " + q_32*nHe*N[3] - q_23*nHe*N[2]\n",
      "N[2] = [' + q_02*nHe*N[0] - q_20*nHe*N[2]', ' + q_12*nHe*N[1] - q_21*nHe*N[2]', ' + q_32*nHe*N[3] - q_23*nHe*N[2]']\n",
      "\n",
      "i=3\n",
      "q_03 q_30\n",
      " + q_03*nHe*N[0] - q_30*nHe*N[3]\n",
      "q_13 q_31\n",
      " + q_13*nHe*N[1] - q_31*nHe*N[3]\n",
      "q_23 q_32\n",
      " + q_23*nHe*N[2] - q_32*nHe*N[3]\n",
      "N[3] = [' + q_03*nHe*N[0] - q_30*nHe*N[3]', ' + q_13*nHe*N[1] - q_31*nHe*N[3]', ' + q_23*nHe*N[2] - q_32*nHe*N[3]']\n"
     ]
    },
    {
     "data": {
      "text/plain": [
       "[' + q_10*nHe*N[1] - q_01*nHe*N[0] + q_20*nHe*N[2] - q_02*nHe*N[0] + q_30*nHe*N[3] - q_03*nHe*N[0]',\n",
       " ' + q_01*nHe*N[0] - q_10*nHe*N[1] + q_21*nHe*N[2] - q_12*nHe*N[1] + q_31*nHe*N[3] - q_13*nHe*N[1]',\n",
       " ' + q_02*nHe*N[0] - q_20*nHe*N[2] + q_12*nHe*N[1] - q_21*nHe*N[2] + q_32*nHe*N[3] - q_23*nHe*N[2]',\n",
       " ' + q_03*nHe*N[0] - q_30*nHe*N[3] + q_13*nHe*N[1] - q_31*nHe*N[3] + q_23*nHe*N[2] - q_32*nHe*N[3]',\n",
       " [1, 2, 3]]"
      ]
     },
     "execution_count": 5,
     "metadata": {},
     "output_type": "execute_result"
    }
   ],
   "source": [
    "totallevel = 4\n",
    "rateCollection = []\n",
    "for i in range(totallevel):\n",
    "    collection = []\n",
    "    print(f\"\\n{i=}\")\n",
    "    for j in range(totallevel):\n",
    "        if i!= j: \n",
    "            key = f\"q_{j}{i}\"\n",
    "            keyInverse = f\"q_{i}{j}\"\n",
    "            print(key, keyInverse)\n",
    "            temp = f\" + {key}*nHe*N[{j}] - {keyInverse}*nHe*N[{i}]\"\n",
    "            print(temp)\n",
    "            collection.append(temp)\n",
    "    print(f\"N[{i}] = {collection}\")\n",
    "    \n",
    "    rateCollection.append(collection)\n",
    "dR_dt = []\n",
    "for _ in rateCollection:\n",
    "    _temp = reduce(lambda a, b: a+b, _)\n",
    "    dR_dt.append(_temp)\n",
    "dR_dt.append([1, 2, 3])\n",
    "dR_dt"
   ]
  },
  {
   "cell_type": "code",
   "execution_count": 6,
   "metadata": {},
   "outputs": [],
   "source": [
    "def computeAttachmentProcess(N, N_He, dR_dt):\n",
    "    \n",
    "    # attachmentRate0, attachmentRate1, attachmentRate2 = get_attachment_rates(N, N_He)\n",
    "    # Adding rare gas atom attachment and dissociation rates\n",
    "\n",
    "    attachmentRate0 = - Rate_k31_0*N[0] + Rate_kCID1*N_He[0]*p\n",
    "    attachmentRate1 = - Rate_k31_1*N[1] + Rate_kCID1*N_He[0]*(1-p)\n",
    "    attachmentRate2 = - Rate_k32*N_He[0] + Rate_kCID2*N_He[1]\n",
    "    \n",
    "    if testMode: print(f\"{dR_dt=}, {attachmentRate0=}, {attachmentRate1=}\")\n",
    "    dR_dt[0] += attachmentRate0\n",
    "    dR_dt[1] += attachmentRate1\n",
    "    if testMode: print(f\"{dR_dt=}\")\n",
    "    # CDHe:\n",
    "    dCDHe_dt = - attachmentRate0 - attachmentRate1 + attachmentRate2\n",
    "    dR_dt.append(dCDHe_dt)\n",
    "\n",
    "    # CDHe2\n",
    "    dCDHe2_dt = - attachmentRate2\n",
    "    dR_dt.append(dCDHe2_dt)\n",
    "    if testMode: print(f\"{dR_dt=}\")\n",
    "    return dR_dt\n",
    "\n",
    "def computeCollisionalProcess(i, N):\n",
    "    \n",
    "    collections = []\n",
    "\n",
    "    for j in range(totallevel):\n",
    "        if i!= j: \n",
    "            \n",
    "            key = f\"q_{j}{i}\"\n",
    "            keyInverse = f\"q_{i}{j}\"\n",
    "            \n",
    "            k = collisional_rates[key]*nHe*N[j] - collisional_rates[keyInverse]*nHe*N[i]\n",
    "            collections.append(k)\n",
    "    \n",
    "    if testMode: print(f\"collisional_collection: \\t{collections}\")\n",
    "    return collections\n",
    "\n",
    "def computeEinsteinProcess(i, N):\n",
    "    \n",
    "    collections = []\n",
    "    \n",
    "    if includeSpontaneousEmission:\n",
    "\n",
    "        # Einstein Coefficient A\n",
    "        if i == excitedFrom: \n",
    "            temp = A_10*N[excitedTo]\n",
    "            collections.append(temp)\n",
    "\n",
    "        if i == excitedTo:\n",
    "            temp = -A_10*N[excitedTo]\n",
    "            collections.append(temp)\n",
    "\n",
    "    # Einstein Coefficient B\n",
    "\n",
    "    if lightON:\n",
    "        \n",
    "        # B_rate defined from excited state \n",
    "        B_rate = B_01*N[excitedFrom] - B_10*N[excitedTo]\n",
    "\n",
    "        if i==excitedFrom:\n",
    "            temp = -B_rate\n",
    "            collections.append(temp)\n",
    "\n",
    "        if i==excitedTo:\n",
    "            temp = B_rate\n",
    "            collections.append(temp)\n",
    "        \n",
    "    if testMode: print(f\"einstein_collection: \\t{collections}\")\n",
    "        \n",
    "    return collections"
   ]
  },
  {
   "cell_type": "code",
   "execution_count": 7,
   "metadata": {},
   "outputs": [],
   "source": [
    "def computeRateDistributionEquations(t, counts):\n",
    "    \n",
    "    if includeAttachmentRate:\n",
    "        N =  counts[:-2]\n",
    "        N_He = [counts[-2], counts[-1]]\n",
    "    else:\n",
    "        N = counts\n",
    "    \n",
    "    rateCollection = []\n",
    "    \n",
    "    for i in range(totallevel):\n",
    "        if testMode: print(f\"\\n\\nLevel {i=}\\n\\n\")\n",
    "        collisional_collection = computeCollisionalProcess(i, N)\n",
    "        einstein_collection = computeEinsteinProcess(i, N)\n",
    "        \n",
    "        collections = collisional_collection + einstein_collection\n",
    "        rateCollection.append(collections)\n",
    "        if testMode: print(f\"{rateCollection=}\")\n",
    "        \n",
    "    dR_dt = []\n",
    "    for _ in rateCollection:\n",
    "        _temp = reduce(lambda a, b: a+b, _)\n",
    "        dR_dt.append(_temp)\n",
    "        \n",
    "    if includeAttachmentRate:\n",
    "        dR_dt = computeAttachmentProcess(N, N_He, dR_dt)\n",
    "    \n",
    "    return dR_dt"
   ]
  },
  {
   "cell_type": "code",
   "execution_count": 9,
   "metadata": {},
   "outputs": [
    {
     "data": {
      "text/plain": [
       "(array([ 3.92579456,  3.93945241,  7.85143321,  7.86509583,  7.87419919,\n",
       "        11.7995371 , 11.80864453, 15.73352499, 15.74263563, 19.66691357,\n",
       "        19.67601947, 23.59954319, 23.60864599, 27.53125841, 27.54037478,\n",
       "        31.461919  , 31.47103307, 35.3913473 , 39.31944982, 39.32855416,\n",
       "        43.25512999, 43.24601805]),\n",
       " array(3.92579456),\n",
       " array(3.93945241))"
      ]
     },
     "execution_count": 9,
     "metadata": {},
     "output_type": "execute_result"
    }
   ],
   "source": [
    "from test_func import mhz_wn\n",
    "Energy_CO_in_MHz = np.array([117692.360, 118101.812, \n",
    "                             235380.046, 235789.641, 236062.553, \n",
    "                             353741.223, 354014.257, \n",
    "                             471679.213, 471952.343, \n",
    "                            589599.236, 589872.224, \n",
    "                            707496.506, 707769.401,\n",
    "                            825366.363, 825639.665,\n",
    "                            943204.603, 943477.836, \n",
    "                            1061005.9, \n",
    "                            1178767.451, 1179040.392,\n",
    "                            1296756.174, 1296483.005])\n",
    "Energy_CO = mhz_wn(Energy_CO_in_MHz)\n",
    "Energy_CO, mhz_wn(117692.360), mhz_wn(118101.812)"
   ]
  },
  {
   "cell_type": "code",
   "execution_count": 10,
   "metadata": {},
   "outputs": [],
   "source": [
    "conditions={'trapTemp': 5.7, 'variable': 'time', 'variableRange': '1e12,  1e16,  10', 'includeCollision': True, 'writefile': True, 'filename': 'ROSAA_modal_CD_He', \n",
    "            'currentLocation': 'Z:\\\\Students\\\\Aravindh\\\\Measurements\\\\CO+', 'q_deexcitation_mode': False, \n",
    "            'collisional_rates': {\n",
    "                'q_01': 4.6e-11, 'q_02':2.33e-11, 'q_03':7.12e-11, 'q_04':1.07e-10,\n",
    "                'q_12':3e-11, 'q_13':3.46e-11, 'q_14':3e-11,\n",
    "                'q_23': 2.15e-11, 'q_24':4.31e-11,\n",
    "                'q_34': 2.15e-11\n",
    "            }, \n",
    "            'main_parameters': {'molecule': 'CO', 'tagging partner': 'He', 'freq': '117_692_360_000', 'trap_area': '5e-5', \n",
    "                                'Energy': '0, 3.92579456,  3.93945241,  7.85143321,  7.86509583,  7.87419919, 11.7995371 , 11.80864453, 15.73352499, 15.74263563, 19.66691357, 19.67601947'\n",
    "                               }, \n",
    "            'simulation_parameters': {'totalIonCounts': 1000, 'Simulation time(ms)': 600, 'Total steps': 1000, 'numberOfLevel (J levels)': 3, 'excitedTo':1, 'excitedFrom':0}, \n",
    "            'einstein_coefficient': {'A_10':'6.24e-4', 'spontaneous_emissions': [],  \"includeSpontaneousEmission\":True}, \n",
    "            'power_broadening': {'cp': '0', 'dipoleMoment(D)': 2.61, 'power(W)': '20e-5'}, \n",
    "            'lineshape_conditions': {'IonMass(amu)':28, 'IonTemperature(K)': 12.3}, \n",
    "            'rate_coefficients': {'branching-ratio': 0.5, 'a': 0.5, 'includeAttachmentRate':True, 'He density(cm3)': '5e14', 'k3': '1.2e-30,  4.5e-30', 'kCID': '7.4e-16,  1e-15'}\n",
    "        }\n",
    "\n",
    "main_parameters = conditions[\"main_parameters\"]\n",
    "simulation_parameters = conditions[\"simulation_parameters\"]\n",
    "einstein_coefficient = conditions[\"einstein_coefficient\"]\n",
    "lineshape_conditions = conditions[\"lineshape_conditions\"]\n",
    "rate_coefficients = conditions[\"rate_coefficients\"]\n",
    "power_broadening = conditions[\"power_broadening\"]"
   ]
  },
  {
   "cell_type": "code",
   "execution_count": 11,
   "metadata": {},
   "outputs": [],
   "source": [
    "collisional_rates_ = {\n",
    "                'q_10': 4.6e-11, 'q_20':2.33e-11, 'q_30':7.12e-11, 'q_40':1.07e-10,\n",
    "                'q_21':3e-11, 'q_31':3.46e-11, 'q_41':3e-11,\n",
    "                'q_32': 2.15e-11, 'q_42':4.31e-11,\n",
    "                'q_43': 2.15e-11\n",
    "            }"
   ]
  },
  {
   "cell_type": "code",
   "execution_count": 37,
   "metadata": {},
   "outputs": [],
   "source": [
    "conditions={'trapTemp': 6, 'variable': 'time', 'variableRange': '1e12,  1e16,  10', 'includeCollision': True, 'writefile': True, 'filename': 'ROSAA_modal_CD_He', \n",
    "            'currentLocation': 'Z:\\\\Students\\\\Aravindh\\\\Measurements\\\\CO+', 'q_deexcitation_mode': True, \n",
    "            'collisional_rates': {\n",
    "                'q_10': 4.6e-11, 'q_20':2.33e-11, 'q_30':7.12e-11, 'q_40':1.07e-10,\n",
    "                'q_21':3e-11, 'q_31':3.46e-11, 'q_41':3e-11,\n",
    "                'q_32': 2.15e-11, 'q_42':4.31e-11,\n",
    "                'q_43': 2.15e-11\n",
    "            }, \n",
    "            'main_parameters': {'molecule': 'CO', 'tagging partner': 'He', 'freq': '117_692_360_000', 'trap_area': '5e-5', \n",
    "                                'Energy': '0, 3.92579456,  3.93945241,  7.85143321,  7.86509583,  7.87419919, 11.7995371 , 11.80864453, 15.73352499, 15.74263563, 19.66691357, 19.67601947'\n",
    "                               }, \n",
    "            'simulation_parameters': {'totalIonCounts': 1000, 'Simulation time(ms)': 600, 'Total steps': 1000, 'numberOfLevel (J levels)': 3, 'excitedTo':1, 'excitedFrom':0}, \n",
    "            'einstein_coefficient': {'A_10':'6.24e-4', 'spontaneous_emissions': [],  \"includeSpontaneousEmission\":True}, \n",
    "            'power_broadening': {'cp': '0', 'dipoleMoment(D)': 2.61, 'power(W)': '20e-5'}, \n",
    "            'lineshape_conditions': {'IonMass(amu)':28, 'IonTemperature(K)': 12.3}, \n",
    "            'rate_coefficients': {'branching-ratio': 0.5, 'a': 0.5, 'includeAttachmentRate':True, 'He density(cm3)': '5e14', 'k3': '1.2e-30,  4.5e-30', 'kCID': '7.4e-16,  1e-15'}\n",
    "        }\n",
    "\n",
    "main_parameters = conditions[\"main_parameters\"]\n",
    "simulation_parameters = conditions[\"simulation_parameters\"]\n",
    "einstein_coefficient = conditions[\"einstein_coefficient\"]\n",
    "lineshape_conditions = conditions[\"lineshape_conditions\"]\n",
    "rate_coefficients = conditions[\"rate_coefficients\"]\n",
    "power_broadening = conditions[\"power_broadening\"]"
   ]
  },
  {
   "cell_type": "code",
   "execution_count": 38,
   "metadata": {},
   "outputs": [
    {
     "name": "stdout",
     "output_type": "stream",
     "text": [
      "nHe=5.00e+14\n",
      "\n",
      "k31_1 dependent factor: 0.5\n",
      "\n",
      "k31_0=1.20e-30\tRate_k31_0=0.30\n",
      "k31_1=6.00e-31\tRate_k31_1=0.15\n",
      "k32=4.50e-30\tRate_k32=1.12\n",
      "\n",
      "kCID1=7.40e-16\tRate_kCID1=0.37\n",
      "kCID2=1.00e-15\tRate_kCID2=0.50\n",
      "\n",
      "Branching Ratio: 0.5\n",
      "\n"
     ]
    }
   ],
   "source": [
    "nHe = float(rate_coefficients[\"He density(cm3)\"])\n",
    "print(f\"{nHe=:.2e}\\n\")\n",
    "\n",
    "k31_0, k32 = [float(i.strip()) for i in rate_coefficients[\"k3\"].split(\",\")]\n",
    "a = float(rate_coefficients[\"a\"])\n",
    "k31_1 = a*k31_0\n",
    "\n",
    "kCID1, kCID2 = [float(i.strip()) for i in rate_coefficients[\"kCID\"].split(\",\")]\n",
    "Rate_k31_0, Rate_k31_1, Rate_k32, Rate_kCID1, Rate_kCID2 =  getAttachmentRates()\n",
    "\n",
    "print(f\"k31_1 dependent factor: {a}\\n\")\n",
    "print(f\"{k31_0=:.2e}\\t{Rate_k31_0=:.2f}\")\n",
    "print(f\"{k31_1=:.2e}\\t{Rate_k31_1=:.2f}\")\n",
    "print(f\"{k32=:.2e}\\t{Rate_k32=:.2f}\\n\")\n",
    "print(f\"{kCID1=:.2e}\\t{Rate_kCID1=:.2f}\")\n",
    "print(f\"{kCID2=:.2e}\\t{Rate_kCID2=:.2f}\\n\")\n",
    "\n",
    "p = float(rate_coefficients[\"branching-ratio\"])\n",
    "print(f\"Branching Ratio: {p}\\n\")"
   ]
  },
  {
   "cell_type": "code",
   "execution_count": 39,
   "metadata": {},
   "outputs": [
    {
     "name": "stdout",
     "output_type": "stream",
     "text": [
      "includeAttachmentRate=True\n",
      "includeCollision=True\n",
      "includeSpontaneousEmission=True\n",
      "\n",
      "totallevel=3\n",
      "\n",
      "Energy=[0.0, 3.92579456, 3.93945241, 7.85143321, 7.86509583, 7.87419919, 11.7995371, 11.80864453, 15.73352499, 15.74263563, 19.66691357, 19.67601947] in cm-1\n",
      "trapTemp=6K\n",
      "freq=1.1769e+11 Hz\n",
      "\n",
      "massIon=28.0\n",
      "tempIon=12.3\n",
      "sigma=5.57e+04\n",
      "gamma=1.02e+06\n",
      "LineShape=3.11e-07\n",
      "norm=4.15e-15\n",
      "\n",
      "A_10=6.24e-04\n",
      "\n",
      "B_10=2.57e+06\tB_01=7.71e+06\n",
      "\n",
      "Collisional Rates\n",
      "q_10: 4.60e-11\tq_10*nHe: 2.30e+04\n",
      "\n",
      "q_01: 5.38e-11\tq_01*nHe: 2.69e+04\n",
      "\n",
      "q_20: 2.33e-11\tq_20*nHe: 1.16e+04\n",
      "\n",
      "q_02: 4.53e-11\tq_02*nHe: 2.26e+04\n",
      "\n",
      "q_21: 3.00e-11\tq_21*nHe: 1.50e+04\n",
      "\n",
      "q_12: 4.98e-11\tq_12*nHe: 2.49e+04\n",
      "\n",
      "\n",
      "\n",
      "Level i=0\n",
      "\n",
      "\n",
      "collisional_collection: \t[-129.0747392760054, -108.9775433470545]\n",
      "einstein_collection: \t[6.894632824162729e-05, -481056.11286427034]\n",
      "rateCollection=[[-129.0747392760054, -108.9775433470545, 6.894632824162729e-05, -481056.11286427034]]\n",
      "\n",
      "\n",
      "Level i=1\n",
      "\n",
      "\n",
      "collisional_collection: \t[129.0747392760054, -0.47451061081119406]\n",
      "einstein_collection: \t[-6.894632824162729e-05, 481056.11286427034]\n",
      "rateCollection=[[-129.0747392760054, -108.9775433470545, 6.894632824162729e-05, -481056.11286427034], [129.0747392760054, -0.47451061081119406, -6.894632824162729e-05, 481056.11286427034]]\n",
      "\n",
      "\n",
      "Level i=2\n",
      "\n",
      "\n",
      "collisional_collection: \t[108.9775433470545, 0.47451061081119406]\n",
      "einstein_collection: \t[]\n",
      "rateCollection=[[-129.0747392760054, -108.9775433470545, 6.894632824162729e-05, -481056.11286427034], [129.0747392760054, -0.47451061081119406, -6.894632824162729e-05, 481056.11286427034], [108.9775433470545, 0.47451061081119406]]\n",
      "dR_dt=[-481294.1650779471, 481184.7130239892, 109.4520539578657], attachmentRate0=-0.02976141265761694, attachmentRate1=-0.016573636596545024\n",
      "dR_dt=[-481294.1948393597, 481184.6964503526, 109.4520539578657]\n",
      "dR_dt=[-481294.1948393597, 481184.6964503526, 109.4520539578657, 0.046335049254161965, -0.0]\n"
     ]
    },
    {
     "data": {
      "text/plain": [
       "[-481294.1948393597,\n",
       " 481184.6964503526,\n",
       " 109.4520539578657,\n",
       " 0.046335049254161965,\n",
       " -0.0]"
      ]
     },
     "execution_count": 39,
     "metadata": {},
     "output_type": "execute_result"
    }
   ],
   "source": [
    "includeSpontaneousEmission = einstein_coefficient[\"includeSpontaneousEmission\"]\n",
    "includeCollision = conditions[\"includeCollision\"]\n",
    "includeAttachmentRate = rate_coefficients[\"includeAttachmentRate\"]\n",
    "print(f\"{includeAttachmentRate=}\\n{includeCollision=}\\n{includeSpontaneousEmission=}\\n\")\n",
    "\n",
    "totallevel = simulation_parameters[\"numberOfLevel (J levels)\"]\n",
    "print(f\"{totallevel=}\\n\")\n",
    "\n",
    "Energy = [float(_) for _ in main_parameters[\"Energy\"].split(\", \")]\n",
    "trapTemp = conditions[\"trapTemp\"]\n",
    "print(f\"{Energy=} in cm-1\\n{trapTemp=}K\")\n",
    "\n",
    "excitedTo = simulation_parameters[\"excitedTo\"]\n",
    "excitedFrom = simulation_parameters[\"excitedFrom\"]\n",
    "\n",
    "freq = float(main_parameters[\"freq\"])  # transition frequency in Hz\n",
    "print(f\"{freq=:.4e} Hz\\n\")\n",
    "\n",
    "norm = lineshape_normalise()\n",
    "\n",
    "A_10 = float(einstein_coefficient[\"A_10\"])\n",
    "print(f\"{A_10=:.2e}\\n\")\n",
    "\n",
    "B_10 = stimulated_emission(A_10, freq)*norm\n",
    "B_01 = stimulated_absorption(excitedFrom, excitedTo, B_10)\n",
    "print(f\"{B_10=:.2e}\\t{B_01=:.2e}\\n\")\n",
    "\n",
    "collisional_rates = {q:float(value) for q, value in conditions[\"collisional_rates\"].items()}\n",
    "q_deexcitation_mode = conditions[\"q_deexcitation_mode\"]\n",
    "collisional_rates = getCollisionalRate(collisional_rates)\n",
    "\n",
    "print(f\"Collisional Rates\")\n",
    "for key, value in collisional_rates.items():\n",
    "    print(f\"{key}: {value:.2e}\\t{key}*nHe: {value*nHe:.2e}\\n\")\n",
    "    \n",
    "N = boltzman_distribution(Energy, 5.7)[:totallevel]\n",
    "N_He = [0, 0]\n",
    "lightON=True\n",
    "includeSpontaneousEmission = True\n",
    "testMode = True\n",
    "dN = computeRateDistributionEquations(1, [*N, 0, 0])\n",
    "dN"
   ]
  },
  {
   "cell_type": "code",
   "execution_count": 34,
   "metadata": {},
   "outputs": [
    {
     "data": {
      "text/plain": [
       "(array([0.00742215, 0.02185116, 0.03641622, 0.05003518, 0.06432673,\n",
       "        0.07861813, 0.09117969, 0.10520274, 0.11700662, 0.13076639,\n",
       "        0.14183675, 0.15533823]),\n",
       " array([0.12710785, 0.12323125, 0.20457987, 0.09292752, 0.11900947,\n",
       "        0.14507552, 0.05541522, 0.06377331, 0.02336351, 0.02604379,\n",
       "        0.00930651, 0.01016617]))"
      ]
     },
     "execution_count": 34,
     "metadata": {},
     "output_type": "execute_result"
    }
   ],
   "source": [
    "boltzman_distribution(Energy, 300), boltzman_distribution(Energy, 5)"
   ]
  },
  {
   "cell_type": "code",
   "execution_count": 35,
   "metadata": {},
   "outputs": [],
   "source": [
    "from scipy.constants import Boltzmann as k_boltzmann, speed_of_light as C\n",
    "def distribution_new(j0, j1, energy, temp, q=None):\n",
    "    k_boltzmann_wavenumber = k_boltzmann/1.98630e-23\n",
    "    KT = k_boltzmann_wavenumber*temp\n",
    "    N0 = (2*j0+1)\n",
    "    N1 = (2*j1+1)\n",
    "    Gj = N1/N0\n",
    "    e0, e1 = energy\n",
    "    delE = abs(e1-e0)\n",
    "    \n",
    "    if q: return q*Gj*np.exp(-delE/KT)\n",
    "    return Gj*np.exp(-delE/KT)"
   ]
  },
  {
   "cell_type": "code",
   "execution_count": 36,
   "metadata": {},
   "outputs": [
    {
     "name": "stdout",
     "output_type": "stream",
     "text": [
      "q01=1.46e-10\tq01*nHe=1.46e+04\n",
      "q10=9.40e-11\tq10*nHe=9.40e+03\n"
     ]
    }
   ],
   "source": [
    "Energy_CD = np.array([0, 15.127861, 45.373851, 90.718526, 151.132755, 226.577764])\n",
    "Energy_CO = np.array([0, 3.92579456,  3.93945241,  7.85143321,  7.86509583,  7.87419919, 11.7995371 , 11.80864453, 15.73352499, 15.74263563, 19.66691357, 19.67601947])\n",
    "\n",
    "# nHe = 1e14\n",
    "\n",
    "# q01 = 1.46e-10\n",
    "# trapTemp = 5\n",
    "\n",
    "i = 0.5\n",
    "j = 1.5\n",
    "\n",
    "e0 = Energy_CO[0]\n",
    "e1 = Energy_CO[2]\n",
    "\n",
    "q10 = distribution_new(i, j, [e0, e1], trapTemp, q01)\n",
    "\n",
    "print(f\"{q01=:.2e}\\t{q01*nHe=:.2e}\\n{q10=:.2e}\\t{q10*nHe=:.2e}\")"
   ]
  },
  {
   "cell_type": "code",
   "execution_count": 45,
   "metadata": {},
   "outputs": [
    {
     "name": "stdout",
     "output_type": "stream",
     "text": [
      "boltzman_distribution_source=[0.09023585705775519, 0.1056062844511934, 0.17543500734482095, 0, 0]\n",
      "LightOFF\n",
      "[0.08555391 0.10009417 0.16630662 0.01498217 0.00434028]\n"
     ]
    },
    {
     "data": {
      "application/vnd.jupyter.widget-view+json": {
       "model_id": "9c81aa8e4bc942efb4f9ea1c6fb3b8fc",
       "version_major": 2,
       "version_minor": 0
      },
      "text/plain": [
       "Canvas(toolbar=Toolbar(toolitems=[('Home', 'Reset original view', 'home', 'home'), ('Back', 'Back to previous …"
      ]
     },
     "metadata": {},
     "output_type": "display_data"
    },
    {
     "name": "stdout",
     "output_type": "stream",
     "text": [
      "Wall time: 3.4 s\n"
     ]
    },
    {
     "data": {
      "text/plain": [
       "[None, Text(0.5, 0, 'Time (ms)')]"
      ]
     },
     "execution_count": 45,
     "metadata": {},
     "output_type": "execute_result"
    }
   ],
   "source": [
    "%%time\n",
    "testMode = False\n",
    "\n",
    "# nHe = 1e15\n",
    "includeCollision = False\n",
    "# includeAttachmentRate = False\n",
    "# includeSpontaneousEmission = False\n",
    "\n",
    "t = 0.5 # in s\n",
    "tspan = [0, t]\n",
    "N = boltzman_distribution(Energy, 6)[:totallevel]\n",
    "N_He = [0, 0]\n",
    "boltzman_distribution_source = (N, [*N, 0, 0])[includeAttachmentRate]\n",
    "print(f\"{boltzman_distribution_source=}\")\n",
    "\n",
    "print(f\"LightOFF\")\n",
    "lightON=False\n",
    "N_rates_off = solve_ivp(computeRateDistributionEquations, tspan, boltzman_distribution_source, dense_output=True)\n",
    "\n",
    "simulateTime = np.linspace(0, t, 1000)\n",
    "print(N_rates_off.sol(simulateTime).T[-1])\n",
    "\n",
    "%matplotlib widget\n",
    "simulateCounts_OFF = N_rates_off.sol(simulateTime)\n",
    "\n",
    "fig, ax = plt.subplots(figsize=(7, 4), dpi=100)\n",
    "legends = [f\"N{i}\" for i in range(totallevel)]\n",
    "\n",
    "ax.plot(simulateTime.T*1e3, simulateCounts_OFF.T, \"--\")\n",
    "\n",
    "ax.plot(simulateTime*1e3, simulateCounts_OFF.sum(axis=0), \"k\")\n",
    "ax.legend([*legends, \"NHe\", \"NHe2\"], title=\"OFF\")\n",
    "\n",
    "ax.set(yscale=\"log\", xlabel=\"Time (ms)\")"
   ]
  },
  {
   "cell_type": "code",
   "execution_count": 46,
   "metadata": {},
   "outputs": [
    {
     "name": "stdout",
     "output_type": "stream",
     "text": [
      "LightON\n",
      "Wall time: 7min 56s\n"
     ]
    }
   ],
   "source": [
    "%%time\n",
    "print(f\"LightON\")\n",
    "lightON=True\n",
    "N_rates_on = solve_ivp(computeRateDistributionEquations, tspan, boltzman_distribution_source, dense_output=True)"
   ]
  },
  {
   "cell_type": "code",
   "execution_count": 47,
   "metadata": {},
   "outputs": [
    {
     "name": "stdout",
     "output_type": "stream",
     "text": [
      "simulateCounts_ON.shape=(5, 100)\n",
      "simulateCounts_OFF.shape=(5, 100)\n"
     ]
    },
    {
     "data": {
      "application/vnd.jupyter.widget-view+json": {
       "model_id": "0e9046c3f40b4a6b8a7388832dd7a120",
       "version_major": 2,
       "version_minor": 0
      },
      "text/plain": [
       "Canvas(toolbar=Toolbar(toolitems=[('Home', 'Reset original view', 'home', 'home'), ('Back', 'Back to previous …"
      ]
     },
     "metadata": {},
     "output_type": "display_data"
    },
    {
     "name": "stdout",
     "output_type": "stream",
     "text": [
      "Signal: 14.74%\n"
     ]
    }
   ],
   "source": [
    "%matplotlib widget\n",
    "simulateTime = np.linspace(0, t, 100)\n",
    "simulateCounts_ON = N_rates_on.sol(simulateTime)\n",
    "simulateCounts_OFF = N_rates_off.sol(simulateTime)\n",
    "\n",
    "print(f\"{simulateCounts_ON.shape=}\\n{simulateCounts_OFF.shape=}\")\n",
    "fig, (ax, ax1) = plt.subplots(ncols=2, figsize=(12, 4), dpi=100)\n",
    "\n",
    "legends = [f\"N{i}\" for i in range(totallevel)]\n",
    "legends.append(\"NHe\")\n",
    "legends.append(\"NHe2\")\n",
    "\n",
    "simulateTime = simulateTime*1e3\n",
    "counter = 0\n",
    "for on, off in zip(simulateCounts_ON, simulateCounts_OFF):\n",
    "    ax.plot(simulateTime, on, f\"-C{counter}\", label=legends[counter])\n",
    "    ax.plot(simulateTime, off, f\"--C{counter}\")\n",
    "    counter += 1\n",
    "    \n",
    "ax.plot(simulateTime, simulateCounts_ON.sum(axis=0), \"k\")\n",
    "\n",
    "ax.legend(title=f\"-ON, --OFF\")\n",
    "ax.set(yscale=\"log\", ylabel=\"Counts\", xlabel=\"Time(ms)\")\n",
    "ax.minorticks_on()\n",
    "\n",
    "signal = (1 - (simulateCounts_ON[-2][1:] / simulateCounts_OFF[-2][1:]))*100\n",
    "ax1.plot(simulateTime[1:], signal)\n",
    "ax1.legend([f\"Max. Signal = {signal.max():.2f} at {(simulateTime[1:][signal.argmax()]):.2f}ms\"])\n",
    "ax1.minorticks_on()\n",
    "ax1.set(title=\"Signal as a function of trap time\", xlabel=\"Time (ms)\", ylabel=\"Signal (%)\")\n",
    "plt.tight_layout()\n",
    "\n",
    "print(f\"Signal: {(1 - (simulateCounts_ON[-2][-1] / simulateCounts_OFF[-2][-1]))*100:.2f}%\")"
   ]
  },
  {
   "cell_type": "code",
   "execution_count": 83,
   "metadata": {},
   "outputs": [
    {
     "data": {
      "text/plain": [
       "[0.12800280612319145, 0.35713638764020317, 0.5148608062366054, 0, 0]"
      ]
     },
     "execution_count": 83,
     "metadata": {},
     "output_type": "execute_result"
    }
   ],
   "source": [
    "boltzman_distribution_source"
   ]
  },
  {
   "cell_type": "code",
   "execution_count": 80,
   "metadata": {},
   "outputs": [
    {
     "data": {
      "text/plain": [
       "array([9.62813523e-01, 3.71761843e-02, 1.02927741e-05])"
      ]
     },
     "execution_count": 80,
     "metadata": {},
     "output_type": "execute_result"
    }
   ],
   "source": [
    "boltzman_distribution(Energy, 5)"
   ]
  },
  {
   "cell_type": "code",
   "execution_count": 96,
   "metadata": {},
   "outputs": [
    {
     "data": {
      "text/plain": [
       "1994.9159230852135"
      ]
     },
     "execution_count": 96,
     "metadata": {},
     "output_type": "execute_result"
    }
   ],
   "source": [
    "-0.20338468808565408+1995.1193077732992"
   ]
  },
  {
   "cell_type": "code",
   "execution_count": null,
   "metadata": {},
   "outputs": [],
   "source": []
  },
  {
   "cell_type": "code",
   "execution_count": null,
   "metadata": {},
   "outputs": [],
   "source": []
  },
  {
   "cell_type": "code",
   "execution_count": null,
   "metadata": {},
   "outputs": [],
   "source": []
  },
  {
   "cell_type": "code",
   "execution_count": null,
   "metadata": {},
   "outputs": [],
   "source": []
  },
  {
   "cell_type": "code",
   "execution_count": null,
   "metadata": {},
   "outputs": [],
   "source": []
  }
 ],
 "metadata": {
  "kernelspec": {
   "display_name": "Python 3",
   "language": "python",
   "name": "python3"
  },
  "language_info": {
   "codemirror_mode": {
    "name": "ipython",
    "version": 3
   },
   "file_extension": ".py",
   "mimetype": "text/x-python",
   "name": "python",
   "nbconvert_exporter": "python",
   "pygments_lexer": "ipython3",
   "version": "3.8.3"
  }
 },
 "nbformat": 4,
 "nbformat_minor": 4
}
