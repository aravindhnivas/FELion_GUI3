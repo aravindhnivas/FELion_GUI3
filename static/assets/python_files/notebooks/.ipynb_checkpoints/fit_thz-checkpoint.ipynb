{
 "cells": [
  {
   "cell_type": "code",
   "execution_count": 23,
   "metadata": {},
   "outputs": [],
   "source": [
    "from pathlib import Path as pt\n",
    "import numpy as np\n",
    "import matplotlib.pyplot as plt\n",
    "from scipy.optimize import curve_fit"
   ]
  },
  {
   "cell_type": "code",
   "execution_count": 41,
   "metadata": {},
   "outputs": [],
   "source": [
    "def generateNGaussian(N):\n",
    "\n",
    "    gaussfn = lambda n: f\"A{n}*(np.exp((-1.0/2.0)*(((x-cen{n})/sigma{n})**2)))+\"\n",
    "    _gfn, _args = \"\", \"x, \"\n",
    "    for i in range(int(N)): \n",
    "        _gfn += gaussfn(i)\n",
    "        _args += f\"cen{i}, A{i}, sigma{i}, \"\n",
    "    exec(f\"gfn_ = lambda {_args.strip()[:-1]}: {_gfn.strip()[:-1]}\")\n",
    "    \n",
    "    return locals()[\"gfn_\"]\n",
    "\n",
    "def computeNGaussian(wn, inten, sigma=5):\n",
    "\n",
    "    _args = {}\n",
    "    N = len(wn)\n",
    "    gfn = generateNGaussian(N)\n",
    "    i = 0\n",
    "    for x, y in zip(wn, inten):\n",
    "        _args[f\"cen{i}\"] = x\n",
    "        _args[f\"A{i}\"] = y\n",
    "        _args[f\"sigma{i}\"] = sigma\n",
    "        i += 1\n",
    "    full_wn = np.linspace(wn.min()-100, wn.max()+100, 5000)\n",
    "\n",
    "    full_inten = gfn(full_wn, **_args)\n",
    "    return full_wn, full_inten "
   ]
  },
  {
   "cell_type": "code",
   "execution_count": 60,
   "metadata": {},
   "outputs": [],
   "source": [
    "from ipywidgets import widgets\n",
    "from widgetDefinitions import createWidgets\n",
    "from pathlib import Path as pt"
   ]
  },
  {
   "cell_type": "code",
   "execution_count": null,
   "metadata": {},
   "outputs": [],
   "source": [
    "thz_datlocation = pt(r\"D:\\SurfDrive\\THz_Measurements\\CO+\\thz\\118\\EXPORT\")\n",
    "thz_dat_files = list(thz_datlocation.glob(\"*.dat\"))\n",
    "thz_dat_files"
   ]
  },
  {
   "cell_type": "code",
   "execution_count": 56,
   "metadata": {},
   "outputs": [],
   "source": [
    "tw = createWidgets(filetype=\"dat\", multiselect=False)"
   ]
  },
  {
   "cell_type": "code",
   "execution_count": 210,
   "metadata": {},
   "outputs": [],
   "source": [
    "ax = None\n",
    "def plot_thz(loc, filename, label=\"CO$^+$: 0$_{1/2}$ --> 1$_{3/2}$\"):\n",
    "    global ax\n",
    "    loc = pt(loc)\n",
    "    freq, depletion = np.genfromtxt(loc/filename).T\n",
    "    \n",
    "    tw.savefilename.value = pt(filename).stem\n",
    "    savefile_widget.value = pt(filename).stem\n",
    "    \n",
    "    %matplotlib widget\n",
    "    fig, ax = plt.subplots(figsize=(10, 5), dpi=100)\n",
    "    tw.fig = fig\n",
    "    \n",
    "    ax.plot(freq, depletion, \".-k\", lw=0.5)\n",
    "    \n",
    "    ax.legend([f\"Max. inten: {depletion.max():.2f}%\"])\n",
    "    ax.set(xlabel=\"Frequency (GHz)\", ylabel=\"Depletion (%)\", title=label)\n",
    "    ax.minorticks_on()\n",
    "    \n",
    "# D:\\SurfDrive\\THz_Measurements\\CO+\\thz\\117\\EXPORT\n",
    "# D:\\SurfDrive\\THz_Measurements\\CO+\\thz\\118\\EXPORT\n",
    "# D:\\SurfDrive\\THz_Measurements\\CO+\\thz\\253_380\\EXPORT\n",
    "# D:\\SurfDrive\\THz_Measurements\\CO+\\thz\\253_789\\EXPORT"
   ]
  },
  {
   "cell_type": "code",
   "execution_count": 209,
   "metadata": {
    "jupyter": {
     "source_hidden": true
    }
   },
   "outputs": [],
   "source": [
    "output = widgets.Output()\n",
    "savefile_widget = widgets.Text(description=\"Savefile\", value=\"\")\n",
    "def convert_files(e):\n",
    "    with output:\n",
    "        try:\n",
    "            xmin, xmax = ax.get_xlim()\n",
    "            filename = pt(tw.files.value)\n",
    "            location = pt(tw.location.value)\n",
    "            freq, depletion = np.genfromtxt(location/filename).T\n",
    "            \n",
    "            min_ind = np.searchsorted(freq, xmin )\n",
    "            max_ind = np.searchsorted(freq, xmax )\n",
    "            \n",
    "            freq = freq[min_ind:max_ind] # in GHz\n",
    "            depletion = depletion[min_ind:max_ind]\n",
    "            \n",
    "            freq_in_MHz = freq*1000\n",
    "            \n",
    "            new_file = location/f\"{savefile_widget.value}_in_mhz.dat\"\n",
    "            with open(new_file, \"w+\") as f:\n",
    "                f.write(f\"# Freq (MHz)\\tDepletion(%)\\n\")\n",
    "                for wn, inten in zip(freq_in_MHz, depletion):\n",
    "                    f.write(f\"{wn:.3f}\\t{inten:.2f}\\n\")\n",
    "                \n",
    "                print(f\"{new_file} written\")\n",
    "        except Exception as error:\n",
    "            print(\"error occured\", error)\n",
    "        \n",
    "convert_btn = widgets.Button(description=\"Convert-->MHz\",button_style=\"success\", layout=widgets.Layout(width='20%'), style = {'description_width': 'initial'})\n",
    "convert_btn.on_click(convert_files)\n",
    "\n",
    "clear_output = widgets.Button(description=\"clear output\",button_style=\"danger\", layout=widgets.Layout(width='20%'), style = {'description_width': 'initial'})\n",
    "clear_output.on_click(lambda e: output.clear_output())"
   ]
  },
  {
   "cell_type": "code",
   "execution_count": 211,
   "metadata": {},
   "outputs": [
    {
     "data": {
      "application/vnd.jupyter.widget-view+json": {
       "model_id": "ce8f6fb84dba41c392bd8379f937cd8f",
       "version_major": 2,
       "version_minor": 0
      },
      "text/plain": [
       "Button(button_style='success', description='update location', layout=Layout(width='20%'), style=ButtonStyle())"
      ]
     },
     "metadata": {},
     "output_type": "display_data"
    },
    {
     "data": {
      "application/vnd.jupyter.widget-view+json": {
       "model_id": "3a63aa8e765546c1857bddd52008986c",
       "version_major": 2,
       "version_minor": 0
      },
      "text/plain": [
       "interactive(children=(Text(value='D:\\\\SurfDrive\\\\THz_Measurements\\\\CO+\\\\thz\\\\117\\\\EXPORT', description='dat lo…"
      ]
     },
     "metadata": {},
     "output_type": "display_data"
    },
    {
     "data": {
      "application/vnd.jupyter.widget-view+json": {
       "model_id": "2d302759deea40739fb8f57f1adb4058",
       "version_major": 2,
       "version_minor": 0
      },
      "text/plain": [
       "Text(value='binned_117.688_117.696GHz_10kHz', description='savefilename')"
      ]
     },
     "metadata": {},
     "output_type": "display_data"
    },
    {
     "data": {
      "application/vnd.jupyter.widget-view+json": {
       "model_id": "a1d04e7d24d34511ae5fffd3a737ac9d",
       "version_major": 2,
       "version_minor": 0
      },
      "text/plain": [
       "IntText(value=140, description='savedpi', step=2)"
      ]
     },
     "metadata": {},
     "output_type": "display_data"
    },
    {
     "data": {
      "application/vnd.jupyter.widget-view+json": {
       "model_id": "bcc23d0f29374f98a0b242869cfaaa91",
       "version_major": 2,
       "version_minor": 0
      },
      "text/plain": [
       "Button(button_style='success', description='Save', style=ButtonStyle())"
      ]
     },
     "metadata": {},
     "output_type": "display_data"
    },
    {
     "data": {
      "application/vnd.jupyter.widget-view+json": {
       "model_id": "bc1f66f865f94942b002bead45021393",
       "version_major": 2,
       "version_minor": 0
      },
      "text/plain": [
       "Button(button_style='danger', description='Clear', style=ButtonStyle())"
      ]
     },
     "metadata": {},
     "output_type": "display_data"
    },
    {
     "data": {
      "application/vnd.jupyter.widget-view+json": {
       "model_id": "4de8e06e6fa7442fba5ca34e4cf403cd",
       "version_major": 2,
       "version_minor": 0
      },
      "text/plain": [
       "Output(outputs=({'name': 'stdout', 'text': 'Saving file: binned_117.688_117.696GHz_10kHz\\nSaved as D:\\\\SurfDri…"
      ]
     },
     "metadata": {},
     "output_type": "display_data"
    },
    {
     "data": {
      "application/vnd.jupyter.widget-view+json": {
       "model_id": "18e178260f9240f2b1e40e9e72af116f",
       "version_major": 2,
       "version_minor": 0
      },
      "text/plain": [
       "Text(value='', description='Savefile')"
      ]
     },
     "metadata": {},
     "output_type": "display_data"
    },
    {
     "data": {
      "application/vnd.jupyter.widget-view+json": {
       "model_id": "96df7cb25e284024ad97c09a7cdd3a9c",
       "version_major": 2,
       "version_minor": 0
      },
      "text/plain": [
       "Button(button_style='success', description='Convert-->MHz', layout=Layout(width='20%'), style=ButtonStyle())"
      ]
     },
     "metadata": {},
     "output_type": "display_data"
    },
    {
     "data": {
      "application/vnd.jupyter.widget-view+json": {
       "model_id": "7f99df75904649f28074687b2cc671bd",
       "version_major": 2,
       "version_minor": 0
      },
      "text/plain": [
       "Button(button_style='danger', description='clear output', layout=Layout(width='20%'), style=ButtonStyle())"
      ]
     },
     "metadata": {},
     "output_type": "display_data"
    },
    {
     "data": {
      "application/vnd.jupyter.widget-view+json": {
       "model_id": "d81423ff27004ba6bb478c36a82b29e9",
       "version_major": 2,
       "version_minor": 0
      },
      "text/plain": [
       "Output()"
      ]
     },
     "metadata": {},
     "output_type": "display_data"
    }
   ],
   "source": [
    "display(tw.update_files_button)\n",
    "out = widgets.interact_manual( plot_thz, loc=tw.location, filename=tw.files)\n",
    "display(tw.savefilename, tw.savedpi, tw.savebutton, tw.closebutton, tw.output)\n",
    "display(savefile_widget, convert_btn, clear_output, output)"
   ]
  },
  {
   "cell_type": "code",
   "execution_count": 207,
   "metadata": {},
   "outputs": [
    {
     "data": {
      "text/plain": [
       "(array([118.10068696, 118.10186209, 118.10290997]),\n",
       " array([2.05120108e-05, 2.60044117e-05, 9.17112565e-06]))"
      ]
     },
     "execution_count": 207,
     "metadata": {},
     "output_type": "execute_result"
    }
   ],
   "source": [
    "freq_guess = [118.1007, 118.1018, 118.1029]\n",
    "depletion_guess = [5, 10, 6]\n",
    "sigma_guess = [1e-4, 1e-3, 1e-4]\n",
    "\n",
    "init_gueeses = np.array([freq_guess, depletion_guess, sigma_guess]).T.flatten()\n",
    "N = 3\n",
    "gfn = generateNGaussian(N)\n",
    "pop, poc = curve_fit(gfn, freq, depletion, p0=init_gueeses)\n",
    "perr = np.sqrt(np.diag(poc))\n",
    "freq_fit = pop[::3]\n",
    "depletion_fit = pop[1::3]\n",
    "sigma_fit = pop[2::3]\n",
    "freq_fit, perr[::3]"
   ]
  },
  {
   "cell_type": "code",
   "execution_count": 188,
   "metadata": {},
   "outputs": [
    {
     "data": {
      "application/vnd.jupyter.widget-view+json": {
       "model_id": "8c675f1767fe410a9de2e13eba3b3ecc",
       "version_major": 2,
       "version_minor": 0
      },
      "text/plain": [
       "Canvas(toolbar=Toolbar(toolitems=[('Home', 'Reset original view', 'home', 'home'), ('Back', 'Back to previous …"
      ]
     },
     "metadata": {},
     "output_type": "display_data"
    }
   ],
   "source": [
    "%matplotlib widget\n",
    "\n",
    "fig, ax = plt.subplots(figsize=(12, 5), dpi=100)\n",
    "ax.plot(freq, depletion, \".k\", label=f\"Experiment\")\n",
    "ax.plot(freq, gfn(freq, *pop), \"-k\", ms=10, label=f\"Fitted\")\n",
    "\n",
    "ax.set(xlabel=\"Frequency (GHz)\", ylabel=\"Depletion (%)\", title=\"CO$^+$: 0$_{1/2}$ --> 1$_{3/2}$\")\n",
    "ax.stem(freq_fit, depletion_fit, use_line_collection=True, linefmt=\"k\")\n",
    "ax.legend()\n",
    "ax.minorticks_on()\n",
    "ax.grid()"
   ]
  },
  {
   "cell_type": "code",
   "execution_count": 87,
   "metadata": {},
   "outputs": [
    {
     "name": "stderr",
     "output_type": "stream",
     "text": [
      "C:\\Users\\aravi\\anaconda3\\lib\\site-packages\\scipy\\optimize\\minpack.py:828: OptimizeWarning: Covariance of the parameters could not be estimated\n",
      "  warnings.warn('Covariance of the parameters could not be estimated',\n"
     ]
    },
    {
     "data": {
      "text/plain": [
       "array([117.6912, 117.6918, 117.6929, 117.6934])"
      ]
     },
     "execution_count": 87,
     "metadata": {},
     "output_type": "execute_result"
    }
   ],
   "source": [
    "freq_guess = [117.6912, 117.6918, 117.6929, 117.6934]\n",
    "depletion_guess = [4.5, 4.5, 4.5, 4]\n",
    "sigma_guess = [1e-4, 1e-4, 1e-4, 1e-4]\n",
    "\n",
    "init_gueeses = np.array([freq_guess, depletion_guess, sigma_guess]).T.flatten()\n",
    "N = 4\n",
    "gfn = generateNGaussian(N)\n",
    "pop, poc = curve_fit(gfn, freq, depletion, p0=init_gueeses)\n",
    "perr = np.sqrt(np.diag(poc))\n",
    "freq_fit = pop[::3]\n",
    "depletion_fit = pop[1::3]\n",
    "sigma_fit = pop[2::3]\n",
    "freq_fit"
   ]
  },
  {
   "cell_type": "code",
   "execution_count": 5,
   "metadata": {},
   "outputs": [
    {
     "data": {
      "application/vnd.jupyter.widget-view+json": {
       "model_id": "c7ef84968f874cdb80f1672c8ca55bd7",
       "version_major": 2,
       "version_minor": 0
      },
      "text/plain": [
       "Canvas(toolbar=Toolbar(toolitems=[('Home', 'Reset original view', 'home', 'home'), ('Back', 'Back to previous …"
      ]
     },
     "metadata": {},
     "output_type": "display_data"
    },
    {
     "ename": "NameError",
     "evalue": "name 'freq' is not defined",
     "output_type": "error",
     "traceback": [
      "\u001b[1;31m---------------------------------------------------------------------------\u001b[0m",
      "\u001b[1;31mNameError\u001b[0m                                 Traceback (most recent call last)",
      "\u001b[1;32m<ipython-input-5-6d6b64935597>\u001b[0m in \u001b[0;36m<module>\u001b[1;34m\u001b[0m\n\u001b[0;32m      2\u001b[0m \u001b[1;33m\u001b[0m\u001b[0m\n\u001b[0;32m      3\u001b[0m \u001b[0mfig\u001b[0m\u001b[1;33m,\u001b[0m \u001b[0max\u001b[0m \u001b[1;33m=\u001b[0m \u001b[0mplt\u001b[0m\u001b[1;33m.\u001b[0m\u001b[0msubplots\u001b[0m\u001b[1;33m(\u001b[0m\u001b[0mfigsize\u001b[0m\u001b[1;33m=\u001b[0m\u001b[1;33m(\u001b[0m\u001b[1;36m12\u001b[0m\u001b[1;33m,\u001b[0m \u001b[1;36m5\u001b[0m\u001b[1;33m)\u001b[0m\u001b[1;33m,\u001b[0m \u001b[0mdpi\u001b[0m\u001b[1;33m=\u001b[0m\u001b[1;36m100\u001b[0m\u001b[1;33m)\u001b[0m\u001b[1;33m\u001b[0m\u001b[1;33m\u001b[0m\u001b[0m\n\u001b[1;32m----> 4\u001b[1;33m \u001b[0max\u001b[0m\u001b[1;33m.\u001b[0m\u001b[0mplot\u001b[0m\u001b[1;33m(\u001b[0m\u001b[0mfreq\u001b[0m\u001b[1;33m,\u001b[0m \u001b[0mdepletion\u001b[0m\u001b[1;33m,\u001b[0m \u001b[1;34m\".k\"\u001b[0m\u001b[1;33m,\u001b[0m \u001b[0mlabel\u001b[0m\u001b[1;33m=\u001b[0m\u001b[1;34mf\"Experiment\"\u001b[0m\u001b[1;33m)\u001b[0m\u001b[1;33m\u001b[0m\u001b[1;33m\u001b[0m\u001b[0m\n\u001b[0m\u001b[0;32m      5\u001b[0m \u001b[0max\u001b[0m\u001b[1;33m.\u001b[0m\u001b[0mplot\u001b[0m\u001b[1;33m(\u001b[0m\u001b[0mfreq\u001b[0m\u001b[1;33m,\u001b[0m \u001b[0mgfn\u001b[0m\u001b[1;33m(\u001b[0m\u001b[0mfreq\u001b[0m\u001b[1;33m,\u001b[0m \u001b[1;33m*\u001b[0m\u001b[0mpop\u001b[0m\u001b[1;33m)\u001b[0m\u001b[1;33m,\u001b[0m \u001b[1;34m\"-k\"\u001b[0m\u001b[1;33m,\u001b[0m \u001b[0mms\u001b[0m\u001b[1;33m=\u001b[0m\u001b[1;36m10\u001b[0m\u001b[1;33m,\u001b[0m \u001b[0mlabel\u001b[0m\u001b[1;33m=\u001b[0m\u001b[1;34mf\"Fitted\"\u001b[0m\u001b[1;33m)\u001b[0m\u001b[1;33m\u001b[0m\u001b[1;33m\u001b[0m\u001b[0m\n\u001b[0;32m      6\u001b[0m \u001b[1;33m\u001b[0m\u001b[0m\n",
      "\u001b[1;31mNameError\u001b[0m: name 'freq' is not defined"
     ]
    }
   ],
   "source": [
    "%matplotlib widget\n",
    "\n",
    "fig, ax = plt.subplots(figsize=(12, 5), dpi=100)\n",
    "ax.plot(freq, depletion, \".k\", label=f\"Experiment\")\n",
    "ax.plot(freq, gfn(freq, *pop), \"-k\", ms=10, label=f\"Fitted\")\n",
    "\n",
    "ax.set(xlabel=\"Frequency (GHz)\", ylabel=\"Depletion (%)\", title=\"CO$^+$: 0$_{1/2}$ --> 1$_{1/2}$\")\n",
    "ax.stem(freq_fit, depletion_fit, use_line_collection=True, linefmt=\"k\")\n",
    "ax.legend()\n",
    "ax.minorticks_on()\n",
    "ax.grid()"
   ]
  },
  {
   "cell_type": "code",
   "execution_count": null,
   "metadata": {},
   "outputs": [],
   "source": []
  }
 ],
 "metadata": {
  "kernelspec": {
   "display_name": "Python 3",
   "language": "python",
   "name": "python3"
  },
  "language_info": {
   "codemirror_mode": {
    "name": "ipython",
    "version": 3
   },
   "file_extension": ".py",
   "mimetype": "text/x-python",
   "name": "python",
   "nbconvert_exporter": "python",
   "pygments_lexer": "ipython3",
   "version": "3.8.3"
  }
 },
 "nbformat": 4,
 "nbformat_minor": 4
}
