{
 "cells": [
  {
   "cell_type": "code",
   "execution_count": 2,
   "metadata": {},
   "outputs": [],
   "source": [
    "from pathlib import Path as pt\n",
    "import numpy as np\n",
    "import matplotlib.pyplot as plt\n",
    "from scipy.optimize import curve_fit\n",
    "\n",
    "from io import StringIO\n",
    "import matplotlib.ticker as plticker"
   ]
  },
  {
   "cell_type": "code",
   "execution_count": 3,
   "metadata": {},
   "outputs": [],
   "source": [
    "def generateNGaussian(N):\n",
    "\n",
    "    gaussfn = lambda n: f\"A{n}*(np.exp((-1.0/2.0)*(((x-cen{n})/sigma{n})**2)))+\"\n",
    "    _gfn, _args = \"\", \"x, \"\n",
    "    for i in range(int(N)): \n",
    "        _gfn += gaussfn(i)\n",
    "        _args += f\"cen{i}, A{i}, sigma{i}, \"\n",
    "    exec(f\"gfn_ = lambda {_args.strip()[:-1]}: {_gfn.strip()[:-1]}\")\n",
    "    \n",
    "    return locals()[\"gfn_\"]\n",
    "\n",
    "def computeNGaussian(wn, inten, sigma=5):\n",
    "\n",
    "    _args = {}\n",
    "    N = len(wn)\n",
    "    gfn = generateNGaussian(N)\n",
    "    i = 0\n",
    "    for x, y in zip(wn, inten):\n",
    "        _args[f\"cen{i}\"] = x\n",
    "        _args[f\"A{i}\"] = y\n",
    "        _args[f\"sigma{i}\"] = sigma\n",
    "        i += 1\n",
    "    full_wn = np.linspace(wn.min()-100, wn.max()+100, 5000)\n",
    "\n",
    "    full_inten = gfn(full_wn, **_args)\n",
    "    return full_wn, full_inten "
   ]
  },
  {
   "cell_type": "code",
   "execution_count": 4,
   "metadata": {},
   "outputs": [],
   "source": [
    "from ipywidgets import widgets\n",
    "from widgetDefinitions import createWidgets\n",
    "from pathlib import Path as pt"
   ]
  },
  {
   "cell_type": "code",
   "execution_count": 11,
   "metadata": {},
   "outputs": [
    {
     "data": {
      "text/plain": [
       "[WindowsPath('D:/SurfDrive/THz_Measurements/CO+/thz/117/EXPORT/20_10_20-5.dat'),\n",
       " WindowsPath('D:/SurfDrive/THz_Measurements/CO+/thz/117/EXPORT/20_10_20-6.dat'),\n",
       " WindowsPath('D:/SurfDrive/THz_Measurements/CO+/thz/117/EXPORT/21_10_20-1.dat'),\n",
       " WindowsPath('D:/SurfDrive/THz_Measurements/CO+/thz/117/EXPORT/22_10_20-3.dat'),\n",
       " WindowsPath('D:/SurfDrive/THz_Measurements/CO+/thz/117/EXPORT/22_10_20-4.dat'),\n",
       " WindowsPath('D:/SurfDrive/THz_Measurements/CO+/thz/117/EXPORT/22_10_20-5.dat'),\n",
       " WindowsPath('D:/SurfDrive/THz_Measurements/CO+/thz/117/EXPORT/22_10_20-6.dat'),\n",
       " WindowsPath('D:/SurfDrive/THz_Measurements/CO+/thz/117/EXPORT/22_10_20-8.dat'),\n",
       " WindowsPath('D:/SurfDrive/THz_Measurements/CO+/thz/117/EXPORT/22_10_20-9.dat'),\n",
       " WindowsPath('D:/SurfDrive/THz_Measurements/CO+/thz/117/EXPORT/23_10_20-1.dat'),\n",
       " WindowsPath('D:/SurfDrive/THz_Measurements/CO+/thz/117/EXPORT/23_10_20-2.dat'),\n",
       " WindowsPath('D:/SurfDrive/THz_Measurements/CO+/thz/117/EXPORT/23_10_20-3.dat'),\n",
       " WindowsPath('D:/SurfDrive/THz_Measurements/CO+/thz/117/EXPORT/23_10_20-4.dat'),\n",
       " WindowsPath('D:/SurfDrive/THz_Measurements/CO+/thz/117/EXPORT/23_10_20-6.dat'),\n",
       " WindowsPath('D:/SurfDrive/THz_Measurements/CO+/thz/117/EXPORT/23_10_20-7.dat'),\n",
       " WindowsPath('D:/SurfDrive/THz_Measurements/CO+/thz/117/EXPORT/26_10_20-5.dat'),\n",
       " WindowsPath('D:/SurfDrive/THz_Measurements/CO+/thz/117/EXPORT/27_10_20-2.dat'),\n",
       " WindowsPath('D:/SurfDrive/THz_Measurements/CO+/thz/117/EXPORT/27_10_20-3.dat'),\n",
       " WindowsPath('D:/SurfDrive/THz_Measurements/CO+/thz/117/EXPORT/27_10_20-4.dat'),\n",
       " WindowsPath('D:/SurfDrive/THz_Measurements/CO+/thz/117/EXPORT/binned_117.688_117.696GHz_14kHz.dat')]"
      ]
     },
     "execution_count": 11,
     "metadata": {},
     "output_type": "execute_result"
    }
   ],
   "source": [
    "thz_datlocation = pt(r\"D:\\SurfDrive\\THz_Measurements\\CO+\\thz\\117\\EXPORT\")\n",
    "thz_dat_files = list(thz_datlocation.glob(\"*.dat\"))\n",
    "thz_dat_files"
   ]
  },
  {
   "cell_type": "code",
   "execution_count": 16,
   "metadata": {},
   "outputs": [],
   "source": [
    "tw = createWidgets(filetype=\"dat\", multiselect=False)"
   ]
  },
  {
   "cell_type": "code",
   "execution_count": 137,
   "metadata": {},
   "outputs": [],
   "source": [
    "ax = None\n",
    "def plot_thz(loc, filename, label=\"CO$^+$: 0$_{1/2}$ --> 1$_{3/2}$\"):\n",
    "    global ax\n",
    "    loc = pt(loc)\n",
    "    freq, depletion = np.genfromtxt(loc/filename).T\n",
    "    \n",
    "    tw.savefilename.value = pt(filename).stem\n",
    "    savefile_widget.value = pt(filename).stem\n",
    "    \n",
    "    %matplotlib widget\n",
    "    fig, ax = plt.subplots(figsize=(9, 7), dpi=100)\n",
    "    tw.fig = fig\n",
    "    \n",
    "    ax.plot(freq, depletion, \".-k\", lw=0.5)\n",
    "    \n",
    "    ax.minorticks_on()\n",
    "    \n",
    "    ax.set_xlabel(\"Frequency (GHz)\", fontsize=16)\n",
    "    ax.set_ylabel(\"Depletion (%)\", fontsize=16)\n",
    "\n",
    "    ax.tick_params(axis='both', labelsize=16)\n",
    "    ax.tick_params(which='both', width=2)\n",
    "    ax.tick_params(which='major', length=7)\n",
    "    ax.tick_params(which='minor', length=4)\n",
    "\n",
    "    ax.xaxis.set_major_formatter(plticker.StrMethodFormatter(\"{x:.3f}\"))\n",
    "\n",
    "    loc = plticker.MaxNLocator(4)\n",
    "    ax.xaxis.set_major_locator(loc)\n",
    "    \n",
    "# D:\\SurfDrive\\THz_Measurements\\CO+\\thz\\117\\EXPORT\n",
    "# D:\\SurfDrive\\THz_Measurements\\CO+\\thz\\118\\EXPORT\n",
    "# D:\\SurfDrive\\THz_Measurements\\CO+\\thz\\253_380\\EXPORT\n",
    "# D:\\SurfDrive\\THz_Measurements\\CO+\\thz\\253_789\\EXPORT"
   ]
  },
  {
   "cell_type": "code",
   "execution_count": 8,
   "metadata": {
    "jupyter": {
     "source_hidden": true
    }
   },
   "outputs": [],
   "source": [
    "output = widgets.Output()\n",
    "savefile_widget = widgets.Text(description=\"Savefile\", value=\"\")\n",
    "def convert_files(e):\n",
    "    with output:\n",
    "        try:\n",
    "            xmin, xmax = ax.get_xlim()\n",
    "            filename = pt(tw.files.value)\n",
    "            location = pt(tw.location.value)\n",
    "            freq, depletion = np.genfromtxt(location/filename).T\n",
    "            \n",
    "            min_ind = np.searchsorted(freq, xmin )\n",
    "            max_ind = np.searchsorted(freq, xmax )\n",
    "            \n",
    "            freq = freq[min_ind:max_ind] # in GHz\n",
    "            depletion = depletion[min_ind:max_ind]\n",
    "            \n",
    "            freq_in_MHz = freq*1000\n",
    "            \n",
    "            new_file = location/f\"{savefile_widget.value}_in_mhz.dat\"\n",
    "            with open(new_file, \"w+\") as f:\n",
    "                f.write(f\"# Freq (MHz)\\tDepletion(%)\\n\")\n",
    "                for wn, inten in zip(freq_in_MHz, depletion):\n",
    "                    f.write(f\"{wn:.3f}\\t{inten:.2f}\\n\")\n",
    "                \n",
    "                print(f\"{new_file} written\")\n",
    "        except Exception as error:\n",
    "            print(\"error occured\", error)\n",
    "        \n",
    "convert_btn = widgets.Button(description=\"Convert-->MHz\",button_style=\"success\", layout=widgets.Layout(width='20%'), style = {'description_width': 'initial'})\n",
    "convert_btn.on_click(convert_files)\n",
    "\n",
    "clear_output = widgets.Button(description=\"clear output\",button_style=\"danger\", layout=widgets.Layout(width='20%'), style = {'description_width': 'initial'})\n",
    "clear_output.on_click(lambda e: output.clear_output())"
   ]
  },
  {
   "cell_type": "code",
   "execution_count": 138,
   "metadata": {},
   "outputs": [
    {
     "data": {
      "application/vnd.jupyter.widget-view+json": {
       "model_id": "f77492d1c5af466fb087650444ea7ee4",
       "version_major": 2,
       "version_minor": 0
      },
      "text/plain": [
       "Button(button_style='success', description='update location', layout=Layout(width='20%'), style=ButtonStyle())"
      ]
     },
     "metadata": {},
     "output_type": "display_data"
    },
    {
     "data": {
      "application/vnd.jupyter.widget-view+json": {
       "model_id": "bfbbe4ff9d6b463eb1e21725904c5c04",
       "version_major": 2,
       "version_minor": 0
      },
      "text/plain": [
       "interactive(children=(Text(value='D:\\\\SurfDrive\\\\THz_Measurements\\\\CO+\\\\thz\\\\117\\\\EXPORT', description='dat lo…"
      ]
     },
     "metadata": {},
     "output_type": "display_data"
    },
    {
     "data": {
      "application/vnd.jupyter.widget-view+json": {
       "model_id": "75feaaa46da64ec4b5fc114db93038ee",
       "version_major": 2,
       "version_minor": 0
      },
      "text/plain": [
       "Text(value='binned_117.688_117.696GHz_14kHz', description='savefilename')"
      ]
     },
     "metadata": {},
     "output_type": "display_data"
    },
    {
     "data": {
      "application/vnd.jupyter.widget-view+json": {
       "model_id": "29bed20f8ffc4a3995bbeb2f649d18e3",
       "version_major": 2,
       "version_minor": 0
      },
      "text/plain": [
       "IntText(value=200, description='savedpi', step=2)"
      ]
     },
     "metadata": {},
     "output_type": "display_data"
    },
    {
     "data": {
      "application/vnd.jupyter.widget-view+json": {
       "model_id": "c844bc47fb5a4db784ccdf257a47d446",
       "version_major": 2,
       "version_minor": 0
      },
      "text/plain": [
       "Button(button_style='success', description='Save', style=ButtonStyle())"
      ]
     },
     "metadata": {},
     "output_type": "display_data"
    },
    {
     "data": {
      "application/vnd.jupyter.widget-view+json": {
       "model_id": "55d8b3b34c904e47adecac82502815d4",
       "version_major": 2,
       "version_minor": 0
      },
      "text/plain": [
       "Button(button_style='danger', description='Clear', style=ButtonStyle())"
      ]
     },
     "metadata": {},
     "output_type": "display_data"
    },
    {
     "data": {
      "application/vnd.jupyter.widget-view+json": {
       "model_id": "7c3778f08f264d01b6e3351341153bee",
       "version_major": 2,
       "version_minor": 0
      },
      "text/plain": [
       "Output(outputs=({'name': 'stdout', 'text': 'Saving file: binned_117.688_117.696GHz_14kHz\\nSaved as D:\\\\SurfDri…"
      ]
     },
     "metadata": {},
     "output_type": "display_data"
    },
    {
     "data": {
      "application/vnd.jupyter.widget-view+json": {
       "model_id": "ec0ed84aea95447a8353e0036013ce58",
       "version_major": 2,
       "version_minor": 0
      },
      "text/plain": [
       "Text(value='binned_117.688_117.696GHz_14kHz', description='Savefile')"
      ]
     },
     "metadata": {},
     "output_type": "display_data"
    },
    {
     "data": {
      "application/vnd.jupyter.widget-view+json": {
       "model_id": "f016988518cb4b3a8f2fb3f694415c54",
       "version_major": 2,
       "version_minor": 0
      },
      "text/plain": [
       "Button(button_style='success', description='Convert-->MHz', layout=Layout(width='20%'), style=ButtonStyle())"
      ]
     },
     "metadata": {},
     "output_type": "display_data"
    },
    {
     "data": {
      "application/vnd.jupyter.widget-view+json": {
       "model_id": "a1c8225ec89d4768bfc933dd9f6c8e41",
       "version_major": 2,
       "version_minor": 0
      },
      "text/plain": [
       "Button(button_style='danger', description='clear output', layout=Layout(width='20%'), style=ButtonStyle())"
      ]
     },
     "metadata": {},
     "output_type": "display_data"
    },
    {
     "data": {
      "application/vnd.jupyter.widget-view+json": {
       "model_id": "2151b42c214b46d28b8d546708a1ccf1",
       "version_major": 2,
       "version_minor": 0
      },
      "text/plain": [
       "Output()"
      ]
     },
     "metadata": {},
     "output_type": "display_data"
    }
   ],
   "source": [
    "display(tw.update_files_button)\n",
    "out = widgets.interact_manual( plot_thz, loc=tw.location, filename=tw.files)\n",
    "display(tw.savefilename, tw.savedpi, tw.savebutton, tw.closebutton, tw.output)\n",
    "display(savefile_widget, convert_btn, clear_output, output)"
   ]
  },
  {
   "cell_type": "code",
   "execution_count": null,
   "metadata": {},
   "outputs": [],
   "source": []
  },
  {
   "cell_type": "code",
   "execution_count": 33,
   "metadata": {},
   "outputs": [],
   "source": [
    "location = pt(tw.location.value)\n",
    "freq, depletion = np.genfromtxt(location/tw.files.value).T"
   ]
  },
  {
   "cell_type": "code",
   "execution_count": 24,
   "metadata": {},
   "outputs": [
    {
     "ename": "NameError",
     "evalue": "name 'freq' is not defined",
     "output_type": "error",
     "traceback": [
      "\u001b[1;31m---------------------------------------------------------------------------\u001b[0m",
      "\u001b[1;31mNameError\u001b[0m                                 Traceback (most recent call last)",
      "\u001b[1;32m<ipython-input-24-7703aa9a7584>\u001b[0m in \u001b[0;36m<module>\u001b[1;34m\u001b[0m\n\u001b[0;32m      6\u001b[0m \u001b[0mN\u001b[0m \u001b[1;33m=\u001b[0m \u001b[1;36m3\u001b[0m\u001b[1;33m\u001b[0m\u001b[1;33m\u001b[0m\u001b[0m\n\u001b[0;32m      7\u001b[0m \u001b[0mgfn\u001b[0m \u001b[1;33m=\u001b[0m \u001b[0mgenerateNGaussian\u001b[0m\u001b[1;33m(\u001b[0m\u001b[0mN\u001b[0m\u001b[1;33m)\u001b[0m\u001b[1;33m\u001b[0m\u001b[1;33m\u001b[0m\u001b[0m\n\u001b[1;32m----> 8\u001b[1;33m \u001b[0mpop\u001b[0m\u001b[1;33m,\u001b[0m \u001b[0mpoc\u001b[0m \u001b[1;33m=\u001b[0m \u001b[0mcurve_fit\u001b[0m\u001b[1;33m(\u001b[0m\u001b[0mgfn\u001b[0m\u001b[1;33m,\u001b[0m \u001b[0mfreq\u001b[0m\u001b[1;33m,\u001b[0m \u001b[0mdepletion\u001b[0m\u001b[1;33m,\u001b[0m \u001b[0mp0\u001b[0m\u001b[1;33m=\u001b[0m\u001b[0minit_gueeses\u001b[0m\u001b[1;33m)\u001b[0m\u001b[1;33m\u001b[0m\u001b[1;33m\u001b[0m\u001b[0m\n\u001b[0m\u001b[0;32m      9\u001b[0m \u001b[0mperr\u001b[0m \u001b[1;33m=\u001b[0m \u001b[0mnp\u001b[0m\u001b[1;33m.\u001b[0m\u001b[0msqrt\u001b[0m\u001b[1;33m(\u001b[0m\u001b[0mnp\u001b[0m\u001b[1;33m.\u001b[0m\u001b[0mdiag\u001b[0m\u001b[1;33m(\u001b[0m\u001b[0mpoc\u001b[0m\u001b[1;33m)\u001b[0m\u001b[1;33m)\u001b[0m\u001b[1;33m\u001b[0m\u001b[1;33m\u001b[0m\u001b[0m\n\u001b[0;32m     10\u001b[0m \u001b[0mfreq_fit\u001b[0m \u001b[1;33m=\u001b[0m \u001b[0mpop\u001b[0m\u001b[1;33m[\u001b[0m\u001b[1;33m:\u001b[0m\u001b[1;33m:\u001b[0m\u001b[1;36m3\u001b[0m\u001b[1;33m]\u001b[0m\u001b[1;33m\u001b[0m\u001b[1;33m\u001b[0m\u001b[0m\n",
      "\u001b[1;31mNameError\u001b[0m: name 'freq' is not defined"
     ]
    }
   ],
   "source": [
    "freq_guess = [118.1007, 118.1018, 118.1029]\n",
    "depletion_guess = [5, 10, 6]\n",
    "sigma_guess = [1e-4, 1e-3, 1e-4]\n",
    "\n",
    "init_gueeses = np.array([freq_guess, depletion_guess, sigma_guess]).T.flatten()\n",
    "N = 3\n",
    "gfn = generateNGaussian(N)\n",
    "pop, poc = curve_fit(gfn, freq, depletion, p0=init_gueeses)\n",
    "perr = np.sqrt(np.diag(poc))\n",
    "freq_fit = pop[::3]\n",
    "depletion_fit = pop[1::3]\n",
    "sigma_fit = pop[2::3]\n",
    "freq_fit, perr[::3]"
   ]
  },
  {
   "cell_type": "code",
   "execution_count": null,
   "metadata": {},
   "outputs": [],
   "source": [
    "%matplotlib widget\n",
    "\n",
    "fig, ax = plt.subplots(figsize=(12, 5), dpi=100)\n",
    "ax.plot(freq, depletion, \".k\", label=f\"Experiment\")\n",
    "ax.plot(freq, gfn(freq, *pop), \"-k\", ms=10, label=f\"Fitted\")\n",
    "\n",
    "ax.set(xlabel=\"Frequency (GHz)\", ylabel=\"Depletion (%)\", title=\"CO$^+$: 0$_{1/2}$ --> 1$_{3/2}$\")\n",
    "ax.stem(freq_fit, depletion_fit, use_line_collection=True, linefmt=\"k\")\n",
    "ax.legend()\n",
    "ax.minorticks_on()\n",
    "ax.grid()"
   ]
  },
  {
   "cell_type": "code",
   "execution_count": 163,
   "metadata": {},
   "outputs": [
    {
     "data": {
      "application/vnd.jupyter.widget-view+json": {
       "model_id": "558e54c05a814da6997e721f52282375",
       "version_major": 2,
       "version_minor": 0
      },
      "text/plain": [
       "Canvas(toolbar=Toolbar(toolitems=[('Home', 'Reset original view', 'home', 'home'), ('Back', 'Back to previous …"
      ]
     },
     "metadata": {},
     "output_type": "display_data"
    }
   ],
   "source": [
    "freq_guess = [117.6912, 117.6918, 117.6929, 117.6934]\n",
    "depletion_guess = [4.5, 4.5, 4.5, 4]\n",
    "sigma_guess = [1e-5, 1e-4, 1e-4, 1e-4]\n",
    "\n",
    "\n",
    "init_gueeses = np.array([freq_guess, depletion_guess, sigma_guess]).T.flatten()\n",
    "N = 4\n",
    "gfn = generateNGaussian(N)\n",
    "pop, poc = curve_fit(gfn, freq, depletion, p0=init_gueeses)\n",
    "perr = np.sqrt(np.diag(poc))\n",
    "freq_fit = pop[::3]\n",
    "depletion_fit = pop[1::3]\n",
    "sigma_fit = pop[2::3]\n",
    "freq_fit\n",
    "\n"
   ]
  },
  {
   "cell_type": "code",
   "execution_count": 76,
   "metadata": {},
   "outputs": [
    {
     "data": {
      "text/plain": [
       "(array([117.6880275 , 117.69001875, 117.69201   , 117.69400125,\n",
       "        117.6959925 ]),\n",
       " 117.69599250000253)"
      ]
     },
     "execution_count": 76,
     "metadata": {},
     "output_type": "execute_result"
    }
   ],
   "source": [
    "np.linspace(freq[0], freq[-1], 5, endpoint=True), freq[-1]"
   ]
  },
  {
   "cell_type": "code",
   "execution_count": 54,
   "metadata": {},
   "outputs": [],
   "source": [
    "def plot(data, fit_data, scale=1400):\n",
    "    \n",
    "    %matplotlib widget\n",
    "\n",
    "    fig, ax = plt.subplots(figsize=(9, 7), dpi=100)\n",
    "    ax.plot(data[0], data[1], \".k\", label=f\"Experiment\")\n",
    "    ax.plot(fit_data[0], fit_data[1]/scale, \"-k\", ms=10, label=f\"Fitted\")\n",
    "\n",
    "    ax.set_xlabel(\"Frequency (GHz)\", fontsize=16)\n",
    "    ax.set_ylabel(\"Depletion (%)\", fontsize=16)\n",
    "\n",
    "#     for f, d in zip(freq_fit, depletion_fit):\n",
    "#         ax.vlines(x=f, ymin=-4, ymax=2)\n",
    "\n",
    "    # ax.legend(fontsize=16)\n",
    "    ax.minorticks_on()\n",
    "    ax.tick_params(axis='both', labelsize=16)\n",
    "    ax.tick_params(which='both', width=2)\n",
    "    ax.tick_params(which='major', length=7)\n",
    "    ax.tick_params(which='minor', length=4)\n",
    "\n",
    "\n",
    "    ax.xaxis.set_major_formatter(plticker.StrMethodFormatter(\"{x:.3f}\"))\n",
    "\n",
    "    loc = plticker.MaxNLocator(4)\n",
    "    ax.xaxis.set_major_locator(loc)\n",
    "    plt.savefig(f\"{location/filename}_fitted.png\", dpi=200)\n",
    "    plt.show()"
   ]
  },
  {
   "cell_type": "code",
   "execution_count": 62,
   "metadata": {},
   "outputs": [
    {
     "name": "stdout",
     "output_type": "stream",
     "text": [
      "701\n"
     ]
    },
    {
     "data": {
      "application/vnd.jupyter.widget-view+json": {
       "model_id": "50c08ef0dc2e4e80a4b6d9e259e80ea5",
       "version_major": 2,
       "version_minor": 0
      },
      "text/plain": [
       "Canvas(toolbar=Toolbar(toolitems=[('Home', 'Reset original view', 'home', 'home'), ('Back', 'Back to previous …"
      ]
     },
     "metadata": {},
     "output_type": "display_data"
    }
   ],
   "source": [
    "location =pt(r\"D:\\SurfDrive\\THz_Measurements\\CO+\\from_Sandra\\CO+_fit_Zeeman\")\n",
    "filename = \"117_in_mhz\"\n",
    "\n",
    "data_info = None\n",
    "with open(location/f\"{filename}_fit.dat\", \"r\") as f:\n",
    "    data_info = f.readlines()\n",
    "\n",
    "end = 0\n",
    "for index, line in enumerate(data_info[1:]):\n",
    "    if \"\\t\" not in line:\n",
    "        end = index\n",
    "        print(end)\n",
    "        break\n",
    "\n",
    "fit_data = np.genfromtxt(StringIO(\"\".join(data_info[:end]))).T\n",
    "# data = np.genfromtxt(StringIO(\"\".join(data_info[end:]))).T\n",
    "data = np.genfromtxt(location/f\"{filename}.dat\").T\n",
    "\n",
    "scale = 1600\n",
    "plot(data, fit_data, scale)"
   ]
  },
  {
   "cell_type": "code",
   "execution_count": null,
   "metadata": {},
   "outputs": [],
   "source": []
  },
  {
   "cell_type": "code",
   "execution_count": null,
   "metadata": {},
   "outputs": [],
   "source": []
  },
  {
   "cell_type": "code",
   "execution_count": null,
   "metadata": {},
   "outputs": [],
   "source": []
  },
  {
   "cell_type": "code",
   "execution_count": 13,
   "metadata": {},
   "outputs": [
    {
     "data": {
      "text/plain": [
       "<_io.StringIO at 0x24a2ad6d0d0>"
      ]
     },
     "execution_count": 13,
     "metadata": {},
     "output_type": "execute_result"
    }
   ],
   "source": []
  },
  {
   "cell_type": "code",
   "execution_count": null,
   "metadata": {},
   "outputs": [],
   "source": []
  },
  {
   "cell_type": "code",
   "execution_count": null,
   "metadata": {},
   "outputs": [],
   "source": []
  }
 ],
 "metadata": {
  "kernelspec": {
   "display_name": "Python 3",
   "language": "python",
   "name": "python3"
  },
  "language_info": {
   "codemirror_mode": {
    "name": "ipython",
    "version": 3
   },
   "file_extension": ".py",
   "mimetype": "text/x-python",
   "name": "python",
   "nbconvert_exporter": "python",
   "pygments_lexer": "ipython3",
   "version": "3.8.3"
  }
 },
 "nbformat": 4,
 "nbformat_minor": 4
}
