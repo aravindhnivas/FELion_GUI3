{
 "cells": [
  {
   "cell_type": "code",
   "execution_count": null,
   "metadata": {},
   "outputs": [],
   "source": [
    "import numpy as np"
   ]
  },
  {
   "cell_type": "code",
   "execution_count": 16,
   "metadata": {},
   "outputs": [
    {
     "name": "stdout",
     "output_type": "stream",
     "text": [
      "N=[0, 1, 2]\n",
      "J=[[0.5], [1.5, 0.5], [2.5, 1.5]]\n"
     ]
    }
   ],
   "source": [
    "total_level = 3\n",
    "spin=True\n",
    "zeeman=False\n",
    "\n",
    "N = [i for i in range(total_level)]\n",
    "print(f\"{N=}\")\n",
    "if spin:\n",
    "    J = total_level*[0]\n",
    "    for level in N:\n",
    "        if level == 0: J[level] = [level+0.5]\n",
    "        else: J[level] = [level+0.5, level-0.5]\n",
    "\n",
    "    print(f\"{J=}\")"
   ]
  },
  {
   "cell_type": "code",
   "execution_count": 42,
   "metadata": {},
   "outputs": [
    {
     "name": "stdout",
     "output_type": "stream",
     "text": [
      "0 --> 1\n",
      "0 --> 2\n",
      "1 --> 2\n"
     ]
    }
   ],
   "source": [
    "for index_N, current_N in enumerate(N[:-1]):\n",
    "    for next_N in N[index_N+1:]:\n",
    "        print(f\"{current_N} --> {next_N}\")"
   ]
  },
  {
   "cell_type": "code",
   "execution_count": 79,
   "metadata": {},
   "outputs": [
    {
     "name": "stdout",
     "output_type": "stream",
     "text": [
      "0_0.5 --> 1_1.5\n",
      "0_0.5 --> 1_0.5\n",
      "0_0.5 --> 2_2.5\n",
      "0_0.5 --> 2_1.5\n",
      "\n",
      "1_1.5 --> 2_2.5\n",
      "1_1.5 --> 2_1.5\n",
      "1_0.5 --> 2_2.5\n",
      "1_0.5 --> 2_1.5\n",
      "\n"
     ]
    }
   ],
   "source": [
    "for index_N, current_N in enumerate(J[:-1]):\n",
    "    for index_J, current_J in enumerate(current_N):\n",
    "        for index_next, next_N in enumerate(J[index_N+1:]):\n",
    "            for next_J in next_N:\n",
    "                print(f\"{index_N}_{current_J} --> {index_next+index_N+1}_{next_J}\")\n",
    "        \n",
    "    print(\"\")"
   ]
  },
  {
   "cell_type": "code",
   "execution_count": null,
   "metadata": {},
   "outputs": [],
   "source": []
  },
  {
   "cell_type": "code",
   "execution_count": null,
   "metadata": {},
   "outputs": [],
   "source": []
  },
  {
   "cell_type": "code",
   "execution_count": null,
   "metadata": {},
   "outputs": [],
   "source": []
  },
  {
   "cell_type": "code",
   "execution_count": null,
   "metadata": {},
   "outputs": [],
   "source": []
  },
  {
   "cell_type": "code",
   "execution_count": null,
   "metadata": {},
   "outputs": [],
   "source": []
  }
 ],
 "metadata": {
  "kernelspec": {
   "display_name": "Python 3",
   "language": "python",
   "name": "python3"
  },
  "language_info": {
   "codemirror_mode": {
    "name": "ipython",
    "version": 3
   },
   "file_extension": ".py",
   "mimetype": "text/x-python",
   "name": "python",
   "nbconvert_exporter": "python",
   "pygments_lexer": "ipython3",
   "version": "3.8.3"
  }
 },
 "nbformat": 4,
 "nbformat_minor": 4
}
