{
 "cells": [
  {
   "cell_type": "code",
   "execution_count": null,
   "metadata": {},
   "outputs": [],
   "source": []
  },
  {
   "cell_type": "code",
   "execution_count": 92,
   "metadata": {},
   "outputs": [
    {
     "name": "stdout",
     "output_type": "stream",
     "text": [
      "N=[0, 1, 2, 3]\n"
     ]
    },
    {
     "data": {
      "text/plain": [
       "['0 --> 1', '0 --> 2', '0 --> 3', '1 --> 2', '1 --> 3', '2 --> 3']"
      ]
     },
     "execution_count": 92,
     "metadata": {},
     "output_type": "execute_result"
    }
   ],
   "source": [
    "import numpy as np\n",
    "total_level = 4\n",
    "spin=False\n",
    "\n",
    "N = [i for i in range(total_level)]\n",
    "print(f\"{N=}\")\n",
    "if spin:\n",
    "    J = total_level*[0]\n",
    "    for level in N:\n",
    "        if level == 0: J[level] = [level+0.5]\n",
    "        else: J[level] = [level+0.5, level-0.5]\n",
    "\n",
    "    print(f\"{J=}\")\n",
    "    \n",
    "\n",
    "transition_label = []\n",
    "if spin:\n",
    "    for index_N, current_N in enumerate(J[:-1]):\n",
    "        for index_J, current_J in enumerate(current_N):\n",
    "            for index_next, next_N in enumerate(J[index_N+1:]):\n",
    "                for next_J in next_N:\n",
    "                    label = f\"{index_N}_{current_J} --> {index_next+index_N+1}_{next_J}\"\n",
    "                    transition_label.append(label)\n",
    "\n",
    "else:\n",
    "    for index_N, current_N in enumerate(N[:-1]):\n",
    "        for next_N in N[index_N+1:]:\n",
    "            label = f\"{current_N} --> {next_N}\"\n",
    "            transition_label.append(label)\n",
    "        \n",
    "transition_label"
   ]
  },
  {
   "cell_type": "code",
   "execution_count": 84,
   "metadata": {},
   "outputs": [
    {
     "name": "stdout",
     "output_type": "stream",
     "text": [
      "0 --> 1\n",
      "0 --> 2\n",
      "0 --> 3\n",
      "1 --> 2\n",
      "1 --> 3\n",
      "2 --> 3\n"
     ]
    }
   ],
   "source": []
  },
  {
   "cell_type": "code",
   "execution_count": 90,
   "metadata": {},
   "outputs": [
    {
     "data": {
      "text/plain": [
       "['0_0.5 --> 1_1.5',\n",
       " '0_0.5 --> 1_0.5',\n",
       " '0_0.5 --> 2_2.5',\n",
       " '0_0.5 --> 2_1.5',\n",
       " '0_0.5 --> 3_3.5',\n",
       " '0_0.5 --> 3_2.5',\n",
       " '1_1.5 --> 2_2.5',\n",
       " '1_1.5 --> 2_1.5',\n",
       " '1_1.5 --> 3_3.5',\n",
       " '1_1.5 --> 3_2.5',\n",
       " '1_0.5 --> 2_2.5',\n",
       " '1_0.5 --> 2_1.5',\n",
       " '1_0.5 --> 3_3.5',\n",
       " '1_0.5 --> 3_2.5',\n",
       " '2_2.5 --> 3_3.5',\n",
       " '2_2.5 --> 3_2.5',\n",
       " '2_1.5 --> 3_3.5',\n",
       " '2_1.5 --> 3_2.5']"
      ]
     },
     "execution_count": 90,
     "metadata": {},
     "output_type": "execute_result"
    }
   ],
   "source": []
  },
  {
   "cell_type": "code",
   "execution_count": null,
   "metadata": {},
   "outputs": [],
   "source": []
  },
  {
   "cell_type": "code",
   "execution_count": null,
   "metadata": {},
   "outputs": [],
   "source": []
  },
  {
   "cell_type": "code",
   "execution_count": null,
   "metadata": {},
   "outputs": [],
   "source": []
  },
  {
   "cell_type": "code",
   "execution_count": null,
   "metadata": {},
   "outputs": [],
   "source": []
  },
  {
   "cell_type": "code",
   "execution_count": null,
   "metadata": {},
   "outputs": [],
   "source": []
  }
 ],
 "metadata": {
  "kernelspec": {
   "display_name": "Python 3",
   "language": "python",
   "name": "python3"
  },
  "language_info": {
   "codemirror_mode": {
    "name": "ipython",
    "version": 3
   },
   "file_extension": ".py",
   "mimetype": "text/x-python",
   "name": "python",
   "nbconvert_exporter": "python",
   "pygments_lexer": "ipython3",
   "version": "3.8.3"
  }
 },
 "nbformat": 4,
 "nbformat_minor": 4
}
