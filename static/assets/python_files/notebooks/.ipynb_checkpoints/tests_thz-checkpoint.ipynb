{
 "cells": [
  {
   "cell_type": "code",
   "execution_count": 1,
   "metadata": {},
   "outputs": [],
   "source": [
    "from pathlib import Path as pt\n",
    "import numpy as np\n",
    "import matplotlib.pyplot as plt"
   ]
  },
  {
   "cell_type": "code",
   "execution_count": 386,
   "metadata": {},
   "outputs": [
    {
     "ename": "NameError",
     "evalue": "name 'data' is not defined",
     "output_type": "error",
     "traceback": [
      "\u001b[1;31m---------------------------------------------------------------------------\u001b[0m",
      "\u001b[1;31mNameError\u001b[0m                                 Traceback (most recent call last)",
      "\u001b[1;32m<ipython-input-386-852d01521a34>\u001b[0m in \u001b[0;36m<module>\u001b[1;34m\u001b[0m\n\u001b[0;32m      1\u001b[0m \u001b[1;32mwith\u001b[0m \u001b[0mopen\u001b[0m\u001b[1;33m(\u001b[0m\u001b[1;34mf\"./{filename.stem}_corrected.thz\"\u001b[0m\u001b[1;33m,\u001b[0m \u001b[1;34m\"w+\"\u001b[0m\u001b[1;33m)\u001b[0m \u001b[1;32mas\u001b[0m \u001b[0mf\u001b[0m\u001b[1;33m:\u001b[0m\u001b[1;33m\u001b[0m\u001b[1;33m\u001b[0m\u001b[0m\n\u001b[1;32m----> 2\u001b[1;33m     \u001b[1;32mfor\u001b[0m \u001b[0mline\u001b[0m \u001b[1;32min\u001b[0m \u001b[0mdata\u001b[0m\u001b[1;33m:\u001b[0m\u001b[1;33m\u001b[0m\u001b[1;33m\u001b[0m\u001b[0m\n\u001b[0m\u001b[0;32m      3\u001b[0m         \u001b[0mfreq\u001b[0m\u001b[1;33m,\u001b[0m \u001b[0mc0\u001b[0m\u001b[1;33m,\u001b[0m \u001b[0mc1\u001b[0m\u001b[1;33m,\u001b[0m \u001b[1;33m*\u001b[0m\u001b[0m_\u001b[0m \u001b[1;33m=\u001b[0m \u001b[0mline\u001b[0m\u001b[1;33m\u001b[0m\u001b[1;33m\u001b[0m\u001b[0m\n\u001b[0;32m      4\u001b[0m         \u001b[0mf\u001b[0m\u001b[1;33m.\u001b[0m\u001b[0mwrite\u001b[0m\u001b[1;33m(\u001b[0m\u001b[1;34mf\"{freq:3f}\\t{c0:3f}\\t{c1:3f}\\t\\n\"\u001b[0m\u001b[1;33m)\u001b[0m\u001b[1;33m\u001b[0m\u001b[1;33m\u001b[0m\u001b[0m\n",
      "\u001b[1;31mNameError\u001b[0m: name 'data' is not defined"
     ]
    }
   ],
   "source": [
    "location = pt(r\"\")\n",
    "filename = location / \"\"\n",
    "\n",
    "with open(location/f\"{filename.stem}_corrected.thz\", \"w+\") as f:\n",
    "    for line in data:\n",
    "        freq, c0, c1, *_ = line\n",
    "        f.write(f\"{freq:3f}\\t{c0:3f}\\t{c1:3f}\\t\\n\")"
   ]
  },
  {
   "cell_type": "code",
   "execution_count": 2,
   "metadata": {},
   "outputs": [],
   "source": [
    "from scipy.constants import Boltzmann, Planck, speed_of_light\n",
    "def mhz_wavenumber(freq):\n",
    "    return freq*1e6/(speed_of_light*100)\n",
    "\n",
    "mhz_wn = np.vectorize(mhz_wavenumber)"
   ]
  },
  {
   "cell_type": "code",
   "execution_count": 431,
   "metadata": {},
   "outputs": [
    {
     "data": {
      "text/plain": [
       "array([3.92579456, 3.93945241, 7.85143321, 7.86509583, 7.87419919])"
      ]
     },
     "execution_count": 431,
     "metadata": {},
     "output_type": "execute_result"
    }
   ],
   "source": [
    "Energy_CO_in_MHz = np.array([117692.360, 118101.812, 235380.046, 235789.641, 236062.553])\n",
    "Energy_CO = mhz_wn(Energy_CO_in_MHz)\n",
    "Energy_CO"
   ]
  },
  {
   "cell_type": "code",
   "execution_count": 434,
   "metadata": {},
   "outputs": [],
   "source": [
    "k_boltzmann_wavenumber = Boltzmann/1.98630e-23\n",
    "def boltzman_distribution(energyLevels, temp=5):\n",
    "    KT = k_boltzmann_wavenumber*temp\n",
    "    Nj = [(2*i+1)*np.exp(-energy/KT) for i, energy in enumerate(energyLevels)]\n",
    "    Nj = np.array(Nj, dtype=float)\n",
    "    Nj = Nj/Nj.sum()\n",
    "    \n",
    "    return Nj"
   ]
  },
  {
   "cell_type": "code",
   "execution_count": 436,
   "metadata": {},
   "outputs": [
    {
     "data": {
      "text/plain": [
       "array([0.07498554, 0.22432604, 0.16732171, 0.23359355, 0.29977317])"
      ]
     },
     "execution_count": 436,
     "metadata": {},
     "output_type": "execute_result"
    }
   ],
   "source": [
    "boltzman_distribution(Energy_CO, 7)"
   ]
  },
  {
   "cell_type": "code",
   "execution_count": 464,
   "metadata": {},
   "outputs": [
    {
     "data": {
      "application/vnd.jupyter.widget-view+json": {
       "model_id": "8ddb3cff8848401ea81597ddeae2c86d",
       "version_major": 2,
       "version_minor": 0
      },
      "text/plain": [
       "Canvas(toolbar=Toolbar(toolitems=[('Home', 'Reset original view', 'home', 'home'), ('Back', 'Back to previous …"
      ]
     },
     "metadata": {},
     "output_type": "display_data"
    },
    {
     "data": {
      "text/plain": [
       "<matplotlib.legend.Legend at 0x25573964d60>"
      ]
     },
     "execution_count": 464,
     "metadata": {},
     "output_type": "execute_result"
    }
   ],
   "source": [
    "%matplotlib widget\n",
    "temp = 20\n",
    "distribution_ratio = boltzman_distribution(Energy_CO, temp)*100\n",
    "fig, ax = plt.subplots(figsize=(10, 4), dpi=100)\n",
    "ax.plot(np.arange(len(Energy_CO)), distribution_ratio, \".-\")\n",
    "ax.set(xlabel=\"Rotational levels (J)\", ylabel=\"Population (%)\", title=f\"Boltzman Distribution:({temp}K)\")\n",
    "ax.legend([f\"Total: {distribution_ratio.sum():.2f}%\"])"
   ]
  },
  {
   "cell_type": "code",
   "execution_count": null,
   "metadata": {},
   "outputs": [],
   "source": [
    "from scipy.constants import m_p\n",
    "fwhm = lambda freq, temp, m: np.sqrt( (8*Boltzmann*temp*np.log(2)) / (m*m_p*speed_of_light**2) ) * freq\n",
    "\n",
    "freq = 117.692360 * 1e9\n",
    "fwhm(freq, 5, 28)*1e-3"
   ]
  },
  {
   "cell_type": "code",
   "execution_count": 7,
   "metadata": {},
   "outputs": [
    {
     "data": {
      "text/plain": [
       "True"
      ]
     },
     "execution_count": 7,
     "metadata": {},
     "output_type": "execute_result"
    }
   ],
   "source": [
    "location = pt(r\"./testFiles/measurements_THzScan\")\n",
    "location.exists()"
   ]
  },
  {
   "cell_type": "code",
   "execution_count": 32,
   "metadata": {},
   "outputs": [
    {
     "data": {
      "application/vnd.jupyter.widget-view+json": {
       "model_id": "40c1cd2860d24ab08a0795b2915db14a",
       "version_major": 2,
       "version_minor": 0
      },
      "text/plain": [
       "Canvas(toolbar=Toolbar(toolitems=[('Home', 'Reset original view', 'home', 'home'), ('Back', 'Back to previous …"
      ]
     },
     "metadata": {},
     "output_type": "display_data"
    }
   ],
   "source": [
    "thz_files = list(location.glob(\"*.txt\"))\n",
    "\n",
    "%matplotlib widget\n",
    "fig, ax = plt.subplots(figsize=(12, 7), dpi=100)\n",
    "\n",
    "for f in thz_files:\n",
    "    x, y, *_ = np.genfromtxt(f).T\n",
    "    if x[0]<118:\n",
    "        ax.plot(x, y, \".\", label=f.stem)\n",
    "\n",
    "plt.legend()\n",
    "plt.show()"
   ]
  },
  {
   "cell_type": "code",
   "execution_count": null,
   "metadata": {},
   "outputs": [],
   "source": [
    "N_rates = solve_ivp(computeRateDistributionEquations, tspan, [*N, 0, 0], dense_output=True)\n",
    "\n",
    "%matplotlib widget\n",
    "simulateTime = np.linspace(0, t, 100)\n",
    "simulateCounts = N_rates.sol(simulateTime)\n",
    "\n",
    "fig, ax = plt.subplots(figsize=(7, 4), dpi=100)\n",
    "\n",
    "ax.plot(simulateTime.T*1e-3, simulateCounts.T)\n",
    "ax.plot(simulateTime*1e-3, simulateCounts.sum(axis=0), \"k\")\n",
    "\n",
    "ax.set(yscale=\"log\")"
   ]
  },
  {
   "cell_type": "code",
   "execution_count": null,
   "metadata": {},
   "outputs": [],
   "source": [
    "def showRateDistributionEquations(totallevel, excitedLevel, lightON, includeSpontaneousEmissionForAllLevels, nHe=\"nHe\"):\n",
    "    \n",
    "    fullRateEquation = []\n",
    "    N = [f\"N{i}\" for i in range(totallevel)]\n",
    "    N_He = [f\"{nHe}{i}\" for i in range(2)]\n",
    "    \n",
    "    rateCollection = []\n",
    "    \n",
    "    if lightON:\n",
    "        temp0 = f\"B_{excitedLevel-1}{excitedLevel}\"\n",
    "        temp1 = f\"B_{excitedLevel}{excitedLevel-1}\"\n",
    "\n",
    "        # defined B rate from excited state \n",
    "        B_rate = f\" + {temp0}*{N[excitedLevel-1]} - {temp1}*{N[excitedLevel]} \"\n",
    "    \n",
    "    # For loop for combining different rates processes\n",
    "    for i in range(totallevel):\n",
    "        \n",
    "        # Collisional rate\n",
    "        rateEquationsCombined = []\n",
    "        for j in range(totallevel):\n",
    "            if i!= j: \n",
    "                \n",
    "                key = f\"q_{j}{i}\"\n",
    "                keyInverse = f\"q_{i}{j}\"\n",
    "             \n",
    "                k0 = f\" + {key}*{nHe}*{N[j]} - {keyInverse}*{nHe}*{N[i]}\"\n",
    "                \n",
    "                rateEquationsCombined.append(k0)\n",
    "        \n",
    "        \n",
    "        # END: Collisional rate for loop\n",
    "        \n",
    "        # Einstein Coefficient A\n",
    "        if i == 0:\n",
    "            temp0 = f\"A_10\"\n",
    "            k1 = f\" + {temp0}*{N[1]}\"\n",
    "        \n",
    "        if includeSpontaneousEmissionForAllLevels:\n",
    "            if i == totallevel-1:\n",
    "                temp0 = f\"A_{i}{i-1}\"\n",
    "                k1 = f\" - {temp0}*{N[i]}\"\n",
    "\n",
    "            if i>0 and i<totallevel-1:\n",
    "                temp0 = f\"A_{i}{i-1}\"\n",
    "                temp1 = f\"A_{i+1}{i}\"\n",
    "                k1 = f\" - {temp0}*{N[i]} + {temp1}*{N[i+1]}\"\n",
    "                \n",
    "        elif i == 1:\n",
    "            temp0 = f\"A_10\"\n",
    "            k1 = f\" - {temp0}*{N[1]}\"\n",
    "            \n",
    "        # END: Einstein Coefficient A\n",
    "        \n",
    "        \n",
    "        # Einstein Coefficient B\n",
    "        # NOTE: B rate defined from excited state\n",
    "        \n",
    "        if lightON:\n",
    "            if i==excitedLevel-1:\n",
    "                k1 += f\" - ({B_rate})\"\n",
    "\n",
    "            if i==excitedLevel:\n",
    "                k1 += f\"{B_rate}\"\n",
    "        \n",
    "        # END: Einstein Coefficient B\n",
    "\n",
    "        # Combining all equations into single array\n",
    "        rateEquationsCombined.append(k1)\n",
    "        rateCollection.append(rateEquationsCombined)\n",
    "        \n",
    "    # END: For loop for combining different rates processes\n",
    "    \n",
    "    # Computing all rates\n",
    "    dR_dt = []\n",
    "\n",
    "    for rates in rateCollection:\n",
    "        temp = reduce(lambda a, b: a+b, rates)\n",
    "        dR_dt.append(temp)\n",
    "        \n",
    "    # Adding rare gas atom attachment and dissociation rates\n",
    "    attachmentRate0 = f\" - k31_0*{nHe}**2*{N[0]} + kCID1*{nHe}*{N_He[0]}*p\"\n",
    "    attachmentRate1 = f\" - k31_1*{nHe}**2*{N[1]} + kCID1*{nHe}*{N_He[0]}*(1-p)\"\n",
    "    attachmentRate2 = f\" - k32*{nHe}**2*{N_He[0]} + kCID2*{nHe}*{N_He[1]}\"\n",
    "    \n",
    "    dR_dt[0] += attachmentRate0\n",
    "    dR_dt[1] += attachmentRate1\n",
    "    \n",
    "    # CDHe:\n",
    "    dCDHe_dt = attachmentRate0 + attachmentRate1 + attachmentRate2\n",
    "    dR_dt.append(dCDHe_dt)\n",
    "    \n",
    "    # CDHe2\n",
    "    dCDHe2_dt = f\" - ({attachmentRate2})\"\n",
    "    dR_dt.append(dCDHe2_dt)\n",
    "    \n",
    "    for i, eq in enumerate(dR_dt):\n",
    "        if i>=totallevel:\n",
    "            fullRateEquation.append(f\"NHe{i} = {eq}\")\n",
    "        else:\n",
    "            fullRateEquation.append(f\"N{i} = {eq}\")\n",
    "            \n",
    "    return dR_dt, fullRateEquation\n",
    "\n",
    "\n",
    "conditions = {\n",
    "    \"totallevel\" : totallevel,\n",
    "    \"includeSpontaneousEmissionForAllLevels\" : True,\n",
    "    \"excitedLevel\" : 1,\n",
    "    \"lightON\" : False,\n",
    "    \"nHe\" : \"nHe\"\n",
    "}\n",
    "\n",
    "N, fullRateEquation = showRateDistributionEquations(**conditions)\n",
    "fullRateEquation"
   ]
  },
  {
   "cell_type": "code",
   "execution_count": null,
   "metadata": {},
   "outputs": [],
   "source": [
    "totalLevel = 5\n",
    "q_excitation = []\n",
    "def get_level_qRate(totallevel=6, samelevelExistInFile=True):\n",
    "    q_rate_deexcitation = []\n",
    "    counter = 0\n",
    "    for n in range(1, totallevel):\n",
    "        for _temp in range(n+1):\n",
    "            if _temp != n: \n",
    "                q_rate_deexcitation.append(f\"{n}{_temp}\")\n",
    "                if not samelevelExistInFile: counter += 1\n",
    "            if samelevelExistInFile: counter += 1\n",
    "    \n",
    "    return q_rate_deexcitation"
   ]
  },
  {
   "cell_type": "code",
   "execution_count": 84,
   "metadata": {},
   "outputs": [],
   "source": [
    "temp_117 = \"\"\"0\n",
    "0.05\n",
    "0.05\n",
    "2.62\n",
    "4.31\n",
    "5.59\n",
    "6.8\n",
    "8\n",
    "9.12\n",
    "10.14\n",
    "11.08\n",
    "11.95\n",
    "12.83\n",
    "13.68\n",
    "14.46\n",
    "15.2\n",
    "15.96\n",
    "16.72\n",
    "17.39\n",
    "18.04\n",
    "18.58\n",
    "19.11\n",
    "19.43\n",
    "19.44\n",
    "19.46\n",
    "19.45\n",
    "\"\"\"\n",
    "power_117 = [float(i) for i in temp_117.split(\"\\n\") if i != \"\"]"
   ]
  },
  {
   "cell_type": "code",
   "execution_count": 89,
   "metadata": {},
   "outputs": [],
   "source": [
    "temp_118 = \"\"\"0\n",
    "0\n",
    "0.01\n",
    "2.28\n",
    "3.79\n",
    "5.03\n",
    "6.26\n",
    "7.52\n",
    "8.79\n",
    "9.91\n",
    "10.97\n",
    "11.98\n",
    "12.94\n",
    "13.91\n",
    "14.83\n",
    "15.7\n",
    "16.53\n",
    "17.35\n",
    "18.12\n",
    "18.85\n",
    "19.43\n",
    "20\n",
    "20.38\n",
    "20.38\n",
    "20.36\n",
    "20.38\n",
    "\"\"\"\n",
    "power_118 = [float(i) for i in temp_118.split(\"\\n\") if i != \"\"]"
   ]
  },
  {
   "cell_type": "code",
   "execution_count": 128,
   "metadata": {},
   "outputs": [
    {
     "data": {
      "application/vnd.jupyter.widget-view+json": {
       "model_id": "21515a07f8d241ef9801cbc832023f44",
       "version_major": 2,
       "version_minor": 0
      },
      "text/plain": [
       "Canvas(toolbar=Toolbar(toolitems=[('Home', 'Reset original view', 'home', 'home'), ('Back', 'Back to previous …"
      ]
     },
     "metadata": {},
     "output_type": "display_data"
    }
   ],
   "source": [
    "from matplotlib.ticker import (MultipleLocator, FormatStrFormatter,\n",
    "                               AutoMinorLocator)\n",
    "\n",
    "volts = np.arange(5, -0.2, -0.2)\n",
    "power_117 = [float(i) for i in temp.split(\"\\n\") if i != \"\"]\n",
    "\n",
    "%matplotlib widget\n",
    "fig, ax = plt.subplots(figsize=(7, 5), dpi=200)\n",
    "ax.plot(volts, power_117, \".-\", label=\"117.692GHz\")\n",
    "ax.plot(volts, power_118, \".-\", label=\"118.102GHz\")\n",
    "ax.set(ylabel=\"Power(mW)\", xlabel=\"Attenuation (Volt)\")\n",
    "\n",
    "ax.minorticks_on()\n",
    "ax.legend()\n",
    "plt.show()"
   ]
  },
  {
   "cell_type": "code",
   "execution_count": 160,
   "metadata": {},
   "outputs": [
    {
     "data": {
      "text/plain": [
       "array([118.09 , 118.091, 118.092, 118.093, 118.094, 118.095, 118.096,\n",
       "       118.097, 118.098, 118.099, 118.1  , 118.101, 118.102, 118.103,\n",
       "       118.104, 118.105, 118.106, 118.107, 118.108, 118.109, 118.11 ])"
      ]
     },
     "execution_count": 160,
     "metadata": {},
     "output_type": "execute_result"
    }
   ],
   "source": [
    "freq_117 = np.arange(117.68, 117.7001, 0.001)\n",
    "freq_118 = np.arange(118.09, 118.1101, 0.001)\n",
    "freq_118"
   ]
  },
  {
   "cell_type": "code",
   "execution_count": 165,
   "metadata": {},
   "outputs": [],
   "source": [
    "power_0V_117 =\"\"\"\n",
    "19.55\n",
    "19.52\n",
    "19.53\n",
    "19.53\n",
    "19.5\n",
    "19.49\n",
    "19.51\n",
    "19.48\n",
    "19.49\n",
    "19.49\n",
    "19.5\n",
    "19.47\n",
    "19.48\n",
    "19.49\n",
    "19.44\n",
    "19.45\n",
    "19.45\n",
    "19.43\n",
    "19.43\n",
    "19.42\n",
    "19.42\n",
    "\"\"\"\n",
    "power_0V_117 = [float(i) for i in power_0V_117.split(\"\\n\") if i != \"\"]\n",
    "\n",
    "power_0V_118 =\"\"\"\n",
    "20.28\n",
    "20.26\n",
    "20.32\n",
    "20.3\n",
    "20.29\n",
    "20.32\n",
    "20.28\n",
    "20.32\n",
    "20.32\n",
    "20.34\n",
    "20.34\n",
    "20.36\n",
    "20.37\n",
    "20.37\n",
    "20.39\n",
    "20.4\n",
    "20.39\n",
    "20.36\n",
    "20.42\n",
    "20.39\n",
    "20.43\n",
    "\"\"\"\n",
    "power_0V_118 = [float(i) for i in power_0V_118.split(\"\\n\") if i != \"\"]\n"
   ]
  },
  {
   "cell_type": "code",
   "execution_count": 232,
   "metadata": {},
   "outputs": [
    {
     "data": {
      "application/vnd.jupyter.widget-view+json": {
       "model_id": "fad1c097309c40bf9b544c1c015bd955",
       "version_major": 2,
       "version_minor": 0
      },
      "text/plain": [
       "Canvas(toolbar=Toolbar(toolitems=[('Home', 'Reset original view', 'home', 'home'), ('Back', 'Back to previous …"
      ]
     },
     "metadata": {},
     "output_type": "display_data"
    },
    {
     "name": "stderr",
     "output_type": "stream",
     "text": [
      "No handles with labels found to put in legend.\n"
     ]
    }
   ],
   "source": [
    "%matplotlib widget\n",
    "fig, (ax0, ax1) = plt.subplots(figsize=(7, 4), dpi=160, nrows=1, ncols=2)\n",
    "ax0.plot(freq_117, power_0V_117, \".-\", label=\"117.692GHz\")\n",
    "ax1.plot(freq_118, power_0V_118, \".-\", label=\"117.692GHz\")\n",
    "\n",
    "ax0.minorticks_on()\n",
    "ax1.minorticks_on()\n",
    "ax.legend()\n",
    "\n",
    "fig.text(0.5, 0.0, 'Frequency (GHz)', ha='center')\n",
    "fig.text(0.0, 0.5, 'Power (mW)', va='center', rotation='vertical')\n",
    "\n",
    "plt.tight_layout()\n",
    "plt.show()"
   ]
  },
  {
   "cell_type": "code",
   "execution_count": 238,
   "metadata": {},
   "outputs": [],
   "source": [
    "plt.close(\"all\")"
   ]
  },
  {
   "cell_type": "code",
   "execution_count": 6,
   "metadata": {},
   "outputs": [],
   "source": [
    "from scipy.optimize import curve_fit"
   ]
  },
  {
   "cell_type": "code",
   "execution_count": 7,
   "metadata": {},
   "outputs": [
    {
     "name": "stderr",
     "output_type": "stream",
     "text": [
      "<ipython-input-7-9e017637c7b3>:5: RuntimeWarning: overflow encountered in exp\n",
      "  return a*np.exp(-k*x)+b\n"
     ]
    }
   ],
   "source": [
    "power = np.array([20.23, 17.115, 15.745, 15.16, 15.16, 14.895, 14.895])\n",
    "laser = np.array([0.3, 0.4, 0.5, 0.6, 5, 6, 10])\n",
    "\n",
    "def fit_func(x, a, b, k):\n",
    "    return a*np.exp(-k*x)+b\n",
    "pop, poc = curve_fit(fit_func, laser, power)"
   ]
  },
  {
   "cell_type": "code",
   "execution_count": 253,
   "metadata": {},
   "outputs": [
    {
     "name": "stdout",
     "output_type": "stream",
     "text": [
      "a: 86.87(15.97)\n",
      "b: 14.95(0.07)\n",
      "k: 9.33(0.60)\n"
     ]
    }
   ],
   "source": [
    "perr = np.sqrt(np.diag(poc))\n",
    "a, b, k = pop\n",
    "a_err, b_err, k_err = perr\n",
    "print(f\"a: {a:.2f}({a_err:.2f})\\nb: {b:.2f}({b_err:.2f})\\nk: {k:.2f}({k_err:.2f})\")"
   ]
  },
  {
   "cell_type": "code",
   "execution_count": 66,
   "metadata": {},
   "outputs": [],
   "source": [
    "def generateNGaussian(N):\n",
    "\n",
    "    gaussfn = lambda n: f\"A{n}*(np.exp((-1.0/2.0)*(((x-cen{n})/sigma{n})**2)))+\"\n",
    "    _gfn, _args = \"\", \"x, \"\n",
    "    for i in range(int(N)): \n",
    "        _gfn += gaussfn(i)\n",
    "        _args += f\"cen{i}, A{i}, sigma{i}, \"\n",
    "    exec(f\"gfn_ = lambda {_args.strip()[:-1]}: {_gfn.strip()[:-1]}\")\n",
    "    \n",
    "    return locals()[\"gfn_\"]\n",
    "\n",
    "def computeNGaussian(wn, inten, sigma=5):\n",
    "\n",
    "    _args = {}\n",
    "    N = len(wn)\n",
    "    gfn = generateNGaussian(N)\n",
    "    i = 0\n",
    "    for x, y in zip(wn, inten):\n",
    "        _args[f\"cen{i}\"] = x\n",
    "        _args[f\"A{i}\"] = y\n",
    "        _args[f\"sigma{i}\"] = sigma\n",
    "        i += 1\n",
    "    full_wn = np.linspace(wn.min()-100, wn.max()+100, 5000)\n",
    "\n",
    "    full_inten = gfn(full_wn, **_args)\n",
    "    return full_wn, full_inten"
   ]
  },
  {
   "cell_type": "code",
   "execution_count": 269,
   "metadata": {},
   "outputs": [
    {
     "data": {
      "application/vnd.jupyter.widget-view+json": {
       "model_id": "ea161383ff4a48dfad63173ac0ac2568",
       "version_major": 2,
       "version_minor": 0
      },
      "text/plain": [
       "Canvas(toolbar=Toolbar(toolitems=[('Home', 'Reset original view', 'home', 'home'), ('Back', 'Back to previous …"
      ]
     },
     "metadata": {},
     "output_type": "display_data"
    }
   ],
   "source": [
    "%matplotlib widget\n",
    "\n",
    "fig, ax = plt.subplots(dpi=100)\n",
    "ax.plot(laser, power, \".k\", ms=10, label=f\"{power[0]}mW at {laser[0]}THz range\")\n",
    "\n",
    "set_range = 0.1\n",
    "lg = f\"FIT: {fit_func(set_range, *pop):.2f}mW at {set_range}THz range\"\n",
    "laser_new = np.arange(0.1, 10, 0.1)\n",
    "ax.plot(laser_new, fit_func(laser_new, *pop), \"-k\", label=lg)\n",
    "\n",
    "ax.set(xlabel=\"Power meter laser range (THz)\", ylabel=\"Power (mW)\", title=\"Fit function: a*exp(-k*x)+b\")\n",
    "ax.legend()\n",
    "ax.minorticks_on()\n",
    "ax.grid()"
   ]
  },
  {
   "cell_type": "code",
   "execution_count": 241,
   "metadata": {},
   "outputs": [
    {
     "name": "stdout",
     "output_type": "stream",
     "text": [
      "[WindowsPath('D:/SurfDrive/THz_Measurements/CO+/thz/253_789/EXPORT/binned_235.786_235.793GHz_10kHz.dat')]\n"
     ]
    }
   ],
   "source": [
    "thz_datlocation = pt(r\"D:\\SurfDrive\\THz_Measurements\\CO+\\thz\\253_789\\EXPORT\")\n",
    "thz_dat_files = list(thz_datlocation.glob(\"binned*.dat\"))\n",
    "print(thz_dat_files)"
   ]
  },
  {
   "cell_type": "code",
   "execution_count": 259,
   "metadata": {},
   "outputs": [
    {
     "data": {
      "application/vnd.jupyter.widget-view+json": {
       "model_id": "ad98cbc548b14fd1b640e2b076304cd4",
       "version_major": 2,
       "version_minor": 0
      },
      "text/plain": [
       "Canvas(toolbar=Toolbar(toolitems=[('Home', 'Reset original view', 'home', 'home'), ('Back', 'Back to previous …"
      ]
     },
     "metadata": {},
     "output_type": "display_data"
    }
   ],
   "source": [
    "data = np.genfromtxt(thz_dat_files[0]).T\n",
    "\n",
    "startInd = 150\n",
    "endInd = -150\n",
    "\n",
    "freq, depletion = data\n",
    "freq = freq[startInd:endInd]\n",
    "depletion = depletion[startInd:endInd]\n",
    "\n",
    "%matplotlib widget\n",
    "\n",
    "fig, ax = plt.subplots(figsize=(12, 5), dpi=100)\n",
    "ax.plot(freq, depletion, \".-k\", label=f\"Experiment\")\n",
    "\n",
    "title = \"CO$^+$: 1$_{1/2}$ --> 2$_{3/2}$\"\n",
    "ax.set(xlabel=\"Frequency (GHz)\", ylabel=\"Depletion (%)\", title=title)\n",
    "ax.legend()\n",
    "ax.minorticks_on()\n",
    "ax.grid()"
   ]
  },
  {
   "cell_type": "code",
   "execution_count": 265,
   "metadata": {},
   "outputs": [
    {
     "data": {
      "text/plain": [
       "array([235.7889415, 235.7892248, 235.7895082, 235.7896702, 235.7899535,\n",
       "       235.7902368])"
      ]
     },
     "execution_count": 265,
     "metadata": {},
     "output_type": "execute_result"
    }
   ],
   "source": [
    "temp = np.array([235.7889415, 235.7892248, 235.7895082, 235.7896702, 235.7899535, 235.7902368])\n",
    "np.sort(temp)"
   ]
  },
  {
   "cell_type": "code",
   "execution_count": 266,
   "metadata": {},
   "outputs": [
    {
     "name": "stdout",
     "output_type": "stream",
     "text": [
      "Difference: (obs-cal): [-199.69391732 -148.13055662 -178.61146517    9.36986297  -30.31292661\n",
      " -438.36782262]\n",
      "\n",
      "Freq\n",
      "[[2.35788742e+02 3.97262184e-04]\n",
      " [2.35789077e+02 1.83377493e-04]\n",
      " [2.35789330e+02 4.73960416e-04]\n",
      " [2.35789680e+02 1.96679367e-04]\n",
      " [2.35789923e+02 3.86368900e-05]\n",
      " [2.35789798e+02 7.17037118e-04]])\n",
      "\n",
      "Inten.\n",
      "[[ 0.71496864  1.06887047]\n",
      " [ 1.13159033 12.37185542]\n",
      " [ 3.33927455  7.22410115]\n",
      " [ 1.30141061  7.56563363]\n",
      " [ 0.6737361   0.9839904 ]\n",
      " [ 3.348741    5.53627125]])\n",
      "\n",
      "Sigma\n",
      "[[1.69041287e-04 1.91989564e-04]\n",
      " [1.03047933e-04 3.05710106e-04]\n",
      " [1.90774316e-04 6.90455603e-04]\n",
      " [1.07047115e-04 2.17899162e-04]\n",
      " [3.97057273e-05 5.65192405e-05]\n",
      " [2.86544197e-04 2.60182534e-04]])\n"
     ]
    },
    {
     "data": {
      "application/vnd.jupyter.widget-view+json": {
       "model_id": "87b7c907f6c54796beccce256b0a0754",
       "version_major": 2,
       "version_minor": 0
      },
      "text/plain": [
       "Canvas(toolbar=Toolbar(toolitems=[('Home', 'Reset original view', 'home', 'home'), ('Back', 'Back to previous …"
      ]
     },
     "metadata": {},
     "output_type": "display_data"
    }
   ],
   "source": [
    "freq_guess = [\n",
    "    [117.6911460, 117.6917530, 117.6929670, 117.6935740],\n",
    "    [118.0999907, 118.1005978, 118.1012049, 118.1024191, 118.1030262, 118.1036333],\n",
    "    [235.7889415, 235.7892248, 235.7895082, 235.7896702, 235.7899535, 235.7902368]\n",
    "]\n",
    "freq_guess2 = [117.691426, 117.691893, 117.692827, 117.693294]\n",
    "\n",
    "\n",
    "sigma_guess = [\n",
    "    [1e-4, 1e-4, 1e-4, 1e-4],\n",
    "    [1e-4, 1e-4, 1e-4, 1e-4, 1e-4, 1e-4],\n",
    "    [1e-4, 1e-4, 1e-4, 1e-4, 1e-4, 1e-4]\n",
    "]\n",
    "\n",
    "depletion_guess = [\n",
    "    [4.5, 4.5, 4.5, 4],\n",
    "    [4, 5, 5, 10, 4, 4],\n",
    "    [4, 4, 4, 6, 3, 3]\n",
    "]\n",
    "\n",
    "ind = 2\n",
    "N = len(freq_guess[ind])\n",
    "init_gueeses = np.array([freq_guess[ind], depletion_guess[ind], sigma_guess[ind]]).T.flatten()\n",
    "\n",
    "gfn = generateNGaussian(N)\n",
    "\n",
    "pop, poc = curve_fit(gfn, freq, depletion, p0=init_gueeses)\n",
    "perr = np.sqrt(np.diag(poc))\n",
    "\n",
    "freq_fit = pop[::3]\n",
    "depletion_fit = pop[1::3]\n",
    "sigma_fit = pop[2::3]\n",
    "\n",
    "print(f\"Difference: (obs-cal): {(freq_fit-freq_guess[ind])*1e6}\")\n",
    "\n",
    "labels = [\"Freq\", \"Inten.\", \"Sigma\"]\n",
    "for _ in range(3):\n",
    "    _temp = np.array([pop[_::3], perr[_::3]]).T\n",
    "    print(f\"\\n{labels[_]}\\n{_temp})\")\n",
    "    \n",
    "%matplotlib widget\n",
    "\n",
    "fig, ax = plt.subplots(figsize=(12, 5), dpi=100)\n",
    "ax.plot(freq, depletion, \".-k\", label=f\"Experiment\", alpha=0.5)\n",
    "ax.plot(freq, gfn(freq, *pop), \"-k\", ms=10, label=f\"Fitted\")\n",
    "\n",
    "ax.set(xlabel=\"Frequency (GHz)\", ylabel=\"Depletion (%)\", title=title)\n",
    "ax.stem(freq_fit, depletion_fit, use_line_collection=True, linefmt=\"k\")\n",
    "ax.legend()\n",
    "ax.minorticks_on()\n",
    "ax.grid()"
   ]
  },
  {
   "cell_type": "code",
   "execution_count": null,
   "metadata": {},
   "outputs": [],
   "source": []
  },
  {
   "cell_type": "code",
   "execution_count": 129,
   "metadata": {},
   "outputs": [
    {
     "ename": "NameError",
     "evalue": "name 'filename' is not defined",
     "output_type": "error",
     "traceback": [
      "\u001b[1;31m---------------------------------------------------------------------------\u001b[0m",
      "\u001b[1;31mNameError\u001b[0m                                 Traceback (most recent call last)",
      "\u001b[1;32m<ipython-input-129-019a4c2c2bcf>\u001b[0m in \u001b[0;36m<module>\u001b[1;34m\u001b[0m\n\u001b[0;32m      1\u001b[0m \u001b[0mlocation\u001b[0m \u001b[1;33m=\u001b[0m \u001b[1;34mr\"D:\\Measurements\\THz\\CO+\\thz\"\u001b[0m\u001b[1;33m\u001b[0m\u001b[1;33m\u001b[0m\u001b[0m\n\u001b[1;32m----> 2\u001b[1;33m \u001b[1;32mwith\u001b[0m \u001b[0mopen\u001b[0m\u001b[1;33m(\u001b[0m\u001b[1;34mf\"./{filename.stem}_corrected.thz\"\u001b[0m\u001b[1;33m,\u001b[0m \u001b[1;34m\"w+\"\u001b[0m\u001b[1;33m)\u001b[0m \u001b[1;32mas\u001b[0m \u001b[0mf\u001b[0m\u001b[1;33m:\u001b[0m\u001b[1;33m\u001b[0m\u001b[1;33m\u001b[0m\u001b[0m\n\u001b[0m\u001b[0;32m      3\u001b[0m     \u001b[1;32mfor\u001b[0m \u001b[0mline\u001b[0m \u001b[1;32min\u001b[0m \u001b[0mdata\u001b[0m\u001b[1;33m:\u001b[0m\u001b[1;33m\u001b[0m\u001b[1;33m\u001b[0m\u001b[0m\n\u001b[0;32m      4\u001b[0m         \u001b[0mfreq\u001b[0m\u001b[1;33m,\u001b[0m \u001b[0mc0\u001b[0m\u001b[1;33m,\u001b[0m \u001b[0mc1\u001b[0m\u001b[1;33m,\u001b[0m \u001b[1;33m*\u001b[0m\u001b[0m_\u001b[0m \u001b[1;33m=\u001b[0m \u001b[0mline\u001b[0m\u001b[1;33m\u001b[0m\u001b[1;33m\u001b[0m\u001b[0m\n\u001b[0;32m      5\u001b[0m         \u001b[0mf\u001b[0m\u001b[1;33m.\u001b[0m\u001b[0mwrite\u001b[0m\u001b[1;33m(\u001b[0m\u001b[1;34mf\"{freq:3f}\\t{c0:3f}\\t{c1:3f}\\t\\n\"\u001b[0m\u001b[1;33m)\u001b[0m\u001b[1;33m\u001b[0m\u001b[1;33m\u001b[0m\u001b[0m\n",
      "\u001b[1;31mNameError\u001b[0m: name 'filename' is not defined"
     ]
    }
   ],
   "source": [
    "location = r\"D:\\Measurements\\THz\\CO+\\thz\"\n",
    "with open(f\"./{filename.stem}_corrected.thz\", \"w+\") as f:\n",
    "    for line in data:\n",
    "        freq, c0, c1, *_ = line\n",
    "        f.write(f\"{freq:3f}\\t{c0:3f}\\t{c1:3f}\\t\\n\")"
   ]
  },
  {
   "cell_type": "code",
   "execution_count": 47,
   "metadata": {},
   "outputs": [
    {
     "name": "stdout",
     "output_type": "stream",
     "text": [
      "Difference: (obs-cal): [[-582.33951513 -161.39868438  114.39490922  519.00214548]]\n"
     ]
    }
   ],
   "source": [
    "freq_guess2 = np.array([[117691.727644116, 117691.930608746, 117692.740085152, 117692.943049782]])*1e-3\n",
    "print(f\"Difference: (obs-cal): {(freq_fit-freq_guess2)*1e6}\")"
   ]
  },
  {
   "cell_type": "code",
   "execution_count": 71,
   "metadata": {},
   "outputs": [
    {
     "data": {
      "text/plain": [
       "array([4.e-05, 4.e-05, 4.e-05, 4.e-05, 4.e-05])"
      ]
     },
     "execution_count": 71,
     "metadata": {},
     "output_type": "execute_result"
    }
   ],
   "source": []
  },
  {
   "cell_type": "code",
   "execution_count": null,
   "metadata": {},
   "outputs": [],
   "source": []
  },
  {
   "cell_type": "code",
   "execution_count": null,
   "metadata": {},
   "outputs": [],
   "source": []
  },
  {
   "cell_type": "code",
   "execution_count": null,
   "metadata": {},
   "outputs": [],
   "source": []
  },
  {
   "cell_type": "code",
   "execution_count": null,
   "metadata": {},
   "outputs": [],
   "source": []
  }
 ],
 "metadata": {
  "kernelspec": {
   "display_name": "Python 3",
   "language": "python",
   "name": "python3"
  },
  "language_info": {
   "codemirror_mode": {
    "name": "ipython",
    "version": 3
   },
   "file_extension": ".py",
   "mimetype": "text/x-python",
   "name": "python",
   "nbconvert_exporter": "python",
   "pygments_lexer": "ipython3",
   "version": "3.8.3"
  }
 },
 "nbformat": 4,
 "nbformat_minor": 4
}
