{
 "cells": [
  {
   "cell_type": "code",
   "execution_count": 1,
   "metadata": {},
   "outputs": [],
   "source": [
    "from pathlib import Path as pt\n",
    "import numpy as np\n",
    "import matplotlib.pyplot as plt"
   ]
  },
  {
   "cell_type": "code",
   "execution_count": 4,
   "metadata": {},
   "outputs": [],
   "source": [
    "from test_func import boltzman_distribution, mhz_wn"
   ]
  },
  {
   "cell_type": "code",
   "execution_count": 38,
   "metadata": {},
   "outputs": [
    {
     "data": {
      "text/plain": [
       "array([ 3.92579456,  3.93945241,  7.85143321,  7.86509583,  7.87419919,\n",
       "       11.7995371 , 11.80864453, 15.73352499, 15.74263563, 19.66691357,\n",
       "       19.67601947])"
      ]
     },
     "execution_count": 38,
     "metadata": {},
     "output_type": "execute_result"
    }
   ],
   "source": [
    "Energy_CO_in_MHz = np.array([117692.360, 118101.812, \n",
    "                             235380.046, 235789.641, 236062.553, \n",
    "                             353741.223, 354014.257, \n",
    "                             471679.213, 471952.343, \n",
    "                            589599.236, 589872.224])\n",
    "Energy_CO = mhz_wn(Energy_CO_in_MHz)\n",
    "Energy_CO"
   ]
  },
  {
   "cell_type": "code",
   "execution_count": 54,
   "metadata": {},
   "outputs": [
    {
     "data": {
      "text/plain": [
       "(array([ 3.32642441,  9.95750986,  8.88010419, 12.40502366, 15.92612366,\n",
       "        10.39325386, 12.26506734,  7.55685131,  8.5519677 ,  5.10429297,\n",
       "         5.63338105]),\n",
       " 100.00000000000001)"
      ]
     },
     "execution_count": 54,
     "metadata": {},
     "output_type": "execute_result"
    },
    {
     "data": {
      "image/png": "[encoded data removed]",
      "text/plain": [
       "<Figure size 432x288 with 1 Axes>"
      ]
     },
     "metadata": {
      "needs_background": "light"
     },
     "output_type": "display_data"
    }
   ],
   "source": [
    "trapTemp = 9\n",
    "boltz_pop = boltzman_distribution(Energy_CO, trapTemp)*100\n",
    "plt.plot(boltz_pop, \".-\")\n",
    "boltz_pop, boltz_pop.sum()"
   ]
  }
 ],
 "metadata": {
  "kernelspec": {
   "display_name": "Python 3",
   "language": "python",
   "name": "python3"
  },
  "language_info": {
   "codemirror_mode": {
    "name": "ipython",
    "version": 3
   },
   "file_extension": ".py",
   "mimetype": "text/x-python",
   "name": "python",
   "nbconvert_exporter": "python",
   "pygments_lexer": "ipython3",
   "version": "3.8.3"
  }
 },
 "nbformat": 4,
 "nbformat_minor": 4
}
