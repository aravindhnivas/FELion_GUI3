{
 "cells": [
  {
   "cell_type": "code",
   "execution_count": 1,
   "metadata": {},
   "outputs": [],
   "source": [
    "from pathlib import Path as pt\n",
    "import numpy as np\n",
    "from ipywidgets import widgets\n",
    "import matplotlib.pyplot as plt"
   ]
  },
  {
   "cell_type": "code",
   "execution_count": 2,
   "metadata": {},
   "outputs": [],
   "source": [
    "from test_func import boltzman_distribution, mhz_wn"
   ]
  },
  {
   "cell_type": "code",
   "execution_count": 4,
   "metadata": {},
   "outputs": [
    {
     "data": {
      "text/plain": [
       "array([ 3.92579456,  3.93945241,  7.85143321,  7.86509583,  7.87419919,\n",
       "       11.7995371 , 11.80864453, 15.73352499, 15.74263563, 19.66691357,\n",
       "       19.67601947, 23.59954319, 23.60864599, 27.53125841, 27.54037478,\n",
       "       31.461919  , 31.47103307, 35.3913473 , 39.31944982, 39.32855416,\n",
       "       43.25512999, 43.24601805])"
      ]
     },
     "execution_count": 4,
     "metadata": {},
     "output_type": "execute_result"
    }
   ],
   "source": [
    "Energy_CO_in_MHz = np.array([117692.360, 118101.812, \n",
    "                             235380.046, 235789.641, 236062.553, \n",
    "                             353741.223, 354014.257, \n",
    "                             471679.213, 471952.343, \n",
    "                            589599.236, 589872.224, \n",
    "                            707496.506, 707769.401,\n",
    "                            825366.363, 825639.665,\n",
    "                            943204.603, 943477.836, \n",
    "                            1061005.9, \n",
    "                            1178767.451, 1179040.392,\n",
    "                            1296756.174, 1296483.005])\n",
    "Energy_CO = mhz_wn(Energy_CO_in_MHz)\n",
    "Energy_CO"
   ]
  },
  {
   "cell_type": "code",
   "execution_count": 5,
   "metadata": {},
   "outputs": [
    {
     "data": {
      "text/plain": [
       "(array([1.51387696, 4.53526112, 5.05665102, 7.06937904, 9.08070281,\n",
       "        7.41456127, 8.75446618, 6.74860193, 7.6412582 , 5.70601199,\n",
       "        6.3007462 , 4.61102326, 5.00729567, 3.61380278, 3.87785733,\n",
       "        2.77038835, 2.94636227, 2.08872022, 1.4747092 , 1.5529696 ,\n",
       "        1.09054296, 1.14481163]),\n",
       " 100.0)"
      ]
     },
     "execution_count": 5,
     "metadata": {},
     "output_type": "execute_result"
    },
    {
     "data": {
      "image/png": "[encoded data removed]",
      "text/plain": [
       "<Figure size 432x288 with 1 Axes>"
      ]
     },
     "metadata": {
      "needs_background": "light"
     },
     "output_type": "display_data"
    }
   ],
   "source": [
    "trapTemp = 12\n",
    "boltz_pop = boltzman_distribution(Energy_CO, 14)*100\n",
    "plt.plot(boltz_pop, \".-\")\n",
    "boltz_pop, boltz_pop.sum()"
   ]
  },
  {
   "cell_type": "code",
   "execution_count": 22,
   "metadata": {},
   "outputs": [
    {
     "data": {
      "application/vnd.jupyter.widget-view+json": {
       "model_id": "e1a346a388a240c0a44fa0a87d0f7caf",
       "version_major": 2,
       "version_minor": 0
      },
      "text/plain": [
       "Canvas(toolbar=Toolbar(toolitems=[('Home', 'Reset original view', 'home', 'home'), ('Back', 'Back to previous …"
      ]
     },
     "metadata": {},
     "output_type": "display_data"
    },
    {
     "data": {
      "application/vnd.jupyter.widget-view+json": {
       "model_id": "faf64dc2f4c2456f82d7b036d7d9acc4",
       "version_major": 2,
       "version_minor": 0
      },
      "text/plain": [
       "Output()"
      ]
     },
     "metadata": {},
     "output_type": "display_data"
    }
   ],
   "source": [
    "from matplotlib.widgets import SpanSelector\n",
    "\n",
    "%matplotlib widget\n",
    "\n",
    "# Fixing random state for reproducibility\n",
    "np.random.seed(19680801)\n",
    "\n",
    "fig, (ax1, ax2) = plt.subplots(2, figsize=(8, 6))\n",
    "ax1.set(facecolor='#FFFFCC')\n",
    "\n",
    "x = np.arange(0.0, 5.0, 0.01)\n",
    "y = np.sin(2*np.pi*x) + 0.5*np.random.randn(len(x))\n",
    "\n",
    "ax1.plot(x, y, '-')\n",
    "ax1.set_ylim(-2, 2)\n",
    "ax1.set_title('Press left mouse button and drag to test')\n",
    "\n",
    "ax2.set(facecolor='#FFFFCC')\n",
    "line2, = ax2.plot(x, y, '-')\n",
    "\n",
    "widgetOutput = widgets.Output()\n",
    "def onselect(xmin, xmax):\n",
    "    with widgetOutput:\n",
    "        indmin, indmax = np.searchsorted(x, (xmin, xmax))\n",
    "        indmax = min(len(x) - 1, indmax)\n",
    "\n",
    "        thisx = x[indmin:indmax]\n",
    "        thisy = y[indmin:indmax]\n",
    "        line2.set_data(thisx, thisy)\n",
    "        ax2.set_xlim(thisx[0], thisx[-1])\n",
    "        ax2.set_ylim(thisy.min(), thisy.max())\n",
    "        fig.canvas.draw()\n",
    "        \n",
    "span = SpanSelector(ax1, onselect, 'horizontal', useblit=True,\n",
    "                    rectprops=dict(alpha=0.5, facecolor='red'))\n",
    "# Set useblit=True on most backends for enhanced performance.\n",
    "\n",
    "plt.show()\n",
    "\n",
    "display(widgetOutput)"
   ]
  },
  {
   "cell_type": "code",
   "execution_count": 66,
   "metadata": {},
   "outputs": [
    {
     "data": {
      "text/plain": [
       "(array([0, 2, 3, 7, 4, 5, 6, 1], dtype=int64), array([0, 1, 2, 3, 4, 5, 6, 7]))"
      ]
     },
     "execution_count": 66,
     "metadata": {},
     "output_type": "execute_result"
    }
   ],
   "source": [
    "data = np.array([0, 7, 1, 2, 4, 5, 6, 3])\n",
    "sortIndex = np.argsort(data)\n",
    "sortIndex, np.sort(data)"
   ]
  },
  {
   "cell_type": "code",
   "execution_count": 190,
   "metadata": {},
   "outputs": [
    {
     "ename": "ValueError",
     "evalue": "object too deep for desired array",
     "output_type": "error",
     "traceback": [
      "\u001b[1;31m---------------------------------------------------------------------------\u001b[0m",
      "\u001b[1;31mValueError\u001b[0m                                Traceback (most recent call last)",
      "\u001b[1;32m<ipython-input-190-0a3151747e78>\u001b[0m in \u001b[0;36m<module>\u001b[1;34m\u001b[0m\n\u001b[1;32m----> 1\u001b[1;33m \u001b[0mnp\u001b[0m\u001b[1;33m.\u001b[0m\u001b[0msearchsorted\u001b[0m\u001b[1;33m(\u001b[0m\u001b[0mdata\u001b[0m\u001b[1;33m,\u001b[0m \u001b[1;33m(\u001b[0m\u001b[1;36m7\u001b[0m\u001b[1;33m)\u001b[0m\u001b[1;33m)\u001b[0m\u001b[1;33m\u001b[0m\u001b[1;33m\u001b[0m\u001b[0m\n\u001b[0m",
      "\u001b[1;32m<__array_function__ internals>\u001b[0m in \u001b[0;36msearchsorted\u001b[1;34m(*args, **kwargs)\u001b[0m\n",
      "\u001b[1;32mC:\\ProgramData\\Anaconda3\\lib\\site-packages\\numpy\\core\\fromnumeric.py\u001b[0m in \u001b[0;36msearchsorted\u001b[1;34m(a, v, side, sorter)\u001b[0m\n\u001b[0;32m   1339\u001b[0m \u001b[1;33m\u001b[0m\u001b[0m\n\u001b[0;32m   1340\u001b[0m     \"\"\"\n\u001b[1;32m-> 1341\u001b[1;33m     \u001b[1;32mreturn\u001b[0m \u001b[0m_wrapfunc\u001b[0m\u001b[1;33m(\u001b[0m\u001b[0ma\u001b[0m\u001b[1;33m,\u001b[0m \u001b[1;34m'searchsorted'\u001b[0m\u001b[1;33m,\u001b[0m \u001b[0mv\u001b[0m\u001b[1;33m,\u001b[0m \u001b[0mside\u001b[0m\u001b[1;33m=\u001b[0m\u001b[0mside\u001b[0m\u001b[1;33m,\u001b[0m \u001b[0msorter\u001b[0m\u001b[1;33m=\u001b[0m\u001b[0msorter\u001b[0m\u001b[1;33m)\u001b[0m\u001b[1;33m\u001b[0m\u001b[1;33m\u001b[0m\u001b[0m\n\u001b[0m\u001b[0;32m   1342\u001b[0m \u001b[1;33m\u001b[0m\u001b[0m\n\u001b[0;32m   1343\u001b[0m \u001b[1;33m\u001b[0m\u001b[0m\n",
      "\u001b[1;32mC:\\ProgramData\\Anaconda3\\lib\\site-packages\\numpy\\core\\fromnumeric.py\u001b[0m in \u001b[0;36m_wrapfunc\u001b[1;34m(obj, method, *args, **kwds)\u001b[0m\n\u001b[0;32m     59\u001b[0m \u001b[1;33m\u001b[0m\u001b[0m\n\u001b[0;32m     60\u001b[0m     \u001b[1;32mtry\u001b[0m\u001b[1;33m:\u001b[0m\u001b[1;33m\u001b[0m\u001b[1;33m\u001b[0m\u001b[0m\n\u001b[1;32m---> 61\u001b[1;33m         \u001b[1;32mreturn\u001b[0m \u001b[0mbound\u001b[0m\u001b[1;33m(\u001b[0m\u001b[1;33m*\u001b[0m\u001b[0margs\u001b[0m\u001b[1;33m,\u001b[0m \u001b[1;33m**\u001b[0m\u001b[0mkwds\u001b[0m\u001b[1;33m)\u001b[0m\u001b[1;33m\u001b[0m\u001b[1;33m\u001b[0m\u001b[0m\n\u001b[0m\u001b[0;32m     62\u001b[0m     \u001b[1;32mexcept\u001b[0m \u001b[0mTypeError\u001b[0m\u001b[1;33m:\u001b[0m\u001b[1;33m\u001b[0m\u001b[1;33m\u001b[0m\u001b[0m\n\u001b[0;32m     63\u001b[0m         \u001b[1;31m# A TypeError occurs if the object does have such a method in its\u001b[0m\u001b[1;33m\u001b[0m\u001b[1;33m\u001b[0m\u001b[1;33m\u001b[0m\u001b[0m\n",
      "\u001b[1;31mValueError\u001b[0m: object too deep for desired array"
     ]
    }
   ],
   "source": [
    "np.searchsorted(data, (7))"
   ]
  },
  {
   "cell_type": "code",
   "execution_count": 358,
   "metadata": {},
   "outputs": [
    {
     "data": {
      "text/plain": [
       "array([[ 0,  1,  2,  3,  4,  5,  6,  7],\n",
       "       [10,  1,  2,  5,  4,  3,  6,  7]])"
      ]
     },
     "execution_count": 358,
     "metadata": {},
     "output_type": "execute_result"
    }
   ],
   "source": [
    "data = np.array([\n",
    "    [0, 7, 1, 2, 4, 5, 6, 3], \n",
    "    [10, 7, 1, 2, 4, 3, 6, 5]\n",
    "])\n",
    "\n",
    "sorted_data = np.take(data, np.argsort(data[0]), axis=1)\n",
    "sorted_data"
   ]
  },
  {
   "cell_type": "code",
   "execution_count": 359,
   "metadata": {},
   "outputs": [
    {
     "data": {
      "text/plain": [
       "1"
      ]
     },
     "execution_count": 359,
     "metadata": {},
     "output_type": "execute_result"
    }
   ],
   "source": [
    "searchindex = np.searchsorted(data[0], (1))\n",
    "searchindex"
   ]
  },
  {
   "cell_type": "code",
   "execution_count": 185,
   "metadata": {},
   "outputs": [],
   "source": [
    "from scipy.special import voigt_profile as voigt\n",
    "\n",
    "def gaussian_profile(x, A, mu, sigma):\n",
    "    x = x-mu\n",
    "    lineshape = voigt(x, sigma, 0)\n",
    "    norm = A/lineshape.max()\n",
    "    return norm*lineshape\n",
    "\n",
    "def lorentz_profile(x, A, mu, gamma):\n",
    "    x = x-mu\n",
    "    lineshape = voigt(x, 0, gamma)\n",
    "    norm = A/lineshape.max()\n",
    "    return norm*lineshape\n",
    "\n",
    "def voigt_profile(x, A, mu, sigma, gamma):\n",
    "    x = x-mu\n",
    "    lineshape = voigt(x, sigma, gamma)\n",
    "    norm = A/lineshape.max()\n",
    "    return norm*lineshape\n",
    "\n",
    "def fwhm_voigt(sigma, gamma):\n",
    "    fwhm_gauss = 2*sigma*np.sqrt(2*np.log(2))\n",
    "    fwhm_lorentz = 2*gamma\n",
    "    \n",
    "    return 0.5436*fwhm_lorentz + np.sqrt( 0.2166*fwhm_lorentz**2 + fwhm_gauss**2 )"
   ]
  },
  {
   "cell_type": "code",
   "execution_count": 197,
   "metadata": {},
   "outputs": [
    {
     "name": "stdout",
     "output_type": "stream",
     "text": [
      "voigt_fwhm=82.33\n"
     ]
    },
    {
     "data": {
      "application/vnd.jupyter.widget-view+json": {
       "model_id": "177b389c26464eeeb17f48d8b7c81496",
       "version_major": 2,
       "version_minor": 0
      },
      "text/plain": [
       "Canvas(toolbar=Toolbar(toolitems=[('Home', 'Reset original view', 'home', 'home'), ('Back', 'Back to previous …"
      ]
     },
     "metadata": {},
     "output_type": "display_data"
    }
   ],
   "source": [
    "A = 20\n",
    "mu = 100\n",
    "fwhm = 50\n",
    "\n",
    "sigma = fwhm/(2*np.sqrt(2*np.log(2)))\n",
    "gamma = fwhm/2\n",
    "\n",
    "voigt_fwhm = fwhm_voigt(sigma, gamma)\n",
    "print(f\"{voigt_fwhm=:.2f}\")\n",
    "\n",
    "x = np.linspace(0, 5*mu, 1000)\n",
    "gauss_lineshape = gaussian_profile(x, A, mu, sigma)\n",
    "lorentz_lineshape = lorentz_profile(x, A, mu, gamma)\n",
    "voigt_lineshape = voigt_profile(x, A, mu, sigma, gamma)\n",
    "\n",
    "%matplotlib widget\n",
    "fig, ax = plt.subplots()\n",
    "\n",
    "ax.plot(x, gauss_lineshape, label=f\"G(x;$A, \\mu, \\sigma$); $\\sigma$={sigma:.1f}\")\n",
    "ax.plot(x, lorentz_lineshape, label=f\"L(x;$A, \\mu, \\gamma$); $\\gamma$={gamma:.1f}\")\n",
    "ax.plot(x, voigt_lineshape, label=f\"V(x;$\\sigma, \\gamma$); fwhm={voigt_fwhm:.2f}\")\n",
    "\n",
    "ax.legend(title=f\"{A=:.1f}, $\\mu$={mu:.2f}\").set_draggable(False)"
   ]
  },
  {
   "cell_type": "code",
   "execution_count": 138,
   "metadata": {},
   "outputs": [
    {
     "data": {
      "application/vnd.jupyter.widget-view+json": {
       "model_id": "0217deaea41e433bae79cd1ae8e30ed1",
       "version_major": 2,
       "version_minor": 0
      },
      "text/plain": [
       "Canvas(toolbar=Toolbar(toolitems=[('Home', 'Reset original view', 'home', 'home'), ('Back', 'Back to previous …"
      ]
     },
     "metadata": {},
     "output_type": "display_data"
    },
    {
     "data": {
      "text/plain": [
       "[<matplotlib.lines.Line2D at 0x12d180c5760>]"
      ]
     },
     "execution_count": 138,
     "metadata": {},
     "output_type": "execute_result"
    }
   ],
   "source": [
    "%matplotlib widget\n",
    "\n",
    "mu = 50\n",
    "sigma = 20\n",
    "gamma = 20\n",
    "\n",
    "x = np.linspace(0, 100, 100)\n",
    "\n",
    "gauss_lineshape = voigt(x, sigma, 0)\n",
    "lorentz_lineshape = voigt(x, 0, gamma)\n",
    "voigt_lineshape = voigt(x, sigma, gamma)\n",
    "\n",
    "x_gauss = (x-mu)/sigma\n",
    "y_gauss = 1/(sigma*np.sqrt(2*np.pi)) * np.exp(-0.5*x_gauss**2)\n",
    "\n",
    "x_lorrentz = (x-mu)/gamma\n",
    "y_lorrentz = (1/(gamma*np.pi))/(1+x_lorrentz**2)\n",
    "\n",
    "plt.plot(x+mu, gauss_lineshape, \"C0\")\n",
    "plt.plot(x, y_gauss, \"C0.\")\n",
    "\n",
    "plt.plot(x+mu, lorentz_lineshape, \"C1\")\n",
    "plt.plot(x, y_lorrentz, \"C1.\")\n",
    "\n",
    "plt.plot(x-mu, voigt_lineshape, \"C2\")"
   ]
  },
  {
   "cell_type": "code",
   "execution_count": 167,
   "metadata": {},
   "outputs": [
    {
     "data": {
      "application/vnd.jupyter.widget-view+json": {
       "model_id": "a270c7161f194808904e02fc28271e29",
       "version_major": 2,
       "version_minor": 0
      },
      "text/plain": [
       "Canvas(toolbar=Toolbar(toolitems=[('Home', 'Reset original view', 'home', 'home'), ('Back', 'Back to previous …"
      ]
     },
     "metadata": {},
     "output_type": "display_data"
    },
    {
     "data": {
      "text/plain": [
       "[<matplotlib.lines.Line2D at 0x12d1dc3ddf0>]"
      ]
     },
     "execution_count": 167,
     "metadata": {},
     "output_type": "execute_result"
    }
   ],
   "source": [
    "%matplotlib widget\n",
    "\n",
    "mu = 50\n",
    "sigma = 20\n",
    "gamma = 20\n",
    "\n",
    "x = np.linspace(-100, 100, 100)\n",
    "\n",
    "A = 50\n",
    "gauss_lineshape = voigt(x, sigma, 0)\n",
    "norm_gauss = A/gauss_lineshape.max()\n",
    "\n",
    "lorentz_lineshape = voigt(x, 0, gamma)\n",
    "norm_lorentz = A/lorentz_lineshape.max()\n",
    "\n",
    "voigt_lineshape = voigt(x, sigma, gamma)\n",
    "norm_voigt = A/voigt_lineshape.max()\n",
    "\n",
    "plt.plot(x+mu, norm_gauss*gauss_lineshape, \"C0\")\n",
    "plt.plot(x+mu, norm_lorentz*lorentz_lineshape, \"C1\")\n",
    "plt.plot(x+mu, norm_voigt*voigt_lineshape, \"C2\")"
   ]
  },
  {
   "cell_type": "code",
   "execution_count": 156,
   "metadata": {},
   "outputs": [
    {
     "data": {
      "text/plain": [
       "array([ 0.        ,  0.4040404 ,  0.80808081,  1.21212121,  1.61616162,\n",
       "        2.02020202,  2.42424242,  2.82828283,  3.23232323,  3.63636364,\n",
       "        4.04040404,  4.44444444,  4.84848485,  5.25252525,  5.65656566,\n",
       "        6.06060606,  6.46464646,  6.86868687,  7.27272727,  7.67676768,\n",
       "        8.08080808,  8.48484848,  8.88888889,  9.29292929,  9.6969697 ,\n",
       "       10.1010101 , 10.50505051, 10.90909091, 11.31313131, 11.71717172,\n",
       "       12.12121212, 12.52525253, 12.92929293, 13.33333333, 13.73737374,\n",
       "       14.14141414, 14.54545455, 14.94949495, 15.35353535, 15.75757576,\n",
       "       16.16161616, 16.56565657, 16.96969697, 17.37373737, 17.77777778,\n",
       "       18.18181818, 18.58585859, 18.98989899, 19.39393939, 19.7979798 ,\n",
       "       20.2020202 , 20.60606061, 21.01010101, 21.41414141, 21.81818182,\n",
       "       22.22222222, 22.62626263, 23.03030303, 23.43434343, 23.83838384,\n",
       "       24.24242424, 24.64646465, 25.05050505, 25.45454545, 25.85858586,\n",
       "       26.26262626, 26.66666667, 27.07070707, 27.47474747, 27.87878788,\n",
       "       28.28282828, 28.68686869, 29.09090909, 29.49494949, 29.8989899 ,\n",
       "       30.3030303 , 30.70707071, 31.11111111, 31.51515152, 31.91919192,\n",
       "       32.32323232, 32.72727273, 33.13131313, 33.53535354, 33.93939394,\n",
       "       34.34343434, 34.74747475, 35.15151515, 35.55555556, 35.95959596,\n",
       "       36.36363636, 36.76767677, 37.17171717, 37.57575758, 37.97979798,\n",
       "       38.38383838, 38.78787879, 39.19191919, 39.5959596 , 40.        ])"
      ]
     },
     "execution_count": 156,
     "metadata": {},
     "output_type": "execute_result"
    }
   ],
   "source": [
    "np.linspace(0, 2*mu, 100)"
   ]
  },
  {
   "cell_type": "code",
   "execution_count": null,
   "metadata": {},
   "outputs": [],
   "source": []
  }
 ],
 "metadata": {
  "kernelspec": {
   "display_name": "Python 3",
   "language": "python",
   "name": "python3"
  },
  "language_info": {
   "codemirror_mode": {
    "name": "ipython",
    "version": 3
   },
   "file_extension": ".py",
   "mimetype": "text/x-python",
   "name": "python",
   "nbconvert_exporter": "python",
   "pygments_lexer": "ipython3",
   "version": "3.8.3"
  }
 },
 "nbformat": 4,
 "nbformat_minor": 4
}
