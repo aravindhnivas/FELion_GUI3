{
 "cells": [
  {
   "cell_type": "code",
   "execution_count": 1,
   "metadata": {},
   "outputs": [],
   "source": [
    "import os\n",
    "import ctypes\n",
    "import numpy as np\n",
    "import matplotlib.pyplot as plt\n",
    "from pathlib import Path as pt\n",
    "from ipywidgets import widgets\n",
    "import time as t\n",
    "from numba import jit\n",
    "\n",
    "#%matplotlib qt5\n",
    "%matplotlib widget"
   ]
  },
  {
   "cell_type": "code",
   "execution_count": 2,
   "metadata": {},
   "outputs": [],
   "source": [
    "import numpy as np\n",
    "import Kinetic_Simualtion\n",
    "from Class_Definitions import Ions\n",
    "from Class_Definitions import Conditions\n",
    "from Class_Definitions import Ratecoefficients\n",
    "from Class_Definitions import Time\n",
    "from Class_Definitions import Fonts\n",
    "from Class_Definitions import Rates\n"
   ]
  },
  {
   "cell_type": "code",
   "execution_count": 3,
   "metadata": {},
   "outputs": [],
   "source": [
    "I = Ions()\n",
    "CD = Conditions()\n",
    "R = Ratecoefficients()\n",
    "RA = Rates()\n",
    "T = Time()"
   ]
  },
  {
   "cell_type": "code",
   "execution_count": 4,
   "metadata": {},
   "outputs": [],
   "source": [
    "conditions = []\n",
    "def simulation_NoVariation():\n",
    "    global conditions\n",
    "    \n",
    "    density = 5e14\n",
    "    a = 0.5\n",
    "    P_THz = 2e-5\n",
    "    TrapTime = 600\n",
    "    Temp = 5.7\n",
    "    TIon = 12.3\n",
    "    mIon = 14\n",
    "    \n",
    "    LIICG_signal = np.zeros(1, dtype=float)\n",
    "    conditions = [P_THz, 0.5, TrapTime, Temp, density, a, TIon, mIon]\n",
    "    # conditions[P_THZ[W], branching ratio CD_0/CD_1 backward reaction, trap time [ms], trap temp[K], He density [cm^-3], a]\n",
    "    Kinetic_Simualtion.simulation(conditions, RA, R, CD, I, T, 1)\n",
    "    \n",
    "    LIICG_signal[0] = I.LIICG\n",
    "    print(f\"{LIICG_signal=}\")\n"
   ]
  },
  {
   "cell_type": "code",
   "execution_count": 5,
   "metadata": {
    "tags": []
   },
   "outputs": [
    {
     "name": "stdout",
     "output_type": "stream",
     "text": [
      "R.B_10=1.0860637725122443e+19, R.B_10=1.0860637725122443e+19\n",
      "sigma=304445.2999049122, gamma=219134.66179497942, norm=8.008104937907556e-07, 1.0684865111459952e-15\n",
      "34813.334735209966\n",
      "B01: 3.48e+04, B10: 1.16e+04\n",
      "11604.444911736655\n",
      "0.000624\n",
      "0.24000000000000002\n",
      "0.12000000000000001\n",
      "0.725\n",
      "0.335\n",
      "0.9500000000000002\n",
      "1.42e+03, 2.16e+04\n",
      "9.19e-01, 1.73e+04\n",
      "5.24e+01, 6.51e+04\n",
      "LIICG_signal=array([22.47105012])\n",
      "Wall time: 3.57 s\n"
     ]
    }
   ],
   "source": [
    "%%time\n",
    "simulation_NoVariation()"
   ]
  },
  {
   "cell_type": "code",
   "execution_count": 6,
   "metadata": {
    "tags": []
   },
   "outputs": [
    {
     "name": "stdout",
     "output_type": "stream",
     "text": [
      "RA.Rate_q_01=1.42e+03, RA.Rate_q_10=2.16e+04\n"
     ]
    },
    {
     "data": {
      "text/plain": [
       "(None, 4.3242e-11)"
      ]
     },
     "execution_count": 6,
     "metadata": {},
     "output_type": "execute_result"
    }
   ],
   "source": [
    "Energy = [0, 15.127861, 45.373851, 90.718526, 151.132755, 226.577764]  # typ in energy levels in cm^-1 (CDMS)\n",
    "g = [1, 3, 5, 7, 9, 11]\n",
    "\n",
    "KT  = 0.695035*CD.temp\n",
    "R.q_10 = 1*4.3242e-11\n",
    "R.q_01 = R.q_10 * (g[1]*np.exp(-Energy[1]/KT)) / (g[0]*np.exp(-Energy[0]/KT))\n",
    "\n",
    "RA.Rate_q_01 = R.q_01*CD.n_He\n",
    "RA.Rate_q_10 = R.q_10*CD.n_He\n",
    "print(f\"{RA.Rate_q_01=:.2e}, {RA.Rate_q_10=:.2e}\"), R.q_10"
   ]
  },
  {
   "cell_type": "code",
   "execution_count": 7,
   "metadata": {},
   "outputs": [
    {
     "data": {
      "text/plain": [
       "(0.06588029831452646, 1.0)"
      ]
     },
     "execution_count": 7,
     "metadata": {},
     "output_type": "execute_result"
    }
   ],
   "source": [
    "g[1]*np.exp(-Energy[1]/KT), g[0]*np.exp(-Energy[0]/KT)"
   ]
  },
  {
   "cell_type": "code",
   "execution_count": 8,
   "metadata": {},
   "outputs": [
    {
     "data": {
      "text/plain": [
       "(0.02196009943817549, 15.127861, 3.9616995, 3.9616995, 3.9616995)"
      ]
     },
     "execution_count": 8,
     "metadata": {},
     "output_type": "execute_result"
    }
   ],
   "source": [
    "np.exp(-Energy[1]/KT), Energy[1], KT, 0.695035*CD.temp, 0.695035*5.7"
   ]
  },
  {
   "cell_type": "code",
   "execution_count": 9,
   "metadata": {},
   "outputs": [
    {
     "data": {
      "text/plain": [
       "([array([938.14493343, 938.14380785, 938.14268626, ..., 825.92374172,\n",
       "         825.92293793, 825.92213415]),\n",
       "  array([61.80526808, 61.8052308 , 61.80518955, ..., 54.41306086,\n",
       "         54.41300791, 54.41295496]),\n",
       "  array([0.04979775, 0.04979775, 0.04979773, ..., 0.04384164, 0.0438416 ,\n",
       "         0.04384155]),\n",
       "  array([0.00000000e+00, 1.16285708e-03, 2.32570663e-03, ...,\n",
       "         9.96910422e+01, 9.96916322e+01, 9.96922223e+01]),\n",
       "  array([0.00000000e+00, 0.00000000e+00, 4.21535692e-09, ...,\n",
       "         1.99283129e+01, 1.99285796e+01, 1.99288463e+01])],\n",
       " (120000,))"
      ]
     },
     "execution_count": 9,
     "metadata": {},
     "output_type": "execute_result"
    }
   ],
   "source": [
    "Noff = [I.CD_0_off, I.CD_1_off, I.CD_2_off, I.CDHe_off, I.CDHe2_off]\n",
    "Non = [I.CD_0_on, I.CD_1_on, I.CD_2_on, I.CDHe_on, I.CDHe2_on]\n",
    "Noff, Non[0].shape"
   ]
  },
  {
   "cell_type": "code",
   "execution_count": 10,
   "metadata": {},
   "outputs": [
    {
     "data": {
      "application/vnd.jupyter.widget-view+json": {
       "model_id": "844759d9cf7a4c6faa7db72b8afcf3e6",
       "version_major": 2,
       "version_minor": 0
      },
      "text/plain": [
       "Canvas(toolbar=Toolbar(toolitems=[('Home', 'Reset original view', 'home', 'home'), ('Back', 'Back to previous …"
      ]
     },
     "metadata": {},
     "output_type": "display_data"
    }
   ],
   "source": [
    "mol = \"CD\"\n",
    "tag = \"He\"\n",
    "\n",
    "fig, ax = plt.subplots()\n",
    "\n",
    "lg = [f\"{mol}(0)\", f\"{mol}(1)\", f\"{mol}(2)\", f\"{mol}{tag}\", f\"{mol}{tag}2\"]\n",
    "c = 0\n",
    "\n",
    "x = np.linspace(0, 600, 120000)\n",
    "for off, on in zip(Noff, Non):\n",
    "    ax.plot(x, off, f\"C{c}-\", label=f\"{lg[c]}\")\n",
    "    ax.plot(x, on, f\"C{c}--\")\n",
    "    c += 1\n",
    "    \n",
    "ax.set_yscale(\"log\")\n",
    "ax.legend(title=\"- Off, -- On\")\n",
    "plt.show()\n"
   ]
  },
  {
   "cell_type": "code",
   "execution_count": 5,
   "metadata": {},
   "outputs": [
    {
     "data": {
      "text/plain": [
       "1.0545718176461565e-34"
      ]
     },
     "execution_count": 5,
     "metadata": {},
     "output_type": "execute_result"
    }
   ],
   "source": [
    "from scipy.constants import Boltzmann as k_boltzmann, speed_of_light as C, Planck, m_p\n",
    "from scipy.special import wofz\n",
    "epsilon = 8.854e-12\n",
    "trap_area = 5.5e-5\n",
    "reduced_plank = Planck / (2*np.pi)\n",
    "reduced_plank"
   ]
  },
  {
   "cell_type": "code",
   "execution_count": 65,
   "metadata": {
    "tags": []
   },
   "outputs": [
    {
     "name": "stdout",
     "output_type": "stream",
     "text": [
      "303365.7332556174 303365.7332556174\n",
      "gamma=1.547e+05, 2.191e+05\n"
     ]
    },
    {
     "data": {
      "text/plain": [
       "9.136475856579267e-07"
      ]
     },
     "execution_count": 65,
     "metadata": {},
     "output_type": "execute_result"
    }
   ],
   "source": [
    "gauss_fwhm = lambda freq, mass, temp: freq * np.sqrt( (8*k_boltzmann*temp*np.log(2)) / (m_p*mass*C**2))\n",
    "lorrentz_fwhm = lambda dipole, power: ( dipole*3.33564e-30 ) /( reduced_plank*np.pi*np.sqrt(C*epsilon*trap_area) ) * np.sqrt(power)\n",
    "\n",
    "faddava_func = lambda lorrentz, gaussian: 1j*lorrentz/(gaussian*np.sqrt(2))\n",
    "voigt = lambda lorrentz, gaussian: (wofz(faddava_func(lorrentz, gaussian)) / (np.sqrt(2*np.pi) * gaussian)).real\n",
    "\n",
    "freq = 453521850000\n",
    "sigma = gauss_fwhm(freq, conditions[7], conditions[6])\n",
    "print(sigma, freq*np.sqrt(8*conditions[6]*k_boltzmann*np.log(2)/C**2/conditions[7]/m_p))\n",
    "\n",
    "gamma = lorrentz_fwhm(1.313, conditions[0])\n",
    "print(f\"{gamma=:.3e}, {4.9e7*np.sqrt(conditions[0]):.3e}\" )\n",
    "norm = voigt(gamma, sigma)\n",
    "norm"
   ]
  },
  {
   "cell_type": "code",
   "execution_count": 19,
   "metadata": {},
   "outputs": [
    {
     "data": {
      "text/plain": [
       "5e-06"
      ]
     },
     "execution_count": 19,
     "metadata": {},
     "output_type": "execute_result"
    }
   ],
   "source": [
    "T.num_steps\n",
    "T.step\n",
    "T.timestep"
   ]
  },
  {
   "cell_type": "code",
   "execution_count": 20,
   "metadata": {},
   "outputs": [],
   "source": [
    "T.step = 5e-3      # set timestep in ms\n",
    "T.timestep = T.step/1000  # converting step in s\n",
    "T.num_steps = int(CD.time/T.step)  # number of steps for the simulation\n"
   ]
  },
  {
   "cell_type": "code",
   "execution_count": 22,
   "metadata": {},
   "outputs": [
    {
     "data": {
      "text/plain": [
       "120000"
      ]
     },
     "execution_count": 22,
     "metadata": {},
     "output_type": "execute_result"
    }
   ],
   "source": [
    "int(CD.time/T.step)"
   ]
  },
  {
   "cell_type": "code",
   "execution_count": 30,
   "metadata": {},
   "outputs": [
    {
     "data": {
      "application/vnd.jupyter.widget-view+json": {
       "model_id": "245540e0448a40b79536ee2423492f8f",
       "version_major": 2,
       "version_minor": 0
      },
      "text/plain": [
       "Canvas(toolbar=Toolbar(toolitems=[(&#39;Home&#39;, &#39;Reset original view&#39;, &#39;home&#39;, &#39;home&#39;), (&#39;Back&#39;, &#39;Back to previous …"
      ]
     },
     "metadata": {},
     "output_type": "display_data"
    }
   ],
   "source": [
    "time = np.linspace(0, 0.6, T.num_steps)\n",
    "yoff = [I.CD_0_off, I.CD_1_off, I.CD_2_off, I.CDHe_off, I.CDHe2_off]\n",
    "yoff = np.array(yoff)\n",
    "\n",
    "fig, ax = plt.subplots()\n",
    "ax.plot(time, yoff.T)\n",
    "plt.show()"
   ]
  },
  {
   "cell_type": "code",
   "execution_count": 23,
   "metadata": {},
   "outputs": [
    {
     "data": {
      "text/plain": [
       "(120000,)"
      ]
     },
     "execution_count": 23,
     "metadata": {},
     "output_type": "execute_result"
    }
   ],
   "source": [
    "I.CD_0_off.shape"
   ]
  },
  {
   "cell_type": "code",
   "execution_count": 32,
   "metadata": {},
   "outputs": [
    {
     "data": {
      "text/plain": [
       "array([2, 4, 6])"
      ]
     },
     "execution_count": 32,
     "metadata": {},
     "output_type": "execute_result"
    }
   ],
   "source": [
    "np.array([1, 2, 3])+[1, 2, 3]"
   ]
  },
  {
   "cell_type": "code",
   "execution_count": 34,
   "metadata": {},
   "outputs": [
    {
     "data": {
      "text/plain": [
       "120000.0"
      ]
     },
     "execution_count": 34,
     "metadata": {},
     "output_type": "execute_result"
    }
   ],
   "source": [
    "600/5e-3R"
   ]
  },
  {
   "cell_type": "code",
   "execution_count": null,
   "metadata": {},
   "outputs": [],
   "source": []
  },
  {
   "cell_type": "code",
   "execution_count": null,
   "metadata": {},
   "outputs": [],
   "source": []
  },
  {
   "cell_type": "code",
   "execution_count": null,
   "metadata": {},
   "outputs": [],
   "source": []
  }
 ],
 "metadata": {
  "kernelspec": {
   "display_name": "Python 3",
   "language": "python",
   "name": "python3"
  },
  "language_info": {
   "codemirror_mode": {
    "name": "ipython",
    "version": 3
   },
   "file_extension": ".py",
   "mimetype": "text/x-python",
   "name": "python",
   "nbconvert_exporter": "python",
   "pygments_lexer": "ipython3",
   "version": "3.8.3"
  }
 },
 "nbformat": 4,
 "nbformat_minor": 4
}
