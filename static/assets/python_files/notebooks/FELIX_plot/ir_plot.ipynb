{
 "cells": [
  {
   "cell_type": "code",
   "execution_count": 120,
   "metadata": {},
   "outputs": [],
   "source": [
    "import os\n",
    "from pathlib import Path as pt\n",
    "import numpy as np\n",
    "import matplotlib.pyplot as plt\n",
    "from matplotlib.ticker import AutoMinorLocator"
   ]
  },
  {
   "cell_type": "code",
   "execution_count": 2,
   "metadata": {},
   "outputs": [],
   "source": [
    "%matplotlib widget\n",
    "plt.rc('font', family='serif')"
   ]
  },
  {
   "cell_type": "code",
   "execution_count": 148,
   "metadata": {
    "jupyter": {
     "source_hidden": true
    }
   },
   "outputs": [],
   "source": [
    "def generateNGaussian(N):\n",
    "\n",
    "    gaussfn = lambda n: f\"A{n}*(np.exp((-1.0/2.0)*(((x-cen{n})/sigma{n})**2)))+\"\n",
    "    _gfn, _args = \"\", \"x, \"\n",
    "    for i in range(int(N)): \n",
    "        _gfn += gaussfn(i)\n",
    "        _args += f\"cen{i}, A{i}, sigma{i}, \"\n",
    "    exec(f\"gfn_ = lambda {_args.strip()[:-1]}: {_gfn.strip()[:-1]}\")\n",
    "    \n",
    "    return locals()[\"gfn_\"]\n",
    "\n",
    "def computeNGaussian(wn, inten, sigma=5):\n",
    "    \n",
    "    _args = {}\n",
    "    N = len(wn)\n",
    "    gfn = generateNGaussian(N)\n",
    "    \n",
    "    i = 0\n",
    "    for x, y in zip(wn, inten):\n",
    "        _args[f\"cen{i}\"] = x\n",
    "        _args[f\"A{i}\"] = y\n",
    "        _args[f\"sigma{i}\"] = sigma\n",
    "        i += 1\n",
    "    \n",
    "    full_wn = np.linspace(wn.min()-100, wn.max()+100, 5000)\n",
    "    full_inten = gfn(full_wn, **_args)\n",
    "    \n",
    "    return full_wn, full_inten"
   ]
  },
  {
   "cell_type": "code",
   "execution_count": 220,
   "metadata": {},
   "outputs": [],
   "source": [
    "location = pt(\"D:\\SurfDrive\\FELIX_Measurements\\hydroxylamine\\IR_calculation\")\n",
    "files = list(location.glob(\"*.txt\"))"
   ]
  },
  {
   "cell_type": "code",
   "execution_count": 292,
   "metadata": {},
   "outputs": [],
   "source": [
    "def exp_plot(filename, ls, ax, ax1, fig):\n",
    "          \n",
    "    with open(filename, \"r\") as f:\n",
    "        readfile = f.readlines()\n",
    "    legendName = readfile[0].split(\" \")[-1].split(\"\\n\")[0]\n",
    "\n",
    "    wn, inten, wn_anh, inten_anh = np.genfromtxt(filename).T\n",
    "\n",
    "    #wn_sim, inten_sim = computeNGaussian(wn, inten, 10)\n",
    "    #ax.plot(wn_sim, inten_sim, \"k\", label=\"Harmonic MP2(full)/cc-PVTZ\")\n",
    "\n",
    "    wn_sim_anh, inten_sim_anh = computeNGaussian(wn_anh, inten_anh, 10)\n",
    "    ax.plot(wn_sim_anh, inten_sim_anh, f\"k{ls}\", label=legendName)\n",
    "    ax1.plot(wn_sim_anh, inten_sim_anh, f\"k{ls}\", label=legendName)\n",
    "\n",
    "\n",
    "    #ax.set(xlabel=\"Wavenumber $cm^{-1}$\", ylabel=\"Intensity (km/mol)\")\n",
    "    ax.legend()\n",
    "    ax1.yaxis.tick_right()\n",
    "    plt.suptitle(f\"Anharm. MP2(full)/cc-PVTZ level\")\n",
    "    \n",
    "    return ax, ax1"
   ]
  },
  {
   "cell_type": "code",
   "execution_count": null,
   "metadata": {},
   "outputs": [],
   "source": []
  },
  {
   "cell_type": "code",
   "execution_count": 293,
   "metadata": {},
   "outputs": [
    {
     "data": {
      "application/vnd.jupyter.widget-view+json": {
       "model_id": "bcd3dfed1a4c4e07a72125e896ebcb33",
       "version_major": 2,
       "version_minor": 0
      },
      "text/plain": [
       "Canvas(toolbar=Toolbar(toolitems=[('Home', 'Reset original view', 'home', 'home'), ('Back', 'Back to previous …"
      ]
     },
     "metadata": {},
     "output_type": "display_data"
    },
    {
     "data": {
      "text/plain": [
       "Text(0.05, 0.5, 'Intensity ($km/mol$)')"
      ]
     },
     "execution_count": 293,
     "metadata": {},
     "output_type": "execute_result"
    }
   ],
   "source": [
    "grid = {\"hspace\":0.05, \"wspace\":0.07, \"width_ratios\":[1, 0.5]}\n",
    "fig, (ax, ax1) = plt.subplots(ncols=2, dpi=100, gridspec_kw=grid)\n",
    "\n",
    "ls = (\"-\", \"--\")\n",
    "for i, filename in enumerate(files[1:]):\n",
    "    ax, ax1 = exp_plot(filename, ls[i], ax, ax1, fig)\n",
    "\n",
    "# Set common labels\n",
    "fig.text(0.5, 0.01, 'Wavenumber $cm^{-1}$', ha='center', va='center')\n",
    "fig.text(0.05, 0.5, 'Intensity ($km/mol$)', ha='center', va='center', rotation='vertical')"
   ]
  },
  {
   "cell_type": "code",
   "execution_count": 147,
   "metadata": {},
   "outputs": [],
   "source": []
  },
  {
   "cell_type": "code",
   "execution_count": 215,
   "metadata": {},
   "outputs": [],
   "source": []
  },
  {
   "cell_type": "code",
   "execution_count": 294,
   "metadata": {},
   "outputs": [
    {
     "data": {
      "application/vnd.jupyter.widget-view+json": {
       "model_id": "d9cec8336a664f4b888ee9794d4f4c26",
       "version_major": 2,
       "version_minor": 0
      },
      "text/plain": [
       "Canvas(toolbar=Toolbar(toolitems=[('Home', 'Reset original view', 'home', 'home'), ('Back', 'Back to previous …"
      ]
     },
     "metadata": {},
     "output_type": "display_data"
    },
    {
     "data": {
      "text/plain": [
       "Text(0.05, 0.5, 'Intensity ($km/mol$)')"
      ]
     },
     "execution_count": 294,
     "metadata": {},
     "output_type": "execute_result"
    }
   ],
   "source": [
    "fig1, (ax2, ax3) = plt.subplots(ncols=2, dpi=100, gridspec_kw=grid)\n",
    "ax2, ax3 = exp_plot(files[0], \"-\", ax2, ax3, fig1)\n",
    "# Set common labels\n",
    "fig1.text(0.5, 0.01, 'Wavenumber $cm^{-1}$', ha='center', va='center')\n",
    "fig1.text(0.05, 0.5, 'Intensity ($km/mol$)', ha='center', va='center', rotation='vertical')"
   ]
  },
  {
   "cell_type": "code",
   "execution_count": 295,
   "metadata": {},
   "outputs": [],
   "source": [
    "fig.savefig(location/f\"report/images/NH2OH2+.jpg\")\n",
    "fig.savefig(location/f\"report/images/NH2OH2.pdf\")\n",
    "\n",
    "fig1.savefig(location/f\"report/images/NH2OH+.jpg\")\n",
    "fig1.savefig(location/f\"report/images/NH2OH.pdf\")"
   ]
  },
  {
   "cell_type": "code",
   "execution_count": 281,
   "metadata": {},
   "outputs": [],
   "source": [
    "plt.close(\"all\")"
   ]
  },
  {
   "cell_type": "code",
   "execution_count": null,
   "metadata": {},
   "outputs": [],
   "source": []
  },
  {
   "cell_type": "code",
   "execution_count": null,
   "metadata": {},
   "outputs": [],
   "source": []
  },
  {
   "cell_type": "code",
   "execution_count": null,
   "metadata": {},
   "outputs": [],
   "source": []
  },
  {
   "cell_type": "code",
   "execution_count": null,
   "metadata": {},
   "outputs": [],
   "source": []
  }
 ],
 "metadata": {
  "kernelspec": {
   "display_name": "Python 3",
   "language": "python",
   "name": "python3"
  },
  "language_info": {
   "codemirror_mode": {
    "name": "ipython",
    "version": 3
   },
   "file_extension": ".py",
   "mimetype": "text/x-python",
   "name": "python",
   "nbconvert_exporter": "python",
   "pygments_lexer": "ipython3",
   "version": "3.7.4"
  }
 },
 "nbformat": 4,
 "nbformat_minor": 4
}
