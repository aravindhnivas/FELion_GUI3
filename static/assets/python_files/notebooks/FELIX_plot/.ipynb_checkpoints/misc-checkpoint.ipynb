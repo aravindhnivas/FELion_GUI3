{
 "cells": [
  {
   "cell_type": "code",
   "execution_count": 1,
   "metadata": {},
   "outputs": [],
   "source": [
    "from pathlib import Path as pt\n",
    "import numpy as np\n",
    "from ipywidgets import widgets, interact_manual, Layout\n",
    "from IPython.display import display\n"
   ]
  },
  {
   "cell_type": "code",
   "execution_count": null,
   "metadata": {},
   "outputs": [],
   "source": []
  },
  {
   "cell_type": "code",
   "execution_count": 2,
   "metadata": {},
   "outputs": [
    {
     "data": {
      "application/vnd.jupyter.widget-view+json": {
       "model_id": "640c343a864b45188d05c168b5bd7ebd",
       "version_major": 2,
       "version_minor": 0
      },
      "text/plain": [
       "Textarea(value='', description='First line')"
      ]
     },
     "metadata": {},
     "output_type": "display_data"
    },
    {
     "data": {
      "application/vnd.jupyter.widget-view+json": {
       "model_id": "d57ca754c0d74de1a1da2ff6bddbccb5",
       "version_major": 2,
       "version_minor": 0
      },
      "text/plain": [
       "Textarea(value='', description='Frequency')"
      ]
     },
     "metadata": {},
     "output_type": "display_data"
    },
    {
     "data": {
      "application/vnd.jupyter.widget-view+json": {
       "model_id": "6a5558c5a92649feb28ae5e1395f8e00",
       "version_major": 2,
       "version_minor": 0
      },
      "text/plain": [
       "Text(value='c-c3h3+Ar', description='savename')"
      ]
     },
     "metadata": {},
     "output_type": "display_data"
    },
    {
     "data": {
      "application/vnd.jupyter.widget-view+json": {
       "model_id": "3a9245e86e48485eab1a9ef56140e01f",
       "version_major": 2,
       "version_minor": 0
      },
      "text/plain": [
       "Textarea(value='D:\\\\SurfDrive\\\\FELIX_Measurements\\\\C3H3+\\\\2020\\\\Calculations\\\\Duncan', description='location')"
      ]
     },
     "metadata": {},
     "output_type": "display_data"
    },
    {
     "data": {
      "application/vnd.jupyter.widget-view+json": {
       "model_id": "efa95246b9e54da0b7526677bf4b3588",
       "version_major": 2,
       "version_minor": 0
      },
      "text/plain": [
       "Button(button_style='success', description='Write File', style=ButtonStyle())"
      ]
     },
     "metadata": {},
     "output_type": "display_data"
    }
   ],
   "source": [
    "def writeFile(e):\n",
    "\n",
    "    if freqlist.value == \"\": return print(\"No frequnecy listed\")\n",
    "    \n",
    "    wn, intensity = freq_split(freqlist.value)\n",
    "    tfile = pt(datlocation.value) / f\"{name.value}.txt\"\n",
    "    with open(tfile, \"w+\") as f:\n",
    "    \n",
    "        f.write(f\"# {appendlist.value}\\n\")\n",
    "        for freq, inten in zip(wn, intensity): f.write(f\"\\n{freq}\\t{inten}\")\n",
    "        print(f\"{tfile.name} file written in {datlocation.value}\")\n",
    "        \n",
    "\n",
    "def freq_split(freq):\n",
    "\n",
    "    freq_list = freq.split(\", \")\n",
    "    \n",
    "    freq_list = [i.split(\"(\") for i in freq_list]\n",
    "    freq_list = [[i[0], i[1].split(\")\")[0]] for i in freq_list]\n",
    "    wn, intensity = [], []\n",
    "    for i in freq_list:\n",
    "        freq, inten = float(i[0]), float(i[1])\n",
    "        wn.append(freq)\n",
    "        intensity.append(inten)\n",
    "    wn = np.array(wn)\n",
    "\n",
    "    intensity = np.array(intensity)\n",
    "    \n",
    "    return wn, intensity\n",
    "\n",
    "writeFileButton = widgets.Button(description=\"Write File\",button_style=\"success\")\n",
    "writeFileButton.on_click(writeFile)\n",
    "\n",
    "name = widgets.Text(\"c-c3h3+Ar\", description=\"savename\")\n",
    "\n",
    "datlocation = widgets.Textarea(r\"D:\\SurfDrive\\FELIX_Measurements\\C3H3+\\2020\\Calculations\\Duncan\", description=\"location\")\n",
    "freqlist = widgets.Textarea(\"\", description=\"Frequency\")\n",
    "appendlist = widgets.Textarea(\"\", description=\"First line\")\n",
    "\n",
    "display(appendlist,freqlist, name, datlocation, writeFileButton)"
   ]
  },
  {
   "cell_type": "code",
   "execution_count": null,
   "metadata": {},
   "outputs": [],
   "source": [
    "def cursor_annotate(ax_lines, filename):\n",
    "    \n",
    "    # mplcursors for annotation\n",
    "    cursor = mplcursors.cursor(ax_lines, multiple=True, bindings={\"toggle_visible\": \"v\", \"toggle_enabled\": \"e\"})\n",
    "    freq_sim_data = np.genfromtxt(filename).T\n",
    "    freq_sim = freq_sim_data[0]\n",
    "    freq_sim_err = freq_sim_data[1]\n",
    "    @cursor.connect(\"add\")\n",
    "    def _(sel):\n",
    "        with output:\n",
    "            try:\n",
    "                sel.annotation.get_bbox_patch().set(fc=\"white\")\n",
    "                epsilon = 5\n",
    "                wn = sel.target[0]\n",
    "                index = np.logical_and(freq_sim>wn-epsilon, freq_sim<wn+epsilon)\n",
    "                wn = freq_sim[index][0]\n",
    "                wn_err = freq_sim_err[index][0]\n",
    "                sel.annotation.set_text(f\"{wn:.0f}\")\n",
    "                sel.annotation.set_bbox(None)\n",
    "            except Exception as err:\n",
    "                print(\"Error occured while finding index of cursor\", err)\n",
    "                return\n",
    "\n",
    "#axin_wnStart = widgets.IntText(1400, min=0, step=5, description=\"axin_wnStart\")\n",
    "#axin_wnEnd = widgets.IntText(1670, min=0, step=5, description=\"axin_wnEnd\")\n",
    "#axin_axis = widgets.Text(\"0.4, 0.7, 0.3, 0.2\", description=\"axin position\") #  [from left, from bottom, width, height]\n",
    "# inset plot\n",
    "#axin = ax.inset_axes([axin_wnStart, 0.5 ,axin_wnEnd-axin_wnStart, 0.7*inten_sim.max()], \n",
    "#                 transform=ax.transData, zorder=0)\n",
    "#freq, inten, ls = wn_axin\n",
    "#ind = np.logical_and(freq>axin_wnStart, freq<axin_wnEnd)\n",
    "\n",
    "#freq = freq[ind]\n",
    "#inten = inten[ind]\n",
    "#axin.plot(freq, inten, ls, ms=0.5)\n",
    "#for _ in [\"top\", \"left\", \"right\", \"bottom\"]: axin.spines[_].set_visible(False)\n",
    "\n",
    "#plt.setp(axin.get_yticklabels(), visible=False)\n",
    "#plt.setp(axin.get_xticklabels(), visible=False)\n",
    "#axin.tick_params(axis='both', which='both', length=0)\n",
    "#axin.xaxis.set_minor_locator(AutoMinorLocator(5))\n",
    "\n",
    "#ax.indicate_inset_zoom(axin)\n",
    "#axin.legend([\"Legend\"])"
   ]
  },
  {
   "cell_type": "code",
   "execution_count": null,
   "metadata": {},
   "outputs": [],
   "source": []
  }
 ],
 "metadata": {
  "kernelspec": {
   "display_name": "Python 3",
   "language": "python",
   "name": "python3"
  },
  "language_info": {
   "codemirror_mode": {
    "name": "ipython",
    "version": 3
   },
   "file_extension": ".py",
   "mimetype": "text/x-python",
   "name": "python",
   "nbconvert_exporter": "python",
   "pygments_lexer": "ipython3",
   "version": "3.7.4"
  }
 },
 "nbformat": 4,
 "nbformat_minor": 4
}
