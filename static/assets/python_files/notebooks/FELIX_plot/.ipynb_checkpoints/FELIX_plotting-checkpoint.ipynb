{
 "cells": [
  {
   "cell_type": "markdown",
   "metadata": {},
   "source": [
    "# Importing modules"
   ]
  },
  {
   "cell_type": "code",
   "execution_count": 1,
   "metadata": {},
   "outputs": [],
   "source": [
    "import os\n",
    "from pathlib import Path as pt\n",
    "import numpy as np\n",
    "import matplotlib.pyplot as plt\n",
    "from matplotlib.ticker import AutoMinorLocator, MultipleLocator\n",
    "from ipywidgets import widgets, interact_manual, Layout\n",
    "from IPython.display import display, Markdown as md\n",
    "from scipy.signal import savgol_filter"
   ]
  },
  {
   "cell_type": "code",
   "execution_count": 2,
   "metadata": {},
   "outputs": [],
   "source": [
    "from definitions import createWidgets, figure_widgets, \\\n",
    "    computeNGaussian, read_dat_file, felix_plot, fitted_vlines, computeNGaussian, theroyplot, Marker"
   ]
  },
  {
   "cell_type": "code",
   "execution_count": 3,
   "metadata": {},
   "outputs": [],
   "source": [
    "%matplotlib widget\n",
    "plt.rc('font', family='serif')"
   ]
  },
  {
   "cell_type": "code",
   "execution_count": 4,
   "metadata": {},
   "outputs": [],
   "source": [
    "plt.close(\"all\")"
   ]
  },
  {
   "cell_type": "markdown",
   "metadata": {},
   "source": [
    "# FELIX Plotting"
   ]
  },
  {
   "cell_type": "code",
   "execution_count": 5,
   "metadata": {},
   "outputs": [],
   "source": [
    "felix_w = createWidgets(filetype=\"dat\", update_label=\"Update FELIX location\")\n",
    "felix_w1 = createWidgets(filetype=\"txt\", update_label=\"Update theory location\")\n",
    "felix_w2 = createWidgets(filetype=\"txt\", update_label=\"t1-overtone-comb.\")\n",
    "felix_w3 = createWidgets(filetype=\"txt\", update_label=\"t2-overtone-comb.\")\n",
    "felix_figw = figure_widgets()"
   ]
  },
  {
   "cell_type": "code",
   "execution_count": 6,
   "metadata": {},
   "outputs": [],
   "source": [
    "def only_exp_plot(axs, expfiles, N, title0, lg, normMethod, majorTick, legend_visible, hide_all_axis, legend_labels):\n",
    "    for i in range(N):\n",
    "        if N>1:\n",
    "            ax = axs[i]\n",
    "        else:\n",
    "            ax = axs\n",
    "\n",
    "        ax = felix_plot(expfiles, ax, lg, normMethod)\n",
    "        ax.xaxis.set_tick_params(which='minor', bottom=True)\n",
    "\n",
    "        ax.xaxis.set_minor_locator(AutoMinorLocator(5))\n",
    "        ax.yaxis.set_minor_locator(AutoMinorLocator(5))\n",
    "        ax.xaxis.set_major_locator(MultipleLocator(majorTick))\n",
    "\n",
    "        ylabel=\"Norm. Intensity ~($m^2/photon$)\"\n",
    "        ax.set_ylabel((ylabel, \"Relative Depletion (%)\")[normMethod==\"Relative\"], fontsize=12)\n",
    "        ax.set_xlabel(\"Wavenumber ($cm^{-1}$)\", fontsize=12)\n",
    "\n",
    "        if legend_visible and i<2:\n",
    "            if legend_labels == \"\": ax.legend([], title=title0.strip).set_draggable(True)\n",
    "            else: ax.legend(title=title0.strip()).set_draggable(True)\n",
    "\n",
    "        if hide_all_axis:\n",
    "            ax.spines[\"top\"].set_visible(False)\n",
    "            ax.spines[\"bottom\"].set_visible(False)\n",
    "            ax.spines[\"left\"].set_visible(False)\n",
    "            ax.spines[\"right\"].set_visible(False)\n",
    "\n",
    "            ax.xaxis.set_tick_params(which='minor', bottom=False)\n",
    "            ax.yaxis.set_tick_params(which='minor', left=False)\n",
    "\n",
    "            ax.tick_params(labelbottom=False, bottom=False, labelleft=False, left=False)\n",
    "\n",
    "            ax.set(xlabel=\"\", ylabel=\"\")\n",
    "    \n",
    "    return ax"
   ]
  },
  {
   "cell_type": "code",
   "execution_count": 7,
   "metadata": {},
   "outputs": [],
   "source": [
    "marker_theory = None\n",
    "\n",
    "def plotGraph(theorysigma=5, normMethod=\"Relative\", figwidth=7, figheight=7, dpi=100, \n",
    "              gridalpha=0, freqScale=1, figtitle=\"\", figcaption=\"\", N=2, ratio=\"1, 0.5\", \n",
    "              titles=\"Experiment, Calculation\", legend_labels=\"\", hspace=0.05, wspace=0.05, \n",
    "              sameColor=False, invert_ax2=True, hide_axis=True, majorTick = 200, marker=\"\",\n",
    "              legend_visible=True, onlyExp=False, hide_all_axis = False\n",
    "            ):\n",
    "    \n",
    "    global marker_theory\n",
    "    \n",
    "    plt.close()\n",
    "    \n",
    "    grid_ratio = np.array(ratio.split(\",\"), dtype=np.float)\n",
    "    grid = {\"hspace\":hspace, \"wspace\":wspace, \"width_ratios\":grid_ratio}\n",
    "    \n",
    "    rows = (2, 1)[onlyExp]\n",
    "    figheight = (figheight, figheight/2)[onlyExp]\n",
    "    \n",
    "    fig, axs = plt.subplots(rows, N, figsize=(figwidth, figheight), dpi=dpi, gridspec_kw=grid)\n",
    "    \n",
    "    \n",
    "    felix_w.fig = fig\n",
    "    \n",
    "    lg = [i.strip() for i in legend_labels.split(\",\")]\n",
    "    \n",
    "    try:\n",
    "        title0, title1 = titles.split(\",\")\n",
    "    except: title0, title1 = \"Title1\", \"Title2\"\n",
    "                \n",
    "    exp_loc = pt(felix_w.location.value)\n",
    "    expfiles = [pt(exp_loc)/i for i in felix_w.files.value]\n",
    "    \n",
    "    if onlyExp: \n",
    "        return only_exp_plot(axs, expfiles, N, title0, lg, normMethod, majorTick, legend_visible, hide_all_axis, legend_labels)\n",
    "   \n",
    "    theory_loc = pt(felix_w1.location.value)\n",
    "    theoryfiles = [pt(theory_loc)/i for i in felix_w1.files.value]\n",
    "    theoryfiles1_overt_comb = [pt(theory_loc)/i for i in felix_w2.files.value]\n",
    "    theoryfiles2_overt_comb = [pt(theory_loc)/i for i in felix_w3.files.value]\n",
    "    \n",
    "    theory_color = (len(expfiles), 1)[sameColor]\n",
    "    \n",
    "    for i in range(N):\n",
    "        \n",
    "        if N > 1: \n",
    "            ax_exp = axs[0, i]\n",
    "            ax_theory = axs[1, i]\n",
    "        else:\n",
    "            ax_exp = axs[i]\n",
    "            ax_theory = axs[i+1]\n",
    "            \n",
    "        \n",
    "        ax_exp = felix_plot(expfiles, ax_exp, lg, normMethod)\n",
    "        \n",
    "        linestyle = [\"--\", \":\"]\n",
    "        print(f\"{theoryfiles}\")\n",
    "        \n",
    "        ax_theory = theroyplot(theoryfiles[0], ax_theory, freqScale, theory_color, theorysigma)\n",
    "        for tfile1, ls in zip(theoryfiles1_overt_comb, linestyle ):\n",
    "            ax_theory = theroyplot(tfile1, ax_theory, freqScale, f\"{theory_color}{ls}\", theorysigma)\n",
    "        \n",
    "        #theory_color += 1\n",
    "        if len(theoryfiles) > 1:\n",
    "            ax_theory = theroyplot(theoryfiles[1], ax_theory, freqScale, theory_color+1, theorysigma)\n",
    "            for tfile2, ls in zip(theoryfiles2_overt_comb, linestyle):\n",
    "                ax_theory = theroyplot(tfile2, ax_theory, freqScale, f\"{theory_color+1}{ls}\", theorysigma)\n",
    "        \n",
    "        # ax_theory\n",
    "        if invert_ax2: ax_theory.invert_yaxis()\n",
    "        \n",
    "        #ax_theory.minorticks_on()\n",
    "        \n",
    "        # ax_exp\n",
    "        if hide_axis:\n",
    "            ax_theory.spines[\"top\"].set_visible(False)\n",
    "            ax_exp.spines[\"bottom\"].set_visible(False)\n",
    "            \n",
    "        ax_exp.tick_params(labelbottom=False, bottom=False, labeltop=True, top=True) # removing x-ticks label\n",
    "        \n",
    "        #ax_exp.minorticks_on()\n",
    "        ax_exp.xaxis.set_tick_params(which='minor', bottom=False, top=True)\n",
    "        \n",
    "        ax_exp.xaxis.set_minor_locator(AutoMinorLocator(5))\n",
    "        ax_exp.yaxis.set_minor_locator(AutoMinorLocator(5))\n",
    "        ax_exp.xaxis.set_major_locator(MultipleLocator(majorTick))\n",
    "        \n",
    "        ax_theory.xaxis.set_minor_locator(AutoMinorLocator(5))\n",
    "        ax_theory.yaxis.set_minor_locator(AutoMinorLocator(5))\n",
    "        ax_theory.xaxis.set_major_locator(MultipleLocator(majorTick))\n",
    "        \n",
    "        ax_theory.get_shared_x_axes().join(ax_theory, ax_exp)\n",
    "        \n",
    "        \n",
    "        # Labels\n",
    "        if i<1:\n",
    "            \n",
    "            ylabel=\"Norm. Intensity (m$^2$/photon)\"\n",
    "            ax_exp.set_ylabel((ylabel, \"Relative Depletion (%)\")[normMethod==\"Relative\"], fontsize=12)\n",
    "            \n",
    "            if legend_visible:\n",
    "                if legend_labels == \"\": ax_exp.legend([], title=title0.strip()).set_draggable(True)\n",
    "                else: ax_exp.legend(title=title0.strip()).set_draggable(True)\n",
    "\n",
    "                ax_theory.set_ylabel(\"Intensity (km/mol)\", fontsize=12)\n",
    "                ax_theory.legend(title=title1.strip()).set_draggable(True)\n",
    "                \n",
    "            #marker_exp = Marker(fig, ax_exp)\n",
    "            marker_theory = Marker(fig, ax_theory, ax_exp, txt_value=marker.split(\",\"))\n",
    "            \n",
    "        elif i==N-1:\n",
    "            ax_exp.yaxis.tick_right()\n",
    "            ax_theory.yaxis.tick_right()\n",
    "        else:\n",
    "            ax_exp.tick_params(labelbottom=False, bottom=False, labelleft=False, left=False, labeltop=True, top=True)\n",
    "            ax_exp.yaxis.set_tick_params(which='minor', left=False, right=False, top=True)\n",
    "            \n",
    "            ax_theory.tick_params(labelleft=False, left=False)\n",
    "            ax_theory.yaxis.set_tick_params(which='minor', left=False)\n",
    "        \n",
    "        \n",
    "        \n",
    "    # Figure caption\n",
    "    plt.figtext(0.5, 0.04, \"Wavenumber (cm$^{-1}$)\", wrap=True, horizontalalignment='center', fontsize=12)\n",
    "    plt.figtext(0.5, 0.01, figcaption, wrap=True, horizontalalignment='center', fontsize=12)\n",
    "    plt.show()\n",
    "    \n",
    "    #########################################################################################################\n",
    "##########################################################################################################"
   ]
  },
  {
   "cell_type": "code",
   "execution_count": 8,
   "metadata": {},
   "outputs": [
    {
     "data": {
      "application/vnd.jupyter.widget-view+json": {
       "model_id": "61c704041c6d470f9433d3594afe32e7",
       "version_major": 2,
       "version_minor": 0
      },
      "text/plain": [
       "Text(value='', description='txt location', layout=Layout(width='70%'), style=DescriptionStyle(description_widt…"
      ]
     },
     "metadata": {},
     "output_type": "display_data"
    },
    {
     "data": {
      "application/vnd.jupyter.widget-view+json": {
       "model_id": "c938223e7e654abbba411368518eadde",
       "version_major": 2,
       "version_minor": 0
      },
      "text/plain": [
       "Button(button_style='success', description='Update theory location', layout=Layout(width='20%'), style=ButtonS…"
      ]
     },
     "metadata": {},
     "output_type": "display_data"
    },
    {
     "data": {
      "application/vnd.jupyter.widget-view+json": {
       "model_id": "a5f06bf3afef4bc0919a1e78bfa6dfe1",
       "version_major": 2,
       "version_minor": 0
      },
      "text/plain": [
       "SelectMultiple(description='txt files', layout=Layout(width='70%'), options=(), style=DescriptionStyle(descrip…"
      ]
     },
     "metadata": {},
     "output_type": "display_data"
    },
    {
     "data": {
      "application/vnd.jupyter.widget-view+json": {
       "model_id": "4fda522a4ee54a58ad867150ad8b3f9f",
       "version_major": 2,
       "version_minor": 0
      },
      "text/plain": [
       "Text(value='', description='txt location', layout=Layout(width='70%'), style=DescriptionStyle(description_widt…"
      ]
     },
     "metadata": {},
     "output_type": "display_data"
    },
    {
     "data": {
      "application/vnd.jupyter.widget-view+json": {
       "model_id": "afad3b130a5440bab251518f9c39df12",
       "version_major": 2,
       "version_minor": 0
      },
      "text/plain": [
       "Button(button_style='success', description='t1-overtone-comb.', layout=Layout(width='20%'), style=ButtonStyle(…"
      ]
     },
     "metadata": {},
     "output_type": "display_data"
    },
    {
     "data": {
      "application/vnd.jupyter.widget-view+json": {
       "model_id": "b77dedbf2e92411fa7e12bbdbe5d1d9f",
       "version_major": 2,
       "version_minor": 0
      },
      "text/plain": [
       "SelectMultiple(description='txt files', layout=Layout(width='70%'), options=(), style=DescriptionStyle(descrip…"
      ]
     },
     "metadata": {},
     "output_type": "display_data"
    },
    {
     "data": {
      "application/vnd.jupyter.widget-view+json": {
       "model_id": "3bd5c507e013497faaa30c61b59b20e6",
       "version_major": 2,
       "version_minor": 0
      },
      "text/plain": [
       "Text(value='', description='txt location', layout=Layout(width='70%'), style=DescriptionStyle(description_widt…"
      ]
     },
     "metadata": {},
     "output_type": "display_data"
    },
    {
     "data": {
      "application/vnd.jupyter.widget-view+json": {
       "model_id": "f9ead5b00c9d418f97c178148a7aa48d",
       "version_major": 2,
       "version_minor": 0
      },
      "text/plain": [
       "Button(button_style='success', description='t2-overtone-comb.', layout=Layout(width='20%'), style=ButtonStyle(…"
      ]
     },
     "metadata": {},
     "output_type": "display_data"
    },
    {
     "data": {
      "application/vnd.jupyter.widget-view+json": {
       "model_id": "0f2f120fe91b41f5b8431be363678053",
       "version_major": 2,
       "version_minor": 0
      },
      "text/plain": [
       "SelectMultiple(description='txt files', layout=Layout(width='70%'), options=(), style=DescriptionStyle(descrip…"
      ]
     },
     "metadata": {},
     "output_type": "display_data"
    },
    {
     "data": {
      "application/vnd.jupyter.widget-view+json": {
       "model_id": "782320fee5c54119ac4fbbc10e0a3731",
       "version_major": 2,
       "version_minor": 0
      },
      "text/plain": [
       "Text(value='', description='dat location', layout=Layout(width='70%'), style=DescriptionStyle(description_widt…"
      ]
     },
     "metadata": {},
     "output_type": "display_data"
    },
    {
     "data": {
      "application/vnd.jupyter.widget-view+json": {
       "model_id": "4cd6c23ab18a471e825906257d8de60a",
       "version_major": 2,
       "version_minor": 0
      },
      "text/plain": [
       "Button(button_style='success', description='Update FELIX location', layout=Layout(width='20%'), style=ButtonSt…"
      ]
     },
     "metadata": {},
     "output_type": "display_data"
    },
    {
     "data": {
      "application/vnd.jupyter.widget-view+json": {
       "model_id": "8917c28bd476468ba7553f9b23d5757d",
       "version_major": 2,
       "version_minor": 0
      },
      "text/plain": [
       "SelectMultiple(description='dat files', layout=Layout(width='70%'), options=(), style=DescriptionStyle(descrip…"
      ]
     },
     "metadata": {},
     "output_type": "display_data"
    },
    {
     "data": {
      "application/vnd.jupyter.widget-view+json": {
       "model_id": "3ea776207f5d466a9d82316a6154719b",
       "version_major": 2,
       "version_minor": 0
      },
      "text/plain": [
       "interactive(children=(FloatText(value=5.0, description='theorysigma', step=1.0), Dropdown(description='normMet…"
      ]
     },
     "metadata": {},
     "output_type": "display_data"
    },
    {
     "data": {
      "application/vnd.jupyter.widget-view+json": {
       "model_id": "aa5b35c270e44a90b9345d889bb27ca7",
       "version_major": 2,
       "version_minor": 0
      },
      "text/plain": [
       "Text(value='', description='savefilename')"
      ]
     },
     "metadata": {},
     "output_type": "display_data"
    },
    {
     "data": {
      "application/vnd.jupyter.widget-view+json": {
       "model_id": "2e811806097043589fd1142d1730f188",
       "version_major": 2,
       "version_minor": 0
      },
      "text/plain": [
       "IntText(value=140, description='savedpi', step=2)"
      ]
     },
     "metadata": {},
     "output_type": "display_data"
    },
    {
     "data": {
      "application/vnd.jupyter.widget-view+json": {
       "model_id": "032da7a0f64f4b79adfbeeec6b9b6069",
       "version_major": 2,
       "version_minor": 0
      },
      "text/plain": [
       "Button(button_style='success', description='Save', style=ButtonStyle())"
      ]
     },
     "metadata": {},
     "output_type": "display_data"
    },
    {
     "data": {
      "application/vnd.jupyter.widget-view+json": {
       "model_id": "3b2e1ddf5e9d4e7ab56a413b6db0959d",
       "version_major": 2,
       "version_minor": 0
      },
      "text/plain": [
       "Button(button_style='danger', description='Clear', style=ButtonStyle())"
      ]
     },
     "metadata": {},
     "output_type": "display_data"
    },
    {
     "data": {
      "application/vnd.jupyter.widget-view+json": {
       "model_id": "cf2a9379dac3421da8e724d98940c10f",
       "version_major": 2,
       "version_minor": 0
      },
      "text/plain": [
       "Output()"
      ]
     },
     "metadata": {},
     "output_type": "display_data"
    }
   ],
   "source": [
    "display(felix_w1.location, felix_w1.update_files_button, felix_w1.files)\n",
    "display(felix_w2.location, felix_w2.update_files_button, felix_w2.files)\n",
    "display(felix_w3.location, felix_w3.update_files_button, felix_w3.files)\n",
    "display(felix_w.location, felix_w.update_files_button, felix_w.files)\n",
    "\n",
    "out = interact_manual( plotGraph, normMethod=felix_figw.normMethod, figtitle=\"\", freqScale=felix_figw.freqScale,\n",
    "    theorysigma=felix_figw.theorysigma, gridalpha=felix_figw.gridalpha, ratio=felix_figw.plot_ratio,\n",
    "    figwidth=felix_figw.figwidth, figheight=felix_figw.figheight, dpi=felix_figw.dpi, figcaption=felix_figw.figcaption,\n",
    "    N=felix_figw.Nplots, titles=felix_figw.titles, legend_labels=felix_figw.legend_labels,\n",
    "    hspace=felix_figw.hspace, wspace=felix_figw.wspace, majorTick = felix_figw.majorTickInterval)\n",
    "\n",
    "display(felix_w.savefilename, felix_w.savedpi, felix_w.savebutton, felix_w.closebutton, felix_w.output)\n",
    "\n",
    "# D:\\SurfDrive\\FELIX_Measurements\\CH3CNH+\\Spectrum\\EXPORT\n",
    "# D:\\SurfDrive\\FELIX_Measurements\\CH3CNH+\\CCSDT\n",
    "# Ne-CH$_3$CNH$^+$\n",
    "# Experiment, CCSD(T)/ANO2\n",
    "\n",
    "# Ne-[C$_3$H$_3$]$^+$\n"
   ]
  },
  {
   "cell_type": "code",
   "execution_count": 9,
   "metadata": {},
   "outputs": [
    {
     "data": {
      "application/vnd.jupyter.widget-view+json": {
       "model_id": "d58fd54c16c2436ca8dcd2cc921c5166",
       "version_major": 2,
       "version_minor": 0
      },
      "text/plain": [
       "Text(value='', description='Enter two titles', layout=Layout(height='50px', width='70%'), style=DescriptionSty…"
      ]
     },
     "metadata": {},
     "output_type": "display_data"
    }
   ],
   "source": [
    "# felix_c3h3+\n",
    "# felix_c3d3+\n",
    "plt.close(\"all\")\n",
    "felix_figw.titles"
   ]
  },
  {
   "cell_type": "markdown",
   "metadata": {},
   "source": [
    "\n",
    "# Compare Plotting"
   ]
  },
  {
   "cell_type": "code",
   "execution_count": 10,
   "metadata": {},
   "outputs": [],
   "source": [
    "compare_w = createWidgets(filetype=\"dat\", update_label=\"Update location1\")\n",
    "compare_w1 = createWidgets(filetype=\"dat\", save_options=False, update_label=\"Update location2\")\n",
    "compare_figw = figure_widgets()"
   ]
  },
  {
   "cell_type": "code",
   "execution_count": 11,
   "metadata": {},
   "outputs": [],
   "source": [
    "def comparePlot(loc1, loc2, file1, file2, normMethod1, normMethod2, titles, legend_labels1, \n",
    "                legend_labels2, wspace=0.05, hspace=0.05, N=2, ratio=\"1, 0.5\", \n",
    "                sameColor=True, vlines=False, invert_ax2=True, hide_axis=True):\n",
    "    \n",
    "    loc1 = pt(loc1)\n",
    "    loc2 = pt(loc2)\n",
    "    \n",
    "    plt.close()\n",
    "    grid_ratio = np.array(ratio.split(\",\"), dtype=np.float)\n",
    "    grid = {\"hspace\":hspace, \"wspace\":wspace, \"width_ratios\":grid_ratio}\n",
    "    fig, axs = plt.subplots(2, N, figsize=(7, 7), dpi=140, gridspec_kw=grid)\n",
    "    \n",
    "    compare_w.fig = fig\n",
    "    \n",
    "    legend_labels1 = [i.strip() for i in legend_labels1.split(\",\")]\n",
    "    legend_labels2 = [i.strip() for i in legend_labels2.split(\",\")]\n",
    "    \n",
    "    title1, title2 = [i.strip() for i in titles.split(\",\")]\n",
    "    \n",
    "    file1 = [loc1/i for i in file1]\n",
    "    file2 = [loc2/i for i in file2]\n",
    "    \n",
    "    #if len(file1) == 1:\n",
    "    #    color1 = 0\n",
    "    #    color2 = 1\n",
    "    #else: \n",
    "    #    color1 = color2 = 0\n",
    "    \n",
    "    color1 = 0\n",
    "    color2 = 1\n",
    "    \n",
    "    for i in range(N):\n",
    "        \n",
    "        if N > 1: \n",
    "            ax1 = axs[0, i]\n",
    "            ax2 = axs[1, i]\n",
    "        else:\n",
    "            ax1 = axs[i]\n",
    "            ax2 = axs[i+1]\n",
    "        \n",
    "        #felix_plot(expfiles, ax_exp, lg, normMethod)\n",
    "        ax1 = felix_plot(file1, ax1, legend_labels1, normMethod1, color1, sameColor)\n",
    "        ax2 = felix_plot(file2, ax2, legend_labels2, normMethod2, color2, sameColor)\n",
    "        \n",
    "        \n",
    "        if vlines:\n",
    "            for f1 in file1: ax1 = fitted_vlines(ax1, f1, loc1, normMethod1, color1)\n",
    "            for f2 in file2: ax2 = fitted_vlines(ax2, f2, loc2, normMethod2, color2)\n",
    "        \n",
    "        # ax1\n",
    "        ax1.tick_params(labelbottom=False, bottom=False, labeltop=True, top=True) # removing x-ticks label\n",
    "        \n",
    "        ax1.minorticks_on()\n",
    "        ax1.xaxis.set_tick_params(which='minor', bottom=False, top=True)\n",
    "        \n",
    "        # ax2\n",
    "        if invert_ax2: ax2.invert_yaxis()\n",
    "        if hide_axis:\n",
    "            ax1.spines[\"bottom\"].set_visible(False) # removing x-axis line\n",
    "            ax2.spines[\"top\"].set_visible(False)\n",
    "        \n",
    "        ax2.minorticks_on()\n",
    "        \n",
    "        ax2.get_shared_x_axes().join(ax2, ax1)\n",
    "        \n",
    "        \n",
    "        # Labels\n",
    "        if i<1:\n",
    "            ylabel=\"Norm. Intensity ~($m^2/photon$)\"\n",
    "            \n",
    "            if legend_labels1[0] == \"\": ax1.legend([], title=title1).set_draggable(True)\n",
    "            else: ax1.legend(title=title1).set_draggable(True)\n",
    "                \n",
    "            if legend_labels2[0] == \"\": ax2.legend([], title=title2).set_draggable(True)\n",
    "            else: ax2.legend(title=title2).set_draggable(True)\n",
    "            \n",
    "            #ax2.set(ylabel=ylabel)\n",
    "            #ax1.set(ylabel=ylabel)\n",
    "        else:\n",
    "            ax1.yaxis.tick_right()\n",
    "            ax2.yaxis.tick_right()\n",
    "    \n",
    "    plt.figtext(0.5, 0.04, \"Wavenumber ($cm^{-1}$)\", wrap=True, horizontalalignment='center', fontsize=12)\n",
    "    plt.figtext(0.02, 0.5, ylabel, va='center', rotation='vertical')\n",
    "    \n",
    "    plt.show()\n"
   ]
  },
  {
   "cell_type": "code",
   "execution_count": 12,
   "metadata": {},
   "outputs": [
    {
     "data": {
      "application/vnd.jupyter.widget-view+json": {
       "model_id": "64cd1c87991845fdab0a7a05ca3ccd35",
       "version_major": 2,
       "version_minor": 0
      },
      "text/plain": [
       "Button(button_style='success', description='Update location1', layout=Layout(width='20%'), style=ButtonStyle()…"
      ]
     },
     "metadata": {},
     "output_type": "display_data"
    },
    {
     "data": {
      "application/vnd.jupyter.widget-view+json": {
       "model_id": "135ff1b418b24bf895f55e561dd5e1b8",
       "version_major": 2,
       "version_minor": 0
      },
      "text/plain": [
       "Button(button_style='success', description='Update location2', layout=Layout(width='20%'), style=ButtonStyle()…"
      ]
     },
     "metadata": {},
     "output_type": "display_data"
    },
    {
     "data": {
      "application/vnd.jupyter.widget-view+json": {
       "model_id": "15ec9796e05d427fa5cc9c2a2aadd366",
       "version_major": 2,
       "version_minor": 0
      },
      "text/plain": [
       "interactive(children=(Text(value='', description='dat location', layout=Layout(width='70%'), style=Description…"
      ]
     },
     "metadata": {},
     "output_type": "display_data"
    },
    {
     "data": {
      "application/vnd.jupyter.widget-view+json": {
       "model_id": "d26d27868daf4a2f9d8c121fd0867150",
       "version_major": 2,
       "version_minor": 0
      },
      "text/plain": [
       "Text(value='', description='savefilename')"
      ]
     },
     "metadata": {},
     "output_type": "display_data"
    },
    {
     "data": {
      "application/vnd.jupyter.widget-view+json": {
       "model_id": "138f0dd7a2524ca998b24ef1de6a9348",
       "version_major": 2,
       "version_minor": 0
      },
      "text/plain": [
       "IntText(value=140, description='savedpi', step=2)"
      ]
     },
     "metadata": {},
     "output_type": "display_data"
    },
    {
     "data": {
      "application/vnd.jupyter.widget-view+json": {
       "model_id": "cd51f5a046f744dd96f4afa14007202a",
       "version_major": 2,
       "version_minor": 0
      },
      "text/plain": [
       "Button(button_style='success', description='Save', style=ButtonStyle())"
      ]
     },
     "metadata": {},
     "output_type": "display_data"
    },
    {
     "data": {
      "application/vnd.jupyter.widget-view+json": {
       "model_id": "895aba8cf4a64b29abf3b5fd147321e8",
       "version_major": 2,
       "version_minor": 0
      },
      "text/plain": [
       "Button(button_style='danger', description='Clear', style=ButtonStyle())"
      ]
     },
     "metadata": {},
     "output_type": "display_data"
    },
    {
     "data": {
      "application/vnd.jupyter.widget-view+json": {
       "model_id": "5d9774e993c54382b08619b58e66d925",
       "version_major": 2,
       "version_minor": 0
      },
      "text/plain": [
       "Output()"
      ]
     },
     "metadata": {},
     "output_type": "display_data"
    }
   ],
   "source": [
    "display(compare_w.update_files_button)\n",
    "display(compare_w1.update_files_button)\n",
    "\n",
    "out = interact_manual(comparePlot, loc1=compare_w.location, loc2=compare_w1.location, \n",
    "                    file1=compare_w.files, file2=compare_w1.files, ratio=compare_figw.plot_ratio,\n",
    "                    normMethod1=compare_figw.normMethod1, normMethod2=compare_figw.normMethod2,\n",
    "                    titles=compare_figw.titles,legend_labels1=compare_figw.legend_labels1, legend_labels2=compare_figw.legend_labels2,\n",
    "                    hspace=compare_figw.hspace, wspace=compare_figw.wspace, N=compare_figw.Nplots)\n",
    "\n",
    "display(compare_w.savefilename, compare_w.savedpi, compare_w.savebutton, compare_w.closebutton, compare_w.output)\n",
    "\n",
    "# D:\\SurfDrive\\FELIX_Measurements\\C3H3+\\2020\\EXPORT\n",
    "# D:\\SurfDrive\\FELIX_Measurements\\C3D3+\\FELSpectrum\\EXPORT\n",
    "\n",
    "# Ne-[C$_3$H$_3$]$^+$, Ne-[C$_3$D$_3$]$^+$\n",
    "# Direct EI source, Storage EI source\n",
    "# Ne-[C$_3$H$_3$]$^+$, H$_2$-[C$_3$H$_3$]$^+$"
   ]
  },
  {
   "cell_type": "code",
   "execution_count": 13,
   "metadata": {},
   "outputs": [],
   "source": [
    "# compare_ligands\n",
    "# compare_ion_sources\n",
    "# compare_isotopologues"
   ]
  },
  {
   "cell_type": "code",
   "execution_count": 14,
   "metadata": {},
   "outputs": [
    {
     "data": {
      "application/vnd.jupyter.widget-view+json": {
       "model_id": "8f9909d138dc43ae816f0d67dc5a6a32",
       "version_major": 2,
       "version_minor": 0
      },
      "text/plain": [
       "Canvas(toolbar=Toolbar(toolitems=[('Home', 'Reset original view', 'home', 'home'), ('Back', 'Back to previous …"
      ]
     },
     "metadata": {},
     "output_type": "display_data"
    },
    {
     "data": {
      "text/plain": [
       "Text(0.01, 0.5, 'common Y')"
      ]
     },
     "execution_count": 14,
     "metadata": {},
     "output_type": "execute_result"
    }
   ],
   "source": [
    "x = np.arange(0, 10, 0.005)\n",
    "y = np.exp(-x/2.) * np.sin(2*np.pi*x)\n",
    "\n",
    "fig, ax = plt.subplots()\n",
    "ax.plot(x, y)\n",
    "\n",
    "t1 = ax.annotate(\"1\", (2, 0.5), color=\"C0\", fontsize=12)\n",
    "t1.draggable()\n",
    "\n",
    "ax.set_xlim(0, 10)\n",
    "ax.set_ylim(-1, 1)\n",
    "\n",
    "f = fig.text(0.5, 0, \"Figure\")\n",
    "f.set_visible(True)\n",
    "plt.figtext(0.5, 0.04, \"Wavenumber ($cm^{-1}$)\", wrap=True, ha='center', fontsize=12)\n",
    "plt.figtext(0.01, 0.5, 'common Y', va='center', rotation='vertical')"
   ]
  },
  {
   "cell_type": "code",
   "execution_count": 432,
   "metadata": {},
   "outputs": [
    {
     "data": {
      "text/plain": [
       "[WindowsPath('D:/SurfDrive/FELIX_Measurements/C3H3+/2020/Calculations/Sven/CCSDT/overtones-combinations/c-C3D3+-ANO0.txt'),\n",
       " WindowsPath('D:/SurfDrive/FELIX_Measurements/C3H3+/2020/Calculations/Sven/CCSDT/overtones-combinations/c-C3D3+-ANO1.txt'),\n",
       " WindowsPath('D:/SurfDrive/FELIX_Measurements/C3H3+/2020/Calculations/Sven/CCSDT/overtones-combinations/c-C3H3+-ANO0.txt'),\n",
       " WindowsPath('D:/SurfDrive/FELIX_Measurements/C3H3+/2020/Calculations/Sven/CCSDT/overtones-combinations/c-C3H3+-ANO1.txt'),\n",
       " WindowsPath('D:/SurfDrive/FELIX_Measurements/C3H3+/2020/Calculations/Sven/CCSDT/overtones-combinations/l-C3D3+-ANO0.txt'),\n",
       " WindowsPath('D:/SurfDrive/FELIX_Measurements/C3H3+/2020/Calculations/Sven/CCSDT/overtones-combinations/l-C3D3+-ANO1.txt'),\n",
       " WindowsPath('D:/SurfDrive/FELIX_Measurements/C3H3+/2020/Calculations/Sven/CCSDT/overtones-combinations/l-C3H3+-ANO0.txt'),\n",
       " WindowsPath('D:/SurfDrive/FELIX_Measurements/C3H3+/2020/Calculations/Sven/CCSDT/overtones-combinations/l-C3H3+-ANO1.txt')]"
      ]
     },
     "execution_count": 432,
     "metadata": {},
     "output_type": "execute_result"
    }
   ],
   "source": [
    "loc = pt(r\"D:\\SurfDrive\\FELIX_Measurements\\C3H3+\\2020\\Calculations\\Sven\\CCSDT\\overtones-combinations\")\n",
    "files = list(loc.glob(\"*.txt\"))\n",
    "files"
   ]
  },
  {
   "cell_type": "code",
   "execution_count": 637,
   "metadata": {},
   "outputs": [
    {
     "name": "stdout",
     "output_type": "stream",
     "text": [
      "\n",
      "c-C3D3+-ANO0\n",
      "(14, 0, 2, 2444.4, 1.9)\n",
      "(13, 0, 2, 2444.4, 1.9)\n",
      "(14, 13, 1, 2456.0, 3.8)\n",
      "\n",
      "c-C3D3+-ANO1\n",
      "(14, 0, 2, 2465.9, 1.1)\n",
      "(13, 0, 2, 2465.9, 1.1)\n",
      "(14, 13, 1, 2475.8, 2.3)\n",
      "\n",
      "c-C3H3+-ANO0\n",
      "\n",
      "c-C3H3+-ANO1\n",
      "(11, 7, 1, 1752.6, 1.2)\n",
      "(10, 7, 1, 1752.6, 1.2)\n",
      "(12, 9, 1, 1943.5, 2.5)\n",
      "(12, 8, 1, 1943.5, 2.5)\n",
      "\n",
      "l-C3D3+-ANO0\n",
      "(10, 0, 2, 1372.0, 4.6)\n",
      "(12, 0, 2, 1741.0, 6.9)\n",
      "(14, 13, 1, 2131.5, 5.4)\n",
      "(18, 10, 1, 3205.8, 1.1)\n",
      "\n",
      "l-C3D3+-ANO1\n",
      "(9, 0, 2, 833.2, 965.9)\n",
      "(10, 7, 1, 931.0, 4.0)\n",
      "(10, 0, 2, 1398.9, 5.0)\n",
      "(12, 0, 2, 1763.7, 7.7)\n",
      "(13, 0, 2, 2099.0, 1.0)\n",
      "(14, 13, 1, 2246.9, 5.8)\n",
      "(18, 10, 1, 3218.3, 1.1)\n",
      "\n",
      "l-C3H3+-ANO0\n",
      "(10, 7, 1, 1108.9, 10.4)\n",
      "(9, 0, 2, 1169.9, 6.3)\n",
      "(10, 0, 2, 1708.7, 9.1)\n",
      "(11, 0, 2, 2020.0, 6.8)\n",
      "(13, 0, 2, 2239.8, 9.7)\n",
      "(14, 11, 1, 2436.3, 1.3)\n",
      "(15, 11, 1, 3077.2, 2.0)\n",
      "(15, 13, 1, 3175.3, 6.1)\n",
      "\n",
      "l-C3H3+-ANO1\n",
      "(10, 7, 1, 1154.2, 49.9)\n",
      "(9, 0, 2, 1224.3, 6.7)\n",
      "(10, 0, 2, 1740.6, 10.2)\n",
      "(11, 0, 2, 2027.0, 7.2)\n",
      "(13, 0, 2, 2211.2, 9.2)\n",
      "(14, 11, 1, 2444.5, 1.6)\n",
      "(14, 0, 2, 2864.7, 1.2)\n",
      "(15, 11, 1, 3086.1, 3.9)\n",
      "(15, 13, 1, 3168.3, 7.0)\n"
     ]
    }
   ],
   "source": [
    "for f in files:\n",
    "    print(\"\")\n",
    "    print(f.stem)\n",
    "    \n",
    "    data = np.genfromtxt(f)\n",
    "    for i in data:\n",
    "        if i[-2]>=1:\n",
    "            if i[1]>0 or i[5]>1:\n",
    "                print(f\"{int(i[0]), int(i[1]), int(i[5]), round(i[-3], 1), round(i[-2], 1)}\")\n",
    "    "
   ]
  },
  {
   "cell_type": "code",
   "execution_count": 558,
   "metadata": {},
   "outputs": [
    {
     "data": {
      "text/plain": [
       "array([[4],\n",
       "       [8],\n",
       "       [1]])"
      ]
     },
     "execution_count": 558,
     "metadata": {},
     "output_type": "execute_result"
    }
   ],
   "source": [
    "data = np.array([[1, 2, 3, 4], [5, 6, 7, 8], [0, 0, 0, 1]])\n",
    "inten = data[-1]\n",
    "ind, = np.where(inten>=1)\n",
    "np.take(data, ind, axis=1)"
   ]
  },
  {
   "cell_type": "code",
   "execution_count": 11,
   "metadata": {},
   "outputs": [],
   "source": [
    "bsse_location = pt(r\"D:\\SurfDrive\\FELIX_Measurements\\CH3CNH+\\CCSDT\\BSSE\")"
   ]
  },
  {
   "cell_type": "code",
   "execution_count": 24,
   "metadata": {},
   "outputs": [
    {
     "data": {
      "application/vnd.jupyter.widget-view+json": {
       "model_id": "e89e774322f547879d7185fc442e51da",
       "version_major": 2,
       "version_minor": 0
      },
      "text/plain": [
       "Canvas(toolbar=Toolbar(toolitems=[('Home', 'Reset original view', 'home', 'home'), ('Back', 'Back to previous …"
      ]
     },
     "metadata": {},
     "output_type": "display_data"
    },
    {
     "name": "stdout",
     "output_type": "stream",
     "text": [
      "Ne_CH3CNH+_VDZ_iso2_noCP.txt: -291.0142cm-1 (2.9655172413793105)\n"
     ]
    }
   ],
   "source": [
    "%matplotlib widget\n",
    "filename = []\n",
    "# filename=[\"Ne_CH3CNH+_VDZ_iso1.txt\", \"Ne_CH3CNH+_VDZ_iso1_SAPT23.txt\"]\n",
    "# legends=[\"CP-corr. CCSD(T)/cc-pVDZ\", \"SAPT2+3/cc-pVDZ\"]\n",
    "\n",
    "hartree2kcalmol=627.5094737775374\n",
    "kcalmol2wavenumbers=349.7550882318032\n",
    "fig, ax = plt.subplots(dpi=100, figsize=(9, 5))\n",
    "\n",
    "filename_noCP=\"Ne_CH3CNH+_VDZ_iso2_noCP.txt\"\n",
    "r, e = np.genfromtxt(bsse_location/filename_noCP).T\n",
    "e = e - (-261.3865640402813)*hartree2kcalmol\n",
    "ax.plot(r, e, \".-\", label=\"CCSD(T)/cc-pVDZ\")\n",
    "ind=e.argmin()\n",
    "print(f\"{filename_noCP}: {e[ind]*kcalmol2wavenumbers:.4f}cm-1 ({r[ind]})\")\n",
    "\n",
    "for f, lg in zip(filename, legends):\n",
    "    r, e = np.genfromtxt(bsse_location/f).T\n",
    "    ind=e.argmin()\n",
    "    print(f\"{f}: {e[ind]*kcalmol2wavenumbers:.4f}cm-1 ({r[ind]})\")\n",
    "    ax.plot(r, e, \".-\", label=lg)\n",
    "\n",
    "ax.set(title=\"Ne-CH$_3$CNH$^+$: Interaction Energies\", \n",
    "       xlabel=\"R (Ang)\", ylabel=\"E$_{int}$ (kcal/mol)\"\n",
    "        )\n",
    "\n",
    "ax.legend()\n",
    "ax.minorticks_on()\n",
    "plt.show()\n",
    "plt.savefig(bsse_location/\"iso3.png\", dpi=100)"
   ]
  }
 ],
 "metadata": {
  "kernelspec": {
   "display_name": "Python 3",
   "language": "python",
   "name": "python3"
  },
  "language_info": {
   "codemirror_mode": {
    "name": "ipython",
    "version": 3
   },
   "file_extension": ".py",
   "mimetype": "text/x-python",
   "name": "python",
   "nbconvert_exporter": "python",
   "pygments_lexer": "ipython3",
   "version": "3.8.3"
  },
  "nteract": {
   "version": "0.24.0"
  }
 },
 "nbformat": 4,
 "nbformat_minor": 4
}
