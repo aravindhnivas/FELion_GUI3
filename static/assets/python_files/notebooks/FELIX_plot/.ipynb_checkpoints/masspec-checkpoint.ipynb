{
 "cells": [
  {
   "cell_type": "code",
   "execution_count": 1,
   "metadata": {},
   "outputs": [],
   "source": [
    "import os\n",
    "from pathlib import Path as pt\n",
    "import numpy as np\n",
    "import matplotlib.pyplot as plt\n",
    "from matplotlib.ticker import AutoMinorLocator, LogLocator, NullFormatter\n",
    "from ipywidgets import widgets, interact_manual, Layout\n",
    "from IPython.display import display\n",
    "\n",
    "from definitions import createWidgets"
   ]
  },
  {
   "cell_type": "code",
   "execution_count": 2,
   "metadata": {},
   "outputs": [],
   "source": [
    "%matplotlib widget\n",
    "plt.rc('font', family='serif')"
   ]
  },
  {
   "cell_type": "code",
   "execution_count": 3,
   "metadata": {},
   "outputs": [],
   "source": [
    "mw = masspec_widgets = createWidgets(filetype=\"mass\", multiselect=True)"
   ]
  },
  {
   "cell_type": "code",
   "execution_count": 128,
   "metadata": {},
   "outputs": [],
   "source": [
    "def get_data(f, norm=True):\n",
    "    mass, counts = np.genfromtxt(f).T\n",
    "    if norm:\n",
    "        maxCount = counts.max()\n",
    "        scale = 100/maxCount\n",
    "        counts *= scale\n",
    "    return mass, counts\n",
    "    \n",
    "def massplot(loc, files, logScale=True, norm=True, only_filtered=False):\n",
    "    \n",
    "    files = [pt(loc)/i for i in files]\n",
    "    figwidth, figheight = (7, 5)\n",
    "    \n",
    "    if only_filtered:\n",
    "        \n",
    "        fig, ax = plt.subplots(dpi=100, figsize=(figwidth, figheight/2))\n",
    "        mw.fig = fig\n",
    "    \n",
    "        if logScale: \n",
    "            ax.set_yscale(\"log\")\n",
    "        else:\n",
    "            plt.ticklabel_format(style='sci', axis='y', scilimits=(0,0))\n",
    "            ax.xaxis.set_minor_locator(AutoMinorLocator(5))\n",
    "            ax.yaxis.set_minor_locator(AutoMinorLocator(5))\n",
    "            \n",
    "        ax.plot(*get_data(files[0], norm), label=\"Mass filter => Trap => Tagged with Ne\")\n",
    "        \n",
    "        ax.legend().set_draggable(True)\n",
    "        ax.set_xlabel(\"mass/charge\", fontsize=12)\n",
    "        ax.set_ylabel(\"Ion Counts\", fontsize=12)\n",
    "        \n",
    "        return\n",
    "    \n",
    "    wspace, hspace = (0.05, 0.05)\n",
    "    \n",
    "    mw.fig = fig = plt.figure(dpi=100, figsize=(figwidth, figheight))\n",
    "    plt.subplots_adjust(wspace=wspace, hspace=hspace)\n",
    "\n",
    "    gs = fig.add_gridspec(2, 2)\n",
    "\n",
    "    ax1 = fig.add_subplot(gs[0, 0])\n",
    "    ax2 = fig.add_subplot(gs[0, 1])\n",
    "    ax3 = fig.add_subplot(gs[1, :])\n",
    "\n",
    "    axs = (ax1, ax2, ax3)\n",
    "    lg = (\"Allene\", \"Propargyl Chloride\", \"Mass filter => Trap => Tagged with Ne\")\n",
    "    for i in range(3):\n",
    "\n",
    "        if logScale: axs[i].set_yscale(\"log\")\n",
    "        axs[i].plot(*get_data(files[i], norm), f\"C{i}\", label=lg[i])\n",
    "        axs[i].xaxis.set_minor_locator(AutoMinorLocator(5))\n",
    "\n",
    "        if i < 2:\n",
    "            axs[i].xaxis.set_tick_params(which='minor', bottom=False, top=True)\n",
    "            axs[i].tick_params(labelbottom=False, bottom=False, labeltop=True, top=True)\n",
    "\n",
    "        axs[i].legend().set_draggable(True)\n",
    "\n",
    "\n",
    "    ax2.yaxis.tick_right()\n",
    "\n",
    "    ax3.set_xlabel(\"mass/charge\", fontsize=12)\n",
    "    fig.text(0.04, 0.5, 'Ion Counts (in log scale)', va='center', rotation='vertical', fontsize=12)\n",
    "    "
   ]
  },
  {
   "cell_type": "code",
   "execution_count": 129,
   "metadata": {},
   "outputs": [
    {
     "data": {
      "application/vnd.jupyter.widget-view+json": {
       "model_id": "bb2addd4c5c840fd952a3cc907efe21d",
       "version_major": 2,
       "version_minor": 0
      },
      "text/plain": [
       "Button(button_style='success', description='update location', layout=Layout(width='20%'), style=ButtonStyle())"
      ]
     },
     "metadata": {},
     "output_type": "display_data"
    },
    {
     "data": {
      "application/vnd.jupyter.widget-view+json": {
       "model_id": "d4ef9e6ba8a84db9b4b42f8a1b1681f5",
       "version_major": 2,
       "version_minor": 0
      },
      "text/plain": [
       "interactive(children=(Text(value='D:\\\\SurfDrive\\\\FELIX_Measurements\\\\C3H3+\\\\2020\\\\masspec', description='mass …"
      ]
     },
     "metadata": {},
     "output_type": "display_data"
    },
    {
     "data": {
      "application/vnd.jupyter.widget-view+json": {
       "model_id": "ddfc91e7649342f6934a1dfbb189ca53",
       "version_major": 2,
       "version_minor": 0
      },
      "text/plain": [
       "Text(value='../OUT/masspec', description='savefilename')"
      ]
     },
     "metadata": {},
     "output_type": "display_data"
    },
    {
     "data": {
      "application/vnd.jupyter.widget-view+json": {
       "model_id": "d6b5d72f122f4fb8a1137cd5c93282e0",
       "version_major": 2,
       "version_minor": 0
      },
      "text/plain": [
       "IntText(value=140, description='savedpi', step=2)"
      ]
     },
     "metadata": {},
     "output_type": "display_data"
    },
    {
     "data": {
      "application/vnd.jupyter.widget-view+json": {
       "model_id": "39c71f1fcb14437f950fae838c99906c",
       "version_major": 2,
       "version_minor": 0
      },
      "text/plain": [
       "Button(button_style='success', description='Save', style=ButtonStyle())"
      ]
     },
     "metadata": {},
     "output_type": "display_data"
    },
    {
     "data": {
      "application/vnd.jupyter.widget-view+json": {
       "model_id": "548300ba0ea94ef4b9ee7afe9079ddd9",
       "version_major": 2,
       "version_minor": 0
      },
      "text/plain": [
       "Button(button_style='danger', description='Clear', style=ButtonStyle())"
      ]
     },
     "metadata": {},
     "output_type": "display_data"
    },
    {
     "data": {
      "application/vnd.jupyter.widget-view+json": {
       "model_id": "16473ccbfa1d4f37bc31caa69e3ffc4f",
       "version_major": 2,
       "version_minor": 0
      },
      "text/plain": [
       "Output()"
      ]
     },
     "metadata": {},
     "output_type": "display_data"
    }
   ],
   "source": [
    "display(mw.update_files_button)\n",
    "out = interact_manual( massplot, loc=mw.location, files=mw.files)\n",
    "display(mw.savefilename, mw.savedpi, mw.savebutton, mw.closebutton, mw.output)\n",
    "\n",
    "# D:\\SurfDrive\\FELIX_Measurements\\C3H3+\\2020\\masspec"
   ]
  },
  {
   "cell_type": "code",
   "execution_count": 70,
   "metadata": {},
   "outputs": [
    {
     "name": "stderr",
     "output_type": "stream",
     "text": [
      "C:\\ProgramData\\Miniconda3\\lib\\site-packages\\ipykernel_launcher.py:8: RuntimeWarning: More than 20 figures have been opened. Figures created through the pyplot interface (`matplotlib.pyplot.figure`) are retained until explicitly closed and may consume too much memory. (To control this warning, see the rcParam `figure.max_open_warning`).\n",
      "  \n"
     ]
    },
    {
     "data": {
      "application/vnd.jupyter.widget-view+json": {
       "model_id": "bba1b6f9265a4ea38e1c820638767992",
       "version_major": 2,
       "version_minor": 0
      },
      "text/plain": [
       "Canvas(toolbar=Toolbar(toolitems=[('Home', 'Reset original view', 'home', 'home'), ('Back', 'Back to previous …"
      ]
     },
     "metadata": {},
     "output_type": "display_data"
    },
    {
     "name": "stdout",
     "output_type": "stream",
     "text": [
      "GridSpec(2, 1)\n"
     ]
    },
    {
     "ename": "IndexError",
     "evalue": "list index out of range",
     "output_type": "error",
     "traceback": [
      "\u001b[1;31m---------------------------------------------------------------------------\u001b[0m",
      "\u001b[1;31mIndexError\u001b[0m                                Traceback (most recent call last)",
      "\u001b[1;32m<ipython-input-70-218e5e96aae3>\u001b[0m in \u001b[0;36m<module>\u001b[1;34m\u001b[0m\n\u001b[0;32m     22\u001b[0m \u001b[1;33m\u001b[0m\u001b[0m\n\u001b[0;32m     23\u001b[0m     \u001b[1;32mif\u001b[0m \u001b[0mlogScale\u001b[0m\u001b[1;33m:\u001b[0m \u001b[0maxs\u001b[0m\u001b[1;33m[\u001b[0m\u001b[0mi\u001b[0m\u001b[1;33m]\u001b[0m\u001b[1;33m.\u001b[0m\u001b[0mset_yscale\u001b[0m\u001b[1;33m(\u001b[0m\u001b[1;34m\"log\"\u001b[0m\u001b[1;33m)\u001b[0m\u001b[1;33m\u001b[0m\u001b[1;33m\u001b[0m\u001b[0m\n\u001b[1;32m---> 24\u001b[1;33m     \u001b[0maxs\u001b[0m\u001b[1;33m[\u001b[0m\u001b[0mi\u001b[0m\u001b[1;33m]\u001b[0m\u001b[1;33m.\u001b[0m\u001b[0mplot\u001b[0m\u001b[1;33m(\u001b[0m\u001b[1;33m*\u001b[0m\u001b[0mget_data\u001b[0m\u001b[1;33m(\u001b[0m\u001b[0mfiles\u001b[0m\u001b[1;33m[\u001b[0m\u001b[0mi\u001b[0m\u001b[1;33m]\u001b[0m\u001b[1;33m,\u001b[0m \u001b[0mnorm\u001b[0m\u001b[1;33m)\u001b[0m\u001b[1;33m,\u001b[0m \u001b[1;34mf\"C{i}\"\u001b[0m\u001b[1;33m,\u001b[0m \u001b[0mlabel\u001b[0m\u001b[1;33m=\u001b[0m\u001b[0mlg\u001b[0m\u001b[1;33m[\u001b[0m\u001b[0mi\u001b[0m\u001b[1;33m]\u001b[0m\u001b[1;33m)\u001b[0m\u001b[1;33m\u001b[0m\u001b[1;33m\u001b[0m\u001b[0m\n\u001b[0m\u001b[0;32m     25\u001b[0m     \u001b[0maxs\u001b[0m\u001b[1;33m[\u001b[0m\u001b[0mi\u001b[0m\u001b[1;33m]\u001b[0m\u001b[1;33m.\u001b[0m\u001b[0mxaxis\u001b[0m\u001b[1;33m.\u001b[0m\u001b[0mset_minor_locator\u001b[0m\u001b[1;33m(\u001b[0m\u001b[0mAutoMinorLocator\u001b[0m\u001b[1;33m(\u001b[0m\u001b[1;36m10\u001b[0m\u001b[1;33m)\u001b[0m\u001b[1;33m)\u001b[0m\u001b[1;33m\u001b[0m\u001b[1;33m\u001b[0m\u001b[0m\n\u001b[0;32m     26\u001b[0m \u001b[1;33m\u001b[0m\u001b[0m\n",
      "\u001b[1;31mIndexError\u001b[0m: list index out of range"
     ]
    }
   ],
   "source": [
    "files = [pt(mw.location.value)/i for i in mw.files.value]\n",
    "wspace, hspace = (0.05, 0.05)\n",
    "figwidth, figheight = (7, 5)\n",
    "\n",
    "logScale = True\n",
    "norm = False\n",
    "\n",
    "fig = plt.figure(dpi=100, figsize=(figwidth, figheight))\n",
    "plt.subplots_adjust(wspace=wspace, hspace=hspace)\n",
    "\n",
    "gs = fig.add_gridspec(2, 1)\n",
    "print(gs)\n",
    "ax1 = fig.add_subplot(gs[0])\n",
    "ax2 = fig.add_subplot(gs[1])\n",
    "#ax3 = fig.add_subplot(gs[1, :])\n",
    "\n",
    "axs = (ax1, ax2)\n",
    "lg = (\"Allene\", \"Propargyl Chloride\", \"Mass filter => Trap => Tagged with Ne\")\n",
    "ax1.get_shared_x_axes().join(ax1, ax2)\n",
    "\n",
    "for i in range(2):\n",
    "\n",
    "    if logScale: axs[i].set_yscale(\"log\")\n",
    "    axs[i].plot(*get_data(files[i], norm), f\"C{i}\", label=lg[i])\n",
    "    axs[i].xaxis.set_minor_locator(AutoMinorLocator(10))\n",
    "    \n",
    "    \n",
    "    axs[i].legend().set_draggable(True)\n",
    "\n",
    "\n",
    "#ax3.set_xlabel(\"mass/charge\", fontsize=12)\n",
    "fig.text(0.04, 0.5, 'Ion Counts (in log scale)', va='center', rotation='vertical', fontsize=12)"
   ]
  },
  {
   "cell_type": "code",
   "execution_count": 75,
   "metadata": {},
   "outputs": [],
   "source": [
    "close_figure = widgets.Button(description=\"Close figure\",button_style=\"danger\", layout=Layout(width='20%'), style = {'description_width': 'initial'})\n",
    "close_figure.on_click(lambda e: plt.close(\"all\"))\n"
   ]
  },
  {
   "cell_type": "code",
   "execution_count": 93,
   "metadata": {},
   "outputs": [
    {
     "data": {
      "application/vnd.jupyter.widget-view+json": {
       "model_id": "9881ba3bb65c4da4b94843671bfdf647",
       "version_major": 2,
       "version_minor": 0
      },
      "text/plain": [
       "Button(button_style='danger', description='Close figure', layout=Layout(width='20%'), style=ButtonStyle())"
      ]
     },
     "metadata": {},
     "output_type": "display_data"
    }
   ],
   "source": [
    "display(close_figure)"
   ]
  },
  {
   "cell_type": "code",
   "execution_count": 18,
   "metadata": {},
   "outputs": [
    {
     "data": {
      "text/plain": [
       "<matplotlib.gridspec.SubplotSpec at 0x1f7bf4c8a08>"
      ]
     },
     "execution_count": 18,
     "metadata": {},
     "output_type": "execute_result"
    }
   ],
   "source": [
    "gs[0]"
   ]
  },
  {
   "cell_type": "code",
   "execution_count": null,
   "metadata": {},
   "outputs": [],
   "source": []
  },
  {
   "cell_type": "code",
   "execution_count": null,
   "metadata": {},
   "outputs": [],
   "source": []
  },
  {
   "cell_type": "code",
   "execution_count": null,
   "metadata": {},
   "outputs": [],
   "source": []
  },
  {
   "cell_type": "code",
   "execution_count": null,
   "metadata": {},
   "outputs": [],
   "source": []
  },
  {
   "cell_type": "code",
   "execution_count": null,
   "metadata": {},
   "outputs": [],
   "source": []
  },
  {
   "cell_type": "code",
   "execution_count": null,
   "metadata": {},
   "outputs": [],
   "source": []
  },
  {
   "cell_type": "code",
   "execution_count": null,
   "metadata": {},
   "outputs": [],
   "source": []
  },
  {
   "cell_type": "code",
   "execution_count": null,
   "metadata": {},
   "outputs": [],
   "source": []
  },
  {
   "cell_type": "code",
   "execution_count": null,
   "metadata": {},
   "outputs": [],
   "source": []
  },
  {
   "cell_type": "code",
   "execution_count": null,
   "metadata": {},
   "outputs": [],
   "source": []
  },
  {
   "cell_type": "code",
   "execution_count": null,
   "metadata": {},
   "outputs": [],
   "source": []
  },
  {
   "cell_type": "code",
   "execution_count": null,
   "metadata": {},
   "outputs": [],
   "source": []
  },
  {
   "cell_type": "code",
   "execution_count": null,
   "metadata": {},
   "outputs": [],
   "source": []
  }
 ],
 "metadata": {
  "kernelspec": {
   "display_name": "Python 3",
   "language": "python",
   "name": "python3"
  },
  "language_info": {
   "codemirror_mode": {
    "name": "ipython",
    "version": 3
   },
   "file_extension": ".py",
   "mimetype": "text/x-python",
   "name": "python",
   "nbconvert_exporter": "python",
   "pygments_lexer": "ipython3",
   "version": "3.7.4"
  }
 },
 "nbformat": 4,
 "nbformat_minor": 4
}
