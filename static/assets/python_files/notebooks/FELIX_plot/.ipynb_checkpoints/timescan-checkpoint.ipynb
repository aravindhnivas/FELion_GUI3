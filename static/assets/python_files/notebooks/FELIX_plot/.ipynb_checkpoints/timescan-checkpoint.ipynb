{
 "cells": [
  {
   "cell_type": "code",
   "execution_count": 1,
   "metadata": {},
   "outputs": [],
   "source": [
    "import os\n",
    "from pathlib import Path as pt\n",
    "import numpy as np\n",
    "import matplotlib.pyplot as plt\n",
    "from matplotlib.ticker import AutoMinorLocator\n",
    "from ipywidgets import widgets, interact_manual, Layout\n",
    "from IPython.display import display\n",
    "\n",
    "from definitions import createWidgets, figure_widgets"
   ]
  },
  {
   "cell_type": "code",
   "execution_count": 2,
   "metadata": {},
   "outputs": [],
   "source": [
    "%matplotlib widget"
   ]
  },
  {
   "cell_type": "code",
   "execution_count": 3,
   "metadata": {},
   "outputs": [],
   "source": [
    "tw = timescan_widgets = createWidgets(filetype=\"fscan\", update_label=\"Update timescan location\", multiselect=False)\n",
    "figw = figure_widgets()\n",
    "lgsz = widgets.IntText(7, min=1, step=0.5, description=\"legend fontSz\")"
   ]
  },
  {
   "cell_type": "code",
   "execution_count": 4,
   "metadata": {},
   "outputs": [],
   "source": [
    "def timescan_fittedplot(loc, filename, hspace=0.05, wspace=0.05, grid_ratio=\"1, 1\", lgsz=7, singlePlot=False):\n",
    "\n",
    "    filename = pt(filename)\n",
    "    fscan = pt(loc)/filename\n",
    "    rscan = pt(loc)/f\"{filename.stem}.rscan\"\n",
    "    \n",
    "    grid_ratio = np.array(grid_ratio.split(\",\"), dtype=np.float)\n",
    "    \n",
    "    # Reading file\n",
    "    with open(fscan, \"r\") as f: read = f.readlines()\n",
    "    legends = []\n",
    "    for i in read[1:8]:\n",
    "        i = i.split(\"#\")[-1].split(\"\\n\")[0].strip()\n",
    "        legends.append(i)\n",
    "    \n",
    "    #print(legends)\n",
    "    time, powerOn, countsOn, errOn, powerOff, countsOff, \\\n",
    "    errOff, dep_exp, dep_exp_err = np.genfromtxt(rscan).T\n",
    "    fitX, fitOn, fitOff, dep_fit, rel_abun = np.genfromtxt(fscan).T\n",
    "    \n",
    "    if singlePlot:\n",
    "        fig, ax = plt.subplots(dpi=140)\n",
    "        tw.fig = fig\n",
    "        \n",
    "        ax.minorticks_on()\n",
    "        \n",
    "        ax.plot(fitX, rel_abun, \"-\", label=f\"{legends[0]}\")\n",
    "        ax.errorbar(powerOn, dep_exp, yerr=dep_exp_err, fmt=\".C0\")\n",
    "        ax.set(xlabel=\"Total energy deposited (J)\", ylabel=\"Relative depletion of active isomer\")\n",
    "        ax.legend(fontsize=lgsz)\n",
    "        \n",
    "    else:\n",
    "        \n",
    "        grid = {\"hspace\":hspace, \"wspace\":wspace, \"width_ratios\":grid_ratio}\n",
    "        fig_t, (ax0_t, ax1_t) = plt.subplots(2, 1, figsize=(7, 7), dpi=140 , sharex=True, gridspec_kw=grid)\n",
    "        tw.fig = fig_t\n",
    "\n",
    "        # ax0\n",
    "        ax0_t.errorbar(powerOn, countsOn, yerr=errOn, fmt=\".C0\")\n",
    "        ax0_t.errorbar(powerOn, countsOff, yerr=errOff, fmt=\".C1\")\n",
    "\n",
    "        ax0_t.plot(fitX, fitOn, \"-C0\", label=\"Resonance ON\")\n",
    "        ax0_t.plot(fitX, fitOff, \"--C1\", label= \"Resonance OFF\")\n",
    "\n",
    "        # ax1\n",
    "        ax1_t.errorbar(powerOn, dep_exp, yerr=dep_exp_err, fmt=\".C2\", label=\"Experiment\")\n",
    "\n",
    "        #ax1_t.plot(fitX, dep_fit, \"--k\", label=\"Depl. from fit on/off\")\n",
    "        ax1_t.plot(fitX, rel_abun, \"-C2\", label=f\"D(E) fitted: {legends[0]}\")\n",
    "        \n",
    "        ax0_t.minorticks_on()\n",
    "        ax1_t.minorticks_on()\n",
    "        \n",
    "        #Legend and grid\n",
    "        ax0_t.legend(fontsize=lgsz)\n",
    "        ax1_t.legend()\n",
    "\n",
    "        ax0_t.set(ylabel=\"Ion Counts\")\n",
    "        ax1_t.set(xlabel=\"Total energy deposited (J)\", ylabel=\"Relative depletion of active isomer\")\n",
    "\n",
    "    plt.show()"
   ]
  },
  {
   "cell_type": "code",
   "execution_count": 6,
   "metadata": {},
   "outputs": [
    {
     "data": {
      "application/vnd.jupyter.widget-view+json": {
       "model_id": "08678cf1c8af44ac8caead0372531c48",
       "version_major": 2,
       "version_minor": 0
      },
      "text/plain": [
       "Button(button_style='success', description='Update timescan location', layout=Layout(width='20%'), style=Butto…"
      ]
     },
     "metadata": {},
     "output_type": "display_data"
    },
    {
     "data": {
      "application/vnd.jupyter.widget-view+json": {
       "model_id": "9a4bc4587e2947dbb352e984b2b7ac25",
       "version_major": 2,
       "version_minor": 0
      },
      "text/plain": [
       "interactive(children=(Text(value='D:\\\\SurfDrive\\\\FELIX_Measurements\\\\C3H3+\\\\2020\\\\timescans', description='fsc…"
      ]
     },
     "metadata": {},
     "output_type": "display_data"
    },
    {
     "data": {
      "application/vnd.jupyter.widget-view+json": {
       "model_id": "18d5483cf2c54880a5d5131fed52d7c5",
       "version_major": 2,
       "version_minor": 0
      },
      "text/plain": [
       "Text(value='', description='savefilename')"
      ]
     },
     "metadata": {},
     "output_type": "display_data"
    },
    {
     "data": {
      "application/vnd.jupyter.widget-view+json": {
       "model_id": "09e753d985724a0c918a3e706150a488",
       "version_major": 2,
       "version_minor": 0
      },
      "text/plain": [
       "IntText(value=140, description='savedpi', step=2)"
      ]
     },
     "metadata": {},
     "output_type": "display_data"
    },
    {
     "data": {
      "application/vnd.jupyter.widget-view+json": {
       "model_id": "01a85aaf4cce4ce8b73499595b0ee2c3",
       "version_major": 2,
       "version_minor": 0
      },
      "text/plain": [
       "Button(button_style='success', description='Save', style=ButtonStyle())"
      ]
     },
     "metadata": {},
     "output_type": "display_data"
    },
    {
     "data": {
      "application/vnd.jupyter.widget-view+json": {
       "model_id": "ea8fa73d9f0a42f8b4fdd95cee07ef57",
       "version_major": 2,
       "version_minor": 0
      },
      "text/plain": [
       "Button(button_style='danger', description='Clear', style=ButtonStyle())"
      ]
     },
     "metadata": {},
     "output_type": "display_data"
    },
    {
     "data": {
      "application/vnd.jupyter.widget-view+json": {
       "model_id": "a3cd8789812042dabcdbb7305194c0cc",
       "version_major": 2,
       "version_minor": 0
      },
      "text/plain": [
       "Output()"
      ]
     },
     "metadata": {},
     "output_type": "display_data"
    }
   ],
   "source": [
    "display(tw.update_files_button)\n",
    "out = interact_manual( timescan_fittedplot, loc=tw.location, filename=tw.files, lgsz=lgsz, hspace=figw.hspace, wspace=figw.wspace, grid_ratio=figw.plot_ratio)\n",
    "display(tw.savefilename, tw.savedpi,  tw.savebutton, tw.closebutton, tw.output)\n",
    "\n",
    "# D:\\SurfDrive\\FELIX_Measurements\\C3H3+\\2020\\timescans"
   ]
  },
  {
   "cell_type": "code",
   "execution_count": null,
   "metadata": {},
   "outputs": [],
   "source": []
  },
  {
   "cell_type": "code",
   "execution_count": null,
   "metadata": {},
   "outputs": [],
   "source": []
  }
 ],
 "metadata": {
  "kernelspec": {
   "display_name": "Python 3",
   "language": "python",
   "name": "python3"
  },
  "language_info": {
   "codemirror_mode": {
    "name": "ipython",
    "version": 3
   },
   "file_extension": ".py",
   "mimetype": "text/x-python",
   "name": "python",
   "nbconvert_exporter": "python",
   "pygments_lexer": "ipython3",
   "version": "3.7.4"
  }
 },
 "nbformat": 4,
 "nbformat_minor": 4
}
