{
 "cells": [
  {
   "cell_type": "code",
   "execution_count": 1,
   "metadata": {},
   "outputs": [],
   "source": [
    "from pathlib import Path as pt\n",
    "import numpy as np\n",
    "import matplotlib.pyplot as plt"
   ]
  },
  {
   "cell_type": "code",
   "execution_count": 4,
   "metadata": {},
   "outputs": [],
   "source": [
    "from test_func import boltzman_distribution, mhz_wn"
   ]
  },
  {
   "cell_type": "code",
   "execution_count": 70,
   "metadata": {},
   "outputs": [
    {
     "data": {
      "text/plain": [
       "array([ 3.92579456,  3.93945241,  7.85143321,  7.86509583,  7.87419919,\n",
       "       11.7995371 , 11.80864453, 15.73352499, 15.74263563, 19.66691357,\n",
       "       19.67601947, 23.59954319, 23.60864599, 27.53125841, 27.54037478,\n",
       "       31.461919  , 31.47103307, 35.3913473 , 39.31944982, 39.32855416,\n",
       "       43.25512999, 43.24601805])"
      ]
     },
     "execution_count": 70,
     "metadata": {},
     "output_type": "execute_result"
    }
   ],
   "source": [
    "Energy_CO_in_MHz = np.array([117692.360, 118101.812, \n",
    "                             235380.046, 235789.641, 236062.553, \n",
    "                             353741.223, 354014.257, \n",
    "                             471679.213, 471952.343, \n",
    "                            589599.236, 589872.224, \n",
    "                            707496.506, 707769.401,\n",
    "                            825366.363, 825639.665,\n",
    "                            943204.603, 943477.836, \n",
    "                            1061005.9, \n",
    "                            1178767.451, 1179040.392,\n",
    "                            1296756.174, 1296483.005])\n",
    "Energy_CO = mhz_wn(Energy_CO_in_MHz)\n",
    "Energy_CO"
   ]
  },
  {
   "cell_type": "code",
   "execution_count": 115,
   "metadata": {},
   "outputs": [
    {
     "data": {
      "text/plain": [
       "(array([1.51387696, 4.53526112, 5.05665102, 7.06937904, 9.08070281,\n",
       "        7.41456127, 8.75446618, 6.74860193, 7.6412582 , 5.70601199,\n",
       "        6.3007462 , 4.61102326, 5.00729567, 3.61380278, 3.87785733,\n",
       "        2.77038835, 2.94636227, 2.08872022, 1.4747092 , 1.5529696 ,\n",
       "        1.09054296, 1.14481163]),\n",
       " 100.0)"
      ]
     },
     "execution_count": 115,
     "metadata": {},
     "output_type": "execute_result"
    },
    {
     "data": {
      "image/png": "[encoded data removed]",
      "text/plain": [
       "<Figure size 432x288 with 1 Axes>"
      ]
     },
     "metadata": {
      "needs_background": "light"
     },
     "output_type": "display_data"
    }
   ],
   "source": [
    "trapTemp = 12\n",
    "boltz_pop = boltzman_distribution(Energy_CO, 14)*100\n",
    "plt.plot(boltz_pop, \".-\")\n",
    "boltz_pop, boltz_pop.sum()"
   ]
  },
  {
   "cell_type": "code",
   "execution_count": null,
   "metadata": {},
   "outputs": [],
   "source": []
  }
 ],
 "metadata": {
  "kernelspec": {
   "display_name": "Python 3",
   "language": "python",
   "name": "python3"
  },
  "language_info": {
   "codemirror_mode": {
    "name": "ipython",
    "version": 3
   },
   "file_extension": ".py",
   "mimetype": "text/x-python",
   "name": "python",
   "nbconvert_exporter": "python",
   "pygments_lexer": "ipython3",
   "version": "3.8.3"
  }
 },
 "nbformat": 4,
 "nbformat_minor": 4
}
