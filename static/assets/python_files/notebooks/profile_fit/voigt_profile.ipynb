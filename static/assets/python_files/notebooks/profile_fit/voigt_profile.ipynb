{
 "cells": [
  {
   "cell_type": "code",
   "execution_count": 1,
   "metadata": {},
   "outputs": [],
   "source": [
    "from pathlib import Path as pt\n",
    "import numpy as np\n",
    "from ipywidgets import widgets\n",
    "import matplotlib.pyplot as plt\n",
    "from scipy.special import wofz\n",
    "from scipy.optimize import curve_fit"
   ]
  },
  {
   "cell_type": "code",
   "execution_count": 2,
   "metadata": {},
   "outputs": [],
   "source": [
    "def voigt_profile(x, mu, amp, sigma, gamma):\n",
    "    z = ((x-mu)+1j*gamma)/(sigma*np.sqrt(2))\n",
    "    real = wofz(z).real\n",
    "    # norm = (sigma*np.sqrt(2*np.pi))\n",
    "    return amp*real\n",
    "\n",
    "def voigt_fwhm(sigma, gamma):\n",
    "    fG = sigma*(2*np.sqrt(2*np.log(2)))\n",
    "    fL = gamma*2\n",
    "    return 0.5346*fL + np.sqrt(0.2166*fL**2 + fG**2)"
   ]
  },
  {
   "cell_type": "code",
   "execution_count": 20,
   "metadata": {},
   "outputs": [
    {
     "output_type": "display_data",
     "data": {
      "text/plain": "Canvas(toolbar=Toolbar(toolitems=[('Home', 'Reset original view', 'home', 'home'), ('Back', 'Back to previous …",
      "application/vnd.jupyter.widget-view+json": {
       "version_major": 2,
       "version_minor": 0,
       "model_id": "f8a61fdc171342e5862f52036dada613"
      }
     },
     "metadata": {}
    },
    {
     "output_type": "stream",
     "name": "stdout",
     "text": [
      "freq=4.54e+05\n",
      "pop=array([4.53521857e+05, 2.63108139e+01, 1.68538337e-01, 1.05152514e-02])\n",
      "perr=array([0.00353033, 2.33900223, 0.0104913 , 0.01697486])\n",
      "fG_fit=0.397\n",
      "fL_fit=0.021\n",
      "freq_fit=453521.857\n",
      "depletion_fit=26.327\n",
      "<ipython-input-2-dc1b7e0f3bba>:2: RuntimeWarning: divide by zero encountered in true_divide\n",
      "  z = ((x-mu)+1j*gamma)/(sigma*np.sqrt(2))\n",
      "<ipython-input-20-7928f6f22998>:18: RuntimeWarning: invalid value encountered in sqrt\n",
      "  perr = np.diag(np.sqrt(pcov))\n"
     ]
    }
   ],
   "source": [
    "%matplotlib widget\n",
    "fig, ax = plt.subplots()\n",
    "\n",
    "freq = 453_521.8573\n",
    "signal = 25\n",
    "print(f\"{freq=:.2e}\")\n",
    "\n",
    "wn, inten = np.genfromtxt(\"./CD+_in_MHz.dat\").T\n",
    "ax.plot(wn, inten, \".k\", label=\"Exp.\")\n",
    "\n",
    "# fG = sigma*(2*np.sqrt(2*np.log(2)))\n",
    "# fL = gamma*2\n",
    "\n",
    "sigma = 0\n",
    "gamma = 0.1\n",
    "\n",
    "pop, pcov = curve_fit(voigt_profile, wn, inten, p0=[freq, signal, sigma, gamma])\n",
    "perr = np.diag(np.sqrt(pcov))\n",
    "\n",
    "print(f\"{pop=}\\n{perr=}\")\n",
    "\n",
    "freq_fit, signal_fit, sigma_fit, gamma_fit = pop\n",
    "fG_fit = sigma_fit*(2*np.sqrt(2*np.log(2)))\n",
    "fL_fit = 2*gamma_fit\n",
    "fV = voigt_fwhm(sigma_fit, gamma_fit)\n",
    "\n",
    "print(f\"{fG_fit=:.3f}\\n{fL_fit=:.3f}\\n{freq_fit=:.3f}\\n{depletion_fit=:.3f}\")\n",
    "label = f\"$f_G: ${fG_fit:.3f}\\n$f_L: ${fL_fit:.3f}\\n$f_V: ${fV:.3f}\\n$v: ${freq_fit:.3f}\\n$Signal: ${signal_fit:.3f}\"\n",
    "\n",
    "ax.plot(wn, voigt_profile(wn, *pop), \"-k\", label=label)\n",
    "ax.vlines(freq_fit, ymin=0, ymax=depletion_fit, ls=\"--\")\n",
    "ax.hlines(depletion_fit/2, xmin=freq_fit-fV/2, xmax=freq_fit+fV/2, ls=\"--\")\n",
    "\n",
    "ax.legend()\n",
    "plt.show()"
   ]
  },
  {
   "cell_type": "code",
   "execution_count": 7,
   "metadata": {},
   "outputs": [
    {
     "output_type": "execute_result",
     "data": {
      "text/plain": [
       "-453521.4491093496"
      ]
     },
     "metadata": {},
     "execution_count": 7
    }
   ],
   "source": [
    "fV-freq_fit"
   ]
  },
  {
   "cell_type": "code",
   "execution_count": null,
   "metadata": {},
   "outputs": [],
   "source": []
  },
  {
   "cell_type": "code",
   "execution_count": null,
   "metadata": {},
   "outputs": [],
   "source": []
  }
 ],
 "metadata": {
  "kernelspec": {
   "name": "python3",
   "display_name": "Python 3.8.3 64-bit ('base': conda)"
  },
  "language_info": {
   "codemirror_mode": {
    "name": "ipython",
    "version": 3
   },
   "file_extension": ".py",
   "mimetype": "text/x-python",
   "name": "python",
   "nbconvert_exporter": "python",
   "pygments_lexer": "ipython3",
   "version": "3.8.3"
  },
  "interpreter": {
   "hash": "5169fa4ceccb8898af6539985de99c31ec80f328ecf0dcc120c0b962b90dfe51"
  }
 },
 "nbformat": 4,
 "nbformat_minor": 4
}