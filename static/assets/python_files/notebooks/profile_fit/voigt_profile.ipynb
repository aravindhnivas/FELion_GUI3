{
 "cells": [
  {
   "cell_type": "code",
   "execution_count": 1,
   "metadata": {},
   "outputs": [],
   "source": [
    "from pathlib import Path as pt\n",
    "import numpy as np\n",
    "from ipywidgets import widgets\n",
    "import matplotlib.pyplot as plt\n",
    "import matplotlib.ticker as plticker\n",
    "from scipy.special import wofz\n",
    "from scipy.optimize import curve_fit\n",
    "from uncertainties import ufloat as uf, unumpy as unp"
   ]
  },
  {
   "cell_type": "code",
   "execution_count": 2,
   "metadata": {},
   "outputs": [
    {
     "data": {
      "text/plain": [
       "{'divide': 'warn', 'over': 'warn', 'under': 'ignore', 'invalid': 'warn'}"
      ]
     },
     "execution_count": 2,
     "metadata": {},
     "output_type": "execute_result"
    }
   ],
   "source": [
    "def optimizePlot(ax, xlabel, ylabel, yscale=\"linear\", fmtString=\"{x:.1f}\", Nlocator=5):\n",
    "    ax.set(yscale=\"linear\")\n",
    "    ax.set_xlabel(xlabel, fontsize=16)\n",
    "    ax.set_ylabel(ylabel, fontsize=16)\n",
    "\n",
    "    ax.minorticks_on()\n",
    "    ax.tick_params(axis='both', labelsize=16)\n",
    "    ax.tick_params(which='major', width=2)\n",
    "    ax.tick_params(which='minor', width=1)\n",
    "    ax.tick_params(which='major', length=7)\n",
    "    ax.tick_params(which='minor', length=4)\n",
    "\n",
    "    ax.xaxis.set_major_formatter(plticker.StrMethodFormatter(fmtString))\n",
    "    loc = plticker.MaxNLocator(Nlocator)\n",
    "    ax.xaxis.set_major_locator(loc)\n",
    "    return ax\n",
    "\n",
    "np.seterr(all=\"ignore\")"
   ]
  },
  {
   "cell_type": "code",
   "execution_count": 3,
   "metadata": {},
   "outputs": [],
   "source": [
    "def voigt_profile(x, mu, amp, sigma, gamma):\n",
    "    z = ((x-mu)+1j*gamma)/(sigma*np.sqrt(2))\n",
    "    real = wofz(z).real\n",
    "    # norm = (sigma*np.sqrt(2*np.pi))\n",
    "    return amp*real\n",
    "\n",
    "def voigt_fwhm(sigma, gamma):\n",
    "    fG = 2*sigma*np.sqrt(2*np.log(2))\n",
    "    fL = gamma*2\n",
    "    return 0.5346*fL + unp.sqrt(0.2166*fL**2 + fG**2)"
   ]
  },
  {
   "cell_type": "code",
   "execution_count": 36,
   "metadata": {},
   "outputs": [
    {
     "data": {
      "application/vnd.jupyter.widget-view+json": {
       "model_id": "8591aa68ac384b6d9297f56394d0b667",
       "version_major": 2,
       "version_minor": 0
      },
      "text/plain": [
       "Canvas(toolbar=Toolbar(toolitems=[('Home', 'Reset original view', 'home', 'home'), ('Back', 'Back to previous …"
      ]
     },
     "metadata": {},
     "output_type": "display_data"
    },
    {
     "name": "stdout",
     "output_type": "stream",
     "text": [
      "freq=4.54e+05\n",
      "pop=array([4.53521857e+05, 2.64031726e+01, 1.68075720e-01, 1.11476787e-02])\n",
      "perr=array([0.00353148, 2.29466695, 0.01047121, 0.01704714])\n",
      "fG_fit=0.396+/-0.025\n",
      "fL_fit=0.022+/-0.034\n",
      "freq_fit=453521.857+/-0.004\n",
      "signal_fit=26.403+/-2.295\n",
      "fG_fit=0.396+/-0.025\n",
      "fL_fit=0.022+/-0.034\n",
      "freq_fit=453521.857+/-0.004\n",
      "signal_fit=26.403+/-2.295\n"
     ]
    }
   ],
   "source": [
    "%matplotlib widget\n",
    "fig, ax = plt.subplots(figsize=(10, 6), dpi=100)\n",
    "\n",
    "freq = 453_521.8573\n",
    "signal = 25\n",
    "print(f\"{freq=:.2e}\")\n",
    "\n",
    "wn, inten = np.genfromtxt(\"./CD+_in_MHz.dat\").T\n",
    "ax.plot(wn, inten, \".k\", label=\"Exp.\")\n",
    "\n",
    "# sigma = 0\n",
    "# gamma = 0.1\n",
    "# fG = sigma*(2*np.sqrt(2*np.log(2)))\n",
    "# fL = gamma*2\n",
    "\n",
    "fG = 0.318\n",
    "fL = 0.160\n",
    "sigma = fG/(2*np.sqrt(2*np.log(2)))\n",
    "gamma = fL/2\n",
    "\n",
    "\n",
    "pop, pcov = curve_fit(voigt_profile, wn, inten, p0=[freq, signal, sigma, gamma])\n",
    "perr = np.diag(np.sqrt(pcov))\n",
    "\n",
    "parameters = unp.uarray(pop, perr)\n",
    "print(f\"{pop=}\\n{perr=}\")\n",
    "\n",
    "freq_fit, signal_fit, sigma_fit, gamma_fit = parameters\n",
    "\n",
    "fG_fit = sigma_fit*(2*np.sqrt(2*np.log(2)))\n",
    "fL_fit = 2*gamma_fit\n",
    "\n",
    "print(f\"{fG_fit=:.3f}\\n{fL_fit=:.3f}\\n{freq_fit=:.3f}\\n{signal_fit=:.3f}\")\n",
    "\n",
    "fV = voigt_fwhm(sigma_fit, gamma_fit)\n",
    "# fV = 0.5346*fL_fit + unp.sqrt(0.2166*fL_fit**2 + fG_fit**2)\n",
    "\n",
    "print(f\"{fG_fit=:.3f}\\n{fL_fit=:.3f}\\n{freq_fit=:.3f}\\n{signal_fit=:.3f}\")\n",
    "label = f\"$v: ${freq_fit:.4f} MHz\\nSignal: {signal_fit:.1f} %\\n$f_G: ${fG_fit*1e3:.1f} KHz\\n$f_L: ${fL_fit*1e3:.1f} KHz\\n$f_V: ${fV*1e3:.1f} KHz\"\n",
    "\n",
    "ax.plot(wn, voigt_profile(wn, *pop), \"-k\", label=label)\n",
    "ax.vlines(freq_fit.nominal_value, ymin=0, ymax=signal_fit.nominal_value, ls=\"--\")\n",
    "ax.hlines(signal_fit.nominal_value/2, xmin=freq_fit.nominal_value-fV.nominal_value/2, xmax=freq_fit.nominal_value+fV.nominal_value/2, ls=\"--\")\n",
    "ax = optimizePlot(ax, \"Frequency(MHz)\", \"Signal (%)\")\n",
    "legend = ax.legend(fontsize=14)\n",
    "plt.show()\n",
    "savelocation = pt(\"./\")\n",
    "savename = \"CD+_J01\"\n",
    "plt.savefig(f\"{savelocation/savename}.png\")\n",
    "plt.savefig(f\"{savelocation/savename}.pdf\")"
   ]
  },
  {
   "cell_type": "code",
   "execution_count": 33,
   "metadata": {},
   "outputs": [
    {
     "name": "stdout",
     "output_type": "stream",
     "text": [
      "fV*1e3=422.316\n"
     ]
    }
   ],
   "source": [
    "fG = 0.252717675256927\n",
    "fL = 0.264242580083222\n",
    "sigma = fG/(2*np.sqrt(2*np.log(2)))\n",
    "gamma = fL/2\n",
    "fV = 0.5346*fL + np.sqrt(0.2166*fL**2 + fG**2)\n",
    "print(f\"{fV*1e3=:.3f}\")"
   ]
  },
  {
   "cell_type": "code",
   "execution_count": null,
   "metadata": {},
   "outputs": [],
   "source": []
  },
  {
   "cell_type": "code",
   "execution_count": null,
   "metadata": {},
   "outputs": [],
   "source": []
  },
  {
   "cell_type": "code",
   "execution_count": null,
   "metadata": {},
   "outputs": [],
   "source": []
  }
 ],
 "metadata": {
  "interpreter": {
   "hash": "5169fa4ceccb8898af6539985de99c31ec80f328ecf0dcc120c0b962b90dfe51"
  },
  "kernelspec": {
   "display_name": "Python 3",
   "language": "python",
   "name": "python3"
  },
  "language_info": {
   "codemirror_mode": {
    "name": "ipython",
    "version": 3
   },
   "file_extension": ".py",
   "mimetype": "text/x-python",
   "name": "python",
   "nbconvert_exporter": "python",
   "pygments_lexer": "ipython3",
   "version": "3.8.3"
  }
 },
 "nbformat": 4,
 "nbformat_minor": 4
}
