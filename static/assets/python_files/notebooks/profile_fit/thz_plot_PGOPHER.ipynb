{
 "cells": [
  {
   "cell_type": "code",
   "execution_count": 1,
   "metadata": {},
   "outputs": [],
   "source": [
    "from pathlib import Path as pt\n",
    "import numpy as np\n",
    "import matplotlib.pyplot as plt\n",
    "from io import StringIO\n",
    "from optimizePlot import optimizePlot"
   ]
  },
  {
   "cell_type": "code",
   "execution_count": null,
   "metadata": {},
   "outputs": [],
   "source": []
  },
  {
   "cell_type": "code",
   "execution_count": 12,
   "metadata": {},
   "outputs": [],
   "source": [
    "def plot(data, fit_data, scale=1400, plot_fit=False, unit=\"MHz\", save=False):\n",
    "    \n",
    "    %matplotlib widget\n",
    "\n",
    "    fig, ax = plt.subplots(figsize=(9, 7), dpi=100)\n",
    "    ax.plot(data[0], data[1], \".k\", label=f\"Experiment\")\n",
    "    if plot_fit:\n",
    "        ax.plot(fit_data[0], fit_data[1], \"-k\", ms=10, label=f\"Fitted\")\n",
    "    \n",
    "    ax = optimizePlot(ax, f\"Frequency ({unit})\", \"Depletion (%)\", fmt=True, fmtString=\"{x:.1f}\")\n",
    "    \n",
    "    if save:\n",
    "        plt.savefig(f\"{location/filename}_fitted.png\", dpi=200)\n",
    "    plt.show()"
   ]
  },
  {
   "cell_type": "code",
   "execution_count": 13,
   "metadata": {},
   "outputs": [
    {
     "data": {
      "application/vnd.jupyter.widget-view+json": {
       "model_id": "1922ac0536d84c3b833f321bc6d637c6",
       "version_major": 2,
       "version_minor": 0
      },
      "text/plain": [
       "Canvas(toolbar=Toolbar(toolitems=[('Home', 'Reset original view', 'home', 'home'), ('Back', 'Back to previous …"
      ]
     },
     "metadata": {},
     "output_type": "display_data"
    }
   ],
   "source": [
    "location =pt(r\"./\")\n",
    "filename = \"CD+_in_MHz\"\n",
    "\n",
    "data_info = None\n",
    "with open(location/f\"{filename}_fit.dat\", \"r\") as f:\n",
    "    data_info = f.readlines()\n",
    "\n",
    "end = 0\n",
    "for index, line in enumerate(data_info[1:]):\n",
    "    if \"\\t\" not in line:\n",
    "        end = index\n",
    "        break\n",
    "        \n",
    "fit_data = np.genfromtxt(StringIO(\"\".join(data_info[:end]))).T\n",
    "data = np.genfromtxt(location/f\"{filename}.dat\").T\n",
    "\n",
    "scale = 969.568000667578\n",
    "baseline = -1.99597865459733\n",
    "if scale >1:\n",
    "    fit_data[1] /= scale\n",
    "    fit_data[1] += baseline\n",
    "plot(data, fit_data, scale, plot_fit=True, unit=\"MHz\", save=False)"
   ]
  },
  {
   "cell_type": "code",
   "execution_count": null,
   "metadata": {},
   "outputs": [],
   "source": []
  },
  {
   "cell_type": "code",
   "execution_count": null,
   "metadata": {},
   "outputs": [],
   "source": []
  },
  {
   "cell_type": "code",
   "execution_count": null,
   "metadata": {},
   "outputs": [],
   "source": []
  },
  {
   "cell_type": "code",
   "execution_count": null,
   "metadata": {},
   "outputs": [],
   "source": []
  }
 ],
 "metadata": {
  "kernelspec": {
   "display_name": "Python 3",
   "language": "python",
   "name": "python3"
  },
  "language_info": {
   "codemirror_mode": {
    "name": "ipython",
    "version": 3
   },
   "file_extension": ".py",
   "mimetype": "text/x-python",
   "name": "python",
   "nbconvert_exporter": "python",
   "pygments_lexer": "ipython3",
   "version": "3.8.3"
  }
 },
 "nbformat": 4,
 "nbformat_minor": 4
}
