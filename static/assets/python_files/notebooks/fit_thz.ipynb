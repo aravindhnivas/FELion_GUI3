{
 "cells": [
  {
   "cell_type": "code",
   "execution_count": 1,
   "metadata": {},
   "outputs": [],
   "source": [
    "from pathlib import Path as pt\n",
    "import numpy as np\n",
    "import matplotlib.pyplot as plt\n",
    "from scipy.optimize import curve_fit\n",
    "\n",
    "from io import StringIO\n",
    "import matplotlib.ticker as plticker"
   ]
  },
  {
   "cell_type": "code",
   "execution_count": 2,
   "metadata": {},
   "outputs": [],
   "source": [
    "def generateNGaussian(N):\n",
    "\n",
    "    gaussfn = lambda n: f\"A{n}*(np.exp((-1.0/2.0)*(((x-cen{n})/sigma{n})**2)))+\"\n",
    "    _gfn, _args = \"\", \"x, \"\n",
    "    for i in range(int(N)): \n",
    "        _gfn += gaussfn(i)\n",
    "        _args += f\"cen{i}, A{i}, sigma{i}, \"\n",
    "    exec(f\"gfn_ = lambda {_args.strip()[:-1]}: {_gfn.strip()[:-1]}\")\n",
    "    \n",
    "    return locals()[\"gfn_\"]\n",
    "\n",
    "def computeNGaussian(wn, inten, sigma=5):\n",
    "\n",
    "    _args = {}\n",
    "    N = len(wn)\n",
    "    gfn = generateNGaussian(N)\n",
    "    i = 0\n",
    "    for x, y in zip(wn, inten):\n",
    "        _args[f\"cen{i}\"] = x\n",
    "        _args[f\"A{i}\"] = y\n",
    "        _args[f\"sigma{i}\"] = sigma\n",
    "        i += 1\n",
    "    full_wn = np.linspace(wn.min()-100, wn.max()+100, 5000)\n",
    "\n",
    "    full_inten = gfn(full_wn, **_args)\n",
    "    return full_wn, full_inten "
   ]
  },
  {
   "cell_type": "code",
   "execution_count": 3,
   "metadata": {},
   "outputs": [],
   "source": [
    "from ipywidgets import widgets\n",
    "from widgetDefinitions import createWidgets\n",
    "from pathlib import Path as pt"
   ]
  },
  {
   "cell_type": "code",
   "execution_count": 5,
   "metadata": {},
   "outputs": [],
   "source": [
    "tw = createWidgets(filetype=\"dat\", multiselect=False)"
   ]
  },
  {
   "cell_type": "code",
   "execution_count": 42,
   "metadata": {},
   "outputs": [],
   "source": [
    "ax = None\n",
    "def plot_thz(loc, filename, label=\"CO$^+$: 0$_{1/2}$ --> 1$_{3/2}$\"):\n",
    "    global ax\n",
    "    loc = pt(loc)\n",
    "    freq, depletion = np.genfromtxt(loc/filename).T\n",
    "    \n",
    "    tw.savefilename.value = pt(filename).stem\n",
    "    savefile_widget.value = pt(filename).stem\n",
    "    \n",
    "    %matplotlib widget\n",
    "    fig, ax = plt.subplots(figsize=(9, 7), dpi=100)\n",
    "    tw.fig = fig\n",
    "    \n",
    "    ax.plot(freq, depletion, \".-k\", lw=0.5)\n",
    "    \n",
    "    ax.minorticks_on()\n",
    "    \n",
    "    ax.set_xlabel(\"Frequency (GHz)\", fontsize=16)\n",
    "    ax.set_ylabel(\"Depletion (%)\", fontsize=16)\n",
    "\n",
    "    ax.tick_params(axis='both', labelsize=16)\n",
    "    ax.tick_params(which='both', width=2)\n",
    "    ax.tick_params(which='major', length=7)\n",
    "    ax.tick_params(which='minor', length=4)\n",
    "\n",
    "    ax.xaxis.set_major_formatter(plticker.StrMethodFormatter(\"{x:.3f}\"))\n",
    "\n",
    "    loc = plticker.MaxNLocator(5)\n",
    "    ax.xaxis.set_major_locator(loc)\n",
    "    \n",
    "# D:\\SurfDrive\\THz_Measurements\\CO+\\thz\\117\\EXPORT\n",
    "# D:\\SurfDrive\\THz_Measurements\\CO+\\thz\\118\\EXPORT\n",
    "# D:\\SurfDrive\\THz_Measurements\\CO+\\thz\\253_380\\EXPORT\n",
    "# D:\\SurfDrive\\THz_Measurements\\CO+\\thz\\253_789\\EXPORT"
   ]
  },
  {
   "cell_type": "code",
   "execution_count": 4,
   "metadata": {},
   "outputs": [
    {
     "output_type": "execute_result",
     "data": {
      "text/plain": [
       "[WindowsPath('D:/SurfDrive/THz_Measurements/CO+/thz/117/EXPORT/20_10_20-5.dat'),\n",
       " WindowsPath('D:/SurfDrive/THz_Measurements/CO+/thz/117/EXPORT/20_10_20-6.dat'),\n",
       " WindowsPath('D:/SurfDrive/THz_Measurements/CO+/thz/117/EXPORT/21_10_20-1.dat'),\n",
       " WindowsPath('D:/SurfDrive/THz_Measurements/CO+/thz/117/EXPORT/22_10_20-3.dat'),\n",
       " WindowsPath('D:/SurfDrive/THz_Measurements/CO+/thz/117/EXPORT/22_10_20-4.dat'),\n",
       " WindowsPath('D:/SurfDrive/THz_Measurements/CO+/thz/117/EXPORT/22_10_20-5.dat'),\n",
       " WindowsPath('D:/SurfDrive/THz_Measurements/CO+/thz/117/EXPORT/22_10_20-6.dat'),\n",
       " WindowsPath('D:/SurfDrive/THz_Measurements/CO+/thz/117/EXPORT/22_10_20-8.dat'),\n",
       " WindowsPath('D:/SurfDrive/THz_Measurements/CO+/thz/117/EXPORT/22_10_20-9.dat'),\n",
       " WindowsPath('D:/SurfDrive/THz_Measurements/CO+/thz/117/EXPORT/23_10_20-1.dat'),\n",
       " WindowsPath('D:/SurfDrive/THz_Measurements/CO+/thz/117/EXPORT/23_10_20-2.dat'),\n",
       " WindowsPath('D:/SurfDrive/THz_Measurements/CO+/thz/117/EXPORT/23_10_20-3.dat'),\n",
       " WindowsPath('D:/SurfDrive/THz_Measurements/CO+/thz/117/EXPORT/23_10_20-4.dat'),\n",
       " WindowsPath('D:/SurfDrive/THz_Measurements/CO+/thz/117/EXPORT/23_10_20-6.dat'),\n",
       " WindowsPath('D:/SurfDrive/THz_Measurements/CO+/thz/117/EXPORT/23_10_20-7.dat'),\n",
       " WindowsPath('D:/SurfDrive/THz_Measurements/CO+/thz/117/EXPORT/26_10_20-5.dat'),\n",
       " WindowsPath('D:/SurfDrive/THz_Measurements/CO+/thz/117/EXPORT/27_10_20-2.dat'),\n",
       " WindowsPath('D:/SurfDrive/THz_Measurements/CO+/thz/117/EXPORT/27_10_20-3.dat'),\n",
       " WindowsPath('D:/SurfDrive/THz_Measurements/CO+/thz/117/EXPORT/27_10_20-4.dat'),\n",
       " WindowsPath('D:/SurfDrive/THz_Measurements/CO+/thz/117/EXPORT/binned_117.688_117.696GHz_14kHz.dat')]"
      ]
     },
     "metadata": {},
     "execution_count": 4
    }
   ],
   "source": [
    "thz_datlocation = pt(r\"D:\\SurfDrive\\THz_Measurements\\CO+\\thz\\117\\EXPORT\")\n",
    "thz_dat_files = list(thz_datlocation.glob(\"*.dat\"))\n",
    "thz_dat_files"
   ]
  },
  {
   "cell_type": "code",
   "execution_count": 92,
   "metadata": {
    "jupyter": {
     "source_hidden": true
    }
   },
   "outputs": [],
   "source": [
    "output = widgets.Output()\n",
    "savefile_widget = widgets.Text(description=\"Savefile\", value=\"\")\n",
    "def convert_files(e):\n",
    "    with output:\n",
    "        try:\n",
    "            xmin, xmax = ax.get_xlim()\n",
    "            filename = pt(tw.files.value)\n",
    "            location = pt(tw.location.value)\n",
    "            freq, depletion = np.genfromtxt(location/filename).T\n",
    "            \n",
    "            min_ind = np.searchsorted(freq, xmin )\n",
    "            max_ind = np.searchsorted(freq, xmax )\n",
    "            \n",
    "            freq = freq[min_ind:max_ind] # in GHz\n",
    "            depletion = depletion[min_ind:max_ind]\n",
    "            \n",
    "            freq_in_MHz = freq*1000\n",
    "            \n",
    "            new_file = location/f\"{savefile_widget.value}_in_mhz.dat\"\n",
    "            with open(new_file, \"w+\") as f:\n",
    "                f.write(f\"# Freq (MHz)\\tDepletion(%)\\n\")\n",
    "                for wn, inten in zip(freq_in_MHz, depletion):\n",
    "                    f.write(f\"{wn:.3f}\\t{inten:.2f}\\n\")\n",
    "                \n",
    "                print(f\"{new_file} written\")\n",
    "        except Exception as error:\n",
    "            print(\"error occured\", error)\n",
    "        \n",
    "convert_btn = widgets.Button(description=\"Convert-->MHz\",button_style=\"success\", layout=widgets.Layout(width='20%'), style = {'description_width': 'initial'})\n",
    "convert_btn.on_click(convert_files)\n",
    "\n",
    "clear_output = widgets.Button(description=\"clear output\",button_style=\"danger\", layout=widgets.Layout(width='20%'), style = {'description_width': 'initial'})\n",
    "clear_output.on_click(lambda e: output.clear_output())"
   ]
  },
  {
   "cell_type": "code",
   "execution_count": 45,
   "metadata": {},
   "outputs": [
    {
     "output_type": "display_data",
     "data": {
      "text/plain": "Button(button_style='success', description='update location', layout=Layout(width='20%'), style=ButtonStyle())",
      "application/vnd.jupyter.widget-view+json": {
       "version_major": 2,
       "version_minor": 0,
       "model_id": "233bb4a720c64a37b872f78fc661652a"
      }
     },
     "metadata": {}
    },
    {
     "output_type": "display_data",
     "data": {
      "text/plain": "interactive(children=(Text(value='D:\\\\SurfDrive\\\\THz_Measurements\\\\CO+\\\\thz\\\\253_380\\\\EXPORT', description='da…",
      "application/vnd.jupyter.widget-view+json": {
       "version_major": 2,
       "version_minor": 0,
       "model_id": "356b264e3331434fb19364c54b7b5c93"
      }
     },
     "metadata": {}
    },
    {
     "output_type": "display_data",
     "data": {
      "text/plain": "Text(value='binned_235.375_235.385GHz_14kHz', description='savefilename')",
      "application/vnd.jupyter.widget-view+json": {
       "version_major": 2,
       "version_minor": 0,
       "model_id": "f7be46e40b82462997f206f51a636acb"
      }
     },
     "metadata": {}
    },
    {
     "output_type": "display_data",
     "data": {
      "text/plain": "IntText(value=140, description='savedpi', step=2)",
      "application/vnd.jupyter.widget-view+json": {
       "version_major": 2,
       "version_minor": 0,
       "model_id": "f7a7aff48d564fb780d1bd427a71b403"
      }
     },
     "metadata": {}
    },
    {
     "output_type": "display_data",
     "data": {
      "text/plain": "Button(button_style='success', description='Save', style=ButtonStyle())",
      "application/vnd.jupyter.widget-view+json": {
       "version_major": 2,
       "version_minor": 0,
       "model_id": "c0c09751591b4abf9a42cc0e121ebb9e"
      }
     },
     "metadata": {}
    },
    {
     "output_type": "display_data",
     "data": {
      "text/plain": "Button(button_style='danger', description='Clear', style=ButtonStyle())",
      "application/vnd.jupyter.widget-view+json": {
       "version_major": 2,
       "version_minor": 0,
       "model_id": "645ab767a39a4f618e54610004d7437d"
      }
     },
     "metadata": {}
    },
    {
     "output_type": "display_data",
     "data": {
      "text/plain": "Output(outputs=({'name': 'stdout', 'text': 'Location not set\\nGetting dat from D:\\\\SurfDrive\\\\THz_Measurements…",
      "application/vnd.jupyter.widget-view+json": {
       "version_major": 2,
       "version_minor": 0,
       "model_id": "9f7cff59709e4e84925d589f160077ce"
      }
     },
     "metadata": {}
    },
    {
     "output_type": "display_data",
     "data": {
      "text/plain": "Text(value='binned_235.375_235.385GHz_14kHz', description='Savefile')",
      "application/vnd.jupyter.widget-view+json": {
       "version_major": 2,
       "version_minor": 0,
       "model_id": "675e95903250454389b90232b2aca307"
      }
     },
     "metadata": {}
    },
    {
     "output_type": "display_data",
     "data": {
      "text/plain": "Button(button_style='success', description='Convert-->MHz', layout=Layout(width='20%'), style=ButtonStyle())",
      "application/vnd.jupyter.widget-view+json": {
       "version_major": 2,
       "version_minor": 0,
       "model_id": "6114226e9f98460d8dae6937923106a4"
      }
     },
     "metadata": {}
    },
    {
     "output_type": "display_data",
     "data": {
      "text/plain": "Button(button_style='danger', description='clear output', layout=Layout(width='20%'), style=ButtonStyle())",
      "application/vnd.jupyter.widget-view+json": {
       "version_major": 2,
       "version_minor": 0,
       "model_id": "70e0b428fa4a49c78e9b5a85266117d0"
      }
     },
     "metadata": {}
    },
    {
     "output_type": "display_data",
     "data": {
      "text/plain": "Output()",
      "application/vnd.jupyter.widget-view+json": {
       "version_major": 2,
       "version_minor": 0,
       "model_id": "d648a76ec4ba4725933a0bc8ac72fde8"
      }
     },
     "metadata": {}
    }
   ],
   "source": [
    "display(tw.update_files_button)\n",
    "out = widgets.interact_manual( plot_thz, loc=tw.location, filename=tw.files)\n",
    "display(tw.savefilename, tw.savedpi, tw.savebutton, tw.closebutton, tw.output)\n",
    "display(savefile_widget, convert_btn, clear_output, output)"
   ]
  },
  {
   "cell_type": "code",
   "execution_count": null,
   "metadata": {},
   "outputs": [],
   "source": []
  },
  {
   "cell_type": "code",
   "execution_count": 18,
   "metadata": {},
   "outputs": [],
   "source": [
    "location = pt(tw.location.value)\n",
    "freq, depletion = np.genfromtxt(location/tw.files.value).T"
   ]
  },
  {
   "cell_type": "code",
   "execution_count": 24,
   "metadata": {},
   "outputs": [
    {
     "ename": "NameError",
     "evalue": "name 'freq' is not defined",
     "output_type": "error",
     "traceback": [
      "\u001b[1;31m---------------------------------------------------------------------------\u001b[0m",
      "\u001b[1;31mNameError\u001b[0m                                 Traceback (most recent call last)",
      "\u001b[1;32m<ipython-input-24-7703aa9a7584>\u001b[0m in \u001b[0;36m<module>\u001b[1;34m\u001b[0m\n\u001b[0;32m      6\u001b[0m \u001b[0mN\u001b[0m \u001b[1;33m=\u001b[0m \u001b[1;36m3\u001b[0m\u001b[1;33m\u001b[0m\u001b[1;33m\u001b[0m\u001b[0m\n\u001b[0;32m      7\u001b[0m \u001b[0mgfn\u001b[0m \u001b[1;33m=\u001b[0m \u001b[0mgenerateNGaussian\u001b[0m\u001b[1;33m(\u001b[0m\u001b[0mN\u001b[0m\u001b[1;33m)\u001b[0m\u001b[1;33m\u001b[0m\u001b[1;33m\u001b[0m\u001b[0m\n\u001b[1;32m----> 8\u001b[1;33m \u001b[0mpop\u001b[0m\u001b[1;33m,\u001b[0m \u001b[0mpoc\u001b[0m \u001b[1;33m=\u001b[0m \u001b[0mcurve_fit\u001b[0m\u001b[1;33m(\u001b[0m\u001b[0mgfn\u001b[0m\u001b[1;33m,\u001b[0m \u001b[0mfreq\u001b[0m\u001b[1;33m,\u001b[0m \u001b[0mdepletion\u001b[0m\u001b[1;33m,\u001b[0m \u001b[0mp0\u001b[0m\u001b[1;33m=\u001b[0m\u001b[0minit_gueeses\u001b[0m\u001b[1;33m)\u001b[0m\u001b[1;33m\u001b[0m\u001b[1;33m\u001b[0m\u001b[0m\n\u001b[0m\u001b[0;32m      9\u001b[0m \u001b[0mperr\u001b[0m \u001b[1;33m=\u001b[0m \u001b[0mnp\u001b[0m\u001b[1;33m.\u001b[0m\u001b[0msqrt\u001b[0m\u001b[1;33m(\u001b[0m\u001b[0mnp\u001b[0m\u001b[1;33m.\u001b[0m\u001b[0mdiag\u001b[0m\u001b[1;33m(\u001b[0m\u001b[0mpoc\u001b[0m\u001b[1;33m)\u001b[0m\u001b[1;33m)\u001b[0m\u001b[1;33m\u001b[0m\u001b[1;33m\u001b[0m\u001b[0m\n\u001b[0;32m     10\u001b[0m \u001b[0mfreq_fit\u001b[0m \u001b[1;33m=\u001b[0m \u001b[0mpop\u001b[0m\u001b[1;33m[\u001b[0m\u001b[1;33m:\u001b[0m\u001b[1;33m:\u001b[0m\u001b[1;36m3\u001b[0m\u001b[1;33m]\u001b[0m\u001b[1;33m\u001b[0m\u001b[1;33m\u001b[0m\u001b[0m\n",
      "\u001b[1;31mNameError\u001b[0m: name 'freq' is not defined"
     ]
    }
   ],
   "source": [
    "freq_guess = [118.1007, 118.1018, 118.1029]\n",
    "depletion_guess = [5, 10, 6]\n",
    "sigma_guess = [1e-4, 1e-3, 1e-4]\n",
    "\n",
    "init_gueeses = np.array([freq_guess, depletion_guess, sigma_guess]).T.flatten()\n",
    "N = 3\n",
    "gfn = generateNGaussian(N)\n",
    "pop, poc = curve_fit(gfn, freq, depletion, p0=init_gueeses)\n",
    "perr = np.sqrt(np.diag(poc))\n",
    "freq_fit = pop[::3]\n",
    "depletion_fit = pop[1::3]\n",
    "sigma_fit = pop[2::3]\n",
    "freq_fit, perr[::3]"
   ]
  },
  {
   "cell_type": "code",
   "execution_count": 36,
   "metadata": {},
   "outputs": [
    {
     "output_type": "stream",
     "name": "stdout",
     "text": [
      "[117.69113249 117.69174384 117.69284904 117.6934217 ] [2.92107254 3.45158189 3.82990287 3.33820431] [0.00012949 0.00032748 0.00020106 0.00015968] [0.00030492 0.00077115 0.00047347 0.00037602]\n"
     ]
    }
   ],
   "source": [
    "freq_guess = [117.6912, 117.6918, 117.6929, 117.6934]\n",
    "depletion_guess = [4.5, 4.5, 4.5, 4]\n",
    "sigma_guess = [1e-5, 1e-4, 1e-4, 1e-4]\n",
    "\n",
    "\n",
    "init_gueeses = np.array([freq_guess, depletion_guess, sigma_guess]).T.flatten()\n",
    "N = 4\n",
    "gfn = generateNGaussian(N)\n",
    "pop, poc = curve_fit(gfn, freq, depletion, p0=init_gueeses)\n",
    "perr = np.sqrt(np.diag(poc))\n",
    "freq_fit = pop[::3]\n",
    "depletion_fit = pop[1::3]\n",
    "sigma_fit = pop[2::3]\n",
    "fwhm_fit = 2*np.sqrt(2*np.log(2))*sigma_fit\n",
    "print(freq_fit, depletion_fit, sigma_fit, fwhm_fit)"
   ]
  },
  {
   "cell_type": "code",
   "execution_count": 41,
   "metadata": {},
   "outputs": [
    {
     "output_type": "execute_result",
     "data": {
      "text/plain": [
       "array([304.92311336, 771.1514049 , 473.46721733, 376.02189536])"
      ]
     },
     "metadata": {},
     "execution_count": 41
    }
   ],
   "source": [
    "fwhm_fit*1e6"
   ]
  },
  {
   "cell_type": "code",
   "execution_count": 25,
   "metadata": {},
   "outputs": [
    {
     "output_type": "display_data",
     "data": {
      "text/plain": "Canvas(toolbar=Toolbar(toolitems=[('Home', 'Reset original view', 'home', 'home'), ('Back', 'Back to previous …",
      "application/vnd.jupyter.widget-view+json": {
       "version_major": 2,
       "version_minor": 0,
       "model_id": "5b16c999e166440d8693bff1e05698e3"
      }
     },
     "metadata": {}
    }
   ],
   "source": [
    "%matplotlib widget\n",
    "\n",
    "fig, ax = plt.subplots(figsize=(12, 5), dpi=100)\n",
    "ax.plot(freq, depletion, \".k\", label=f\"Experiment\")\n",
    "ax.plot(freq, gfn(freq, *pop), \"-k\", ms=10, label=f\"Fitted\")\n",
    "\n",
    "# ax.set(xlabel=\"Frequency (GHz)\", ylabel=\"Depletion (%)\", title=\"CO$^+$: 0$_{1/2}$ --> 1$_{3/2}$\")\n",
    "# ax.stem(freq_fit, depletion_fit, use_line_collection=True, linefmt=\"k\")\n",
    "# ax.legend()\n",
    "# ax.minorticks_on()\n",
    "# ax.grid()\n",
    "\n",
    "ax.set_xlabel(\"Frequency (GHz)\", fontsize=16)\n",
    "ax.set_ylabel(\"Depletion (%)\", fontsize=16)\n",
    "\n",
    "for f, d in zip(freq_fit, depletion_fit):\n",
    "    ax.vlines(x=f, ymin=-4, ymax=2)\n",
    "\n",
    "# ax.legend(fontsize=16)\n",
    "ax.minorticks_on()\n",
    "ax.tick_params(axis='both', labelsize=16)\n",
    "ax.tick_params(which='both', width=2)\n",
    "ax.tick_params(which='major', length=7)\n",
    "ax.tick_params(which='minor', length=4)\n",
    "\n",
    "\n",
    "ax.xaxis.set_major_formatter(plticker.StrMethodFormatter(\"{x:.3f}\"))\n",
    "\n",
    "loc = plticker.MaxNLocator(5)\n",
    "ax.xaxis.set_major_locator(loc)\n",
    "filename = location/tw.files.value\n",
    "plt.savefig(f\"{location/filename.stem}_fitted.png\", dpi=200)\n",
    "plt.show()"
   ]
  },
  {
   "cell_type": "code",
   "execution_count": 27,
   "metadata": {},
   "outputs": [
    {
     "output_type": "execute_result",
     "data": {
      "text/plain": [
       "(array([117.6880275 , 117.69001875, 117.69201   , 117.69400125,\n",
       "        117.6959925 ]),\n",
       " 117.69599250000253)"
      ]
     },
     "metadata": {},
     "execution_count": 27
    }
   ],
   "source": [
    "np.linspace(freq[0], freq[-1], 5, endpoint=True), freq[-1]"
   ]
  },
  {
   "cell_type": "code",
   "execution_count": 65,
   "metadata": {},
   "outputs": [],
   "source": [
    "def plot(data, fit_data, scale=1400, plot_fit=False, unit=\"MHz\", save=False):\n",
    "    \n",
    "    %matplotlib widget\n",
    "\n",
    "    fig, ax = plt.subplots(figsize=(9, 7), dpi=100)\n",
    "    ax.plot(data[0], data[1], \".k\", label=f\"Experiment\")\n",
    "    if plot_fit:\n",
    "        ax.plot(fit_data[0], fit_data[1]/scale, \"-k\", ms=10, label=f\"Fitted\")\n",
    "\n",
    "    ax.set_xlabel(f\"Frequency ({unit})\", fontsize=16)\n",
    "    ax.set_ylabel(\"Depletion (%)\", fontsize=16)\n",
    "\n",
    "    ax.minorticks_on()\n",
    "    ax.tick_params(axis='both', labelsize=16)\n",
    "    ax.tick_params(which='both', width=2)\n",
    "    ax.tick_params(which='major', length=7)\n",
    "    ax.tick_params(which='minor', length=4)\n",
    "\n",
    "    ax.xaxis.set_major_formatter(plticker.StrMethodFormatter(\"{x:.3f}\"))\n",
    "\n",
    "    loc = plticker.MaxNLocator(5)\n",
    "    ax.xaxis.set_major_locator(loc)\n",
    "    if save:\n",
    "        plt.savefig(f\"{location/filename}_fitted.png\", dpi=200)\n",
    "    plt.show()"
   ]
  },
  {
   "cell_type": "code",
   "execution_count": 66,
   "metadata": {},
   "outputs": [
    {
     "output_type": "stream",
     "name": "stdout",
     "text": [
      "701\n"
     ]
    },
    {
     "output_type": "display_data",
     "data": {
      "text/plain": "Canvas(toolbar=Toolbar(toolitems=[('Home', 'Reset original view', 'home', 'home'), ('Back', 'Back to previous …",
      "application/vnd.jupyter.widget-view+json": {
       "version_major": 2,
       "version_minor": 0,
       "model_id": "d32ba06bf3174cd3bbd1df2c5874cbaf"
      }
     },
     "metadata": {}
    }
   ],
   "source": [
    "location =pt(r\"D:\\SurfDrive\\THz_Measurements\\CO+\\from_Sandra\\CO+_fit_Zeeman\")\n",
    "filename = \"117_in_mhz\"\n",
    "\n",
    "data_info = None\n",
    "with open(location/f\"{filename}_fit.dat\", \"r\") as f:\n",
    "    data_info = f.readlines()\n",
    "\n",
    "end = 0\n",
    "for index, line in enumerate(data_info[1:]):\n",
    "    if \"\\t\" not in line:\n",
    "        end = index\n",
    "        break\n",
    "\n",
    "fit_data = np.genfromtxt(StringIO(\"\".join(data_info[:end]))).T\n",
    "data = np.genfromtxt(location/f\"{filename}.dat\").T\n",
    "\n",
    "scale = 2400\n",
    "plot(data, fit_data, scale, plot_fit=True, unit=\"MHz\", save=False)"
   ]
  },
  {
   "cell_type": "code",
   "execution_count": 59,
   "metadata": {},
   "outputs": [],
   "source": [
    "plt.savefig(f\"{location/filename}.png\", dpi=200)"
   ]
  },
  {
   "cell_type": "code",
   "execution_count": 30,
   "metadata": {},
   "outputs": [
    {
     "output_type": "execute_result",
     "data": {
      "text/plain": [
       "(array([0.14, 0.28, 0.28]), 0.7, 0.7)"
      ]
     },
     "metadata": {},
     "execution_count": 30
    }
   ],
   "source": [
    "import numpy as np\n",
    "\n",
    "temp1 = np.array([1, 2, 2])\n",
    "temp2 = np.array([0.1, 0.5, 0.1])\n",
    "\n",
    "new_temp2 = temp2.sum()*temp1/temp1.sum()\n",
    "new_temp2, new_temp2.sum(), temp2.sum()"
   ]
  },
  {
   "cell_type": "code",
   "execution_count": 35,
   "metadata": {},
   "outputs": [
    {
     "output_type": "execute_result",
     "data": {
      "text/plain": [
       "array([1., 2., 2., 0., 0., 0., 0., 0.])"
      ]
     },
     "metadata": {},
     "execution_count": 35
    }
   ],
   "source": [
    "np.append(temp1, np.zeros(5))"
   ]
  },
  {
   "cell_type": "code",
   "execution_count": 36,
   "metadata": {},
   "outputs": [
    {
     "output_type": "error",
     "ename": "AttributeError",
     "evalue": "'list' object has no attribute 'sum'",
     "traceback": [
      "\u001b[1;31m---------------------------------------------------------------------------\u001b[0m",
      "\u001b[1;31mAttributeError\u001b[0m                            Traceback (most recent call last)",
      "\u001b[1;32m<ipython-input-36-d61f7e947ffc>\u001b[0m in \u001b[0;36m<module>\u001b[1;34m\u001b[0m\n\u001b[0;32m      1\u001b[0m \u001b[0mtemp0\u001b[0m \u001b[1;33m=\u001b[0m \u001b[1;33m[\u001b[0m\u001b[1;36m1\u001b[0m\u001b[1;33m,\u001b[0m \u001b[1;36m2\u001b[0m\u001b[1;33m,\u001b[0m \u001b[1;36m3\u001b[0m\u001b[1;33m]\u001b[0m\u001b[1;33m\u001b[0m\u001b[1;33m\u001b[0m\u001b[0m\n\u001b[1;32m----> 2\u001b[1;33m \u001b[0mtemp0\u001b[0m\u001b[1;33m.\u001b[0m\u001b[0msum\u001b[0m\u001b[1;33m(\u001b[0m\u001b[1;33m)\u001b[0m\u001b[1;33m\u001b[0m\u001b[1;33m\u001b[0m\u001b[0m\n\u001b[0m",
      "\u001b[1;31mAttributeError\u001b[0m: 'list' object has no attribute 'sum'"
     ]
    }
   ],
   "source": [
    "temp0 = [1, 2, 3]\n",
    "temp0.sum()"
   ]
  },
  {
   "cell_type": "code",
   "execution_count": 63,
   "metadata": {},
   "outputs": [
    {
     "output_type": "execute_result",
     "data": {
      "text/plain": [
       "[<matplotlib.lines.Line2D at 0x1fd0b251100>]"
      ]
     },
     "metadata": {},
     "execution_count": 63
    },
    {
     "output_type": "display_data",
     "data": {
      "text/plain": "<Figure size 432x288 with 1 Axes>",
      "image/svg+xml": "<?xml version=\"1.0\" encoding=\"utf-8\" standalone=\"no\"?>\r\n<!DOCTYPE svg PUBLIC \"-//W3C//DTD SVG 1.1//EN\"\r\n  \"http://www.w3.org/Graphics/SVG/1.1/DTD/svg11.dtd\">\r\n<!-- Created with matplotlib (https://matplotlib.org/) -->\r\n<svg height=\"251.784655pt\" version=\"1.1\" viewBox=\"0 0 394.375 251.784655\" width=\"394.375pt\" xmlns=\"http://www.w3.org/2000/svg\" xmlns:xlink=\"http://www.w3.org/1999/xlink\">\r\n <defs>\r\n  <style type=\"text/css\">\r\n*{stroke-linecap:butt;stroke-linejoin:round;}\r\n  </style>\r\n </defs>\r\n <g id=\"figure_1\">\r\n  <g id=\"patch_1\">\r\n   <path d=\"M 0 251.784655 \r\nL 394.375 251.784655 \r\nL 394.375 0 \r\nL 0 0 \r\nz\r\n\" style=\"fill:none;\"/>\r\n  </g>\r\n  <g id=\"axes_1\">\r\n   <g id=\"patch_2\">\r\n    <path d=\"M 52.375 227.90653 \r\nL 387.175 227.90653 \r\nL 387.175 10.46653 \r\nL 52.375 10.46653 \r\nz\r\n\" style=\"fill:#ffffff;\"/>\r\n   </g>\r\n   <g id=\"matplotlib.axis_1\">\r\n    <g id=\"xtick_1\">\r\n     <g id=\"line2d_1\">\r\n      <defs>\r\n       <path d=\"M 0 0 \r\nL 0 3.5 \r\n\" id=\"m6f80284433\" style=\"stroke:#000000;stroke-width:0.8;\"/>\r\n      </defs>\r\n      <g>\r\n       <use style=\"stroke:#000000;stroke-width:0.8;\" x=\"67.593182\" xlink:href=\"#m6f80284433\" y=\"227.90653\"/>\r\n      </g>\r\n     </g>\r\n     <g id=\"text_1\">\r\n      <!-- 0 -->\r\n      <defs>\r\n       <path d=\"M 31.78125 66.40625 \r\nQ 24.171875 66.40625 20.328125 58.90625 \r\nQ 16.5 51.421875 16.5 36.375 \r\nQ 16.5 21.390625 20.328125 13.890625 \r\nQ 24.171875 6.390625 31.78125 6.390625 \r\nQ 39.453125 6.390625 43.28125 13.890625 \r\nQ 47.125 21.390625 47.125 36.375 \r\nQ 47.125 51.421875 43.28125 58.90625 \r\nQ 39.453125 66.40625 31.78125 66.40625 \r\nz\r\nM 31.78125 74.21875 \r\nQ 44.046875 74.21875 50.515625 64.515625 \r\nQ 56.984375 54.828125 56.984375 36.375 \r\nQ 56.984375 17.96875 50.515625 8.265625 \r\nQ 44.046875 -1.421875 31.78125 -1.421875 \r\nQ 19.53125 -1.421875 13.0625 8.265625 \r\nQ 6.59375 17.96875 6.59375 36.375 \r\nQ 6.59375 54.828125 13.0625 64.515625 \r\nQ 19.53125 74.21875 31.78125 74.21875 \r\nz\r\n\" id=\"DejaVuSans-48\"/>\r\n      </defs>\r\n      <g transform=\"translate(64.411932 242.504968)scale(0.1 -0.1)\">\r\n       <use xlink:href=\"#DejaVuSans-48\"/>\r\n      </g>\r\n     </g>\r\n    </g>\r\n    <g id=\"xtick_2\">\r\n     <g id=\"line2d_2\">\r\n      <g>\r\n       <use style=\"stroke:#000000;stroke-width:0.8;\" x=\"128.465909\" xlink:href=\"#m6f80284433\" y=\"227.90653\"/>\r\n      </g>\r\n     </g>\r\n     <g id=\"text_2\">\r\n      <!-- 2 -->\r\n      <defs>\r\n       <path d=\"M 19.1875 8.296875 \r\nL 53.609375 8.296875 \r\nL 53.609375 0 \r\nL 7.328125 0 \r\nL 7.328125 8.296875 \r\nQ 12.9375 14.109375 22.625 23.890625 \r\nQ 32.328125 33.6875 34.8125 36.53125 \r\nQ 39.546875 41.84375 41.421875 45.53125 \r\nQ 43.3125 49.21875 43.3125 52.78125 \r\nQ 43.3125 58.59375 39.234375 62.25 \r\nQ 35.15625 65.921875 28.609375 65.921875 \r\nQ 23.96875 65.921875 18.8125 64.3125 \r\nQ 13.671875 62.703125 7.8125 59.421875 \r\nL 7.8125 69.390625 \r\nQ 13.765625 71.78125 18.9375 73 \r\nQ 24.125 74.21875 28.421875 74.21875 \r\nQ 39.75 74.21875 46.484375 68.546875 \r\nQ 53.21875 62.890625 53.21875 53.421875 \r\nQ 53.21875 48.921875 51.53125 44.890625 \r\nQ 49.859375 40.875 45.40625 35.40625 \r\nQ 44.1875 33.984375 37.640625 27.21875 \r\nQ 31.109375 20.453125 19.1875 8.296875 \r\nz\r\n\" id=\"DejaVuSans-50\"/>\r\n      </defs>\r\n      <g transform=\"translate(125.284659 242.504968)scale(0.1 -0.1)\">\r\n       <use xlink:href=\"#DejaVuSans-50\"/>\r\n      </g>\r\n     </g>\r\n    </g>\r\n    <g id=\"xtick_3\">\r\n     <g id=\"line2d_3\">\r\n      <g>\r\n       <use style=\"stroke:#000000;stroke-width:0.8;\" x=\"189.338636\" xlink:href=\"#m6f80284433\" y=\"227.90653\"/>\r\n      </g>\r\n     </g>\r\n     <g id=\"text_3\">\r\n      <!-- 4 -->\r\n      <defs>\r\n       <path d=\"M 37.796875 64.3125 \r\nL 12.890625 25.390625 \r\nL 37.796875 25.390625 \r\nz\r\nM 35.203125 72.90625 \r\nL 47.609375 72.90625 \r\nL 47.609375 25.390625 \r\nL 58.015625 25.390625 \r\nL 58.015625 17.1875 \r\nL 47.609375 17.1875 \r\nL 47.609375 0 \r\nL 37.796875 0 \r\nL 37.796875 17.1875 \r\nL 4.890625 17.1875 \r\nL 4.890625 26.703125 \r\nz\r\n\" id=\"DejaVuSans-52\"/>\r\n      </defs>\r\n      <g transform=\"translate(186.157386 242.504968)scale(0.1 -0.1)\">\r\n       <use xlink:href=\"#DejaVuSans-52\"/>\r\n      </g>\r\n     </g>\r\n    </g>\r\n    <g id=\"xtick_4\">\r\n     <g id=\"line2d_4\">\r\n      <g>\r\n       <use style=\"stroke:#000000;stroke-width:0.8;\" x=\"250.211364\" xlink:href=\"#m6f80284433\" y=\"227.90653\"/>\r\n      </g>\r\n     </g>\r\n     <g id=\"text_4\">\r\n      <!-- 6 -->\r\n      <defs>\r\n       <path d=\"M 33.015625 40.375 \r\nQ 26.375 40.375 22.484375 35.828125 \r\nQ 18.609375 31.296875 18.609375 23.390625 \r\nQ 18.609375 15.53125 22.484375 10.953125 \r\nQ 26.375 6.390625 33.015625 6.390625 \r\nQ 39.65625 6.390625 43.53125 10.953125 \r\nQ 47.40625 15.53125 47.40625 23.390625 \r\nQ 47.40625 31.296875 43.53125 35.828125 \r\nQ 39.65625 40.375 33.015625 40.375 \r\nz\r\nM 52.59375 71.296875 \r\nL 52.59375 62.3125 \r\nQ 48.875 64.0625 45.09375 64.984375 \r\nQ 41.3125 65.921875 37.59375 65.921875 \r\nQ 27.828125 65.921875 22.671875 59.328125 \r\nQ 17.53125 52.734375 16.796875 39.40625 \r\nQ 19.671875 43.65625 24.015625 45.921875 \r\nQ 28.375 48.1875 33.59375 48.1875 \r\nQ 44.578125 48.1875 50.953125 41.515625 \r\nQ 57.328125 34.859375 57.328125 23.390625 \r\nQ 57.328125 12.15625 50.6875 5.359375 \r\nQ 44.046875 -1.421875 33.015625 -1.421875 \r\nQ 20.359375 -1.421875 13.671875 8.265625 \r\nQ 6.984375 17.96875 6.984375 36.375 \r\nQ 6.984375 53.65625 15.1875 63.9375 \r\nQ 23.390625 74.21875 37.203125 74.21875 \r\nQ 40.921875 74.21875 44.703125 73.484375 \r\nQ 48.484375 72.75 52.59375 71.296875 \r\nz\r\n\" id=\"DejaVuSans-54\"/>\r\n      </defs>\r\n      <g transform=\"translate(247.030114 242.504968)scale(0.1 -0.1)\">\r\n       <use xlink:href=\"#DejaVuSans-54\"/>\r\n      </g>\r\n     </g>\r\n    </g>\r\n    <g id=\"xtick_5\">\r\n     <g id=\"line2d_5\">\r\n      <g>\r\n       <use style=\"stroke:#000000;stroke-width:0.8;\" x=\"311.084091\" xlink:href=\"#m6f80284433\" y=\"227.90653\"/>\r\n      </g>\r\n     </g>\r\n     <g id=\"text_5\">\r\n      <!-- 8 -->\r\n      <defs>\r\n       <path d=\"M 31.78125 34.625 \r\nQ 24.75 34.625 20.71875 30.859375 \r\nQ 16.703125 27.09375 16.703125 20.515625 \r\nQ 16.703125 13.921875 20.71875 10.15625 \r\nQ 24.75 6.390625 31.78125 6.390625 \r\nQ 38.8125 6.390625 42.859375 10.171875 \r\nQ 46.921875 13.96875 46.921875 20.515625 \r\nQ 46.921875 27.09375 42.890625 30.859375 \r\nQ 38.875 34.625 31.78125 34.625 \r\nz\r\nM 21.921875 38.8125 \r\nQ 15.578125 40.375 12.03125 44.71875 \r\nQ 8.5 49.078125 8.5 55.328125 \r\nQ 8.5 64.0625 14.71875 69.140625 \r\nQ 20.953125 74.21875 31.78125 74.21875 \r\nQ 42.671875 74.21875 48.875 69.140625 \r\nQ 55.078125 64.0625 55.078125 55.328125 \r\nQ 55.078125 49.078125 51.53125 44.71875 \r\nQ 48 40.375 41.703125 38.8125 \r\nQ 48.828125 37.15625 52.796875 32.3125 \r\nQ 56.78125 27.484375 56.78125 20.515625 \r\nQ 56.78125 9.90625 50.3125 4.234375 \r\nQ 43.84375 -1.421875 31.78125 -1.421875 \r\nQ 19.734375 -1.421875 13.25 4.234375 \r\nQ 6.78125 9.90625 6.78125 20.515625 \r\nQ 6.78125 27.484375 10.78125 32.3125 \r\nQ 14.796875 37.15625 21.921875 38.8125 \r\nz\r\nM 18.3125 54.390625 \r\nQ 18.3125 48.734375 21.84375 45.5625 \r\nQ 25.390625 42.390625 31.78125 42.390625 \r\nQ 38.140625 42.390625 41.71875 45.5625 \r\nQ 45.3125 48.734375 45.3125 54.390625 \r\nQ 45.3125 60.0625 41.71875 63.234375 \r\nQ 38.140625 66.40625 31.78125 66.40625 \r\nQ 25.390625 66.40625 21.84375 63.234375 \r\nQ 18.3125 60.0625 18.3125 54.390625 \r\nz\r\n\" id=\"DejaVuSans-56\"/>\r\n      </defs>\r\n      <g transform=\"translate(307.902841 242.504968)scale(0.1 -0.1)\">\r\n       <use xlink:href=\"#DejaVuSans-56\"/>\r\n      </g>\r\n     </g>\r\n    </g>\r\n    <g id=\"xtick_6\">\r\n     <g id=\"line2d_6\">\r\n      <g>\r\n       <use style=\"stroke:#000000;stroke-width:0.8;\" x=\"371.956818\" xlink:href=\"#m6f80284433\" y=\"227.90653\"/>\r\n      </g>\r\n     </g>\r\n     <g id=\"text_6\">\r\n      <!-- 10 -->\r\n      <defs>\r\n       <path d=\"M 12.40625 8.296875 \r\nL 28.515625 8.296875 \r\nL 28.515625 63.921875 \r\nL 10.984375 60.40625 \r\nL 10.984375 69.390625 \r\nL 28.421875 72.90625 \r\nL 38.28125 72.90625 \r\nL 38.28125 8.296875 \r\nL 54.390625 8.296875 \r\nL 54.390625 0 \r\nL 12.40625 0 \r\nz\r\n\" id=\"DejaVuSans-49\"/>\r\n      </defs>\r\n      <g transform=\"translate(365.594318 242.504968)scale(0.1 -0.1)\">\r\n       <use xlink:href=\"#DejaVuSans-49\"/>\r\n       <use x=\"63.623047\" xlink:href=\"#DejaVuSans-48\"/>\r\n      </g>\r\n     </g>\r\n    </g>\r\n   </g>\r\n   <g id=\"matplotlib.axis_2\">\r\n    <g id=\"ytick_1\">\r\n     <g id=\"line2d_7\">\r\n      <defs>\r\n       <path d=\"M 0 0 \r\nL -3.5 0 \r\n\" id=\"m4f57c950bc\" style=\"stroke:#000000;stroke-width:0.8;\"/>\r\n      </defs>\r\n      <g>\r\n       <use style=\"stroke:#000000;stroke-width:0.8;\" x=\"52.375\" xlink:href=\"#m4f57c950bc\" y=\"218.026776\"/>\r\n      </g>\r\n     </g>\r\n     <g id=\"text_7\">\r\n      <!-- 0 -->\r\n      <g transform=\"translate(39.0125 221.825994)scale(0.1 -0.1)\">\r\n       <use xlink:href=\"#DejaVuSans-48\"/>\r\n      </g>\r\n     </g>\r\n    </g>\r\n    <g id=\"ytick_2\">\r\n     <g id=\"line2d_8\">\r\n      <g>\r\n       <use style=\"stroke:#000000;stroke-width:0.8;\" x=\"52.375\" xlink:href=\"#m4f57c950bc\" y=\"192.148331\"/>\r\n      </g>\r\n     </g>\r\n     <g id=\"text_8\">\r\n      <!-- 20000 -->\r\n      <g transform=\"translate(13.5625 195.94755)scale(0.1 -0.1)\">\r\n       <use xlink:href=\"#DejaVuSans-50\"/>\r\n       <use x=\"63.623047\" xlink:href=\"#DejaVuSans-48\"/>\r\n       <use x=\"127.246094\" xlink:href=\"#DejaVuSans-48\"/>\r\n       <use x=\"190.869141\" xlink:href=\"#DejaVuSans-48\"/>\r\n       <use x=\"254.492188\" xlink:href=\"#DejaVuSans-48\"/>\r\n      </g>\r\n     </g>\r\n    </g>\r\n    <g id=\"ytick_3\">\r\n     <g id=\"line2d_9\">\r\n      <g>\r\n       <use style=\"stroke:#000000;stroke-width:0.8;\" x=\"52.375\" xlink:href=\"#m4f57c950bc\" y=\"166.269886\"/>\r\n      </g>\r\n     </g>\r\n     <g id=\"text_9\">\r\n      <!-- 40000 -->\r\n      <g transform=\"translate(13.5625 170.069105)scale(0.1 -0.1)\">\r\n       <use xlink:href=\"#DejaVuSans-52\"/>\r\n       <use x=\"63.623047\" xlink:href=\"#DejaVuSans-48\"/>\r\n       <use x=\"127.246094\" xlink:href=\"#DejaVuSans-48\"/>\r\n       <use x=\"190.869141\" xlink:href=\"#DejaVuSans-48\"/>\r\n       <use x=\"254.492188\" xlink:href=\"#DejaVuSans-48\"/>\r\n      </g>\r\n     </g>\r\n    </g>\r\n    <g id=\"ytick_4\">\r\n     <g id=\"line2d_10\">\r\n      <g>\r\n       <use style=\"stroke:#000000;stroke-width:0.8;\" x=\"52.375\" xlink:href=\"#m4f57c950bc\" y=\"140.391442\"/>\r\n      </g>\r\n     </g>\r\n     <g id=\"text_10\">\r\n      <!-- 60000 -->\r\n      <g transform=\"translate(13.5625 144.190661)scale(0.1 -0.1)\">\r\n       <use xlink:href=\"#DejaVuSans-54\"/>\r\n       <use x=\"63.623047\" xlink:href=\"#DejaVuSans-48\"/>\r\n       <use x=\"127.246094\" xlink:href=\"#DejaVuSans-48\"/>\r\n       <use x=\"190.869141\" xlink:href=\"#DejaVuSans-48\"/>\r\n       <use x=\"254.492188\" xlink:href=\"#DejaVuSans-48\"/>\r\n      </g>\r\n     </g>\r\n    </g>\r\n    <g id=\"ytick_5\">\r\n     <g id=\"line2d_11\">\r\n      <g>\r\n       <use style=\"stroke:#000000;stroke-width:0.8;\" x=\"52.375\" xlink:href=\"#m4f57c950bc\" y=\"114.512997\"/>\r\n      </g>\r\n     </g>\r\n     <g id=\"text_11\">\r\n      <!-- 80000 -->\r\n      <g transform=\"translate(13.5625 118.312216)scale(0.1 -0.1)\">\r\n       <use xlink:href=\"#DejaVuSans-56\"/>\r\n       <use x=\"63.623047\" xlink:href=\"#DejaVuSans-48\"/>\r\n       <use x=\"127.246094\" xlink:href=\"#DejaVuSans-48\"/>\r\n       <use x=\"190.869141\" xlink:href=\"#DejaVuSans-48\"/>\r\n       <use x=\"254.492188\" xlink:href=\"#DejaVuSans-48\"/>\r\n      </g>\r\n     </g>\r\n    </g>\r\n    <g id=\"ytick_6\">\r\n     <g id=\"line2d_12\">\r\n      <g>\r\n       <use style=\"stroke:#000000;stroke-width:0.8;\" x=\"52.375\" xlink:href=\"#m4f57c950bc\" y=\"88.634553\"/>\r\n      </g>\r\n     </g>\r\n     <g id=\"text_12\">\r\n      <!-- 100000 -->\r\n      <g transform=\"translate(7.2 92.433771)scale(0.1 -0.1)\">\r\n       <use xlink:href=\"#DejaVuSans-49\"/>\r\n       <use x=\"63.623047\" xlink:href=\"#DejaVuSans-48\"/>\r\n       <use x=\"127.246094\" xlink:href=\"#DejaVuSans-48\"/>\r\n       <use x=\"190.869141\" xlink:href=\"#DejaVuSans-48\"/>\r\n       <use x=\"254.492188\" xlink:href=\"#DejaVuSans-48\"/>\r\n       <use x=\"318.115234\" xlink:href=\"#DejaVuSans-48\"/>\r\n      </g>\r\n     </g>\r\n    </g>\r\n    <g id=\"ytick_7\">\r\n     <g id=\"line2d_13\">\r\n      <g>\r\n       <use style=\"stroke:#000000;stroke-width:0.8;\" x=\"52.375\" xlink:href=\"#m4f57c950bc\" y=\"62.756108\"/>\r\n      </g>\r\n     </g>\r\n     <g id=\"text_13\">\r\n      <!-- 120000 -->\r\n      <g transform=\"translate(7.2 66.555327)scale(0.1 -0.1)\">\r\n       <use xlink:href=\"#DejaVuSans-49\"/>\r\n       <use x=\"63.623047\" xlink:href=\"#DejaVuSans-50\"/>\r\n       <use x=\"127.246094\" xlink:href=\"#DejaVuSans-48\"/>\r\n       <use x=\"190.869141\" xlink:href=\"#DejaVuSans-48\"/>\r\n       <use x=\"254.492188\" xlink:href=\"#DejaVuSans-48\"/>\r\n       <use x=\"318.115234\" xlink:href=\"#DejaVuSans-48\"/>\r\n      </g>\r\n     </g>\r\n    </g>\r\n    <g id=\"ytick_8\">\r\n     <g id=\"line2d_14\">\r\n      <g>\r\n       <use style=\"stroke:#000000;stroke-width:0.8;\" x=\"52.375\" xlink:href=\"#m4f57c950bc\" y=\"36.877663\"/>\r\n      </g>\r\n     </g>\r\n     <g id=\"text_14\">\r\n      <!-- 140000 -->\r\n      <g transform=\"translate(7.2 40.676882)scale(0.1 -0.1)\">\r\n       <use xlink:href=\"#DejaVuSans-49\"/>\r\n       <use x=\"63.623047\" xlink:href=\"#DejaVuSans-52\"/>\r\n       <use x=\"127.246094\" xlink:href=\"#DejaVuSans-48\"/>\r\n       <use x=\"190.869141\" xlink:href=\"#DejaVuSans-48\"/>\r\n       <use x=\"254.492188\" xlink:href=\"#DejaVuSans-48\"/>\r\n       <use x=\"318.115234\" xlink:href=\"#DejaVuSans-48\"/>\r\n      </g>\r\n     </g>\r\n    </g>\r\n    <g id=\"ytick_9\">\r\n     <g id=\"line2d_15\">\r\n      <g>\r\n       <use style=\"stroke:#000000;stroke-width:0.8;\" x=\"52.375\" xlink:href=\"#m4f57c950bc\" y=\"10.999219\"/>\r\n      </g>\r\n     </g>\r\n     <g id=\"text_15\">\r\n      <!-- 160000 -->\r\n      <g transform=\"translate(7.2 14.798438)scale(0.1 -0.1)\">\r\n       <use xlink:href=\"#DejaVuSans-49\"/>\r\n       <use x=\"63.623047\" xlink:href=\"#DejaVuSans-54\"/>\r\n       <use x=\"127.246094\" xlink:href=\"#DejaVuSans-48\"/>\r\n       <use x=\"190.869141\" xlink:href=\"#DejaVuSans-48\"/>\r\n       <use x=\"254.492188\" xlink:href=\"#DejaVuSans-48\"/>\r\n       <use x=\"318.115234\" xlink:href=\"#DejaVuSans-48\"/>\r\n      </g>\r\n     </g>\r\n    </g>\r\n   </g>\r\n   <g id=\"line2d_16\">\r\n    <path clip-path=\"url(#p36a8a1f52b)\" d=\"M 67.593182 218.022894 \r\nL 70.667562 218.021015 \r\nL 73.741942 218.01896 \r\nL 76.816322 218.018004 \r\nL 79.890702 218.016929 \r\nL 82.965083 218.014415 \r\nL 86.039463 218.012975 \r\nL 89.113843 218.011357 \r\nL 92.188223 218.009575 \r\nL 95.262603 218.007613 \r\nL 98.336983 218.004107 \r\nL 101.411364 218.001601 \r\nL 104.485744 217.998794 \r\nL 107.560124 217.995673 \r\nL 110.634504 217.992217 \r\nL 113.708884 217.988397 \r\nL 116.783264 217.984177 \r\nL 119.857645 217.979513 \r\nL 122.932025 217.974353 \r\nL 126.006405 217.967318 \r\nL 129.080785 217.960916 \r\nL 132.155165 217.953805 \r\nL 135.229545 217.945921 \r\nL 138.303926 217.937191 \r\nL 141.378306 217.92753 \r\nL 144.452686 217.91684 \r\nL 147.527066 217.905011 \r\nL 150.601446 217.891921 \r\nL 153.675826 217.877437 \r\nL 156.750207 217.861413 \r\nL 159.824587 217.843692 \r\nL 162.898967 217.822767 \r\nL 165.973347 217.800994 \r\nL 169.047727 217.77689 \r\nL 172.122107 217.750227 \r\nL 175.196488 217.720741 \r\nL 178.270868 217.688126 \r\nL 181.345248 217.652038 \r\nL 184.419628 217.612095 \r\nL 187.494008 217.567876 \r\nL 190.568388 217.518921 \r\nL 193.642769 217.464731 \r\nL 196.717149 217.404768 \r\nL 199.791529 217.338455 \r\nL 202.865909 217.263815 \r\nL 205.940289 217.182571 \r\nL 209.014669 217.092709 \r\nL 212.08905 216.993383 \r\nL 215.16343 216.883596 \r\nL 218.23781 216.762206 \r\nL 221.31219 216.627921 \r\nL 224.38657 216.479305 \r\nL 227.46095 216.314769 \r\nL 230.535331 216.132581 \r\nL 233.609711 215.930859 \r\nL 236.684091 215.707573 \r\nL 239.758471 215.460546 \r\nL 242.832851 215.187454 \r\nL 245.907231 214.883955 \r\nL 248.981612 214.549484 \r\nL 252.055992 214.17976 \r\nL 255.130372 213.771207 \r\nL 258.204752 213.319659 \r\nL 261.279132 212.820357 \r\nL 264.353512 212.267957 \r\nL 267.427893 211.65652 \r\nL 270.502273 210.979522 \r\nL 273.576653 210.229844 \r\nL 276.651033 209.39978 \r\nL 279.725413 208.481034 \r\nL 282.799793 207.464719 \r\nL 285.874174 206.340015 \r\nL 288.948554 205.096533 \r\nL 292.022934 203.720775 \r\nL 295.097314 202.200283 \r\nL 298.171694 200.520203 \r\nL 301.246074 198.663288 \r\nL 304.320455 196.609895 \r\nL 307.394835 194.337984 \r\nL 310.469215 191.823123 \r\nL 313.543595 189.038484 \r\nL 316.617975 185.954843 \r\nL 319.692355 182.540582 \r\nL 322.766736 178.761687 \r\nL 325.841116 174.581751 \r\nL 328.915496 169.960171 \r\nL 331.989876 164.845557 \r\nL 335.064256 159.18771 \r\nL 338.138636 152.935044 \r\nL 341.213017 146.026192 \r\nL 344.287397 138.390005 \r\nL 347.361777 129.945552 \r\nL 350.436157 120.602122 \r\nL 353.510537 110.259221 \r\nL 356.584917 98.806574 \r\nL 359.659298 86.124124 \r\nL 362.733678 72.082033 \r\nL 365.808058 56.540681 \r\nL 368.882438 39.350668 \r\nL 371.956818 20.350167 \r\n\" style=\"fill:none;stroke:#1f77b4;stroke-linecap:square;stroke-width:1.5;\"/>\r\n   </g>\r\n   <g id=\"patch_3\">\r\n    <path d=\"M 52.375 227.90653 \r\nL 52.375 10.46653 \r\n\" style=\"fill:none;stroke:#000000;stroke-linecap:square;stroke-linejoin:miter;stroke-width:0.8;\"/>\r\n   </g>\r\n   <g id=\"patch_4\">\r\n    <path d=\"M 387.175 227.90653 \r\nL 387.175 10.46653 \r\n\" style=\"fill:none;stroke:#000000;stroke-linecap:square;stroke-linejoin:miter;stroke-width:0.8;\"/>\r\n   </g>\r\n   <g id=\"patch_5\">\r\n    <path d=\"M 52.375 227.90653 \r\nL 387.175 227.90653 \r\n\" style=\"fill:none;stroke:#000000;stroke-linecap:square;stroke-linejoin:miter;stroke-width:0.8;\"/>\r\n   </g>\r\n   <g id=\"patch_6\">\r\n    <path d=\"M 52.375 10.46653 \r\nL 387.175 10.46653 \r\n\" style=\"fill:none;stroke:#000000;stroke-linecap:square;stroke-linejoin:miter;stroke-width:0.8;\"/>\r\n   </g>\r\n  </g>\r\n </g>\r\n <defs>\r\n  <clipPath id=\"p36a8a1f52b\">\r\n   <rect height=\"217.44\" width=\"334.8\" x=\"52.375\" y=\"10.46653\"/>\r\n  </clipPath>\r\n </defs>\r\n</svg>\r\n",
      "image/png": "[encoded data removed]"
     },
     "metadata": {
      "needs_background": "light"
     }
    }
   ],
   "source": [
    "import matplotlib.pyplot as plt\n",
    "from scipy.integrate import solve_ivp\n",
    "def exponential_decay(t, y): \n",
    "    y[0] += 1\n",
    "    return y\n",
    "\n",
    "\n",
    "sol = solve_ivp(exponential_decay, [0, 10], [2, 4, 8], dense_output=True)\n",
    "time = np.linspace(0, 10, 100)\n",
    "y = sol.sol(time)\n",
    "plt.plot(time, y[0])"
   ]
  },
  {
   "cell_type": "code",
   "execution_count": 45,
   "metadata": {},
   "outputs": [
    {
     "output_type": "error",
     "ename": "TypeError",
     "evalue": "'NoneType' object is not callable",
     "traceback": [
      "\u001b[1;31m---------------------------------------------------------------------------\u001b[0m",
      "\u001b[1;31mTypeError\u001b[0m                                 Traceback (most recent call last)",
      "\u001b[1;32m<ipython-input-45-654b4d75b661>\u001b[0m in \u001b[0;36m<module>\u001b[1;34m\u001b[0m\n\u001b[0;32m      1\u001b[0m \u001b[0mtime\u001b[0m \u001b[1;33m=\u001b[0m \u001b[0mnp\u001b[0m\u001b[1;33m.\u001b[0m\u001b[0mlinspace\u001b[0m\u001b[1;33m(\u001b[0m\u001b[1;36m0\u001b[0m\u001b[1;33m,\u001b[0m \u001b[1;36m10\u001b[0m\u001b[1;33m,\u001b[0m \u001b[1;36m100\u001b[0m\u001b[1;33m)\u001b[0m\u001b[1;33m\u001b[0m\u001b[1;33m\u001b[0m\u001b[0m\n\u001b[1;32m----> 2\u001b[1;33m \u001b[0msol\u001b[0m\u001b[1;33m.\u001b[0m\u001b[0msol\u001b[0m\u001b[1;33m(\u001b[0m\u001b[0mtime\u001b[0m\u001b[1;33m)\u001b[0m\u001b[1;33m\u001b[0m\u001b[1;33m\u001b[0m\u001b[0m\n\u001b[0m",
      "\u001b[1;31mTypeError\u001b[0m: 'NoneType' object is not callable"
     ]
    }
   ],
   "source": []
  },
  {
   "cell_type": "code",
   "execution_count": null,
   "metadata": {},
   "outputs": [],
   "source": []
  }
 ],
 "metadata": {
  "kernelspec": {
   "name": "python383jvsc74a57bd05169fa4ceccb8898af6539985de99c31ec80f328ecf0dcc120c0b962b90dfe51",
   "display_name": "Python 3.8.3 64-bit ('base': conda)"
  },
  "language_info": {
   "codemirror_mode": {
    "name": "ipython",
    "version": 3
   },
   "file_extension": ".py",
   "mimetype": "text/x-python",
   "name": "python",
   "nbconvert_exporter": "python",
   "pygments_lexer": "ipython3",
   "version": "3.8.3"
  }
 },
 "nbformat": 4,
 "nbformat_minor": 4
}