{
 "cells": [
  {
   "cell_type": "code",
   "execution_count": 2,
   "metadata": {},
   "outputs": [],
   "source": [
    "from pathlib import Path as pt\n",
    "import numpy as np\n",
    "import matplotlib.pyplot as plt\n",
    "from scipy.optimize import curve_fit"
   ]
  },
  {
   "cell_type": "code",
   "execution_count": 6,
   "metadata": {},
   "outputs": [],
   "source": [
    "def generateNGaussian(N):\n",
    "\n",
    "    gaussfn = lambda n: f\"A{n}*(np.exp((-1.0/2.0)*(((x-cen{n})/sigma{n})**2)))+\"\n",
    "    _gfn, _args = \"\", \"x, \"\n",
    "    for i in range(int(N)): \n",
    "        _gfn += gaussfn(i)\n",
    "        _args += f\"cen{i}, A{i}, sigma{i}, \"\n",
    "    exec(f\"gfn_ = lambda {_args.strip()[:-1]}: {_gfn.strip()[:-1]}\")\n",
    "    \n",
    "    return locals()[\"gfn_\"]\n",
    "\n",
    "def computeNGaussian(wn, inten, sigma=5):\n",
    "\n",
    "    _args = {}\n",
    "    N = len(wn)\n",
    "    gfn = generateNGaussian(N)\n",
    "    i = 0\n",
    "    for x, y in zip(wn, inten):\n",
    "        _args[f\"cen{i}\"] = x\n",
    "        _args[f\"A{i}\"] = y\n",
    "        _args[f\"sigma{i}\"] = sigma\n",
    "        i += 1\n",
    "    full_wn = np.linspace(wn.min()-100, wn.max()+100, 5000)\n",
    "\n",
    "    full_inten = gfn(full_wn, **_args)\n",
    "    return full_wn, full_inten "
   ]
  },
  {
   "cell_type": "code",
   "execution_count": 51,
   "metadata": {},
   "outputs": [
    {
     "data": {
      "text/plain": [
       "[WindowsPath('D:/SurfDrive/THz_Measurements/CO+/thz/118/EXPORT/20_10_20-3.dat'),\n",
       " WindowsPath('D:/SurfDrive/THz_Measurements/CO+/thz/118/EXPORT/20_10_20-4.dat'),\n",
       " WindowsPath('D:/SurfDrive/THz_Measurements/CO+/thz/118/EXPORT/21_10_20-2.dat'),\n",
       " WindowsPath('D:/SurfDrive/THz_Measurements/CO+/thz/118/EXPORT/21_10_20-3_corrected.dat'),\n",
       " WindowsPath('D:/SurfDrive/THz_Measurements/CO+/thz/118/EXPORT/21_10_20-4.dat'),\n",
       " WindowsPath('D:/SurfDrive/THz_Measurements/CO+/thz/118/EXPORT/21_10_20-5.dat'),\n",
       " WindowsPath('D:/SurfDrive/THz_Measurements/CO+/thz/118/EXPORT/21_10_20-6.dat'),\n",
       " WindowsPath('D:/SurfDrive/THz_Measurements/CO+/thz/118/EXPORT/22_10_20-1_corrected.dat'),\n",
       " WindowsPath('D:/SurfDrive/THz_Measurements/CO+/thz/118/EXPORT/22_10_20-2.dat'),\n",
       " WindowsPath('D:/SurfDrive/THz_Measurements/CO+/thz/118/EXPORT/23_10_20-5.dat'),\n",
       " WindowsPath('D:/SurfDrive/THz_Measurements/CO+/thz/118/EXPORT/26_10_20-1.dat'),\n",
       " WindowsPath('D:/SurfDrive/THz_Measurements/CO+/thz/118/EXPORT/26_10_20-2.dat'),\n",
       " WindowsPath('D:/SurfDrive/THz_Measurements/CO+/thz/118/EXPORT/26_10_20-3.dat'),\n",
       " WindowsPath('D:/SurfDrive/THz_Measurements/CO+/thz/118/EXPORT/26_10_20-4.dat'),\n",
       " WindowsPath('D:/SurfDrive/THz_Measurements/CO+/thz/118/EXPORT/28_10_20-1.dat'),\n",
       " WindowsPath('D:/SurfDrive/THz_Measurements/CO+/thz/118/EXPORT/28_10_20-2.dat'),\n",
       " WindowsPath('D:/SurfDrive/THz_Measurements/CO+/thz/118/EXPORT/binned_118.097_118.106GHz_10kHz.dat'),\n",
       " WindowsPath('D:/SurfDrive/THz_Measurements/CO+/thz/118/EXPORT/binned_118.097_118.106GHz_20kHz.dat'),\n",
       " WindowsPath('D:/SurfDrive/THz_Measurements/CO+/thz/118/EXPORT/binned_118.098_118.106GHz_10kHz.dat'),\n",
       " WindowsPath('D:/SurfDrive/THz_Measurements/CO+/thz/118/EXPORT/binned_118.098_118.106GHz_20kHz.dat')]"
      ]
     },
     "execution_count": 51,
     "metadata": {},
     "output_type": "execute_result"
    }
   ],
   "source": [
    "thz_datlocation = pt(r\"D:\\SurfDrive\\THz_Measurements\\CO+\\thz\\118\\EXPORT\")\n",
    "thz_dat_files = list(thz_datlocation.glob(\"*.dat\"))\n",
    "thz_dat_files"
   ]
  },
  {
   "cell_type": "code",
   "execution_count": 46,
   "metadata": {},
   "outputs": [],
   "source": []
  },
  {
   "cell_type": "code",
   "execution_count": 85,
   "metadata": {},
   "outputs": [
    {
     "data": {
      "application/vnd.jupyter.widget-view+json": {
       "model_id": "597ef72d3f934775af4ef3c661400abb",
       "version_major": 2,
       "version_minor": 0
      },
      "text/plain": [
       "Canvas(toolbar=Toolbar(toolitems=[('Home', 'Reset original view', 'home', 'home'), ('Back', 'Back to previous …"
      ]
     },
     "metadata": {},
     "output_type": "display_data"
    },
    {
     "data": {
      "text/plain": [
       "[<matplotlib.lines.Line2D at 0x20abe2c03d0>]"
      ]
     },
     "execution_count": 85,
     "metadata": {},
     "output_type": "execute_result"
    }
   ],
   "source": [
    "freq, depletion = np.genfromtxt(thz_dat_files[-1]).T\n",
    "ind = 80\n",
    "end = -95\n",
    "freq, depletion = freq[ind:end], depletion[ind:end]\n",
    "\n",
    "%matplotlib widget\n",
    "fig, ax = plt.subplots(figsize=(12, 5), dpi=100)\n",
    "ax.plot(freq, depletion, \".k\", label=f\"Experiment\")"
   ]
  },
  {
   "cell_type": "code",
   "execution_count": 187,
   "metadata": {},
   "outputs": [
    {
     "data": {
      "text/plain": [
       "(array([118.10067608, 118.10187337, 118.10291072]),\n",
       " array([1.83529770e-05, 2.69756984e-05, 4.46651807e-06]))"
      ]
     },
     "execution_count": 187,
     "metadata": {},
     "output_type": "execute_result"
    }
   ],
   "source": [
    "freq_guess = [118.1007, 118.1018, 118.1029]\n",
    "depletion_guess = [5, 10, 6]\n",
    "sigma_guess = [1e-4, 1e-3, 1e-4]\n",
    "\n",
    "init_gueeses = np.array([freq_guess, depletion_guess, sigma_guess]).T.flatten()\n",
    "N = 3\n",
    "gfn = generateNGaussian(N)\n",
    "pop, poc = curve_fit(gfn, freq, depletion, p0=init_gueeses)\n",
    "perr = np.sqrt(np.diag(poc))\n",
    "freq_fit = pop[::3]\n",
    "depletion_fit = pop[1::3]\n",
    "sigma_fit = pop[2::3]\n",
    "freq_fit, perr[::3]"
   ]
  },
  {
   "cell_type": "code",
   "execution_count": 188,
   "metadata": {},
   "outputs": [
    {
     "data": {
      "application/vnd.jupyter.widget-view+json": {
       "model_id": "8c675f1767fe410a9de2e13eba3b3ecc",
       "version_major": 2,
       "version_minor": 0
      },
      "text/plain": [
       "Canvas(toolbar=Toolbar(toolitems=[('Home', 'Reset original view', 'home', 'home'), ('Back', 'Back to previous …"
      ]
     },
     "metadata": {},
     "output_type": "display_data"
    }
   ],
   "source": [
    "%matplotlib widget\n",
    "\n",
    "fig, ax = plt.subplots(figsize=(12, 5), dpi=100)\n",
    "ax.plot(freq, depletion, \".k\", label=f\"Experiment\")\n",
    "ax.plot(freq, gfn(freq, *pop), \"-k\", ms=10, label=f\"Fitted\")\n",
    "\n",
    "ax.set(xlabel=\"Frequency (GHz)\", ylabel=\"Depletion (%)\", title=\"CO$^+$: 0$_{1/2}$ --> 1$_{3/2}$\")\n",
    "ax.stem(freq_fit, depletion_fit, use_line_collection=True, linefmt=\"k\")\n",
    "ax.legend()\n",
    "ax.minorticks_on()\n",
    "ax.grid()"
   ]
  },
  {
   "cell_type": "code",
   "execution_count": 87,
   "metadata": {},
   "outputs": [
    {
     "name": "stderr",
     "output_type": "stream",
     "text": [
      "C:\\Users\\aravi\\anaconda3\\lib\\site-packages\\scipy\\optimize\\minpack.py:828: OptimizeWarning: Covariance of the parameters could not be estimated\n",
      "  warnings.warn('Covariance of the parameters could not be estimated',\n"
     ]
    },
    {
     "data": {
      "text/plain": [
       "array([117.6912, 117.6918, 117.6929, 117.6934])"
      ]
     },
     "execution_count": 87,
     "metadata": {},
     "output_type": "execute_result"
    }
   ],
   "source": [
    "freq_guess = [117.6912, 117.6918, 117.6929, 117.6934]\n",
    "depletion_guess = [4.5, 4.5, 4.5, 4]\n",
    "sigma_guess = [1e-4, 1e-4, 1e-4, 1e-4]\n",
    "\n",
    "init_gueeses = np.array([freq_guess, depletion_guess, sigma_guess]).T.flatten()\n",
    "N = 4\n",
    "gfn = generateNGaussian(N)\n",
    "pop, poc = curve_fit(gfn, freq, depletion, p0=init_gueeses)\n",
    "perr = np.sqrt(np.diag(poc))\n",
    "freq_fit = pop[::3]\n",
    "depletion_fit = pop[1::3]\n",
    "sigma_fit = pop[2::3]\n",
    "freq_fit"
   ]
  },
  {
   "cell_type": "code",
   "execution_count": 5,
   "metadata": {},
   "outputs": [
    {
     "data": {
      "application/vnd.jupyter.widget-view+json": {
       "model_id": "c7ef84968f874cdb80f1672c8ca55bd7",
       "version_major": 2,
       "version_minor": 0
      },
      "text/plain": [
       "Canvas(toolbar=Toolbar(toolitems=[('Home', 'Reset original view', 'home', 'home'), ('Back', 'Back to previous …"
      ]
     },
     "metadata": {},
     "output_type": "display_data"
    },
    {
     "ename": "NameError",
     "evalue": "name 'freq' is not defined",
     "output_type": "error",
     "traceback": [
      "\u001b[1;31m---------------------------------------------------------------------------\u001b[0m",
      "\u001b[1;31mNameError\u001b[0m                                 Traceback (most recent call last)",
      "\u001b[1;32m<ipython-input-5-6d6b64935597>\u001b[0m in \u001b[0;36m<module>\u001b[1;34m\u001b[0m\n\u001b[0;32m      2\u001b[0m \u001b[1;33m\u001b[0m\u001b[0m\n\u001b[0;32m      3\u001b[0m \u001b[0mfig\u001b[0m\u001b[1;33m,\u001b[0m \u001b[0max\u001b[0m \u001b[1;33m=\u001b[0m \u001b[0mplt\u001b[0m\u001b[1;33m.\u001b[0m\u001b[0msubplots\u001b[0m\u001b[1;33m(\u001b[0m\u001b[0mfigsize\u001b[0m\u001b[1;33m=\u001b[0m\u001b[1;33m(\u001b[0m\u001b[1;36m12\u001b[0m\u001b[1;33m,\u001b[0m \u001b[1;36m5\u001b[0m\u001b[1;33m)\u001b[0m\u001b[1;33m,\u001b[0m \u001b[0mdpi\u001b[0m\u001b[1;33m=\u001b[0m\u001b[1;36m100\u001b[0m\u001b[1;33m)\u001b[0m\u001b[1;33m\u001b[0m\u001b[1;33m\u001b[0m\u001b[0m\n\u001b[1;32m----> 4\u001b[1;33m \u001b[0max\u001b[0m\u001b[1;33m.\u001b[0m\u001b[0mplot\u001b[0m\u001b[1;33m(\u001b[0m\u001b[0mfreq\u001b[0m\u001b[1;33m,\u001b[0m \u001b[0mdepletion\u001b[0m\u001b[1;33m,\u001b[0m \u001b[1;34m\".k\"\u001b[0m\u001b[1;33m,\u001b[0m \u001b[0mlabel\u001b[0m\u001b[1;33m=\u001b[0m\u001b[1;34mf\"Experiment\"\u001b[0m\u001b[1;33m)\u001b[0m\u001b[1;33m\u001b[0m\u001b[1;33m\u001b[0m\u001b[0m\n\u001b[0m\u001b[0;32m      5\u001b[0m \u001b[0max\u001b[0m\u001b[1;33m.\u001b[0m\u001b[0mplot\u001b[0m\u001b[1;33m(\u001b[0m\u001b[0mfreq\u001b[0m\u001b[1;33m,\u001b[0m \u001b[0mgfn\u001b[0m\u001b[1;33m(\u001b[0m\u001b[0mfreq\u001b[0m\u001b[1;33m,\u001b[0m \u001b[1;33m*\u001b[0m\u001b[0mpop\u001b[0m\u001b[1;33m)\u001b[0m\u001b[1;33m,\u001b[0m \u001b[1;34m\"-k\"\u001b[0m\u001b[1;33m,\u001b[0m \u001b[0mms\u001b[0m\u001b[1;33m=\u001b[0m\u001b[1;36m10\u001b[0m\u001b[1;33m,\u001b[0m \u001b[0mlabel\u001b[0m\u001b[1;33m=\u001b[0m\u001b[1;34mf\"Fitted\"\u001b[0m\u001b[1;33m)\u001b[0m\u001b[1;33m\u001b[0m\u001b[1;33m\u001b[0m\u001b[0m\n\u001b[0;32m      6\u001b[0m \u001b[1;33m\u001b[0m\u001b[0m\n",
      "\u001b[1;31mNameError\u001b[0m: name 'freq' is not defined"
     ]
    }
   ],
   "source": [
    "%matplotlib widget\n",
    "\n",
    "fig, ax = plt.subplots(figsize=(12, 5), dpi=100)\n",
    "ax.plot(freq, depletion, \".k\", label=f\"Experiment\")\n",
    "ax.plot(freq, gfn(freq, *pop), \"-k\", ms=10, label=f\"Fitted\")\n",
    "\n",
    "ax.set(xlabel=\"Frequency (GHz)\", ylabel=\"Depletion (%)\", title=\"CO$^+$: 0$_{1/2}$ --> 1$_{1/2}$\")\n",
    "ax.stem(freq_fit, depletion_fit, use_line_collection=True, linefmt=\"k\")\n",
    "ax.legend()\n",
    "ax.minorticks_on()\n",
    "ax.grid()"
   ]
  },
  {
   "cell_type": "code",
   "execution_count": null,
   "metadata": {},
   "outputs": [],
   "source": []
  }
 ],
 "metadata": {
  "kernelspec": {
   "display_name": "Python 3",
   "language": "python",
   "name": "python3"
  },
  "language_info": {
   "codemirror_mode": {
    "name": "ipython",
    "version": 3
   },
   "file_extension": ".py",
   "mimetype": "text/x-python",
   "name": "python",
   "nbconvert_exporter": "python",
   "pygments_lexer": "ipython3",
   "version": "3.8.3"
  }
 },
 "nbformat": 4,
 "nbformat_minor": 4
}
