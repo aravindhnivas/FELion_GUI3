{
 "cells": [
  {
   "cell_type": "code",
   "execution_count": 1,
   "metadata": {},
   "outputs": [],
   "source": [
    "from pathlib import Path as pt\n",
    "import numpy as np\n",
    "from ipywidgets import widgets\n",
    "import matplotlib.pyplot as plt\n",
    "from scipy.special import voigt_profile"
   ]
  },
  {
   "cell_type": "code",
   "execution_count": 2,
   "metadata": {},
   "outputs": [
    {
     "output_type": "stream",
     "name": "stdout",
     "text": [
      "fwhm=50.00\nfG=35.00\nfL=15.00\nsigma=14.86\ngamma=7.50\n\n"
     ]
    }
   ],
   "source": [
    "mu = 100\n",
    "fwhm = 50\n",
    "fG = 0.7*fwhm\n",
    "fL = fwhm-fG\n",
    "\n",
    "sigma = fG/(2*np.sqrt(2*np.log(2)))\n",
    "gamma = fL/2\n",
    "\n",
    "print(f\"{fwhm=:.2f}\\n{fG=:.2f}\\n{fL=:.2f}\\n{sigma=:.2f}\\n{gamma=:.2f}\\n\")"
   ]
  },
  {
   "cell_type": "code",
   "execution_count": 3,
   "metadata": {},
   "outputs": [
    {
     "output_type": "display_data",
     "data": {
      "text/plain": "Canvas(toolbar=Toolbar(toolitems=[('Home', 'Reset original view', 'home', 'home'), ('Back', 'Back to previous …",
      "application/vnd.jupyter.widget-view+json": {
       "version_major": 2,
       "version_minor": 0,
       "model_id": "9ded3e712208407bbb522bdf45d21a79"
      }
     },
     "metadata": {}
    }
   ],
   "source": [
    "mu = 10\n",
    "x = np.linspace(-5*mu, 5*mu, 1000)\n",
    "gauss_lineshape = voigt_profile(x-mu, sigma, 0)\n",
    "lorentz_lineshape = voigt_profile(x-mu, 0, gamma)\n",
    "voigt_lineshape = voigt_profile(x-mu, sigma, gamma)\n",
    "\n",
    "%matplotlib widget\n",
    "fig, ax = plt.subplots()\n",
    "\n",
    "ax.plot(x, gauss_lineshape, label=f\"G(x;$A, \\mu, \\sigma$); $\\sigma$={sigma:.1f}\")\n",
    "ax.plot(x, lorentz_lineshape, label=f\"L(x;$A, \\mu, \\gamma$); $\\gamma$={gamma:.1f}\")\n",
    "ax.plot(x, voigt_lineshape, label=f\"V(x;$\\sigma, \\gamma$); \")\n",
    "ax.vlines(mu, ymin=0, ymax=lorentz_lineshape.max())\n",
    "ax.legend(title=f\"$\\mu$={mu:.2f}\").set_draggable(False)"
   ]
  },
  {
   "cell_type": "code",
   "execution_count": null,
   "metadata": {},
   "outputs": [],
   "source": []
  }
 ],
 "metadata": {
  "kernelspec": {
   "name": "python3",
   "display_name": "Python 3.8.3 64-bit ('base': conda)"
  },
  "language_info": {
   "codemirror_mode": {
    "name": "ipython",
    "version": 3
   },
   "file_extension": ".py",
   "mimetype": "text/x-python",
   "name": "python",
   "nbconvert_exporter": "python",
   "pygments_lexer": "ipython3",
   "version": "3.8.3"
  },
  "interpreter": {
   "hash": "5169fa4ceccb8898af6539985de99c31ec80f328ecf0dcc120c0b962b90dfe51"
  }
 },
 "nbformat": 4,
 "nbformat_minor": 4
}