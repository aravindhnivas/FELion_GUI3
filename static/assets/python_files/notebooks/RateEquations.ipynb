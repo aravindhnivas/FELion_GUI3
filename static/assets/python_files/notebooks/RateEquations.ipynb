{
 "cells": [
  {
   "cell_type": "code",
   "execution_count": 1,
   "metadata": {},
   "outputs": [],
   "source": [
    "import numpy as np\n",
    "import matplotlib.pyplot as plt\n",
    "from scipy.constants import speed_of_light, Boltzmann, Planck\n",
    "from functools import reduce\n",
    "from scipy.integrate import solve_ivp"
   ]
  },
  {
   "cell_type": "code",
   "execution_count": 2,
   "metadata": {},
   "outputs": [],
   "source": [
    "from ROSAA_func import distribution, boltzman_distribution, \\\n",
    "    stimulated_absorption, stimulated_emission,\\\n",
    "    voigt, lorrentz_fwhm, gauss_fwhm"
   ]
  },
  {
   "cell_type": "code",
   "execution_count": 3,
   "metadata": {},
   "outputs": [],
   "source": [
    "import pprint\n",
    "pp = pprint.PrettyPrinter()\n",
    "pprint = pp.pprint"
   ]
  },
  {
   "cell_type": "code",
   "execution_count": 4,
   "metadata": {},
   "outputs": [],
   "source": [
    "def lineshape_normalise():\n",
    "\n",
    "    freq = float(main_parameters[\"freq\"])  # transition frequency in Hz\n",
    "\n",
    "    # doppler line width\n",
    "\n",
    "    massIon = float(lineshape_conditions[\"IonMass(amu)\"])\n",
    "    tempIon = float(lineshape_conditions[\"IonTemperature(K)\"])\n",
    "    sigma = gauss_fwhm(freq, massIon, tempIon)\n",
    "\n",
    "    # power broadening\n",
    "    dipoleMoment = float(power_broadening[\"dipoleMoment(D)\"])\n",
    "    power = float(power_broadening[\"power(W)\"])\n",
    "\n",
    "    cp = float(power_broadening[\"cp\"])\n",
    "    gamma = lorrentz_fwhm(dipoleMoment, power, cp)\n",
    "\n",
    "    # normalised line shape factor\n",
    "    LineShape = voigt(gamma, sigma)\n",
    "    \n",
    "    # transition rate due to influence of mm-wave \n",
    "    # normalisation factor\n",
    "\n",
    "    trap_area = float(main_parameters[\"trap_area\"])\n",
    "    norm = (power/(trap_area*speed_of_light))*LineShape\n",
    "    \n",
    "    print(f\"{massIon=}\\n{tempIon=}\\n{sigma=:.2e}\\n{gamma=:.2e}\\n{LineShape=:.2e}\\n{norm=:.2e}\\n\")\n",
    "    return norm\n",
    "\n",
    "\n",
    "def getCollisionalRate(collisional_rates):\n",
    "    \n",
    "    rates = {}\n",
    "    \n",
    "    for i in range(totallevel):\n",
    "        for j in range(totallevel):\n",
    "            if i != j & j>i:\n",
    "                deexciteRateConstantKey = f\"q_{j}{i}\"\n",
    "                exciteRateConstantKey = f\"q_{i}{j}\"\n",
    "                \n",
    "                if q_deexcitation_mode:\n",
    "                    \n",
    "                    _temp = collisional_rates[deexciteRateConstantKey]\n",
    "                    rates[deexciteRateConstantKey] = _temp\n",
    "                    rates[exciteRateConstantKey] = _temp * distribution(i, j, Energy, trapTemp)\n",
    "                    \n",
    "                else:\n",
    "                    _temp = collisional_rates[exciteRateConstantKey]\n",
    "                    rates[exciteRateConstantKey] = _temp\n",
    "                    rates[deexciteRateConstantKey] = _temp * distribution(j, i, Energy, trapTemp)\n",
    "    return rates\n",
    "\n",
    "def getAttachmentRates():\n",
    "    \n",
    "    Rate_k31_0 = k31_0*nHe**2\n",
    "    Rate_k31_1 = k31_1*nHe**2\n",
    "    Rate_k32 = k32*nHe**2\n",
    "    Rate_kCID1 = kCID1*nHe\n",
    "    Rate_kCID2 = kCID2*nHe\n",
    "    \n",
    "    return Rate_k31_0, Rate_k31_1, Rate_k32, Rate_kCID1, Rate_kCID2"
   ]
  },
  {
   "cell_type": "code",
   "execution_count": 5,
   "metadata": {},
   "outputs": [
    {
     "ename": "NameError",
     "evalue": "name 'totallevel' is not defined",
     "output_type": "error",
     "traceback": [
      "\u001b[1;31m---------------------------------------------------------------------------\u001b[0m",
      "\u001b[1;31mNameError\u001b[0m                                 Traceback (most recent call last)",
      "\u001b[1;32m<ipython-input-5-9a28926d4e54>\u001b[0m in \u001b[0;36m<module>\u001b[1;34m\u001b[0m\n\u001b[1;32m----> 1\u001b[1;33m \u001b[1;32mfor\u001b[0m \u001b[0mi\u001b[0m \u001b[1;32min\u001b[0m \u001b[0mrange\u001b[0m\u001b[1;33m(\u001b[0m\u001b[0mtotallevel\u001b[0m\u001b[1;33m)\u001b[0m\u001b[1;33m:\u001b[0m\u001b[1;33m\u001b[0m\u001b[1;33m\u001b[0m\u001b[0m\n\u001b[0m\u001b[0;32m      2\u001b[0m     \u001b[1;32mfor\u001b[0m \u001b[0mj\u001b[0m \u001b[1;32min\u001b[0m \u001b[0mrange\u001b[0m\u001b[1;33m(\u001b[0m\u001b[0mtotallevel\u001b[0m\u001b[1;33m)\u001b[0m\u001b[1;33m:\u001b[0m\u001b[1;33m\u001b[0m\u001b[1;33m\u001b[0m\u001b[0m\n\u001b[0;32m      3\u001b[0m         \u001b[1;32mif\u001b[0m \u001b[0mi\u001b[0m \u001b[1;33m!=\u001b[0m \u001b[0mj\u001b[0m \u001b[1;33m&\u001b[0m \u001b[0mj\u001b[0m\u001b[1;33m>\u001b[0m\u001b[0mi\u001b[0m\u001b[1;33m:\u001b[0m\u001b[1;33m\u001b[0m\u001b[1;33m\u001b[0m\u001b[0m\n\u001b[0;32m      4\u001b[0m             \u001b[0mdeexciteRateConstantKey\u001b[0m \u001b[1;33m=\u001b[0m \u001b[1;34mf\"q_{j}{i}\"\u001b[0m\u001b[1;33m\u001b[0m\u001b[1;33m\u001b[0m\u001b[0m\n\u001b[0;32m      5\u001b[0m             \u001b[0mexciteRateConstantKey\u001b[0m \u001b[1;33m=\u001b[0m \u001b[1;34mf\"q_{i}{j}\"\u001b[0m\u001b[1;33m\u001b[0m\u001b[1;33m\u001b[0m\u001b[0m\n",
      "\u001b[1;31mNameError\u001b[0m: name 'totallevel' is not defined"
     ]
    }
   ],
   "source": []
  },
  {
   "cell_type": "code",
   "execution_count": 49,
   "metadata": {},
   "outputs": [],
   "source": [
    "def computeAttachmentProcess(N, N_He, dR_dt):\n",
    "    \n",
    "    # attachmentRate0, attachmentRate1, attachmentRate2 = get_attachment_rates(N, N_He)\n",
    "    # Adding rare gas atom attachment and dissociation rates\n",
    "\n",
    "    attachmentRate0 = - Rate_k31_0*N[0] + Rate_kCID1*N_He[0]*p\n",
    "    attachmentRate1 = - Rate_k31_1*N[1] + Rate_kCID1*N_He[0]*(1-p)\n",
    "    attachmentRate2 = - Rate_k32*N_He[0] + Rate_kCID2*N_He[1]\n",
    "\n",
    "    dR_dt[0] += attachmentRate0\n",
    "    dR_dt[1] += attachmentRate1\n",
    "\n",
    "    # CDHe:\n",
    "    dCDHe_dt = - attachmentRate0 - attachmentRate1 + attachmentRate2\n",
    "    dR_dt.append(dCDHe_dt)\n",
    "\n",
    "    # CDHe2\n",
    "    dCDHe2_dt = - attachmentRate2\n",
    "    dR_dt.append(dCDHe2_dt)\n",
    "\n",
    "    return dR_dt\n",
    "\n",
    "def computeCollisionalProcess(i, N):\n",
    "    \n",
    "    collections = []\n",
    "\n",
    "    for j in range(totallevel):\n",
    "        if i!= j: \n",
    "            \n",
    "            key = f\"q_{j}{i}\"\n",
    "            keyInverse = f\"q_{i}{j}\"\n",
    "            \n",
    "            k = collisional_rates[key]*nHe*N[j] - collisional_rates[keyInverse]*nHe*N[i]\n",
    "            collections.append(k)\n",
    "    \n",
    "    if testMode: print(f\"collisional_collection: {i=}\\t{collections=}\")\n",
    "    return collections\n",
    "\n",
    "def computeEinsteinProcess(i, N):\n",
    "    \n",
    "    collections = []\n",
    "    \n",
    "    if includeSpontaneousEmission:\n",
    "\n",
    "        # Einstein Coefficient A\n",
    "        if i == 0: \n",
    "            temp = A_10*N[excitedTo]\n",
    "            collections.append(temp)\n",
    "\n",
    "        if i == 1:\n",
    "            temp = -A_10*N[excitedTo]\n",
    "            collections.append(temp)\n",
    "\n",
    "    # Einstein Coefficient B\n",
    "\n",
    "    if lightON:\n",
    "        \n",
    "        # B_rate defined from excited state \n",
    "        B_rate = B_01*N[excitedFrom] - B_10*N[excitedTo]\n",
    "\n",
    "        if i==excitedFrom:\n",
    "            temp = -B_rate\n",
    "            collections.append(temp)\n",
    "\n",
    "        if i==excitedTo:\n",
    "            temp = B_rate\n",
    "            collections.append(temp)\n",
    "        \n",
    "        if testMode: print(f\"{excitedTo=}\\t{B_rate=}\\t{-B_rate=}\")\n",
    "        \n",
    "    if testMode: print(f\"einstein_collection: {i=}\\t{collections=}\")\n",
    "    return collections"
   ]
  },
  {
   "cell_type": "code",
   "execution_count": 50,
   "metadata": {},
   "outputs": [],
   "source": [
    "def computeRateDistributionEquations(t, counts):\n",
    "    \n",
    "    if testMode: print(f\"{counts=}\\n\")\n",
    "    \n",
    "    if includeAttachmentRate:\n",
    "        N =  counts[:-2]\n",
    "        N_He = [counts[-2], counts[-1]]\n",
    "    else:\n",
    "        N = counts\n",
    "    \n",
    "    rateCollection = []\n",
    "    \n",
    "    for i in range(totallevel):\n",
    "        \n",
    "        collisional_collection = computeCollisionalProcess(i, N)\n",
    "        einstein_collection = computeEinsteinProcess(i, N)\n",
    "        \n",
    "        collections = collisional_collection + einstein_collection\n",
    "        rateCollection.append(collections)\n",
    "        if testMode: print(f\"{rateCollection=}\")\n",
    "        \n",
    "    dR_dt = []\n",
    "    for _ in rateCollection:\n",
    "        _temp = reduce(lambda a, b: a+b, _)\n",
    "        dR_dt.append(_temp)\n",
    "        \n",
    "    if includeAttachmentRate:\n",
    "        dR_dt = computeAttachmentProcess(N, N_He, dR_dt)\n",
    "    \n",
    "    return dR_dt"
   ]
  },
  {
   "cell_type": "code",
   "execution_count": 140,
   "metadata": {},
   "outputs": [],
   "source": [
    "conditions={'trapTemp': 5.7, 'variable': 'time', 'variableRange': '1e12,  1e16,  10', 'includeCollision': True, 'writefile': True, 'filename': 'ROSAA_modal_CD_He', \n",
    "            'currentLocation': 'Z:\\\\Students\\\\Aravindh\\\\Measurements\\\\CO+', 'q_deexcitation_mode': True, \n",
    "            'collisional_rates': {'q_10':4.129378677912417e-11, 'q_20': 3.9250811501906335e-11, 'q_21': 1.2457658629399757e-10, \\\n",
    "                                  'q_30': 1.3300641305139243e-11, 'q_31': 8.492073041429557e-11, 'q_32': 6.81110895320521e-11}, \n",
    "            'main_parameters': {'molecule': 'CD', 'tagging partner': 'He', 'freq': '453_521_850_000', 'trap_area': '5e-5', 'Energy': '0, 15.127861, 45.373851, 90.718526, 151.132755, 226.577764'}, \n",
    "            'simulation_parameters': {'totalIonCounts': 1000, 'Simulation time(ms)': 600, 'Total steps': 1000, 'numberOfLevel (J levels)': 4, 'excitedTo':1, 'excitedFrom':0}, \n",
    "            'einstein_coefficient': {'A_10':'6.24e-4', 'spontaneous_emissions': [],  \"includeSpontaneousEmission\":True}, \n",
    "            'power_broadening': {'cp': '4.9e7', 'dipoleMoment(D)': 0, 'power(W)': '2e-5'}, \n",
    "            'lineshape_conditions': {'IonMass(amu)': 14, 'IonTemperature(K)': 12.3}, \n",
    "            'rate_coefficients': {'branching-ratio': 0.5, 'a': 0.5, 'includeAttachmentRate':False, 'He density(cm3)': '5e14', 'k3': '9.6e-31,  2.9e-30', 'kCID': '6.7e-16,  1.9e-15'}\n",
    "        }\n",
    "\n",
    "main_parameters = conditions[\"main_parameters\"]\n",
    "simulation_parameters = conditions[\"simulation_parameters\"]\n",
    "einstein_coefficient = conditions[\"einstein_coefficient\"]\n",
    "lineshape_conditions = conditions[\"lineshape_conditions\"]\n",
    "rate_coefficients = conditions[\"rate_coefficients\"]\n",
    "power_broadening = conditions[\"power_broadening\"]"
   ]
  },
  {
   "cell_type": "code",
   "execution_count": 141,
   "metadata": {},
   "outputs": [
    {
     "name": "stdout",
     "output_type": "stream",
     "text": [
      "nHe=5.00e+14\n",
      "\n",
      "k31_1 dependent factor: 0.5\n",
      "\n",
      "k31_0=9.60e-31\tRate_k31_0=0.24\n",
      "k31_1=4.80e-31\tRate_k31_1=0.12\n",
      "k32=2.90e-30\tRate_k32=0.72\n",
      "\n",
      "kCID1=6.70e-16\tRate_kCID1=0.34\n",
      "kCID2=1.90e-15\tRate_kCID2=0.95\n",
      "\n",
      "Branching Ratio: 0.5\n",
      "\n"
     ]
    }
   ],
   "source": [
    "nHe = float(rate_coefficients[\"He density(cm3)\"])\n",
    "print(f\"{nHe=:.2e}\\n\")\n",
    "\n",
    "k31_0, k32 = [float(i.strip()) for i in rate_coefficients[\"k3\"].split(\",\")]\n",
    "a = float(rate_coefficients[\"a\"])\n",
    "k31_1 = a*k31_0\n",
    "\n",
    "kCID1, kCID2 = [float(i.strip()) for i in rate_coefficients[\"kCID\"].split(\",\")]\n",
    "Rate_k31_0, Rate_k31_1, Rate_k32, Rate_kCID1, Rate_kCID2 =  getAttachmentRates()\n",
    "\n",
    "print(f\"k31_1 dependent factor: {a}\\n\")\n",
    "print(f\"{k31_0=:.2e}\\t{Rate_k31_0=:.2f}\")\n",
    "print(f\"{k31_1=:.2e}\\t{Rate_k31_1=:.2f}\")\n",
    "print(f\"{k32=:.2e}\\t{Rate_k32=:.2f}\\n\")\n",
    "print(f\"{kCID1=:.2e}\\t{Rate_kCID1=:.2f}\")\n",
    "print(f\"{kCID2=:.2e}\\t{Rate_kCID2=:.2f}\\n\")\n",
    "\n",
    "p = float(rate_coefficients[\"branching-ratio\"])\n",
    "print(f\"Branching Ratio: {p}\\n\")"
   ]
  },
  {
   "cell_type": "code",
   "execution_count": 142,
   "metadata": {},
   "outputs": [
    {
     "name": "stdout",
     "output_type": "stream",
     "text": [
      "includeAttachmentRate=False\n",
      "includeCollision=True\n",
      "includeSpontaneousEmission=True\n",
      "\n",
      "totallevel=4\n",
      "\n",
      "Energy=[0.0, 15.127861, 45.373851, 90.718526] in cm-1\n",
      "trapTemp=5.7K\n",
      "freq=4.54e+11 Hz\n",
      "\n",
      "massIon=14.0\n",
      "tempIon=12.3\n",
      "sigma=3.03e+05\n",
      "gamma=2.19e+05\n",
      "LineShape=8.02e-07\n",
      "norm=1.07e-15\n",
      "\n",
      "A_10=6.24e-04\n",
      "\n",
      "B_10=1.16e+04\tB_01=3.48e+04\n",
      "\n",
      "Collisional Rates\n",
      "q_10: 4.13e-11\tq_10*nHe: 2.06e+04\n",
      "\n",
      "q_01: 2.72e-12\tq_01*nHe: 1.36e+03\n",
      "\n",
      "q_20: 3.93e-11\tq_20*nHe: 1.96e+04\n",
      "\n",
      "q_02: 2.09e-15\tq_02*nHe: 1.04e+00\n",
      "\n",
      "q_30: 1.33e-11\tq_30*nHe: 6.65e+03\n",
      "\n",
      "q_03: 1.06e-20\tq_03*nHe: 5.29e-06\n",
      "\n",
      "q_21: 1.25e-10\tq_21*nHe: 6.23e+04\n",
      "\n",
      "q_12: 1.00e-13\tq_12*nHe: 5.02e+01\n",
      "\n",
      "q_31: 8.49e-11\tq_31*nHe: 4.25e+04\n",
      "\n",
      "q_13: 1.03e-18\tq_13*nHe: 5.13e-04\n",
      "\n",
      "q_32: 6.81e-11\tq_32*nHe: 3.41e+04\n",
      "\n",
      "q_23: 1.02e-15\tq_23*nHe: 5.10e-01\n",
      "\n"
     ]
    }
   ],
   "source": [
    "includeSpontaneousEmission = einstein_coefficient[\"includeSpontaneousEmission\"]\n",
    "includeCollision = conditions[\"includeCollision\"]\n",
    "includeAttachmentRate = rate_coefficients[\"includeAttachmentRate\"]\n",
    "print(f\"{includeAttachmentRate=}\\n{includeCollision=}\\n{includeSpontaneousEmission=}\\n\")\n",
    "\n",
    "totallevel = simulation_parameters[\"numberOfLevel (J levels)\"]\n",
    "print(f\"{totallevel=}\\n\")\n",
    "\n",
    "Energy = [float(_) for _ in main_parameters[\"Energy\"].split(\", \")][:totallevel]\n",
    "trapTemp = conditions[\"trapTemp\"]\n",
    "print(f\"{Energy=} in cm-1\\n{trapTemp=}K\")\n",
    "\n",
    "excitedTo = simulation_parameters[\"excitedTo\"]\n",
    "excitedFrom = simulation_parameters[\"excitedFrom\"]\n",
    "\n",
    "freq = float(main_parameters[\"freq\"])  # transition frequency in Hz\n",
    "print(f\"{freq=:.2e} Hz\\n\")\n",
    "\n",
    "norm = lineshape_normalise()\n",
    "\n",
    "A_10 = float(einstein_coefficient[\"A_10\"])\n",
    "print(f\"{A_10=:.2e}\\n\")\n",
    "\n",
    "B_10 = stimulated_emission(A_10, freq)*norm\n",
    "B_01 = stimulated_absorption(excitedFrom, excitedTo, B_10)\n",
    "print(f\"{B_10=:.2e}\\t{B_01=:.2e}\\n\")\n",
    "\n",
    "collisional_rates = {q:float(value) for q, value in conditions[\"collisional_rates\"].items()}\n",
    "q_deexcitation_mode = conditions[\"q_deexcitation_mode\"]\n",
    "collisional_rates = getCollisionalRate(collisional_rates)\n",
    "\n",
    "print(f\"Collisional Rates\")\n",
    "for key, value in collisional_rates.items():\n",
    "    print(f\"{key}: {value:.2e}\\t{key}*nHe: {value*nHe:.2e}\\n\")"
   ]
  },
  {
   "cell_type": "code",
   "execution_count": 143,
   "metadata": {},
   "outputs": [
    {
     "name": "stdout",
     "output_type": "stream",
     "text": [
      "counts=[0.9381286987741241, 0.06182146186192903, 4.9838617110216355e-05, 7.468368024180652e-10, 0, 0]\n",
      "\n",
      "collisional_collection: i=0\tcollections=[2.2737367544323206e-13, 1.1102230246251565e-16, 0.0]\n",
      "excitedLevel=1\tB_rate=31897.315910849986\t-B_rate=-31897.315910849986\n",
      "einstein_collection: i=0\tcollections=[3.8576592201843713e-05, -31897.315910849986]\n",
      "rateCollection=[[2.2737367544323206e-13, 1.1102230246251565e-16, 0.0, 3.8576592201843713e-05, -31897.315910849986]]\n",
      "collisional_collection: i=1\tcollections=[-2.2737367544323206e-13, 4.440892098500626e-15, 4.0657581468206416e-20]\n",
      "excitedLevel=1\tB_rate=31897.315910849986\t-B_rate=-31897.315910849986\n",
      "einstein_collection: i=1\tcollections=[-3.8576592201843713e-05, 31897.315910849986]\n",
      "rateCollection=[[2.2737367544323206e-13, 1.1102230246251565e-16, 0.0, 3.8576592201843713e-05, -31897.315910849986], [-2.2737367544323206e-13, 4.440892098500626e-15, 4.0657581468206416e-20, -3.8576592201843713e-05, 31897.315910849986]]\n",
      "collisional_collection: i=2\tcollections=[-1.1102230246251565e-16, -4.440892098500626e-15, 0.0]\n",
      "excitedLevel=1\tB_rate=31897.315910849986\t-B_rate=-31897.315910849986\n",
      "einstein_collection: i=2\tcollections=[]\n",
      "rateCollection=[[2.2737367544323206e-13, 1.1102230246251565e-16, 0.0, 3.8576592201843713e-05, -31897.315910849986], [-2.2737367544323206e-13, 4.440892098500626e-15, 4.0657581468206416e-20, -3.8576592201843713e-05, 31897.315910849986], [-1.1102230246251565e-16, -4.440892098500626e-15, 0.0]]\n",
      "collisional_collection: i=3\tcollections=[0.0, -4.0657581468206416e-20, 0.0]\n",
      "excitedLevel=1\tB_rate=31897.315910849986\t-B_rate=-31897.315910849986\n",
      "einstein_collection: i=3\tcollections=[]\n",
      "rateCollection=[[2.2737367544323206e-13, 1.1102230246251565e-16, 0.0, 3.8576592201843713e-05, -31897.315910849986], [-2.2737367544323206e-13, 4.440892098500626e-15, 4.0657581468206416e-20, -3.8576592201843713e-05, 31897.315910849986], [-1.1102230246251565e-16, -4.440892098500626e-15, 0.0], [0.0, -4.0657581468206416e-20, 0.0]]\n"
     ]
    },
    {
     "data": {
      "text/plain": [
       "[-31897.315872273393,\n",
       " 31897.315872273393,\n",
       " -4.551914400963142e-15,\n",
       " -4.0657581468206416e-20]"
      ]
     },
     "execution_count": 143,
     "metadata": {},
     "output_type": "execute_result"
    }
   ],
   "source": [
    "N = boltzman_distribution(Energy, 5.7)\n",
    "N_He = [0, 0]\n",
    "lightON=True\n",
    "includeSpontaneousEmission = True\n",
    "testMode = True\n",
    "dN = computeRateDistributionEquations(1, [*N, 0, 0])\n",
    "dN"
   ]
  },
  {
   "cell_type": "code",
   "execution_count": 144,
   "metadata": {},
   "outputs": [
    {
     "name": "stdout",
     "output_type": "stream",
     "text": [
      "boltzman_distribution_source=array([0.08101779, 0.22604505, 0.32587477, 0.36706238])\n",
      "LightOFF\n",
      "[ 2.23099790e+21 -2.54751926e+23  2.61882922e+23 -9.36199393e+21]\n"
     ]
    },
    {
     "data": {
      "application/vnd.jupyter.widget-view+json": {
       "model_id": "21d68d45665840bda42793b0e197b621",
       "version_major": 2,
       "version_minor": 0
      },
      "text/plain": [
       "Canvas(toolbar=Toolbar(toolitems=[('Home', 'Reset original view', 'home', 'home'), ('Back', 'Back to previous …"
      ]
     },
     "metadata": {},
     "output_type": "display_data"
    },
    {
     "name": "stdout",
     "output_type": "stream",
     "text": [
      "Wall time: 4.83 s\n"
     ]
    }
   ],
   "source": [
    "%%time\n",
    "\n",
    "# nHe = float(rate_coefficients[\"He density(cm3)\"])\n",
    "# nHe = 1e15\n",
    "# includeCollision = True\n",
    "# includeAttachmentRate = False\n",
    "# includeSpontaneousEmission = True\n",
    "\n",
    "testMode = False\n",
    "t = 600e-3 # in ms\n",
    "tspan = [0, t]\n",
    "N = boltzman_distribution(Energy, 300)\n",
    "N_He = [0, 0]\n",
    "boltzman_distribution_source = (N, [*N, 0, 0])[includeAttachmentRate]\n",
    "print(f\"{boltzman_distribution_source=}\")\n",
    "\n",
    "testMode = False\n",
    "print(f\"LightOFF\")\n",
    "lightON=False\n",
    "N_rates_off = solve_ivp(computeRateDistributionEquations, tspan, boltzman_distribution_source, dense_output=True)\n",
    "\n",
    "print(N_rates_off.sol(simulateTime).T[-1])\n",
    "if not includeAttachmentRate:\n",
    "    %matplotlib widget\n",
    "    simulateTime = np.linspace(0, t, 100)\n",
    "    simulateCounts_OFF = N_rates_off.sol(simulateTime)\n",
    "\n",
    "    fig, ax = plt.subplots(figsize=(7, 4), dpi=100)\n",
    "    legends = [f\"N{i}\" for i in range(totallevel)]\n",
    "\n",
    "    ax.plot(simulateTime.T*1e3, simulateCounts_OFF.T)\n",
    "\n",
    "    ax.plot(simulateTime*1e3, simulateCounts_OFF.sum(axis=0), \"k\")\n",
    "    ax.legend(legends, title=\"OFF\")\n",
    "\n",
    "    ax.set(yscale=\"linear\", xlabel=\"Time (ms)\")"
   ]
  },
  {
   "cell_type": "code",
   "execution_count": 145,
   "metadata": {},
   "outputs": [
    {
     "name": "stdout",
     "output_type": "stream",
     "text": [
      "LightON\n",
      "Wall time: 5.25 s\n"
     ]
    }
   ],
   "source": [
    "%%time\n",
    "print(f\"LightON\")\n",
    "lightON=True\n",
    "N_rates_on = solve_ivp(computeRateDistributionEquations, tspan, boltzman_distribution_source, dense_output=True)"
   ]
  },
  {
   "cell_type": "code",
   "execution_count": 146,
   "metadata": {},
   "outputs": [
    {
     "name": "stdout",
     "output_type": "stream",
     "text": [
      "simulateCounts_ON.shape=(4, 100)\n",
      "simulateCounts_OFF.shape=(4, 100)\n"
     ]
    },
    {
     "data": {
      "application/vnd.jupyter.widget-view+json": {
       "model_id": "6b6a854133bd4264a4df2c71bc102cd3",
       "version_major": 2,
       "version_minor": 0
      },
      "text/plain": [
       "Canvas(toolbar=Toolbar(toolitems=[('Home', 'Reset original view', 'home', 'home'), ('Back', 'Back to previous …"
      ]
     },
     "metadata": {},
     "output_type": "display_data"
    },
    {
     "name": "stdout",
     "output_type": "stream",
     "text": [
      "Signal: -562.89%\n"
     ]
    }
   ],
   "source": [
    "%matplotlib widget\n",
    "simulateTime = np.linspace(0, t, 100)\n",
    "simulateCounts_ON = N_rates_on.sol(simulateTime)\n",
    "simulateCounts_OFF = N_rates_off.sol(simulateTime)\n",
    "\n",
    "print(f\"{simulateCounts_ON.shape=}\\n{simulateCounts_OFF.shape=}\")\n",
    "fig, (ax, ax1) = plt.subplots(ncols=2, figsize=(12, 4), dpi=100)\n",
    "\n",
    "legends = [f\"N{i}\" for i in range(totallevel)]\n",
    "legends.append(\"NHe\")\n",
    "legends.append(\"NHe2\")\n",
    "\n",
    "simulateTime = simulateTime*1e3\n",
    "counter = 0\n",
    "for on, off in zip(simulateCounts_ON, simulateCounts_OFF):\n",
    "    ax.plot(simulateTime, on, f\"-C{counter}\", label=legends[counter])\n",
    "    ax.plot(simulateTime, off, f\"--C{counter}\")\n",
    "    counter += 1\n",
    "    \n",
    "ax.plot(simulateTime, simulateCounts_ON.sum(axis=0), \"k\")\n",
    "\n",
    "ax.legend(title=f\"-ON, --OFF\")\n",
    "ax.set(yscale=\"log\", ylabel=\"Counts\", xlabel=\"Time(ms)\")\n",
    "ax.minorticks_on()\n",
    "\n",
    "signal = (1 - (simulateCounts_ON[-2][1:] / simulateCounts_OFF[-2][1:]))*100\n",
    "ax1.plot(simulateTime[1:], signal)\n",
    "ax1.legend([f\"Max. Signal = {signal.max():.2f} at {(simulateTime[1:][signal.argmax()]):.2f}ms\"])\n",
    "ax1.minorticks_on()\n",
    "ax1.set(title=\"Signal as a function of trap time\", xlabel=\"Time (ms)\", ylabel=\"Signal (%)\")\n",
    "plt.tight_layout()\n",
    "\n",
    "print(f\"Signal: {(1 - (simulateCounts_ON[-2][-1] / simulateCounts_OFF[-2][-1]))*100:.2f}%\")"
   ]
  },
  {
   "cell_type": "code",
   "execution_count": 148,
   "metadata": {},
   "outputs": [
    {
     "data": {
      "text/plain": [
       "array([0.08101779, 0.22604505, 0.32587477, 0.36706238])"
      ]
     },
     "execution_count": 148,
     "metadata": {},
     "output_type": "execute_result"
    }
   ],
   "source": [
    "boltzman_distribution_source"
   ]
  },
  {
   "cell_type": "code",
   "execution_count": 149,
   "metadata": {},
   "outputs": [
    {
     "data": {
      "text/plain": [
       "array([9.62813523e-01, 3.71761843e-02, 1.02927741e-05, 3.10689521e-11])"
      ]
     },
     "execution_count": 149,
     "metadata": {},
     "output_type": "execute_result"
    }
   ],
   "source": [
    "boltzman_distribution(Energy, 5)"
   ]
  },
  {
   "cell_type": "code",
   "execution_count": null,
   "metadata": {},
   "outputs": [],
   "source": []
  },
  {
   "cell_type": "code",
   "execution_count": null,
   "metadata": {},
   "outputs": [],
   "source": []
  },
  {
   "cell_type": "code",
   "execution_count": null,
   "metadata": {},
   "outputs": [],
   "source": []
  },
  {
   "cell_type": "code",
   "execution_count": null,
   "metadata": {},
   "outputs": [],
   "source": []
  },
  {
   "cell_type": "code",
   "execution_count": null,
   "metadata": {},
   "outputs": [],
   "source": []
  },
  {
   "cell_type": "code",
   "execution_count": null,
   "metadata": {},
   "outputs": [],
   "source": []
  }
 ],
 "metadata": {
  "kernelspec": {
   "display_name": "Python 3",
   "language": "python",
   "name": "python3"
  },
  "language_info": {
   "codemirror_mode": {
    "name": "ipython",
    "version": 3
   },
   "file_extension": ".py",
   "mimetype": "text/x-python",
   "name": "python",
   "nbconvert_exporter": "python",
   "pygments_lexer": "ipython3",
   "version": "3.8.3"
  }
 },
 "nbformat": 4,
 "nbformat_minor": 4
}
