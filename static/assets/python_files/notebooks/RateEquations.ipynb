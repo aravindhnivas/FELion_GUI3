{
 "cells": [
  {
   "cell_type": "code",
   "execution_count": 4,
   "metadata": {},
   "outputs": [],
   "source": [
    "import numpy as np\n",
    "import matplotlib.pyplot as plt\n",
    "from scipy.constants import speed_of_light, Boltzmann, Planck"
   ]
  },
  {
   "cell_type": "code",
   "execution_count": 5,
   "metadata": {},
   "outputs": [],
   "source": [
    "def distribution(j0, j1, energy, temp):\n",
    "    KT = k_boltzmann_wavenumber*temp\n",
    "    N0 = (2*j0+1)\n",
    "    N1 = (2*j1+1)\n",
    "    Gj = N1/N0\n",
    "\n",
    "    delE = abs(energy[j0]-energy[j1])\n",
    "\n",
    "    return Gj*np.exp(-delE/KT)\n",
    "\n",
    "k_boltzmann_wavenumber = Boltzmann/1.98630e-23\n",
    "def boltzman_distribution(energyLevels, temp=5):\n",
    "    KT = k_boltzmann_wavenumber*temp\n",
    "    Nj = [(2*i+1)*np.exp(-energy/KT) for i, energy in enumerate(energyLevels)]\n",
    "    Nj = np.array(Nj, dtype=np.float)\n",
    "    Nj = Nj/Nj.sum()\n",
    "    return Nj"
   ]
  },
  {
   "cell_type": "code",
   "execution_count": 6,
   "metadata": {},
   "outputs": [],
   "source": [
    "def mhz_wavenumber(freq):\n",
    "    return freq*1e6/(speed_of_light*100)\n",
    "\n",
    "mhz_wn = np.vectorize(mhz_wavenumber)"
   ]
  },
  {
   "cell_type": "code",
   "execution_count": 7,
   "metadata": {},
   "outputs": [
    {
     "data": {
      "text/plain": [
       "array(0.00066713)"
      ]
     },
     "execution_count": 7,
     "metadata": {},
     "output_type": "execute_result"
    }
   ],
   "source": [
    "mhz_wn(20)"
   ]
  },
  {
   "cell_type": "code",
   "execution_count": 8,
   "metadata": {},
   "outputs": [
    {
     "data": {
      "text/plain": [
       "array([3.92579456, 3.93945241, 7.85143321])"
      ]
     },
     "execution_count": 8,
     "metadata": {},
     "output_type": "execute_result"
    }
   ],
   "source": [
    "Energy_CO = np.array([117692.360, 118101.812, 235380.046])\n",
    "Energy_CO_in_wn = mhz_wn(Energy_CO)\n",
    "Energy_CO_in_wn"
   ]
  },
  {
   "cell_type": "code",
   "execution_count": 9,
   "metadata": {},
   "outputs": [
    {
     "data": {
      "text/plain": [
       "array([0.17843945, 0.53321876, 0.28834179])"
      ]
     },
     "execution_count": 9,
     "metadata": {},
     "output_type": "execute_result"
    }
   ],
   "source": [
    "boltzman_distribution(Energy_CO_in_wn, 5)"
   ]
  },
  {
   "cell_type": "code",
   "execution_count": 10,
   "metadata": {},
   "outputs": [
    {
     "data": {
      "text/plain": [
       "1.1952934570844706e-10"
      ]
     },
     "execution_count": 10,
     "metadata": {},
     "output_type": "execute_result"
    }
   ],
   "source": [
    "q_10 = 4e-11\n",
    "q_01 = q_10*distribution(0, 1, Energy_CO_in_wn, 5)\n",
    "q_01"
   ]
  },
  {
   "cell_type": "code",
   "execution_count": 11,
   "metadata": {},
   "outputs": [
    {
     "data": {
      "text/plain": [
       "3.9686845793026256e-11"
      ]
     },
     "execution_count": 11,
     "metadata": {},
     "output_type": "execute_result"
    }
   ],
   "source": [
    "q_01*distribution(1, 0, Energy_CO_in_wn, 5)"
   ]
  },
  {
   "cell_type": "code",
   "execution_count": 12,
   "metadata": {},
   "outputs": [],
   "source": [
    "def kinetic_simulation_on(t, N):\n",
    "\n",
    "    CD0, CD1, CD2, CDHe, CDHe2 = N\n",
    "\n",
    "    p = branching_ratio\n",
    "\n",
    "    # CD: j=0\n",
    "    attachmentRate0 = -Rate_k31_0*CD0 + Rate_kCID1*CDHe*p\n",
    "    collisionalRate0 = (-Rate_q_01*CD0 + Rate_q_10*CD1 + Rate_q_20*CD2 - Rate_q_02*CD0) if includeCollision else 0\n",
    "    spontaneousEmissionRate = A_10*CD1\n",
    "    stimulatedRate = -Rate_B_01*CD0 + Rate_B_10*CD1\n",
    "\n",
    "\n",
    "    dCD0_dt = attachmentRate0 + collisionalRate0 + spontaneousEmissionRate + stimulatedRate\n",
    "\n",
    "    # CD: j=1\n",
    "    attachmentRate1 = -Rate_k31_1*CD1 + Rate_kCID1*CDHe*(1-p)\n",
    "    collisionalRate1 = (Rate_q_01*CD0 - Rate_q_10*CD1 - Rate_q_12*CD1 + Rate_q_21*CD2) if includeCollision else 0\n",
    "\n",
    "    dCD1_dt = attachmentRate1 + collisionalRate1 - spontaneousEmissionRate - stimulatedRate\n",
    "\n",
    "    # CD: j=2\n",
    "    collisionalRate2 = (Rate_q_02*CD0 - Rate_q_20*CD2 + Rate_q_12*CD1 - Rate_q_21*CD2) if includeCollision else CD2\n",
    "    dCD2_dt = collisionalRate2\n",
    "\n",
    "    # CDHe:\n",
    "    attachmentRate2 = -Rate_k32*CDHe + Rate_kCID2*CDHe2\n",
    "    dCDHe_dt = -attachmentRate0 - attachmentRate1 + attachmentRate2\n",
    "\n",
    "    # CDHe2\n",
    "    dCDHe2_dt = -attachmentRate2\n",
    "\n",
    "    return [dCD0_dt, dCD1_dt, dCD2_dt, dCDHe_dt, dCDHe2_dt]"
   ]
  },
  {
   "cell_type": "code",
   "execution_count": 13,
   "metadata": {},
   "outputs": [],
   "source": [
    "totalLevel = 5\n",
    "q_excitation = []"
   ]
  },
  {
   "cell_type": "code",
   "execution_count": 14,
   "metadata": {},
   "outputs": [],
   "source": [
    "def get_level_qRate(totallevel=6, samelevelExistInFile=True):\n",
    "    q_rate_deexcitation = []\n",
    "    counter = 0\n",
    "    for n in range(1, totallevel):\n",
    "        for _temp in range(n+1):\n",
    "            if _temp != n: \n",
    "                q_rate_deexcitation.append(f\"{n}{_temp}\")\n",
    "                if not samelevelExistInFile: counter += 1\n",
    "            if samelevelExistInFile: counter += 1\n",
    "    \n",
    "    return q_rate_deexcitation"
   ]
  },
  {
   "cell_type": "code",
   "execution_count": 15,
   "metadata": {},
   "outputs": [
    {
     "data": {
      "text/plain": [
       "['10', '20', '21', '30', '31', '32']"
      ]
     },
     "execution_count": 15,
     "metadata": {},
     "output_type": "execute_result"
    }
   ],
   "source": [
    "totallevel = 4\n",
    "get_level_qRate(totallevel)"
   ]
  },
  {
   "cell_type": "code",
   "execution_count": 16,
   "metadata": {},
   "outputs": [
    {
     "data": {
      "text/plain": [
       "['N0 =  + q_10*nHe*N1 - q_01*nHe*N0 + q_20*nHe*N2 - q_02*nHe*N0 + q_30*nHe*N3 - q_03*nHe*N0 + A_10*N1 - ( + B_01*N0 - B_10*N1 ) - k31_0*nHe**2*N0 + kCID1*nHe*nHe0*p',\n",
       " 'N1 =  + q_01*nHe*N0 - q_10*nHe*N1 + q_21*nHe*N2 - q_12*nHe*N1 + q_31*nHe*N3 - q_13*nHe*N1 - A_10*N1 + B_01*N0 - B_10*N1  - k31_1*nHe**2*N1 + kCID1*nHe*nHe0*(1-p)',\n",
       " 'N2 =  + q_02*nHe*N0 - q_20*nHe*N2 + q_12*nHe*N1 - q_21*nHe*N2 + q_32*nHe*N3 - q_23*nHe*N2',\n",
       " 'N3 =  + q_03*nHe*N0 - q_30*nHe*N3 + q_13*nHe*N1 - q_31*nHe*N3 + q_23*nHe*N2 - q_32*nHe*N3',\n",
       " 'NHe4 =  - k31_0*nHe**2*N0 + kCID1*nHe*nHe0*p - k31_1*nHe**2*N1 + kCID1*nHe*nHe0*(1-p) - k32*nHe**2*nHe0 + kCID2*nHe*nHe1',\n",
       " 'NHe5 =  - ( - k32*nHe**2*nHe0 + kCID2*nHe*nHe1)']"
      ]
     },
     "execution_count": 16,
     "metadata": {},
     "output_type": "execute_result"
    }
   ],
   "source": [
    "from functools import reduce\n",
    "\n",
    "def collisionalRateDistribution(t, N):\n",
    "    \n",
    "    global fullRateEquation\n",
    "    _N = [f\"N{i}\" for i in range(totallevel)]\n",
    "    _N_He = [f\"{nHe}{i}\" for i in range(2)]\n",
    "    \n",
    "    _rateCollection = []\n",
    "    _temp0 = f\"B_{excitedLevel-1}{excitedLevel}\"\n",
    "    _temp1 = f\"B_{excitedLevel}{excitedLevel-1}\"\n",
    "    \n",
    "    # defined B rate from excited state \n",
    "    _B_rate = f\" + {_temp0}*{_N[excitedLevel-1]} - {_temp1}*{_N[excitedLevel]} \"\n",
    "    \n",
    "    # For loop for combining different rates processes\n",
    "    for i in range(totallevel):\n",
    "        \n",
    "        # Collisional rate\n",
    "        _rateEquationsCombined = []\n",
    "        for j in range(totallevel):\n",
    "            if i!= j: \n",
    "                \n",
    "                key = f\"{j}{i}\"\n",
    "                keyInverse = f\"{i}{j}\"\n",
    "                \n",
    "                _temp0 = f\"q_{key}\"\n",
    "                _temp1 = f\"q_{keyInverse}\"\n",
    "                \n",
    "                _k0 = f\" + {_temp0}*{nHe}*{_N[j]} - {_temp1}*{nHe}*{_N[i]}\"\n",
    "                \n",
    "                _rateEquationsCombined.append(_k0)\n",
    "        \n",
    "        \n",
    "        # END: Collisional rate for loop\n",
    "        _k1 = \"\"\n",
    "        \n",
    "        # Einstein Coefficient A\n",
    "        if i == 0:\n",
    "            _temp0 = f\"A_10\"\n",
    "            _k1 += f\" + {_temp0}*{_N[1]}\"\n",
    "        \n",
    "        if includeSpontaneousEmissionForAllLevels:\n",
    "            if i == totallevel-1:\n",
    "                _temp0 = f\"A_{i}{i-1}\"\n",
    "                _k1 += f\" - {_temp0}*{_N[i]}\"\n",
    "\n",
    "            if i>0 and i<totallevel-1:\n",
    "                _temp0 = f\"A_{i}{i-1}\"\n",
    "                _temp1 = f\"A_{i+1}{i}\"\n",
    "                _k1 += f\" - {_temp0}*{_N[i]} + {_temp1}*{_N[i+1]}\"\n",
    "                \n",
    "        elif i == 1:\n",
    "            _temp0 = f\"A_10\"\n",
    "            _k1 += f\" - {_temp0}*{_N[1]}\"\n",
    "            \n",
    "        # END: Einstein Coefficient A\n",
    "        \n",
    "        \n",
    "        # Einstein Coefficient B\n",
    "        # NOTE: B rate defined from excited state\n",
    "        \n",
    "        if i==excitedLevel-1:\n",
    "            _k1 += f\" - ({_B_rate})\"\n",
    "            \n",
    "        if i==excitedLevel:\n",
    "            _k1 += f\"{_B_rate}\"\n",
    "        \n",
    "        # END: Einstein Coefficient B\n",
    "\n",
    "        # Combining all equations into single array\n",
    "        _rateEquationsCombined.append(_k1)\n",
    "        _rateCollection.append(_rateEquationsCombined)\n",
    "        \n",
    "    # END: For loop for combining different rates processes\n",
    "    \n",
    "    # Computing all rates\n",
    "    _dR_dt = []\n",
    "\n",
    "    for rates in _rateCollection:\n",
    "        _temp = reduce(lambda a, b: a+b, rates)\n",
    "        _dR_dt.append(_temp)\n",
    "        \n",
    "    # Adding rare gas atom attachment and dissociation rates\n",
    "    _attachmentRate0 = f\" - k31_0*{nHe}**2*{_N[0]} + kCID1*{nHe}*{_N_He[0]}*p\"\n",
    "    _attachmentRate1 = f\" - k31_1*{nHe}**2*{_N[1]} + kCID1*{nHe}*{_N_He[0]}*(1-p)\"\n",
    "    _attachmentRate2 = f\" - k32*{nHe}**2*{_N_He[0]} + kCID2*{nHe}*{_N_He[1]}\"\n",
    "    \n",
    "    _dR_dt[0] += _attachmentRate0\n",
    "    _dR_dt[1] += _attachmentRate1\n",
    "    \n",
    "    # CDHe:\n",
    "    _dCDHe_dt = _attachmentRate0 + _attachmentRate1 + _attachmentRate2\n",
    "    _dR_dt.append(_dCDHe_dt)\n",
    "    \n",
    "    # CDHe2\n",
    "    _dCDHe2_dt = f\" - ({_attachmentRate2})\"\n",
    "    _dR_dt.append(_dCDHe2_dt)\n",
    "    \n",
    "    for i, eq in enumerate(_dR_dt):\n",
    "        if i>=totallevel:\n",
    "            fullRateEquation.append(f\"NHe{i} = {eq}\")\n",
    "        else:\n",
    "            fullRateEquation.append(f\"N{i} = {eq}\")\n",
    "            \n",
    "    return _dR_dt\n",
    "\n",
    "includeSpontaneousEmissionForAllLevels = False\n",
    "excitedLevel = 1\n",
    "fullRateEquation = []\n",
    "nHe = \"nHe\"\n",
    "N = collisionalRateDistribution(1, [1, 2, 3, 4, 0, 0])\n",
    "fullRateEquation"
   ]
  },
  {
   "cell_type": "code",
   "execution_count": 20,
   "metadata": {},
   "outputs": [
    {
     "data": {
      "text/plain": [
       "35.49229053880689"
      ]
     },
     "execution_count": 20,
     "metadata": {},
     "output_type": "execute_result"
    }
   ],
   "source": [
    "from scipy.constants import m_p\n",
    "fwhm = lambda freq, temp, m: np.sqrt( (8*Boltzmann*temp*np.log(2)) / (m*m_p*speed_of_light**2) ) * freq\n",
    "\n",
    "freq = 117.692360 * 1e9\n",
    "fwhm(freq, 5, 28)*1e-3"
   ]
  },
  {
   "cell_type": "code",
   "execution_count": null,
   "metadata": {},
   "outputs": [],
   "source": []
  },
  {
   "cell_type": "code",
   "execution_count": null,
   "metadata": {},
   "outputs": [],
   "source": []
  },
  {
   "cell_type": "code",
   "execution_count": null,
   "metadata": {},
   "outputs": [],
   "source": []
  },
  {
   "cell_type": "code",
   "execution_count": null,
   "metadata": {},
   "outputs": [],
   "source": []
  },
  {
   "cell_type": "code",
   "execution_count": null,
   "metadata": {},
   "outputs": [],
   "source": []
  }
 ],
 "metadata": {
  "kernelspec": {
   "display_name": "Python 3",
   "language": "python",
   "name": "python3"
  },
  "language_info": {
   "codemirror_mode": {
    "name": "ipython",
    "version": 3
   },
   "file_extension": ".py",
   "mimetype": "text/x-python",
   "name": "python",
   "nbconvert_exporter": "python",
   "pygments_lexer": "ipython3",
   "version": "3.8.3"
  }
 },
 "nbformat": 4,
 "nbformat_minor": 4
}
