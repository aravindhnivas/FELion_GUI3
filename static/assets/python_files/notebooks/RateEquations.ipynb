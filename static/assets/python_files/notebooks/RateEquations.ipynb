{
 "cells": [
  {
   "cell_type": "code",
   "execution_count": 1,
   "metadata": {},
   "outputs": [],
   "source": [
    "import numpy as np\n",
    "import matplotlib.pyplot as plt\n",
    "from scipy.constants import speed_of_light, Boltzmann, Planck\n",
    "from functools import reduce\n",
    "from scipy.integrate import solve_ivp"
   ]
  },
  {
   "cell_type": "code",
   "execution_count": 2,
   "metadata": {},
   "outputs": [],
   "source": [
    "from ROSAA_func import distribution, boltzman_distribution, \\\n",
    "    stimulated_absorption, stimulated_emission,\\\n",
    "    voigt, lorrentz_fwhm, gauss_fwhm"
   ]
  },
  {
   "cell_type": "code",
   "execution_count": null,
   "metadata": {},
   "outputs": [],
   "source": [
    "import pprint\n",
    "pp = pprint.PrettyPrinter()\n",
    "pprint = pp.pprint"
   ]
  },
  {
   "cell_type": "code",
   "execution_count": null,
   "metadata": {},
   "outputs": [],
   "source": [
    "def lineshape_normalise():\n",
    "\n",
    "    freq = float(main_parameters[\"freq\"])  # transition frequency in Hz\n",
    "\n",
    "    # doppler line width\n",
    "\n",
    "    massIon = float(lineshape_conditions[\"IonMass(amu)\"])\n",
    "    tempIon = float(lineshape_conditions[\"IonTemperature(K)\"])\n",
    "    sigma = gauss_fwhm(freq, massIon, tempIon)\n",
    "\n",
    "    # power broadening\n",
    "    dipoleMoment = float(power_broadening[\"dipoleMoment(D)\"])\n",
    "    power = float(power_broadening[\"power(W)\"])\n",
    "\n",
    "    cp = float(power_broadening[\"cp\"])\n",
    "    gamma = lorrentz_fwhm(dipoleMoment, power, cp)\n",
    "\n",
    "    # normalised line shape factor\n",
    "    LineShape = voigt(gamma, sigma)\n",
    "    \n",
    "    # transition rate due to influence of mm-wave \n",
    "    # normalisation factor\n",
    "\n",
    "    trap_area = float(main_parameters[\"trap_area\"])\n",
    "    norm = (power/(trap_area*speed_of_light))*LineShape\n",
    "    \n",
    "    print(f\"{massIon=}\\n{tempIon=}\\n{sigma=:.2e}\\n{gamma=:.2e}\\n{LineShape=:.2e}\\n{norm=:.2e}\\n\")\n",
    "    return norm\n",
    "\n",
    "\n",
    "def getCollisionalRate(collisional_rates):\n",
    "    \n",
    "    rates = {}\n",
    "    \n",
    "    for i in range(totallevel):\n",
    "        for j in range(totallevel):\n",
    "            if i != j & j>i:\n",
    "                deexciteRateConstantKey = f\"q_{j}{i}\"\n",
    "                exciteRateConstantKey = f\"q_{i}{j}\"\n",
    "                \n",
    "                if q_deexcitation_mode:\n",
    "                    \n",
    "                    _temp = collisional_rates[deexciteRateConstantKey]\n",
    "                    rates[deexciteRateConstantKey] = _temp\n",
    "                    rates[exciteRateConstantKey] = _temp * distribution(i, j, Energy, trapTemp)\n",
    "                    \n",
    "                else:\n",
    "                    _temp = collisional_rates[exciteRateConstantKey]\n",
    "                    rates[exciteRateConstantKey] = _temp\n",
    "                    rates[deexciteRateConstantKey] = _temp * distribution(j, i, Energy, trapTemp)\n",
    "    return rates\n",
    "\n",
    "def getAttachmentRates():\n",
    "    \n",
    "    Rate_k31_0 = k31_0*nHe**2\n",
    "    Rate_k31_1 = k31_1*nHe**2\n",
    "    Rate_k32 = k32*nHe**2\n",
    "    Rate_kCID1 = kCID1*nHe\n",
    "    Rate_kCID2 = kCID2*nHe\n",
    "    \n",
    "    return Rate_k31_0, Rate_k31_1, Rate_k32, Rate_kCID1, Rate_kCID2"
   ]
  },
  {
   "cell_type": "code",
   "execution_count": 73,
   "metadata": {},
   "outputs": [],
   "source": [
    "# totallevel = 3\n",
    "# rateCollection = []\n",
    "# for i in range(totallevel):\n",
    "#     collection = []\n",
    "#     print(f\"\\n{i=}\")\n",
    "#     for j in range(totallevel):\n",
    "#         if i!= j: \n",
    "#             key = f\"q_{j}{i}\"\n",
    "#             keyInverse = f\"q_{i}{j}\"\n",
    "#             print(key, keyInverse)\n",
    "#             temp = f\" + {key}*nHe*N[{j}] - {keyInverse}*nHe*N[{i}]\"\n",
    "#             print(temp)\n",
    "#             collection.append(temp)\n",
    "#     print(f\"N[{i}] = {collection}\")\n",
    "    \n",
    "#     rateCollection.append(collection)\n",
    "# dR_dt = []\n",
    "# for _ in rateCollection:\n",
    "#     _temp = reduce(lambda a, b: a+b, _)\n",
    "#     dR_dt.append(_temp)\n",
    "# dR_dt.append([1, 2, 3])\n",
    "# dR_dt"
   ]
  },
  {
   "cell_type": "code",
   "execution_count": 85,
   "metadata": {},
   "outputs": [],
   "source": [
    "def computeAttachmentProcess(N, N_He, dR_dt):\n",
    "    \n",
    "    # attachmentRate0, attachmentRate1, attachmentRate2 = get_attachment_rates(N, N_He)\n",
    "    # Adding rare gas atom attachment and dissociation rates\n",
    "\n",
    "    attachmentRate0 = - Rate_k31_0*N[0] + Rate_kCID1*N_He[0]*p\n",
    "    attachmentRate1 = - Rate_k31_1*N[1] + Rate_kCID1*N_He[0]*(1-p)\n",
    "    attachmentRate2 = - Rate_k32*N_He[0] + Rate_kCID2*N_He[1]\n",
    "    \n",
    "    if testMode: print(f\"{dR_dt=}, {attachmentRate0=}, {attachmentRate1=}\")\n",
    "    dR_dt[0] += attachmentRate0\n",
    "    dR_dt[1] += attachmentRate1\n",
    "    if testMode: print(f\"{dR_dt=}\")\n",
    "    # CDHe:\n",
    "    dCDHe_dt = - attachmentRate0 - attachmentRate1 + attachmentRate2\n",
    "    dR_dt.append(dCDHe_dt)\n",
    "\n",
    "    # CDHe2\n",
    "    dCDHe2_dt = - attachmentRate2\n",
    "    dR_dt.append(dCDHe2_dt)\n",
    "    if testMode: print(f\"{dR_dt=}\")\n",
    "    return dR_dt\n",
    "\n",
    "def computeCollisionalProcess(i, N):\n",
    "    \n",
    "    collections = []\n",
    "\n",
    "    for j in range(totallevel):\n",
    "        if i!= j: \n",
    "            \n",
    "            key = f\"q_{j}{i}\"\n",
    "            keyInverse = f\"q_{i}{j}\"\n",
    "            \n",
    "            k = collisional_rates[key]*nHe*N[j] - collisional_rates[keyInverse]*nHe*N[i]\n",
    "            collections.append(k)\n",
    "    \n",
    "    if testMode: print(f\"collisional_collection: \\t{collections}\")\n",
    "    return collections\n",
    "\n",
    "def computeEinsteinProcess(i, N):\n",
    "    \n",
    "    collections = []\n",
    "    \n",
    "    if includeSpontaneousEmission:\n",
    "\n",
    "        # Einstein Coefficient A\n",
    "        if i == excitedFrom: \n",
    "            temp = A_10*N[excitedTo]\n",
    "            collections.append(temp)\n",
    "\n",
    "        if i == excitedTo:\n",
    "            temp = -A_10*N[excitedTo]\n",
    "            collections.append(temp)\n",
    "\n",
    "    # Einstein Coefficient B\n",
    "\n",
    "    if lightON:\n",
    "        \n",
    "        # B_rate defined from excited state \n",
    "        B_rate = B_01*N[excitedFrom] - B_10*N[excitedTo]\n",
    "\n",
    "        if i==excitedFrom:\n",
    "            temp = -B_rate\n",
    "            collections.append(temp)\n",
    "\n",
    "        if i==excitedTo:\n",
    "            temp = B_rate\n",
    "            collections.append(temp)\n",
    "        \n",
    "    if testMode: print(f\"einstein_collection: \\t{collections}\")\n",
    "        \n",
    "    return collections"
   ]
  },
  {
   "cell_type": "code",
   "execution_count": 86,
   "metadata": {},
   "outputs": [],
   "source": [
    "def computeRateDistributionEquations(t, counts):\n",
    "    \n",
    "    if includeAttachmentRate:\n",
    "        N =  counts[:-2]\n",
    "        N_He = [counts[-2], counts[-1]]\n",
    "    else:\n",
    "        N = counts\n",
    "    \n",
    "    rateCollection = []\n",
    "    \n",
    "    for i in range(totallevel):\n",
    "        if testMode: print(f\"\\n\\nLevel {i=}\\n\\n\")\n",
    "        collisional_collection = computeCollisionalProcess(i, N)\n",
    "        einstein_collection = computeEinsteinProcess(i, N)\n",
    "        \n",
    "        collections = collisional_collection + einstein_collection\n",
    "        rateCollection.append(collections)\n",
    "        if testMode: print(f\"{rateCollection=}\")\n",
    "        \n",
    "    dR_dt = []\n",
    "    for _ in rateCollection:\n",
    "        _temp = reduce(lambda a, b: a+b, _)\n",
    "        dR_dt.append(_temp)\n",
    "        \n",
    "    if includeAttachmentRate:\n",
    "        dR_dt = computeAttachmentProcess(N, N_He, dR_dt)\n",
    "    \n",
    "    return dR_dt"
   ]
  },
  {
   "cell_type": "code",
   "execution_count": 87,
   "metadata": {},
   "outputs": [],
   "source": [
    "conditions={'trapTemp': 5.7, 'variable': 'time', 'variableRange': '1e12,  1e16,  10', 'includeCollision': True, 'writefile': True, 'filename': 'ROSAA_modal_CD_He', \n",
    "            'currentLocation': 'Z:\\\\Students\\\\Aravindh\\\\Measurements\\\\CO+', 'q_deexcitation_mode': True, \n",
    "            'collisional_rates': {'q_10':4.129378677912417e-11, 'q_20': 3.9250811501906335e-11, 'q_21': 1.2457658629399757e-10, \\\n",
    "                                  'q_30': 1.3300641305139243e-11, 'q_31': 8.492073041429557e-11, 'q_32': 6.81110895320521e-11}, \n",
    "            'main_parameters': {'molecule': 'CD', 'tagging partner': 'He', 'freq': '453_521_850_000', 'trap_area': '5e-5', 'Energy': '0, 15.127861, 45.373851, 90.718526, 151.132755, 226.577764'}, \n",
    "            'simulation_parameters': {'totalIonCounts': 1000, 'Simulation time(ms)': 600, 'Total steps': 1000, 'numberOfLevel (J levels)': 3, 'excitedTo':1, 'excitedFrom':0}, \n",
    "            'einstein_coefficient': {'A_10':'6.24e-4', 'spontaneous_emissions': [],  \"includeSpontaneousEmission\":True}, \n",
    "            'power_broadening': {'cp': '4.9e7', 'dipoleMoment(D)': 0, 'power(W)': '2e-5'}, \n",
    "            'lineshape_conditions': {'IonMass(amu)': 14, 'IonTemperature(K)': 12.3}, \n",
    "            'rate_coefficients': {'branching-ratio': 0.5, 'a': 0.5, 'includeAttachmentRate':True, 'He density(cm3)': '5e14', 'k3': '9.6e-31,  2.9e-30', 'kCID': '6.7e-16,  1.9e-15'}\n",
    "        }\n",
    "\n",
    "main_parameters = conditions[\"main_parameters\"]\n",
    "simulation_parameters = conditions[\"simulation_parameters\"]\n",
    "einstein_coefficient = conditions[\"einstein_coefficient\"]\n",
    "lineshape_conditions = conditions[\"lineshape_conditions\"]\n",
    "rate_coefficients = conditions[\"rate_coefficients\"]\n",
    "power_broadening = conditions[\"power_broadening\"]"
   ]
  },
  {
   "cell_type": "code",
   "execution_count": 88,
   "metadata": {},
   "outputs": [
    {
     "name": "stdout",
     "output_type": "stream",
     "text": [
      "nHe=5.00e+14\n",
      "\n",
      "k31_1 dependent factor: 0.5\n",
      "\n",
      "k31_0=9.60e-31\tRate_k31_0=0.24\n",
      "k31_1=4.80e-31\tRate_k31_1=0.12\n",
      "k32=2.90e-30\tRate_k32=0.72\n",
      "\n",
      "kCID1=6.70e-16\tRate_kCID1=0.34\n",
      "kCID2=1.90e-15\tRate_kCID2=0.95\n",
      "\n",
      "Branching Ratio: 0.5\n",
      "\n"
     ]
    }
   ],
   "source": [
    "nHe = float(rate_coefficients[\"He density(cm3)\"])\n",
    "print(f\"{nHe=:.2e}\\n\")\n",
    "\n",
    "k31_0, k32 = [float(i.strip()) for i in rate_coefficients[\"k3\"].split(\",\")]\n",
    "a = float(rate_coefficients[\"a\"])\n",
    "k31_1 = a*k31_0\n",
    "\n",
    "kCID1, kCID2 = [float(i.strip()) for i in rate_coefficients[\"kCID\"].split(\",\")]\n",
    "Rate_k31_0, Rate_k31_1, Rate_k32, Rate_kCID1, Rate_kCID2 =  getAttachmentRates()\n",
    "\n",
    "print(f\"k31_1 dependent factor: {a}\\n\")\n",
    "print(f\"{k31_0=:.2e}\\t{Rate_k31_0=:.2f}\")\n",
    "print(f\"{k31_1=:.2e}\\t{Rate_k31_1=:.2f}\")\n",
    "print(f\"{k32=:.2e}\\t{Rate_k32=:.2f}\\n\")\n",
    "print(f\"{kCID1=:.2e}\\t{Rate_kCID1=:.2f}\")\n",
    "print(f\"{kCID2=:.2e}\\t{Rate_kCID2=:.2f}\\n\")\n",
    "\n",
    "p = float(rate_coefficients[\"branching-ratio\"])\n",
    "print(f\"Branching Ratio: {p}\\n\")"
   ]
  },
  {
   "cell_type": "code",
   "execution_count": 89,
   "metadata": {},
   "outputs": [
    {
     "name": "stdout",
     "output_type": "stream",
     "text": [
      "includeAttachmentRate=True\n",
      "includeCollision=True\n",
      "includeSpontaneousEmission=True\n",
      "\n",
      "totallevel=3\n",
      "\n",
      "Energy=[0.0, 15.127861, 45.373851] in cm-1\n",
      "trapTemp=5.7K\n",
      "freq=4.54e+11 Hz\n",
      "\n",
      "massIon=14.0\n",
      "tempIon=12.3\n",
      "sigma=3.03e+05\n",
      "gamma=2.19e+05\n",
      "LineShape=8.02e-07\n",
      "norm=1.07e-15\n",
      "\n",
      "A_10=6.24e-04\n",
      "\n",
      "B_10=1.16e+04\tB_01=3.48e+04\n",
      "\n",
      "Collisional Rates\n",
      "q_10: 4.13e-11\tq_10*nHe: 2.06e+04\n",
      "\n",
      "q_01: 2.72e-12\tq_01*nHe: 1.36e+03\n",
      "\n",
      "q_20: 3.93e-11\tq_20*nHe: 1.96e+04\n",
      "\n",
      "q_02: 2.09e-15\tq_02*nHe: 1.04e+00\n",
      "\n",
      "q_21: 1.25e-10\tq_21*nHe: 6.23e+04\n",
      "\n",
      "q_12: 1.00e-13\tq_12*nHe: 5.02e+01\n",
      "\n"
     ]
    }
   ],
   "source": [
    "includeSpontaneousEmission = einstein_coefficient[\"includeSpontaneousEmission\"]\n",
    "includeCollision = conditions[\"includeCollision\"]\n",
    "includeAttachmentRate = rate_coefficients[\"includeAttachmentRate\"]\n",
    "print(f\"{includeAttachmentRate=}\\n{includeCollision=}\\n{includeSpontaneousEmission=}\\n\")\n",
    "\n",
    "totallevel = simulation_parameters[\"numberOfLevel (J levels)\"]\n",
    "print(f\"{totallevel=}\\n\")\n",
    "\n",
    "Energy = [float(_) for _ in main_parameters[\"Energy\"].split(\", \")][:totallevel]\n",
    "trapTemp = conditions[\"trapTemp\"]\n",
    "print(f\"{Energy=} in cm-1\\n{trapTemp=}K\")\n",
    "\n",
    "excitedTo = simulation_parameters[\"excitedTo\"]\n",
    "excitedFrom = simulation_parameters[\"excitedFrom\"]\n",
    "\n",
    "freq = float(main_parameters[\"freq\"])  # transition frequency in Hz\n",
    "print(f\"{freq=:.2e} Hz\\n\")\n",
    "\n",
    "norm = lineshape_normalise()\n",
    "\n",
    "A_10 = float(einstein_coefficient[\"A_10\"])\n",
    "print(f\"{A_10=:.2e}\\n\")\n",
    "\n",
    "B_10 = stimulated_emission(A_10, freq)*norm\n",
    "B_01 = stimulated_absorption(excitedFrom, excitedTo, B_10)\n",
    "print(f\"{B_10=:.2e}\\t{B_01=:.2e}\\n\")\n",
    "\n",
    "collisional_rates = {q:float(value) for q, value in conditions[\"collisional_rates\"].items()}\n",
    "q_deexcitation_mode = conditions[\"q_deexcitation_mode\"]\n",
    "collisional_rates = getCollisionalRate(collisional_rates)\n",
    "\n",
    "print(f\"Collisional Rates\")\n",
    "for key, value in collisional_rates.items():\n",
    "    print(f\"{key}: {value:.2e}\\t{key}*nHe: {value*nHe:.2e}\\n\")"
   ]
  },
  {
   "cell_type": "code",
   "execution_count": 92,
   "metadata": {},
   "outputs": [
    {
     "name": "stdout",
     "output_type": "stream",
     "text": [
      "\n",
      "\n",
      "Level i=0\n",
      "\n",
      "\n",
      "collisional_collection: \t[0.0, 0.0]\n",
      "einstein_collection: \t[3.857659223065413e-05, -31897.31593467208]\n",
      "rateCollection=[[0.0, 0.0, 3.857659223065413e-05, -31897.31593467208]]\n",
      "\n",
      "\n",
      "Level i=1\n",
      "\n",
      "\n",
      "collisional_collection: \t[0.0, 4.884981308350689e-15]\n",
      "einstein_collection: \t[-3.857659223065413e-05, 31897.31593467208]\n",
      "rateCollection=[[0.0, 0.0, 3.857659223065413e-05, -31897.31593467208], [0.0, 4.884981308350689e-15, -3.857659223065413e-05, 31897.31593467208]]\n",
      "\n",
      "\n",
      "Level i=2\n",
      "\n",
      "\n",
      "collisional_collection: \t[0.0, -4.884981308350689e-15]\n",
      "einstein_collection: \t[]\n",
      "rateCollection=[[0.0, 0.0, 3.857659223065413e-05, -31897.31593467208], [0.0, 4.884981308350689e-15, -3.857659223065413e-05, 31897.31593467208], [0.0, -4.884981308350689e-15]]\n",
      "dR_dt=[-31897.315896095486, 31897.315896095486, -4.884981308350689e-15], attachmentRate0=-0.22515088787394077, attachmentRate1=-0.007418575428971949\n",
      "dR_dt=[-31897.54104698336, 31897.30847752006, -4.884981308350689e-15]\n",
      "dR_dt=[-31897.54104698336, 31897.30847752006, -4.884981308350689e-15, 0.23256946330291273, -0.0]\n"
     ]
    },
    {
     "data": {
      "text/plain": [
       "[-31897.54104698336,\n",
       " 31897.30847752006,\n",
       " -4.884981308350689e-15,\n",
       " 0.23256946330291273,\n",
       " -0.0]"
      ]
     },
     "execution_count": 92,
     "metadata": {},
     "output_type": "execute_result"
    }
   ],
   "source": [
    "N = boltzman_distribution(Energy, 5.7)\n",
    "N_He = [0, 0]\n",
    "lightON=True\n",
    "includeSpontaneousEmission = True\n",
    "testMode = True\n",
    "dN = computeRateDistributionEquations(1, [*N, 0, 0])\n",
    "dN"
   ]
  },
  {
   "cell_type": "code",
   "execution_count": 94,
   "metadata": {},
   "outputs": [
    {
     "data": {
      "text/plain": [
       "(-31897.54104698336, 31897.30847752006)"
      ]
     },
     "execution_count": 94,
     "metadata": {},
     "output_type": "execute_result"
    }
   ],
   "source": [
    "-31897.315896095486 + -0.22515088787394077, 31897.315896095486 + -0.007418575428971949"
   ]
  },
  {
   "cell_type": "code",
   "execution_count": 99,
   "metadata": {},
   "outputs": [
    {
     "name": "stdout",
     "output_type": "stream",
     "text": [
      "boltzman_distribution_source=[0.12800280612319145, 0.35713638764020317, 0.5148608062366054, 0, 0]\n",
      "LightOFF\n",
      "[8.42368443e-01 5.55107903e-02 4.58485065e-05 8.72866747e-02\n",
      " 1.47882434e-02]\n"
     ]
    },
    {
     "data": {
      "application/vnd.jupyter.widget-view+json": {
       "model_id": "c81fe3bd9a7547febce3afe2d48fb958",
       "version_major": 2,
       "version_minor": 0
      },
      "text/plain": [
       "Canvas(toolbar=Toolbar(toolitems=[('Home', 'Reset original view', 'home', 'home'), ('Back', 'Back to previous …"
      ]
     },
     "metadata": {},
     "output_type": "display_data"
    },
    {
     "name": "stdout",
     "output_type": "stream",
     "text": [
      "Wall time: 3.55 s\n"
     ]
    },
    {
     "data": {
      "text/plain": [
       "[None, Text(0.5, 0, 'Time (ms)')]"
      ]
     },
     "execution_count": 99,
     "metadata": {},
     "output_type": "execute_result"
    }
   ],
   "source": [
    "%%time\n",
    "testMode = False\n",
    "\n",
    "# nHe = 1e15\n",
    "# includeCollision = True\n",
    "# includeAttachmentRate = True\n",
    "# includeSpontaneousEmission = True\n",
    "\n",
    "t = 0.5 # in ms\n",
    "tspan = [0, t]\n",
    "N = boltzman_distribution(Energy, 300)\n",
    "N_He = [0, 0]\n",
    "boltzman_distribution_source = (N, [*N, 0, 0])[includeAttachmentRate]\n",
    "print(f\"{boltzman_distribution_source=}\")\n",
    "\n",
    "print(f\"LightOFF\")\n",
    "lightON=False\n",
    "N_rates_off = solve_ivp(computeRateDistributionEquations, tspan, boltzman_distribution_source, dense_output=True)\n",
    "\n",
    "simulateTime = np.linspace(0, t, 1000)\n",
    "print(N_rates_off.sol(simulateTime).T[-1])\n",
    "\n",
    "%matplotlib widget\n",
    "simulateCounts_OFF = N_rates_off.sol(simulateTime)\n",
    "\n",
    "fig, ax = plt.subplots(figsize=(7, 4), dpi=100)\n",
    "legends = [f\"N{i}\" for i in range(totallevel)]\n",
    "\n",
    "ax.plot(simulateTime.T*1e3, simulateCounts_OFF.T, \"--\")\n",
    "\n",
    "ax.plot(simulateTime*1e3, simulateCounts_OFF.sum(axis=0), \"k\")\n",
    "ax.legend([*legends, \"NHe\", \"NHe2\"], title=\"OFF\")\n",
    "\n",
    "ax.set(yscale=\"log\", xlabel=\"Time (ms)\")"
   ]
  },
  {
   "cell_type": "code",
   "execution_count": 84,
   "metadata": {},
   "outputs": [
    {
     "name": "stdout",
     "output_type": "stream",
     "text": [
      "LightON\n",
      "Wall time: 4.36 s\n"
     ]
    }
   ],
   "source": [
    "%%time\n",
    "print(f\"LightON\")\n",
    "lightON=True\n",
    "N_rates_on = solve_ivp(computeRateDistributionEquations, tspan, boltzman_distribution_source, dense_output=True)"
   ]
  },
  {
   "cell_type": "code",
   "execution_count": 82,
   "metadata": {},
   "outputs": [
    {
     "name": "stdout",
     "output_type": "stream",
     "text": [
      "simulateCounts_ON.shape=(5, 100)\n",
      "simulateCounts_OFF.shape=(5, 100)\n"
     ]
    },
    {
     "data": {
      "application/vnd.jupyter.widget-view+json": {
       "model_id": "c8268746358f4fcf92a5df4bc7ec1fb1",
       "version_major": 2,
       "version_minor": 0
      },
      "text/plain": [
       "Canvas(toolbar=Toolbar(toolitems=[('Home', 'Reset original view', 'home', 'home'), ('Back', 'Back to previous …"
      ]
     },
     "metadata": {},
     "output_type": "display_data"
    },
    {
     "name": "stdout",
     "output_type": "stream",
     "text": [
      "Signal: 22.80%\n"
     ]
    }
   ],
   "source": [
    "%matplotlib widget\n",
    "simulateTime = np.linspace(0, t, 100)\n",
    "simulateCounts_ON = N_rates_on.sol(simulateTime)\n",
    "simulateCounts_OFF = N_rates_off.sol(simulateTime)\n",
    "\n",
    "print(f\"{simulateCounts_ON.shape=}\\n{simulateCounts_OFF.shape=}\")\n",
    "fig, (ax, ax1) = plt.subplots(ncols=2, figsize=(12, 4), dpi=100)\n",
    "\n",
    "legends = [f\"N{i}\" for i in range(totallevel)]\n",
    "legends.append(\"NHe\")\n",
    "legends.append(\"NHe2\")\n",
    "\n",
    "simulateTime = simulateTime*1e3\n",
    "counter = 0\n",
    "for on, off in zip(simulateCounts_ON, simulateCounts_OFF):\n",
    "    ax.plot(simulateTime, on, f\"-C{counter}\", label=legends[counter])\n",
    "    ax.plot(simulateTime, off, f\"--C{counter}\")\n",
    "    counter += 1\n",
    "    \n",
    "ax.plot(simulateTime, simulateCounts_ON.sum(axis=0), \"k\")\n",
    "\n",
    "ax.legend(title=f\"-ON, --OFF\")\n",
    "ax.set(yscale=\"log\", ylabel=\"Counts\", xlabel=\"Time(ms)\")\n",
    "ax.minorticks_on()\n",
    "\n",
    "signal = (1 - (simulateCounts_ON[-2][1:] / simulateCounts_OFF[-2][1:]))*100\n",
    "ax1.plot(simulateTime[1:], signal)\n",
    "ax1.legend([f\"Max. Signal = {signal.max():.2f} at {(simulateTime[1:][signal.argmax()]):.2f}ms\"])\n",
    "ax1.minorticks_on()\n",
    "ax1.set(title=\"Signal as a function of trap time\", xlabel=\"Time (ms)\", ylabel=\"Signal (%)\")\n",
    "plt.tight_layout()\n",
    "\n",
    "print(f\"Signal: {(1 - (simulateCounts_ON[-2][-1] / simulateCounts_OFF[-2][-1]))*100:.2f}%\")"
   ]
  },
  {
   "cell_type": "code",
   "execution_count": 83,
   "metadata": {},
   "outputs": [
    {
     "data": {
      "text/plain": [
       "[0.12800280612319145, 0.35713638764020317, 0.5148608062366054, 0, 0]"
      ]
     },
     "execution_count": 83,
     "metadata": {},
     "output_type": "execute_result"
    }
   ],
   "source": [
    "boltzman_distribution_source"
   ]
  },
  {
   "cell_type": "code",
   "execution_count": 80,
   "metadata": {},
   "outputs": [
    {
     "data": {
      "text/plain": [
       "array([9.62813523e-01, 3.71761843e-02, 1.02927741e-05])"
      ]
     },
     "execution_count": 80,
     "metadata": {},
     "output_type": "execute_result"
    }
   ],
   "source": [
    "boltzman_distribution(Energy, 5)"
   ]
  },
  {
   "cell_type": "code",
   "execution_count": 96,
   "metadata": {},
   "outputs": [
    {
     "data": {
      "text/plain": [
       "1994.9159230852135"
      ]
     },
     "execution_count": 96,
     "metadata": {},
     "output_type": "execute_result"
    }
   ],
   "source": [
    "-0.20338468808565408+1995.1193077732992"
   ]
  },
  {
   "cell_type": "code",
   "execution_count": null,
   "metadata": {},
   "outputs": [],
   "source": []
  },
  {
   "cell_type": "code",
   "execution_count": null,
   "metadata": {},
   "outputs": [],
   "source": []
  },
  {
   "cell_type": "code",
   "execution_count": null,
   "metadata": {},
   "outputs": [],
   "source": []
  },
  {
   "cell_type": "code",
   "execution_count": null,
   "metadata": {},
   "outputs": [],
   "source": []
  },
  {
   "cell_type": "code",
   "execution_count": null,
   "metadata": {},
   "outputs": [],
   "source": []
  }
 ],
 "metadata": {
  "kernelspec": {
   "display_name": "Python 3",
   "language": "python",
   "name": "python3"
  },
  "language_info": {
   "codemirror_mode": {
    "name": "ipython",
    "version": 3
   },
   "file_extension": ".py",
   "mimetype": "text/x-python",
   "name": "python",
   "nbconvert_exporter": "python",
   "pygments_lexer": "ipython3",
   "version": "3.8.3"
  }
 },
 "nbformat": 4,
 "nbformat_minor": 4
}
