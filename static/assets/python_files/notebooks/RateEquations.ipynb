{
 "cells": [
  {
   "cell_type": "code",
   "execution_count": 1,
   "metadata": {},
   "outputs": [],
   "source": [
    "import numpy as np\n",
    "import matplotlib.pyplot as plt\n",
    "from scipy.constants import speed_of_light, Boltzmann, Planck\n",
    "from functools import reduce\n",
    "from scipy.integrate import solve_ivp"
   ]
  },
  {
   "cell_type": "code",
   "execution_count": 2,
   "metadata": {},
   "outputs": [],
   "source": [
    "from ROSAA_func import distribution, boltzman_distribution, \\\n",
    "    stimulated_absorption, stimulated_emission,\\\n",
    "    voigt, lorrentz_fwhm, gauss_fwhm"
   ]
  },
  {
   "cell_type": "code",
   "execution_count": 3,
   "metadata": {},
   "outputs": [],
   "source": [
    "import pprint\n",
    "pp = pprint.PrettyPrinter()\n",
    "pprint = pp.pprint"
   ]
  },
  {
   "cell_type": "code",
   "execution_count": 225,
   "metadata": {},
   "outputs": [],
   "source": [
    "def lineshape_normalise():\n",
    "\n",
    "    freq = float(main_parameters[\"freq\"])  # transition frequency in Hz\n",
    "\n",
    "    # doppler line width\n",
    "\n",
    "    massIon = float(lineshape_conditions[\"IonMass(amu)\"])\n",
    "    tempIon = float(lineshape_conditions[\"IonTemperature(K)\"])\n",
    "    sigma = gauss_fwhm(freq, massIon, tempIon)\n",
    "\n",
    "    # power broadening\n",
    "    dipoleMoment = float(power_broadening[\"dipoleMoment(D)\"])\n",
    "    power = float(power_broadening[\"power(W)\"])\n",
    "\n",
    "    cp = float(power_broadening[\"cp\"])\n",
    "    gamma = lorrentz_fwhm(dipoleMoment, power, cp)\n",
    "\n",
    "    # normalised line shape factor\n",
    "    LineShape = voigt(gamma, sigma)\n",
    "    \n",
    "    # transition rate due to influence of mm-wave \n",
    "    # normalisation factor\n",
    "\n",
    "    trap_area = float(main_parameters[\"trap_area\"])\n",
    "    norm = (power/(trap_area*speed_of_light))*LineShape\n",
    "    \n",
    "    print(f\"{massIon=}\\n{tempIon=}\\n{sigma=:.2e}\\n{gamma=:.2e}\\n{LineShape=:.2e}\\n{norm=:.2e}\\n\")\n",
    "    return norm\n",
    "\n",
    "\n",
    "k_boltzmann_wavenumber = Boltzmann/1.98630e-23\n",
    "def distribution(j0, j1, Energy, temp, q=None):\n",
    "    \n",
    "    KT = k_boltzmann_wavenumber*temp\n",
    "    N0 = 2*j0+1\n",
    "    N1 = 2*j1+1\n",
    "\n",
    "    Gj = N1/N0\n",
    "    delE = abs(Energy[j0]-Energy[j1])\n",
    "    if q: return q*Gj*np.exp(-delE/KT)\n",
    "    return Gj*np.exp(-delE/KT)\n",
    "\n",
    "def getCollisionalRate(collisional_rates):\n",
    "    \n",
    "    rates = {}\n",
    "    \n",
    "    for i in range(totallevel):\n",
    "        for j in range(totallevel):\n",
    "            if i != j & j>i:\n",
    "                deexciteRateConstantKey = f\"q_{j}{i}\"\n",
    "                exciteRateConstantKey = f\"q_{i}{j}\"\n",
    "                \n",
    "                if q_deexcitation_mode:\n",
    "                    \n",
    "                    _temp = collisional_rates[deexciteRateConstantKey]\n",
    "                    rates[deexciteRateConstantKey] = _temp\n",
    "                    rates[exciteRateConstantKey] = _temp * distribution(i, j, Energy, trapTemp)\n",
    "                    \n",
    "                else:\n",
    "                    _temp = collisional_rates[exciteRateConstantKey]\n",
    "                    rates[exciteRateConstantKey] = _temp\n",
    "                    rates[deexciteRateConstantKey] = _temp * distribution(j, i, Energy, trapTemp)\n",
    "    return rates"
   ]
  },
  {
   "cell_type": "code",
   "execution_count": 156,
   "metadata": {},
   "outputs": [
    {
     "name": "stdout",
     "output_type": "stream",
     "text": [
      "deexciteRateConstantKey='q_10'\n",
      "exciteRateConstantKey='q_01'\n",
      "\n",
      "deexciteRateConstantKey='q_20'\n",
      "exciteRateConstantKey='q_02'\n",
      "\n",
      "deexciteRateConstantKey='q_21'\n",
      "exciteRateConstantKey='q_12'\n",
      "\n"
     ]
    }
   ],
   "source": [
    "for i in range(totallevel):\n",
    "    for j in range(totallevel):\n",
    "        if i != j & j>i:\n",
    "            deexciteRateConstantKey = f\"q_{j}{i}\"\n",
    "            exciteRateConstantKey = f\"q_{i}{j}\"\n",
    "            print(f\"{deexciteRateConstantKey=}\\n{exciteRateConstantKey=}\\n\")"
   ]
  },
  {
   "cell_type": "code",
   "execution_count": 284,
   "metadata": {},
   "outputs": [],
   "source": [
    "def computeAttachmentProcess(N, N_He, dR_dt):\n",
    "    \n",
    "    # attachmentRate0, attachmentRate1, attachmentRate2 = get_attachment_rates(N, N_He)\n",
    "    # Adding rare gas atom attachment and dissociation rates\n",
    "\n",
    "    k31_0, k32 = [float(i.strip()) for i in rate_coefficients[\"k3\"].split(\",\")]\n",
    "    a = float(rate_coefficients[\"a\"])\n",
    "    k31_1 = a*k31_0\n",
    "\n",
    "    kCID1, kCID2 = [float(i.strip()) for i in rate_coefficients[\"kCID\"].split(\",\")]\n",
    "\n",
    "    nHe = float(rate_coefficients[\"He density(cm3)\"])\n",
    "    Rate_k31_0 = k31_0*nHe**2\n",
    "    Rate_k31_1 = k31_1*nHe**2\n",
    "    Rate_k32 = k32*nHe**2\n",
    "    Rate_kCID1 = kCID1*nHe\n",
    "    Rate_kCID2 = kCID2*nHe\n",
    "\n",
    "    p = float(rate_coefficients[\"branching-ratio\"])\n",
    "\n",
    "    attachmentRate0 = - Rate_k31_0*N[0] + Rate_kCID1*N_He[0]*p\n",
    "    attachmentRate1 = - Rate_k31_1*N[1] + Rate_kCID1*N_He[0]*(1-p)\n",
    "    attachmentRate2 = - Rate_k32*N_He[0] + Rate_kCID2*N_He[1]\n",
    "\n",
    "    dR_dt[0] += attachmentRate0\n",
    "    dR_dt[1] += attachmentRate1\n",
    "\n",
    "    # CDHe:\n",
    "    dCDHe_dt = - attachmentRate0 - attachmentRate1 + attachmentRate2\n",
    "    dR_dt.append(dCDHe_dt)\n",
    "\n",
    "    # CDHe2\n",
    "    dCDHe2_dt = - attachmentRate2\n",
    "    dR_dt.append(dCDHe2_dt)\n",
    "\n",
    "    return dR_dt\n",
    "\n",
    "def computeCollisionalProcess(i, N):\n",
    "    \n",
    "    collections = []\n",
    "\n",
    "    for j in range(totallevel):\n",
    "        if i!= j: \n",
    "            \n",
    "            key = f\"q_{j}{i}\"\n",
    "            keyInverse = f\"q_{i}{j}\"\n",
    "            \n",
    "            k = collisional_rates[key]*nHe*N[j] - collisional_rates[keyInverse]*nHe*N[i]\n",
    "            collections.append(k)\n",
    "            \n",
    "    return collections\n",
    "\n",
    "def computeEinsteinProcess(i, N, B_rate):\n",
    "    \n",
    "    collections = []\n",
    "    temp = 0\n",
    "    if includeSpontaneousEmission:\n",
    "\n",
    "        # Einstein Coefficient A\n",
    "        if i == 0: \n",
    "            temp = A_10*N[1]\n",
    "            collections.append(temp)\n",
    "\n",
    "        if i == 1:\n",
    "            temp = -A_10*N[1]\n",
    "            collections.append(temp)\n",
    "\n",
    "    # Einstein Coefficient B\n",
    "\n",
    "    if lightON:\n",
    "        \n",
    "        # NOTE: B rate defined from excited state\n",
    "        \n",
    "        if i==excitedLevel-1:\n",
    "            temp -= B_rate\n",
    "            collections.append(temp)\n",
    "\n",
    "        if i==excitedLevel:\n",
    "            temp += B_rate\n",
    "            collections.append(temp)\n",
    "    \n",
    "    return collections"
   ]
  },
  {
   "cell_type": "code",
   "execution_count": 105,
   "metadata": {},
   "outputs": [],
   "source": [
    "def computeRateDistributionEquations(t, counts):\n",
    "    \n",
    "    if testMode: print(f\"{counts=}\\n\")\n",
    "    \n",
    "    if includeAttachmentRate:\n",
    "        N =  counts[:-2]\n",
    "        N_He = [counts[-2], counts[-1]]\n",
    "    else:\n",
    "        N = counts\n",
    "    \n",
    "    # B_rate defined from excited state \n",
    "    B_rate = B_01*N[excitedLevel-1] - B_10*N[excitedLevel]\n",
    "    \n",
    "    rateCollection = []\n",
    "    \n",
    "    for i in range(totallevel):\n",
    "        \n",
    "        collisional_collection = computeCollisionalProcess(i, N)\n",
    "        einstein_collection = computeEinsteinProcess(i, N, B_rate)\n",
    "        \n",
    "        collections = collisional_collection + einstein_collection\n",
    "        rateCollection.append(collections)\n",
    "        \n",
    "    dR_dt = []\n",
    "    for _ in rateCollection:\n",
    "        _temp = reduce(lambda a, b: a+b, _)\n",
    "        dR_dt.append(_temp)\n",
    "        \n",
    "    if includeAttachmentRate:\n",
    "        dR_dt = computeAttachmentProcess(N, N_He, dR_dt)\n",
    "    \n",
    "    return dR_dt"
   ]
  },
  {
   "cell_type": "code",
   "execution_count": 285,
   "metadata": {},
   "outputs": [
    {
     "name": "stdout",
     "output_type": "stream",
     "text": [
      "massIon=14.0\n",
      "tempIon=12.0\n",
      "sigma=3.00e+05\n",
      "gamma=2.19e+05\n",
      "LineShape=8.08e-07\n",
      "norm=1.08e-15\n",
      "\n",
      "includeAttachmentRate=False\n",
      "includeCollision=True\n",
      "includeSpontaneousEmission=False\n"
     ]
    },
    {
     "data": {
      "text/plain": [
       "{'q_10': 4.129378677912417e-11,\n",
       " 'q_01': 2.7212068747455605e-12,\n",
       " 'q_20': 3.9250811501906335e-11,\n",
       " 'q_02': 2.0852215354513816e-15,\n",
       " 'q_21': 1.2457658629399757e-10,\n",
       " 'q_12': 1.004299251135604e-13}"
      ]
     },
     "execution_count": 285,
     "metadata": {},
     "output_type": "execute_result"
    }
   ],
   "source": [
    "conditions={'trapTemp': 5.7, 'variable': 'time', 'variableRange': '1e12,  1e16,  10', 'includeCollision': True, 'writefile': True, 'filename': 'ROSAA_modal_CD_He', \n",
    "            'currentLocation': 'Z:\\\\Students\\\\Aravindh\\\\Measurements\\\\CO+', 'q_deexcitation_mode': True, \n",
    "            'collisional_rates': {'q_10':4.129378677912417e-11, 'q_20': 3.9250811501906335e-11, 'q_21': 1.2457658629399757e-10, \\\n",
    "                                  'q_30': 1.3300641305139243e-11, 'q_31': 8.492073041429557e-11, 'q_32': 6.81110895320521e-11}, \n",
    "            'main_parameters': {'molecule': 'CD', 'tagging partner': 'He', 'freq': '453_521_850_000', 'trap_area': '5e-5', 'Energy': '0, 15.127861, 45.373851, 90.718526, 151.132755, 226.577764'}, \n",
    "            'simulation_parameters': {'totalIonCounts': 1000, 'Simulation time(ms)': 600, 'Total steps': 1000, 'numberOfLevel (J levels)': 3, 'excitedLevel':1}, \n",
    "            'einstein_coefficient': {'A_10':'6.24e-4', 'spontaneous_emissions': [], 'includeSpontaneousEmissionForAllLevels':False, \"includeSpontaneousEmission\":False}, \n",
    "            'power_broadening': {'cp': '4.9e7', 'dipoleMoment(D)': 0, 'power(W)': '2e-5'}, \n",
    "            'lineshape_conditions': {'IonMass(amu)': 14, 'IonTemperature(K)': 12}, \n",
    "            'rate_coefficients': {'branching-ratio': 0.5, 'a': 0.5, 'includeAttachmentRate':False, 'He density(cm3)': '5e14', 'k3': '9.6e-31,  2.9e-30', 'kCID': '6.7e-16,  1.9e-15'}\n",
    "        }\n",
    "\n",
    "main_parameters = conditions[\"main_parameters\"]\n",
    "simulation_parameters = conditions[\"simulation_parameters\"]\n",
    "einstein_coefficient = conditions[\"einstein_coefficient\"]\n",
    "lineshape_conditions = conditions[\"lineshape_conditions\"]\n",
    "rate_coefficients = conditions[\"rate_coefficients\"]\n",
    "power_broadening = conditions[\"power_broadening\"]\n",
    "\n",
    "totallevel = simulation_parameters[\"numberOfLevel (J levels)\"]\n",
    "\n",
    "\n",
    "\n",
    "Energy = [float(_) for _ in main_parameters[\"Energy\"].split(\", \")][:totallevel]\n",
    "trapTemp = conditions[\"trapTemp\"]\n",
    "\n",
    "excitedLevel = simulation_parameters[\"excitedLevel\"]\n",
    "\n",
    "A_10 = float(einstein_coefficient[\"A_10\"])\n",
    "includeSpontaneousEmissionForAllLevels = einstein_coefficient[\"includeSpontaneousEmissionForAllLevels\"]\n",
    "\n",
    "freq = float(main_parameters[\"freq\"])  # transition frequency in Hz\n",
    "norm = lineshape_normalise()\n",
    "\n",
    "B_10 = stimulated_emission(A_10, freq)*norm\n",
    "B_01 = stimulated_absorption(excitedLevel-1, excitedLevel, B_10)*norm\n",
    "\n",
    "excitedLevel = simulation_parameters[\"excitedLevel\"]\n",
    "includeAttachmentRate = rate_coefficients[\"includeAttachmentRate\"]\n",
    "print(f\"{includeAttachmentRate=}\\n{includeCollision=}\\n{includeSpontaneousEmission=}\")\n",
    "\n",
    "collisional_rates = {q:float(value) for q, value in conditions[\"collisional_rates\"].items()}\n",
    "q_deexcitation_mode = conditions[\"q_deexcitation_mode\"]\n",
    "\n",
    "collisional_rates = getCollisionalRate(collisional_rates)\n",
    "collisional_rates"
   ]
  },
  {
   "cell_type": "code",
   "execution_count": 286,
   "metadata": {},
   "outputs": [
    {
     "name": "stdout",
     "output_type": "stream",
     "text": [
      "counts=[0.12800280612319145, 0.35713638764020317, 0.5148608062366054, 0, 0]\n",
      "\n"
     ]
    },
    {
     "data": {
      "text/plain": [
       "[21471.894693248905, 20684.19131573619, -42156.08600898509]"
      ]
     },
     "execution_count": 286,
     "metadata": {},
     "output_type": "execute_result"
    }
   ],
   "source": [
    "N = boltzman_distribution(Energy, 300)\n",
    "N_He = [0, 0]\n",
    "lightON=True\n",
    "\n",
    "testMode = True\n",
    "dN = computeRateDistributionEquations(1, [*N, 0, 0])\n",
    "dN"
   ]
  },
  {
   "cell_type": "code",
   "execution_count": 287,
   "metadata": {},
   "outputs": [
    {
     "data": {
      "text/plain": [
       "array([0.13701834, 0.36867186, 0.49430979])"
      ]
     },
     "execution_count": 287,
     "metadata": {},
     "output_type": "execute_result"
    }
   ],
   "source": []
  },
  {
   "cell_type": "code",
   "execution_count": 338,
   "metadata": {},
   "outputs": [
    {
     "name": "stdout",
     "output_type": "stream",
     "text": [
      "boltzman_distribution_source=[0.1370183412076079, 0.36867186391379997, 0.49430979487859217, 0, 0]\n",
      "LightOFF\n",
      "[8.25911529e-01 5.44278448e-02 4.35387856e-05 9.96892583e-02\n",
      " 1.99278295e-02]\n",
      "Wall time: 7.44 s\n"
     ]
    }
   ],
   "source": [
    "%%time\n",
    "\n",
    "# nHe = float(rate_coefficients[\"He density(cm3)\"])\n",
    "# includeSpontaneousEmission = einstein_coefficient[\"includeSpontaneousEmission\"]\n",
    "# includeCollision = conditions[\"includeCollision\"]\n",
    "nHe = float(rate_coefficients[\"He density(cm3)\"])\n",
    "includeSpontaneousEmission = True\n",
    "includeCollision = True\n",
    "includeAttachmentRate = True\n",
    "\n",
    "testMode = False\n",
    "t = 1000e-3\n",
    "tspan = [0, t]\n",
    "N = boltzman_distribution(Energy, 200)\n",
    "N_He = [0, 0]\n",
    "boltzman_distribution_source = (N, [*N, 0, 0])[includeAttachmentRate]\n",
    "print(f\"{boltzman_distribution_source=}\")\n",
    "\n",
    "testMode = False\n",
    "print(f\"LightOFF\")\n",
    "lightON=False\n",
    "N_rates_off = solve_ivp(computeRateDistributionEquations, tspan, boltzman_distribution_source, dense_output=True)\n",
    "\n",
    "print(N_rates_off.sol(simulateTime).T[-1])\n",
    "if not includeAttachmentRate:\n",
    "    %matplotlib widget\n",
    "    simulateTime = np.linspace(0, t, 1000)\n",
    "    simulateCounts_OFF = N_rates_off.sol(simulateTime)\n",
    "\n",
    "    fig, ax = plt.subplots(figsize=(7, 4), dpi=100)\n",
    "    legends = [f\"N{i}\" for i in range(totallevel)]\n",
    "\n",
    "    ax.plot(simulateTime.T*1e3, simulateCounts_OFF.T)\n",
    "\n",
    "    ax.plot(simulateTime*1e3, simulateCounts_OFF.sum(axis=0), \"k\")\n",
    "    ax.legend(legends, title=\"OFF\")\n",
    "\n",
    "    ax.set(yscale=\"linear\", xlabel=\"Time (ms)\")"
   ]
  },
  {
   "cell_type": "code",
   "execution_count": 339,
   "metadata": {},
   "outputs": [
    {
     "name": "stdout",
     "output_type": "stream",
     "text": [
      "LightON\n",
      "Wall time: 7.72 s\n"
     ]
    }
   ],
   "source": [
    "%%time\n",
    "print(f\"LightON\")\n",
    "lightON=True\n",
    "N_rates_on = solve_ivp(computeRateDistributionEquations, tspan, boltzman_distribution_source, dense_output=True)"
   ]
  },
  {
   "cell_type": "code",
   "execution_count": 340,
   "metadata": {},
   "outputs": [
    {
     "name": "stdout",
     "output_type": "stream",
     "text": [
      "simulateCounts_ON.shape=(5, 1000)\n",
      "simulateCounts_OFF.shape=(5, 1000)\n"
     ]
    },
    {
     "data": {
      "application/vnd.jupyter.widget-view+json": {
       "model_id": "dee7fe0c574b4c32966d6cec7720a32e",
       "version_major": 2,
       "version_minor": 0
      },
      "text/plain": [
       "Canvas(toolbar=Toolbar(toolitems=[('Home', 'Reset original view', 'home', 'home'), ('Back', 'Back to previous …"
      ]
     },
     "metadata": {},
     "output_type": "display_data"
    },
    {
     "data": {
      "text/plain": [
       "[None]"
      ]
     },
     "execution_count": 340,
     "metadata": {},
     "output_type": "execute_result"
    }
   ],
   "source": [
    "%matplotlib widget\n",
    "simulateTime = np.linspace(0, t, 1000)\n",
    "simulateCounts_ON = N_rates_on.sol(simulateTime)\n",
    "simulateCounts_OFF = N_rates_off.sol(simulateTime)\n",
    "\n",
    "print(f\"{simulateCounts_ON.shape=}\\n{simulateCounts_OFF.shape=}\")\n",
    "fig, ax = plt.subplots(figsize=(7, 4), dpi=100)\n",
    "\n",
    "legends = [f\"N{i}\" for i in range(totallevel)]\n",
    "legends.append(\"NHe\")\n",
    "legends.append(\"NHe2\")\n",
    "\n",
    "counter = 0\n",
    "for on, off in zip(simulateCounts_ON, simulateCounts_OFF):\n",
    "    ax.plot(simulateTime, on, f\"-C{counter}\", label=legends[counter])\n",
    "    ax.plot(simulateTime, off, f\"--C{counter}\")\n",
    "    counter += 1\n",
    "    \n",
    "ax.plot(simulateTime, simulateCounts_ON.sum(axis=0), \"k\")\n",
    "ax.legend(title=f\"-ON, --OFF\")\n",
    "ax.set(yscale=\"log\")"
   ]
  },
  {
   "cell_type": "code",
   "execution_count": null,
   "metadata": {},
   "outputs": [],
   "source": []
  },
  {
   "cell_type": "code",
   "execution_count": null,
   "metadata": {},
   "outputs": [],
   "source": []
  }
 ],
 "metadata": {
  "kernelspec": {
   "display_name": "Python 3",
   "language": "python",
   "name": "python3"
  },
  "language_info": {
   "codemirror_mode": {
    "name": "ipython",
    "version": 3
   },
   "file_extension": ".py",
   "mimetype": "text/x-python",
   "name": "python",
   "nbconvert_exporter": "python",
   "pygments_lexer": "ipython3",
   "version": "3.8.3"
  }
 },
 "nbformat": 4,
 "nbformat_minor": 4
}
