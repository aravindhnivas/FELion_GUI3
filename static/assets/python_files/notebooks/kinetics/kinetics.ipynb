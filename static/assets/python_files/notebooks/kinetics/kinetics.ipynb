{
 "cells": [
  {
   "cell_type": "code",
   "execution_count": 40,
   "metadata": {},
   "outputs": [],
   "source": [
    "import json\n",
    "from pathlib import Path as pt\n",
    "import matplotlib.pyplot as plt\n",
    "import numpy as np"
   ]
  },
  {
   "cell_type": "code",
   "execution_count": 6,
   "metadata": {},
   "outputs": [],
   "source": [
    "location = pt(\"./\")\n",
    "k_fit_file = location/\"k_fit.json\""
   ]
  },
  {
   "cell_type": "code",
   "execution_count": 23,
   "metadata": {},
   "outputs": [],
   "source": [
    "with open(k_fit_file, \"r\") as f:\n",
    "    data = json.load(f)"
   ]
  },
  {
   "cell_type": "code",
   "execution_count": 88,
   "metadata": {},
   "outputs": [
    {
     "name": "stdout",
     "output_type": "stream",
     "text": [
      "k3.mean()=1.74e-30\n",
      "k3.std()=3.26e-31\n"
     ]
    }
   ],
   "source": [
    "numberDensity = []\n",
    "k3 = []\n",
    "kCID = []\n",
    "temperature = []\n",
    "k3_err = []\n",
    "kCID_err = []\n",
    "for filename, value in data.items():\n",
    "    \n",
    "    k31 = float(value[\"k_fit\"][0][0])\n",
    "    k31_err = float(value[\"k_err\"][0][0])\n",
    "    \n",
    "    kCID1 = float(value[\"k_fit\"][1][0])\n",
    "    kCID1_err = float(value[\"k_err\"][1][0])\n",
    "    \n",
    "    nHe = float(value[\"numberDensity\"])\n",
    "    temp = float(value[\"temp\"])\n",
    "    \n",
    "    numberDensity.append(nHe)\n",
    "    k3.append(k31)\n",
    "    k3_err.append(k31_err)\n",
    "    \n",
    "    kCID.append(kCID1)\n",
    "    kCID_err.append(kCID1_err)\n",
    "    \n",
    "    temperature.append(temp)\n",
    "\n",
    "k3 = np.array(k3)\n",
    "k3 = np.array(k3)\n",
    "\n",
    "kCID = np.array(kCID)\n",
    "kCID_err = np.array(kCID_err)\n",
    "\n",
    "print(f\"{k3.mean()=:.2e}\\n{k3.std()=:.2e}\")"
   ]
  },
  {
   "cell_type": "code",
   "execution_count": 96,
   "metadata": {},
   "outputs": [
    {
     "data": {
      "application/vnd.jupyter.widget-view+json": {
       "model_id": "45060fb82c5e42889ac5c2f85bf8315e",
       "version_major": 2,
       "version_minor": 0
      },
      "text/plain": [
       "Canvas(toolbar=Toolbar(toolitems=[('Home', 'Reset original view', 'home', 'home'), ('Back', 'Back to previous …"
      ]
     },
     "metadata": {},
     "output_type": "display_data"
    }
   ],
   "source": [
    "%matplotlib widget\n",
    "fig, ax = plt.subplots(dpi=200)\n",
    "ax1 = ax.twinx()\n",
    "\n",
    "color = \"blue\"\n",
    "ax.errorbar(numberDensity, k3, yerr=k31_err, fmt=\".\", c=color)\n",
    "\n",
    "ax.spines['left'].set_color(color)\n",
    "ax.yaxis.label.set_color(color) \n",
    "ax.tick_params(axis='y', colors=color)\n",
    "\n",
    "lg = ax.legend([f\"k31: {k3.mean():.2e} ({k3.std():.2e}) cm6/s\"])\n",
    "lg.set_draggable(True)\n",
    "\n",
    "color1 = \"red\"\n",
    "\n",
    "ax1.errorbar(numberDensity, kCID, yerr=kCID_err, fmt=\".\", c=color1)\n",
    "\n",
    "ax1.spines['right'].set_color(color1)\n",
    "ax1.yaxis.label.set_color(color1) \n",
    "ax1.tick_params(axis='y', colors=color1)\n",
    "lg1 = ax1.legend([f\"kCID1: {kCID.mean():.2e} ({kCID.std():.2e}) cm3/s\"])\n",
    "lg1.set_draggable(True)\n",
    "\n",
    "ax.set(xlabel=\"number density (cm-3)\", ylabel=\"k31\", title=\"Temp: 5K\")\n",
    "ax1.set(ylabel=\"kCID1\")\n",
    "\n",
    "fig.tight_layout()"
   ]
  },
  {
   "cell_type": "code",
   "execution_count": null,
   "metadata": {},
   "outputs": [],
   "source": []
  }
 ],
 "metadata": {
  "kernelspec": {
   "display_name": "Python 3",
   "language": "python",
   "name": "python3"
  },
  "language_info": {
   "codemirror_mode": {
    "name": "ipython",
    "version": 3
   },
   "file_extension": ".py",
   "mimetype": "text/x-python",
   "name": "python",
   "nbconvert_exporter": "python",
   "pygments_lexer": "ipython3",
   "version": "3.8.3"
  }
 },
 "nbformat": 4,
 "nbformat_minor": 4
}
