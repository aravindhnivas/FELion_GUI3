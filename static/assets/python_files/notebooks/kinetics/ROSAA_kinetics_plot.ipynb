{
 "cells": [
  {
   "cell_type": "code",
   "execution_count": 2,
   "id": "c4c49bbb-722f-4869-b404-511b14cd88d2",
   "metadata": {},
   "outputs": [],
   "source": [
    "import json\n",
    "import numpy as np\n",
    "import matplotlib.pyplot as plt\n",
    "from pathlib import Path as pt"
   ]
  },
  {
   "cell_type": "code",
   "execution_count": 97,
   "id": "cdbccfdb-3acd-45a0-8e35-6c42fbc9ceab",
   "metadata": {},
   "outputs": [
    {
     "data": {
      "text/plain": [
       "{'08_10_21-10.scan': {'k_err': None,\n",
       "  'k_fit': [['1.e-30'], ['2.71e-15']],\n",
       "  'numberDensity': '1.57e+14',\n",
       "  'temp': '4.8'},\n",
       " '08_10_21-11.scan': {'k_err': None,\n",
       "  'k_fit': [['1.17e-30', '3.69e-30'], ['2.37e-15', '2.37e-15']],\n",
       "  'numberDensity': '1.47e+14',\n",
       "  'temp': '4.8'},\n",
       " '08_10_21-12.scan': {'k_err': [['3.23e-32', '4.38e-31'],\n",
       "   ['1.59e-46', '2.87e-46']],\n",
       "  'k_fit': [['1.36e-30', '2.93e-30'], ['3.16e-15', '2.37e-15']],\n",
       "  'numberDensity': '1.42e+14',\n",
       "  'temp': '4.8'},\n",
       " '08_10_21-8.scan': {'k_err': None,\n",
       "  'k_fit': [['1.4e-30', '2.93e-30'], ['1.36e-15', '1.08e-15']],\n",
       "  'numberDensity': '1.66e+14',\n",
       "  'temp': '4.8'},\n",
       " '08_10_21-9.scan': {'k_err': None,\n",
       "  'k_fit': [['1.41e-30', '3.29e-30'], ['1.4e-15', '1.62e-15']],\n",
       "  'numberDensity': '1.61e+14',\n",
       "  'temp': '4.8'},\n",
       " '11_10_21-3.scan': {'k_err': None,\n",
       "  'k_fit': [['1.53e-30', '3.41e-30'], ['1.27e-15', '2.49e-15']],\n",
       "  'numberDensity': '1.70e+14',\n",
       "  'temp': '4.8'},\n",
       " '11_10_21-4.scan': {'k_err': [['3.3e-32'], ['1.07e-47']],\n",
       "  'k_fit': [['1.32e-30'], ['9.26e-16']],\n",
       "  'numberDensity': '1.05e+14',\n",
       "  'temp': '4.8'},\n",
       " '11_10_21-5.scan': {'k_err': [['7.21e-32'], ['2.19e-47']],\n",
       "  'k_fit': [['1.24e-30'], ['9.26e-16']],\n",
       "  'numberDensity': '1.06e+14',\n",
       "  'temp': '4.8'},\n",
       " '11_10_21-6.scan': {'k_err': [['5.12e-32'], ['1.03e-47']],\n",
       "  'k_fit': [['1.24e-30'], ['6.81e-16']],\n",
       "  'numberDensity': '1.03e+14',\n",
       "  'temp': '4.8'},\n",
       " '11_10_21-7.scan': {'k_err': [['7.31e-32'], ['1.15e-47']],\n",
       "  'k_fit': [['1.32e-30'], ['9.26e-16']],\n",
       "  'numberDensity': '1.02e+14',\n",
       "  'temp': '4.8'},\n",
       " '11_10_21-8.scan': {'k_err': None,\n",
       "  'k_fit': [['1.08e-30'], ['2.15e-15']],\n",
       "  'numberDensity': '1.17e+14',\n",
       "  'temp': '4.8'},\n",
       " '11_10_21-9.scan': {'k_err': None,\n",
       "  'k_fit': [['1.08e-30'], ['2.49e-15']],\n",
       "  'numberDensity': '1.11e+14',\n",
       "  'temp': '4.8'}}"
      ]
     },
     "execution_count": 97,
     "metadata": {},
     "output_type": "execute_result"
    }
   ],
   "source": [
    "location = pt(r\"D:\\SurfDrive\\THz_Measurements\\CD+\\timescan\\2021\\correct_sample\\OUT\")\n",
    "filename = \"k_fit.json\"\n",
    "k_fit_data = None\n",
    "with open(location/filename, \"r\") as f:\n",
    "    k_fit_data = json.load(f)\n",
    "\n",
    "k_fit_data"
   ]
  },
  {
   "cell_type": "code",
   "execution_count": 98,
   "id": "a14bd89f-ef93-43de-9cc7-32fba2f5ad98",
   "metadata": {},
   "outputs": [
    {
     "name": "stdout",
     "output_type": "stream",
     "text": [
      "08_10_21-10.scan:\t[['1.e-30'], ['2.71e-15']]\t1.57e+14\t4.8\n",
      "08_10_21-11.scan:\t[['1.17e-30', '3.69e-30'], ['2.37e-15', '2.37e-15']]\t1.47e+14\t4.8\n",
      "08_10_21-12.scan:\t[['1.36e-30', '2.93e-30'], ['3.16e-15', '2.37e-15']]\t1.42e+14\t4.8\n",
      "08_10_21-8.scan:\t[['1.4e-30', '2.93e-30'], ['1.36e-15', '1.08e-15']]\t1.66e+14\t4.8\n",
      "08_10_21-9.scan:\t[['1.41e-30', '3.29e-30'], ['1.4e-15', '1.62e-15']]\t1.61e+14\t4.8\n",
      "11_10_21-3.scan:\t[['1.53e-30', '3.41e-30'], ['1.27e-15', '2.49e-15']]\t1.70e+14\t4.8\n",
      "11_10_21-4.scan:\t[['1.32e-30'], ['9.26e-16']]\t1.05e+14\t4.8\n",
      "11_10_21-5.scan:\t[['1.24e-30'], ['9.26e-16']]\t1.06e+14\t4.8\n",
      "11_10_21-6.scan:\t[['1.24e-30'], ['6.81e-16']]\t1.03e+14\t4.8\n",
      "11_10_21-7.scan:\t[['1.32e-30'], ['9.26e-16']]\t1.02e+14\t4.8\n",
      "11_10_21-8.scan:\t[['1.08e-30'], ['2.15e-15']]\t1.17e+14\t4.8\n",
      "11_10_21-9.scan:\t[['1.08e-30'], ['2.49e-15']]\t1.11e+14\t4.8\n"
     ]
    }
   ],
   "source": [
    "keys = list(k_fit_data.keys())\n",
    "for key in keys:\n",
    "    print(f\"{key}:\\t{k_fit_data[key]['k_fit']}\\t{k_fit_data[key]['numberDensity']}\\t{k_fit_data[key]['temp']}\")"
   ]
  },
  {
   "cell_type": "code",
   "execution_count": 81,
   "id": "f3ea38ff-0ce5-40ce-b269-1b46a047d40a",
   "metadata": {},
   "outputs": [
    {
     "data": {
      "application/vnd.jupyter.widget-view+json": {
       "model_id": "d736ba17bcaf45218def380da12c7d15",
       "version_major": 2,
       "version_minor": 0
      },
      "text/plain": [
       "Canvas(toolbar=Toolbar(toolitems=[('Home', 'Reset original view', 'home', 'home'), ('Back', 'Back to previous …"
      ]
     },
     "metadata": {},
     "output_type": "display_data"
    },
    {
     "name": "stdout",
     "output_type": "stream",
     "text": [
      "11_10_21-4.scan: temp_data={'k_err': array([[3.30e-32],\n",
      "       [1.07e-47]]), 'k_fit': array([[1.32e-30],\n",
      "       [9.26e-16]]), 'numberDensity': '1.05e+14', 'temp': '4.8'}\n",
      "numberDensity=105000000000000.0\tk31=1.32e-30\n",
      "11_10_21-5.scan: temp_data={'k_err': array([[7.21e-32],\n",
      "       [2.19e-47]]), 'k_fit': array([[1.24e-30],\n",
      "       [9.26e-16]]), 'numberDensity': '1.06e+14', 'temp': '4.8'}\n",
      "numberDensity=106000000000000.0\tk31=1.24e-30\n",
      "11_10_21-6.scan: temp_data={'k_err': array([[5.12e-32],\n",
      "       [1.03e-47]]), 'k_fit': array([[1.24e-30],\n",
      "       [6.81e-16]]), 'numberDensity': '1.03e+14', 'temp': '4.8'}\n",
      "numberDensity=103000000000000.0\tk31=1.24e-30\n",
      "11_10_21-7.scan: temp_data={'k_err': array([[7.31e-32],\n",
      "       [1.15e-47]]), 'k_fit': array([[1.32e-30],\n",
      "       [9.26e-16]]), 'numberDensity': '1.02e+14', 'temp': '4.8'}\n",
      "numberDensity=102000000000000.0\tk31=1.32e-30\n",
      "[[1.05e+14 1.32e-30]\n",
      " [1.06e+14 1.24e-30]\n",
      " [1.03e+14 1.24e-30]\n",
      " [1.02e+14 1.32e-30]]\n"
     ]
    },
    {
     "data": {
      "text/plain": [
       "[<matplotlib.lines.Line2D at 0x1feedd3f310>]"
      ]
     },
     "execution_count": 81,
     "metadata": {},
     "output_type": "execute_result"
    }
   ],
   "source": [
    "%matplotlib widget\n",
    "fig, ax = plt.subplots()\n",
    "dataToPlot = []\n",
    "for key in keys[2:]:\n",
    "    temp_data = k_fit_data[key]\n",
    "    k_fit_data[key]['k_fit'] = np.asarray(k_fit_data[key]['k_fit'], dtype=float)\n",
    "    k_fit_data[key]['k_err'] = np.asarray(k_fit_data[key]['k_err'], dtype=float)\n",
    "    numberDensity = float(k_fit_data[key]['numberDensity'])\n",
    "    k31 = k_fit_data[key]['k_fit'][0][0]\n",
    "    print(f\"{key}: {temp_data=}\\n{numberDensity=}\\t{k31=}\")\n",
    "    data = [numberDensity, k31]\n",
    "    dataToPlot.append(data)\n",
    "dataToPlot = np.array(dataToPlot)\n",
    "print(dataToPlot)\n",
    "ax.plot(dataToPlot.T[0], dataToPlot.T[1], \".\")"
   ]
  },
  {
   "cell_type": "code",
   "execution_count": 74,
   "id": "2fef37f3-1c5a-45a8-9839-4801caa4008a",
   "metadata": {},
   "outputs": [
    {
     "data": {
      "text/plain": [
       "array([[1.05e+14, 1.06e+14, 1.03e+14, 1.02e+14],\n",
       "       [1.60e-30, 1.24e-30, 1.24e-30, 1.49e-30]])"
      ]
     },
     "execution_count": 74,
     "metadata": {},
     "output_type": "execute_result"
    }
   ],
   "source": [
    "dataToPlot.T"
   ]
  },
  {
   "cell_type": "code",
   "execution_count": null,
   "id": "620bc4d5-ec9a-4454-8c90-2a369e2628a8",
   "metadata": {},
   "outputs": [],
   "source": []
  },
  {
   "cell_type": "code",
   "execution_count": null,
   "id": "a2a88e6b-6e31-4195-93d5-6d7e652a1276",
   "metadata": {},
   "outputs": [],
   "source": []
  },
  {
   "cell_type": "code",
   "execution_count": null,
   "id": "38d3d87d-2c9e-4ea2-80c7-5985b90ba626",
   "metadata": {},
   "outputs": [],
   "source": []
  }
 ],
 "metadata": {
  "kernelspec": {
   "display_name": "Python 3",
   "language": "python",
   "name": "python3"
  },
  "language_info": {
   "codemirror_mode": {
    "name": "ipython",
    "version": 3
   },
   "file_extension": ".py",
   "mimetype": "text/x-python",
   "name": "python",
   "nbconvert_exporter": "python",
   "pygments_lexer": "ipython3",
   "version": "3.8.8"
  }
 },
 "nbformat": 4,
 "nbformat_minor": 5
}
