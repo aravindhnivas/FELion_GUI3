{
 "cells": [
  {
   "cell_type": "code",
   "execution_count": 15,
   "metadata": {},
   "outputs": [],
   "source": [
    "from pathlib import Path as pt\n",
    "import numpy as np\n",
    "import matplotlib.pyplot as plt"
   ]
  },
  {
   "cell_type": "code",
   "execution_count": 9,
   "metadata": {},
   "outputs": [
    {
     "data": {
      "text/plain": [
       "True"
      ]
     },
     "execution_count": 9,
     "metadata": {},
     "output_type": "execute_result"
    }
   ],
   "source": [
    "filename = pt(\"./22_10_20-1.thz\")\n",
    "filename.exists()"
   ]
  },
  {
   "cell_type": "code",
   "execution_count": 21,
   "metadata": {},
   "outputs": [],
   "source": [
    "data = np.genfromtxt(filename)"
   ]
  },
  {
   "cell_type": "code",
   "execution_count": 23,
   "metadata": {},
   "outputs": [],
   "source": [
    "with open(f\"./{filename.stem}_corrected.thz\", \"w+\") as f:\n",
    "    for line in data:\n",
    "        freq, c0, c1, *_ = line\n",
    "        f.write(f\"{freq:3f}\\t{c0:3f}\\t{c1:3f}\\t\\n\")"
   ]
  },
  {
   "cell_type": "code",
   "execution_count": null,
   "metadata": {},
   "outputs": [],
   "source": [
    "def mhz_wavenumber(freq):\n",
    "    return freq*1e6/(speed_of_light*100)\n",
    "\n",
    "mhz_wn = np.vectorize(mhz_wavenumber)"
   ]
  },
  {
   "cell_type": "code",
   "execution_count": null,
   "metadata": {},
   "outputs": [],
   "source": [
    "from scipy.constants import m_p\n",
    "fwhm = lambda freq, temp, m: np.sqrt( (8*Boltzmann*temp*np.log(2)) / (m*m_p*speed_of_light**2) ) * freq\n",
    "\n",
    "freq = 117.692360 * 1e9\n",
    "fwhm(freq, 5, 28)*1e-3"
   ]
  },
  {
   "cell_type": "code",
   "execution_count": 7,
   "metadata": {},
   "outputs": [
    {
     "data": {
      "text/plain": [
       "True"
      ]
     },
     "execution_count": 7,
     "metadata": {},
     "output_type": "execute_result"
    }
   ],
   "source": [
    "location = pt(r\"./testFiles/measurements_THzScan\")\n",
    "location.exists()"
   ]
  },
  {
   "cell_type": "code",
   "execution_count": 32,
   "metadata": {},
   "outputs": [
    {
     "data": {
      "application/vnd.jupyter.widget-view+json": {
       "model_id": "40c1cd2860d24ab08a0795b2915db14a",
       "version_major": 2,
       "version_minor": 0
      },
      "text/plain": [
       "Canvas(toolbar=Toolbar(toolitems=[('Home', 'Reset original view', 'home', 'home'), ('Back', 'Back to previous …"
      ]
     },
     "metadata": {},
     "output_type": "display_data"
    }
   ],
   "source": [
    "thz_files = list(location.glob(\"*.txt\"))\n",
    "\n",
    "%matplotlib widget\n",
    "fig, ax = plt.subplots(figsize=(12, 7), dpi=100)\n",
    "\n",
    "for f in thz_files:\n",
    "    x, y, *_ = np.genfromtxt(f).T\n",
    "    if x[0]<118:\n",
    "        ax.plot(x, y, \".\", label=f.stem)\n",
    "\n",
    "plt.legend()\n",
    "plt.show()"
   ]
  },
  {
   "cell_type": "code",
   "execution_count": null,
   "metadata": {},
   "outputs": [],
   "source": [
    "N_rates = solve_ivp(computeRateDistributionEquations, tspan, [*N, 0, 0], dense_output=True)\n",
    "\n",
    "%matplotlib widget\n",
    "simulateTime = np.linspace(0, t, 100)\n",
    "simulateCounts = N_rates.sol(simulateTime)\n",
    "\n",
    "fig, ax = plt.subplots(figsize=(7, 4), dpi=100)\n",
    "\n",
    "ax.plot(simulateTime.T*1e-3, simulateCounts.T)\n",
    "ax.plot(simulateTime*1e-3, simulateCounts.sum(axis=0), \"k\")\n",
    "\n",
    "ax.set(yscale=\"log\")"
   ]
  },
  {
   "cell_type": "code",
   "execution_count": null,
   "metadata": {},
   "outputs": [],
   "source": [
    "def showRateDistributionEquations(totallevel, excitedLevel, lightON, includeSpontaneousEmissionForAllLevels, nHe=\"nHe\"):\n",
    "    \n",
    "    fullRateEquation = []\n",
    "    N = [f\"N{i}\" for i in range(totallevel)]\n",
    "    N_He = [f\"{nHe}{i}\" for i in range(2)]\n",
    "    \n",
    "    rateCollection = []\n",
    "    \n",
    "    if lightON:\n",
    "        temp0 = f\"B_{excitedLevel-1}{excitedLevel}\"\n",
    "        temp1 = f\"B_{excitedLevel}{excitedLevel-1}\"\n",
    "\n",
    "        # defined B rate from excited state \n",
    "        B_rate = f\" + {temp0}*{N[excitedLevel-1]} - {temp1}*{N[excitedLevel]} \"\n",
    "    \n",
    "    # For loop for combining different rates processes\n",
    "    for i in range(totallevel):\n",
    "        \n",
    "        # Collisional rate\n",
    "        rateEquationsCombined = []\n",
    "        for j in range(totallevel):\n",
    "            if i!= j: \n",
    "                \n",
    "                key = f\"q_{j}{i}\"\n",
    "                keyInverse = f\"q_{i}{j}\"\n",
    "             \n",
    "                k0 = f\" + {key}*{nHe}*{N[j]} - {keyInverse}*{nHe}*{N[i]}\"\n",
    "                \n",
    "                rateEquationsCombined.append(k0)\n",
    "        \n",
    "        \n",
    "        # END: Collisional rate for loop\n",
    "        \n",
    "        # Einstein Coefficient A\n",
    "        if i == 0:\n",
    "            temp0 = f\"A_10\"\n",
    "            k1 = f\" + {temp0}*{N[1]}\"\n",
    "        \n",
    "        if includeSpontaneousEmissionForAllLevels:\n",
    "            if i == totallevel-1:\n",
    "                temp0 = f\"A_{i}{i-1}\"\n",
    "                k1 = f\" - {temp0}*{N[i]}\"\n",
    "\n",
    "            if i>0 and i<totallevel-1:\n",
    "                temp0 = f\"A_{i}{i-1}\"\n",
    "                temp1 = f\"A_{i+1}{i}\"\n",
    "                k1 = f\" - {temp0}*{N[i]} + {temp1}*{N[i+1]}\"\n",
    "                \n",
    "        elif i == 1:\n",
    "            temp0 = f\"A_10\"\n",
    "            k1 = f\" - {temp0}*{N[1]}\"\n",
    "            \n",
    "        # END: Einstein Coefficient A\n",
    "        \n",
    "        \n",
    "        # Einstein Coefficient B\n",
    "        # NOTE: B rate defined from excited state\n",
    "        \n",
    "        if lightON:\n",
    "            if i==excitedLevel-1:\n",
    "                k1 += f\" - ({B_rate})\"\n",
    "\n",
    "            if i==excitedLevel:\n",
    "                k1 += f\"{B_rate}\"\n",
    "        \n",
    "        # END: Einstein Coefficient B\n",
    "\n",
    "        # Combining all equations into single array\n",
    "        rateEquationsCombined.append(k1)\n",
    "        rateCollection.append(rateEquationsCombined)\n",
    "        \n",
    "    # END: For loop for combining different rates processes\n",
    "    \n",
    "    # Computing all rates\n",
    "    dR_dt = []\n",
    "\n",
    "    for rates in rateCollection:\n",
    "        temp = reduce(lambda a, b: a+b, rates)\n",
    "        dR_dt.append(temp)\n",
    "        \n",
    "    # Adding rare gas atom attachment and dissociation rates\n",
    "    attachmentRate0 = f\" - k31_0*{nHe}**2*{N[0]} + kCID1*{nHe}*{N_He[0]}*p\"\n",
    "    attachmentRate1 = f\" - k31_1*{nHe}**2*{N[1]} + kCID1*{nHe}*{N_He[0]}*(1-p)\"\n",
    "    attachmentRate2 = f\" - k32*{nHe}**2*{N_He[0]} + kCID2*{nHe}*{N_He[1]}\"\n",
    "    \n",
    "    dR_dt[0] += attachmentRate0\n",
    "    dR_dt[1] += attachmentRate1\n",
    "    \n",
    "    # CDHe:\n",
    "    dCDHe_dt = attachmentRate0 + attachmentRate1 + attachmentRate2\n",
    "    dR_dt.append(dCDHe_dt)\n",
    "    \n",
    "    # CDHe2\n",
    "    dCDHe2_dt = f\" - ({attachmentRate2})\"\n",
    "    dR_dt.append(dCDHe2_dt)\n",
    "    \n",
    "    for i, eq in enumerate(dR_dt):\n",
    "        if i>=totallevel:\n",
    "            fullRateEquation.append(f\"NHe{i} = {eq}\")\n",
    "        else:\n",
    "            fullRateEquation.append(f\"N{i} = {eq}\")\n",
    "            \n",
    "    return dR_dt, fullRateEquation\n",
    "\n",
    "\n",
    "conditions = {\n",
    "    \"totallevel\" : totallevel,\n",
    "    \"includeSpontaneousEmissionForAllLevels\" : True,\n",
    "    \"excitedLevel\" : 1,\n",
    "    \"lightON\" : False,\n",
    "    \"nHe\" : \"nHe\"\n",
    "}\n",
    "\n",
    "N, fullRateEquation = showRateDistributionEquations(**conditions)\n",
    "fullRateEquation"
   ]
  },
  {
   "cell_type": "code",
   "execution_count": null,
   "metadata": {},
   "outputs": [],
   "source": [
    "totalLevel = 5\n",
    "q_excitation = []\n",
    "def get_level_qRate(totallevel=6, samelevelExistInFile=True):\n",
    "    q_rate_deexcitation = []\n",
    "    counter = 0\n",
    "    for n in range(1, totallevel):\n",
    "        for _temp in range(n+1):\n",
    "            if _temp != n: \n",
    "                q_rate_deexcitation.append(f\"{n}{_temp}\")\n",
    "                if not samelevelExistInFile: counter += 1\n",
    "            if samelevelExistInFile: counter += 1\n",
    "    \n",
    "    return q_rate_deexcitation"
   ]
  },
  {
   "cell_type": "code",
   "execution_count": null,
   "metadata": {},
   "outputs": [],
   "source": []
  },
  {
   "cell_type": "code",
   "execution_count": null,
   "metadata": {},
   "outputs": [],
   "source": []
  },
  {
   "cell_type": "code",
   "execution_count": null,
   "metadata": {},
   "outputs": [],
   "source": []
  }
 ],
 "metadata": {
  "kernelspec": {
   "display_name": "Python 3",
   "language": "python",
   "name": "python3"
  },
  "language_info": {
   "codemirror_mode": {
    "name": "ipython",
    "version": 3
   },
   "file_extension": ".py",
   "mimetype": "text/x-python",
   "name": "python",
   "nbconvert_exporter": "python",
   "pygments_lexer": "ipython3",
   "version": "3.8.3"
  }
 },
 "nbformat": 4,
 "nbformat_minor": 4
}
