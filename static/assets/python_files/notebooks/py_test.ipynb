{
 "cells": [
  {
   "cell_type": "code",
   "execution_count": 1,
   "metadata": {},
   "outputs": [],
   "source": [
    "import numpy as np"
   ]
  },
  {
   "cell_type": "code",
   "execution_count": 2,
   "metadata": {},
   "outputs": [
    {
     "name": "stdout",
     "output_type": "stream",
     "text": [
      "N=[0, 1, 2]\n",
      "J=[[0.5], [1.5, 0.5], [2.5, 1.5]]\n",
      "mJ=[[[-0.5, 0.5]], [[-1.5, -0.5, 0.5, 1.5], [-0.5, 0.5]], [[-2.5, -1.5, -0.5, 0.5, 1.5, 2.5], [-1.5, -0.5, 0.5, 1.5]]]\n",
      "energy_level_info=[[[-0.5, 0.5]], [[-1.5, -0.5, 0.5, 1.5], [-0.5, 0.5]], [[-2.5, -1.5, -0.5, 0.5, 1.5, 2.5], [-1.5, -0.5, 0.5, 1.5]]]\n"
     ]
    }
   ],
   "source": [
    "total_level = 3\n",
    "spin = True\n",
    "zeeman = True\n",
    "\n",
    "energy_level_info = {\"spin\":spin, \"zeeman\":zeeman}\n",
    "\n",
    "N = [i for i in range(total_level)]\n",
    "\n",
    "print(f\"{N=:}\")\n",
    "\n",
    "if spin:\n",
    "    J = total_level*[0]\n",
    "    for level in N:\n",
    "        if level == 0: J[level] = [level+0.5]\n",
    "        else: J[level] = [level+0.5, level-0.5]\n",
    "\n",
    "    print(f\"{J=:}\")\n",
    "\n",
    "\n",
    "if zeeman:\n",
    "    \n",
    "    if spin:\n",
    "        mJ = total_level*[0]\n",
    "        for index, level in enumerate(J):\n",
    "        \n",
    "            current_level = []\n",
    "            for j in level:\n",
    "                total_mJ = int(2*j + 1)\n",
    "                temp = np.linspace(-j, j, total_mJ).tolist()\n",
    "                current_level.append(temp)\n",
    "            mJ[index] = current_level\n",
    "        print(f\"{mJ=:}\")\n",
    "    else:\n",
    "        mN = total_level*[0]\n",
    "        for index, level in enumerate(N):\n",
    "            total_mJ = int(2*level + 1)\n",
    "            mN[index] = np.linspace(-level, level, total_mJ, dtype=int).tolist()\n",
    "            \n",
    "        print(f\"{mN=:}\")\n",
    "\n",
    "energy_level_info = None\n",
    "if spin and not zeeman: energy_level_info = J\n",
    "elif spin and zeeman: energy_level_info = mJ\n",
    "elif not spin and zeeman: energy_level_info = mN\n",
    "else: energy_level_info = N\n",
    "print(f\"{energy_level_info=:}\")"
   ]
  },
  {
   "cell_type": "code",
   "execution_count": 3,
   "metadata": {},
   "outputs": [
    {
     "name": "stdout",
     "output_type": "stream",
     "text": [
      "Level: 0 \n",
      "----\n",
      "0 [[-0.5, 0.5]]\n",
      "0 0 [-0.5, 0.5]\n",
      "0 0 0 -0.5\n",
      "0 0 1 0.5\n",
      "----\n",
      "Level: 1 \n",
      "----\n",
      "1 [[-1.5, -0.5, 0.5, 1.5], [-0.5, 0.5]]\n",
      "1 0 [-1.5, -0.5, 0.5, 1.5]\n",
      "1 0 0 -1.5\n",
      "1 0 1 -0.5\n",
      "1 0 2 0.5\n",
      "1 0 3 1.5\n",
      "1 1 [-0.5, 0.5]\n",
      "1 1 0 -0.5\n",
      "1 1 1 0.5\n",
      "----\n",
      "Level: 2 \n",
      "----\n",
      "2 [[-2.5, -1.5, -0.5, 0.5, 1.5, 2.5], [-1.5, -0.5, 0.5, 1.5]]\n",
      "2 0 [-2.5, -1.5, -0.5, 0.5, 1.5, 2.5]\n",
      "2 0 0 -2.5\n",
      "2 0 1 -1.5\n",
      "2 0 2 -0.5\n",
      "2 0 3 0.5\n",
      "2 0 4 1.5\n",
      "2 0 5 2.5\n",
      "2 1 [-1.5, -0.5, 0.5, 1.5]\n",
      "2 1 0 -1.5\n",
      "2 1 1 -0.5\n",
      "2 1 2 0.5\n",
      "2 1 3 1.5\n",
      "----\n"
     ]
    }
   ],
   "source": [
    "for index_0, level_0 in enumerate(mJ):\n",
    "    print(\"Level:\", index_0, \"\\n----\")\n",
    "    print(index_0, mJ[index_0])\n",
    "    for index_1, level_1 in enumerate(level_0):\n",
    "        print(index_0, index_1, mJ[index_0][index_1])\n",
    "        for index_2, level_2 in enumerate(level_1):\n",
    "            print(index_0, index_1, index_2, mJ[index_0][index_1][index_2])\n",
    "    print(\"----\")"
   ]
  },
  {
   "cell_type": "code",
   "execution_count": null,
   "metadata": {},
   "outputs": [],
   "source": []
  },
  {
   "cell_type": "code",
   "execution_count": null,
   "metadata": {},
   "outputs": [],
   "source": []
  },
  {
   "cell_type": "code",
   "execution_count": null,
   "metadata": {},
   "outputs": [],
   "source": []
  },
  {
   "cell_type": "code",
   "execution_count": null,
   "metadata": {},
   "outputs": [],
   "source": []
  }
 ],
 "metadata": {
  "kernelspec": {
   "display_name": "Python 3",
   "language": "python",
   "name": "python3"
  },
  "language_info": {
   "codemirror_mode": {
    "name": "ipython",
    "version": 3
   },
   "file_extension": ".py",
   "mimetype": "text/x-python",
   "name": "python",
   "nbconvert_exporter": "python",
   "pygments_lexer": "ipython3",
   "version": "3.8.3"
  }
 },
 "nbformat": 4,
 "nbformat_minor": 4
}
