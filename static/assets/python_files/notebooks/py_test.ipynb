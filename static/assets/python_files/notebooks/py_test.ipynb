{
 "cells": [
  {
   "cell_type": "code",
   "execution_count": 30,
   "metadata": {},
   "outputs": [],
   "source": [
    "import numpy as np\n",
    "\n",
    "def get_energy_levels(total_level=3):\n",
    "\n",
    "    N = [i for i in range(total_level)]\n",
    "    J = []\n",
    "    mJ = []\n",
    "    mN = []\n",
    "    \n",
    "    print(f\"{N=:}\")\n",
    "\n",
    "    if spin:\n",
    "        J = total_level*[0]\n",
    "        for level in N:\n",
    "            if level == 0: J[level] = [level+0.5]\n",
    "            else: J[level] = [level+0.5, level-0.5]\n",
    "\n",
    "        print(f\"{J=:}\")\n",
    "\n",
    "\n",
    "    if zeeman:\n",
    "\n",
    "        if spin:\n",
    "            mJ = total_level*[0]\n",
    "            for index, level in enumerate(J):\n",
    "\n",
    "                current_level = []\n",
    "                for j in level:\n",
    "                    total_mJ = int(2*j + 1)\n",
    "                    temp = np.linspace(-j, j, total_mJ).tolist()\n",
    "                    current_level.append(temp)\n",
    "                mJ[index] = current_level\n",
    "            print(f\"{mJ=:}\")\n",
    "        else:\n",
    "            mN = total_level*[0]\n",
    "            for index, level in enumerate(N):\n",
    "                total_mJ = int(2*level + 1)\n",
    "                mN[index] = np.linspace(-level, level, total_mJ, dtype=int).tolist()\n",
    "\n",
    "            print(f\"{mN=:}\")\n",
    "\n",
    "    energy_level_info = None\n",
    "    if spin and zeeman: energy_level_info = mJ\n",
    "    elif spin and not zeeman: energy_level_info = J\n",
    "    elif not spin and zeeman: energy_level_info = mN\n",
    "    else: energy_level_info = N\n",
    "    print(f\"{energy_level_info=:}\")\n",
    "    \n",
    "    return energy_level_info, N, J"
   ]
  },
  {
   "cell_type": "code",
   "execution_count": 41,
   "metadata": {},
   "outputs": [
    {
     "name": "stdout",
     "output_type": "stream",
     "text": [
      "N=[0, 1, 2]\n",
      "J=[[0.5], [1.5, 0.5], [2.5, 1.5]]\n",
      "energy_level_info=[[0.5], [1.5, 0.5], [2.5, 1.5]]\n",
      "###############################################################\n",
      "\n",
      "Current N: 1 splitted into J: [1.5, 0.5]\n",
      "-------\n",
      "\n",
      "ground_levels=[0.5]\n",
      "\n",
      "\n",
      "total_transition=1\n",
      "==========================================\n",
      "\n",
      "ground_levels=[0.5]\n",
      "\n",
      "\n",
      "total_transition=1\n",
      "==========================================\n",
      "\n",
      "###############################################################\n",
      "\n",
      "Current N: 2 splitted into J: [2.5, 1.5]\n",
      "-------\n",
      "\n",
      "ground_levels=[1.5, 0.5]\n",
      "\n",
      "\n",
      "total_transition=1\n",
      "==========================================\n",
      "\n",
      "ground_levels=[1.5, 0.5]\n",
      "\n",
      "\n",
      "\n",
      "total_transition=2\n",
      "==========================================\n",
      "\n"
     ]
    },
    {
     "data": {
      "text/plain": [
       "(['1_1.5 --> 0_0.5',\n",
       "  '1_0.5 --> 0_0.5',\n",
       "  '2_2.5 --> 1_1.5',\n",
       "  '2_1.5 --> 1_1.5',\n",
       "  '2_1.5 --> 1_0.5'],\n",
       " [],\n",
       " [])"
      ]
     },
     "execution_count": 41,
     "metadata": {},
     "output_type": "execute_result"
    }
   ],
   "source": [
    "\n",
    "def get_energy_labels(energy_level_info, N, J):\n",
    "    \n",
    "    transition_labels = []\n",
    "    transition_labels_J0 = []\n",
    "    transition_labels_J1 = []\n",
    "    \n",
    "    total_transition = 0\n",
    "    for index_N, current_N in enumerate(energy_level_info):\n",
    "\n",
    "        if index_N>0:\n",
    "\n",
    "            \n",
    "            ground_levels = energy_level_info[index_N-1]\n",
    "            \n",
    "            if not spin and not zeeman:\n",
    "                temp_transition_labels = f\"{current_N} --> {ground_levels}\"\n",
    "                transition_labels.append(temp_transition_labels)\n",
    "                total_transition += 1\n",
    "                    \n",
    "            if spin:\n",
    "                \n",
    "                print(\"###############################################################\\n\")\n",
    "                print(f\"Current N: {N[index_N]} splitted into J: {J[index_N]}\")\n",
    "                print(\"-------\\n\")\n",
    "\n",
    "                for index_J, current_J in enumerate(current_N):\n",
    "\n",
    "                    total_transition = 0\n",
    "                    \n",
    "                    if zeeman:\n",
    "                        total_transition_J1 = 0\n",
    "                        total_transition_J0 = 0\n",
    "                        print(f\"Current J: {index_N}_{max(current_J)} splitted into mJ: {current_J}\")\n",
    "                        print(f\"each mJ {current_J} in {index_N} level will undergo transition with {ground_levels=:}\")\n",
    "                        print(f\"Selection rule: del_M = 0, 1, -1\\n\")\n",
    "\n",
    "                        temp_transition_labels = []\n",
    "                        temp_transition_labels_J0 = []\n",
    "                        temp_transition_labels_J1 = []\n",
    "                        \n",
    "                        for index_mJ, current_mJ in enumerate(current_J):\n",
    "\n",
    "                            current_mJ_label = f\"{index_N}_{max(current_J)}__{current_mJ}\"\n",
    "                            print(f\"\\n==={current_mJ_label=:}===\")\n",
    "\n",
    "                            for index_ground_J, ground_J in enumerate(ground_levels):\n",
    "\n",
    "                                if index_N>1: print(f\"\\nFor {ground_J=:}\")\n",
    "                                for ground_mJ in ground_J:\n",
    "\n",
    "                                    del_M = current_mJ-ground_mJ\n",
    "\n",
    "                                    if del_M==0 or del_M==1 or del_M==-1:\n",
    "\n",
    "                                        ground_mJ_label = f\"{index_N-1}_{max(ground_J)}__{ground_mJ}\"\n",
    "\n",
    "                                        current_transition_label = f\"{current_mJ_label} --> {ground_mJ_label}\"\n",
    "                                        temp_transition_labels.append(current_transition_label)\n",
    "                                        print(f\"{current_transition_label=:}\")\n",
    "\n",
    "                                        total_transition += 1\n",
    "\n",
    "                                        if index_ground_J == 0: \n",
    "                                            total_transition_J1 += 1\n",
    "                                            temp_transition_labels_J1.append(current_transition_label)\n",
    "\n",
    "                                        else: \n",
    "                                            total_transition_J0 += 1\n",
    "                                            temp_transition_labels_J0.append(current_transition_label)\n",
    "\n",
    "                                if index_N>1: print(f\"-.-.-.-.-.-.-.-.-.-.\\n\")\n",
    "\n",
    "                            if index_N>1: print(f\"===Close current mJ===\\n\")\n",
    "                    \n",
    "                        transition_labels.append(temp_transition_labels)\n",
    "                        transition_labels_J0.append(temp_transition_labels_J0)\n",
    "                        transition_labels_J1.append(temp_transition_labels_J1)\n",
    "\n",
    "                        if index_N>1:\n",
    "                            print(f\"{total_transition_J0=:} for {index_N}_{max(current_J)} --> {index_N-1}_{max(ground_levels[1])}\")\n",
    "                            print(f\"{total_transition_J1=:} for {index_N}_{max(current_J)} --> {index_N-1}_{max(ground_levels[0])}\")\n",
    "                        \n",
    "                    else:\n",
    "                        print(f\"{ground_levels=:}\")\n",
    "                        for ground_J in ground_levels:\n",
    "\n",
    "                            del_J = current_J-ground_J\n",
    "                            if del_J==0 or del_J==1 or del_J==-1:\n",
    "                                \n",
    "                                temp_transition_labels = f\"{index_N}_{current_J} --> {index_N-1}_{ground_J}\"\n",
    "                                transition_labels.append(temp_transition_labels)\n",
    "                                print()\n",
    "                                total_transition += 1\n",
    "\n",
    "                    print(f\"\\n{total_transition=:}\")\n",
    "                    print(\"==========================================\\n\")\n",
    "                    \n",
    "    return transition_labels, transition_labels_J0, transition_labels_J1\n",
    "\n",
    "spin=True\n",
    "zeeman=False\n",
    "energy_level_info, N, J = get_energy_levels()\n",
    "transition_labels = get_energy_labels(energy_level_info, N, J)\n",
    "transition_labels"
   ]
  },
  {
   "cell_type": "code",
   "execution_count": null,
   "metadata": {},
   "outputs": [],
   "source": []
  },
  {
   "cell_type": "code",
   "execution_count": 45,
   "metadata": {},
   "outputs": [
    {
     "name": "stdout",
     "output_type": "stream",
     "text": [
      "current_N=[1.5, 0.5]\tground_levels=[0.5]\n",
      "current_J=1.5\n",
      "del_J=1.0\n",
      "current_J=0.5\n",
      "del_J=0.0\n",
      "\n",
      "===========\n",
      "current_N=[2.5, 1.5]\tground_levels=[1.5, 0.5]\n",
      "current_J=2.5\n",
      "del_J=1.0\n",
      "current_J=1.5\n",
      "del_J=0.0\n",
      "del_J=1.0\n",
      "\n",
      "===========\n"
     ]
    }
   ],
   "source": [
    "for index_N, current_N in enumerate(energy_level_info):\n",
    "    \n",
    "    if index_N>0:\n",
    "        ground_levels = energy_level_info[index_N-1]\n",
    "        print(f\"{current_N=:}\\t{ground_levels=:}\")\n",
    "        for index_J, current_J in enumerate(current_N):\n",
    "            print(f\"{current_J=:}\")\n",
    "            for index_ground, ground_state in enumerate(ground_levels):\n",
    "                del_J = current_J - ground_state\n",
    "                if del_J==0 or del_J==1 or del_J==-1:\n",
    "                    print(f\"{del_J=:}\")\n",
    "\n",
    "        print(f\"\\n===========\")"
   ]
  },
  {
   "cell_type": "code",
   "execution_count": 9,
   "metadata": {},
   "outputs": [
    {
     "output_type": "stream",
     "name": "stdout",
     "text": [
      "temp=['1', '2']\n"
     ]
    }
   ],
   "source": [
    "energy  = {\"1\":0, \"2\":0}\n",
    "temp = list(energy.keys())\n",
    "print(f\"{temp=}\")"
   ]
  },
  {
   "cell_type": "code",
   "execution_count": 36,
   "metadata": {},
   "outputs": [],
   "source": [
    "import numpy as np"
   ]
  },
  {
   "cell_type": "code",
   "execution_count": 16,
   "metadata": {},
   "outputs": [],
   "source": []
  },
  {
   "cell_type": "code",
   "execution_count": 51,
   "metadata": {},
   "outputs": [
    {
     "output_type": "execute_result",
     "data": {
      "text/plain": [
       "1.25"
      ]
     },
     "metadata": {},
     "execution_count": 51
    }
   ],
   "source": []
  },
  {
   "cell_type": "code",
   "execution_count": 41,
   "metadata": {},
   "outputs": [
    {
     "output_type": "stream",
     "name": "stdout",
     "text": [
      "scale=[3.4999999999999996, 0.14285714285714288]\n"
     ]
    }
   ],
   "source": []
  },
  {
   "cell_type": "code",
   "execution_count": 81,
   "metadata": {},
   "outputs": [
    {
     "output_type": "stream",
     "name": "stdout",
     "text": [
      "scale=[3.4999999999999996, 0.14285714285714288]\nnew_N2=array([0.56428571, 0.35      , 0.08571429])\nnew_N2.sum()=0.9999999999999999\n0.7999999999999999\n(N[1]/N[0])=3.4999999999999996\n(new_N2[1]/new_N2[0])=0.6202531645569619\n"
     ]
    }
   ],
   "source": [
    "N = [0.2, 0.7, 0.1]\n",
    "N2 = [0.1, 0.6, 0.1]\n",
    "\n",
    "scale = []\n",
    "for i in range(1, len(N)):\n",
    "    _scale = N[i]/N[i-1]\n",
    "    scale.append(_scale)\n",
    "print(f\"{scale=}\")\n",
    "\n",
    "new_N2 = []\n",
    "norm_N2 = (1/np.sum(N2))*np.array(N2)\n",
    "for i, s in enumerate(scale):\n",
    "    current_scale = norm_N2[i+1]/norm_N2[i]\n",
    "    new_scale = s/current_scale\n",
    "    _ = N2[i+1]*new_scale\n",
    "    new_N2.append(_)\n",
    "\n",
    "first_element = 1 - np.sum(new_N2)\n",
    "new_N2.insert(0, first_element)\n",
    "new_N2 = np.array(new_N2)\n",
    "# norm_new = np.sum(N2)/np.sum(new_N2)\n",
    "# new_N2 *= norm_new\n",
    "\n",
    "print(f\"{new_N2=}\\n{new_N2.sum()=}\\n{np.sum(N2)}\")\n",
    "\n",
    "print(f\"{(N[1]/N[0])=}\")\n",
    "print(f\"{(new_N2[1]/new_N2[0])=}\")"
   ]
  },
  {
   "cell_type": "code",
   "execution_count": 151,
   "metadata": {},
   "outputs": [
    {
     "output_type": "stream",
     "name": "stdout",
     "text": [
      "total=0.7999999999999999\nnew_N2=array([0.24, 0.48, 0.08])\nnew_N2.sum()=0.7999999999999998\n"
     ]
    },
    {
     "output_type": "execute_result",
     "data": {
      "text/plain": [
       "(2.0, 2.0)"
      ]
     },
     "metadata": {},
     "execution_count": 151
    }
   ],
   "source": [
    "N = np.array([0.3, 0.6, 0.1])\n",
    "N2 = np.array([0.1, 0.6, 0.1])\n",
    "\n",
    "total = N2.sum()\n",
    "print(f\"{total=}\")\n",
    "new_N2 = N*total\n",
    "print(f\"{new_N2=}\\n{new_N2.sum()=}\")\n",
    "\n",
    "i = 1\n",
    "new_N2[i]/new_N2[i-1], N[i]/N[i-1]"
   ]
  },
  {
   "cell_type": "code",
   "execution_count": 180,
   "metadata": {},
   "outputs": [
    {
     "output_type": "execute_result",
     "data": {
      "text/plain": [
       "True"
      ]
     },
     "metadata": {},
     "execution_count": 180
    }
   ],
   "source": [
    "\"1_0.5__0.5\"<\"1_0.5__1.5\""
   ]
  },
  {
   "cell_type": "code",
   "execution_count": 186,
   "metadata": {},
   "outputs": [
    {
     "output_type": "execute_result",
     "data": {
      "text/plain": [
       "[0, 1, 2, 3, [1, 2, 3]]"
      ]
     },
     "metadata": {},
     "execution_count": 186
    }
   ],
   "source": [
    "temp = [1, 2, 3]\n",
    "test = [0]\n",
    "test2 = test + temp\n",
    "test2.append(temp)\n",
    "test2"
   ]
  },
  {
   "cell_type": "code",
   "execution_count": 209,
   "metadata": {},
   "outputs": [
    {
     "output_type": "execute_result",
     "data": {
      "text/plain": [
       "[1, 2, 3, 5, 4, -1]"
      ]
     },
     "metadata": {},
     "execution_count": 209
    }
   ],
   "source": [
    "temp = [1, 2, 3, 5, 4]\n",
    "temp.append(-temp[0])\n",
    "temp"
   ]
  },
  {
   "cell_type": "code",
   "execution_count": 205,
   "metadata": {},
   "outputs": [
    {
     "output_type": "execute_result",
     "data": {
      "text/plain": [
       "[5, 3, 1]"
      ]
     },
     "metadata": {},
     "execution_count": 205
    }
   ],
   "source": []
  },
  {
   "cell_type": "code",
   "execution_count": null,
   "metadata": {},
   "outputs": [],
   "source": []
  }
 ],
 "metadata": {
  "kernelspec": {
   "name": "python383jvsc74a57bd05169fa4ceccb8898af6539985de99c31ec80f328ecf0dcc120c0b962b90dfe51",
   "display_name": "Python 3.8.3 64-bit ('base': conda)"
  },
  "language_info": {
   "codemirror_mode": {
    "name": "ipython",
    "version": 3
   },
   "file_extension": ".py",
   "mimetype": "text/x-python",
   "name": "python",
   "nbconvert_exporter": "python",
   "pygments_lexer": "ipython3",
   "version": "3.8.3"
  }
 },
 "nbformat": 4,
 "nbformat_minor": 4
}